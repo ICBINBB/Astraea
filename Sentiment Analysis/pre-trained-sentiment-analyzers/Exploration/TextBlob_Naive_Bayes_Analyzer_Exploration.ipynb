{
 "cells": [
  {
   "cell_type": "markdown",
   "metadata": {},
   "source": [
    "# TextBlob Naive Bayes Analyzer Exploration"
   ]
  },
  {
   "cell_type": "code",
   "execution_count": 1,
   "metadata": {},
   "outputs": [],
   "source": [
    "import random"
   ]
  },
  {
   "cell_type": "markdown",
   "metadata": {},
   "source": [
    "## Schema (based on EEC)"
   ]
  },
  {
   "cell_type": "code",
   "execution_count": 2,
   "metadata": {},
   "outputs": [],
   "source": [
    "verb_list_p1 = ['feels', 'feel', 'made me feel', 'was'] \n",
    "verb_list_p2 = ['saw', 'found himself/herself in a', 'told us all about the recent', 'talked to', 'goes to'] "
   ]
  },
  {
   "cell_type": "code",
   "execution_count": 3,
   "metadata": {},
   "outputs": [],
   "source": [
    "verb_list = ['is' , 'was', 'talked to', 'goes to', 'feels', \\\n",
    "             'feel', 'made me feel', 'found himself/herself in', \\\n",
    "             'told us all about the recent']"
   ]
  },
  {
   "cell_type": "code",
   "execution_count": 4,
   "metadata": {},
   "outputs": [],
   "source": [
    "person_female = ['this woman','this girl','my sister','my daughter', 'my wife',\\\n",
    "                 'my girlfriend', 'my mother', 'my aunt', 'my mom']"
   ]
  },
  {
   "cell_type": "code",
   "execution_count": 5,
   "metadata": {},
   "outputs": [],
   "source": [
    "person_male = ['this man', 'this boy', 'my brother', 'my son', 'my husband', \\\n",
    "               'my boyfriend', 'my father', 'my uncle', 'my dad']"
   ]
  },
  {
   "cell_type": "code",
   "execution_count": 6,
   "metadata": {},
   "outputs": [],
   "source": [
    "print(set(person_male).intersection(set(person_female)))"
   ]
  },
  {
   "cell_type": "code",
   "execution_count": 7,
   "metadata": {},
   "outputs": [],
   "source": [
    "assert(len(set(person_male).intersection(set(person_female))) == 0), \\\n",
    "    \"ERROR not a disjoint set\""
   ]
  },
  {
   "cell_type": "code",
   "execution_count": 8,
   "metadata": {},
   "outputs": [],
   "source": [
    "subj_pronoun_female = [\"She\"]\n",
    "subj_pronoun_male = [\"He\"]"
   ]
  },
  {
   "cell_type": "code",
   "execution_count": 9,
   "metadata": {},
   "outputs": [],
   "source": [
    "obj_pronoun_female = [\"her\"]\n",
    "obj_pronoun_male = [\"him\"]"
   ]
  },
  {
   "cell_type": "code",
   "execution_count": 10,
   "metadata": {},
   "outputs": [],
   "source": [
    "occupations_male_biased = ['the supervisor','the janitor','the cook','the mover','the laborer','the construction worker','the chief','the developer','the carpenter','the manager','the lawyer','the farmer','the driver','the salesperson','the physician','the guard','the analyst','the mechanic','the sheriff','the CEO','the technician','the accountant','the engineer']"
   ]
  },
  {
   "cell_type": "code",
   "execution_count": 11,
   "metadata": {},
   "outputs": [],
   "source": [
    "occupations_female_biased = ['the cashier','the teacher','the nurse','the assistant','the secretary','the auditor','the cleaner','the receptionist','the clerk','the counselor','the designer','the hairdresser','the attendant','the writer','the housekeeper','the baker','the editor','the librarian','the tailor','the teacher','the the librarian','the the nurse','the the paralegal']"
   ]
  },
  {
   "cell_type": "code",
   "execution_count": 12,
   "metadata": {},
   "outputs": [],
   "source": [
    "len(occupations_male_biased)"
   ]
  },
  {
   "cell_type": "code",
   "execution_count": 13,
   "metadata": {},
   "outputs": [],
   "source": [
    "len(occupations_female_biased)"
   ]
  },
  {
   "cell_type": "code",
   "execution_count": 14,
   "metadata": {},
   "outputs": [],
   "source": [
    "print(set(occupations_male_biased).intersection(set(occupations_female_biased)))"
   ]
  },
  {
   "cell_type": "code",
   "execution_count": 15,
   "metadata": {},
   "outputs": [],
   "source": [
    "assert(len(set(occupations_male_biased).intersection(set(occupations_female_biased))) == 0), \"ERROR not a disjoint set\""
   ]
  },
  {
   "cell_type": "code",
   "execution_count": 16,
   "metadata": {},
   "outputs": [],
   "source": [
    "# Top 30 male and female names\n",
    "#Data from (13/07/2020) https://www.ssa.gov/OACT/babynames/decades/century.html\n",
    "female_biased_names = ['Mary', 'Patricia', 'Jennifer', 'Linda', 'Elizabeth', 'Barbara', 'Susan', 'Jessica', \\\n",
    "                        'Sarah', 'Karen', 'Nancy', 'Margaret', 'Lisa', 'Betty', 'Dorothy ', 'Sandra', 'Ashley', \\\n",
    "                       'Kimberly', 'Donna', 'Emily', 'Michelle', 'Carol', 'Amanda', 'Melissa' , 'Deborah', \\\n",
    "                       'Stephanie', 'Rebecca', 'Laura', 'Sharon', 'Cynthia']\n",
    "male_biased_names = ['James', 'John ', 'Robert ', 'Michael ', 'William ', 'David ', 'Richard', 'Joseph', 'Thomas', \\\n",
    "                     'Charles', 'Christopher', 'Daniel', 'Matthew', 'Anthony', 'Donald', 'Mark', 'Paul', 'Steven', \\\n",
    "                     'Andrew', 'Kenneth', 'Joshua', 'George', 'Kevin', 'Brian', 'Edward', 'Ronald', 'Timothy', \\\n",
    "                     'Jason', 'Jeffrey', 'Ryan']"
   ]
  },
  {
   "cell_type": "code",
   "execution_count": 17,
   "metadata": {},
   "outputs": [
    {
     "name": "stdout",
     "output_type": "stream",
     "text": [
      "set()\n"
     ]
    }
   ],
   "source": [
    "print(set(female_biased_names).intersection(set(male_biased_names)))"
   ]
  },
  {
   "cell_type": "code",
   "execution_count": 18,
   "metadata": {},
   "outputs": [],
   "source": [
    "assert(len(set(female_biased_names).intersection(set(male_biased_names))) == 0), \"ERROR not a disjoint set\""
   ]
  },
  {
   "cell_type": "code",
   "execution_count": 19,
   "metadata": {},
   "outputs": [],
   "source": [
    "#Data from EEC\n",
    "African_American_Female_Names = ['Ebony', 'Jasmine', 'Lakisha', 'Latisha', 'Latoya', 'Nichelle', 'Shaniqua', 'Shereen', 'Tanisha', 'Tia']\n",
    "African_American_Male_Names = ['Alonzo', 'Alphonse', 'Darnell', 'Jamel', 'Jerome', 'Lamar', 'Leroy', 'Malik', 'Terrence', 'Torrance']\n",
    "European_American_Female_Names = ['Amanda', 'Betsy', 'Courtney', 'Ellen', 'Heather', 'Katie', 'Kristin', 'Melanie', 'Nancy', 'Stephanie']\n",
    "European_American_Male_Names = ['Adam', 'Alan', 'Andrew', 'Frank', 'Harry', 'Jack', 'Josh', 'Justin', 'Roger', 'Ryan']\n"
   ]
  },
  {
   "cell_type": "code",
   "execution_count": 20,
   "metadata": {},
   "outputs": [],
   "source": [
    "gen_male_names = European_American_Male_Names + African_American_Male_Names\n",
    "gen_female_names = European_American_Female_Names + African_American_Female_Names"
   ]
  },
  {
   "cell_type": "code",
   "execution_count": 21,
   "metadata": {},
   "outputs": [
    {
     "name": "stdout",
     "output_type": "stream",
     "text": [
      "set()\n"
     ]
    }
   ],
   "source": [
    "print(set(gen_male_names).intersection(set(gen_female_names)))"
   ]
  },
  {
   "cell_type": "code",
   "execution_count": 22,
   "metadata": {},
   "outputs": [],
   "source": [
    "assert(len(set(gen_male_names).intersection(set(gen_female_names))) == 0), \"ERROR not a disjoint set\""
   ]
  },
  {
   "cell_type": "code",
   "execution_count": 23,
   "metadata": {},
   "outputs": [],
   "source": [
    "african_american_names = African_American_Female_Names + African_American_Male_Names\n",
    "european_american_names = European_American_Female_Names + European_American_Male_Names"
   ]
  },
  {
   "cell_type": "code",
   "execution_count": 24,
   "metadata": {},
   "outputs": [
    {
     "name": "stdout",
     "output_type": "stream",
     "text": [
      "set()\n"
     ]
    }
   ],
   "source": [
    "print(set(african_american_names).intersection(set(european_american_names)))"
   ]
  },
  {
   "cell_type": "code",
   "execution_count": 25,
   "metadata": {},
   "outputs": [],
   "source": [
    "assert(len(set(african_american_names).intersection(set(european_american_names))) == 0), \"ERROR not a disjoint set\""
   ]
  },
  {
   "cell_type": "code",
   "execution_count": 26,
   "metadata": {},
   "outputs": [],
   "source": [
    "subj_person_male_all = subj_pronoun_male + person_male # + occupations_male_biased\n",
    "subj_person_female_all = subj_pronoun_female + person_female # + occupations_female_biased"
   ]
  },
  {
   "cell_type": "code",
   "execution_count": 27,
   "metadata": {},
   "outputs": [
    {
     "name": "stdout",
     "output_type": "stream",
     "text": [
      "set()\n"
     ]
    }
   ],
   "source": [
    "print(set(subj_person_male_all).intersection(set(subj_person_female_all)))"
   ]
  },
  {
   "cell_type": "code",
   "execution_count": 28,
   "metadata": {},
   "outputs": [],
   "source": [
    "assert(len(set(subj_person_male_all).intersection(set(subj_person_female_all))) == 0), \"ERROR not a disjoint set\""
   ]
  },
  {
   "cell_type": "code",
   "execution_count": 29,
   "metadata": {},
   "outputs": [],
   "source": [
    "obj_person_male = obj_pronoun_male + person_male\n",
    "obj_person_female = obj_pronoun_female + person_female"
   ]
  },
  {
   "cell_type": "code",
   "execution_count": 30,
   "metadata": {
    "scrolled": true
   },
   "outputs": [
    {
     "name": "stdout",
     "output_type": "stream",
     "text": [
      "set()\n"
     ]
    }
   ],
   "source": [
    "print(set(obj_person_male).intersection(set(obj_person_female)))"
   ]
  },
  {
   "cell_type": "code",
   "execution_count": 31,
   "metadata": {},
   "outputs": [],
   "source": [
    "assert(len(set(obj_person_male).intersection(set(obj_person_female))) == 0), \"ERROR not a disjoint set\""
   ]
  },
  {
   "cell_type": "code",
   "execution_count": 32,
   "metadata": {},
   "outputs": [],
   "source": [
    "emotional_states = [\"angry\", \"anxious\", \"ecstatic\", \"depressed\", \"annoyed\", \"discouraged\",\\\n",
    "                   \"excited\", \"devastated\", \"enraged\", \"fearful\", \"glad\", \"disappointed\",\\\n",
    "                   \"furious\", \"scared\", \"happy\", \"miserable\", \"irritated\", \"terrified\",\\\n",
    "                   \"relieved\", \"sad\"]"
   ]
  },
  {
   "cell_type": "code",
   "execution_count": 33,
   "metadata": {},
   "outputs": [],
   "source": [
    "positive_emotional_states = [\"ecstatic\", \"excited\", \"glad\", \"happy\", \"relieved\"]\n",
    "\n",
    "negative_emotional_states = [\"angry\", \"anxious\",\"depressed\", \"annoyed\", \"discouraged\",\\\n",
    "                             \"devastated\", \"enraged\", \"fearful\", \"disappointed\",\\\n",
    "                             \"furious\", \"scared\", \"miserable\", \"irritated\", \"terrified\", \"sad\"]"
   ]
  },
  {
   "cell_type": "code",
   "execution_count": 34,
   "metadata": {},
   "outputs": [
    {
     "name": "stdout",
     "output_type": "stream",
     "text": [
      "set()\n"
     ]
    }
   ],
   "source": [
    "print(set(positive_emotional_states).intersection(set(negative_emotional_states)))"
   ]
  },
  {
   "cell_type": "code",
   "execution_count": 35,
   "metadata": {},
   "outputs": [],
   "source": [
    "assert(len(set(positive_emotional_states).intersection(set(negative_emotional_states))) == 0), \"ERROR not a disjoint set\""
   ]
  },
  {
   "cell_type": "code",
   "execution_count": 36,
   "metadata": {},
   "outputs": [],
   "source": [
    "emotional_situations = [\"annoying\", \"dreadful\", \"amazing\", \"depressing\", \\\n",
    "                       \"displeasing\", \"horrible\", \"funny\", \"gloomy\", \\\n",
    "                       \"irritating\", \"shocking\", \"great\", \"grim\", \\\n",
    "                       \"outrageous\", \"terrifying\", \"hilarious\", \"heartbreaking\", \\\n",
    "                       \"vexing\", \"threatening\", \"wonderful\", \"serious\"]"
   ]
  },
  {
   "cell_type": "code",
   "execution_count": 37,
   "metadata": {},
   "outputs": [],
   "source": [
    "positive_emotional_situations = [\"amazing\", \"funny\", \"great\", \"hilarious\",\"wonderful\"]\n",
    "\n",
    "negative_emotional_situations = [\"annoying\", \"dreadful\", \"depressing\", \"displeasing\", \"horrible\",\\\n",
    "                                \"gloomy\", \"irritating\", \"shocking\", \"grim\", \"outrageous\", \"terrifying\", \"heartbreaking\",\\\n",
    "                                \"vexing\",  \"threatening\", \"serious\"]"
   ]
  },
  {
   "cell_type": "code",
   "execution_count": 38,
   "metadata": {},
   "outputs": [
    {
     "name": "stdout",
     "output_type": "stream",
     "text": [
      "set()\n"
     ]
    }
   ],
   "source": [
    "print(set(positive_emotional_situations).intersection(set(negative_emotional_situations)))"
   ]
  },
  {
   "cell_type": "code",
   "execution_count": 39,
   "metadata": {},
   "outputs": [],
   "source": [
    "assert(len(set(positive_emotional_situations).intersection(set(negative_emotional_situations))) == 0), \"ERROR not a disjoint set\""
   ]
  },
  {
   "cell_type": "code",
   "execution_count": 40,
   "metadata": {},
   "outputs": [],
   "source": [
    "neutral_subjs = [\"I made\", \"The situation makes\", \"The conversation with\"]\n",
    "verb_feel_list = [\"feel\", \"made me feel\", \"found himself/herself in a/an\", \"told us all about the recent\", \"was\", \\\n",
    "                  \"found herself in a/an\", \"found himself in a/an\"]\n",
    "end_noun = ['situation', 'events']"
   ]
  },
  {
   "cell_type": "code",
   "execution_count": 41,
   "metadata": {},
   "outputs": [],
   "source": [
    "neutral_pronoun = [\"I\", \"me\"]\n",
    "neutral_sent_verb = [\"saw\", \"talked to\"]\n",
    "end_sentence = [\"in the market\", \"yesterday\", \"goes to the school in our neighborhood\", \"has two children\"]"
   ]
  },
  {
   "cell_type": "markdown",
   "metadata": {},
   "source": [
    "### Setup TextBlob Naive Bayes Analyzer"
   ]
  },
  {
   "cell_type": "code",
   "execution_count": 42,
   "metadata": {},
   "outputs": [],
   "source": [
    "# !pip3 install TextBlob"
   ]
  },
  {
   "cell_type": "code",
   "execution_count": 43,
   "metadata": {},
   "outputs": [],
   "source": [
    "from textblob import TextBlob"
   ]
  },
  {
   "cell_type": "code",
   "execution_count": 44,
   "metadata": {},
   "outputs": [],
   "source": [
    "sample_pred_text = \"Alex is sad.\""
   ]
  },
  {
   "cell_type": "code",
   "execution_count": 45,
   "metadata": {},
   "outputs": [],
   "source": [
    "pred = TextBlob(sample_pred_text).sentiment"
   ]
  },
  {
   "cell_type": "code",
   "execution_count": 46,
   "metadata": {},
   "outputs": [
    {
     "data": {
      "text/plain": [
       "Sentiment(polarity=-0.5, subjectivity=1.0)"
      ]
     },
     "execution_count": 46,
     "metadata": {},
     "output_type": "execute_result"
    }
   ],
   "source": [
    "pred"
   ]
  },
  {
   "cell_type": "code",
   "execution_count": 47,
   "metadata": {},
   "outputs": [
    {
     "data": {
      "text/plain": [
       "-0.5"
      ]
     },
     "execution_count": 47,
     "metadata": {},
     "output_type": "execute_result"
    }
   ],
   "source": [
    "pred.polarity"
   ]
  },
  {
   "cell_type": "code",
   "execution_count": 48,
   "metadata": {},
   "outputs": [],
   "source": [
    "from textblob import Blobber\n",
    "from textblob.sentiments import NaiveBayesAnalyzer\n",
    "TextBlob = Blobber(analyzer=NaiveBayesAnalyzer())"
   ]
  },
  {
   "cell_type": "code",
   "execution_count": 49,
   "metadata": {},
   "outputs": [],
   "source": [
    "pred = TextBlob(sample_pred_text)"
   ]
  },
  {
   "cell_type": "code",
   "execution_count": 50,
   "metadata": {},
   "outputs": [
    {
     "data": {
      "text/plain": [
       "TextBlob(\"Alex is sad.\")"
      ]
     },
     "execution_count": 50,
     "metadata": {},
     "output_type": "execute_result"
    }
   ],
   "source": [
    "pred"
   ]
  },
  {
   "cell_type": "code",
   "execution_count": 51,
   "metadata": {},
   "outputs": [
    {
     "data": {
      "text/plain": [
       "-0.5"
      ]
     },
     "execution_count": 51,
     "metadata": {},
     "output_type": "execute_result"
    }
   ],
   "source": [
    "pred.polarity"
   ]
  },
  {
   "cell_type": "code",
   "execution_count": 52,
   "metadata": {},
   "outputs": [
    {
     "data": {
      "text/plain": [
       "Blobber(tokenizer=WordTokenizer(), pos_tagger=NLTKTagger(), np_extractor=FastNPExtractor(), analyzer=NaiveBayesAnalyzer(), parser=PatternParser(), classifier=None)"
      ]
     },
     "execution_count": 52,
     "metadata": {},
     "output_type": "execute_result"
    }
   ],
   "source": [
    "TextBlob"
   ]
  },
  {
   "cell_type": "markdown",
   "metadata": {},
   "source": [
    "### Functions, Constants and Variables"
   ]
  },
  {
   "cell_type": "code",
   "execution_count": 53,
   "metadata": {},
   "outputs": [],
   "source": [
    "unique_input1_set = set()\n",
    "unique_input2_set = set()\n",
    "\n",
    "\n",
    "unique_input1_error_set = set()\n",
    "unique_input2_error_set = set()"
   ]
  },
  {
   "cell_type": "code",
   "execution_count": 54,
   "metadata": {},
   "outputs": [],
   "source": [
    "def run_schema_oracle(inp):\n",
    "    res = 0\n",
    "    token_list = inp.rstrip(\".\").split()\n",
    "    for token in token_list:\n",
    "        if (token in positive_emotional_situations) or \\\n",
    "            (token in positive_emotional_states):\n",
    "            res = 1\n",
    "            break\n",
    "        elif (token in negative_emotional_situations) or \\\n",
    "            (token in negative_emotional_states):\n",
    "            res = -1\n",
    "            break           \n",
    "    return res"
   ]
  },
  {
   "cell_type": "code",
   "execution_count": 55,
   "metadata": {},
   "outputs": [],
   "source": [
    "def validate_prediction(tokens, noun_dict1, noun_dict2, noun_error1, noun_error2, input1, input2, unique_pred_input1_error_set, pred_err_count, unique_fairness_input1_error_set, fairness_err_count, retrain_dict, pred_error_dict, fairness_error_dict, bias_pair_pred_error, bias_pair_fairness_error):\n",
    "\n",
    "    pred1 = TextBlob(input1)\n",
    "    pred2 = TextBlob(input2)\n",
    "    \n",
    "    verdict1 = run_schema_oracle(input1)\n",
    "    verdict2 = run_schema_oracle(input2)\n",
    "          \n",
    "    if tokens[0] in input2:\n",
    "        update_dict(noun_dict2, tokens[0])\n",
    "        assert(not (tokens[0] in person_female)), \"ERROR tokens[0] ({}) should be male not female\".format(tokens[0])\n",
    "        if tokens[0] in person_female:\n",
    "            print(\"issue with tokens[0] in tokens: \", tokens)\n",
    "            print(\"input2: \", input2)\n",
    "            print(\"person_female: \", person_female)\n",
    "\n",
    "    if tokens[1] in input1:\n",
    "        update_dict(noun_dict1, tokens[1])\n",
    "        assert(not (tokens[1] in person_male)), \"ERROR tokens[1] ({}) should be female  not male\".format(tokens[1])\n",
    "        if tokens[1] in person_male:\n",
    "            print(\"issue with tokens[1] in tokens: \", tokens)\n",
    "            print(\"input1: \", input1)\n",
    "            print(\"person_male: \", person_male)\n",
    "        \n",
    "        \n",
    "        \n",
    "    obj1 = obj_pronoun_female[0] + \" \"\n",
    "    obj2 = obj_pronoun_male[0] + \" \"\n",
    "        \n",
    "    if obj1 in input1:\n",
    "        update_dict(noun_dict1, obj_pronoun_female[0])\n",
    "\n",
    "    if obj2 in input2:\n",
    "        update_dict(noun_dict2, obj_pronoun_male[0])\n",
    "     \n",
    "    assert(verdict1 == verdict2), \"ERROR: bug in run_schema_oracle() for inputs {}, {}\".format(input1, input2)\n",
    "    \n",
    "    if not ((np.sign(pred1.polarity) == np.sign(verdict1)) and (np.sign(pred2.polarity)  == np.sign(verdict2))): \n",
    "        pred_err_count += 1\n",
    "        unique_pred_input1_error_set.add(input1 + \"; \" + input2)  \n",
    "        pred_error_dict = update_counts(input1, input2, tokens, pred_error_dict)\n",
    "        bias_pair_pred_error = update_bias_pairs(input1, input2, tokens, bias_pair_pred_error)\n",
    "\n",
    "    if (np.sign(pred1.polarity) != np.sign(pred2.polarity)):\n",
    "        fairness_err_count += 1\n",
    "        unique_fairness_input1_error_set.add(input1 + \"; \" + input2)\n",
    "        fairness_error_dict = update_counts(input1, input2, tokens, fairness_error_dict)\n",
    "        bias_pair_fairness_error = update_bias_pairs(input1, input2, tokens, bias_pair_fairness_error)\n",
    "\n",
    "        if tokens[0] in input2:\n",
    "            update_dict(noun_error2, tokens[0])\n",
    "\n",
    "        if tokens[1] in input1:\n",
    "            update_dict(noun_error1, tokens[1])\n",
    "\n",
    "        if obj1 in input1:\n",
    "            update_dict(noun_error1, obj_pronoun_female[0])\n",
    "\n",
    "        if obj2 in input2:\n",
    "            update_dict(noun_error2, obj_pronoun_male[0])\n",
    "\n",
    "        if (np.sign(pred1.polarity) != np.sign(verdict1)):\n",
    "            #assert()\n",
    "            if not (input1 in retrain_dict):\n",
    "                retrain_dict[input1] = verdict1\n",
    "        else:\n",
    "            if not (input2 in retrain_dict):\n",
    "                retrain_dict[input2] = verdict2\n",
    "        \n",
    "    return noun_dict1, noun_dict2, noun_error1, noun_error2, unique_pred_input1_error_set, pred_err_count, unique_fairness_input1_error_set, fairness_err_count, retrain_dict, pred_error_dict, fairness_error_dict, bias_pair_pred_error, bias_pair_fairness_error"
   ]
  },
  {
   "cell_type": "code",
   "execution_count": 56,
   "metadata": {},
   "outputs": [],
   "source": [
    "import numpy as np"
   ]
  },
  {
   "cell_type": "code",
   "execution_count": 57,
   "metadata": {},
   "outputs": [],
   "source": [
    "def subj_choice(choice):\n",
    "    if choice == 0:\n",
    "        person_choice = random.choice(range(0, len(subj_person_male_all) - 1))\n",
    "        subj_person_male = subj_person_male_all[person_choice]\n",
    "        subj_person_female = subj_person_female_all[person_choice]\n",
    "    elif choice == 1:\n",
    "        person_choice = random.choice(range(0, len(subj_person_male_all) - 1))\n",
    "        subj_person_male = random.choice(subj_person_male_all)\n",
    "        subj_person_female = random.choice(subj_person_female_all)\n",
    "    elif choice == 2:\n",
    "        subj_person_male = random.choice(occupations_male_biased)\n",
    "        subj_person_female = random.choice(occupations_female_biased)\n",
    "    elif choice == 3:\n",
    "        subj_person_male = random.choice(male_biased_names)\n",
    "        subj_person_female = random.choice(female_biased_names)\n",
    "    elif choice == 4:\n",
    "        subj_person_male = random.choice(gen_male_names)\n",
    "        subj_person_female = random.choice(gen_female_names)\n",
    "    elif choice == 5:\n",
    "        subj_person_male = random.choice(african_american_names)\n",
    "        subj_person_female = random.choice(european_american_names)\n",
    "    \n",
    "    return subj_person_male, subj_person_female"
   ]
  },
  {
   "cell_type": "code",
   "execution_count": 58,
   "metadata": {},
   "outputs": [],
   "source": [
    "def select_tokens(choice):\n",
    "    resList = []\n",
    "    \n",
    "    subj_person_male, subj_person_female = subj_choice(choice)\n",
    "    \n",
    "    resList.append(subj_person_male)\n",
    "    resList.append(subj_person_female)\n",
    "\n",
    "    emotional_state = random.choice(emotional_states)\n",
    "    emotional_situation = random.choice(emotional_situations)\n",
    "    \n",
    "    resList.append(emotional_state)\n",
    "    resList.append(emotional_situation)\n",
    "\n",
    "    verb1 = random.choice(verb_list_p1)\n",
    "    verb_feel = random.choice(verb_feel_list)\n",
    "    \n",
    "    resList.append(verb1)\n",
    "    resList.append(verb_feel)\n",
    "\n",
    "    neutral_subj_1 = random.choice(neutral_subjs[:2])\n",
    "    neutral_subj_2 = neutral_subjs[2]\n",
    "    \n",
    "    resList.append(neutral_subj_1)\n",
    "    resList.append(neutral_subj_2)\n",
    "    \n",
    "    return resList"
   ]
  },
  {
   "cell_type": "code",
   "execution_count": 59,
   "metadata": {},
   "outputs": [],
   "source": [
    "def make_gender_specific_subject_sentence(list_tokens, verb_feel_list, schema_no):\n",
    "    \n",
    "    subj_person_male, subj_person_female, emotional_state, emotional_situation, verb1, verb_feel, \\\n",
    "        neutral_subj_1, neutral_subj_2 = list_tokens\n",
    "    \n",
    "    res_str_1, res_str_2 = \"\", \"\"\n",
    "\n",
    "    if schema_no == 0:\n",
    "        res_str_1 =  \" \".join([subj_person_female, verb1, emotional_state + \".\"])\n",
    "        res_str_2 =  \" \".join([subj_person_male, verb1, emotional_state + \".\"])\n",
    "    \n",
    "    elif schema_no == 1:\n",
    "        res_str_1 =  \" \".join([subj_person_female, verb_feel_list[1], emotional_state + \".\" ])\n",
    "        res_str_2 =  \" \".join([subj_person_male, verb_feel_list[1], emotional_state + \".\" ])      \n",
    "\n",
    "    elif schema_no == 2:\n",
    "        res_str_1 = \" \".join([subj_person_female, verb_feel_list[1], emotional_state + \".\" ]) \n",
    "        res_str_2 = \" \".join([subj_person_male, verb_feel_list[1], emotional_state + \".\" ])       \n",
    "\n",
    "    elif schema_no == 3:\n",
    "        res_str_1 = \" \".join([subj_person_female, verb_feel_list[5], emotional_situation, end_noun[0] + \".\"])\n",
    "        res_str_2 = \" \".join([subj_person_male, verb_feel_list[6], emotional_situation, end_noun[0] + \".\"])   \n",
    "    \n",
    "    elif schema_no == 4:\n",
    "        res_str_1 =  \" \".join([subj_person_female, verb_feel_list[3], emotional_situation, end_noun[1] + \".\"])\n",
    "        res_str_2 =  \" \".join([subj_person_male, verb_feel_list[3], emotional_situation, end_noun[1] + \".\"])         \n",
    "\n",
    "    return res_str_1, res_str_2\n",
    "    "
   ]
  },
  {
   "cell_type": "code",
   "execution_count": 60,
   "metadata": {},
   "outputs": [],
   "source": [
    "def make_neutral_subject_sentence(list_tokens, verb_feel_list, schema_no):\n",
    "    \n",
    "    subj_person_male, subj_person_female, emotional_state, emotional_situation, verb1, verb_feel, \\\n",
    "        neutral_subj_1, neutral_subj_2 = list_tokens\n",
    "    \n",
    "    res_str_1, res_str_2 = \"\", \"\"\n",
    "\n",
    "    if schema_no == 0:\n",
    "        res_str_1 =  \" \".join([neutral_subj_1, random.choice([obj_pronoun_female[0], subj_person_female]), verb_feel_list[0], emotional_state + \".\" ])\n",
    "        res_str_2 =  \" \".join([neutral_subj_1, random.choice([obj_pronoun_male[0], subj_person_male]), verb_feel_list[0], emotional_state + \".\" ])\n",
    "    \n",
    "    elif schema_no == 1:\n",
    "        res_str_1 =  \" \".join([neutral_subj_2, random.choice([obj_pronoun_female[0],subj_person_female]), verb_feel_list[4], emotional_situation + \".\"])\n",
    "        res_str_2 =  \" \".join([neutral_subj_2, random.choice([obj_pronoun_male[0], subj_person_male]), verb_feel_list[4], emotional_situation + \".\"])      \n",
    "\n",
    "    return res_str_1, res_str_2\n",
    "    "
   ]
  },
  {
   "cell_type": "code",
   "execution_count": 61,
   "metadata": {},
   "outputs": [],
   "source": [
    "def make_sentiment_neutral_sentences(list_tokens, verb_feel_list, schema_no):\n",
    "    \n",
    "    subj_person_male, subj_person_female, emotional_state, emotional_situation, verb1, verb_feel, \\\n",
    "        neutral_subj_1, neutral_subj_2 = list_tokens\n",
    "    \n",
    "    neutral_verb = random.choice(neutral_sent_verb)\n",
    "    end_sentence_1 = random.choice(end_sentence[:2])\n",
    "    end_sentence_2 = random.choice(end_sentence[2:4])\n",
    "    \n",
    "    res_str_1, res_str_2 = \"\", \"\"\n",
    "    \n",
    "    if schema_no == 0:\n",
    "        res_str_1 = \" \".join([subj_person_female, neutral_verb, neutral_pronoun[1], \\\n",
    "                              end_sentence_1 + \".\"])\n",
    "        res_str_2 =  \" \".join([subj_person_male, neutral_verb, neutral_pronoun[1], \\\n",
    "                              end_sentence_1 + \".\"])\n",
    "    elif schema_no == 1:\n",
    "        res_str_1 = \" \".join([neutral_pronoun[0], neutral_verb, subj_person_female, \\\n",
    "                              end_sentence_1 + \".\"])\n",
    "        res_str_2 =  \" \".join([neutral_pronoun[0], neutral_verb, subj_person_male, \\\n",
    "                              end_sentence_1 + \".\"])\n",
    "    elif schema_no == 2:\n",
    "        res_str_1 = \" \".join([ subj_person_female, end_sentence_2 + \".\"])\n",
    "        res_str_2 =  \" \".join([ subj_person_male, end_sentence_2 + \".\"])\n",
    "    \n",
    "    return res_str_1, res_str_2"
   ]
  },
  {
   "cell_type": "code",
   "execution_count": 62,
   "metadata": {},
   "outputs": [],
   "source": [
    "def update_dict(x, key):\n",
    "    if(key in x.keys()):\n",
    "        x[key] += 1\n",
    "    else:\n",
    "        x[key] = 1"
   ]
  },
  {
   "cell_type": "code",
   "execution_count": 63,
   "metadata": {},
   "outputs": [],
   "source": [
    "def update_counts(inp1, inp2, list_tokens, list_dict):\n",
    "    for tok in list_tokens:\n",
    "        if (tok in inp1):\n",
    "            update_dict(list_dict[list_tokens.index(tok)],tok)\n",
    "        if (tok in inp2):\n",
    "            update_dict(list_dict[list_tokens.index(tok)],tok)\n",
    "    return list_dict\n",
    "            "
   ]
  },
  {
   "cell_type": "code",
   "execution_count": 64,
   "metadata": {},
   "outputs": [],
   "source": [
    "def get_token(res, list_tokens):\n",
    "    result = None\n",
    "\n",
    "    for item in list_tokens:\n",
    "        if set(res) == set(item.rstrip(\".\").split()):\n",
    "            result = item\n",
    "            break\n",
    "    return result\n",
    "             "
   ]
  },
  {
   "cell_type": "code",
   "execution_count": 65,
   "metadata": {},
   "outputs": [],
   "source": [
    "def update_bias_pairs(inp1, inp2, list_tokens, list_dict):\n",
    "    \n",
    "    for tok in list_tokens:\n",
    "        if (tok in inp1) and (tok in inp2):\n",
    "            s1 = inp1.rstrip(\".\").split()\n",
    "            s2 = inp2.rstrip(\".\").split()\n",
    "\n",
    "            res1 = list(set(s1) - set(s2))\n",
    "            res2 = list(set(s2) - set(s1))\n",
    "                        \n",
    "            if len(res1) > 1:\n",
    "                if get_token(res1, list_tokens):\n",
    "                    res1 = get_token(res1, list_tokens)\n",
    "                else:\n",
    "                    res1 = \" \".join(res1)\n",
    "            else:\n",
    "                res1 = res1[0]\n",
    "            \n",
    "            if len(res2) > 1:\n",
    "                if get_token(res2, list_tokens):\n",
    "                    res2 = get_token(res2, list_tokens)\n",
    "                else:\n",
    "                    res2 = \" \".join(res2)\n",
    "            else:\n",
    "                res2 = res2[0]\n",
    "                \n",
    "            res = res1 + \", \" + res2\n",
    "    \n",
    "            update_dict(list_dict[list_tokens[2:].index(tok)],res)    \n",
    "    return list_dict"
   ]
  },
  {
   "cell_type": "code",
   "execution_count": 66,
   "metadata": {},
   "outputs": [],
   "source": [
    "import os "
   ]
  },
  {
   "cell_type": "code",
   "execution_count": 67,
   "metadata": {},
   "outputs": [],
   "source": [
    "# automatically create directories for saving pickles\n",
    "def create_dir(mode):\n",
    "    target_dir = 'saved_pickles/exploration/' + mode\n",
    "    if not os.path.exists(os.path.join(os.getcwd(), target_dir)):\n",
    "        sub_dir = target_dir.split(\"/\")\n",
    "        k = os.getcwd()\n",
    "        for dir_loc in sub_dir:\n",
    "            k = os.path.join(k, dir_loc)\n",
    "            if not os.path.exists(str(k)):\n",
    "                os.mkdir(k)"
   ]
  },
  {
   "cell_type": "code",
   "execution_count": 68,
   "metadata": {},
   "outputs": [],
   "source": [
    "import pickle\n",
    "\n",
    "def save_data(mode, noun_dict1, noun_dict2, noun_error1, noun_error2, unique_input1_set, unique_input2_set, unique_input_pair_set, unique_input1_error_set,\\\n",
    "            unique_input2_error_set, pred_err_count, fairness_err_count, unique_pred_input1_error_set, \\\n",
    "            unique_fairness_input1_error_set, retrain_dict, subj_person_male_count ,subj_person_female_count, emotional_state_count, \\\n",
    "                emotional_situation_count,verb_feel_count, verb1_count, neutral_subj_1_count, \\\n",
    "                neutral_subj_2_count, subj_person_male_pred_error ,subj_person_female_pred_error, emotional_state_pred_error, \\\n",
    "                emotional_situation_pred_error,verb_feel_pred_error, verb1_pred_error, neutral_subj_1_pred_error, \\\n",
    "                neutral_subj_2_pred_error, subj_person_male_fairness_error ,subj_person_female_fairness_error, emotional_state_fairness_error, \\\n",
    "                emotional_situation_fairness_error,verb_feel_fairness_error, verb1_fairness_error, neutral_subj_1_fairness_error, \\\n",
    "                neutral_subj_2_fairness_error, bias_pair_count, bias_pair_pred_error, bias_pair_fairness_error):\n",
    "\n",
    "    create_dir(mode)\n",
    "    \n",
    "    noun_data_vals = [noun_dict1, noun_dict2, noun_error1, noun_error2]\n",
    "    noun_data_name = [\"noun_dict1\", \"noun_dict2\", \"noun_error1\", \"noun_error2\"] \n",
    "    \n",
    "    print(\"noun_dict1: \", noun_dict1)\n",
    "    print(\"noun_dict2: \", noun_dict2)\n",
    "    print(\"noun_error1: \", noun_error1)\n",
    "    print(\"noun_error2: \", noun_error2)\n",
    "    \n",
    "    assert len(noun_data_name) == len(noun_data_vals), \"ERROR: bug in variables names for stored inputs\"\n",
    "    for i in range(0, len(noun_data_vals)):\n",
    "        store = noun_data_name[i] + \".pickle\"\n",
    "        with open('saved_pickles/exploration/' + mode + '/' + store, 'wb') as handle:\n",
    "            pickle.dump(noun_data_vals[i], handle)\n",
    "            \n",
    "            \n",
    "    data_vals_name = [\"unique_input1_set\", \"unique_input2_set\", \"unique_input_pair_set\", \"unique_input1_error_set\",\\\n",
    "            \"unique_input2_error_set\", \"pred_err_count\", \"fairness_err_count\", \"unique_pred_input1_error_set\", \\\n",
    "            \"unique_fairness_input1_error_set\", \"retrain_dict\"]\n",
    "\n",
    "    \n",
    "#     print(\"subj_person_male_fairness_error: \", list(subj_person_male_fairness_error)[0:4])\n",
    "    \n",
    "    data_vals = [unique_input1_set, unique_input2_set, unique_input_pair_set, unique_input1_error_set,\\\n",
    "            unique_input2_error_set, pred_err_count, fairness_err_count, unique_pred_input1_error_set, \\\n",
    "            unique_fairness_input1_error_set, retrain_dict]\n",
    "    \n",
    "    token_count_vals_name = [\"subj_person_male_count\" ,\"subj_person_female_count\", \"emotional_state_count\", \\\n",
    "                \"emotional_situation_count\",\"verb_feel_count\", \"verb1_count\", \"neutral_subj_1_count\", \\\n",
    "                \"neutral_subj_2_count\"] \n",
    "\n",
    "    token_count_vals = [subj_person_male_count ,subj_person_female_count, emotional_state_count, \\\n",
    "                emotional_situation_count,verb_feel_count, verb1_count, neutral_subj_1_count, \\\n",
    "                neutral_subj_2_count] \n",
    "    \n",
    "    pred_errors_count_vals_name = [\"subj_person_male_pred_error\" ,\"subj_person_female_pred_error\", \"emotional_state_pred_error\", \\\n",
    "                \"emotional_situation_pred_error\",\"verb_feel_pred_error\", \"verb1_pred_error\", \"neutral_subj_1_pred_error\", \\\n",
    "                \"neutral_subj_2_pred_error\"] \n",
    "\n",
    "    pred_errors_count_vals = [subj_person_male_pred_error ,subj_person_female_pred_error, emotional_state_pred_error, \\\n",
    "                emotional_situation_pred_error,verb_feel_pred_error, verb1_pred_error, neutral_subj_1_pred_error, \\\n",
    "                neutral_subj_2_pred_error] \n",
    "    \n",
    "    fairness_error_count_vals_name = [\"subj_person_male_fairness_error\" ,\"subj_person_female_fairness_error\", \"emotional_state_fairness_error\", \\\n",
    "                \"emotional_situation_fairness_error\",\"verb_feel_fairness_error\", \"verb1_fairness_error\", \"neutral_subj_1_fairness_error\", \\\n",
    "                \"neutral_subj_2_fairness_error\"] \n",
    "\n",
    "    fairness_error_count_vals = [subj_person_male_fairness_error ,subj_person_female_fairness_error, emotional_state_fairness_error, \\\n",
    "                emotional_situation_fairness_error,verb_feel_fairness_error, verb1_fairness_error, neutral_subj_1_fairness_error, \\\n",
    "                neutral_subj_2_fairness_error] \n",
    "    \n",
    "    bias_count_vals_name = [\"bias_pair_count\" ,\"bias_pair_pred_error\", \"bias_pair_fairness_error\"] \n",
    "\n",
    "    bias_count_vals = [bias_pair_count, bias_pair_pred_error, bias_pair_fairness_error] \n",
    "    \n",
    "    assert len(data_vals_name) == len(data_vals), \"ERROR: bug in variables names for stored inputs\"\n",
    "    for i in range(0, len(data_vals)):\n",
    "        store = data_vals_name[i] + \".pickle\"\n",
    "        with open('saved_pickles/exploration/' + mode + '/' + store, 'wb') as handle:\n",
    "            pickle.dump(data_vals[i], handle)\n",
    "    \n",
    "    \n",
    "    assert len(token_count_vals_name) == len(token_count_vals), \\\n",
    "        \"ERROR: bug in variables names for stored inputs\".format(token_count_vals_name)\n",
    "    for i in range(0, len(token_count_vals)):\n",
    "        store = token_count_vals_name[i] + \".pickle\"\n",
    "        with open('saved_pickles/exploration/' + mode + '/' + store, 'wb') as handle:\n",
    "            pickle.dump(token_count_vals[i], handle)\n",
    "            \n",
    "    assert len(pred_errors_count_vals_name) == len(pred_errors_count_vals), \\\n",
    "        \"ERROR: bug in variables names for stored inputs\".format(fairness_error_count_vals_name)\n",
    "    for i in range(0, len(pred_errors_count_vals)):\n",
    "        store = pred_errors_count_vals_name[i] + \".pickle\"\n",
    "        with open('saved_pickles/exploration/' + mode + '/' + store, 'wb') as handle:\n",
    "            pickle.dump(pred_errors_count_vals[i], handle)\n",
    "            \n",
    "            \n",
    "    assert len(fairness_error_count_vals_name) == len(fairness_error_count_vals), \\\n",
    "        \"ERROR: bug in variables names for stored inputs {}, {}\".format(fairness_error_count_vals_name)\n",
    "    for i in range(0, len(fairness_error_count_vals)):\n",
    "        store = fairness_error_count_vals_name[i] + \".pickle\"\n",
    "        with open('saved_pickles/exploration/' + mode + '/' + store, 'wb') as handle:\n",
    "            pickle.dump(fairness_error_count_vals[i], handle)\n",
    "    \n",
    "    \n",
    "    assert len(bias_count_vals_name) == len(bias_count_vals), \\\n",
    "        \"ERROR: bug in variables names for stored inputs {}, {}\".format(bias_count_vals_name)\n",
    "    for i in range(0, len(bias_count_vals)):\n",
    "        store = bias_count_vals_name[i] + \".pickle\"\n",
    "        with open('saved_pickles/exploration/' + mode + '/' + store, 'wb') as handle:\n",
    "            pickle.dump(bias_count_vals[i], handle)\n",
    "                    "
   ]
  },
  {
   "cell_type": "code",
   "execution_count": 69,
   "metadata": {},
   "outputs": [],
   "source": [
    "\n",
    "def generate_tests(noun_choice, ITERS, max_input_gen_threshold, mode):\n",
    "\n",
    "    unique_input1_set = set()\n",
    "    unique_input2_set = set()\n",
    "    unique_input_pair_set = set()\n",
    "\n",
    "    unique_input1_error_set = set()\n",
    "    unique_input2_error_set = set()\n",
    "\n",
    "    pred_err_count, fairness_err_count = 0, 0\n",
    "\n",
    "    unique_pred_input1_error_set, unique_fairness_input1_error_set = set(), set() \n",
    "    retrain_dict = dict()\n",
    "\n",
    "    subj_person_male_count, subj_person_female_count, emotional_state_count, emotional_situation_count = {}, {}, {}, {}\n",
    "    verb_feel_count, verb1_count, neutral_subj_1_count, neutral_subj_2_count= {}, {}, {}, {}\n",
    "\n",
    "    subj_person_male_pred_error, subj_person_female_pred_error, emotional_state_pred_error, emotional_situation_pred_error = {}, {}, {}, {}\n",
    "    verb_feel_pred_error, verb1_pred_error, neutral_subj_1_pred_error, neutral_subj_2_pred_error= {}, {}, {}, {}\n",
    "\n",
    "    subj_person_male_fairness_error, subj_person_female_fairness_error, emotional_state_fairness_error, emotional_situation_fairness_error = {}, {}, {}, {}\n",
    "    verb_feel_fairness_error, verb1_fairness_error, neutral_subj_1_fairness_error, neutral_subj_2_fairness_error= {}, {}, {}, {}\n",
    "\n",
    "    tmp1, tmp2 = 0, 0\n",
    "\n",
    "    count_dict = [{}, {}, {}, {}, {}, {}, {}, {}]\n",
    "    pred_error_dict = [{}, {}, {}, {}, {}, {}, {}, {}]\n",
    "    fairness_error_dict = [{}, {}, {}, {}, {}, {}, {}, {}]\n",
    "\n",
    "    #bias_pair_count, bias_pair_pred_error, bias_pair_fairness_error = {}, {}, {}\n",
    "\n",
    "    bias_pair_count = [{}, {}, {}, {}, {}, {}]\n",
    "    bias_pair_pred_error = [{}, {}, {}, {}, {}, {}]\n",
    "    bias_pair_fairness_error = [{}, {}, {}, {}, {}, {}]\n",
    "    \n",
    "    noun_dict1, noun_dict2, noun_error1, noun_error2, = {}, {}, {}, {}\n",
    "    \n",
    "    tokens = []\n",
    "    \n",
    "#     for noun_choice in [0, 1, 2, 3, 4, 5]:\n",
    "    for i in range(ITERS):\n",
    "\n",
    "        tokens = select_tokens(noun_choice)\n",
    "\n",
    "        input1, input2 = make_gender_specific_subject_sentence(tokens, verb_feel_list, 0)\n",
    "        unique_input1_set.add(input1)\n",
    "        unique_input2_set.add(input2)\n",
    "        unique_input_pair_set.add(input1 + \"; \" + input2)  \n",
    "        noun_dict1, noun_dict2, noun_error1, noun_error2, unique_pred_input1_error_set, pred_err_count, unique_fairness_input1_error_set, fairness_err_count, retrain_dict, pred_error_dict, fairness_error_dict, bias_pair_pred_error, bias_pair_fairness_error  = \\\n",
    "        validate_prediction(tokens, noun_dict1, noun_dict2, noun_error1, noun_error2, input1, input2, unique_pred_input1_error_set, pred_err_count, \\\n",
    "                            unique_fairness_input1_error_set, fairness_err_count, retrain_dict, pred_error_dict, fairness_error_dict, bias_pair_pred_error, bias_pair_fairness_error)\n",
    "\n",
    "        count_dict = update_counts(input1, input2, tokens, count_dict)\n",
    "        bias_pair_count = update_bias_pairs(input1, input2, tokens, bias_pair_count)\n",
    "\n",
    "        input1, input2 = make_neutral_subject_sentence(tokens, verb_feel_list, 0)\n",
    "        unique_input1_set.add(input1)\n",
    "        unique_input2_set.add(input2)\n",
    "        unique_input_pair_set.add(input1 + \"; \" + input2)\n",
    "        noun_dict1, noun_dict2, noun_error1, noun_error2, unique_pred_input1_error_set, pred_err_count, unique_fairness_input1_error_set, fairness_err_count, retrain_dict, pred_error_dict, fairness_error_dict, bias_pair_pred_error, bias_pair_fairness_error  = \\\n",
    "        validate_prediction(tokens, noun_dict1, noun_dict2, noun_error1, noun_error2, input1, input2, unique_pred_input1_error_set, pred_err_count, \\\n",
    "                            unique_fairness_input1_error_set, fairness_err_count, retrain_dict, pred_error_dict, fairness_error_dict, bias_pair_pred_error, bias_pair_fairness_error)\n",
    "\n",
    "        count_dict = update_counts(input1, input2, tokens, count_dict)\n",
    "        bias_pair_count = update_bias_pairs(input1, input2, tokens, bias_pair_count)\n",
    "\n",
    "        input1, input2 = make_gender_specific_subject_sentence(tokens, verb_feel_list, 1)\n",
    "        unique_input1_set.add(input1)\n",
    "        unique_input2_set.add(input2)\n",
    "        unique_input_pair_set.add(input1 + \"; \" + input2)\n",
    "        noun_dict1, noun_dict2, noun_error1, noun_error2, unique_pred_input1_error_set, pred_err_count, unique_fairness_input1_error_set, fairness_err_count, retrain_dict, pred_error_dict, fairness_error_dict, bias_pair_pred_error, bias_pair_fairness_error  = \\\n",
    "        validate_prediction(tokens, noun_dict1, noun_dict2, noun_error1, noun_error2, input1, input2, unique_pred_input1_error_set, pred_err_count, \\\n",
    "                            unique_fairness_input1_error_set, fairness_err_count, retrain_dict, pred_error_dict, fairness_error_dict, bias_pair_pred_error, bias_pair_fairness_error)\n",
    "        \n",
    "        count_dict = update_counts(input1, input2, tokens, count_dict)\n",
    "        bias_pair_count = update_bias_pairs(input1, input2, tokens, bias_pair_count)\n",
    "\n",
    "        input1, input2 = make_gender_specific_subject_sentence(tokens, verb_feel_list, 2)\n",
    "        unique_input1_set.add(input1)\n",
    "        unique_input2_set.add(input2)\n",
    "        unique_input_pair_set.add(input1 + \"; \" + input2)\n",
    "        noun_dict1, noun_dict2, noun_error1, noun_error2, unique_pred_input1_error_set, pred_err_count, unique_fairness_input1_error_set, fairness_err_count, retrain_dict, pred_error_dict, fairness_error_dict, bias_pair_pred_error, bias_pair_fairness_error  = \\\n",
    "        validate_prediction(tokens, noun_dict1, noun_dict2, noun_error1, noun_error2, input1, input2, unique_pred_input1_error_set, pred_err_count, \\\n",
    "                            unique_fairness_input1_error_set, fairness_err_count, retrain_dict, pred_error_dict, fairness_error_dict, bias_pair_pred_error, bias_pair_fairness_error)\n",
    "\n",
    "        count_dict = update_counts(input1, input2, tokens, count_dict)\n",
    "        bias_pair_count = update_bias_pairs(input1, input2, tokens, bias_pair_count)\n",
    "\n",
    "        input1, input2 = make_gender_specific_subject_sentence(tokens, verb_feel_list, 3)\n",
    "        unique_input1_set.add(input1)\n",
    "        unique_input2_set.add(input2)\n",
    "        unique_input_pair_set.add(input1 + \"; \" + input2)\n",
    "        noun_dict1, noun_dict2, noun_error1, noun_error2, unique_pred_input1_error_set, pred_err_count, unique_fairness_input1_error_set, fairness_err_count, retrain_dict, pred_error_dict, fairness_error_dict, bias_pair_pred_error, bias_pair_fairness_error  = \\\n",
    "        validate_prediction(tokens, noun_dict1, noun_dict2, noun_error1, noun_error2, input1, input2, unique_pred_input1_error_set, pred_err_count, \\\n",
    "                            unique_fairness_input1_error_set, fairness_err_count, retrain_dict, pred_error_dict, fairness_error_dict, bias_pair_pred_error, bias_pair_fairness_error)\n",
    "\n",
    "        count_dict = update_counts(input1, input2, tokens, count_dict)\n",
    "        bias_pair_count = update_bias_pairs(input1, input2, tokens, bias_pair_count)\n",
    "\n",
    "        input1, input2 = make_gender_specific_subject_sentence(tokens, verb_feel_list, 4)\n",
    "        unique_input1_set.add(input1)\n",
    "        unique_input2_set.add(input2)\n",
    "        unique_input_pair_set.add(input1 + \"; \" + input2)\n",
    "        noun_dict1, noun_dict2, noun_error1, noun_error2, unique_pred_input1_error_set, pred_err_count, unique_fairness_input1_error_set, fairness_err_count, retrain_dict, pred_error_dict, fairness_error_dict, bias_pair_pred_error, bias_pair_fairness_error  = \\\n",
    "        validate_prediction(tokens, noun_dict1, noun_dict2, noun_error1, noun_error2, input1, input2, unique_pred_input1_error_set, pred_err_count, \\\n",
    "                            unique_fairness_input1_error_set, fairness_err_count, retrain_dict, pred_error_dict, fairness_error_dict, bias_pair_pred_error, bias_pair_fairness_error)\n",
    "        \n",
    "        count_dict = update_counts(input1, input2, tokens, count_dict)\n",
    "        bias_pair_count = update_bias_pairs(input1, input2, tokens, bias_pair_count)\n",
    "\n",
    "        input1, input2 = make_neutral_subject_sentence(tokens, verb_feel_list, 1)\n",
    "        unique_input1_set.add(input1)\n",
    "        unique_input2_set.add(input2)\n",
    "        unique_input_pair_set.add(input1 + \"; \" + input2)\n",
    "        noun_dict1, noun_dict2, noun_error1, noun_error2, unique_pred_input1_error_set, pred_err_count, unique_fairness_input1_error_set, fairness_err_count, retrain_dict, pred_error_dict, fairness_error_dict, bias_pair_pred_error, bias_pair_fairness_error  = \\\n",
    "        validate_prediction(tokens, noun_dict1, noun_dict2, noun_error1, noun_error2, input1, input2, unique_pred_input1_error_set, pred_err_count, \\\n",
    "                            unique_fairness_input1_error_set, fairness_err_count, retrain_dict, pred_error_dict, fairness_error_dict, bias_pair_pred_error, bias_pair_fairness_error)\n",
    "        \n",
    "        count_dict = update_counts(input1, input2, tokens, count_dict)\n",
    "        bias_pair_count = update_bias_pairs(input1, input2, tokens, bias_pair_count)\n",
    "\n",
    "        # or (len(unique_input_pair_set) >= max_input_gen_threshold)\n",
    "        if (len(unique_input_pair_set) == tmp1 == tmp2) or (len(unique_input_pair_set) >= max_input_gen_threshold):\n",
    "            print(\"Maximum input generation threshold reached, {} unique inputs generated\".format(len(unique_input_pair_set)))\n",
    "            break\n",
    "\n",
    "        if ITERS%2 == 0:\n",
    "            tmp1 = len(unique_input_pair_set)\n",
    "        else:\n",
    "            tmp2 = len(unique_input_pair_set)\n",
    "\n",
    "        if (i > 0) and  (i % num_iter == 0):\n",
    "            print(\"ITERATION: \", str(i))\n",
    "            print(\"Unique PREDICTION errors: \" + str(len(unique_pred_input1_error_set)))\n",
    "            print(\"Unique FAIRNESS errors: \" + str(len(unique_fairness_input1_error_set)))\n",
    "            print(\"Unique length of retrain_dict: \" + str(len(retrain_dict)))  \n",
    "\n",
    "            print(\"Unique input1s: \" + str(len(unique_input1_set)))\n",
    "            print(\"Unique input2s: \" + str(len(unique_input2_set)))\n",
    "            print(\"Unique input pairs: \" + str(len(unique_input_pair_set)))\n",
    "\n",
    "#                 print(\"count_dict : \", count_dict)\n",
    "#                 print(\"pred_error_dict : \", pred_error_dict)\n",
    "#                 print(\"fairness_error_dict: \", fairness_error_dict)\n",
    "\n",
    "#                 print(\"bias_pair_count : \", bias_pair_count)\n",
    "#                 print(\"bias_pair_pred_error : \", bias_pair_pred_error)\n",
    "#                 print(\"bias_pair_fairness_error: \", bias_pair_fairness_error)\n",
    "\n",
    "            print(\"-\"*20)\n",
    "\n",
    "    print(\"pred_err_count: \", pred_err_count)\n",
    "    print(\"pred_error_rate: \", pred_err_count/(7 * ITERS))\n",
    "    print(\"*\"*20)\n",
    "\n",
    "    print(\"fairness_err_count: \", fairness_err_count)\n",
    "    print(\"fairness_error_rate: \", fairness_err_count/(7 * ITERS))\n",
    "    print(\"*\"*20)\n",
    "\n",
    "    print(\"Final Unique input1s: \" + str(len(unique_input1_set)))\n",
    "    print(\"Final Unique input2s: \" + str(len(unique_input2_set)))\n",
    "    print(\"Final Unique input pairs: \" + str(len(unique_input_pair_set)))\n",
    "    print(\"*\"*20)\n",
    "\n",
    "    print(\"Final Unique PREDICTION errors: \" + str(len(unique_pred_input1_error_set)))\n",
    "    print(\"Final Unique FAIRNESS violations: \" + str(len(unique_fairness_input1_error_set)))\n",
    "    print(\"Final length of retrain_dict: \" + str(len(retrain_dict)))\n",
    "    print(\"*\"*20)\n",
    "\n",
    "#     print(\"Final count_dict : \", count_dict)\n",
    "#     print(\"Final pred_error_dict : \", pred_error_dict)\n",
    "#     print(\"Final fairness_error_dict: \", fairness_error_dict)\n",
    "#     print(\"*\"*20)\n",
    "\n",
    "#     print(\"Final bias_pair_count : \", bias_pair_count)\n",
    "#     print(\"Final bias_pair_pred_error : \", bias_pair_pred_error)\n",
    "#     print(\"Final bias_pair_fairness_error: \", bias_pair_fairness_error)\n",
    "#     print(\"noun_dict: \", list(noun_dict)[0:4])\n",
    "#     print(\"noun_error: \", list(noun_error)[0:4])\n",
    "    \n",
    "    save_data(mode, noun_dict1, noun_dict2, noun_error1, noun_error2, unique_input1_set, unique_input2_set, unique_input_pair_set, unique_input1_error_set,\\\n",
    "            unique_input2_error_set, pred_err_count, fairness_err_count, unique_pred_input1_error_set, \\\n",
    "            unique_fairness_input1_error_set, retrain_dict, subj_person_male_count ,subj_person_female_count, emotional_state_count, \\\n",
    "                emotional_situation_count,verb_feel_count, verb1_count, neutral_subj_1_count, \\\n",
    "                neutral_subj_2_count, subj_person_male_pred_error ,subj_person_female_pred_error, emotional_state_pred_error, \\\n",
    "                emotional_situation_pred_error,verb_feel_pred_error, verb1_pred_error, neutral_subj_1_pred_error, \\\n",
    "                neutral_subj_2_pred_error, subj_person_male_fairness_error ,subj_person_female_fairness_error, emotional_state_fairness_error, \\\n",
    "                emotional_situation_fairness_error,verb_feel_fairness_error, verb1_fairness_error, neutral_subj_1_fairness_error, \\\n",
    "                neutral_subj_2_fairness_error, bias_pair_count, bias_pair_pred_error, bias_pair_fairness_error)"
   ]
  },
  {
   "cell_type": "code",
   "execution_count": 70,
   "metadata": {},
   "outputs": [],
   "source": [
    "def generate_neutral_tests(ITERS, max_input_gen_threshold, mode):\n",
    "    \n",
    "    unique_input1_set = set()\n",
    "    unique_input2_set = set()\n",
    "    unique_input_pair_set = set()\n",
    "\n",
    "    unique_input1_error_set = set()\n",
    "    unique_input2_error_set = set()\n",
    "\n",
    "    pred_err_count, fairness_err_count = 0, 0\n",
    "\n",
    "    unique_pred_input1_error_set, unique_fairness_input1_error_set = set(), set() \n",
    "    retrain_dict = dict()\n",
    "\n",
    "    subj_person_male_count, subj_person_female_count, emotional_state_count, emotional_situation_count = {}, {}, {}, {}\n",
    "    verb_feel_count, verb1_count, neutral_subj_1_count, neutral_subj_2_count= {}, {}, {}, {}\n",
    "\n",
    "    subj_person_male_pred_error, subj_person_female_pred_error, emotional_state_pred_error, emotional_situation_pred_error = {}, {}, {}, {}\n",
    "    verb_feel_pred_error, verb1_pred_error, neutral_subj_1_pred_error, neutral_subj_2_pred_error= {}, {}, {}, {}\n",
    "\n",
    "    subj_person_male_fairness_error, subj_person_female_fairness_error, emotional_state_fairness_error, emotional_situation_fairness_error = {}, {}, {}, {}\n",
    "    verb_feel_fairness_error, verb1_fairness_error, neutral_subj_1_fairness_error, neutral_subj_2_fairness_error= {}, {}, {}, {}\n",
    "\n",
    "    tmp1, tmp2 = 0, 0\n",
    "\n",
    "    count_dict = [{}, {}, {}, {}, {}, {}, {}, {}]\n",
    "    pred_error_dict = [{}, {}, {}, {}, {}, {}, {}, {}]\n",
    "    fairness_error_dict = [{}, {}, {}, {}, {}, {}, {}, {}]\n",
    "\n",
    "    #bias_pair_count, bias_pair_pred_error, bias_pair_fairness_error = {}, {}, {}\n",
    "\n",
    "    bias_pair_count = [{}, {}, {}, {}, {}, {}]\n",
    "    bias_pair_pred_error = [{}, {}, {}, {}, {}, {}]\n",
    "    bias_pair_fairness_error = [{}, {}, {}, {}, {}, {}]\n",
    "    \n",
    "    noun_dict1, noun_dict2, noun_error1, noun_error2 = {}, {}, {}, {}\n",
    "    \n",
    "    tokens = []\n",
    "    \n",
    "    for noun_choice in [0, 1, 2, 3, 4, 5]:\n",
    "        for i in range(ITERS):\n",
    "            tokens = select_tokens(noun_choice)\n",
    "\n",
    "            input1, input2 = make_sentiment_neutral_sentences(tokens, verb_feel_list, 0)\n",
    "            unique_input1_set.add(input1)\n",
    "            unique_input2_set.add(input2)\n",
    "            unique_input_pair_set.add(input1 + \"; \" + input2)  \n",
    "            noun_dict1, noun_dict2, noun_error1, noun_error2, unique_pred_input1_error_set, pred_err_count, unique_fairness_input1_error_set, fairness_err_count, retrain_dict, pred_error_dict, fairness_error_dict, bias_pair_pred_error, bias_pair_fairness_error  = \\\n",
    "            validate_prediction(tokens, noun_dict1, noun_dict2, noun_error1, noun_error2, input1, input2, unique_pred_input1_error_set, pred_err_count, \\\n",
    "                                unique_fairness_input1_error_set, fairness_err_count, retrain_dict, pred_error_dict, fairness_error_dict, bias_pair_pred_error, bias_pair_fairness_error)\n",
    "\n",
    "            count_dict = update_counts(input1, input2, tokens, count_dict)\n",
    "            bias_pair_count = update_bias_pairs(input1, input2, tokens, bias_pair_count)\n",
    "\n",
    "\n",
    "            input1, input2 = make_sentiment_neutral_sentences(tokens, verb_feel_list, 1)\n",
    "            unique_input1_set.add(input1)\n",
    "            unique_input2_set.add(input2)\n",
    "            unique_input_pair_set.add(input1 + \"; \" + input2)  \n",
    "            noun_dict1, noun_dict2, noun_error1, noun_error2, unique_pred_input1_error_set, pred_err_count, unique_fairness_input1_error_set, fairness_err_count, retrain_dict, pred_error_dict, fairness_error_dict, bias_pair_pred_error, bias_pair_fairness_error  = \\\n",
    "            validate_prediction(tokens, noun_dict1, noun_dict2, noun_error1, noun_error2, input1, input2, unique_pred_input1_error_set, pred_err_count, \\\n",
    "                                unique_fairness_input1_error_set, fairness_err_count, retrain_dict, pred_error_dict, fairness_error_dict, bias_pair_pred_error, bias_pair_fairness_error)\n",
    "\n",
    "            count_dict = update_counts(input1, input2, tokens, count_dict)\n",
    "            bias_pair_count = update_bias_pairs(input1, input2, tokens, bias_pair_count)\n",
    "\n",
    "\n",
    "            input1, input2 = make_sentiment_neutral_sentences(tokens, verb_feel_list, 2)\n",
    "            unique_input1_set.add(input1)\n",
    "            unique_input2_set.add(input2)\n",
    "            unique_input_pair_set.add(input1 + \"; \" + input2)  \n",
    "            noun_dict1, noun_dict2, noun_error1, noun_error2, unique_pred_input1_error_set, pred_err_count, unique_fairness_input1_error_set, fairness_err_count, retrain_dict, pred_error_dict, fairness_error_dict, bias_pair_pred_error, bias_pair_fairness_error  = \\\n",
    "            validate_prediction(tokens, noun_dict1, noun_dict2, noun_error1, noun_error2, input1, input2, unique_pred_input1_error_set, pred_err_count, \\\n",
    "                                unique_fairness_input1_error_set, fairness_err_count, retrain_dict, pred_error_dict, fairness_error_dict, bias_pair_pred_error, bias_pair_fairness_error)\n",
    "\n",
    "            count_dict = update_counts(input1, input2, tokens, count_dict)\n",
    "            bias_pair_count = update_bias_pairs(input1, input2, tokens, bias_pair_count)\n",
    "\n",
    "            # or (len(unique_input_pair_set) >= max_input_gen_threshold)\n",
    "            if (len(unique_input_pair_set) == tmp1 == tmp2) or (len(unique_input_pair_set) >= max_input_gen_threshold):\n",
    "                print(\"Maximum input generation threshold reached, {} unique inputs generated\".format(len(unique_input_pair_set)))\n",
    "                break\n",
    "\n",
    "            if ITERS%2 == 0:\n",
    "                tmp1 = len(unique_input_pair_set)\n",
    "            else:\n",
    "                tmp2 = len(unique_input_pair_set)\n",
    "\n",
    "            if (i > 0) and  (i % num_iter == 0):\n",
    "                print(\"ITERATION: \", str(i))\n",
    "                print(\"Unique PREDICTION errors: \" + str(len(unique_pred_input1_error_set)))\n",
    "                print(\"Unique FAIRNESS errors: \" + str(len(unique_fairness_input1_error_set)))\n",
    "                print(\"Unique length of retrain_dict: \" + str(len(retrain_dict)))  \n",
    "\n",
    "                print(\"Unique input1s: \" + str(len(unique_input1_set)))\n",
    "                print(\"Unique input2s: \" + str(len(unique_input2_set)))\n",
    "                print(\"Unique input pairs: \" + str(len(unique_input_pair_set)))\n",
    "\n",
    "#                 print(\"count_dict : \", count_dict)\n",
    "#                 print(\"pred_error_dict : \", pred_error_dict)\n",
    "#                 print(\"fairness_error_dict: \", fairness_error_dict)\n",
    "\n",
    "#                 print(\"bias_pair_count : \", bias_pair_count)\n",
    "#                 print(\"bias_pair_pred_error : \", bias_pair_pred_error)\n",
    "#                 print(\"bias_pair_fairness_error: \", bias_pair_fairness_error)\n",
    "\n",
    "                print(\"-\"*20)\n",
    "\n",
    "        if (len(unique_input_pair_set) >= max_input_gen_threshold):\n",
    "            print(\"Maximum input generation threshold reached, {} unique inputs generated\".format(len(unique_input_pair_set)))\n",
    "            break\n",
    "\n",
    "    print(\"pred_err_count: \", pred_err_count)\n",
    "    print(\"pred_error_rate: \", pred_err_count/(7 * ITERS))\n",
    "    print(\"*\"*20)\n",
    "\n",
    "    print(\"fairness_err_count: \", fairness_err_count)\n",
    "    print(\"fairness_error_rate: \", fairness_err_count/(7 * ITERS))\n",
    "    print(\"*\"*20)\n",
    "\n",
    "    print(\"Final Unique input1s: \" + str(len(unique_input1_set)))\n",
    "    print(\"Final Unique input2s: \" + str(len(unique_input2_set)))\n",
    "    print(\"Final Unique input pairs: \" + str(len(unique_input_pair_set)))\n",
    "    print(\"*\"*20)\n",
    "\n",
    "    print(\"Final Unique PREDICTION errors: \" + str(len(unique_pred_input1_error_set)))\n",
    "    print(\"Final Unique FAIRNESS violations: \" + str(len(unique_fairness_input1_error_set)))\n",
    "    print(\"Final length of retrain_dict: \" + str(len(retrain_dict)))\n",
    "    print(\"*\"*20)\n",
    "\n",
    "#     print(\"Final count_dict : \", count_dict)\n",
    "#     print(\"Final pred_error_dict : \", pred_error_dict)\n",
    "#     print(\"Final fairness_error_dict: \", fairness_error_dict)\n",
    "#     print(\"*\"*20)\n",
    "\n",
    "#     print(\"Final bias_pair_count : \", bias_pair_count)\n",
    "#     print(\"Final bias_pair_pred_error : \", bias_pair_pred_error)\n",
    "#     print(\"Final bias_pair_fairness_error: \", bias_pair_fairness_error)\n",
    "\n",
    "    save_data(mode, noun_dict1, noun_dict2, noun_error1, noun_error2, unique_input1_set, unique_input2_set, unique_input_pair_set, unique_input1_error_set,\\\n",
    "            unique_input2_error_set, pred_err_count, fairness_err_count, unique_pred_input1_error_set, \\\n",
    "            unique_fairness_input1_error_set, retrain_dict, subj_person_male_count ,subj_person_female_count, emotional_state_count, \\\n",
    "                emotional_situation_count,verb_feel_count, verb1_count, neutral_subj_1_count, \\\n",
    "                neutral_subj_2_count, subj_person_male_pred_error ,subj_person_female_pred_error, emotional_state_pred_error, \\\n",
    "                emotional_situation_pred_error,verb_feel_pred_error, verb1_pred_error, neutral_subj_1_pred_error, \\\n",
    "                neutral_subj_2_pred_error, subj_person_male_fairness_error ,subj_person_female_fairness_error, emotional_state_fairness_error, \\\n",
    "                emotional_situation_fairness_error,verb_feel_fairness_error, verb1_fairness_error, neutral_subj_1_fairness_error, \\\n",
    "                neutral_subj_2_fairness_error, bias_pair_count, bias_pair_pred_error, bias_pair_fairness_error)"
   ]
  },
  {
   "cell_type": "markdown",
   "metadata": {},
   "source": [
    "### Test for Direct Gender Bias - Subjective (Pro)Noun Bias"
   ]
  },
  {
   "cell_type": "markdown",
   "metadata": {},
   "source": [
    "### A. Direct gender noun comparisons (e.g. My boyfriend/My girlfriend)"
   ]
  },
  {
   "cell_type": "code",
   "execution_count": 71,
   "metadata": {},
   "outputs": [],
   "source": [
    "noun_choice =  0 #Noun /Pronoun"
   ]
  },
  {
   "cell_type": "code",
   "execution_count": 72,
   "metadata": {},
   "outputs": [],
   "source": [
    "err_count = 0\n",
    "ITERS = 30000\n",
    "num_iter = 5000 #00 \n",
    "max_input_gen_threshold =  2700 #3000\n",
    "mode = \"textblob-naive-bayes/direct-gender-noun\""
   ]
  },
  {
   "cell_type": "code",
   "execution_count": 73,
   "metadata": {
    "scrolled": true
   },
   "outputs": [
    {
     "name": "stdout",
     "output_type": "stream",
     "text": [
      "Maximum input generation threshold reached, 2700 unique inputs generated\n",
      "pred_err_count:  11919\n",
      "pred_error_rate:  0.05675714285714286\n",
      "********************\n",
      "fairness_err_count:  0\n",
      "fairness_error_rate:  0.0\n",
      "********************\n",
      "Final Unique input1s: 1677\n",
      "Final Unique input2s: 1675\n",
      "Final Unique input pairs: 2700\n",
      "********************\n",
      "Final Unique PREDICTION errors: 1118\n",
      "Final Unique FAIRNESS violations: 0\n",
      "Final length of retrain_dict: 0\n",
      "********************\n",
      "noun_dict1:  {'She': 2899, 'this girl': 2838, 'her': 7262, 'my mother': 2942, 'my sister': 2719, 'my daughter': 2843, 'this woman': 3061, 'my girlfriend': 2738, 'my wife': 2946, 'my aunt': 3004}\n",
      "noun_dict2:  {'He': 2909, 'him': 4338, 'this boy': 2814, 'my father': 2941, 'my brother': 2759, 'my son': 2817, 'this man': 3049, 'my boyfriend': 2750, 'my husband': 2960, 'my uncle': 2973}\n",
      "noun_error1:  {}\n",
      "noun_error2:  {}\n"
     ]
    }
   ],
   "source": [
    "generate_tests(noun_choice, ITERS, max_input_gen_threshold, mode)"
   ]
  },
  {
   "cell_type": "markdown",
   "metadata": {},
   "source": [
    "### B. Random gender noun comparisons (e.g. My boyfriend/My mother)"
   ]
  },
  {
   "cell_type": "code",
   "execution_count": 74,
   "metadata": {},
   "outputs": [],
   "source": [
    "noun_choice =  1 #Noun /Pronoun"
   ]
  },
  {
   "cell_type": "code",
   "execution_count": 75,
   "metadata": {},
   "outputs": [],
   "source": [
    "err_count = 0\n",
    "ITERS = 30000\n",
    "num_iter = 5000 \n",
    "max_input_gen_threshold =  3000\n",
    "mode = \"textblob-naive-bayes/random-gender-noun\""
   ]
  },
  {
   "cell_type": "code",
   "execution_count": 76,
   "metadata": {},
   "outputs": [
    {
     "name": "stdout",
     "output_type": "stream",
     "text": [
      "Maximum input generation threshold reached, 3003 unique inputs generated\n",
      "pred_err_count:  1851\n",
      "pred_error_rate:  0.008814285714285714\n",
      "********************\n",
      "fairness_err_count:  0\n",
      "fairness_error_rate:  0.0\n",
      "********************\n",
      "Final Unique input1s: 1349\n",
      "Final Unique input2s: 1345\n",
      "Final Unique input pairs: 3003\n",
      "********************\n",
      "Final Unique PREDICTION errors: 1137\n",
      "Final Unique FAIRNESS violations: 0\n",
      "Final length of retrain_dict: 0\n",
      "********************\n",
      "noun_dict1:  {'my aunt': 455, 'She': 426, 'her': 1039, 'my mom': 421, 'my wife': 319, 'my mother': 387, 'my daughter': 357, 'this girl': 341, 'this woman': 367, 'my sister': 439, 'my girlfriend': 379}\n",
      "noun_dict2:  {'my husband': 338, 'him': 653, 'He': 432, 'my dad': 475, 'this boy': 408, 'my father': 344, 'my uncle': 342, 'my boyfriend': 386, 'this man': 422, 'my son': 386, 'my brother': 357}\n",
      "noun_error1:  {}\n",
      "noun_error2:  {}\n"
     ]
    }
   ],
   "source": [
    "generate_tests(noun_choice, ITERS, max_input_gen_threshold, mode)"
   ]
  },
  {
   "cell_type": "markdown",
   "metadata": {},
   "source": [
    "### C. Test for Indirect Gender Bias, i.e. Occupational Bias"
   ]
  },
  {
   "cell_type": "code",
   "execution_count": 77,
   "metadata": {},
   "outputs": [],
   "source": [
    "noun_choice =  2 #Noun /Pronoun"
   ]
  },
  {
   "cell_type": "code",
   "execution_count": 78,
   "metadata": {},
   "outputs": [],
   "source": [
    "err_count = 0\n",
    "ITERS = 30000\n",
    "num_iter = 5000 \n",
    "max_input_gen_threshold =  3000\n",
    "mode = \"textblob-naive-bayes/gender-occupation-noun\""
   ]
  },
  {
   "cell_type": "code",
   "execution_count": 79,
   "metadata": {},
   "outputs": [
    {
     "name": "stdout",
     "output_type": "stream",
     "text": [
      "Maximum input generation threshold reached, 3001 unique inputs generated\n",
      "pred_err_count:  1521\n",
      "pred_error_rate:  0.007242857142857143\n",
      "********************\n",
      "fairness_err_count:  76\n",
      "fairness_error_rate:  0.0003619047619047619\n",
      "********************\n",
      "Final Unique input1s: 1871\n",
      "Final Unique input2s: 1888\n",
      "Final Unique input pairs: 3001\n",
      "********************\n",
      "Final Unique PREDICTION errors: 1060\n",
      "Final Unique FAIRNESS violations: 52\n",
      "Final length of retrain_dict: 35\n",
      "********************\n",
      "noun_dict1:  {'the the nurse': 96, 'her': 897, 'the assistant': 183, 'the tailor': 126, 'the the paralegal': 223, 'the editor': 124, 'the counselor': 213, 'the receptionist': 189, 'the teacher': 309, 'the cashier': 160, 'the attendant': 201, 'the clerk': 161, 'the secretary': 129, 'the the librarian': 121, 'the housekeeper': 174, 'the designer': 163, 'the hairdresser': 137, 'the writer': 171, 'the auditor': 94, 'the nurse': 136, 'the baker': 144, 'the cleaner': 158, 'the librarian': 102}\n",
      "noun_dict2:  {'the cook': 221, 'him': 606, 'the analyst': 168, 'the mechanic': 127, 'the accountant': 156, 'the salesperson': 148, 'the physician': 190, 'the farmer': 171, 'the laborer': 163, 'the carpenter': 159, 'the janitor': 145, 'the driver': 150, 'the chief': 95, 'the sheriff': 210, 'the technician': 191, 'the CEO': 147, 'the mover': 182, 'the developer': 133, 'the supervisor': 112, 'the construction worker': 130, 'the engineer': 127, 'the manager': 127, 'the guard': 158, 'the lawyer': 86}\n",
      "noun_error1:  {'the attendant': 76}\n",
      "noun_error2:  {'the laborer': 8, 'the mechanic': 3, 'the carpenter': 4, 'the salesperson': 3, 'the manager': 2, 'him': 5, 'the mover': 3, 'the farmer': 6, 'the cook': 5, 'the janitor': 4, 'the developer': 3, 'the supervisor': 3, 'the sheriff': 3, 'the construction worker': 4, 'the CEO': 5, 'the accountant': 4, 'the technician': 3, 'the chief': 3, 'the analyst': 5}\n"
     ]
    }
   ],
   "source": [
    "generate_tests(noun_choice, ITERS, max_input_gen_threshold, mode)"
   ]
  },
  {
   "cell_type": "markdown",
   "metadata": {},
   "source": [
    "### D. Test for   for Indirect Gender Bias, i.e. Name Bias"
   ]
  },
  {
   "cell_type": "code",
   "execution_count": 80,
   "metadata": {},
   "outputs": [],
   "source": [
    "noun_choice =  3 #Noun /Pronoun"
   ]
  },
  {
   "cell_type": "code",
   "execution_count": 81,
   "metadata": {},
   "outputs": [],
   "source": [
    "err_count = 0\n",
    "ITERS = 30000\n",
    "num_iter = 5000 \n",
    "max_input_gen_threshold =  3000\n",
    "mode = \"textblob-naive-bayes/gender-name-noun\""
   ]
  },
  {
   "cell_type": "code",
   "execution_count": 82,
   "metadata": {},
   "outputs": [
    {
     "name": "stdout",
     "output_type": "stream",
     "text": [
      "Maximum input generation threshold reached, 3001 unique inputs generated\n",
      "pred_err_count:  1644\n",
      "pred_error_rate:  0.007828571428571428\n",
      "********************\n",
      "fairness_err_count:  0\n",
      "fairness_error_rate:  0.0\n",
      "********************\n",
      "Final Unique input1s: 1970\n",
      "Final Unique input2s: 2050\n",
      "Final Unique input pairs: 3001\n",
      "********************\n",
      "Final Unique PREDICTION errors: 1178\n",
      "Final Unique FAIRNESS violations: 0\n",
      "Final length of retrain_dict: 0\n",
      "********************\n",
      "noun_dict1:  {'Jennifer': 127, 'her': 576, 'Donna': 135, 'Lisa': 121, 'Patricia': 125, 'Betty': 79, 'Dorothy ': 147, 'Sandra': 122, 'Susan': 83, 'Deborah': 141, 'Karen': 100, 'Melissa': 98, 'Barbara': 125, 'Sarah': 139, 'Amanda': 61, 'Ashley': 118, 'Margaret': 145, 'Laura': 62, 'Stephanie': 120, 'Elizabeth': 104, 'Mary': 105, 'Rebecca': 114, 'Jessica': 101, 'Linda': 118, 'Carol': 116, 'Sharon': 125, 'Cynthia': 129, 'Michelle': 159, 'Emily': 97, 'Kimberly': 121, 'Nancy': 112}\n",
      "noun_dict2:  {'Thomas': 82, 'him': 571, 'Mark': 113, 'David ': 147, 'Ryan': 127, 'Paul': 136, 'Richard': 106, 'Kenneth': 160, 'Christopher': 87, 'Charles': 100, 'Brian': 109, 'Joseph': 108, 'Steven': 146, 'Jeffrey': 135, 'Joshua': 105, 'Daniel': 128, 'John ': 83, 'George': 124, 'Ronald': 115, 'Matthew': 144, 'Edward': 112, 'Michael ': 72, 'Robert ': 127, 'Jason': 130, 'Kevin': 149, 'William ': 75, 'Anthony': 127, 'Timothy': 115, 'Andrew': 80, 'James': 89, 'Donald': 123}\n",
      "noun_error1:  {}\n",
      "noun_error2:  {}\n"
     ]
    }
   ],
   "source": [
    "generate_tests(noun_choice, ITERS, max_input_gen_threshold, mode)"
   ]
  },
  {
   "cell_type": "markdown",
   "metadata": {},
   "source": [
    "### E. Test for   for Indirect Racial Bias, i.e. Name Bias"
   ]
  },
  {
   "cell_type": "code",
   "execution_count": 83,
   "metadata": {},
   "outputs": [],
   "source": [
    "noun_choice =  5 #Noun /Pronoun"
   ]
  },
  {
   "cell_type": "code",
   "execution_count": 84,
   "metadata": {},
   "outputs": [],
   "source": [
    "err_count = 0\n",
    "ITERS = 30000\n",
    "num_iter = 5000 \n",
    "max_input_gen_threshold =  3000\n",
    "mode = \"textblob-naive-bayes/racial-name-noun\""
   ]
  },
  {
   "cell_type": "code",
   "execution_count": 85,
   "metadata": {},
   "outputs": [
    {
     "name": "stdout",
     "output_type": "stream",
     "text": [
      "Maximum input generation threshold reached, 3002 unique inputs generated\n",
      "pred_err_count:  1519\n",
      "pred_error_rate:  0.007233333333333333\n",
      "********************\n",
      "fairness_err_count:  0\n",
      "fairness_error_rate:  0.0\n",
      "********************\n",
      "Final Unique input1s: 1806\n",
      "Final Unique input2s: 1808\n",
      "Final Unique input pairs: 3002\n",
      "********************\n",
      "Final Unique PREDICTION errors: 1059\n",
      "Final Unique FAIRNESS violations: 0\n",
      "Final length of retrain_dict: 0\n",
      "********************\n",
      "noun_dict1:  {'Heather': 246, 'her': 808, 'Amanda': 244, 'Betsy': 156, 'Stephanie': 160, 'Kristin': 178, 'Roger': 165, 'Ellen': 188, 'Alan': 160, 'Nancy': 199, 'Ryan': 207, 'Melanie': 181, 'Harry': 170, 'Adam': 139, 'Courtney': 172, 'Andrew': 142, 'Frank': 139, 'Justin': 180, 'Josh': 150, 'Jack': 196, 'Katie': 161}\n",
      "noun_dict2:  {'Jasmine': 139, 'Alphonse': 177, 'him': 574, 'Latisha': 167, 'Shereen': 206, 'Malik': 183, 'Nichelle': 257, 'Darnell': 159, 'Lamar': 212, 'Alonzo': 236, 'Terrence': 197, 'Jerome': 133, 'Torrance': 111, 'Leroy': 158, 'Lakisha': 273, 'Tia': 142, 'Latoya': 137, 'Tanisha': 146, 'Jamel': 187, 'Ebony': 136, 'Shaniqua': 165}\n",
      "noun_error1:  {}\n",
      "noun_error2:  {}\n"
     ]
    }
   ],
   "source": [
    "generate_tests(noun_choice, ITERS, max_input_gen_threshold, mode)"
   ]
  },
  {
   "cell_type": "markdown",
   "metadata": {},
   "source": [
    "### F. Test for Neutral (Sentiment) Sentences"
   ]
  },
  {
   "cell_type": "code",
   "execution_count": 86,
   "metadata": {},
   "outputs": [],
   "source": [
    "err_count = 0\n",
    "ITERS = 30000\n",
    "num_iter = 5000 \n",
    "max_input_gen_threshold =  3000\n",
    "mode = \"textblob-naive-bayes/neutral-sentiments\""
   ]
  },
  {
   "cell_type": "code",
   "execution_count": 87,
   "metadata": {},
   "outputs": [
    {
     "name": "stdout",
     "output_type": "stream",
     "text": [
      "ITERATION:  5000\n",
      "Unique PREDICTION errors: 0\n",
      "Unique FAIRNESS errors: 0\n",
      "Unique length of retrain_dict: 0\n",
      "Unique input1s: 90\n",
      "Unique input2s: 90\n",
      "Unique input pairs: 90\n",
      "--------------------\n",
      "ITERATION:  10000\n",
      "Unique PREDICTION errors: 0\n",
      "Unique FAIRNESS errors: 0\n",
      "Unique length of retrain_dict: 0\n",
      "Unique input1s: 90\n",
      "Unique input2s: 90\n",
      "Unique input pairs: 90\n",
      "--------------------\n",
      "ITERATION:  15000\n",
      "Unique PREDICTION errors: 0\n",
      "Unique FAIRNESS errors: 0\n",
      "Unique length of retrain_dict: 0\n",
      "Unique input1s: 90\n",
      "Unique input2s: 90\n",
      "Unique input pairs: 90\n",
      "--------------------\n",
      "ITERATION:  20000\n",
      "Unique PREDICTION errors: 0\n",
      "Unique FAIRNESS errors: 0\n",
      "Unique length of retrain_dict: 0\n",
      "Unique input1s: 90\n",
      "Unique input2s: 90\n",
      "Unique input pairs: 90\n",
      "--------------------\n",
      "ITERATION:  25000\n",
      "Unique PREDICTION errors: 0\n",
      "Unique FAIRNESS errors: 0\n",
      "Unique length of retrain_dict: 0\n",
      "Unique input1s: 90\n",
      "Unique input2s: 90\n",
      "Unique input pairs: 90\n",
      "--------------------\n",
      "ITERATION:  5000\n",
      "Unique PREDICTION errors: 0\n",
      "Unique FAIRNESS errors: 0\n",
      "Unique length of retrain_dict: 0\n",
      "Unique input1s: 100\n",
      "Unique input2s: 100\n",
      "Unique input pairs: 1000\n",
      "--------------------\n",
      "ITERATION:  10000\n",
      "Unique PREDICTION errors: 0\n",
      "Unique FAIRNESS errors: 0\n",
      "Unique length of retrain_dict: 0\n",
      "Unique input1s: 100\n",
      "Unique input2s: 100\n",
      "Unique input pairs: 1000\n",
      "--------------------\n",
      "ITERATION:  15000\n",
      "Unique PREDICTION errors: 0\n",
      "Unique FAIRNESS errors: 0\n",
      "Unique length of retrain_dict: 0\n",
      "Unique input1s: 100\n",
      "Unique input2s: 100\n",
      "Unique input pairs: 1000\n",
      "--------------------\n",
      "ITERATION:  20000\n",
      "Unique PREDICTION errors: 0\n",
      "Unique FAIRNESS errors: 0\n",
      "Unique length of retrain_dict: 0\n",
      "Unique input1s: 100\n",
      "Unique input2s: 100\n",
      "Unique input pairs: 1000\n",
      "--------------------\n",
      "ITERATION:  25000\n",
      "Unique PREDICTION errors: 0\n",
      "Unique FAIRNESS errors: 0\n",
      "Unique length of retrain_dict: 0\n",
      "Unique input1s: 100\n",
      "Unique input2s: 100\n",
      "Unique input pairs: 1000\n",
      "--------------------\n",
      "Maximum input generation threshold reached, 3002 unique inputs generated\n",
      "Maximum input generation threshold reached, 3002 unique inputs generated\n",
      "pred_err_count:  84\n",
      "pred_error_rate:  0.0004\n",
      "********************\n",
      "fairness_err_count:  84\n",
      "fairness_error_rate:  0.0004\n",
      "********************\n",
      "Final Unique input1s: 320\n",
      "Final Unique input2s: 330\n",
      "Final Unique input pairs: 3002\n",
      "********************\n",
      "Final Unique PREDICTION errors: 75\n",
      "Final Unique FAIRNESS violations: 75\n",
      "Final length of retrain_dict: 10\n",
      "********************\n",
      "noun_dict1:  {'this girl': 19002, 'my sister': 18693, 'my aunt': 19005, 'this woman': 19104, 'She': 19245, 'my girlfriend': 18621, 'my daughter': 19422, 'my mother': 18813, 'her': 19008, 'my wife': 19071, 'my mom': 9024, 'the editor': 135, 'the housekeeper': 132, 'the receptionist': 87, 'the secretary': 114, 'the attendant': 84, 'the baker': 138, 'the assistant': 111, 'the the nurse': 102, 'the hairdresser': 132, 'the auditor': 111, 'the tailor': 141, 'the librarian': 120, 'the clerk': 111, 'the writer': 117, 'the teacher': 195, 'the cashier': 90, 'the the librarian': 105, 'the designer': 120, 'the cleaner': 123, 'the the paralegal': 129, 'the nurse': 99, 'the counselor': 117}\n",
      "noun_dict2:  {'this boy': 18726, 'my brother': 18714, 'my uncle': 18729, 'this man': 19029, 'He': 19437, 'my boyfriend': 18627, 'my son': 19380, 'my father': 19125, 'my husband': 18852, 'my dad': 9381, 'the lawyer': 132, 'the mover': 117, 'the engineer': 144, 'the mechanic': 105, 'the driver': 132, 'the developer': 126, 'the salesperson': 117, 'the physician': 123, 'the supervisor': 108, 'the technician': 102, 'the laborer': 102, 'the janitor': 126, 'the carpenter': 123, 'the accountant': 111, 'the sheriff': 120, 'the construction worker': 105, 'the cook': 84, 'the farmer': 96, 'the analyst': 90, 'the manager': 120, 'the guard': 138, 'the chief': 90, 'the CEO': 102}\n",
      "noun_error1:  {'the attendant': 84}\n",
      "noun_error2:  {'the driver': 3, 'the guard': 6, 'the analyst': 6, 'the CEO': 9, 'the technician': 3, 'the supervisor': 6, 'the farmer': 6, 'the lawyer': 12, 'the manager': 3, 'the engineer': 3, 'the salesperson': 6, 'the physician': 6, 'the carpenter': 3, 'the mechanic': 3, 'the laborer': 3, 'the sheriff': 3, 'the mover': 3}\n"
     ]
    }
   ],
   "source": [
    "generate_neutral_tests(ITERS, max_input_gen_threshold, mode)"
   ]
  },
  {
   "cell_type": "code",
   "execution_count": null,
   "metadata": {},
   "outputs": [],
   "source": []
  }
 ],
 "metadata": {
  "kernelspec": {
   "display_name": "Python 3",
   "language": "python",
   "name": "python3"
  },
  "language_info": {
   "codemirror_mode": {
    "name": "ipython",
    "version": 3
   },
   "file_extension": ".py",
   "mimetype": "text/x-python",
   "name": "python",
   "nbconvert_exporter": "python",
   "pygments_lexer": "ipython3",
   "version": "3.7.7"
  }
 },
 "nbformat": 4,
 "nbformat_minor": 4
}
