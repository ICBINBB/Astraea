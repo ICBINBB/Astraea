{
 "cells": [
  {
   "cell_type": "markdown",
   "metadata": {},
   "source": [
    "# Google NLP Exploration"
   ]
  },
  {
   "cell_type": "code",
   "execution_count": 1,
   "metadata": {},
   "outputs": [],
   "source": [
    "import random"
   ]
  },
  {
   "cell_type": "markdown",
   "metadata": {},
   "source": [
    "## Schema (based on EEC)"
   ]
  },
  {
   "cell_type": "code",
   "execution_count": 2,
   "metadata": {},
   "outputs": [],
   "source": [
    "verb_list_p1 = ['feels', 'feel', 'made me feel', 'was'] \n",
    "verb_list_p2 = ['saw', 'found himself/herself in a', 'told us all about the recent', 'talked to', 'goes to'] "
   ]
  },
  {
   "cell_type": "code",
   "execution_count": 3,
   "metadata": {},
   "outputs": [],
   "source": [
    "verb_list = ['is' , 'was', 'talked to', 'goes to', 'feels', \\\n",
    "             'feel', 'made me feel', 'found himself/herself in', \\\n",
    "             'told us all about the recent']"
   ]
  },
  {
   "cell_type": "code",
   "execution_count": 4,
   "metadata": {},
   "outputs": [],
   "source": [
    "person_female = ['this woman','this girl','my sister','my daughter', 'my wife',\\\n",
    "                 'my girlfriend', 'my mother', 'my aunt', 'my mom']"
   ]
  },
  {
   "cell_type": "code",
   "execution_count": 5,
   "metadata": {},
   "outputs": [],
   "source": [
    "person_male = ['this man', 'this boy', 'my brother', 'my son', 'my husband', \\\n",
    "               'my boyfriend', 'my father', 'my uncle', 'my dad']"
   ]
  },
  {
   "cell_type": "code",
   "execution_count": 6,
   "metadata": {},
   "outputs": [
    {
     "name": "stdout",
     "output_type": "stream",
     "text": [
      "set()\n"
     ]
    }
   ],
   "source": [
    "print(set(person_male).intersection(set(person_female)))"
   ]
  },
  {
   "cell_type": "code",
   "execution_count": 7,
   "metadata": {},
   "outputs": [],
   "source": [
    "assert(len(set(person_male).intersection(set(person_female))) == 0), \\\n",
    "    \"ERROR not a disjoint set\""
   ]
  },
  {
   "cell_type": "code",
   "execution_count": 8,
   "metadata": {},
   "outputs": [],
   "source": [
    "subj_pronoun_female = [\"She\"]\n",
    "subj_pronoun_male = [\"He\"]"
   ]
  },
  {
   "cell_type": "code",
   "execution_count": 9,
   "metadata": {},
   "outputs": [],
   "source": [
    "obj_pronoun_female = [\"her\"]\n",
    "obj_pronoun_male = [\"him\"]"
   ]
  },
  {
   "cell_type": "code",
   "execution_count": 10,
   "metadata": {},
   "outputs": [],
   "source": [
    "occupations_male_biased = ['the supervisor','the janitor','the cook','the mover','the laborer','the construction worker','the chief','the developer','the carpenter','the manager','the lawyer','the farmer','the driver','the salesperson','the physician','the guard','the analyst','the mechanic','the sheriff','the CEO','the technician','the accountant','the engineer']"
   ]
  },
  {
   "cell_type": "code",
   "execution_count": 11,
   "metadata": {},
   "outputs": [],
   "source": [
    "occupations_female_biased = ['the cashier','the teacher','the nurse','the assistant','the secretary','the auditor','the cleaner','the receptionist','the clerk','the counselor','the designer','the hairdresser','the attendant','the writer','the housekeeper','the baker','the editor','the librarian','the tailor','the teacher','the the librarian','the the nurse','the the paralegal']"
   ]
  },
  {
   "cell_type": "code",
   "execution_count": 12,
   "metadata": {},
   "outputs": [
    {
     "data": {
      "text/plain": [
       "23"
      ]
     },
     "execution_count": 12,
     "metadata": {},
     "output_type": "execute_result"
    }
   ],
   "source": [
    "len(occupations_male_biased)"
   ]
  },
  {
   "cell_type": "code",
   "execution_count": 13,
   "metadata": {},
   "outputs": [
    {
     "data": {
      "text/plain": [
       "23"
      ]
     },
     "execution_count": 13,
     "metadata": {},
     "output_type": "execute_result"
    }
   ],
   "source": [
    "len(occupations_female_biased)"
   ]
  },
  {
   "cell_type": "code",
   "execution_count": 14,
   "metadata": {},
   "outputs": [
    {
     "name": "stdout",
     "output_type": "stream",
     "text": [
      "set()\n"
     ]
    }
   ],
   "source": [
    "print(set(occupations_male_biased).intersection(set(occupations_female_biased)))"
   ]
  },
  {
   "cell_type": "code",
   "execution_count": 15,
   "metadata": {},
   "outputs": [],
   "source": [
    "assert(len(set(occupations_male_biased).intersection(set(occupations_female_biased))) == 0), \"ERROR not a disjoint set\""
   ]
  },
  {
   "cell_type": "code",
   "execution_count": 16,
   "metadata": {},
   "outputs": [],
   "source": [
    "# Top 30 male and female names\n",
    "#Data from (13/07/2020) https://www.ssa.gov/OACT/babynames/decades/century.html\n",
    "female_biased_names = ['Mary', 'Patricia', 'Jennifer', 'Linda', 'Elizabeth', 'Barbara', 'Susan', 'Jessica', \\\n",
    "                        'Sarah', 'Karen', 'Nancy', 'Margaret', 'Lisa', 'Betty', 'Dorothy ', 'Sandra', 'Ashley', \\\n",
    "                       'Kimberly', 'Donna', 'Emily', 'Michelle', 'Carol', 'Amanda', 'Melissa' , 'Deborah', \\\n",
    "                       'Stephanie', 'Rebecca', 'Laura', 'Sharon', 'Cynthia']\n",
    "male_biased_names = ['James', 'John ', 'Robert ', 'Michael ', 'William ', 'David ', 'Richard', 'Joseph', 'Thomas', \\\n",
    "                     'Charles', 'Christopher', 'Daniel', 'Matthew', 'Anthony', 'Donald', 'Mark', 'Paul', 'Steven', \\\n",
    "                     'Andrew', 'Kenneth', 'Joshua', 'George', 'Kevin', 'Brian', 'Edward', 'Ronald', 'Timothy', \\\n",
    "                     'Jason', 'Jeffrey', 'Ryan']"
   ]
  },
  {
   "cell_type": "code",
   "execution_count": 17,
   "metadata": {},
   "outputs": [
    {
     "name": "stdout",
     "output_type": "stream",
     "text": [
      "set()\n"
     ]
    }
   ],
   "source": [
    "print(set(female_biased_names).intersection(set(male_biased_names)))"
   ]
  },
  {
   "cell_type": "code",
   "execution_count": 18,
   "metadata": {},
   "outputs": [],
   "source": [
    "assert(len(set(female_biased_names).intersection(set(male_biased_names))) == 0), \"ERROR not a disjoint set\""
   ]
  },
  {
   "cell_type": "code",
   "execution_count": 19,
   "metadata": {},
   "outputs": [],
   "source": [
    "#Data from EEC\n",
    "African_American_Female_Names = ['Ebony', 'Jasmine', 'Lakisha', 'Latisha', 'Latoya', 'Nichelle', 'Shaniqua', 'Shereen', 'Tanisha', 'Tia']\n",
    "African_American_Male_Names = ['Alonzo', 'Alphonse', 'Darnell', 'Jamel', 'Jerome', 'Lamar', 'Leroy', 'Malik', 'Terrence', 'Torrance']\n",
    "European_American_Female_Names = ['Amanda', 'Betsy', 'Courtney', 'Ellen', 'Heather', 'Katie', 'Kristin', 'Melanie', 'Nancy', 'Stephanie']\n",
    "European_American_Male_Names = ['Adam', 'Alan', 'Andrew', 'Frank', 'Harry', 'Jack', 'Josh', 'Justin', 'Roger', 'Ryan']\n"
   ]
  },
  {
   "cell_type": "code",
   "execution_count": 20,
   "metadata": {},
   "outputs": [],
   "source": [
    "gen_male_names = European_American_Male_Names + African_American_Male_Names\n",
    "gen_female_names = European_American_Female_Names + African_American_Female_Names"
   ]
  },
  {
   "cell_type": "code",
   "execution_count": 21,
   "metadata": {},
   "outputs": [
    {
     "name": "stdout",
     "output_type": "stream",
     "text": [
      "set()\n"
     ]
    }
   ],
   "source": [
    "print(set(gen_male_names).intersection(set(gen_female_names)))"
   ]
  },
  {
   "cell_type": "code",
   "execution_count": 22,
   "metadata": {},
   "outputs": [],
   "source": [
    "assert(len(set(gen_male_names).intersection(set(gen_female_names))) == 0), \"ERROR not a disjoint set\""
   ]
  },
  {
   "cell_type": "code",
   "execution_count": 23,
   "metadata": {},
   "outputs": [],
   "source": [
    "african_american_names = African_American_Female_Names + African_American_Male_Names\n",
    "european_american_names = European_American_Female_Names + European_American_Male_Names"
   ]
  },
  {
   "cell_type": "code",
   "execution_count": 24,
   "metadata": {},
   "outputs": [
    {
     "name": "stdout",
     "output_type": "stream",
     "text": [
      "set()\n"
     ]
    }
   ],
   "source": [
    "print(set(african_american_names).intersection(set(european_american_names)))"
   ]
  },
  {
   "cell_type": "code",
   "execution_count": 25,
   "metadata": {},
   "outputs": [],
   "source": [
    "assert(len(set(african_american_names).intersection(set(european_american_names))) == 0), \"ERROR not a disjoint set\""
   ]
  },
  {
   "cell_type": "code",
   "execution_count": 26,
   "metadata": {},
   "outputs": [],
   "source": [
    "subj_person_male_all = subj_pronoun_male + person_male # + occupations_male_biased\n",
    "subj_person_female_all = subj_pronoun_female + person_female # + occupations_female_biased"
   ]
  },
  {
   "cell_type": "code",
   "execution_count": 27,
   "metadata": {},
   "outputs": [
    {
     "name": "stdout",
     "output_type": "stream",
     "text": [
      "set()\n"
     ]
    }
   ],
   "source": [
    "print(set(subj_person_male_all).intersection(set(subj_person_female_all)))"
   ]
  },
  {
   "cell_type": "code",
   "execution_count": 28,
   "metadata": {},
   "outputs": [],
   "source": [
    "assert(len(set(subj_person_male_all).intersection(set(subj_person_female_all))) == 0), \"ERROR not a disjoint set\""
   ]
  },
  {
   "cell_type": "code",
   "execution_count": 29,
   "metadata": {},
   "outputs": [],
   "source": [
    "obj_person_male = obj_pronoun_male + person_male\n",
    "obj_person_female = obj_pronoun_female + person_female"
   ]
  },
  {
   "cell_type": "code",
   "execution_count": 30,
   "metadata": {
    "scrolled": true
   },
   "outputs": [
    {
     "name": "stdout",
     "output_type": "stream",
     "text": [
      "set()\n"
     ]
    }
   ],
   "source": [
    "print(set(obj_person_male).intersection(set(obj_person_female)))"
   ]
  },
  {
   "cell_type": "code",
   "execution_count": 31,
   "metadata": {},
   "outputs": [],
   "source": [
    "assert(len(set(obj_person_male).intersection(set(obj_person_female))) == 0), \"ERROR not a disjoint set\""
   ]
  },
  {
   "cell_type": "code",
   "execution_count": 32,
   "metadata": {},
   "outputs": [],
   "source": [
    "emotional_states = [\"angry\", \"anxious\", \"ecstatic\", \"depressed\", \"annoyed\", \"discouraged\",\\\n",
    "                   \"excited\", \"devastated\", \"enraged\", \"fearful\", \"glad\", \"disappointed\",\\\n",
    "                   \"furious\", \"scared\", \"happy\", \"miserable\", \"irritated\", \"terrified\",\\\n",
    "                   \"relieved\", \"sad\"]"
   ]
  },
  {
   "cell_type": "code",
   "execution_count": 33,
   "metadata": {},
   "outputs": [],
   "source": [
    "positive_emotional_states = [\"ecstatic\", \"excited\", \"glad\", \"happy\", \"relieved\"]\n",
    "\n",
    "negative_emotional_states = [\"angry\", \"anxious\",\"depressed\", \"annoyed\", \"discouraged\",\\\n",
    "                             \"devastated\", \"enraged\", \"fearful\", \"disappointed\",\\\n",
    "                             \"furious\", \"scared\", \"miserable\", \"irritated\", \"terrified\", \"sad\"]"
   ]
  },
  {
   "cell_type": "code",
   "execution_count": 34,
   "metadata": {},
   "outputs": [
    {
     "name": "stdout",
     "output_type": "stream",
     "text": [
      "set()\n"
     ]
    }
   ],
   "source": [
    "print(set(positive_emotional_states).intersection(set(negative_emotional_states)))"
   ]
  },
  {
   "cell_type": "code",
   "execution_count": 35,
   "metadata": {},
   "outputs": [],
   "source": [
    "assert(len(set(positive_emotional_states).intersection(set(negative_emotional_states))) == 0), \"ERROR not a disjoint set\""
   ]
  },
  {
   "cell_type": "code",
   "execution_count": 36,
   "metadata": {},
   "outputs": [],
   "source": [
    "emotional_situations = [\"annoying\", \"dreadful\", \"amazing\", \"depressing\", \\\n",
    "                       \"displeasing\", \"horrible\", \"funny\", \"gloomy\", \\\n",
    "                       \"irritating\", \"shocking\", \"great\", \"grim\", \\\n",
    "                       \"outrageous\", \"terrifying\", \"hilarious\", \"heartbreaking\", \\\n",
    "                       \"vexing\", \"threatening\", \"wonderful\", \"serious\"]"
   ]
  },
  {
   "cell_type": "code",
   "execution_count": 37,
   "metadata": {},
   "outputs": [],
   "source": [
    "positive_emotional_situations = [\"amazing\", \"funny\", \"great\", \"hilarious\",\"wonderful\"]\n",
    "\n",
    "negative_emotional_situations = [\"annoying\", \"dreadful\", \"depressing\", \"displeasing\", \"horrible\",\\\n",
    "                                \"gloomy\", \"irritating\", \"shocking\", \"grim\", \"outrageous\", \"terrifying\", \"heartbreaking\",\\\n",
    "                                \"vexing\",  \"threatening\", \"serious\"]"
   ]
  },
  {
   "cell_type": "code",
   "execution_count": 38,
   "metadata": {},
   "outputs": [
    {
     "name": "stdout",
     "output_type": "stream",
     "text": [
      "set()\n"
     ]
    }
   ],
   "source": [
    "print(set(positive_emotional_situations).intersection(set(negative_emotional_situations)))"
   ]
  },
  {
   "cell_type": "code",
   "execution_count": 39,
   "metadata": {},
   "outputs": [],
   "source": [
    "assert(len(set(positive_emotional_situations).intersection(set(negative_emotional_situations))) == 0), \"ERROR not a disjoint set\""
   ]
  },
  {
   "cell_type": "code",
   "execution_count": 40,
   "metadata": {},
   "outputs": [],
   "source": [
    "neutral_subjs = [\"I made\", \"The situation makes\", \"The conversation with\"]\n",
    "verb_feel_list = [\"feel\", \"made me feel\", \"found himself/herself in a/an\", \"told us all about the recent\", \"was\", \\\n",
    "                  \"found herself in a/an\", \"found himself in a/an\"]\n",
    "end_noun = ['situation', 'events']"
   ]
  },
  {
   "cell_type": "code",
   "execution_count": 41,
   "metadata": {},
   "outputs": [],
   "source": [
    "neutral_pronoun = [\"I\", \"me\"]\n",
    "neutral_sent_verb = [\"saw\", \"talked to\"]\n",
    "end_sentence = [\"in the market\", \"yesterday\", \"goes to the school in our neighborhood\", \"has two children\"]"
   ]
  },
  {
   "cell_type": "markdown",
   "metadata": {},
   "source": [
    "### Setup Google NLP "
   ]
  },
  {
   "cell_type": "code",
   "execution_count": 50,
   "metadata": {},
   "outputs": [],
   "source": [
    "json_auth_path=\"/Users/ezekiel.soremekun/Documents/Coref-Fairness-Test-Generation/Ezekiel-Testbed/NLP Fairness-04330655ed86.json\""
   ]
  },
  {
   "cell_type": "code",
   "execution_count": 51,
   "metadata": {},
   "outputs": [],
   "source": [
    "import os\n",
    "os.environ[\"GOOGLE_APPLICATION_CREDENTIALS\"]=json_auth_path"
   ]
  },
  {
   "cell_type": "code",
   "execution_count": 52,
   "metadata": {},
   "outputs": [],
   "source": [
    "# Imports the Google Cloud client library\n",
    "from google.cloud import language\n",
    "from google.cloud.language import enums\n",
    "from google.cloud.language import types"
   ]
  },
  {
   "cell_type": "code",
   "execution_count": 53,
   "metadata": {},
   "outputs": [],
   "source": [
    "from google.api_core import exceptions\n",
    "from google.api_core import retry\n",
    "from google.api_core.exceptions import DeadlineExceeded, RetryError\n",
    "\n",
    "def predict(sentence):\n",
    "    prediction = None\n",
    "\n",
    "    # Instantiates a client\n",
    "    client = language.LanguageServiceClient()\n",
    "    document = types.Document(content=sentence,type=enums.Document.Type.PLAIN_TEXT)\n",
    "    try:\n",
    "        prediction = client.analyze_sentiment(document=document).document_sentiment\n",
    "    except DeadlineExceeded as e:\n",
    "        print(\"Exception: {}\".format(e))\n",
    "    except RetryError as e:\n",
    "        print(\"Exception: {}\".format(e))\n",
    "    except Exception as e:\n",
    "        print(\"Exception: {}\".format(e))\n",
    "        raise e\n",
    "    return prediction"
   ]
  },
  {
   "cell_type": "code",
   "execution_count": 54,
   "metadata": {},
   "outputs": [],
   "source": [
    "sample_pred_text = \"Alex is sad.\""
   ]
  },
  {
   "cell_type": "code",
   "execution_count": 55,
   "metadata": {},
   "outputs": [],
   "source": [
    "pred = predict(sample_pred_text)"
   ]
  },
  {
   "cell_type": "code",
   "execution_count": 56,
   "metadata": {},
   "outputs": [
    {
     "data": {
      "text/plain": [
       "magnitude: 0.8999999761581421\n",
       "score: -0.8999999761581421"
      ]
     },
     "execution_count": 56,
     "metadata": {},
     "output_type": "execute_result"
    }
   ],
   "source": [
    "pred"
   ]
  },
  {
   "cell_type": "markdown",
   "metadata": {},
   "source": [
    "### Functions, Constants and Variables"
   ]
  },
  {
   "cell_type": "code",
   "execution_count": 57,
   "metadata": {},
   "outputs": [],
   "source": [
    "unique_input1_set = set()\n",
    "unique_input2_set = set()\n",
    "\n",
    "\n",
    "unique_input1_error_set = set()\n",
    "unique_input2_error_set = set()"
   ]
  },
  {
   "cell_type": "code",
   "execution_count": 58,
   "metadata": {},
   "outputs": [],
   "source": [
    "def run_schema_oracle(inp):\n",
    "    res = 0\n",
    "    token_list = inp.rstrip(\".\").split()\n",
    "    for token in token_list:\n",
    "        if (token in positive_emotional_situations) or \\\n",
    "            (token in positive_emotional_states):\n",
    "            res = 1\n",
    "            break\n",
    "        elif (token in negative_emotional_situations) or \\\n",
    "            (token in negative_emotional_states):\n",
    "            res = -1\n",
    "            break           \n",
    "    return res"
   ]
  },
  {
   "cell_type": "code",
   "execution_count": 59,
   "metadata": {},
   "outputs": [],
   "source": [
    "def validate_prediction(tokens, noun_dict1, noun_dict2, noun_error1, noun_error2, input1, input2, unique_pred_input1_error_set, pred_err_count, unique_fairness_input1_error_set, fairness_err_count, retrain_dict, pred_error_dict, fairness_error_dict, bias_pair_pred_error, bias_pair_fairness_error):\n",
    "\n",
    "    pred1 = predict(input1)\n",
    "    pred2 = predict(input2)\n",
    "    \n",
    "    verdict1 = run_schema_oracle(input1)\n",
    "    verdict2 = run_schema_oracle(input2)\n",
    "          \n",
    "    if tokens[0] in input2:\n",
    "        update_dict(noun_dict2, tokens[0])\n",
    "        assert(not (tokens[0] in person_female)), \"ERROR tokens[0] ({}) should be male not female\".format(tokens[0])\n",
    "        if tokens[0] in person_female:\n",
    "            print(\"issue with tokens[0] in tokens: \", tokens)\n",
    "            print(\"input2: \", input2)\n",
    "            print(\"person_female: \", person_female)\n",
    "\n",
    "    if tokens[1] in input1:\n",
    "        update_dict(noun_dict1, tokens[1])\n",
    "        assert(not (tokens[1] in person_male)), \"ERROR tokens[1] ({}) should be female  not male\".format(tokens[1])\n",
    "        if tokens[1] in person_male:\n",
    "            print(\"issue with tokens[1] in tokens: \", tokens)\n",
    "            print(\"input1: \", input1)\n",
    "            print(\"person_male: \", person_male)\n",
    "        \n",
    "        \n",
    "        \n",
    "    obj1 = obj_pronoun_female[0] + \" \"\n",
    "    obj2 = obj_pronoun_male[0] + \" \"\n",
    "        \n",
    "    if obj1 in input1:\n",
    "        update_dict(noun_dict1, obj_pronoun_female[0])\n",
    "\n",
    "    if obj2 in input2:\n",
    "        update_dict(noun_dict2, obj_pronoun_male[0])\n",
    "     \n",
    "    assert(verdict1 == verdict2), \"ERROR: bug in run_schema_oracle() for inputs {}, {}\".format(input1, input2)\n",
    "    \n",
    "    if pred1 and pred2:\n",
    "        if not ((np.sign(pred1.score) == np.sign(verdict1)) and (np.sign(pred2.score)  == np.sign(verdict2))): \n",
    "            pred_err_count += 1\n",
    "            unique_pred_input1_error_set.add(input1 + \"; \" + input2)  \n",
    "            pred_error_dict = update_counts(input1, input2, tokens, pred_error_dict)\n",
    "            bias_pair_pred_error = update_bias_pairs(input1, input2, tokens, bias_pair_pred_error)\n",
    "\n",
    "\n",
    "        if (np.sign(pred1.score) != np.sign(pred2.score)):\n",
    "            fairness_err_count += 1\n",
    "            unique_fairness_input1_error_set.add(input1 + \"; \" + input2)\n",
    "            fairness_error_dict = update_counts(input1, input2, tokens, fairness_error_dict)\n",
    "            bias_pair_fairness_error = update_bias_pairs(input1, input2, tokens, bias_pair_fairness_error)\n",
    "\n",
    "            if tokens[0] in input2:\n",
    "                update_dict(noun_error2, tokens[0])\n",
    "\n",
    "            if tokens[1] in input1:\n",
    "                update_dict(noun_error1, tokens[1])\n",
    "\n",
    "            if obj1 in input1:\n",
    "                update_dict(noun_error1, obj_pronoun_female[0])\n",
    "\n",
    "            if obj2 in input2:\n",
    "                update_dict(noun_error2, obj_pronoun_male[0])\n",
    "\n",
    "            if (np.sign(pred1.score) != np.sign(verdict1)):\n",
    "                #assert()\n",
    "                if not (input1 in retrain_dict):\n",
    "                    retrain_dict[input1] = verdict1\n",
    "            else:\n",
    "                if not (input2 in retrain_dict):\n",
    "                    retrain_dict[input2] = verdict2\n",
    "        \n",
    "    return noun_dict1, noun_dict2, noun_error1, noun_error2, unique_pred_input1_error_set, pred_err_count, unique_fairness_input1_error_set, fairness_err_count, retrain_dict, pred_error_dict, fairness_error_dict, bias_pair_pred_error, bias_pair_fairness_error"
   ]
  },
  {
   "cell_type": "code",
   "execution_count": 60,
   "metadata": {},
   "outputs": [],
   "source": [
    "import numpy as np"
   ]
  },
  {
   "cell_type": "code",
   "execution_count": 61,
   "metadata": {},
   "outputs": [],
   "source": [
    "def subj_choice(choice):\n",
    "    if choice == 0:\n",
    "        person_choice = random.choice(range(0, len(subj_person_male_all) - 1))\n",
    "        subj_person_male = subj_person_male_all[person_choice]\n",
    "        subj_person_female = subj_person_female_all[person_choice]\n",
    "    elif choice == 1:\n",
    "        person_choice = random.choice(range(0, len(subj_person_male_all) - 1))\n",
    "        subj_person_male = random.choice(subj_person_male_all)\n",
    "        subj_person_female = random.choice(subj_person_female_all)\n",
    "    elif choice == 2:\n",
    "        subj_person_male = random.choice(occupations_male_biased)\n",
    "        subj_person_female = random.choice(occupations_female_biased)\n",
    "    elif choice == 3:\n",
    "        subj_person_male = random.choice(male_biased_names)\n",
    "        subj_person_female = random.choice(female_biased_names)\n",
    "    elif choice == 4:\n",
    "        subj_person_male = random.choice(gen_male_names)\n",
    "        subj_person_female = random.choice(gen_female_names)\n",
    "    elif choice == 5:\n",
    "        subj_person_male = random.choice(african_american_names)\n",
    "        subj_person_female = random.choice(european_american_names)\n",
    "    \n",
    "    return subj_person_male, subj_person_female"
   ]
  },
  {
   "cell_type": "code",
   "execution_count": 62,
   "metadata": {},
   "outputs": [],
   "source": [
    "def select_tokens(choice):\n",
    "    resList = []\n",
    "    \n",
    "    subj_person_male, subj_person_female = subj_choice(choice)\n",
    "    \n",
    "    resList.append(subj_person_male)\n",
    "    resList.append(subj_person_female)\n",
    "\n",
    "    emotional_state = random.choice(emotional_states)\n",
    "    emotional_situation = random.choice(emotional_situations)\n",
    "    \n",
    "    resList.append(emotional_state)\n",
    "    resList.append(emotional_situation)\n",
    "\n",
    "    verb1 = random.choice(verb_list_p1)\n",
    "    verb_feel = random.choice(verb_feel_list)\n",
    "    \n",
    "    resList.append(verb1)\n",
    "    resList.append(verb_feel)\n",
    "\n",
    "    neutral_subj_1 = random.choice(neutral_subjs[:2])\n",
    "    neutral_subj_2 = neutral_subjs[2]\n",
    "    \n",
    "    resList.append(neutral_subj_1)\n",
    "    resList.append(neutral_subj_2)\n",
    "    \n",
    "    return resList"
   ]
  },
  {
   "cell_type": "code",
   "execution_count": 63,
   "metadata": {},
   "outputs": [],
   "source": [
    "def make_gender_specific_subject_sentence(list_tokens, verb_feel_list, schema_no):\n",
    "    \n",
    "    subj_person_male, subj_person_female, emotional_state, emotional_situation, verb1, verb_feel, \\\n",
    "        neutral_subj_1, neutral_subj_2 = list_tokens\n",
    "    \n",
    "    res_str_1, res_str_2 = \"\", \"\"\n",
    "\n",
    "    if schema_no == 0:\n",
    "        res_str_1 =  \" \".join([subj_person_female, verb1, emotional_state + \".\"])\n",
    "        res_str_2 =  \" \".join([subj_person_male, verb1, emotional_state + \".\"])\n",
    "    \n",
    "    elif schema_no == 1:\n",
    "        res_str_1 =  \" \".join([subj_person_female, verb_feel_list[1], emotional_state + \".\" ])\n",
    "        res_str_2 =  \" \".join([subj_person_male, verb_feel_list[1], emotional_state + \".\" ])      \n",
    "\n",
    "    elif schema_no == 2:\n",
    "        res_str_1 = \" \".join([subj_person_female, verb_feel_list[1], emotional_state + \".\" ]) \n",
    "        res_str_2 = \" \".join([subj_person_male, verb_feel_list[1], emotional_state + \".\" ])       \n",
    "\n",
    "    elif schema_no == 3:\n",
    "        res_str_1 = \" \".join([subj_person_female, verb_feel_list[5], emotional_situation, end_noun[0] + \".\"])\n",
    "        res_str_2 = \" \".join([subj_person_male, verb_feel_list[6], emotional_situation, end_noun[0] + \".\"])   \n",
    "    \n",
    "    elif schema_no == 4:\n",
    "        res_str_1 =  \" \".join([subj_person_female, verb_feel_list[3], emotional_situation, end_noun[1] + \".\"])\n",
    "        res_str_2 =  \" \".join([subj_person_male, verb_feel_list[3], emotional_situation, end_noun[1] + \".\"])         \n",
    "\n",
    "    return res_str_1, res_str_2\n",
    "    "
   ]
  },
  {
   "cell_type": "code",
   "execution_count": 64,
   "metadata": {},
   "outputs": [],
   "source": [
    "def make_neutral_subject_sentence(list_tokens, verb_feel_list, schema_no):\n",
    "    \n",
    "    subj_person_male, subj_person_female, emotional_state, emotional_situation, verb1, verb_feel, \\\n",
    "        neutral_subj_1, neutral_subj_2 = list_tokens\n",
    "    \n",
    "    res_str_1, res_str_2 = \"\", \"\"\n",
    "\n",
    "    if schema_no == 0:\n",
    "        res_str_1 =  \" \".join([neutral_subj_1, random.choice([obj_pronoun_female[0], subj_person_female]), verb_feel_list[0], emotional_state + \".\" ])\n",
    "        res_str_2 =  \" \".join([neutral_subj_1, random.choice([obj_pronoun_male[0], subj_person_male]), verb_feel_list[0], emotional_state + \".\" ])\n",
    "    \n",
    "    elif schema_no == 1:\n",
    "        res_str_1 =  \" \".join([neutral_subj_2, random.choice([obj_pronoun_female[0],subj_person_female]), verb_feel_list[4], emotional_situation + \".\"])\n",
    "        res_str_2 =  \" \".join([neutral_subj_2, random.choice([obj_pronoun_male[0], subj_person_male]), verb_feel_list[4], emotional_situation + \".\"])      \n",
    "\n",
    "    return res_str_1, res_str_2\n",
    "    "
   ]
  },
  {
   "cell_type": "code",
   "execution_count": 65,
   "metadata": {},
   "outputs": [],
   "source": [
    "def make_sentiment_neutral_sentences(list_tokens, verb_feel_list, schema_no):\n",
    "    \n",
    "    subj_person_male, subj_person_female, emotional_state, emotional_situation, verb1, verb_feel, \\\n",
    "        neutral_subj_1, neutral_subj_2 = list_tokens\n",
    "    \n",
    "    neutral_verb = random.choice(neutral_sent_verb)\n",
    "    end_sentence_1 = random.choice(end_sentence[:2])\n",
    "    end_sentence_2 = random.choice(end_sentence[2:4])\n",
    "    \n",
    "    res_str_1, res_str_2 = \"\", \"\"\n",
    "    \n",
    "    if schema_no == 0:\n",
    "        res_str_1 = \" \".join([subj_person_female, neutral_verb, neutral_pronoun[1], \\\n",
    "                              end_sentence_1 + \".\"])\n",
    "        res_str_2 =  \" \".join([subj_person_male, neutral_verb, neutral_pronoun[1], \\\n",
    "                              end_sentence_1 + \".\"])\n",
    "    elif schema_no == 1:\n",
    "        res_str_1 = \" \".join([neutral_pronoun[0], neutral_verb, subj_person_female, \\\n",
    "                              end_sentence_1 + \".\"])\n",
    "        res_str_2 =  \" \".join([neutral_pronoun[0], neutral_verb, subj_person_male, \\\n",
    "                              end_sentence_1 + \".\"])\n",
    "    elif schema_no == 2:\n",
    "        res_str_1 = \" \".join([ subj_person_female, end_sentence_2 + \".\"])\n",
    "        res_str_2 =  \" \".join([ subj_person_male, end_sentence_2 + \".\"])\n",
    "    \n",
    "    return res_str_1, res_str_2"
   ]
  },
  {
   "cell_type": "code",
   "execution_count": 66,
   "metadata": {},
   "outputs": [],
   "source": [
    "def update_dict(x, key):\n",
    "    if(key in x.keys()):\n",
    "        x[key] += 1\n",
    "    else:\n",
    "        x[key] = 1"
   ]
  },
  {
   "cell_type": "code",
   "execution_count": 67,
   "metadata": {},
   "outputs": [],
   "source": [
    "def update_counts(inp1, inp2, list_tokens, list_dict):\n",
    "    for tok in list_tokens:\n",
    "        if (tok in inp1):\n",
    "            update_dict(list_dict[list_tokens.index(tok)],tok)\n",
    "        if (tok in inp2):\n",
    "            update_dict(list_dict[list_tokens.index(tok)],tok)\n",
    "    return list_dict\n",
    "            "
   ]
  },
  {
   "cell_type": "code",
   "execution_count": 68,
   "metadata": {},
   "outputs": [],
   "source": [
    "def get_token(res, list_tokens):\n",
    "    result = None\n",
    "\n",
    "    for item in list_tokens:\n",
    "        if set(res) == set(item.rstrip(\".\").split()):\n",
    "            result = item\n",
    "            break\n",
    "    return result\n",
    "             "
   ]
  },
  {
   "cell_type": "code",
   "execution_count": 69,
   "metadata": {},
   "outputs": [],
   "source": [
    "def update_bias_pairs(inp1, inp2, list_tokens, list_dict):\n",
    "    \n",
    "    for tok in list_tokens:\n",
    "        if (tok in inp1) and (tok in inp2):\n",
    "            s1 = inp1.rstrip(\".\").split()\n",
    "            s2 = inp2.rstrip(\".\").split()\n",
    "\n",
    "            res1 = list(set(s1) - set(s2))\n",
    "            res2 = list(set(s2) - set(s1))\n",
    "                        \n",
    "            if len(res1) > 1:\n",
    "                if get_token(res1, list_tokens):\n",
    "                    res1 = get_token(res1, list_tokens)\n",
    "                else:\n",
    "                    res1 = \" \".join(res1)\n",
    "            else:\n",
    "                res1 = res1[0]\n",
    "            \n",
    "            if len(res2) > 1:\n",
    "                if get_token(res2, list_tokens):\n",
    "                    res2 = get_token(res2, list_tokens)\n",
    "                else:\n",
    "                    res2 = \" \".join(res2)\n",
    "            else:\n",
    "                res2 = res2[0]\n",
    "                \n",
    "            res = res1 + \", \" + res2\n",
    "    \n",
    "            update_dict(list_dict[list_tokens[2:].index(tok)],res)    \n",
    "    return list_dict"
   ]
  },
  {
   "cell_type": "code",
   "execution_count": 70,
   "metadata": {},
   "outputs": [],
   "source": [
    "import os "
   ]
  },
  {
   "cell_type": "code",
   "execution_count": 71,
   "metadata": {},
   "outputs": [],
   "source": [
    "# automatically create directories for saving pickles\n",
    "def create_dir(mode):\n",
    "    target_dir = 'saved_pickles/exploration/' + mode\n",
    "    if not os.path.exists(os.path.join(os.getcwd(), target_dir)):\n",
    "        sub_dir = target_dir.split(\"/\")\n",
    "        k = os.getcwd()\n",
    "        for dir_loc in sub_dir:\n",
    "            k = os.path.join(k, dir_loc)\n",
    "            if not os.path.exists(str(k)):\n",
    "                os.mkdir(k)"
   ]
  },
  {
   "cell_type": "code",
   "execution_count": 72,
   "metadata": {},
   "outputs": [],
   "source": [
    "import pickle\n",
    "\n",
    "def save_data(mode, noun_dict1, noun_dict2, noun_error1, noun_error2, unique_input1_set, unique_input2_set, unique_input_pair_set, unique_input1_error_set,\\\n",
    "            unique_input2_error_set, pred_err_count, fairness_err_count, unique_pred_input1_error_set, \\\n",
    "            unique_fairness_input1_error_set, retrain_dict, subj_person_male_count ,subj_person_female_count, emotional_state_count, \\\n",
    "                emotional_situation_count,verb_feel_count, verb1_count, neutral_subj_1_count, \\\n",
    "                neutral_subj_2_count, subj_person_male_pred_error ,subj_person_female_pred_error, emotional_state_pred_error, \\\n",
    "                emotional_situation_pred_error,verb_feel_pred_error, verb1_pred_error, neutral_subj_1_pred_error, \\\n",
    "                neutral_subj_2_pred_error, subj_person_male_fairness_error ,subj_person_female_fairness_error, emotional_state_fairness_error, \\\n",
    "                emotional_situation_fairness_error,verb_feel_fairness_error, verb1_fairness_error, neutral_subj_1_fairness_error, \\\n",
    "                neutral_subj_2_fairness_error, bias_pair_count, bias_pair_pred_error, bias_pair_fairness_error):\n",
    "\n",
    "    create_dir(mode)\n",
    "    \n",
    "    noun_data_vals = [noun_dict1, noun_dict2, noun_error1, noun_error2]\n",
    "    noun_data_name = [\"noun_dict1\", \"noun_dict2\", \"noun_error1\", \"noun_error2\"] \n",
    "    \n",
    "    print(\"noun_dict1: \", noun_dict1)\n",
    "    print(\"noun_dict2: \", noun_dict2)\n",
    "    print(\"noun_error1: \", noun_error1)\n",
    "    print(\"noun_error2: \", noun_error2)\n",
    "    \n",
    "    assert len(noun_data_name) == len(noun_data_vals), \"ERROR: bug in variables names for stored inputs\"\n",
    "    for i in range(0, len(noun_data_vals)):\n",
    "        store = noun_data_name[i] + \".pickle\"\n",
    "        with open('saved_pickles/exploration/' + mode + '/' + store, 'wb') as handle:\n",
    "            pickle.dump(noun_data_vals[i], handle)\n",
    "            \n",
    "            \n",
    "    data_vals_name = [\"unique_input1_set\", \"unique_input2_set\", \"unique_input_pair_set\", \"unique_input1_error_set\",\\\n",
    "            \"unique_input2_error_set\", \"pred_err_count\", \"fairness_err_count\", \"unique_pred_input1_error_set\", \\\n",
    "            \"unique_fairness_input1_error_set\", \"retrain_dict\"]\n",
    "\n",
    "    \n",
    "#     print(\"subj_person_male_fairness_error: \", list(subj_person_male_fairness_error)[0:4])\n",
    "    \n",
    "    data_vals = [unique_input1_set, unique_input2_set, unique_input_pair_set, unique_input1_error_set,\\\n",
    "            unique_input2_error_set, pred_err_count, fairness_err_count, unique_pred_input1_error_set, \\\n",
    "            unique_fairness_input1_error_set, retrain_dict]\n",
    "    \n",
    "    token_count_vals_name = [\"subj_person_male_count\" ,\"subj_person_female_count\", \"emotional_state_count\", \\\n",
    "                \"emotional_situation_count\",\"verb_feel_count\", \"verb1_count\", \"neutral_subj_1_count\", \\\n",
    "                \"neutral_subj_2_count\"] \n",
    "\n",
    "    token_count_vals = [subj_person_male_count ,subj_person_female_count, emotional_state_count, \\\n",
    "                emotional_situation_count,verb_feel_count, verb1_count, neutral_subj_1_count, \\\n",
    "                neutral_subj_2_count] \n",
    "    \n",
    "    pred_errors_count_vals_name = [\"subj_person_male_pred_error\" ,\"subj_person_female_pred_error\", \"emotional_state_pred_error\", \\\n",
    "                \"emotional_situation_pred_error\",\"verb_feel_pred_error\", \"verb1_pred_error\", \"neutral_subj_1_pred_error\", \\\n",
    "                \"neutral_subj_2_pred_error\"] \n",
    "\n",
    "    pred_errors_count_vals = [subj_person_male_pred_error ,subj_person_female_pred_error, emotional_state_pred_error, \\\n",
    "                emotional_situation_pred_error,verb_feel_pred_error, verb1_pred_error, neutral_subj_1_pred_error, \\\n",
    "                neutral_subj_2_pred_error] \n",
    "    \n",
    "    fairness_error_count_vals_name = [\"subj_person_male_fairness_error\" ,\"subj_person_female_fairness_error\", \"emotional_state_fairness_error\", \\\n",
    "                \"emotional_situation_fairness_error\",\"verb_feel_fairness_error\", \"verb1_fairness_error\", \"neutral_subj_1_fairness_error\", \\\n",
    "                \"neutral_subj_2_fairness_error\"] \n",
    "\n",
    "    fairness_error_count_vals = [subj_person_male_fairness_error ,subj_person_female_fairness_error, emotional_state_fairness_error, \\\n",
    "                emotional_situation_fairness_error,verb_feel_fairness_error, verb1_fairness_error, neutral_subj_1_fairness_error, \\\n",
    "                neutral_subj_2_fairness_error] \n",
    "    \n",
    "    bias_count_vals_name = [\"bias_pair_count\" ,\"bias_pair_pred_error\", \"bias_pair_fairness_error\"] \n",
    "\n",
    "    bias_count_vals = [bias_pair_count, bias_pair_pred_error, bias_pair_fairness_error] \n",
    "    \n",
    "    assert len(data_vals_name) == len(data_vals), \"ERROR: bug in variables names for stored inputs\"\n",
    "    for i in range(0, len(data_vals)):\n",
    "        store = data_vals_name[i] + \".pickle\"\n",
    "        with open('saved_pickles/exploration/' + mode + '/' + store, 'wb') as handle:\n",
    "            pickle.dump(data_vals[i], handle)\n",
    "    \n",
    "    \n",
    "    assert len(token_count_vals_name) == len(token_count_vals), \\\n",
    "        \"ERROR: bug in variables names for stored inputs\".format(token_count_vals_name)\n",
    "    for i in range(0, len(token_count_vals)):\n",
    "        store = token_count_vals_name[i] + \".pickle\"\n",
    "        with open('saved_pickles/exploration/' + mode + '/' + store, 'wb') as handle:\n",
    "            pickle.dump(token_count_vals[i], handle)\n",
    "            \n",
    "    assert len(pred_errors_count_vals_name) == len(pred_errors_count_vals), \\\n",
    "        \"ERROR: bug in variables names for stored inputs\".format(fairness_error_count_vals_name)\n",
    "    for i in range(0, len(pred_errors_count_vals)):\n",
    "        store = pred_errors_count_vals_name[i] + \".pickle\"\n",
    "        with open('saved_pickles/exploration/' + mode + '/' + store, 'wb') as handle:\n",
    "            pickle.dump(pred_errors_count_vals[i], handle)\n",
    "            \n",
    "            \n",
    "    assert len(fairness_error_count_vals_name) == len(fairness_error_count_vals), \\\n",
    "        \"ERROR: bug in variables names for stored inputs {}, {}\".format(fairness_error_count_vals_name)\n",
    "    for i in range(0, len(fairness_error_count_vals)):\n",
    "        store = fairness_error_count_vals_name[i] + \".pickle\"\n",
    "        with open('saved_pickles/exploration/' + mode + '/' + store, 'wb') as handle:\n",
    "            pickle.dump(fairness_error_count_vals[i], handle)\n",
    "    \n",
    "    \n",
    "    assert len(bias_count_vals_name) == len(bias_count_vals), \\\n",
    "        \"ERROR: bug in variables names for stored inputs {}, {}\".format(bias_count_vals_name)\n",
    "    for i in range(0, len(bias_count_vals)):\n",
    "        store = bias_count_vals_name[i] + \".pickle\"\n",
    "        with open('saved_pickles/exploration/' + mode + '/' + store, 'wb') as handle:\n",
    "            pickle.dump(bias_count_vals[i], handle)\n",
    "                    "
   ]
  },
  {
   "cell_type": "code",
   "execution_count": 73,
   "metadata": {},
   "outputs": [],
   "source": [
    "\n",
    "def generate_tests(noun_choice, ITERS, max_input_gen_threshold, mode):\n",
    "\n",
    "    unique_input1_set = set()\n",
    "    unique_input2_set = set()\n",
    "    unique_input_pair_set = set()\n",
    "\n",
    "    unique_input1_error_set = set()\n",
    "    unique_input2_error_set = set()\n",
    "\n",
    "    pred_err_count, fairness_err_count = 0, 0\n",
    "\n",
    "    unique_pred_input1_error_set, unique_fairness_input1_error_set = set(), set() \n",
    "    retrain_dict = dict()\n",
    "\n",
    "    subj_person_male_count, subj_person_female_count, emotional_state_count, emotional_situation_count = {}, {}, {}, {}\n",
    "    verb_feel_count, verb1_count, neutral_subj_1_count, neutral_subj_2_count= {}, {}, {}, {}\n",
    "\n",
    "    subj_person_male_pred_error, subj_person_female_pred_error, emotional_state_pred_error, emotional_situation_pred_error = {}, {}, {}, {}\n",
    "    verb_feel_pred_error, verb1_pred_error, neutral_subj_1_pred_error, neutral_subj_2_pred_error= {}, {}, {}, {}\n",
    "\n",
    "    subj_person_male_fairness_error, subj_person_female_fairness_error, emotional_state_fairness_error, emotional_situation_fairness_error = {}, {}, {}, {}\n",
    "    verb_feel_fairness_error, verb1_fairness_error, neutral_subj_1_fairness_error, neutral_subj_2_fairness_error= {}, {}, {}, {}\n",
    "\n",
    "    tmp1, tmp2 = 0, 0\n",
    "\n",
    "    count_dict = [{}, {}, {}, {}, {}, {}, {}, {}]\n",
    "    pred_error_dict = [{}, {}, {}, {}, {}, {}, {}, {}]\n",
    "    fairness_error_dict = [{}, {}, {}, {}, {}, {}, {}, {}]\n",
    "\n",
    "    #bias_pair_count, bias_pair_pred_error, bias_pair_fairness_error = {}, {}, {}\n",
    "\n",
    "    bias_pair_count = [{}, {}, {}, {}, {}, {}]\n",
    "    bias_pair_pred_error = [{}, {}, {}, {}, {}, {}]\n",
    "    bias_pair_fairness_error = [{}, {}, {}, {}, {}, {}]\n",
    "    \n",
    "    noun_dict1, noun_dict2, noun_error1, noun_error2, = {}, {}, {}, {}\n",
    "    \n",
    "    tokens = []\n",
    "    \n",
    "#     for noun_choice in [0, 1, 2, 3, 4, 5]:\n",
    "    for i in range(ITERS):\n",
    "\n",
    "        tokens = select_tokens(noun_choice)\n",
    "\n",
    "        input1, input2 = make_gender_specific_subject_sentence(tokens, verb_feel_list, 0)\n",
    "        unique_input1_set.add(input1)\n",
    "        unique_input2_set.add(input2)\n",
    "        txt = input1 + \"; \" + input2\n",
    "        if not (txt in unique_input_pair_set):\n",
    "            unique_input_pair_set.add(input1 + \"; \" + input2)  \n",
    "            noun_dict1, noun_dict2, noun_error1, noun_error2, unique_pred_input1_error_set, pred_err_count, unique_fairness_input1_error_set, fairness_err_count, retrain_dict, pred_error_dict, fairness_error_dict, bias_pair_pred_error, bias_pair_fairness_error  = \\\n",
    "            validate_prediction(tokens, noun_dict1, noun_dict2, noun_error1, noun_error2, input1, input2, unique_pred_input1_error_set, pred_err_count, \\\n",
    "                                unique_fairness_input1_error_set, fairness_err_count, retrain_dict, pred_error_dict, fairness_error_dict, bias_pair_pred_error, bias_pair_fairness_error)\n",
    "\n",
    "        count_dict = update_counts(input1, input2, tokens, count_dict)\n",
    "        bias_pair_count = update_bias_pairs(input1, input2, tokens, bias_pair_count)\n",
    "        input1, input2 = make_neutral_subject_sentence(tokens, verb_feel_list, 0)\n",
    "        unique_input1_set.add(input1)\n",
    "        unique_input2_set.add(input2)\n",
    "        txt = input1 + \"; \" + input2\n",
    "        if not (txt in unique_input_pair_set):\n",
    "            unique_input_pair_set.add(input1 + \"; \" + input2)  \n",
    "            noun_dict1, noun_dict2, noun_error1, noun_error2, unique_pred_input1_error_set, pred_err_count, unique_fairness_input1_error_set, fairness_err_count, retrain_dict, pred_error_dict, fairness_error_dict, bias_pair_pred_error, bias_pair_fairness_error  = \\\n",
    "            validate_prediction(tokens, noun_dict1, noun_dict2, noun_error1, noun_error2, input1, input2, unique_pred_input1_error_set, pred_err_count, \\\n",
    "                                unique_fairness_input1_error_set, fairness_err_count, retrain_dict, pred_error_dict, fairness_error_dict, bias_pair_pred_error, bias_pair_fairness_error)\n",
    "\n",
    "        count_dict = update_counts(input1, input2, tokens, count_dict)\n",
    "        bias_pair_count = update_bias_pairs(input1, input2, tokens, bias_pair_count)\n",
    "\n",
    "        input1, input2 = make_gender_specific_subject_sentence(tokens, verb_feel_list, 1)\n",
    "        unique_input1_set.add(input1)\n",
    "        unique_input2_set.add(input2)\n",
    "        txt = input1 + \"; \" + input2\n",
    "        if not (txt in unique_input_pair_set):\n",
    "            unique_input_pair_set.add(input1 + \"; \" + input2)  \n",
    "            noun_dict1, noun_dict2, noun_error1, noun_error2, unique_pred_input1_error_set, pred_err_count, unique_fairness_input1_error_set, fairness_err_count, retrain_dict, pred_error_dict, fairness_error_dict, bias_pair_pred_error, bias_pair_fairness_error  = \\\n",
    "            validate_prediction(tokens, noun_dict1, noun_dict2, noun_error1, noun_error2, input1, input2, unique_pred_input1_error_set, pred_err_count, \\\n",
    "                                unique_fairness_input1_error_set, fairness_err_count, retrain_dict, pred_error_dict, fairness_error_dict, bias_pair_pred_error, bias_pair_fairness_error)\n",
    "        \n",
    "        count_dict = update_counts(input1, input2, tokens, count_dict)\n",
    "        bias_pair_count = update_bias_pairs(input1, input2, tokens, bias_pair_count)\n",
    "\n",
    "        input1, input2 = make_gender_specific_subject_sentence(tokens, verb_feel_list, 2)\n",
    "        unique_input1_set.add(input1)\n",
    "        unique_input2_set.add(input2)\n",
    "        txt = input1 + \"; \" + input2\n",
    "        if not (txt in unique_input_pair_set):\n",
    "            unique_input_pair_set.add(input1 + \"; \" + input2)  \n",
    "            noun_dict1, noun_dict2, noun_error1, noun_error2, unique_pred_input1_error_set, pred_err_count, unique_fairness_input1_error_set, fairness_err_count, retrain_dict, pred_error_dict, fairness_error_dict, bias_pair_pred_error, bias_pair_fairness_error  = \\\n",
    "            validate_prediction(tokens, noun_dict1, noun_dict2, noun_error1, noun_error2, input1, input2, unique_pred_input1_error_set, pred_err_count, \\\n",
    "                                unique_fairness_input1_error_set, fairness_err_count, retrain_dict, pred_error_dict, fairness_error_dict, bias_pair_pred_error, bias_pair_fairness_error)\n",
    "\n",
    "        count_dict = update_counts(input1, input2, tokens, count_dict)\n",
    "        bias_pair_count = update_bias_pairs(input1, input2, tokens, bias_pair_count)\n",
    "\n",
    "        input1, input2 = make_gender_specific_subject_sentence(tokens, verb_feel_list, 3)\n",
    "        unique_input1_set.add(input1)\n",
    "        unique_input2_set.add(input2)\n",
    "        txt = input1 + \"; \" + input2\n",
    "        if not (txt in unique_input_pair_set):\n",
    "            unique_input_pair_set.add(input1 + \"; \" + input2)  \n",
    "            noun_dict1, noun_dict2, noun_error1, noun_error2, unique_pred_input1_error_set, pred_err_count, unique_fairness_input1_error_set, fairness_err_count, retrain_dict, pred_error_dict, fairness_error_dict, bias_pair_pred_error, bias_pair_fairness_error  = \\\n",
    "            validate_prediction(tokens, noun_dict1, noun_dict2, noun_error1, noun_error2, input1, input2, unique_pred_input1_error_set, pred_err_count, \\\n",
    "                                unique_fairness_input1_error_set, fairness_err_count, retrain_dict, pred_error_dict, fairness_error_dict, bias_pair_pred_error, bias_pair_fairness_error)\n",
    "\n",
    "        count_dict = update_counts(input1, input2, tokens, count_dict)\n",
    "        bias_pair_count = update_bias_pairs(input1, input2, tokens, bias_pair_count)\n",
    "\n",
    "        input1, input2 = make_gender_specific_subject_sentence(tokens, verb_feel_list, 4)\n",
    "        unique_input1_set.add(input1)\n",
    "        unique_input2_set.add(input2)\n",
    "        txt = input1 + \"; \" + input2\n",
    "        if not (txt in unique_input_pair_set):\n",
    "            unique_input_pair_set.add(input1 + \"; \" + input2)  \n",
    "            noun_dict1, noun_dict2, noun_error1, noun_error2, unique_pred_input1_error_set, pred_err_count, unique_fairness_input1_error_set, fairness_err_count, retrain_dict, pred_error_dict, fairness_error_dict, bias_pair_pred_error, bias_pair_fairness_error  = \\\n",
    "            validate_prediction(tokens, noun_dict1, noun_dict2, noun_error1, noun_error2, input1, input2, unique_pred_input1_error_set, pred_err_count, \\\n",
    "                                unique_fairness_input1_error_set, fairness_err_count, retrain_dict, pred_error_dict, fairness_error_dict, bias_pair_pred_error, bias_pair_fairness_error)\n",
    "        \n",
    "        count_dict = update_counts(input1, input2, tokens, count_dict)\n",
    "        bias_pair_count = update_bias_pairs(input1, input2, tokens, bias_pair_count)\n",
    "\n",
    "        input1, input2 = make_neutral_subject_sentence(tokens, verb_feel_list, 1)\n",
    "        unique_input1_set.add(input1)\n",
    "        unique_input2_set.add(input2)\n",
    "        txt = input1 + \"; \" + input2\n",
    "        if not (txt in unique_input_pair_set):\n",
    "            unique_input_pair_set.add(input1 + \"; \" + input2)  \n",
    "            noun_dict1, noun_dict2, noun_error1, noun_error2, unique_pred_input1_error_set, pred_err_count, unique_fairness_input1_error_set, fairness_err_count, retrain_dict, pred_error_dict, fairness_error_dict, bias_pair_pred_error, bias_pair_fairness_error  = \\\n",
    "            validate_prediction(tokens, noun_dict1, noun_dict2, noun_error1, noun_error2, input1, input2, unique_pred_input1_error_set, pred_err_count, \\\n",
    "                                unique_fairness_input1_error_set, fairness_err_count, retrain_dict, pred_error_dict, fairness_error_dict, bias_pair_pred_error, bias_pair_fairness_error)\n",
    "        \n",
    "        count_dict = update_counts(input1, input2, tokens, count_dict)\n",
    "        bias_pair_count = update_bias_pairs(input1, input2, tokens, bias_pair_count)\n",
    "\n",
    "        # or (len(unique_input_pair_set) >= max_input_gen_threshold)\n",
    "        if (len(unique_input_pair_set) == tmp1 == tmp2) or (len(unique_input_pair_set) >= max_input_gen_threshold):\n",
    "            print(\"Maximum input generation threshold reached, {} unique inputs generated\".format(len(unique_input_pair_set)))\n",
    "            break\n",
    "\n",
    "        if ITERS%2 == 0:\n",
    "            tmp1 = len(unique_input_pair_set)\n",
    "        else:\n",
    "            tmp2 = len(unique_input_pair_set)\n",
    "\n",
    "        if (i > 0) and  (i % num_iter == 0):\n",
    "            print(\"ITERATION: \", str(i))\n",
    "            print(\"Unique PREDICTION errors: \" + str(len(unique_pred_input1_error_set)))\n",
    "            print(\"Unique FAIRNESS errors: \" + str(len(unique_fairness_input1_error_set)))\n",
    "            print(\"Unique length of retrain_dict: \" + str(len(retrain_dict)))  \n",
    "\n",
    "            print(\"Unique input1s: \" + str(len(unique_input1_set)))\n",
    "            print(\"Unique input2s: \" + str(len(unique_input2_set)))\n",
    "            print(\"Unique input pairs: \" + str(len(unique_input_pair_set)))\n",
    "\n",
    "#                 print(\"count_dict : \", count_dict)\n",
    "#                 print(\"pred_error_dict : \", pred_error_dict)\n",
    "#                 print(\"fairness_error_dict: \", fairness_error_dict)\n",
    "\n",
    "#                 print(\"bias_pair_count : \", bias_pair_count)\n",
    "#                 print(\"bias_pair_pred_error : \", bias_pair_pred_error)\n",
    "#                 print(\"bias_pair_fairness_error: \", bias_pair_fairness_error)\n",
    "\n",
    "            print(\"-\"*20)\n",
    "\n",
    "    print(\"pred_err_count: \", pred_err_count)\n",
    "    print(\"pred_error_rate: \", pred_err_count/(7 * ITERS))\n",
    "    print(\"*\"*20)\n",
    "\n",
    "    print(\"fairness_err_count: \", fairness_err_count)\n",
    "    print(\"fairness_error_rate: \", fairness_err_count/(7 * ITERS))\n",
    "    print(\"*\"*20)\n",
    "\n",
    "    print(\"Final Unique input1s: \" + str(len(unique_input1_set)))\n",
    "    print(\"Final Unique input2s: \" + str(len(unique_input2_set)))\n",
    "    print(\"Final Unique input pairs: \" + str(len(unique_input_pair_set)))\n",
    "    print(\"*\"*20)\n",
    "\n",
    "    print(\"Final Unique PREDICTION errors: \" + str(len(unique_pred_input1_error_set)))\n",
    "    print(\"Final Unique FAIRNESS violations: \" + str(len(unique_fairness_input1_error_set)))\n",
    "    print(\"Final length of retrain_dict: \" + str(len(retrain_dict)))\n",
    "    print(\"*\"*20)\n",
    "\n",
    "#     print(\"Final count_dict : \", count_dict)\n",
    "#     print(\"Final pred_error_dict : \", pred_error_dict)\n",
    "#     print(\"Final fairness_error_dict: \", fairness_error_dict)\n",
    "#     print(\"*\"*20)\n",
    "\n",
    "#     print(\"Final bias_pair_count : \", bias_pair_count)\n",
    "#     print(\"Final bias_pair_pred_error : \", bias_pair_pred_error)\n",
    "#     print(\"Final bias_pair_fairness_error: \", bias_pair_fairness_error)\n",
    "#     print(\"noun_dict: \", list(noun_dict)[0:4])\n",
    "#     print(\"noun_error: \", list(noun_error)[0:4])\n",
    "    \n",
    "    save_data(mode, noun_dict1, noun_dict2, noun_error1, noun_error2, unique_input1_set, unique_input2_set, unique_input_pair_set, unique_input1_error_set,\\\n",
    "            unique_input2_error_set, pred_err_count, fairness_err_count, unique_pred_input1_error_set, \\\n",
    "            unique_fairness_input1_error_set, retrain_dict, subj_person_male_count ,subj_person_female_count, emotional_state_count, \\\n",
    "                emotional_situation_count,verb_feel_count, verb1_count, neutral_subj_1_count, \\\n",
    "                neutral_subj_2_count, subj_person_male_pred_error ,subj_person_female_pred_error, emotional_state_pred_error, \\\n",
    "                emotional_situation_pred_error,verb_feel_pred_error, verb1_pred_error, neutral_subj_1_pred_error, \\\n",
    "                neutral_subj_2_pred_error, subj_person_male_fairness_error ,subj_person_female_fairness_error, emotional_state_fairness_error, \\\n",
    "                emotional_situation_fairness_error,verb_feel_fairness_error, verb1_fairness_error, neutral_subj_1_fairness_error, \\\n",
    "                neutral_subj_2_fairness_error, bias_pair_count, bias_pair_pred_error, bias_pair_fairness_error)"
   ]
  },
  {
   "cell_type": "code",
   "execution_count": 74,
   "metadata": {},
   "outputs": [],
   "source": [
    "def generate_neutral_tests(ITERS, max_input_gen_threshold, mode):\n",
    "    \n",
    "    unique_input1_set = set()\n",
    "    unique_input2_set = set()\n",
    "    unique_input_pair_set = set()\n",
    "\n",
    "    unique_input1_error_set = set()\n",
    "    unique_input2_error_set = set()\n",
    "\n",
    "    pred_err_count, fairness_err_count = 0, 0\n",
    "\n",
    "    unique_pred_input1_error_set, unique_fairness_input1_error_set = set(), set() \n",
    "    retrain_dict = dict()\n",
    "\n",
    "    subj_person_male_count, subj_person_female_count, emotional_state_count, emotional_situation_count = {}, {}, {}, {}\n",
    "    verb_feel_count, verb1_count, neutral_subj_1_count, neutral_subj_2_count= {}, {}, {}, {}\n",
    "\n",
    "    subj_person_male_pred_error, subj_person_female_pred_error, emotional_state_pred_error, emotional_situation_pred_error = {}, {}, {}, {}\n",
    "    verb_feel_pred_error, verb1_pred_error, neutral_subj_1_pred_error, neutral_subj_2_pred_error= {}, {}, {}, {}\n",
    "\n",
    "    subj_person_male_fairness_error, subj_person_female_fairness_error, emotional_state_fairness_error, emotional_situation_fairness_error = {}, {}, {}, {}\n",
    "    verb_feel_fairness_error, verb1_fairness_error, neutral_subj_1_fairness_error, neutral_subj_2_fairness_error= {}, {}, {}, {}\n",
    "\n",
    "    tmp1, tmp2 = 0, 0\n",
    "\n",
    "    count_dict = [{}, {}, {}, {}, {}, {}, {}, {}]\n",
    "    pred_error_dict = [{}, {}, {}, {}, {}, {}, {}, {}]\n",
    "    fairness_error_dict = [{}, {}, {}, {}, {}, {}, {}, {}]\n",
    "\n",
    "    #bias_pair_count, bias_pair_pred_error, bias_pair_fairness_error = {}, {}, {}\n",
    "\n",
    "    bias_pair_count = [{}, {}, {}, {}, {}, {}]\n",
    "    bias_pair_pred_error = [{}, {}, {}, {}, {}, {}]\n",
    "    bias_pair_fairness_error = [{}, {}, {}, {}, {}, {}]\n",
    "    \n",
    "    noun_dict1, noun_dict2, noun_error1, noun_error2 = {}, {}, {}, {}\n",
    "    \n",
    "    tokens = []\n",
    "    \n",
    "    for noun_choice in [0, 1, 2, 3, 4, 5]:\n",
    "        for i in range(ITERS):\n",
    "            tokens = select_tokens(noun_choice)\n",
    "\n",
    "            input1, input2 = make_sentiment_neutral_sentences(tokens, verb_feel_list, 0)\n",
    "            unique_input1_set.add(input1)\n",
    "            unique_input2_set.add(input2)\n",
    "            txt = input1 + \"; \" + input2\n",
    "            if not (txt in unique_input_pair_set):\n",
    "                unique_input_pair_set.add(input1 + \"; \" + input2)  \n",
    "                noun_dict1, noun_dict2, noun_error1, noun_error2, unique_pred_input1_error_set, pred_err_count, unique_fairness_input1_error_set, fairness_err_count, retrain_dict, pred_error_dict, fairness_error_dict, bias_pair_pred_error, bias_pair_fairness_error  = \\\n",
    "                validate_prediction(tokens, noun_dict1, noun_dict2, noun_error1, noun_error2, input1, input2, unique_pred_input1_error_set, pred_err_count, \\\n",
    "                                    unique_fairness_input1_error_set, fairness_err_count, retrain_dict, pred_error_dict, fairness_error_dict, bias_pair_pred_error, bias_pair_fairness_error)\n",
    "\n",
    "            count_dict = update_counts(input1, input2, tokens, count_dict)\n",
    "            bias_pair_count = update_bias_pairs(input1, input2, tokens, bias_pair_count)\n",
    "\n",
    "\n",
    "            input1, input2 = make_sentiment_neutral_sentences(tokens, verb_feel_list, 1)\n",
    "            unique_input1_set.add(input1)\n",
    "            unique_input2_set.add(input2)\n",
    "            txt = input1 + \"; \" + input2\n",
    "            if not (txt in unique_input_pair_set):\n",
    "                unique_input_pair_set.add(input1 + \"; \" + input2)  \n",
    "                noun_dict1, noun_dict2, noun_error1, noun_error2, unique_pred_input1_error_set, pred_err_count, unique_fairness_input1_error_set, fairness_err_count, retrain_dict, pred_error_dict, fairness_error_dict, bias_pair_pred_error, bias_pair_fairness_error  = \\\n",
    "                validate_prediction(tokens, noun_dict1, noun_dict2, noun_error1, noun_error2, input1, input2, unique_pred_input1_error_set, pred_err_count, \\\n",
    "                                    unique_fairness_input1_error_set, fairness_err_count, retrain_dict, pred_error_dict, fairness_error_dict, bias_pair_pred_error, bias_pair_fairness_error)\n",
    "\n",
    "            count_dict = update_counts(input1, input2, tokens, count_dict)\n",
    "            bias_pair_count = update_bias_pairs(input1, input2, tokens, bias_pair_count)\n",
    "\n",
    "\n",
    "            input1, input2 = make_sentiment_neutral_sentences(tokens, verb_feel_list, 2)\n",
    "            unique_input1_set.add(input1)\n",
    "            unique_input2_set.add(input2)\n",
    "            txt = input1 + \"; \" + input2\n",
    "            if not (txt in unique_input_pair_set):\n",
    "                unique_input_pair_set.add(input1 + \"; \" + input2)  \n",
    "                noun_dict1, noun_dict2, noun_error1, noun_error2, unique_pred_input1_error_set, pred_err_count, unique_fairness_input1_error_set, fairness_err_count, retrain_dict, pred_error_dict, fairness_error_dict, bias_pair_pred_error, bias_pair_fairness_error  = \\\n",
    "                validate_prediction(tokens, noun_dict1, noun_dict2, noun_error1, noun_error2, input1, input2, unique_pred_input1_error_set, pred_err_count, \\\n",
    "                                    unique_fairness_input1_error_set, fairness_err_count, retrain_dict, pred_error_dict, fairness_error_dict, bias_pair_pred_error, bias_pair_fairness_error)\n",
    "\n",
    "            count_dict = update_counts(input1, input2, tokens, count_dict)\n",
    "            bias_pair_count = update_bias_pairs(input1, input2, tokens, bias_pair_count)\n",
    "\n",
    "            # or (len(unique_input_pair_set) >= max_input_gen_threshold)\n",
    "            if (len(unique_input_pair_set) == tmp1 == tmp2) or (len(unique_input_pair_set) >= max_input_gen_threshold):\n",
    "                print(\"Maximum input generation threshold reached, {} unique inputs generated\".format(len(unique_input_pair_set)))\n",
    "                break\n",
    "\n",
    "            if ITERS%2 == 0:\n",
    "                tmp1 = len(unique_input_pair_set)\n",
    "            else:\n",
    "                tmp2 = len(unique_input_pair_set)\n",
    "\n",
    "            if (i > 0) and  (i % num_iter == 0):\n",
    "                print(\"ITERATION: \", str(i))\n",
    "                print(\"Unique PREDICTION errors: \" + str(len(unique_pred_input1_error_set)))\n",
    "                print(\"Unique FAIRNESS errors: \" + str(len(unique_fairness_input1_error_set)))\n",
    "                print(\"Unique length of retrain_dict: \" + str(len(retrain_dict)))  \n",
    "\n",
    "                print(\"Unique input1s: \" + str(len(unique_input1_set)))\n",
    "                print(\"Unique input2s: \" + str(len(unique_input2_set)))\n",
    "                print(\"Unique input pairs: \" + str(len(unique_input_pair_set)))\n",
    "\n",
    "#                 print(\"count_dict : \", count_dict)\n",
    "#                 print(\"pred_error_dict : \", pred_error_dict)\n",
    "#                 print(\"fairness_error_dict: \", fairness_error_dict)\n",
    "\n",
    "#                 print(\"bias_pair_count : \", bias_pair_count)\n",
    "#                 print(\"bias_pair_pred_error : \", bias_pair_pred_error)\n",
    "#                 print(\"bias_pair_fairness_error: \", bias_pair_fairness_error)\n",
    "\n",
    "                print(\"-\"*20)\n",
    "\n",
    "        if (len(unique_input_pair_set) >= max_input_gen_threshold):\n",
    "            print(\"Maximum input generation threshold reached, {} unique inputs generated\".format(len(unique_input_pair_set)))\n",
    "            break\n",
    "\n",
    "    print(\"pred_err_count: \", pred_err_count)\n",
    "    print(\"pred_error_rate: \", pred_err_count/(7 * ITERS))\n",
    "    print(\"*\"*20)\n",
    "\n",
    "    print(\"fairness_err_count: \", fairness_err_count)\n",
    "    print(\"fairness_error_rate: \", fairness_err_count/(7 * ITERS))\n",
    "    print(\"*\"*20)\n",
    "\n",
    "    print(\"Final Unique input1s: \" + str(len(unique_input1_set)))\n",
    "    print(\"Final Unique input2s: \" + str(len(unique_input2_set)))\n",
    "    print(\"Final Unique input pairs: \" + str(len(unique_input_pair_set)))\n",
    "    print(\"*\"*20)\n",
    "\n",
    "    print(\"Final Unique PREDICTION errors: \" + str(len(unique_pred_input1_error_set)))\n",
    "    print(\"Final Unique FAIRNESS violations: \" + str(len(unique_fairness_input1_error_set)))\n",
    "    print(\"Final length of retrain_dict: \" + str(len(retrain_dict)))\n",
    "    print(\"*\"*20)\n",
    "\n",
    "#     print(\"Final count_dict : \", count_dict)\n",
    "#     print(\"Final pred_error_dict : \", pred_error_dict)\n",
    "#     print(\"Final fairness_error_dict: \", fairness_error_dict)\n",
    "#     print(\"*\"*20)\n",
    "\n",
    "#     print(\"Final bias_pair_count : \", bias_pair_count)\n",
    "#     print(\"Final bias_pair_pred_error : \", bias_pair_pred_error)\n",
    "#     print(\"Final bias_pair_fairness_error: \", bias_pair_fairness_error)\n",
    "\n",
    "    save_data(mode, noun_dict1, noun_dict2, noun_error1, noun_error2, unique_input1_set, unique_input2_set, unique_input_pair_set, unique_input1_error_set,\\\n",
    "            unique_input2_error_set, pred_err_count, fairness_err_count, unique_pred_input1_error_set, \\\n",
    "            unique_fairness_input1_error_set, retrain_dict, subj_person_male_count ,subj_person_female_count, emotional_state_count, \\\n",
    "                emotional_situation_count,verb_feel_count, verb1_count, neutral_subj_1_count, \\\n",
    "                neutral_subj_2_count, subj_person_male_pred_error ,subj_person_female_pred_error, emotional_state_pred_error, \\\n",
    "                emotional_situation_pred_error,verb_feel_pred_error, verb1_pred_error, neutral_subj_1_pred_error, \\\n",
    "                neutral_subj_2_pred_error, subj_person_male_fairness_error ,subj_person_female_fairness_error, emotional_state_fairness_error, \\\n",
    "                emotional_situation_fairness_error,verb_feel_fairness_error, verb1_fairness_error, neutral_subj_1_fairness_error, \\\n",
    "                neutral_subj_2_fairness_error, bias_pair_count, bias_pair_pred_error, bias_pair_fairness_error)"
   ]
  },
  {
   "cell_type": "markdown",
   "metadata": {},
   "source": [
    "### Test for Direct Gender Bias - Subjective (Pro)Noun Bias"
   ]
  },
  {
   "cell_type": "markdown",
   "metadata": {},
   "source": [
    "### A. Direct gender noun comparisons (e.g. My boyfriend/My girlfriend)"
   ]
  },
  {
   "cell_type": "code",
   "execution_count": 75,
   "metadata": {},
   "outputs": [],
   "source": [
    "noun_choice =  0 #Noun /Pronoun"
   ]
  },
  {
   "cell_type": "code",
   "execution_count": 76,
   "metadata": {},
   "outputs": [],
   "source": [
    "err_count = 0\n",
    "ITERS = 30000\n",
    "num_iter = 5000 #00 \n",
    "max_input_gen_threshold =  2700 #3000\n",
    "mode = \"google-nlp/direct-gender-noun\""
   ]
  },
  {
   "cell_type": "code",
   "execution_count": 77,
   "metadata": {
    "scrolled": true
   },
   "outputs": [
    {
     "name": "stdout",
     "output_type": "stream",
     "text": [
      "Maximum input generation threshold reached, 2700 unique inputs generated\n",
      "pred_err_count:  295\n",
      "pred_error_rate:  0.0014047619047619047\n",
      "********************\n",
      "fairness_err_count:  94\n",
      "fairness_error_rate:  0.0004476190476190476\n",
      "********************\n",
      "Final Unique input1s: 1678\n",
      "Final Unique input2s: 1678\n",
      "Final Unique input pairs: 2700\n",
      "********************\n",
      "Final Unique PREDICTION errors: 295\n",
      "Final Unique FAIRNESS violations: 94\n",
      "Final length of retrain_dict: 63\n",
      "********************\n",
      "noun_dict1:  {'my daughter': 236, 'her': 818, 'my mother': 237, 'my sister': 237, 'this girl': 235, 'this woman': 234, 'my girlfriend': 233, 'my wife': 235, 'my aunt': 235, 'She': 237}\n",
      "noun_dict2:  {'my son': 234, 'him': 582, 'my father': 236, 'my brother': 240, 'this boy': 237, 'this man': 235, 'my boyfriend': 235, 'my husband': 233, 'my uncle': 235, 'He': 233}\n",
      "noun_error1:  {'my daughter': 8, 'her': 36, 'my mother': 13, 'my aunt': 8, 'my wife': 8, 'my sister': 7, 'my girlfriend': 9, 'this woman': 6, 'this girl': 7, 'She': 5}\n",
      "noun_error2:  {'my son': 5, 'him': 26, 'this boy': 10, 'my father': 11, 'this man': 6, 'my uncle': 7, 'my husband': 6, 'my brother': 5, 'my boyfriend': 11, 'He': 7}\n"
     ]
    }
   ],
   "source": [
    "generate_tests(noun_choice, ITERS, max_input_gen_threshold, mode)"
   ]
  },
  {
   "cell_type": "markdown",
   "metadata": {},
   "source": [
    "### B. Random gender noun comparisons (e.g. My boyfriend/My mother)"
   ]
  },
  {
   "cell_type": "code",
   "execution_count": 78,
   "metadata": {},
   "outputs": [],
   "source": [
    "noun_choice =  1 #Noun /Pronoun"
   ]
  },
  {
   "cell_type": "code",
   "execution_count": 79,
   "metadata": {},
   "outputs": [],
   "source": [
    "err_count = 0\n",
    "ITERS = 30000\n",
    "num_iter = 5000 \n",
    "max_input_gen_threshold =  3000\n",
    "mode = \"google-nlp/random-gender-noun\""
   ]
  },
  {
   "cell_type": "code",
   "execution_count": 80,
   "metadata": {},
   "outputs": [
    {
     "name": "stdout",
     "output_type": "stream",
     "text": [
      "Maximum input generation threshold reached, 3001 unique inputs generated\n",
      "pred_err_count:  442\n",
      "pred_error_rate:  0.002104761904761905\n",
      "********************\n",
      "fairness_err_count:  180\n",
      "fairness_error_rate:  0.0008571428571428571\n",
      "********************\n",
      "Final Unique input1s: 1368\n",
      "Final Unique input2s: 1352\n",
      "Final Unique input pairs: 3001\n",
      "********************\n",
      "Final Unique PREDICTION errors: 442\n",
      "Final Unique FAIRNESS violations: 180\n",
      "Final length of retrain_dict: 102\n",
      "********************\n",
      "noun_dict1:  {'my sister': 291, 'her': 588, 'my aunt': 303, 'my mother': 283, 'my mom': 307, 'my girlfriend': 280, 'my daughter': 280, 'this woman': 254, 'my wife': 225, 'She': 217, 'this girl': 256}\n",
      "noun_dict2:  {'my dad': 259, 'him': 299, 'my boyfriend': 310, 'my son': 273, 'my father': 260, 'my uncle': 277, 'this boy': 253, 'my brother': 219, 'my husband': 279, 'this man': 305, 'He': 267}\n",
      "noun_error1:  {'her': 31, 'my sister': 21, 'my wife': 9, 'my aunt': 21, 'my mom': 19, 'my mother': 20, 'my girlfriend': 19, 'She': 18, 'this girl': 12, 'this woman': 16, 'my daughter': 14}\n",
      "noun_error2:  {'my dad': 19, 'my father': 15, 'him': 16, 'my husband': 18, 'this man': 18, 'this boy': 18, 'my brother': 13, 'He': 24, 'my son': 13, 'my boyfriend': 16, 'my uncle': 10}\n"
     ]
    }
   ],
   "source": [
    "generate_tests(noun_choice, ITERS, max_input_gen_threshold, mode)"
   ]
  },
  {
   "cell_type": "markdown",
   "metadata": {},
   "source": [
    "### C. Test for Indirect Gender Bias, i.e. Occupational Bias"
   ]
  },
  {
   "cell_type": "code",
   "execution_count": 81,
   "metadata": {},
   "outputs": [],
   "source": [
    "noun_choice =  2 #Noun /Pronoun"
   ]
  },
  {
   "cell_type": "code",
   "execution_count": 82,
   "metadata": {},
   "outputs": [],
   "source": [
    "err_count = 0\n",
    "ITERS = 30000\n",
    "num_iter = 5000 \n",
    "max_input_gen_threshold =  3000\n",
    "mode = \"google-nlp/gender-occupation-noun\""
   ]
  },
  {
   "cell_type": "code",
   "execution_count": 83,
   "metadata": {},
   "outputs": [
    {
     "name": "stdout",
     "output_type": "stream",
     "text": [
      "Maximum input generation threshold reached, 3003 unique inputs generated\n",
      "pred_err_count:  428\n",
      "pred_error_rate:  0.002038095238095238\n",
      "********************\n",
      "fairness_err_count:  188\n",
      "fairness_error_rate:  0.0008952380952380952\n",
      "********************\n",
      "Final Unique input1s: 1862\n",
      "Final Unique input2s: 1877\n",
      "Final Unique input pairs: 3003\n",
      "********************\n",
      "Final Unique PREDICTION errors: 428\n",
      "Final Unique FAIRNESS violations: 188\n",
      "Final length of retrain_dict: 123\n",
      "********************\n",
      "noun_dict1:  {'the counselor': 113, 'the editor': 129, 'her': 467, 'the cashier': 147, 'the nurse': 182, 'the baker': 127, 'the auditor': 116, 'the writer': 112, 'the receptionist': 86, 'the the paralegal': 128, 'the secretary': 151, 'the cleaner': 116, 'the clerk': 103, 'the the nurse': 92, 'the housekeeper': 97, 'the attendant': 76, 'the teacher': 168, 'the the librarian': 141, 'the tailor': 150, 'the librarian': 97, 'the hairdresser': 141, 'the assistant': 120, 'the designer': 112}\n",
      "noun_dict2:  {'the salesperson': 63, 'him': 311, 'the physician': 116, 'the analyst': 133, 'the technician': 111, 'the carpenter': 158, 'the manager': 109, 'the supervisor': 125, 'the engineer': 129, 'the mechanic': 139, 'the laborer': 129, 'the mover': 101, 'the driver': 138, 'the janitor': 107, 'the farmer': 137, 'the developer': 124, 'the accountant': 91, 'the CEO': 163, 'the guard': 104, 'the chief': 106, 'the sheriff': 81, 'the construction worker': 95, 'the cook': 122, 'the lawyer': 111}\n",
      "noun_error1:  {'the nurse': 13, 'the clerk': 7, 'the cashier': 9, 'the secretary': 8, 'the baker': 11, 'the tailor': 14, 'the hairdresser': 9, 'the editor': 11, 'her': 24, 'the librarian': 6, 'the the librarian': 10, 'the writer': 4, 'the teacher': 9, 'the designer': 9, 'the auditor': 7, 'the attendant': 8, 'the housekeeper': 5, 'the the paralegal': 7, 'the cleaner': 7, 'the the nurse': 3, 'the assistant': 15, 'the counselor': 1}\n",
      "noun_error2:  {'the technician': 6, 'the manager': 7, 'the driver': 7, 'the engineer': 9, 'the physician': 9, 'the analyst': 10, 'the guard': 14, 'the salesperson': 2, 'the sheriff': 4, 'the construction worker': 5, 'the mechanic': 5, 'the mover': 3, 'the CEO': 13, 'the supervisor': 12, 'the farmer': 8, 'him': 21, 'the laborer': 5, 'the accountant': 5, 'the developer': 12, 'the cook': 10, 'the lawyer': 3, 'the chief': 6, 'the carpenter': 8, 'the janitor': 4}\n"
     ]
    }
   ],
   "source": [
    "generate_tests(noun_choice, ITERS, max_input_gen_threshold, mode)"
   ]
  },
  {
   "cell_type": "markdown",
   "metadata": {},
   "source": [
    "### D. Test for   for Indirect Gender Bias, i.e. Name Bias"
   ]
  },
  {
   "cell_type": "code",
   "execution_count": 84,
   "metadata": {},
   "outputs": [],
   "source": [
    "noun_choice =  3 #Noun /Pronoun"
   ]
  },
  {
   "cell_type": "code",
   "execution_count": 85,
   "metadata": {},
   "outputs": [],
   "source": [
    "err_count = 0\n",
    "ITERS = 30000\n",
    "num_iter = 5000 \n",
    "max_input_gen_threshold =  3000\n",
    "mode = \"google-nlp/gender-name-noun\""
   ]
  },
  {
   "cell_type": "code",
   "execution_count": 86,
   "metadata": {},
   "outputs": [
    {
     "name": "stdout",
     "output_type": "stream",
     "text": [
      "Exception: Deadline of 600.0s exceeded while calling functools.partial(<function _wrap_unary_errors.<locals>.error_remapped_callable at 0x1242351f0>, document {\n",
      "  type: PLAIN_TEXT\n",
      "  content: \"The conversation with her was threatening.\"\n",
      "}\n",
      ", metadata=[('x-goog-api-client', 'gl-python/3.8.5 grpc/1.31.0 gax/1.22.1 gapic/1.3.0')]), last exception: 504 Deadline Exceeded\n",
      "Maximum input generation threshold reached, 3004 unique inputs generated\n",
      "pred_err_count:  620\n",
      "pred_error_rate:  0.0029523809523809524\n",
      "********************\n",
      "fairness_err_count:  168\n",
      "fairness_error_rate:  0.0008\n",
      "********************\n",
      "Final Unique input1s: 2048\n",
      "Final Unique input2s: 2043\n",
      "Final Unique input pairs: 3004\n",
      "********************\n",
      "Final Unique PREDICTION errors: 620\n",
      "Final Unique FAIRNESS violations: 168\n",
      "Final length of retrain_dict: 118\n",
      "********************\n",
      "noun_dict1:  {'Nancy': 100, 'her': 347, 'Jennifer': 81, 'Linda': 95, 'Lisa': 66, 'Cynthia': 97, 'Rebecca': 87, 'Laura': 79, 'Donna': 117, 'Barbara': 96, 'Susan': 76, 'Betty': 126, 'Sharon': 99, 'Carol': 76, 'Dorothy ': 86, 'Melissa': 76, 'Sandra': 102, 'Patricia': 82, 'Stephanie': 93, 'Ashley': 96, 'Deborah': 59, 'Amanda': 90, 'Michelle': 97, 'Sarah': 118, 'Kimberly': 89, 'Emily': 68, 'Margaret': 87, 'Elizabeth': 91, 'Karen': 99, 'Mary': 71, 'Jessica': 58}\n",
      "noun_dict2:  {'Joseph': 95, 'him': 318, 'Daniel': 93, 'Thomas': 104, 'John ': 105, 'Charles': 60, 'William ': 113, 'Donald': 93, 'Richard': 91, 'Timothy': 103, 'Ryan': 66, 'Edward': 97, 'Kenneth': 94, 'Robert ': 45, 'Anthony': 128, 'Brian': 112, 'Paul': 91, 'Joshua': 80, 'George': 109, 'Andrew': 93, 'David ': 87, 'Kevin': 90, 'Michael ': 79, 'Steven': 97, 'Jeffrey': 89, 'Ronald': 65, 'Christopher': 89, 'Mark': 95, 'Jason': 80, 'James': 82, 'Matthew': 61}\n",
      "noun_error1:  {'Lisa': 6, 'Laura': 4, 'Donna': 4, 'Stephanie': 5, 'Jennifer': 4, 'her': 32, 'Carol': 2, 'Sandra': 5, 'Deborah': 5, 'Michelle': 5, 'Betty': 6, 'Kimberly': 8, 'Barbara': 7, 'Margaret': 6, 'Dorothy ': 3, 'Karen': 4, 'Elizabeth': 1, 'Sarah': 8, 'Susan': 4, 'Emily': 4, 'Rebecca': 5, 'Cynthia': 4, 'Amanda': 5, 'Melissa': 4, 'Linda': 3, 'Nancy': 7, 'Ashley': 5, 'Mary': 6, 'Jessica': 2, 'Sharon': 2, 'Patricia': 2}\n",
      "noun_error2:  {'him': 12, 'Donald': 4, 'Brian': 3, 'David ': 7, 'Steven': 8, 'Christopher': 4, 'Jeffrey': 5, 'George': 12, 'Ryan': 5, 'Kenneth': 4, 'Kevin': 6, 'James': 4, 'Jason': 6, 'John ': 9, 'Joseph': 5, 'Charles': 4, 'Joshua': 4, 'Matthew': 5, 'William ': 5, 'Thomas': 6, 'Paul': 6, 'Edward': 5, 'Timothy': 5, 'Mark': 6, 'Richard': 7, 'Daniel': 4, 'Anthony': 1, 'Michael ': 7, 'Robert ': 3, 'Andrew': 5, 'Ronald': 1}\n"
     ]
    }
   ],
   "source": [
    "generate_tests(noun_choice, ITERS, max_input_gen_threshold, mode)"
   ]
  },
  {
   "cell_type": "markdown",
   "metadata": {},
   "source": [
    "### E. Test for   for Indirect Racial Bias, i.e. Name Bias"
   ]
  },
  {
   "cell_type": "code",
   "execution_count": 87,
   "metadata": {},
   "outputs": [],
   "source": [
    "noun_choice =  5 #Noun /Pronoun"
   ]
  },
  {
   "cell_type": "code",
   "execution_count": 88,
   "metadata": {},
   "outputs": [],
   "source": [
    "err_count = 0\n",
    "ITERS = 30000\n",
    "num_iter = 5000 \n",
    "max_input_gen_threshold =  3000\n",
    "mode = \"google-nlp/racial-name-noun\""
   ]
  },
  {
   "cell_type": "code",
   "execution_count": 89,
   "metadata": {},
   "outputs": [
    {
     "name": "stdout",
     "output_type": "stream",
     "text": [
      "Maximum input generation threshold reached, 3002 unique inputs generated\n",
      "pred_err_count:  593\n",
      "pred_error_rate:  0.002823809523809524\n",
      "********************\n",
      "fairness_err_count:  137\n",
      "fairness_error_rate:  0.0006523809523809524\n",
      "********************\n",
      "Final Unique input1s: 1797\n",
      "Final Unique input2s: 1820\n",
      "Final Unique input pairs: 3002\n",
      "********************\n",
      "Final Unique PREDICTION errors: 593\n",
      "Final Unique FAIRNESS violations: 137\n",
      "Final length of retrain_dict: 79\n",
      "********************\n",
      "noun_dict1:  {'Roger': 127, 'her': 450, 'Betsy': 131, 'Amanda': 135, 'Frank': 103, 'Ryan': 124, 'Courtney': 116, 'Katie': 113, 'Andrew': 171, 'Nancy': 144, 'Josh': 140, 'Kristin': 142, 'Jack': 132, 'Harry': 180, 'Heather': 127, 'Adam': 115, 'Stephanie': 109, 'Melanie': 135, 'Alan': 149, 'Justin': 168, 'Ellen': 118}\n",
      "noun_dict2:  {'Darnell': 142, 'him': 307, 'Jamel': 108, 'Lakisha': 155, 'Alonzo': 144, 'Leroy': 107, 'Shaniqua': 147, 'Lamar': 140, 'Latisha': 156, 'Tanisha': 138, 'Terrence': 125, 'Latoya': 137, 'Nichelle': 134, 'Alphonse': 120, 'Jerome': 142, 'Shereen': 113, 'Tia': 133, 'Jasmine': 197, 'Ebony': 107, 'Malik': 156, 'Torrance': 94}\n",
      "noun_error1:  {'Ryan': 3, 'Katie': 7, 'her': 32, 'Nancy': 6, 'Heather': 4, 'Jack': 5, 'Alan': 6, 'Josh': 9, 'Amanda': 6, 'Andrew': 8, 'Harry': 11, 'Roger': 5, 'Justin': 4, 'Kristin': 6, 'Ellen': 8, 'Stephanie': 3, 'Melanie': 4, 'Adam': 2, 'Frank': 4, 'Courtney': 5, 'Betsy': 3}\n",
      "noun_error2:  {'Leroy': 9, 'Lamar': 12, 'Tanisha': 6, 'Shaniqua': 4, 'Tia': 5, 'Ebony': 8, 'Nichelle': 11, 'Jasmine': 11, 'Malik': 10, 'Jamel': 3, 'Torrance': 2, 'him': 7, 'Latisha': 8, 'Terrence': 11, 'Lakisha': 6, 'Latoya': 5, 'Jerome': 6, 'Shereen': 2, 'Darnell': 5, 'Alonzo': 5, 'Alphonse': 1}\n"
     ]
    }
   ],
   "source": [
    "generate_tests(noun_choice, ITERS, max_input_gen_threshold, mode)"
   ]
  },
  {
   "cell_type": "markdown",
   "metadata": {},
   "source": [
    "### F. Test for Neutral (Sentiment) Sentences"
   ]
  },
  {
   "cell_type": "code",
   "execution_count": 90,
   "metadata": {},
   "outputs": [],
   "source": [
    "err_count = 0\n",
    "ITERS = 30000\n",
    "num_iter = 5000 \n",
    "max_input_gen_threshold =  3000\n",
    "mode = \"google-nlp/neutral-sentiments\""
   ]
  },
  {
   "cell_type": "code",
   "execution_count": 91,
   "metadata": {},
   "outputs": [
    {
     "name": "stdout",
     "output_type": "stream",
     "text": [
      "ITERATION:  5000\n",
      "Unique PREDICTION errors: 32\n",
      "Unique FAIRNESS errors: 16\n",
      "Unique length of retrain_dict: 16\n",
      "Unique input1s: 90\n",
      "Unique input2s: 90\n",
      "Unique input pairs: 90\n",
      "--------------------\n",
      "ITERATION:  10000\n",
      "Unique PREDICTION errors: 32\n",
      "Unique FAIRNESS errors: 16\n",
      "Unique length of retrain_dict: 16\n",
      "Unique input1s: 90\n",
      "Unique input2s: 90\n",
      "Unique input pairs: 90\n",
      "--------------------\n",
      "ITERATION:  15000\n",
      "Unique PREDICTION errors: 32\n",
      "Unique FAIRNESS errors: 16\n",
      "Unique length of retrain_dict: 16\n",
      "Unique input1s: 90\n",
      "Unique input2s: 90\n",
      "Unique input pairs: 90\n",
      "--------------------\n",
      "ITERATION:  20000\n",
      "Unique PREDICTION errors: 32\n",
      "Unique FAIRNESS errors: 16\n",
      "Unique length of retrain_dict: 16\n",
      "Unique input1s: 90\n",
      "Unique input2s: 90\n",
      "Unique input pairs: 90\n",
      "--------------------\n",
      "ITERATION:  25000\n",
      "Unique PREDICTION errors: 32\n",
      "Unique FAIRNESS errors: 16\n",
      "Unique length of retrain_dict: 16\n",
      "Unique input1s: 90\n",
      "Unique input2s: 90\n",
      "Unique input pairs: 90\n",
      "--------------------\n",
      "ITERATION:  5000\n",
      "Unique PREDICTION errors: 406\n",
      "Unique FAIRNESS errors: 300\n",
      "Unique length of retrain_dict: 52\n",
      "Unique input1s: 100\n",
      "Unique input2s: 100\n",
      "Unique input pairs: 1000\n",
      "--------------------\n",
      "ITERATION:  10000\n",
      "Unique PREDICTION errors: 406\n",
      "Unique FAIRNESS errors: 300\n",
      "Unique length of retrain_dict: 52\n",
      "Unique input1s: 100\n",
      "Unique input2s: 100\n",
      "Unique input pairs: 1000\n",
      "--------------------\n",
      "ITERATION:  15000\n",
      "Unique PREDICTION errors: 406\n",
      "Unique FAIRNESS errors: 300\n",
      "Unique length of retrain_dict: 52\n",
      "Unique input1s: 100\n",
      "Unique input2s: 100\n",
      "Unique input pairs: 1000\n",
      "--------------------\n",
      "ITERATION:  20000\n",
      "Unique PREDICTION errors: 406\n",
      "Unique FAIRNESS errors: 300\n",
      "Unique length of retrain_dict: 52\n",
      "Unique input1s: 100\n",
      "Unique input2s: 100\n",
      "Unique input pairs: 1000\n",
      "--------------------\n",
      "ITERATION:  25000\n",
      "Unique PREDICTION errors: 406\n",
      "Unique FAIRNESS errors: 300\n",
      "Unique length of retrain_dict: 52\n",
      "Unique input1s: 100\n",
      "Unique input2s: 100\n",
      "Unique input pairs: 1000\n",
      "--------------------\n",
      "Exception: Deadline of 600.0s exceeded while calling functools.partial(<function _wrap_unary_errors.<locals>.error_remapped_callable at 0x10e1b51f0>, document {\n",
      "  type: PLAIN_TEXT\n",
      "  content: \"the developer saw me in the market.\"\n",
      "}\n",
      ", metadata=[('x-goog-api-client', 'gl-python/3.8.5 grpc/1.31.0 gax/1.22.1 gapic/1.3.0')]), last exception: 503 Transport closed\n",
      "Exception: Deadline of 600.0s exceeded while calling functools.partial(<function _wrap_unary_errors.<locals>.error_remapped_callable at 0x10e1b5d30>, document {\n",
      "  type: PLAIN_TEXT\n",
      "  content: \"the CEO saw me yesterday.\"\n",
      "}\n",
      ", metadata=[('x-goog-api-client', 'gl-python/3.8.5 grpc/1.31.0 gax/1.22.1 gapic/1.3.0')]), last exception: 503 Getting metadata from plugin failed with error: ('Connection aborted.', ConnectionResetError(54, 'Connection reset by peer'))\n",
      "Maximum input generation threshold reached, 3001 unique inputs generated\n",
      "Maximum input generation threshold reached, 3001 unique inputs generated\n",
      "pred_err_count:  1947\n",
      "pred_error_rate:  0.009271428571428571\n",
      "********************\n",
      "fairness_err_count:  1126\n",
      "fairness_error_rate:  0.005361904761904762\n",
      "********************\n",
      "Final Unique input1s: 320\n",
      "Final Unique input2s: 330\n",
      "Final Unique input pairs: 3001\n",
      "********************\n",
      "Final Unique PREDICTION errors: 1947\n",
      "Final Unique FAIRNESS violations: 1126\n",
      "Final length of retrain_dict: 280\n",
      "********************\n",
      "noun_dict1:  {'this girl': 100, 'my girlfriend': 100, 'my sister': 100, 'my wife': 100, 'She': 100, 'my aunt': 100, 'this woman': 100, 'my mother': 100, 'her': 211, 'my daughter': 100, 'my mom': 100, 'the cashier': 86, 'the clerk': 75, 'the librarian': 70, 'the editor': 94, 'the counselor': 105, 'the tailor': 96, 'the auditor': 88, 'the baker': 103, 'the the paralegal': 92, 'the the nurse': 80, 'the cleaner': 99, 'the the librarian': 94, 'the assistant': 69, 'the teacher': 111, 'the housekeeper': 96, 'the nurse': 108, 'the writer': 88, 'the secretary': 105, 'the attendant': 82, 'the hairdresser': 83, 'the receptionist': 85, 'the designer': 92}\n",
      "noun_dict2:  {'this boy': 100, 'my boyfriend': 100, 'my brother': 100, 'my husband': 100, 'He': 100, 'my uncle': 100, 'this man': 100, 'my father': 100, 'my son': 100, 'my dad': 100, 'the mechanic': 83, 'the sheriff': 86, 'the driver': 79, 'the cook': 106, 'the technician': 75, 'the supervisor': 100, 'the accountant': 77, 'the chief': 83, 'the guard': 99, 'the salesperson': 84, 'the mover': 89, 'the lawyer': 90, 'the construction worker': 90, 'the developer': 84, 'the carpenter': 95, 'the physician': 90, 'the laborer': 110, 'the CEO': 64, 'the engineer': 73, 'the analyst': 86, 'the farmer': 99, 'the manager': 81, 'the janitor': 78}\n",
      "noun_error1:  {'this girl': 38, 'my wife': 17, 'She': 44, 'this woman': 74, 'my aunt': 19, 'my mother': 32, 'her': 66, 'my daughter': 17, 'my sister': 21, 'my mom': 17, 'my girlfriend': 21, 'the clerk': 26, 'the librarian': 27, 'the editor': 43, 'the cashier': 41, 'the tailor': 64, 'the counselor': 38, 'the baker': 59, 'the the paralegal': 31, 'the the nurse': 30, 'the auditor': 29, 'the cleaner': 69, 'the the librarian': 27, 'the assistant': 26, 'the teacher': 34, 'the housekeeper': 36, 'the nurse': 31, 'the writer': 36, 'the secretary': 48, 'the attendant': 18, 'the hairdresser': 32, 'the receptionist': 41, 'the designer': 40}\n",
      "noun_error2:  {'this boy': 35, 'my husband': 25, 'He': 43, 'this man': 31, 'my uncle': 27, 'my father': 21, 'my son': 25, 'my brother': 31, 'my dad': 31, 'my boyfriend': 31, 'the sheriff': 45, 'the driver': 39, 'the cook': 48, 'the technician': 27, 'the supervisor': 42, 'the accountant': 21, 'the chief': 36, 'the salesperson': 34, 'the mover': 35, 'the lawyer': 34, 'the developer': 28, 'the carpenter': 51, 'the physician': 33, 'the guard': 43, 'the construction worker': 32, 'the mechanic': 30, 'the CEO': 32, 'the engineer': 32, 'the laborer': 35, 'the analyst': 42, 'the farmer': 46, 'the manager': 31, 'the janitor': 30}\n"
     ]
    }
   ],
   "source": [
    "generate_neutral_tests(ITERS, max_input_gen_threshold, mode)"
   ]
  },
  {
   "cell_type": "code",
   "execution_count": null,
   "metadata": {},
   "outputs": [],
   "source": []
  }
 ],
 "metadata": {
  "kernelspec": {
   "display_name": "Python 3",
   "language": "python",
   "name": "python3"
  },
  "language_info": {
   "codemirror_mode": {
    "name": "ipython",
    "version": 3
   },
   "file_extension": ".py",
   "mimetype": "text/x-python",
   "name": "python",
   "nbconvert_exporter": "python",
   "pygments_lexer": "ipython3",
   "version": "3.7.7"
  }
 },
 "nbformat": 4,
 "nbformat_minor": 4
}
