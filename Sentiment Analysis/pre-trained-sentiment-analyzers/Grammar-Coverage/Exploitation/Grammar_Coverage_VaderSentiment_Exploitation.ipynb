{
 "cells": [
  {
   "cell_type": "markdown",
   "metadata": {},
   "source": [
    "# Grammar Coverage for VaderSentiment Analyzer Exploitation"
   ]
  },
  {
   "cell_type": "code",
   "execution_count": 1,
   "metadata": {},
   "outputs": [],
   "source": [
    "import random, pickle"
   ]
  },
  {
   "cell_type": "markdown",
   "metadata": {},
   "source": [
    "## Schema (based on EEC)"
   ]
  },
  {
   "cell_type": "code",
   "execution_count": 2,
   "metadata": {},
   "outputs": [],
   "source": [
    "verb_list_p1 = ['feels', 'feel', 'made me feel', 'was'] \n",
    "verb_list_p2 = ['saw', 'found himself/herself in a', 'told us all about the recent', 'talked to', 'goes to'] "
   ]
  },
  {
   "cell_type": "code",
   "execution_count": 3,
   "metadata": {},
   "outputs": [],
   "source": [
    "verb_list = ['is' , 'was', 'talked to', 'goes to', 'feels', \\\n",
    "             'feel', 'made me feel', 'found himself/herself in', \\\n",
    "             'told us all about the recent']"
   ]
  },
  {
   "cell_type": "code",
   "execution_count": 4,
   "metadata": {},
   "outputs": [],
   "source": [
    "person_female = ['this woman','this girl','my sister','my daughter', 'my wife',\\\n",
    "                 'my girlfriend', 'my mother', 'my aunt', 'my mom']"
   ]
  },
  {
   "cell_type": "code",
   "execution_count": 5,
   "metadata": {},
   "outputs": [],
   "source": [
    "person_male = ['this man', 'this boy', 'my brother', 'my son', 'my husband', \\\n",
    "               'my boyfriend', 'my father', 'my uncle', 'my dad']"
   ]
  },
  {
   "cell_type": "code",
   "execution_count": 6,
   "metadata": {},
   "outputs": [
    {
     "name": "stdout",
     "output_type": "stream",
     "text": [
      "set()\n"
     ]
    }
   ],
   "source": [
    "print(set(person_male).intersection(set(person_female)))"
   ]
  },
  {
   "cell_type": "code",
   "execution_count": 7,
   "metadata": {},
   "outputs": [],
   "source": [
    "assert(len(set(person_male).intersection(set(person_female))) == 0), \\\n",
    "    \"ERROR not a disjoint set\""
   ]
  },
  {
   "cell_type": "code",
   "execution_count": 8,
   "metadata": {},
   "outputs": [],
   "source": [
    "subj_pronoun_female = [\"She\"]\n",
    "subj_pronoun_male = [\"He\"]"
   ]
  },
  {
   "cell_type": "code",
   "execution_count": 9,
   "metadata": {},
   "outputs": [],
   "source": [
    "obj_pronoun_female = [\"her\"]\n",
    "obj_pronoun_male = [\"him\"]"
   ]
  },
  {
   "cell_type": "code",
   "execution_count": 10,
   "metadata": {},
   "outputs": [],
   "source": [
    "occupations_male_biased = ['the supervisor','the janitor','the cook','the mover','the laborer','the construction worker','the chief','the developer','the carpenter','the manager','the lawyer','the farmer','the driver','the salesperson','the physician','the guard','the analyst','the mechanic','the sheriff','the CEO','the technician','the accountant','the engineer']"
   ]
  },
  {
   "cell_type": "code",
   "execution_count": 11,
   "metadata": {},
   "outputs": [],
   "source": [
    "occupations_female_biased = ['the cashier','the teacher','the nurse','the assistant','the secretary','the auditor','the cleaner','the receptionist','the clerk','the counselor','the designer','the hairdresser','the attendant','the writer','the housekeeper','the baker','the editor','the librarian','the tailor','the teacher','the the librarian','the the nurse','the the paralegal']"
   ]
  },
  {
   "cell_type": "code",
   "execution_count": 12,
   "metadata": {},
   "outputs": [
    {
     "data": {
      "text/plain": [
       "23"
      ]
     },
     "execution_count": 12,
     "metadata": {},
     "output_type": "execute_result"
    }
   ],
   "source": [
    "len(occupations_male_biased)"
   ]
  },
  {
   "cell_type": "code",
   "execution_count": 13,
   "metadata": {},
   "outputs": [
    {
     "data": {
      "text/plain": [
       "23"
      ]
     },
     "execution_count": 13,
     "metadata": {},
     "output_type": "execute_result"
    }
   ],
   "source": [
    "len(occupations_female_biased)"
   ]
  },
  {
   "cell_type": "code",
   "execution_count": 14,
   "metadata": {},
   "outputs": [
    {
     "name": "stdout",
     "output_type": "stream",
     "text": [
      "set()\n"
     ]
    }
   ],
   "source": [
    "print(set(occupations_male_biased).intersection(set(occupations_female_biased)))"
   ]
  },
  {
   "cell_type": "code",
   "execution_count": 15,
   "metadata": {},
   "outputs": [],
   "source": [
    "assert(len(set(occupations_male_biased).intersection(set(occupations_female_biased))) == 0), \"ERROR not a disjoint set\""
   ]
  },
  {
   "cell_type": "code",
   "execution_count": 16,
   "metadata": {},
   "outputs": [],
   "source": [
    "# Top 30 male and female names\n",
    "#Data from (13/07/2020) https://www.ssa.gov/OACT/babynames/decades/century.html\n",
    "female_biased_names = ['Mary', 'Patricia', 'Jennifer', 'Linda', 'Elizabeth', 'Barbara', 'Susan', 'Jessica', \\\n",
    "                        'Sarah', 'Karen', 'Nancy', 'Margaret', 'Lisa', 'Betty', 'Dorothy ', 'Sandra', 'Ashley', \\\n",
    "                       'Kimberly', 'Donna', 'Emily', 'Michelle', 'Carol', 'Amanda', 'Melissa' , 'Deborah', \\\n",
    "                       'Stephanie', 'Rebecca', 'Laura', 'Sharon', 'Cynthia']\n",
    "male_biased_names = ['James', 'John ', 'Robert ', 'Michael ', 'William ', 'David ', 'Richard', 'Joseph', 'Thomas', \\\n",
    "                     'Charles', 'Christopher', 'Daniel', 'Matthew', 'Anthony', 'Donald', 'Mark', 'Paul', 'Steven', \\\n",
    "                     'Andrew', 'Kenneth', 'Joshua', 'George', 'Kevin', 'Brian', 'Edward', 'Ronald', 'Timothy', \\\n",
    "                     'Jason', 'Jeffrey', 'Ryan']"
   ]
  },
  {
   "cell_type": "code",
   "execution_count": 17,
   "metadata": {},
   "outputs": [
    {
     "name": "stdout",
     "output_type": "stream",
     "text": [
      "set()\n"
     ]
    }
   ],
   "source": [
    "print(set(female_biased_names).intersection(set(male_biased_names)))"
   ]
  },
  {
   "cell_type": "code",
   "execution_count": 18,
   "metadata": {},
   "outputs": [],
   "source": [
    "assert(len(set(female_biased_names).intersection(set(male_biased_names))) == 0), \"ERROR not a disjoint set\""
   ]
  },
  {
   "cell_type": "code",
   "execution_count": 19,
   "metadata": {},
   "outputs": [],
   "source": [
    "#Data from EEC\n",
    "African_American_Female_Names = ['Ebony', 'Jasmine', 'Lakisha', 'Latisha', 'Latoya', 'Nichelle', 'Shaniqua', 'Shereen', 'Tanisha', 'Tia']\n",
    "African_American_Male_Names = ['Alonzo', 'Alphonse', 'Darnell', 'Jamel', 'Jerome', 'Lamar', 'Leroy', 'Malik', 'Terrence', 'Torrance']\n",
    "European_American_Female_Names = ['Amanda', 'Betsy', 'Courtney', 'Ellen', 'Heather', 'Katie', 'Kristin', 'Melanie', 'Nancy', 'Stephanie']\n",
    "European_American_Male_Names = ['Adam', 'Alan', 'Andrew', 'Frank', 'Harry', 'Jack', 'Josh', 'Justin', 'Roger', 'Ryan']\n"
   ]
  },
  {
   "cell_type": "code",
   "execution_count": 20,
   "metadata": {},
   "outputs": [],
   "source": [
    "gen_male_names = European_American_Male_Names + African_American_Male_Names\n",
    "gen_female_names = European_American_Female_Names + African_American_Female_Names"
   ]
  },
  {
   "cell_type": "code",
   "execution_count": 21,
   "metadata": {},
   "outputs": [
    {
     "name": "stdout",
     "output_type": "stream",
     "text": [
      "set()\n"
     ]
    }
   ],
   "source": [
    "print(set(gen_male_names).intersection(set(gen_female_names)))"
   ]
  },
  {
   "cell_type": "code",
   "execution_count": 22,
   "metadata": {},
   "outputs": [],
   "source": [
    "assert(len(set(gen_male_names).intersection(set(gen_female_names))) == 0), \"ERROR not a disjoint set\""
   ]
  },
  {
   "cell_type": "code",
   "execution_count": 23,
   "metadata": {},
   "outputs": [],
   "source": [
    "african_american_names = African_American_Female_Names + African_American_Male_Names\n",
    "european_american_names = European_American_Female_Names + European_American_Male_Names"
   ]
  },
  {
   "cell_type": "code",
   "execution_count": 24,
   "metadata": {},
   "outputs": [
    {
     "name": "stdout",
     "output_type": "stream",
     "text": [
      "set()\n"
     ]
    }
   ],
   "source": [
    "print(set(african_american_names).intersection(set(european_american_names)))"
   ]
  },
  {
   "cell_type": "code",
   "execution_count": 25,
   "metadata": {},
   "outputs": [],
   "source": [
    "assert(len(set(african_american_names).intersection(set(european_american_names))) == 0), \"ERROR not a disjoint set\""
   ]
  },
  {
   "cell_type": "code",
   "execution_count": 26,
   "metadata": {},
   "outputs": [],
   "source": [
    "subj_person_male_all = subj_pronoun_male + person_male # + occupations_male_biased\n",
    "subj_person_female_all = subj_pronoun_female + person_female # + occupations_female_biased"
   ]
  },
  {
   "cell_type": "code",
   "execution_count": 27,
   "metadata": {},
   "outputs": [
    {
     "name": "stdout",
     "output_type": "stream",
     "text": [
      "set()\n"
     ]
    }
   ],
   "source": [
    "print(set(subj_person_male_all).intersection(set(subj_person_female_all)))"
   ]
  },
  {
   "cell_type": "code",
   "execution_count": 28,
   "metadata": {},
   "outputs": [],
   "source": [
    "assert(len(set(subj_person_male_all).intersection(set(subj_person_female_all))) == 0), \"ERROR not a disjoint set\""
   ]
  },
  {
   "cell_type": "code",
   "execution_count": 29,
   "metadata": {},
   "outputs": [],
   "source": [
    "obj_person_male = obj_pronoun_male + person_male\n",
    "obj_person_female = obj_pronoun_female + person_female"
   ]
  },
  {
   "cell_type": "code",
   "execution_count": 30,
   "metadata": {
    "scrolled": true
   },
   "outputs": [
    {
     "name": "stdout",
     "output_type": "stream",
     "text": [
      "set()\n"
     ]
    }
   ],
   "source": [
    "print(set(obj_person_male).intersection(set(obj_person_female)))"
   ]
  },
  {
   "cell_type": "code",
   "execution_count": 31,
   "metadata": {},
   "outputs": [],
   "source": [
    "assert(len(set(obj_person_male).intersection(set(obj_person_female))) == 0), \"ERROR not a disjoint set\""
   ]
  },
  {
   "cell_type": "code",
   "execution_count": 32,
   "metadata": {},
   "outputs": [],
   "source": [
    "emotional_states = [\"angry\", \"anxious\", \"ecstatic\", \"depressed\", \"annoyed\", \"discouraged\",\\\n",
    "                   \"excited\", \"devastated\", \"enraged\", \"fearful\", \"glad\", \"disappointed\",\\\n",
    "                   \"furious\", \"scared\", \"happy\", \"miserable\", \"irritated\", \"terrified\",\\\n",
    "                   \"relieved\", \"sad\"]"
   ]
  },
  {
   "cell_type": "code",
   "execution_count": 33,
   "metadata": {},
   "outputs": [],
   "source": [
    "positive_emotional_states = [\"ecstatic\", \"excited\", \"glad\", \"happy\", \"relieved\"]\n",
    "\n",
    "negative_emotional_states = [\"angry\", \"anxious\",\"depressed\", \"annoyed\", \"discouraged\",\\\n",
    "                             \"devastated\", \"enraged\", \"fearful\", \"disappointed\",\\\n",
    "                             \"furious\", \"scared\", \"miserable\", \"irritated\", \"terrified\", \"sad\"]"
   ]
  },
  {
   "cell_type": "code",
   "execution_count": 34,
   "metadata": {},
   "outputs": [
    {
     "name": "stdout",
     "output_type": "stream",
     "text": [
      "set()\n"
     ]
    }
   ],
   "source": [
    "print(set(positive_emotional_states).intersection(set(negative_emotional_states)))"
   ]
  },
  {
   "cell_type": "code",
   "execution_count": 35,
   "metadata": {},
   "outputs": [],
   "source": [
    "assert(len(set(positive_emotional_states).intersection(set(negative_emotional_states))) == 0), \"ERROR not a disjoint set\""
   ]
  },
  {
   "cell_type": "code",
   "execution_count": 36,
   "metadata": {},
   "outputs": [],
   "source": [
    "emotional_situations = [\"annoying\", \"dreadful\", \"amazing\", \"depressing\", \\\n",
    "                       \"displeasing\", \"horrible\", \"funny\", \"gloomy\", \\\n",
    "                       \"irritating\", \"shocking\", \"great\", \"grim\", \\\n",
    "                       \"outrageous\", \"terrifying\", \"hilarious\", \"heartbreaking\", \\\n",
    "                       \"vexing\", \"threatening\", \"wonderful\", \"serious\"]"
   ]
  },
  {
   "cell_type": "code",
   "execution_count": 37,
   "metadata": {},
   "outputs": [],
   "source": [
    "positive_emotional_situations = [\"amazing\", \"funny\", \"great\", \"hilarious\",\"wonderful\"]\n",
    "\n",
    "negative_emotional_situations = [\"annoying\", \"dreadful\", \"depressing\", \"displeasing\", \"horrible\",\\\n",
    "                                \"gloomy\", \"irritating\", \"shocking\", \"grim\", \"outrageous\", \"terrifying\", \"heartbreaking\",\\\n",
    "                                \"vexing\",  \"threatening\", \"serious\"]"
   ]
  },
  {
   "cell_type": "code",
   "execution_count": 38,
   "metadata": {},
   "outputs": [
    {
     "name": "stdout",
     "output_type": "stream",
     "text": [
      "set()\n"
     ]
    }
   ],
   "source": [
    "print(set(positive_emotional_situations).intersection(set(negative_emotional_situations)))"
   ]
  },
  {
   "cell_type": "code",
   "execution_count": 39,
   "metadata": {},
   "outputs": [],
   "source": [
    "assert(len(set(positive_emotional_situations).intersection(set(negative_emotional_situations))) == 0), \"ERROR not a disjoint set\""
   ]
  },
  {
   "cell_type": "code",
   "execution_count": 40,
   "metadata": {},
   "outputs": [],
   "source": [
    "neutral_subjs = [\"I made\", \"The situation makes\", \"The conversation with\"]\n",
    "verb_feel_list = [\"feel\", \"made me feel\", \"found himself/herself in a/an\", \"told us all about the recent\", \"was\", \\\n",
    "                  \"found herself in a/an\", \"found himself in a/an\"]\n",
    "end_noun = ['situation', 'events']"
   ]
  },
  {
   "cell_type": "code",
   "execution_count": 41,
   "metadata": {},
   "outputs": [],
   "source": [
    "neutral_pronoun = [\"I\", \"me\"]\n",
    "neutral_sent_verb = [\"saw\", \"talked to\"]\n",
    "end_sentence = [\"in the market\", \"yesterday\", \"goes to the school in our neighborhood\", \"has two children\"]"
   ]
  },
  {
   "cell_type": "markdown",
   "metadata": {},
   "source": [
    "### Constants, Functions and Utils"
   ]
  },
  {
   "cell_type": "code",
   "execution_count": 42,
   "metadata": {},
   "outputs": [],
   "source": [
    "tokens = verb_list_p1 + verb_list_p2 + verb_list + person_female + person_male + subj_pronoun_female + subj_pronoun_male + obj_pronoun_female + obj_pronoun_male + occupations_male_biased + occupations_female_biased + female_biased_names + male_biased_names + African_American_Female_Names + African_American_Male_Names + European_American_Female_Names + European_American_Male_Names + gen_male_names + gen_female_names + african_american_names + european_american_names + subj_person_male_all + subj_person_female_all + obj_person_male +  obj_person_female + emotional_states + positive_emotional_states + negative_emotional_states + emotional_situations + positive_emotional_situations + negative_emotional_situations + neutral_subjs + verb_feel_list + end_noun + neutral_pronoun + neutral_sent_verb + end_sentence "
   ]
  },
  {
   "cell_type": "code",
   "execution_count": 43,
   "metadata": {},
   "outputs": [],
   "source": [
    "all_nodes = set(tokens)"
   ]
  },
  {
   "cell_type": "code",
   "execution_count": 44,
   "metadata": {},
   "outputs": [
    {
     "data": {
      "text/plain": [
       "227"
      ]
     },
     "execution_count": 44,
     "metadata": {},
     "output_type": "execute_result"
    }
   ],
   "source": [
    "len(set(all_nodes))"
   ]
  },
  {
   "cell_type": "code",
   "execution_count": 45,
   "metadata": {},
   "outputs": [],
   "source": [
    "def subj_choice(choice):\n",
    "    if choice == 0:\n",
    "        subj_person_male = subj_person_male_all\n",
    "        subj_person_female = subj_person_female_all\n",
    "    elif choice == 1:\n",
    "        subj_person_male = subj_person_male_all\n",
    "        subj_person_female = subj_person_female_all\n",
    "    elif choice == 2:\n",
    "        subj_person_male = occupations_male_biased\n",
    "        subj_person_female = occupations_female_biased\n",
    "    elif choice == 3:\n",
    "        subj_person_male = male_biased_names\n",
    "        subj_person_female = female_biased_names\n",
    "    elif choice == 4:\n",
    "        subj_person_male = gen_male_names\n",
    "        subj_person_female = gen_female_names\n",
    "    elif choice == 5:\n",
    "        subj_person_male = african_american_names\n",
    "        subj_person_female = european_american_names\n",
    "    \n",
    "    return subj_person_male, subj_person_female"
   ]
  },
  {
   "cell_type": "code",
   "execution_count": 46,
   "metadata": {},
   "outputs": [],
   "source": [
    "all_covered_pairs, all_covered_nodes = set(), set()"
   ]
  },
  {
   "cell_type": "code",
   "execution_count": 47,
   "metadata": {},
   "outputs": [],
   "source": [
    "all_pairs = set()"
   ]
  },
  {
   "cell_type": "markdown",
   "metadata": {},
   "source": [
    "### Compute Coverage for Inputs generated in each Test Configuration"
   ]
  },
  {
   "cell_type": "markdown",
   "metadata": {},
   "source": [
    "### A. Direct gender noun comparisons (e.g. My boyfriend/My girlfriend)"
   ]
  },
  {
   "cell_type": "code",
   "execution_count": 48,
   "metadata": {},
   "outputs": [],
   "source": [
    "noun_choice =  0 #Noun /Pronoun"
   ]
  },
  {
   "cell_type": "markdown",
   "metadata": {},
   "source": [
    "#### Compute Terminal Node (or input tokens) Coverage"
   ]
  },
  {
   "cell_type": "code",
   "execution_count": 49,
   "metadata": {},
   "outputs": [],
   "source": [
    "test_strategy = \"exploitation\"\n",
    "mode = \"direct-gender-noun\"\n",
    "subject = \"vader-sentiment-analysis\"\n",
    "start_dir = \"/Users/ezekiel.soremekun/Documents/Coref-Fairness-Test-Generation/Ezekiel-Testbed/pre-trained-sentiment-analyzers/Exploitation/saved_pickles/\" +  test_strategy + \"/\" + subject + \"/\" + mode + \"/\""
   ]
  },
  {
   "cell_type": "code",
   "execution_count": 50,
   "metadata": {},
   "outputs": [],
   "source": [
    "generated_input1_path = start_dir + \"unique_input1_set.pickle\"\n",
    "generated_input2_path = start_dir + \"unique_input2_set.pickle\"\n",
    "generated_input_pairs_path = start_dir + \"unique_input_pair_set.pickle\""
   ]
  },
  {
   "cell_type": "code",
   "execution_count": 51,
   "metadata": {},
   "outputs": [],
   "source": [
    "generated_input1, generated_input2, generated_input_pairs = None, None, None"
   ]
  },
  {
   "cell_type": "code",
   "execution_count": 52,
   "metadata": {},
   "outputs": [],
   "source": [
    "with open(generated_input1_path, 'rb') as handle:\n",
    "    generated_input1 = pickle.load(handle)"
   ]
  },
  {
   "cell_type": "code",
   "execution_count": 53,
   "metadata": {},
   "outputs": [],
   "source": [
    "with open(generated_input2_path, 'rb') as handle:\n",
    "    generated_input2 = pickle.load(handle)"
   ]
  },
  {
   "cell_type": "code",
   "execution_count": 54,
   "metadata": {},
   "outputs": [],
   "source": [
    "with open(generated_input_pairs_path, 'rb') as handle:\n",
    "    generated_input_pairs = pickle.load(handle)"
   ]
  },
  {
   "cell_type": "code",
   "execution_count": 55,
   "metadata": {},
   "outputs": [
    {
     "data": {
      "text/plain": [
       "1199"
      ]
     },
     "execution_count": 55,
     "metadata": {},
     "output_type": "execute_result"
    }
   ],
   "source": [
    "len(generated_input1)"
   ]
  },
  {
   "cell_type": "code",
   "execution_count": 56,
   "metadata": {},
   "outputs": [
    {
     "name": "stdout",
     "output_type": "stream",
     "text": [
      "this woman told us all about the recent shocking events.\n"
     ]
    }
   ],
   "source": [
    "for i in generated_input1:\n",
    "    print(i)\n",
    "    break"
   ]
  },
  {
   "cell_type": "code",
   "execution_count": 57,
   "metadata": {},
   "outputs": [],
   "source": [
    "gen_nodes_1 = set()"
   ]
  },
  {
   "cell_type": "code",
   "execution_count": 58,
   "metadata": {},
   "outputs": [],
   "source": [
    "#check coverage in input1\n",
    "for sentence in generated_input1:\n",
    "    for node in all_nodes:\n",
    "        if node in sentence:\n",
    "            gen_nodes_1.add(node)"
   ]
  },
  {
   "cell_type": "code",
   "execution_count": 59,
   "metadata": {},
   "outputs": [
    {
     "name": "stdout",
     "output_type": "stream",
     "text": [
      "64\n"
     ]
    }
   ],
   "source": [
    "print(len(gen_nodes_1))"
   ]
  },
  {
   "cell_type": "code",
   "execution_count": 60,
   "metadata": {},
   "outputs": [],
   "source": [
    "# gen_nodes_1"
   ]
  },
  {
   "cell_type": "code",
   "execution_count": 61,
   "metadata": {},
   "outputs": [],
   "source": [
    "gen_nodes_2 = set()"
   ]
  },
  {
   "cell_type": "code",
   "execution_count": 62,
   "metadata": {},
   "outputs": [],
   "source": [
    "#check coverage in input2\n",
    "for sentence in generated_input2:\n",
    "    for node in all_nodes:\n",
    "        if node in sentence:\n",
    "            gen_nodes_2.add(node)"
   ]
  },
  {
   "cell_type": "code",
   "execution_count": 63,
   "metadata": {},
   "outputs": [
    {
     "name": "stdout",
     "output_type": "stream",
     "text": [
      "65\n"
     ]
    }
   ],
   "source": [
    "print(len(gen_nodes_2))"
   ]
  },
  {
   "cell_type": "code",
   "execution_count": 64,
   "metadata": {},
   "outputs": [],
   "source": [
    "all_gen_terminals = gen_nodes_1.union(gen_nodes_2)"
   ]
  },
  {
   "cell_type": "code",
   "execution_count": 65,
   "metadata": {},
   "outputs": [
    {
     "name": "stdout",
     "output_type": "stream",
     "text": [
      "75\n"
     ]
    }
   ],
   "source": [
    "print(len(all_gen_terminals))"
   ]
  },
  {
   "cell_type": "code",
   "execution_count": 66,
   "metadata": {},
   "outputs": [],
   "source": [
    "all_gen_terminals = set(gen_nodes_1.union(gen_nodes_2))"
   ]
  },
  {
   "cell_type": "code",
   "execution_count": 67,
   "metadata": {},
   "outputs": [
    {
     "data": {
      "text/plain": [
       "75"
      ]
     },
     "execution_count": 67,
     "metadata": {},
     "output_type": "execute_result"
    }
   ],
   "source": [
    "len(all_gen_terminals)"
   ]
  },
  {
   "cell_type": "code",
   "execution_count": 68,
   "metadata": {},
   "outputs": [
    {
     "name": "stdout",
     "output_type": "stream",
     "text": [
      "65\n"
     ]
    }
   ],
   "source": [
    "print(len(gen_nodes_2))"
   ]
  },
  {
   "cell_type": "code",
   "execution_count": 69,
   "metadata": {},
   "outputs": [],
   "source": [
    "score = len(all_gen_terminals)/len(all_nodes) * 100"
   ]
  },
  {
   "cell_type": "code",
   "execution_count": 70,
   "metadata": {},
   "outputs": [
    {
     "name": "stdout",
     "output_type": "stream",
     "text": [
      "Terminal Coverage: 33.04%\n"
     ]
    }
   ],
   "source": [
    "print(\"Terminal Coverage: {:.2f}%\".format(score))"
   ]
  },
  {
   "cell_type": "code",
   "execution_count": 71,
   "metadata": {},
   "outputs": [],
   "source": [
    "all_covered_nodes = all_covered_nodes.union(all_gen_terminals)"
   ]
  },
  {
   "cell_type": "markdown",
   "metadata": {},
   "source": [
    "#### Compute Pairwise Sensitive Attribute Coverage"
   ]
  },
  {
   "cell_type": "code",
   "execution_count": 72,
   "metadata": {},
   "outputs": [],
   "source": [
    "subj_person_male, subj_person_female = [], []"
   ]
  },
  {
   "cell_type": "code",
   "execution_count": 73,
   "metadata": {},
   "outputs": [],
   "source": [
    "subj_person_male, subj_person_female = subj_choice(noun_choice)"
   ]
  },
  {
   "cell_type": "code",
   "execution_count": 74,
   "metadata": {},
   "outputs": [
    {
     "data": {
      "text/plain": [
       "['She',\n",
       " 'this woman',\n",
       " 'this girl',\n",
       " 'my sister',\n",
       " 'my daughter',\n",
       " 'my wife',\n",
       " 'my girlfriend',\n",
       " 'my mother',\n",
       " 'my aunt',\n",
       " 'my mom']"
      ]
     },
     "execution_count": 74,
     "metadata": {},
     "output_type": "execute_result"
    }
   ],
   "source": [
    "subj_person_female"
   ]
  },
  {
   "cell_type": "code",
   "execution_count": 75,
   "metadata": {},
   "outputs": [
    {
     "data": {
      "text/plain": [
       "['He',\n",
       " 'this man',\n",
       " 'this boy',\n",
       " 'my brother',\n",
       " 'my son',\n",
       " 'my husband',\n",
       " 'my boyfriend',\n",
       " 'my father',\n",
       " 'my uncle',\n",
       " 'my dad']"
      ]
     },
     "execution_count": 75,
     "metadata": {},
     "output_type": "execute_result"
    }
   ],
   "source": [
    "subj_person_male"
   ]
  },
  {
   "cell_type": "code",
   "execution_count": 76,
   "metadata": {},
   "outputs": [],
   "source": [
    "pairs = []"
   ]
  },
  {
   "cell_type": "code",
   "execution_count": 77,
   "metadata": {},
   "outputs": [],
   "source": [
    "assert(len(subj_person_male) == len(subj_person_female)), \"ERROR length mismatch\"\n",
    "for i in range(max(len(subj_person_male), len(subj_person_female))):\n",
    "    pairs.append((subj_person_male[i],subj_person_female[i]))"
   ]
  },
  {
   "cell_type": "code",
   "execution_count": 78,
   "metadata": {},
   "outputs": [
    {
     "data": {
      "text/plain": [
       "10"
      ]
     },
     "execution_count": 78,
     "metadata": {},
     "output_type": "execute_result"
    }
   ],
   "source": [
    "len(pairs)"
   ]
  },
  {
   "cell_type": "code",
   "execution_count": 79,
   "metadata": {},
   "outputs": [],
   "source": [
    "pairs = set(pairs)"
   ]
  },
  {
   "cell_type": "code",
   "execution_count": 80,
   "metadata": {},
   "outputs": [
    {
     "data": {
      "text/plain": [
       "10"
      ]
     },
     "execution_count": 80,
     "metadata": {},
     "output_type": "execute_result"
    }
   ],
   "source": [
    "len(set(pairs))"
   ]
  },
  {
   "cell_type": "code",
   "execution_count": 81,
   "metadata": {},
   "outputs": [],
   "source": [
    "covered_pairs = set()"
   ]
  },
  {
   "cell_type": "code",
   "execution_count": 82,
   "metadata": {},
   "outputs": [],
   "source": [
    "for sentence_pair in generated_input_pairs:\n",
    "    for combination in pairs:\n",
    "        if ((combination[0] in sentence_pair.split(\";\")[1]) and (combination[1] in sentence_pair.split(\";\")[0])) \\\n",
    "            or ((combination[0] in sentence_pair.split(\";\")[0]) and (combination[1] in sentence_pair.split(\";\")[1])):\n",
    "            covered_pairs.add(combination)"
   ]
  },
  {
   "cell_type": "code",
   "execution_count": 83,
   "metadata": {},
   "outputs": [
    {
     "data": {
      "text/plain": [
       "{('He', 'She'),\n",
       " ('my boyfriend', 'my girlfriend'),\n",
       " ('my brother', 'my sister'),\n",
       " ('my father', 'my mother'),\n",
       " ('my husband', 'my wife'),\n",
       " ('my son', 'my daughter'),\n",
       " ('my uncle', 'my aunt'),\n",
       " ('this boy', 'this girl'),\n",
       " ('this man', 'this woman')}"
      ]
     },
     "execution_count": 83,
     "metadata": {},
     "output_type": "execute_result"
    }
   ],
   "source": [
    "covered_pairs"
   ]
  },
  {
   "cell_type": "code",
   "execution_count": 84,
   "metadata": {},
   "outputs": [
    {
     "data": {
      "text/plain": [
       "9"
      ]
     },
     "execution_count": 84,
     "metadata": {},
     "output_type": "execute_result"
    }
   ],
   "source": [
    "len(covered_pairs)"
   ]
  },
  {
   "cell_type": "code",
   "execution_count": 85,
   "metadata": {},
   "outputs": [],
   "source": [
    "score = len(covered_pairs)/len(pairs) * 100"
   ]
  },
  {
   "cell_type": "code",
   "execution_count": 86,
   "metadata": {},
   "outputs": [
    {
     "name": "stdout",
     "output_type": "stream",
     "text": [
      "Pairwise Coverage: 90.00%\n"
     ]
    }
   ],
   "source": [
    "print(\"Pairwise Coverage: {:.2f}%\".format(score))"
   ]
  },
  {
   "cell_type": "code",
   "execution_count": 87,
   "metadata": {},
   "outputs": [],
   "source": [
    "all_covered_pairs = all_covered_pairs.union(covered_pairs)"
   ]
  },
  {
   "cell_type": "code",
   "execution_count": 88,
   "metadata": {},
   "outputs": [],
   "source": [
    "all_pairs = all_pairs.union(pairs)"
   ]
  },
  {
   "cell_type": "markdown",
   "metadata": {},
   "source": [
    "### B. Random gender noun comparisons (e.g. My boyfriend/My mother)"
   ]
  },
  {
   "cell_type": "markdown",
   "metadata": {},
   "source": [
    "#### Compute Terminal Node (or input tokens) Coverage"
   ]
  },
  {
   "cell_type": "code",
   "execution_count": 89,
   "metadata": {},
   "outputs": [],
   "source": [
    "noun_choice =  1 #Noun /Pronoun"
   ]
  },
  {
   "cell_type": "code",
   "execution_count": 90,
   "metadata": {},
   "outputs": [],
   "source": [
    "test_strategy = \"exploitation\"\n",
    "mode = \"random-gender-noun\"\n",
    "subject = \"vader-sentiment-analysis\"\n",
    "start_dir = \"/Users/ezekiel.soremekun/Documents/Coref-Fairness-Test-Generation/Ezekiel-Testbed/pre-trained-sentiment-analyzers/Exploitation/saved_pickles/\" +  test_strategy + \"/\" + subject + \"/\" + mode + \"/\""
   ]
  },
  {
   "cell_type": "code",
   "execution_count": 91,
   "metadata": {},
   "outputs": [],
   "source": [
    "generated_input1_path = start_dir + \"unique_input1_set.pickle\"\n",
    "generated_input2_path = start_dir + \"unique_input2_set.pickle\"\n",
    "generated_input_pairs_path = start_dir + \"unique_input_pair_set.pickle\""
   ]
  },
  {
   "cell_type": "code",
   "execution_count": 92,
   "metadata": {},
   "outputs": [],
   "source": [
    "generated_input1, generated_input2, generated_input_pairs = None, None, None"
   ]
  },
  {
   "cell_type": "code",
   "execution_count": 93,
   "metadata": {},
   "outputs": [],
   "source": [
    "with open(generated_input1_path, 'rb') as handle:\n",
    "    generated_input1 = pickle.load(handle)"
   ]
  },
  {
   "cell_type": "code",
   "execution_count": 94,
   "metadata": {},
   "outputs": [],
   "source": [
    "with open(generated_input2_path, 'rb') as handle:\n",
    "    generated_input2 = pickle.load(handle)"
   ]
  },
  {
   "cell_type": "code",
   "execution_count": 95,
   "metadata": {},
   "outputs": [],
   "source": [
    "with open(generated_input_pairs_path, 'rb') as handle:\n",
    "    generated_input_pairs = pickle.load(handle)"
   ]
  },
  {
   "cell_type": "code",
   "execution_count": 96,
   "metadata": {},
   "outputs": [
    {
     "data": {
      "text/plain": [
       "1350"
      ]
     },
     "execution_count": 96,
     "metadata": {},
     "output_type": "execute_result"
    }
   ],
   "source": [
    "len(generated_input1)"
   ]
  },
  {
   "cell_type": "code",
   "execution_count": 97,
   "metadata": {},
   "outputs": [
    {
     "name": "stdout",
     "output_type": "stream",
     "text": [
      "this woman told us all about the recent shocking events.\n"
     ]
    }
   ],
   "source": [
    "for i in generated_input1:\n",
    "    print(i)\n",
    "    break"
   ]
  },
  {
   "cell_type": "code",
   "execution_count": 98,
   "metadata": {},
   "outputs": [],
   "source": [
    "gen_nodes_1 = set()"
   ]
  },
  {
   "cell_type": "code",
   "execution_count": 99,
   "metadata": {},
   "outputs": [],
   "source": [
    "#check coverage in input1\n",
    "for sentence in generated_input1:\n",
    "    for node in all_nodes:\n",
    "        if node in sentence:\n",
    "            gen_nodes_1.add(node)"
   ]
  },
  {
   "cell_type": "code",
   "execution_count": 100,
   "metadata": {},
   "outputs": [
    {
     "name": "stdout",
     "output_type": "stream",
     "text": [
      "65\n"
     ]
    }
   ],
   "source": [
    "print(len(gen_nodes_1))"
   ]
  },
  {
   "cell_type": "code",
   "execution_count": 101,
   "metadata": {},
   "outputs": [],
   "source": [
    "# gen_nodes_1"
   ]
  },
  {
   "cell_type": "code",
   "execution_count": 102,
   "metadata": {},
   "outputs": [],
   "source": [
    "gen_nodes_2 = set()"
   ]
  },
  {
   "cell_type": "code",
   "execution_count": 103,
   "metadata": {},
   "outputs": [],
   "source": [
    "#check coverage in input2\n",
    "for sentence in generated_input2:\n",
    "    for node in all_nodes:\n",
    "        if node in sentence:\n",
    "            gen_nodes_2.add(node)"
   ]
  },
  {
   "cell_type": "code",
   "execution_count": 104,
   "metadata": {},
   "outputs": [
    {
     "name": "stdout",
     "output_type": "stream",
     "text": [
      "66\n"
     ]
    }
   ],
   "source": [
    "print(len(gen_nodes_2))"
   ]
  },
  {
   "cell_type": "code",
   "execution_count": 105,
   "metadata": {},
   "outputs": [],
   "source": [
    "all_gen_terminals = gen_nodes_1.union(gen_nodes_2)"
   ]
  },
  {
   "cell_type": "code",
   "execution_count": 106,
   "metadata": {},
   "outputs": [
    {
     "name": "stdout",
     "output_type": "stream",
     "text": [
      "77\n"
     ]
    }
   ],
   "source": [
    "print(len(all_gen_terminals))"
   ]
  },
  {
   "cell_type": "code",
   "execution_count": 107,
   "metadata": {},
   "outputs": [],
   "source": [
    "all_gen_terminals = set(gen_nodes_1.union(gen_nodes_2))"
   ]
  },
  {
   "cell_type": "code",
   "execution_count": 108,
   "metadata": {},
   "outputs": [
    {
     "data": {
      "text/plain": [
       "77"
      ]
     },
     "execution_count": 108,
     "metadata": {},
     "output_type": "execute_result"
    }
   ],
   "source": [
    "len(all_gen_terminals)"
   ]
  },
  {
   "cell_type": "code",
   "execution_count": 109,
   "metadata": {},
   "outputs": [
    {
     "name": "stdout",
     "output_type": "stream",
     "text": [
      "66\n"
     ]
    }
   ],
   "source": [
    "print(len(gen_nodes_2))"
   ]
  },
  {
   "cell_type": "code",
   "execution_count": 110,
   "metadata": {},
   "outputs": [],
   "source": [
    "score = len(all_gen_terminals)/len(all_nodes) * 100"
   ]
  },
  {
   "cell_type": "code",
   "execution_count": 111,
   "metadata": {},
   "outputs": [
    {
     "name": "stdout",
     "output_type": "stream",
     "text": [
      "Terminal Coverage: 33.92%\n"
     ]
    }
   ],
   "source": [
    "print(\"Terminal Coverage: {:.2f}%\".format(score))"
   ]
  },
  {
   "cell_type": "code",
   "execution_count": 112,
   "metadata": {},
   "outputs": [],
   "source": [
    "all_covered_nodes = all_covered_nodes.union(all_gen_terminals)"
   ]
  },
  {
   "cell_type": "markdown",
   "metadata": {},
   "source": [
    "#### Compute Pairwise Sensitive Attribute Coverage"
   ]
  },
  {
   "cell_type": "code",
   "execution_count": 113,
   "metadata": {},
   "outputs": [],
   "source": [
    "subj_person_male, subj_person_female = [], []"
   ]
  },
  {
   "cell_type": "code",
   "execution_count": 114,
   "metadata": {},
   "outputs": [],
   "source": [
    "subj_person_male, subj_person_female = subj_choice(noun_choice)"
   ]
  },
  {
   "cell_type": "code",
   "execution_count": 115,
   "metadata": {},
   "outputs": [
    {
     "data": {
      "text/plain": [
       "['She',\n",
       " 'this woman',\n",
       " 'this girl',\n",
       " 'my sister',\n",
       " 'my daughter',\n",
       " 'my wife',\n",
       " 'my girlfriend',\n",
       " 'my mother',\n",
       " 'my aunt',\n",
       " 'my mom']"
      ]
     },
     "execution_count": 115,
     "metadata": {},
     "output_type": "execute_result"
    }
   ],
   "source": [
    "subj_person_female"
   ]
  },
  {
   "cell_type": "code",
   "execution_count": 116,
   "metadata": {},
   "outputs": [
    {
     "data": {
      "text/plain": [
       "['He',\n",
       " 'this man',\n",
       " 'this boy',\n",
       " 'my brother',\n",
       " 'my son',\n",
       " 'my husband',\n",
       " 'my boyfriend',\n",
       " 'my father',\n",
       " 'my uncle',\n",
       " 'my dad']"
      ]
     },
     "execution_count": 116,
     "metadata": {},
     "output_type": "execute_result"
    }
   ],
   "source": [
    "subj_person_male"
   ]
  },
  {
   "cell_type": "code",
   "execution_count": 117,
   "metadata": {},
   "outputs": [],
   "source": [
    "pairs = []"
   ]
  },
  {
   "cell_type": "code",
   "execution_count": 118,
   "metadata": {},
   "outputs": [],
   "source": [
    "# assert(len(subj_person_male) == len(subj_person_female)), \"ERROR length mismatch\"\n",
    "# for i in range(max(len(subj_person_male), len(subj_person_female))):\n",
    "#     pairs.append((subj_person_male[i],subj_person_female[i]))"
   ]
  },
  {
   "cell_type": "code",
   "execution_count": 119,
   "metadata": {},
   "outputs": [],
   "source": [
    "assert(len(subj_person_male) == len(subj_person_female)), \"ERROR length mismatch\"\n",
    "for i in subj_person_male:\n",
    "    for j in subj_person_female:\n",
    "        pairs.append((i,j))"
   ]
  },
  {
   "cell_type": "code",
   "execution_count": 120,
   "metadata": {},
   "outputs": [
    {
     "data": {
      "text/plain": [
       "100"
      ]
     },
     "execution_count": 120,
     "metadata": {},
     "output_type": "execute_result"
    }
   ],
   "source": [
    "len(pairs)"
   ]
  },
  {
   "cell_type": "code",
   "execution_count": 121,
   "metadata": {},
   "outputs": [],
   "source": [
    "pairs = set(pairs)"
   ]
  },
  {
   "cell_type": "code",
   "execution_count": 122,
   "metadata": {},
   "outputs": [
    {
     "data": {
      "text/plain": [
       "100"
      ]
     },
     "execution_count": 122,
     "metadata": {},
     "output_type": "execute_result"
    }
   ],
   "source": [
    "len(set(pairs))"
   ]
  },
  {
   "cell_type": "code",
   "execution_count": 123,
   "metadata": {},
   "outputs": [],
   "source": [
    "covered_pairs = set()"
   ]
  },
  {
   "cell_type": "code",
   "execution_count": 124,
   "metadata": {},
   "outputs": [],
   "source": [
    "for sentence_pair in generated_input_pairs:\n",
    "    for combination in pairs:\n",
    "        if ((combination[0] in sentence_pair.split(\";\")[1]) and (combination[1] in sentence_pair.split(\";\")[0])) \\\n",
    "            or ((combination[0] in sentence_pair.split(\";\")[0]) and (combination[1] in sentence_pair.split(\";\")[1])):\n",
    "            covered_pairs.add(combination)"
   ]
  },
  {
   "cell_type": "code",
   "execution_count": 125,
   "metadata": {
    "collapsed": true,
    "jupyter": {
     "outputs_hidden": true
    }
   },
   "outputs": [
    {
     "data": {
      "text/plain": [
       "{('He', 'She'),\n",
       " ('He', 'my aunt'),\n",
       " ('He', 'my daughter'),\n",
       " ('He', 'my girlfriend'),\n",
       " ('He', 'my mom'),\n",
       " ('He', 'my mother'),\n",
       " ('He', 'my sister'),\n",
       " ('He', 'my wife'),\n",
       " ('He', 'this girl'),\n",
       " ('He', 'this woman'),\n",
       " ('my boyfriend', 'She'),\n",
       " ('my boyfriend', 'my aunt'),\n",
       " ('my boyfriend', 'my daughter'),\n",
       " ('my boyfriend', 'my girlfriend'),\n",
       " ('my boyfriend', 'my mom'),\n",
       " ('my boyfriend', 'my mother'),\n",
       " ('my boyfriend', 'my sister'),\n",
       " ('my boyfriend', 'my wife'),\n",
       " ('my boyfriend', 'this girl'),\n",
       " ('my boyfriend', 'this woman'),\n",
       " ('my brother', 'She'),\n",
       " ('my brother', 'my aunt'),\n",
       " ('my brother', 'my daughter'),\n",
       " ('my brother', 'my girlfriend'),\n",
       " ('my brother', 'my mom'),\n",
       " ('my brother', 'my mother'),\n",
       " ('my brother', 'my sister'),\n",
       " ('my brother', 'my wife'),\n",
       " ('my brother', 'this girl'),\n",
       " ('my brother', 'this woman'),\n",
       " ('my dad', 'She'),\n",
       " ('my dad', 'my aunt'),\n",
       " ('my dad', 'my daughter'),\n",
       " ('my dad', 'my girlfriend'),\n",
       " ('my dad', 'my mom'),\n",
       " ('my dad', 'my mother'),\n",
       " ('my dad', 'my sister'),\n",
       " ('my dad', 'my wife'),\n",
       " ('my dad', 'this girl'),\n",
       " ('my father', 'She'),\n",
       " ('my father', 'my aunt'),\n",
       " ('my father', 'my daughter'),\n",
       " ('my father', 'my girlfriend'),\n",
       " ('my father', 'my mom'),\n",
       " ('my father', 'my mother'),\n",
       " ('my father', 'my sister'),\n",
       " ('my father', 'my wife'),\n",
       " ('my father', 'this girl'),\n",
       " ('my father', 'this woman'),\n",
       " ('my husband', 'She'),\n",
       " ('my husband', 'my aunt'),\n",
       " ('my husband', 'my daughter'),\n",
       " ('my husband', 'my girlfriend'),\n",
       " ('my husband', 'my mom'),\n",
       " ('my husband', 'my mother'),\n",
       " ('my husband', 'my sister'),\n",
       " ('my husband', 'my wife'),\n",
       " ('my husband', 'this girl'),\n",
       " ('my husband', 'this woman'),\n",
       " ('my son', 'She'),\n",
       " ('my son', 'my aunt'),\n",
       " ('my son', 'my daughter'),\n",
       " ('my son', 'my girlfriend'),\n",
       " ('my son', 'my mom'),\n",
       " ('my son', 'my mother'),\n",
       " ('my son', 'my sister'),\n",
       " ('my son', 'my wife'),\n",
       " ('my son', 'this girl'),\n",
       " ('my son', 'this woman'),\n",
       " ('my uncle', 'She'),\n",
       " ('my uncle', 'my aunt'),\n",
       " ('my uncle', 'my daughter'),\n",
       " ('my uncle', 'my girlfriend'),\n",
       " ('my uncle', 'my mom'),\n",
       " ('my uncle', 'my mother'),\n",
       " ('my uncle', 'my sister'),\n",
       " ('my uncle', 'my wife'),\n",
       " ('my uncle', 'this girl'),\n",
       " ('my uncle', 'this woman'),\n",
       " ('this boy', 'She'),\n",
       " ('this boy', 'my aunt'),\n",
       " ('this boy', 'my daughter'),\n",
       " ('this boy', 'my girlfriend'),\n",
       " ('this boy', 'my mom'),\n",
       " ('this boy', 'my mother'),\n",
       " ('this boy', 'my sister'),\n",
       " ('this boy', 'my wife'),\n",
       " ('this boy', 'this girl'),\n",
       " ('this boy', 'this woman'),\n",
       " ('this man', 'She'),\n",
       " ('this man', 'my aunt'),\n",
       " ('this man', 'my daughter'),\n",
       " ('this man', 'my girlfriend'),\n",
       " ('this man', 'my mom'),\n",
       " ('this man', 'my mother'),\n",
       " ('this man', 'my sister'),\n",
       " ('this man', 'my wife'),\n",
       " ('this man', 'this girl'),\n",
       " ('this man', 'this woman')}"
      ]
     },
     "execution_count": 125,
     "metadata": {},
     "output_type": "execute_result"
    }
   ],
   "source": [
    "covered_pairs"
   ]
  },
  {
   "cell_type": "code",
   "execution_count": 126,
   "metadata": {},
   "outputs": [
    {
     "data": {
      "text/plain": [
       "99"
      ]
     },
     "execution_count": 126,
     "metadata": {},
     "output_type": "execute_result"
    }
   ],
   "source": [
    "len(covered_pairs)"
   ]
  },
  {
   "cell_type": "code",
   "execution_count": 127,
   "metadata": {},
   "outputs": [],
   "source": [
    "score = len(covered_pairs)/len(pairs) * 100"
   ]
  },
  {
   "cell_type": "code",
   "execution_count": 128,
   "metadata": {},
   "outputs": [
    {
     "name": "stdout",
     "output_type": "stream",
     "text": [
      "Pairwise Coverage: 99.00%\n"
     ]
    }
   ],
   "source": [
    "print(\"Pairwise Coverage: {:.2f}%\".format(score))"
   ]
  },
  {
   "cell_type": "code",
   "execution_count": 129,
   "metadata": {},
   "outputs": [],
   "source": [
    "all_covered_pairs =  all_covered_pairs.union(covered_pairs)"
   ]
  },
  {
   "cell_type": "code",
   "execution_count": 130,
   "metadata": {},
   "outputs": [],
   "source": [
    "all_pairs = all_pairs.union(pairs)"
   ]
  },
  {
   "cell_type": "markdown",
   "metadata": {},
   "source": [
    "### C. Test for Indirect Gender Bias, i.e. Occupational Bias"
   ]
  },
  {
   "cell_type": "code",
   "execution_count": 131,
   "metadata": {},
   "outputs": [],
   "source": [
    "noun_choice =  2 #Noun /Pronoun"
   ]
  },
  {
   "cell_type": "code",
   "execution_count": 132,
   "metadata": {},
   "outputs": [],
   "source": [
    "test_strategy = \"exploitation\"\n",
    "mode = \"gender-occupation-noun\"\n",
    "subject = \"vader-sentiment-analysis\"\n",
    "start_dir = \"/Users/ezekiel.soremekun/Documents/Coref-Fairness-Test-Generation/Ezekiel-Testbed/pre-trained-sentiment-analyzers/Exploitation/saved_pickles/\" +  test_strategy + \"/\" + subject + \"/\" + mode + \"/\""
   ]
  },
  {
   "cell_type": "code",
   "execution_count": 133,
   "metadata": {},
   "outputs": [],
   "source": [
    "generated_input1_path = start_dir + \"unique_input1_set.pickle\"\n",
    "generated_input2_path = start_dir + \"unique_input2_set.pickle\"\n",
    "generated_input_pairs_path = start_dir + \"unique_input_pair_set.pickle\""
   ]
  },
  {
   "cell_type": "code",
   "execution_count": 134,
   "metadata": {},
   "outputs": [],
   "source": [
    "generated_input1, generated_input2, generated_input_pairs = None, None, None"
   ]
  },
  {
   "cell_type": "code",
   "execution_count": 135,
   "metadata": {},
   "outputs": [],
   "source": [
    "with open(generated_input1_path, 'rb') as handle:\n",
    "    generated_input1 = pickle.load(handle)"
   ]
  },
  {
   "cell_type": "code",
   "execution_count": 136,
   "metadata": {},
   "outputs": [],
   "source": [
    "with open(generated_input2_path, 'rb') as handle:\n",
    "    generated_input2 = pickle.load(handle)"
   ]
  },
  {
   "cell_type": "code",
   "execution_count": 137,
   "metadata": {},
   "outputs": [],
   "source": [
    "with open(generated_input_pairs_path, 'rb') as handle:\n",
    "    generated_input_pairs = pickle.load(handle)"
   ]
  },
  {
   "cell_type": "code",
   "execution_count": 138,
   "metadata": {},
   "outputs": [
    {
     "data": {
      "text/plain": [
       "240"
      ]
     },
     "execution_count": 138,
     "metadata": {},
     "output_type": "execute_result"
    }
   ],
   "source": [
    "len(generated_input1)"
   ]
  },
  {
   "cell_type": "code",
   "execution_count": 139,
   "metadata": {},
   "outputs": [
    {
     "name": "stdout",
     "output_type": "stream",
     "text": [
      "the cleaner told us all about the recent gloomy events.\n"
     ]
    }
   ],
   "source": [
    "for i in generated_input1:\n",
    "    print(i)\n",
    "    break"
   ]
  },
  {
   "cell_type": "code",
   "execution_count": 140,
   "metadata": {},
   "outputs": [],
   "source": [
    "gen_nodes_1 = set()"
   ]
  },
  {
   "cell_type": "code",
   "execution_count": 141,
   "metadata": {},
   "outputs": [],
   "source": [
    "#check coverage in input1\n",
    "for sentence in generated_input1:\n",
    "    for node in all_nodes:\n",
    "        if node in sentence:\n",
    "            gen_nodes_1.add(node)"
   ]
  },
  {
   "cell_type": "code",
   "execution_count": 142,
   "metadata": {},
   "outputs": [
    {
     "name": "stdout",
     "output_type": "stream",
     "text": [
      "56\n"
     ]
    }
   ],
   "source": [
    "print(len(gen_nodes_1))"
   ]
  },
  {
   "cell_type": "code",
   "execution_count": 143,
   "metadata": {},
   "outputs": [],
   "source": [
    "# gen_nodes_1"
   ]
  },
  {
   "cell_type": "code",
   "execution_count": 144,
   "metadata": {},
   "outputs": [],
   "source": [
    "gen_nodes_2 = set()"
   ]
  },
  {
   "cell_type": "code",
   "execution_count": 145,
   "metadata": {},
   "outputs": [],
   "source": [
    "#check coverage in input2\n",
    "for sentence in generated_input2:\n",
    "    for node in all_nodes:\n",
    "        if node in sentence:\n",
    "            gen_nodes_2.add(node)"
   ]
  },
  {
   "cell_type": "code",
   "execution_count": 146,
   "metadata": {},
   "outputs": [
    {
     "name": "stdout",
     "output_type": "stream",
     "text": [
      "62\n"
     ]
    }
   ],
   "source": [
    "print(len(gen_nodes_2))"
   ]
  },
  {
   "cell_type": "code",
   "execution_count": 147,
   "metadata": {},
   "outputs": [],
   "source": [
    "all_gen_terminals = gen_nodes_1.union(gen_nodes_2)"
   ]
  },
  {
   "cell_type": "code",
   "execution_count": 148,
   "metadata": {},
   "outputs": [
    {
     "name": "stdout",
     "output_type": "stream",
     "text": [
      "65\n"
     ]
    }
   ],
   "source": [
    "print(len(all_gen_terminals))"
   ]
  },
  {
   "cell_type": "code",
   "execution_count": 149,
   "metadata": {},
   "outputs": [],
   "source": [
    "all_gen_terminals = set(gen_nodes_1.union(gen_nodes_2))"
   ]
  },
  {
   "cell_type": "code",
   "execution_count": 150,
   "metadata": {},
   "outputs": [
    {
     "data": {
      "text/plain": [
       "65"
      ]
     },
     "execution_count": 150,
     "metadata": {},
     "output_type": "execute_result"
    }
   ],
   "source": [
    "len(all_gen_terminals)"
   ]
  },
  {
   "cell_type": "code",
   "execution_count": 151,
   "metadata": {},
   "outputs": [
    {
     "name": "stdout",
     "output_type": "stream",
     "text": [
      "62\n"
     ]
    }
   ],
   "source": [
    "print(len(gen_nodes_2))"
   ]
  },
  {
   "cell_type": "code",
   "execution_count": 152,
   "metadata": {},
   "outputs": [],
   "source": [
    "score = len(all_gen_terminals)/len(all_nodes) * 100"
   ]
  },
  {
   "cell_type": "code",
   "execution_count": 153,
   "metadata": {},
   "outputs": [
    {
     "name": "stdout",
     "output_type": "stream",
     "text": [
      "Terminal Coverage: 28.63%\n"
     ]
    }
   ],
   "source": [
    "print(\"Terminal Coverage: {:.2f}%\".format(score))"
   ]
  },
  {
   "cell_type": "code",
   "execution_count": 154,
   "metadata": {},
   "outputs": [],
   "source": [
    "all_covered_nodes = all_covered_nodes.union(all_gen_terminals)"
   ]
  },
  {
   "cell_type": "markdown",
   "metadata": {},
   "source": [
    "#### Compute Pairwise Sensitive Attribute Coverage"
   ]
  },
  {
   "cell_type": "code",
   "execution_count": 155,
   "metadata": {},
   "outputs": [],
   "source": [
    "subj_person_male, subj_person_female = [], []"
   ]
  },
  {
   "cell_type": "code",
   "execution_count": 156,
   "metadata": {},
   "outputs": [],
   "source": [
    "subj_person_male, subj_person_female = subj_choice(noun_choice)"
   ]
  },
  {
   "cell_type": "code",
   "execution_count": 157,
   "metadata": {},
   "outputs": [
    {
     "data": {
      "text/plain": [
       "['the cashier',\n",
       " 'the teacher',\n",
       " 'the nurse',\n",
       " 'the assistant',\n",
       " 'the secretary',\n",
       " 'the auditor',\n",
       " 'the cleaner',\n",
       " 'the receptionist',\n",
       " 'the clerk',\n",
       " 'the counselor',\n",
       " 'the designer',\n",
       " 'the hairdresser',\n",
       " 'the attendant',\n",
       " 'the writer',\n",
       " 'the housekeeper',\n",
       " 'the baker',\n",
       " 'the editor',\n",
       " 'the librarian',\n",
       " 'the tailor',\n",
       " 'the teacher',\n",
       " 'the the librarian',\n",
       " 'the the nurse',\n",
       " 'the the paralegal']"
      ]
     },
     "execution_count": 157,
     "metadata": {},
     "output_type": "execute_result"
    }
   ],
   "source": [
    "subj_person_female"
   ]
  },
  {
   "cell_type": "code",
   "execution_count": 158,
   "metadata": {},
   "outputs": [
    {
     "data": {
      "text/plain": [
       "['the supervisor',\n",
       " 'the janitor',\n",
       " 'the cook',\n",
       " 'the mover',\n",
       " 'the laborer',\n",
       " 'the construction worker',\n",
       " 'the chief',\n",
       " 'the developer',\n",
       " 'the carpenter',\n",
       " 'the manager',\n",
       " 'the lawyer',\n",
       " 'the farmer',\n",
       " 'the driver',\n",
       " 'the salesperson',\n",
       " 'the physician',\n",
       " 'the guard',\n",
       " 'the analyst',\n",
       " 'the mechanic',\n",
       " 'the sheriff',\n",
       " 'the CEO',\n",
       " 'the technician',\n",
       " 'the accountant',\n",
       " 'the engineer']"
      ]
     },
     "execution_count": 158,
     "metadata": {},
     "output_type": "execute_result"
    }
   ],
   "source": [
    "subj_person_male"
   ]
  },
  {
   "cell_type": "code",
   "execution_count": 159,
   "metadata": {},
   "outputs": [],
   "source": [
    "pairs = []"
   ]
  },
  {
   "cell_type": "code",
   "execution_count": 160,
   "metadata": {},
   "outputs": [],
   "source": [
    "# assert(len(subj_person_male) == len(subj_person_female)), \"ERROR length mismatch\"\n",
    "# for i in range(max(len(subj_person_male), len(subj_person_female))):\n",
    "#     pairs.append((subj_person_male[i],subj_person_female[i]))"
   ]
  },
  {
   "cell_type": "code",
   "execution_count": 161,
   "metadata": {},
   "outputs": [],
   "source": [
    "assert(len(subj_person_male) == len(subj_person_female)), \"ERROR length mismatch\"\n",
    "for i in subj_person_male:\n",
    "    for j in subj_person_female:\n",
    "        pairs.append((i,j))"
   ]
  },
  {
   "cell_type": "code",
   "execution_count": 162,
   "metadata": {},
   "outputs": [
    {
     "data": {
      "text/plain": [
       "529"
      ]
     },
     "execution_count": 162,
     "metadata": {},
     "output_type": "execute_result"
    }
   ],
   "source": [
    "len(pairs)"
   ]
  },
  {
   "cell_type": "code",
   "execution_count": 163,
   "metadata": {},
   "outputs": [],
   "source": [
    "pairs = set(pairs)"
   ]
  },
  {
   "cell_type": "code",
   "execution_count": 164,
   "metadata": {},
   "outputs": [
    {
     "data": {
      "text/plain": [
       "506"
      ]
     },
     "execution_count": 164,
     "metadata": {},
     "output_type": "execute_result"
    }
   ],
   "source": [
    "len(set(pairs))"
   ]
  },
  {
   "cell_type": "code",
   "execution_count": 165,
   "metadata": {},
   "outputs": [],
   "source": [
    "covered_pairs = set()"
   ]
  },
  {
   "cell_type": "code",
   "execution_count": 166,
   "metadata": {},
   "outputs": [],
   "source": [
    "for sentence_pair in generated_input_pairs:\n",
    "    for combination in pairs:\n",
    "        if ((combination[0] in sentence_pair.split(\";\")[1]) and (combination[1] in sentence_pair.split(\";\")[0])) \\\n",
    "            or ((combination[0] in sentence_pair.split(\";\")[0]) and (combination[1] in sentence_pair.split(\";\")[1])):\n",
    "            covered_pairs.add(combination)"
   ]
  },
  {
   "cell_type": "code",
   "execution_count": 167,
   "metadata": {},
   "outputs": [
    {
     "data": {
      "text/plain": [
       "{('the accountant', 'the cleaner'),\n",
       " ('the chief', 'the cleaner'),\n",
       " ('the driver', 'the cleaner'),\n",
       " ('the engineer', 'the cleaner'),\n",
       " ('the lawyer', 'the cleaner'),\n",
       " ('the physician', 'the cleaner'),\n",
       " ('the salesperson', 'the cleaner')}"
      ]
     },
     "execution_count": 167,
     "metadata": {},
     "output_type": "execute_result"
    }
   ],
   "source": [
    "covered_pairs"
   ]
  },
  {
   "cell_type": "code",
   "execution_count": 168,
   "metadata": {},
   "outputs": [
    {
     "data": {
      "text/plain": [
       "7"
      ]
     },
     "execution_count": 168,
     "metadata": {},
     "output_type": "execute_result"
    }
   ],
   "source": [
    "len(covered_pairs)"
   ]
  },
  {
   "cell_type": "code",
   "execution_count": 169,
   "metadata": {},
   "outputs": [],
   "source": [
    "score = len(covered_pairs)/len(pairs) * 100"
   ]
  },
  {
   "cell_type": "code",
   "execution_count": 170,
   "metadata": {},
   "outputs": [
    {
     "name": "stdout",
     "output_type": "stream",
     "text": [
      "Pairwise Coverage: 1.38%\n"
     ]
    }
   ],
   "source": [
    "print(\"Pairwise Coverage: {:.2f}%\".format(score))"
   ]
  },
  {
   "cell_type": "code",
   "execution_count": 171,
   "metadata": {},
   "outputs": [],
   "source": [
    "all_covered_pairs = all_covered_pairs.union(covered_pairs)"
   ]
  },
  {
   "cell_type": "code",
   "execution_count": 172,
   "metadata": {},
   "outputs": [],
   "source": [
    "all_pairs = all_pairs.union(pairs)"
   ]
  },
  {
   "cell_type": "markdown",
   "metadata": {},
   "source": [
    "### D. Test for   for Indirect Gender Bias, i.e. Name Bias"
   ]
  },
  {
   "cell_type": "code",
   "execution_count": 173,
   "metadata": {},
   "outputs": [],
   "source": [
    "noun_choice =  3 #Noun /Pronoun"
   ]
  },
  {
   "cell_type": "code",
   "execution_count": 174,
   "metadata": {},
   "outputs": [],
   "source": [
    "test_strategy = \"exploitation\"\n",
    "mode = \"gender-name-noun\"\n",
    "subject = \"vader-sentiment-analysis\"\n",
    "start_dir = \"/Users/ezekiel.soremekun/Documents/Coref-Fairness-Test-Generation/Ezekiel-Testbed/pre-trained-sentiment-analyzers/Exploitation/saved_pickles/\" +  test_strategy + \"/\" + subject + \"/\" + mode + \"/\""
   ]
  },
  {
   "cell_type": "code",
   "execution_count": 175,
   "metadata": {},
   "outputs": [],
   "source": [
    "generated_input1_path = start_dir + \"unique_input1_set.pickle\"\n",
    "generated_input2_path = start_dir + \"unique_input2_set.pickle\"\n",
    "generated_input_pairs_path = start_dir + \"unique_input_pair_set.pickle\""
   ]
  },
  {
   "cell_type": "code",
   "execution_count": 176,
   "metadata": {},
   "outputs": [],
   "source": [
    "generated_input1, generated_input2, generated_input_pairs = None, None, None"
   ]
  },
  {
   "cell_type": "code",
   "execution_count": 177,
   "metadata": {},
   "outputs": [],
   "source": [
    "with open(generated_input1_path, 'rb') as handle:\n",
    "    generated_input1 = pickle.load(handle)"
   ]
  },
  {
   "cell_type": "code",
   "execution_count": 178,
   "metadata": {},
   "outputs": [],
   "source": [
    "with open(generated_input2_path, 'rb') as handle:\n",
    "    generated_input2 = pickle.load(handle)"
   ]
  },
  {
   "cell_type": "code",
   "execution_count": 179,
   "metadata": {},
   "outputs": [],
   "source": [
    "with open(generated_input_pairs_path, 'rb') as handle:\n",
    "    generated_input_pairs = pickle.load(handle)"
   ]
  },
  {
   "cell_type": "code",
   "execution_count": 180,
   "metadata": {},
   "outputs": [
    {
     "data": {
      "text/plain": [
       "1993"
      ]
     },
     "execution_count": 180,
     "metadata": {},
     "output_type": "execute_result"
    }
   ],
   "source": [
    "len(generated_input1)"
   ]
  },
  {
   "cell_type": "code",
   "execution_count": 181,
   "metadata": {},
   "outputs": [
    {
     "name": "stdout",
     "output_type": "stream",
     "text": [
      "Mary found herself in a/an displeasing situation.\n"
     ]
    }
   ],
   "source": [
    "for i in generated_input1:\n",
    "    print(i)\n",
    "    break"
   ]
  },
  {
   "cell_type": "code",
   "execution_count": 182,
   "metadata": {},
   "outputs": [],
   "source": [
    "gen_nodes_1 = set()"
   ]
  },
  {
   "cell_type": "code",
   "execution_count": 183,
   "metadata": {},
   "outputs": [],
   "source": [
    "#check coverage in input1\n",
    "for sentence in generated_input1:\n",
    "    for node in all_nodes:\n",
    "        if node in sentence:\n",
    "            gen_nodes_1.add(node)"
   ]
  },
  {
   "cell_type": "code",
   "execution_count": 184,
   "metadata": {},
   "outputs": [
    {
     "name": "stdout",
     "output_type": "stream",
     "text": [
      "85\n"
     ]
    }
   ],
   "source": [
    "print(len(gen_nodes_1))"
   ]
  },
  {
   "cell_type": "code",
   "execution_count": 185,
   "metadata": {},
   "outputs": [],
   "source": [
    "# gen_nodes_1"
   ]
  },
  {
   "cell_type": "code",
   "execution_count": 186,
   "metadata": {},
   "outputs": [],
   "source": [
    "gen_nodes_2 = set()"
   ]
  },
  {
   "cell_type": "code",
   "execution_count": 187,
   "metadata": {},
   "outputs": [],
   "source": [
    "#check coverage in input2\n",
    "for sentence in generated_input2:\n",
    "    for node in all_nodes:\n",
    "        if node in sentence:\n",
    "            gen_nodes_2.add(node)"
   ]
  },
  {
   "cell_type": "code",
   "execution_count": 188,
   "metadata": {},
   "outputs": [
    {
     "name": "stdout",
     "output_type": "stream",
     "text": [
      "87\n"
     ]
    }
   ],
   "source": [
    "print(len(gen_nodes_2))"
   ]
  },
  {
   "cell_type": "code",
   "execution_count": 189,
   "metadata": {},
   "outputs": [],
   "source": [
    "all_gen_terminals = gen_nodes_1.union(gen_nodes_2)"
   ]
  },
  {
   "cell_type": "code",
   "execution_count": 190,
   "metadata": {},
   "outputs": [
    {
     "name": "stdout",
     "output_type": "stream",
     "text": [
      "118\n"
     ]
    }
   ],
   "source": [
    "print(len(all_gen_terminals))"
   ]
  },
  {
   "cell_type": "code",
   "execution_count": 191,
   "metadata": {},
   "outputs": [],
   "source": [
    "all_gen_terminals = set(gen_nodes_1.union(gen_nodes_2))"
   ]
  },
  {
   "cell_type": "code",
   "execution_count": 192,
   "metadata": {},
   "outputs": [
    {
     "data": {
      "text/plain": [
       "118"
      ]
     },
     "execution_count": 192,
     "metadata": {},
     "output_type": "execute_result"
    }
   ],
   "source": [
    "len(all_gen_terminals)"
   ]
  },
  {
   "cell_type": "code",
   "execution_count": 193,
   "metadata": {},
   "outputs": [
    {
     "name": "stdout",
     "output_type": "stream",
     "text": [
      "87\n"
     ]
    }
   ],
   "source": [
    "print(len(gen_nodes_2))"
   ]
  },
  {
   "cell_type": "code",
   "execution_count": 194,
   "metadata": {},
   "outputs": [],
   "source": [
    "score = len(all_gen_terminals)/len(all_nodes) * 100"
   ]
  },
  {
   "cell_type": "code",
   "execution_count": 195,
   "metadata": {},
   "outputs": [
    {
     "name": "stdout",
     "output_type": "stream",
     "text": [
      "Terminal Coverage: 51.98%\n"
     ]
    }
   ],
   "source": [
    "print(\"Terminal Coverage: {:.2f}%\".format(score))"
   ]
  },
  {
   "cell_type": "code",
   "execution_count": 196,
   "metadata": {},
   "outputs": [],
   "source": [
    "all_covered_nodes = all_covered_nodes.union(all_gen_terminals)"
   ]
  },
  {
   "cell_type": "markdown",
   "metadata": {},
   "source": [
    "#### Compute Pairwise Sensitive Attribute Coverage"
   ]
  },
  {
   "cell_type": "code",
   "execution_count": 197,
   "metadata": {},
   "outputs": [],
   "source": [
    "subj_person_male, subj_person_female = [], []"
   ]
  },
  {
   "cell_type": "code",
   "execution_count": 198,
   "metadata": {},
   "outputs": [],
   "source": [
    "subj_person_male, subj_person_female = [], []"
   ]
  },
  {
   "cell_type": "code",
   "execution_count": 199,
   "metadata": {},
   "outputs": [],
   "source": [
    "subj_person_male, subj_person_female = subj_choice(noun_choice)"
   ]
  },
  {
   "cell_type": "code",
   "execution_count": 200,
   "metadata": {},
   "outputs": [
    {
     "data": {
      "text/plain": [
       "['Mary',\n",
       " 'Patricia',\n",
       " 'Jennifer',\n",
       " 'Linda',\n",
       " 'Elizabeth',\n",
       " 'Barbara',\n",
       " 'Susan',\n",
       " 'Jessica',\n",
       " 'Sarah',\n",
       " 'Karen',\n",
       " 'Nancy',\n",
       " 'Margaret',\n",
       " 'Lisa',\n",
       " 'Betty',\n",
       " 'Dorothy ',\n",
       " 'Sandra',\n",
       " 'Ashley',\n",
       " 'Kimberly',\n",
       " 'Donna',\n",
       " 'Emily',\n",
       " 'Michelle',\n",
       " 'Carol',\n",
       " 'Amanda',\n",
       " 'Melissa',\n",
       " 'Deborah',\n",
       " 'Stephanie',\n",
       " 'Rebecca',\n",
       " 'Laura',\n",
       " 'Sharon',\n",
       " 'Cynthia']"
      ]
     },
     "execution_count": 200,
     "metadata": {},
     "output_type": "execute_result"
    }
   ],
   "source": [
    "subj_person_female"
   ]
  },
  {
   "cell_type": "code",
   "execution_count": 201,
   "metadata": {},
   "outputs": [
    {
     "data": {
      "text/plain": [
       "['James',\n",
       " 'John ',\n",
       " 'Robert ',\n",
       " 'Michael ',\n",
       " 'William ',\n",
       " 'David ',\n",
       " 'Richard',\n",
       " 'Joseph',\n",
       " 'Thomas',\n",
       " 'Charles',\n",
       " 'Christopher',\n",
       " 'Daniel',\n",
       " 'Matthew',\n",
       " 'Anthony',\n",
       " 'Donald',\n",
       " 'Mark',\n",
       " 'Paul',\n",
       " 'Steven',\n",
       " 'Andrew',\n",
       " 'Kenneth',\n",
       " 'Joshua',\n",
       " 'George',\n",
       " 'Kevin',\n",
       " 'Brian',\n",
       " 'Edward',\n",
       " 'Ronald',\n",
       " 'Timothy',\n",
       " 'Jason',\n",
       " 'Jeffrey',\n",
       " 'Ryan']"
      ]
     },
     "execution_count": 201,
     "metadata": {},
     "output_type": "execute_result"
    }
   ],
   "source": [
    "subj_person_male"
   ]
  },
  {
   "cell_type": "code",
   "execution_count": 202,
   "metadata": {},
   "outputs": [],
   "source": [
    "pairs = []"
   ]
  },
  {
   "cell_type": "code",
   "execution_count": 203,
   "metadata": {},
   "outputs": [],
   "source": [
    "# assert(len(subj_person_male) == len(subj_person_female)), \"ERROR length mismatch\"\n",
    "# for i in range(max(len(subj_person_male), len(subj_person_female))):\n",
    "#     pairs.append((subj_person_male[i],subj_person_female[i]))"
   ]
  },
  {
   "cell_type": "code",
   "execution_count": 204,
   "metadata": {},
   "outputs": [],
   "source": [
    "assert(len(subj_person_male) == len(subj_person_female)), \"ERROR length mismatch\"\n",
    "for i in subj_person_male:\n",
    "    for j in subj_person_female:\n",
    "        pairs.append((i,j))"
   ]
  },
  {
   "cell_type": "code",
   "execution_count": 205,
   "metadata": {},
   "outputs": [
    {
     "data": {
      "text/plain": [
       "900"
      ]
     },
     "execution_count": 205,
     "metadata": {},
     "output_type": "execute_result"
    }
   ],
   "source": [
    "len(pairs)"
   ]
  },
  {
   "cell_type": "code",
   "execution_count": 206,
   "metadata": {},
   "outputs": [],
   "source": [
    "pairs = set(pairs)"
   ]
  },
  {
   "cell_type": "code",
   "execution_count": 207,
   "metadata": {},
   "outputs": [
    {
     "data": {
      "text/plain": [
       "900"
      ]
     },
     "execution_count": 207,
     "metadata": {},
     "output_type": "execute_result"
    }
   ],
   "source": [
    "len(set(pairs))"
   ]
  },
  {
   "cell_type": "code",
   "execution_count": 208,
   "metadata": {},
   "outputs": [],
   "source": [
    "covered_pairs = set()"
   ]
  },
  {
   "cell_type": "code",
   "execution_count": 209,
   "metadata": {},
   "outputs": [],
   "source": [
    "for sentence_pair in generated_input_pairs:\n",
    "    for combination in pairs:\n",
    "        if ((combination[0] in sentence_pair.split(\";\")[1]) and (combination[1] in sentence_pair.split(\";\")[0])) \\\n",
    "            or ((combination[0] in sentence_pair.split(\";\")[0]) and (combination[1] in sentence_pair.split(\";\")[1])):\n",
    "            covered_pairs.add(combination)"
   ]
  },
  {
   "cell_type": "code",
   "execution_count": 210,
   "metadata": {
    "collapsed": true,
    "jupyter": {
     "outputs_hidden": true
    }
   },
   "outputs": [
    {
     "data": {
      "text/plain": [
       "{('Andrew', 'Barbara'),\n",
       " ('Andrew', 'Betty'),\n",
       " ('Andrew', 'Carol'),\n",
       " ('Andrew', 'Dorothy '),\n",
       " ('Andrew', 'Elizabeth'),\n",
       " ('Andrew', 'Jennifer'),\n",
       " ('Andrew', 'Karen'),\n",
       " ('Andrew', 'Laura'),\n",
       " ('Andrew', 'Margaret'),\n",
       " ('Andrew', 'Mary'),\n",
       " ('Andrew', 'Nancy'),\n",
       " ('Andrew', 'Sharon'),\n",
       " ('Anthony', 'Amanda'),\n",
       " ('Anthony', 'Barbara'),\n",
       " ('Anthony', 'Betty'),\n",
       " ('Anthony', 'Carol'),\n",
       " ('Anthony', 'Deborah'),\n",
       " ('Anthony', 'Dorothy '),\n",
       " ('Anthony', 'Emily'),\n",
       " ('Anthony', 'Jennifer'),\n",
       " ('Anthony', 'Jessica'),\n",
       " ('Anthony', 'Kimberly'),\n",
       " ('Anthony', 'Linda'),\n",
       " ('Anthony', 'Mary'),\n",
       " ('Anthony', 'Melissa'),\n",
       " ('Anthony', 'Rebecca'),\n",
       " ('Anthony', 'Sharon'),\n",
       " ('Anthony', 'Stephanie'),\n",
       " ('Brian', 'Amanda'),\n",
       " ('Brian', 'Ashley'),\n",
       " ('Brian', 'Barbara'),\n",
       " ('Brian', 'Carol'),\n",
       " ('Brian', 'Cynthia'),\n",
       " ('Brian', 'Donna'),\n",
       " ('Brian', 'Elizabeth'),\n",
       " ('Brian', 'Jennifer'),\n",
       " ('Brian', 'Jessica'),\n",
       " ('Brian', 'Laura'),\n",
       " ('Brian', 'Lisa'),\n",
       " ('Brian', 'Margaret'),\n",
       " ('Brian', 'Mary'),\n",
       " ('Brian', 'Nancy'),\n",
       " ('Brian', 'Patricia'),\n",
       " ('Brian', 'Rebecca'),\n",
       " ('Brian', 'Sandra'),\n",
       " ('Brian', 'Stephanie'),\n",
       " ('Charles', 'Amanda'),\n",
       " ('Charles', 'Betty'),\n",
       " ('Charles', 'Carol'),\n",
       " ('Charles', 'Cynthia'),\n",
       " ('Charles', 'Deborah'),\n",
       " ('Charles', 'Donna'),\n",
       " ('Charles', 'Jennifer'),\n",
       " ('Charles', 'Karen'),\n",
       " ('Charles', 'Kimberly'),\n",
       " ('Charles', 'Linda'),\n",
       " ('Charles', 'Lisa'),\n",
       " ('Charles', 'Margaret'),\n",
       " ('Charles', 'Michelle'),\n",
       " ('Charles', 'Rebecca'),\n",
       " ('Charles', 'Susan'),\n",
       " ('Christopher', 'Amanda'),\n",
       " ('Christopher', 'Ashley'),\n",
       " ('Christopher', 'Barbara'),\n",
       " ('Christopher', 'Deborah'),\n",
       " ('Christopher', 'Elizabeth'),\n",
       " ('Christopher', 'Lisa'),\n",
       " ('Christopher', 'Margaret'),\n",
       " ('Christopher', 'Nancy'),\n",
       " ('Christopher', 'Rebecca'),\n",
       " ('Christopher', 'Sarah'),\n",
       " ('Daniel', 'Cynthia'),\n",
       " ('Daniel', 'Dorothy '),\n",
       " ('Daniel', 'Jessica'),\n",
       " ('Daniel', 'Linda'),\n",
       " ('Daniel', 'Margaret'),\n",
       " ('Daniel', 'Mary'),\n",
       " ('Daniel', 'Melissa'),\n",
       " ('Daniel', 'Nancy'),\n",
       " ('Daniel', 'Patricia'),\n",
       " ('Daniel', 'Rebecca'),\n",
       " ('Daniel', 'Sarah'),\n",
       " ('Daniel', 'Sharon'),\n",
       " ('Daniel', 'Stephanie'),\n",
       " ('David ', 'Amanda'),\n",
       " ('David ', 'Ashley'),\n",
       " ('David ', 'Betty'),\n",
       " ('David ', 'Deborah'),\n",
       " ('David ', 'Dorothy '),\n",
       " ('David ', 'Elizabeth'),\n",
       " ('David ', 'Karen'),\n",
       " ('David ', 'Linda'),\n",
       " ('David ', 'Lisa'),\n",
       " ('David ', 'Margaret'),\n",
       " ('David ', 'Mary'),\n",
       " ('David ', 'Michelle'),\n",
       " ('David ', 'Nancy'),\n",
       " ('David ', 'Sandra'),\n",
       " ('David ', 'Sarah'),\n",
       " ('David ', 'Stephanie'),\n",
       " ('David ', 'Susan'),\n",
       " ('Donald', 'Amanda'),\n",
       " ('Donald', 'Ashley'),\n",
       " ('Donald', 'Barbara'),\n",
       " ('Donald', 'Carol'),\n",
       " ('Donald', 'Elizabeth'),\n",
       " ('Donald', 'Jennifer'),\n",
       " ('Donald', 'Jessica'),\n",
       " ('Donald', 'Karen'),\n",
       " ('Donald', 'Kimberly'),\n",
       " ('Donald', 'Lisa'),\n",
       " ('Donald', 'Margaret'),\n",
       " ('Donald', 'Michelle'),\n",
       " ('Donald', 'Patricia'),\n",
       " ('Donald', 'Sandra'),\n",
       " ('Donald', 'Stephanie'),\n",
       " ('Donald', 'Susan'),\n",
       " ('Edward', 'Amanda'),\n",
       " ('Edward', 'Ashley'),\n",
       " ('Edward', 'Barbara'),\n",
       " ('Edward', 'Betty'),\n",
       " ('Edward', 'Donna'),\n",
       " ('Edward', 'Elizabeth'),\n",
       " ('Edward', 'Jennifer'),\n",
       " ('Edward', 'Jessica'),\n",
       " ('Edward', 'Karen'),\n",
       " ('Edward', 'Laura'),\n",
       " ('Edward', 'Lisa'),\n",
       " ('Edward', 'Mary'),\n",
       " ('Edward', 'Patricia'),\n",
       " ('Edward', 'Sandra'),\n",
       " ('Edward', 'Sarah'),\n",
       " ('Edward', 'Susan'),\n",
       " ('George', 'Amanda'),\n",
       " ('George', 'Betty'),\n",
       " ('George', 'Carol'),\n",
       " ('George', 'Deborah'),\n",
       " ('George', 'Donna'),\n",
       " ('George', 'Emily'),\n",
       " ('George', 'Jennifer'),\n",
       " ('George', 'Laura'),\n",
       " ('George', 'Mary'),\n",
       " ('George', 'Melissa'),\n",
       " ('George', 'Michelle'),\n",
       " ('George', 'Nancy'),\n",
       " ('George', 'Patricia'),\n",
       " ('George', 'Sandra'),\n",
       " ('George', 'Sharon'),\n",
       " ('James', 'Ashley'),\n",
       " ('James', 'Betty'),\n",
       " ('James', 'Carol'),\n",
       " ('James', 'Cynthia'),\n",
       " ('James', 'Deborah'),\n",
       " ('James', 'Dorothy '),\n",
       " ('James', 'Emily'),\n",
       " ('James', 'Jennifer'),\n",
       " ('James', 'Jessica'),\n",
       " ('James', 'Karen'),\n",
       " ('James', 'Laura'),\n",
       " ('James', 'Lisa'),\n",
       " ('James', 'Nancy'),\n",
       " ('James', 'Patricia'),\n",
       " ('James', 'Rebecca'),\n",
       " ('James', 'Sarah'),\n",
       " ('James', 'Susan'),\n",
       " ('Jason', 'Amanda'),\n",
       " ('Jason', 'Betty'),\n",
       " ('Jason', 'Dorothy '),\n",
       " ('Jason', 'Elizabeth'),\n",
       " ('Jason', 'Jennifer'),\n",
       " ('Jason', 'Jessica'),\n",
       " ('Jason', 'Linda'),\n",
       " ('Jason', 'Lisa'),\n",
       " ('Jason', 'Margaret'),\n",
       " ('Jason', 'Mary'),\n",
       " ('Jason', 'Melissa'),\n",
       " ('Jason', 'Sandra'),\n",
       " ('Jason', 'Stephanie'),\n",
       " ('Jeffrey', 'Ashley'),\n",
       " ('Jeffrey', 'Barbara'),\n",
       " ('Jeffrey', 'Cynthia'),\n",
       " ('Jeffrey', 'Donna'),\n",
       " ('Jeffrey', 'Dorothy '),\n",
       " ('Jeffrey', 'Elizabeth'),\n",
       " ('Jeffrey', 'Jessica'),\n",
       " ('Jeffrey', 'Karen'),\n",
       " ('Jeffrey', 'Kimberly'),\n",
       " ('Jeffrey', 'Laura'),\n",
       " ('Jeffrey', 'Margaret'),\n",
       " ('Jeffrey', 'Patricia'),\n",
       " ('Jeffrey', 'Sandra'),\n",
       " ('Jeffrey', 'Susan'),\n",
       " ('John ', 'Amanda'),\n",
       " ('John ', 'Ashley'),\n",
       " ('John ', 'Barbara'),\n",
       " ('John ', 'Betty'),\n",
       " ('John ', 'Cynthia'),\n",
       " ('John ', 'Dorothy '),\n",
       " ('John ', 'Jennifer'),\n",
       " ('John ', 'Karen'),\n",
       " ('John ', 'Laura'),\n",
       " ('John ', 'Lisa'),\n",
       " ('John ', 'Melissa'),\n",
       " ('John ', 'Nancy'),\n",
       " ('John ', 'Rebecca'),\n",
       " ('John ', 'Sandra'),\n",
       " ('John ', 'Stephanie'),\n",
       " ('Joseph', 'Amanda'),\n",
       " ('Joseph', 'Barbara'),\n",
       " ('Joseph', 'Betty'),\n",
       " ('Joseph', 'Deborah'),\n",
       " ('Joseph', 'Donna'),\n",
       " ('Joseph', 'Dorothy '),\n",
       " ('Joseph', 'Emily'),\n",
       " ('Joseph', 'Jennifer'),\n",
       " ('Joseph', 'Karen'),\n",
       " ('Joseph', 'Kimberly'),\n",
       " ('Joseph', 'Lisa'),\n",
       " ('Joseph', 'Melissa'),\n",
       " ('Joseph', 'Nancy'),\n",
       " ('Joseph', 'Patricia'),\n",
       " ('Joseph', 'Sandra'),\n",
       " ('Joseph', 'Sarah'),\n",
       " ('Joseph', 'Stephanie'),\n",
       " ('Joshua', 'Barbara'),\n",
       " ('Joshua', 'Betty'),\n",
       " ('Joshua', 'Cynthia'),\n",
       " ('Joshua', 'Elizabeth'),\n",
       " ('Joshua', 'Karen'),\n",
       " ('Joshua', 'Linda'),\n",
       " ('Joshua', 'Michelle'),\n",
       " ('Kenneth', 'Amanda'),\n",
       " ('Kenneth', 'Ashley'),\n",
       " ('Kenneth', 'Barbara'),\n",
       " ('Kenneth', 'Betty'),\n",
       " ('Kenneth', 'Carol'),\n",
       " ('Kenneth', 'Elizabeth'),\n",
       " ('Kenneth', 'Emily'),\n",
       " ('Kenneth', 'Jennifer'),\n",
       " ('Kenneth', 'Jessica'),\n",
       " ('Kenneth', 'Kimberly'),\n",
       " ('Kenneth', 'Laura'),\n",
       " ('Kenneth', 'Lisa'),\n",
       " ('Kenneth', 'Mary'),\n",
       " ('Kenneth', 'Melissa'),\n",
       " ('Kenneth', 'Nancy'),\n",
       " ('Kenneth', 'Rebecca'),\n",
       " ('Kenneth', 'Sandra'),\n",
       " ('Kenneth', 'Sarah'),\n",
       " ('Kenneth', 'Sharon'),\n",
       " ('Kevin', 'Barbara'),\n",
       " ('Kevin', 'Deborah'),\n",
       " ('Kevin', 'Donna'),\n",
       " ('Kevin', 'Dorothy '),\n",
       " ('Kevin', 'Elizabeth'),\n",
       " ('Kevin', 'Emily'),\n",
       " ('Kevin', 'Jennifer'),\n",
       " ('Kevin', 'Jessica'),\n",
       " ('Kevin', 'Laura'),\n",
       " ('Kevin', 'Margaret'),\n",
       " ('Kevin', 'Patricia'),\n",
       " ('Kevin', 'Sandra'),\n",
       " ('Kevin', 'Susan'),\n",
       " ('Mark', 'Amanda'),\n",
       " ('Mark', 'Barbara'),\n",
       " ('Mark', 'Carol'),\n",
       " ('Mark', 'Cynthia'),\n",
       " ('Mark', 'Donna'),\n",
       " ('Mark', 'Dorothy '),\n",
       " ('Mark', 'Emily'),\n",
       " ('Mark', 'Laura'),\n",
       " ('Mark', 'Linda'),\n",
       " ('Mark', 'Lisa'),\n",
       " ('Mark', 'Mary'),\n",
       " ('Mark', 'Melissa'),\n",
       " ('Mark', 'Patricia'),\n",
       " ('Mark', 'Sandra'),\n",
       " ('Matthew', 'Betty'),\n",
       " ('Matthew', 'Cynthia'),\n",
       " ('Matthew', 'Donna'),\n",
       " ('Matthew', 'Dorothy '),\n",
       " ('Matthew', 'Elizabeth'),\n",
       " ('Matthew', 'Emily'),\n",
       " ('Matthew', 'Karen'),\n",
       " ('Matthew', 'Laura'),\n",
       " ('Matthew', 'Mary'),\n",
       " ('Matthew', 'Melissa'),\n",
       " ('Matthew', 'Nancy'),\n",
       " ('Matthew', 'Rebecca'),\n",
       " ('Matthew', 'Sandra'),\n",
       " ('Matthew', 'Stephanie'),\n",
       " ('Michael ', 'Amanda'),\n",
       " ('Michael ', 'Ashley'),\n",
       " ('Michael ', 'Carol'),\n",
       " ('Michael ', 'Cynthia'),\n",
       " ('Michael ', 'Dorothy '),\n",
       " ('Michael ', 'Emily'),\n",
       " ('Michael ', 'Karen'),\n",
       " ('Michael ', 'Linda'),\n",
       " ('Michael ', 'Margaret'),\n",
       " ('Michael ', 'Mary'),\n",
       " ('Michael ', 'Melissa'),\n",
       " ('Michael ', 'Nancy'),\n",
       " ('Michael ', 'Patricia'),\n",
       " ('Michael ', 'Sandra'),\n",
       " ('Michael ', 'Sharon'),\n",
       " ('Michael ', 'Stephanie'),\n",
       " ('Michael ', 'Susan'),\n",
       " ('Paul', 'Barbara'),\n",
       " ('Paul', 'Betty'),\n",
       " ('Paul', 'Carol'),\n",
       " ('Paul', 'Donna'),\n",
       " ('Paul', 'Elizabeth'),\n",
       " ('Paul', 'Jessica'),\n",
       " ('Paul', 'Kimberly'),\n",
       " ('Paul', 'Laura'),\n",
       " ('Paul', 'Linda'),\n",
       " ('Paul', 'Lisa'),\n",
       " ('Paul', 'Margaret'),\n",
       " ('Paul', 'Melissa'),\n",
       " ('Paul', 'Patricia'),\n",
       " ('Paul', 'Rebecca'),\n",
       " ('Paul', 'Sarah'),\n",
       " ('Paul', 'Stephanie'),\n",
       " ('Paul', 'Susan'),\n",
       " ('Richard', 'Barbara'),\n",
       " ('Richard', 'Betty'),\n",
       " ('Richard', 'Carol'),\n",
       " ('Richard', 'Dorothy '),\n",
       " ('Richard', 'Elizabeth'),\n",
       " ('Richard', 'Jessica'),\n",
       " ('Richard', 'Kimberly'),\n",
       " ('Richard', 'Laura'),\n",
       " ('Richard', 'Lisa'),\n",
       " ('Richard', 'Melissa'),\n",
       " ('Richard', 'Sarah'),\n",
       " ('Richard', 'Stephanie'),\n",
       " ('Richard', 'Susan'),\n",
       " ('Robert ', 'Amanda'),\n",
       " ('Robert ', 'Barbara'),\n",
       " ('Robert ', 'Cynthia'),\n",
       " ('Robert ', 'Donna'),\n",
       " ('Robert ', 'Dorothy '),\n",
       " ('Robert ', 'Jennifer'),\n",
       " ('Robert ', 'Linda'),\n",
       " ('Robert ', 'Lisa'),\n",
       " ('Robert ', 'Margaret'),\n",
       " ('Robert ', 'Mary'),\n",
       " ('Robert ', 'Melissa'),\n",
       " ('Robert ', 'Michelle'),\n",
       " ('Robert ', 'Sharon'),\n",
       " ('Robert ', 'Stephanie'),\n",
       " ('Ronald', 'Cynthia'),\n",
       " ('Ronald', 'Deborah'),\n",
       " ('Ronald', 'Dorothy '),\n",
       " ('Ronald', 'Elizabeth'),\n",
       " ('Ronald', 'Jessica'),\n",
       " ('Ronald', 'Kimberly'),\n",
       " ('Ronald', 'Lisa'),\n",
       " ('Ronald', 'Mary'),\n",
       " ('Ronald', 'Melissa'),\n",
       " ('Ronald', 'Michelle'),\n",
       " ('Ronald', 'Nancy'),\n",
       " ('Ronald', 'Patricia'),\n",
       " ('Ronald', 'Rebecca'),\n",
       " ('Ronald', 'Sandra'),\n",
       " ('Ronald', 'Sharon'),\n",
       " ('Ronald', 'Stephanie'),\n",
       " ('Ronald', 'Susan'),\n",
       " ('Ryan', 'Amanda'),\n",
       " ('Ryan', 'Ashley'),\n",
       " ('Ryan', 'Barbara'),\n",
       " ('Ryan', 'Betty'),\n",
       " ('Ryan', 'Cynthia'),\n",
       " ('Ryan', 'Kimberly'),\n",
       " ('Ryan', 'Lisa'),\n",
       " ('Ryan', 'Margaret'),\n",
       " ('Ryan', 'Mary'),\n",
       " ('Ryan', 'Melissa'),\n",
       " ('Ryan', 'Michelle'),\n",
       " ('Ryan', 'Patricia'),\n",
       " ('Ryan', 'Rebecca'),\n",
       " ('Steven', 'Ashley'),\n",
       " ('Steven', 'Donna'),\n",
       " ('Steven', 'Jessica'),\n",
       " ('Steven', 'Karen'),\n",
       " ('Steven', 'Kimberly'),\n",
       " ('Steven', 'Laura'),\n",
       " ('Steven', 'Lisa'),\n",
       " ('Steven', 'Margaret'),\n",
       " ('Steven', 'Melissa'),\n",
       " ('Steven', 'Nancy'),\n",
       " ('Steven', 'Patricia'),\n",
       " ('Steven', 'Sandra'),\n",
       " ('Steven', 'Susan'),\n",
       " ('Thomas', 'Ashley'),\n",
       " ('Thomas', 'Barbara'),\n",
       " ('Thomas', 'Carol'),\n",
       " ('Thomas', 'Cynthia'),\n",
       " ('Thomas', 'Deborah'),\n",
       " ('Thomas', 'Elizabeth'),\n",
       " ('Thomas', 'Jennifer'),\n",
       " ('Thomas', 'Kimberly'),\n",
       " ('Thomas', 'Laura'),\n",
       " ('Thomas', 'Linda'),\n",
       " ('Thomas', 'Lisa'),\n",
       " ('Thomas', 'Mary'),\n",
       " ('Thomas', 'Melissa'),\n",
       " ('Thomas', 'Nancy'),\n",
       " ('Thomas', 'Rebecca'),\n",
       " ('Thomas', 'Sarah'),\n",
       " ('Thomas', 'Sharon'),\n",
       " ('Thomas', 'Susan'),\n",
       " ('Timothy', 'Ashley'),\n",
       " ('Timothy', 'Barbara'),\n",
       " ('Timothy', 'Dorothy '),\n",
       " ('Timothy', 'Elizabeth'),\n",
       " ('Timothy', 'Emily'),\n",
       " ('Timothy', 'Jennifer'),\n",
       " ('Timothy', 'Jessica'),\n",
       " ('Timothy', 'Karen'),\n",
       " ('Timothy', 'Kimberly'),\n",
       " ('Timothy', 'Margaret'),\n",
       " ('Timothy', 'Melissa'),\n",
       " ('Timothy', 'Michelle'),\n",
       " ('Timothy', 'Patricia'),\n",
       " ('Timothy', 'Sandra'),\n",
       " ('Timothy', 'Sharon'),\n",
       " ('Timothy', 'Susan'),\n",
       " ('William ', 'Ashley'),\n",
       " ('William ', 'Carol'),\n",
       " ('William ', 'Deborah'),\n",
       " ('William ', 'Dorothy '),\n",
       " ('William ', 'Jessica'),\n",
       " ('William ', 'Karen'),\n",
       " ('William ', 'Kimberly'),\n",
       " ('William ', 'Linda'),\n",
       " ('William ', 'Nancy'),\n",
       " ('William ', 'Sarah'),\n",
       " ('William ', 'Sharon')}"
      ]
     },
     "execution_count": 210,
     "metadata": {},
     "output_type": "execute_result"
    }
   ],
   "source": [
    "covered_pairs"
   ]
  },
  {
   "cell_type": "code",
   "execution_count": 211,
   "metadata": {},
   "outputs": [
    {
     "data": {
      "text/plain": [
       "440"
      ]
     },
     "execution_count": 211,
     "metadata": {},
     "output_type": "execute_result"
    }
   ],
   "source": [
    "len(covered_pairs)"
   ]
  },
  {
   "cell_type": "code",
   "execution_count": 212,
   "metadata": {},
   "outputs": [],
   "source": [
    "score = len(covered_pairs)/len(pairs) * 100"
   ]
  },
  {
   "cell_type": "code",
   "execution_count": 213,
   "metadata": {},
   "outputs": [
    {
     "name": "stdout",
     "output_type": "stream",
     "text": [
      "Pairwise Coverage: 48.89%\n"
     ]
    }
   ],
   "source": [
    "print(\"Pairwise Coverage: {:.2f}%\".format(score))"
   ]
  },
  {
   "cell_type": "code",
   "execution_count": 214,
   "metadata": {},
   "outputs": [],
   "source": [
    "all_covered_pairs = all_covered_pairs.union(covered_pairs)"
   ]
  },
  {
   "cell_type": "code",
   "execution_count": 215,
   "metadata": {},
   "outputs": [],
   "source": [
    "all_pairs = all_pairs.union(pairs)"
   ]
  },
  {
   "cell_type": "markdown",
   "metadata": {},
   "source": [
    "### E. Test for   for Indirect Racial Bias, i.e. Name Bias"
   ]
  },
  {
   "cell_type": "code",
   "execution_count": 216,
   "metadata": {},
   "outputs": [],
   "source": [
    "noun_choice =  5 #Noun /Pronoun"
   ]
  },
  {
   "cell_type": "code",
   "execution_count": 217,
   "metadata": {},
   "outputs": [],
   "source": [
    "test_strategy = \"exploitation\"\n",
    "mode = \"racial-name-noun\"\n",
    "subject = \"vader-sentiment-analysis\"\n",
    "start_dir = \"/Users/ezekiel.soremekun/Documents/Coref-Fairness-Test-Generation/Ezekiel-Testbed/pre-trained-sentiment-analyzers/Exploitation/saved_pickles/\" +  test_strategy + \"/\" + subject + \"/\" + mode + \"/\""
   ]
  },
  {
   "cell_type": "code",
   "execution_count": 218,
   "metadata": {},
   "outputs": [],
   "source": [
    "generated_input1_path = start_dir + \"unique_input1_set.pickle\"\n",
    "generated_input2_path = start_dir + \"unique_input2_set.pickle\"\n",
    "generated_input_pairs_path = start_dir + \"unique_input_pair_set.pickle\""
   ]
  },
  {
   "cell_type": "code",
   "execution_count": 219,
   "metadata": {},
   "outputs": [],
   "source": [
    "generated_input1, generated_input2, generated_input_pairs = None, None, None"
   ]
  },
  {
   "cell_type": "code",
   "execution_count": 220,
   "metadata": {},
   "outputs": [],
   "source": [
    "with open(generated_input1_path, 'rb') as handle:\n",
    "    generated_input1 = pickle.load(handle)"
   ]
  },
  {
   "cell_type": "code",
   "execution_count": 221,
   "metadata": {},
   "outputs": [],
   "source": [
    "with open(generated_input2_path, 'rb') as handle:\n",
    "    generated_input2 = pickle.load(handle)"
   ]
  },
  {
   "cell_type": "code",
   "execution_count": 222,
   "metadata": {},
   "outputs": [],
   "source": [
    "with open(generated_input_pairs_path, 'rb') as handle:\n",
    "    generated_input_pairs = pickle.load(handle)"
   ]
  },
  {
   "cell_type": "code",
   "execution_count": 223,
   "metadata": {},
   "outputs": [
    {
     "data": {
      "text/plain": [
       "2338"
      ]
     },
     "execution_count": 223,
     "metadata": {},
     "output_type": "execute_result"
    }
   ],
   "source": [
    "len(generated_input1)"
   ]
  },
  {
   "cell_type": "code",
   "execution_count": 224,
   "metadata": {},
   "outputs": [
    {
     "name": "stdout",
     "output_type": "stream",
     "text": [
      "Stephanie was enraged.\n"
     ]
    }
   ],
   "source": [
    "for i in generated_input1:\n",
    "    print(i)\n",
    "    break"
   ]
  },
  {
   "cell_type": "code",
   "execution_count": 225,
   "metadata": {},
   "outputs": [],
   "source": [
    "gen_nodes_1 = set()"
   ]
  },
  {
   "cell_type": "code",
   "execution_count": 226,
   "metadata": {},
   "outputs": [],
   "source": [
    "#check coverage in input1\n",
    "for sentence in generated_input1:\n",
    "    for node in all_nodes:\n",
    "        if node in sentence:\n",
    "            gen_nodes_1.add(node)"
   ]
  },
  {
   "cell_type": "code",
   "execution_count": 227,
   "metadata": {},
   "outputs": [
    {
     "name": "stdout",
     "output_type": "stream",
     "text": [
      "69\n"
     ]
    }
   ],
   "source": [
    "print(len(gen_nodes_1))"
   ]
  },
  {
   "cell_type": "code",
   "execution_count": 228,
   "metadata": {},
   "outputs": [],
   "source": [
    "# gen_nodes_1"
   ]
  },
  {
   "cell_type": "code",
   "execution_count": 229,
   "metadata": {},
   "outputs": [],
   "source": [
    "gen_nodes_2 = set()"
   ]
  },
  {
   "cell_type": "code",
   "execution_count": 230,
   "metadata": {},
   "outputs": [],
   "source": [
    "#check coverage in input2\n",
    "for sentence in generated_input2:\n",
    "    for node in all_nodes:\n",
    "        if node in sentence:\n",
    "            gen_nodes_2.add(node)"
   ]
  },
  {
   "cell_type": "code",
   "execution_count": 231,
   "metadata": {},
   "outputs": [
    {
     "name": "stdout",
     "output_type": "stream",
     "text": [
      "56\n"
     ]
    }
   ],
   "source": [
    "print(len(gen_nodes_2))"
   ]
  },
  {
   "cell_type": "code",
   "execution_count": 232,
   "metadata": {},
   "outputs": [],
   "source": [
    "all_gen_terminals = gen_nodes_1.union(gen_nodes_2)"
   ]
  },
  {
   "cell_type": "code",
   "execution_count": 233,
   "metadata": {},
   "outputs": [
    {
     "name": "stdout",
     "output_type": "stream",
     "text": [
      "72\n"
     ]
    }
   ],
   "source": [
    "print(len(all_gen_terminals))"
   ]
  },
  {
   "cell_type": "code",
   "execution_count": 234,
   "metadata": {},
   "outputs": [],
   "source": [
    "all_gen_terminals = set(gen_nodes_1.union(gen_nodes_2))"
   ]
  },
  {
   "cell_type": "code",
   "execution_count": 235,
   "metadata": {},
   "outputs": [
    {
     "data": {
      "text/plain": [
       "72"
      ]
     },
     "execution_count": 235,
     "metadata": {},
     "output_type": "execute_result"
    }
   ],
   "source": [
    "len(all_gen_terminals)"
   ]
  },
  {
   "cell_type": "code",
   "execution_count": 236,
   "metadata": {},
   "outputs": [
    {
     "name": "stdout",
     "output_type": "stream",
     "text": [
      "56\n"
     ]
    }
   ],
   "source": [
    "print(len(gen_nodes_2))"
   ]
  },
  {
   "cell_type": "code",
   "execution_count": 237,
   "metadata": {},
   "outputs": [],
   "source": [
    "score = len(all_gen_terminals)/len(all_nodes) * 100"
   ]
  },
  {
   "cell_type": "code",
   "execution_count": 238,
   "metadata": {},
   "outputs": [
    {
     "name": "stdout",
     "output_type": "stream",
     "text": [
      "Terminal Coverage: 31.72%\n"
     ]
    }
   ],
   "source": [
    "print(\"Terminal Coverage: {:.2f}%\".format(score))"
   ]
  },
  {
   "cell_type": "code",
   "execution_count": 239,
   "metadata": {},
   "outputs": [],
   "source": [
    "all_covered_nodes = all_covered_nodes.union(all_gen_terminals)"
   ]
  },
  {
   "cell_type": "markdown",
   "metadata": {},
   "source": [
    "#### Compute Pairwise Sensitive Attribute Coverage"
   ]
  },
  {
   "cell_type": "code",
   "execution_count": 240,
   "metadata": {},
   "outputs": [],
   "source": [
    "subj_person_male, subj_person_female = [], []"
   ]
  },
  {
   "cell_type": "code",
   "execution_count": 241,
   "metadata": {},
   "outputs": [],
   "source": [
    "subj_person_male, subj_person_female = subj_choice(noun_choice)"
   ]
  },
  {
   "cell_type": "code",
   "execution_count": 242,
   "metadata": {},
   "outputs": [
    {
     "data": {
      "text/plain": [
       "['Amanda',\n",
       " 'Betsy',\n",
       " 'Courtney',\n",
       " 'Ellen',\n",
       " 'Heather',\n",
       " 'Katie',\n",
       " 'Kristin',\n",
       " 'Melanie',\n",
       " 'Nancy',\n",
       " 'Stephanie',\n",
       " 'Adam',\n",
       " 'Alan',\n",
       " 'Andrew',\n",
       " 'Frank',\n",
       " 'Harry',\n",
       " 'Jack',\n",
       " 'Josh',\n",
       " 'Justin',\n",
       " 'Roger',\n",
       " 'Ryan']"
      ]
     },
     "execution_count": 242,
     "metadata": {},
     "output_type": "execute_result"
    }
   ],
   "source": [
    "subj_person_female"
   ]
  },
  {
   "cell_type": "code",
   "execution_count": 243,
   "metadata": {},
   "outputs": [
    {
     "data": {
      "text/plain": [
       "['Ebony',\n",
       " 'Jasmine',\n",
       " 'Lakisha',\n",
       " 'Latisha',\n",
       " 'Latoya',\n",
       " 'Nichelle',\n",
       " 'Shaniqua',\n",
       " 'Shereen',\n",
       " 'Tanisha',\n",
       " 'Tia',\n",
       " 'Alonzo',\n",
       " 'Alphonse',\n",
       " 'Darnell',\n",
       " 'Jamel',\n",
       " 'Jerome',\n",
       " 'Lamar',\n",
       " 'Leroy',\n",
       " 'Malik',\n",
       " 'Terrence',\n",
       " 'Torrance']"
      ]
     },
     "execution_count": 243,
     "metadata": {},
     "output_type": "execute_result"
    }
   ],
   "source": [
    "subj_person_male"
   ]
  },
  {
   "cell_type": "code",
   "execution_count": 244,
   "metadata": {},
   "outputs": [],
   "source": [
    "pairs = []"
   ]
  },
  {
   "cell_type": "code",
   "execution_count": 245,
   "metadata": {},
   "outputs": [],
   "source": [
    "assert(len(subj_person_male) == len(subj_person_female)), \"ERROR length mismatch\"\n",
    "for i in subj_person_male:\n",
    "    for j in subj_person_female:\n",
    "        pairs.append((i,j))"
   ]
  },
  {
   "cell_type": "code",
   "execution_count": 246,
   "metadata": {},
   "outputs": [
    {
     "data": {
      "text/plain": [
       "400"
      ]
     },
     "execution_count": 246,
     "metadata": {},
     "output_type": "execute_result"
    }
   ],
   "source": [
    "len(pairs)"
   ]
  },
  {
   "cell_type": "code",
   "execution_count": 247,
   "metadata": {},
   "outputs": [],
   "source": [
    "pairs = set(pairs)"
   ]
  },
  {
   "cell_type": "code",
   "execution_count": 248,
   "metadata": {},
   "outputs": [
    {
     "data": {
      "text/plain": [
       "400"
      ]
     },
     "execution_count": 248,
     "metadata": {},
     "output_type": "execute_result"
    }
   ],
   "source": [
    "len(set(pairs))"
   ]
  },
  {
   "cell_type": "code",
   "execution_count": 249,
   "metadata": {},
   "outputs": [],
   "source": [
    "covered_pairs = set()"
   ]
  },
  {
   "cell_type": "code",
   "execution_count": 250,
   "metadata": {},
   "outputs": [],
   "source": [
    "for sentence_pair in generated_input_pairs:\n",
    "    for combination in pairs:\n",
    "        if ((combination[0] in sentence_pair.split(\";\")[1]) and (combination[1] in sentence_pair.split(\";\")[0])) \\\n",
    "            or ((combination[0] in sentence_pair.split(\";\")[0]) and (combination[1] in sentence_pair.split(\";\")[1])):\n",
    "            covered_pairs.add(combination)"
   ]
  },
  {
   "cell_type": "code",
   "execution_count": 251,
   "metadata": {},
   "outputs": [
    {
     "data": {
      "text/plain": [
       "{('Tia', 'Adam'),\n",
       " ('Tia', 'Amanda'),\n",
       " ('Tia', 'Courtney'),\n",
       " ('Tia', 'Ellen'),\n",
       " ('Tia', 'Harry'),\n",
       " ('Tia', 'Heather'),\n",
       " ('Tia', 'Jack'),\n",
       " ('Tia', 'Justin'),\n",
       " ('Tia', 'Katie'),\n",
       " ('Tia', 'Kristin'),\n",
       " ('Tia', 'Melanie'),\n",
       " ('Tia', 'Nancy'),\n",
       " ('Tia', 'Stephanie')}"
      ]
     },
     "execution_count": 251,
     "metadata": {},
     "output_type": "execute_result"
    }
   ],
   "source": [
    "covered_pairs"
   ]
  },
  {
   "cell_type": "code",
   "execution_count": 252,
   "metadata": {},
   "outputs": [
    {
     "data": {
      "text/plain": [
       "13"
      ]
     },
     "execution_count": 252,
     "metadata": {},
     "output_type": "execute_result"
    }
   ],
   "source": [
    "len(covered_pairs)"
   ]
  },
  {
   "cell_type": "code",
   "execution_count": 253,
   "metadata": {},
   "outputs": [],
   "source": [
    "score = len(covered_pairs)/len(pairs) * 100"
   ]
  },
  {
   "cell_type": "code",
   "execution_count": 254,
   "metadata": {},
   "outputs": [
    {
     "name": "stdout",
     "output_type": "stream",
     "text": [
      "Pairwise Coverage: 3.25%\n"
     ]
    }
   ],
   "source": [
    "print(\"Pairwise Coverage: {:.2f}%\".format(score))"
   ]
  },
  {
   "cell_type": "code",
   "execution_count": 255,
   "metadata": {},
   "outputs": [],
   "source": [
    "all_covered_pairs = all_covered_pairs.union(covered_pairs)"
   ]
  },
  {
   "cell_type": "code",
   "execution_count": 256,
   "metadata": {},
   "outputs": [],
   "source": [
    "all_pairs = all_pairs.union(pairs)"
   ]
  },
  {
   "cell_type": "markdown",
   "metadata": {},
   "source": [
    "### F. Test for Neutral (Sentiment) Sentences"
   ]
  },
  {
   "cell_type": "code",
   "execution_count": 257,
   "metadata": {},
   "outputs": [
    {
     "data": {
      "text/plain": [
       "[0, 1, 2, 3, 4, 5]"
      ]
     },
     "execution_count": 257,
     "metadata": {},
     "output_type": "execute_result"
    }
   ],
   "source": [
    "noun_choice_list = list(range(6))\n",
    "noun_choice_list"
   ]
  },
  {
   "cell_type": "code",
   "execution_count": 258,
   "metadata": {},
   "outputs": [],
   "source": [
    "test_strategy = \"exploitation\"\n",
    "mode = \"neutral-sentiments\"\n",
    "subject = \"vader-sentiment-analysis\"\n",
    "start_dir = \"/Users/ezekiel.soremekun/Documents/Coref-Fairness-Test-Generation/Ezekiel-Testbed/pre-trained-sentiment-analyzers/Exploitation/saved_pickles/\" +  test_strategy + \"/\" + subject + \"/\" + mode + \"/\""
   ]
  },
  {
   "cell_type": "code",
   "execution_count": 259,
   "metadata": {},
   "outputs": [],
   "source": [
    "generated_input1_path = start_dir + \"unique_input1_set.pickle\"\n",
    "generated_input2_path = start_dir + \"unique_input2_set.pickle\"\n",
    "generated_input_pairs_path = start_dir + \"unique_input_pair_set.pickle\""
   ]
  },
  {
   "cell_type": "code",
   "execution_count": 260,
   "metadata": {},
   "outputs": [],
   "source": [
    "generated_input1, generated_input2, generated_input_pairs = None, None, None"
   ]
  },
  {
   "cell_type": "code",
   "execution_count": 261,
   "metadata": {},
   "outputs": [],
   "source": [
    "with open(generated_input1_path, 'rb') as handle:\n",
    "    generated_input1 = pickle.load(handle)"
   ]
  },
  {
   "cell_type": "code",
   "execution_count": 262,
   "metadata": {},
   "outputs": [],
   "source": [
    "with open(generated_input2_path, 'rb') as handle:\n",
    "    generated_input2 = pickle.load(handle)"
   ]
  },
  {
   "cell_type": "code",
   "execution_count": 263,
   "metadata": {},
   "outputs": [],
   "source": [
    "with open(generated_input_pairs_path, 'rb') as handle:\n",
    "    generated_input_pairs = pickle.load(handle)"
   ]
  },
  {
   "cell_type": "code",
   "execution_count": 264,
   "metadata": {},
   "outputs": [
    {
     "data": {
      "text/plain": [
       "10"
      ]
     },
     "execution_count": 264,
     "metadata": {},
     "output_type": "execute_result"
    }
   ],
   "source": [
    "len(generated_input1)"
   ]
  },
  {
   "cell_type": "code",
   "execution_count": 265,
   "metadata": {},
   "outputs": [
    {
     "name": "stdout",
     "output_type": "stream",
     "text": [
      "the cleaner goes to the school in our neighborhood.\n"
     ]
    }
   ],
   "source": [
    "for i in generated_input1:\n",
    "    print(i)\n",
    "    break"
   ]
  },
  {
   "cell_type": "code",
   "execution_count": 266,
   "metadata": {},
   "outputs": [],
   "source": [
    "gen_nodes_1 = set()"
   ]
  },
  {
   "cell_type": "code",
   "execution_count": 267,
   "metadata": {},
   "outputs": [],
   "source": [
    "#check coverage in input1\n",
    "for sentence in generated_input1:\n",
    "    for node in all_nodes:\n",
    "        if node in sentence:\n",
    "            gen_nodes_1.add(node)"
   ]
  },
  {
   "cell_type": "code",
   "execution_count": 268,
   "metadata": {},
   "outputs": [
    {
     "name": "stdout",
     "output_type": "stream",
     "text": [
      "10\n"
     ]
    }
   ],
   "source": [
    "print(len(gen_nodes_1))"
   ]
  },
  {
   "cell_type": "code",
   "execution_count": 269,
   "metadata": {},
   "outputs": [],
   "source": [
    "# gen_nodes_1"
   ]
  },
  {
   "cell_type": "code",
   "execution_count": 270,
   "metadata": {},
   "outputs": [],
   "source": [
    "gen_nodes_2 = set()"
   ]
  },
  {
   "cell_type": "code",
   "execution_count": 271,
   "metadata": {},
   "outputs": [],
   "source": [
    "#check coverage in input2\n",
    "for sentence in generated_input2:\n",
    "    for node in all_nodes:\n",
    "        if node in sentence:\n",
    "            gen_nodes_2.add(node)"
   ]
  },
  {
   "cell_type": "code",
   "execution_count": 272,
   "metadata": {},
   "outputs": [
    {
     "name": "stdout",
     "output_type": "stream",
     "text": [
      "29\n"
     ]
    }
   ],
   "source": [
    "print(len(gen_nodes_2))"
   ]
  },
  {
   "cell_type": "code",
   "execution_count": 273,
   "metadata": {},
   "outputs": [],
   "source": [
    "all_gen_terminals = gen_nodes_1.union(gen_nodes_2)"
   ]
  },
  {
   "cell_type": "code",
   "execution_count": 274,
   "metadata": {},
   "outputs": [
    {
     "name": "stdout",
     "output_type": "stream",
     "text": [
      "30\n"
     ]
    }
   ],
   "source": [
    "print(len(all_gen_terminals))"
   ]
  },
  {
   "cell_type": "code",
   "execution_count": 275,
   "metadata": {},
   "outputs": [],
   "source": [
    "all_gen_terminals = set(gen_nodes_1.union(gen_nodes_2))"
   ]
  },
  {
   "cell_type": "code",
   "execution_count": 276,
   "metadata": {},
   "outputs": [
    {
     "data": {
      "text/plain": [
       "30"
      ]
     },
     "execution_count": 276,
     "metadata": {},
     "output_type": "execute_result"
    }
   ],
   "source": [
    "len(all_gen_terminals)"
   ]
  },
  {
   "cell_type": "code",
   "execution_count": 277,
   "metadata": {},
   "outputs": [
    {
     "name": "stdout",
     "output_type": "stream",
     "text": [
      "29\n"
     ]
    }
   ],
   "source": [
    "print(len(gen_nodes_2))"
   ]
  },
  {
   "cell_type": "code",
   "execution_count": 278,
   "metadata": {},
   "outputs": [],
   "source": [
    "score = len(all_gen_terminals)/len(all_nodes) * 100"
   ]
  },
  {
   "cell_type": "code",
   "execution_count": 279,
   "metadata": {},
   "outputs": [
    {
     "name": "stdout",
     "output_type": "stream",
     "text": [
      "Terminal Coverage: 13.22%\n"
     ]
    }
   ],
   "source": [
    "print(\"Terminal Coverage: {:.2f}%\".format(score))"
   ]
  },
  {
   "cell_type": "code",
   "execution_count": 280,
   "metadata": {},
   "outputs": [],
   "source": [
    "all_covered_nodes = all_covered_nodes.union(all_gen_terminals)"
   ]
  },
  {
   "cell_type": "markdown",
   "metadata": {},
   "source": [
    "#### Compute Pairwise Sensitive Attribute Coverage"
   ]
  },
  {
   "cell_type": "code",
   "execution_count": 281,
   "metadata": {},
   "outputs": [],
   "source": [
    "subj_person_male, subj_person_female = [], []"
   ]
  },
  {
   "cell_type": "code",
   "execution_count": 282,
   "metadata": {},
   "outputs": [],
   "source": [
    "for noun_choice in noun_choice_list:\n",
    "    subj_person_male += subj_choice(noun_choice)[0]\n",
    "    subj_person_female+= subj_choice(noun_choice)[1]"
   ]
  },
  {
   "cell_type": "code",
   "execution_count": 283,
   "metadata": {},
   "outputs": [],
   "source": [
    "# subj_person_female"
   ]
  },
  {
   "cell_type": "code",
   "execution_count": 284,
   "metadata": {},
   "outputs": [],
   "source": [
    "# subj_person_male"
   ]
  },
  {
   "cell_type": "code",
   "execution_count": 285,
   "metadata": {},
   "outputs": [],
   "source": [
    "pairs = []"
   ]
  },
  {
   "cell_type": "code",
   "execution_count": 286,
   "metadata": {},
   "outputs": [],
   "source": [
    "# assert(len(subj_person_male) == len(subj_person_female)), \"ERROR length mismatch\"\n",
    "# for i in range(max(len(subj_person_male), len(subj_person_female))):\n",
    "#     pairs.append((subj_person_male[i],subj_person_female[i]))"
   ]
  },
  {
   "cell_type": "code",
   "execution_count": 287,
   "metadata": {},
   "outputs": [],
   "source": [
    "assert(len(subj_person_male) == len(subj_person_female)), \"ERROR length mismatch\"\n",
    "for i in subj_person_male:\n",
    "    for j in subj_person_female:\n",
    "        pairs.append((i,j))"
   ]
  },
  {
   "cell_type": "code",
   "execution_count": 288,
   "metadata": {},
   "outputs": [],
   "source": [
    "# pairs"
   ]
  },
  {
   "cell_type": "code",
   "execution_count": 289,
   "metadata": {},
   "outputs": [
    {
     "data": {
      "text/plain": [
       "12769"
      ]
     },
     "execution_count": 289,
     "metadata": {},
     "output_type": "execute_result"
    }
   ],
   "source": [
    "len(pairs)"
   ]
  },
  {
   "cell_type": "code",
   "execution_count": 290,
   "metadata": {},
   "outputs": [
    {
     "data": {
      "text/plain": [
       "8099"
      ]
     },
     "execution_count": 290,
     "metadata": {},
     "output_type": "execute_result"
    }
   ],
   "source": [
    "len(set(pairs))"
   ]
  },
  {
   "cell_type": "code",
   "execution_count": 291,
   "metadata": {},
   "outputs": [],
   "source": [
    "pairs = set(pairs)"
   ]
  },
  {
   "cell_type": "code",
   "execution_count": 292,
   "metadata": {},
   "outputs": [],
   "source": [
    "covered_pairs = set()"
   ]
  },
  {
   "cell_type": "code",
   "execution_count": 293,
   "metadata": {},
   "outputs": [],
   "source": [
    "for sentence_pair in generated_input_pairs:\n",
    "    for combination in pairs:\n",
    "        if ((combination[0] in sentence_pair.split(\";\")[1]) and (combination[1] in sentence_pair.split(\";\")[0])) \\\n",
    "            or ((combination[0] in sentence_pair.split(\";\")[0]) and (combination[1] in sentence_pair.split(\";\")[1])):\n",
    "            covered_pairs.add(combination)"
   ]
  },
  {
   "cell_type": "code",
   "execution_count": 294,
   "metadata": {},
   "outputs": [],
   "source": [
    "# covered_pairs"
   ]
  },
  {
   "cell_type": "code",
   "execution_count": 295,
   "metadata": {},
   "outputs": [
    {
     "data": {
      "text/plain": [
       "19"
      ]
     },
     "execution_count": 295,
     "metadata": {},
     "output_type": "execute_result"
    }
   ],
   "source": [
    "len(covered_pairs)"
   ]
  },
  {
   "cell_type": "code",
   "execution_count": 296,
   "metadata": {},
   "outputs": [],
   "source": [
    "score = len(covered_pairs)/len(pairs) * 100"
   ]
  },
  {
   "cell_type": "code",
   "execution_count": 297,
   "metadata": {},
   "outputs": [
    {
     "name": "stdout",
     "output_type": "stream",
     "text": [
      "Pairwise Coverage: 0.23%\n"
     ]
    }
   ],
   "source": [
    "print(\"Pairwise Coverage: {:.2f}%\".format(score))"
   ]
  },
  {
   "cell_type": "code",
   "execution_count": 298,
   "metadata": {},
   "outputs": [],
   "source": [
    "all_covered_pairs = all_covered_pairs.union(covered_pairs)"
   ]
  },
  {
   "cell_type": "code",
   "execution_count": 299,
   "metadata": {},
   "outputs": [],
   "source": [
    "all_pairs = all_pairs.union(pairs)"
   ]
  },
  {
   "cell_type": "markdown",
   "metadata": {},
   "source": [
    "## Overall Coverage for all test configurations "
   ]
  },
  {
   "cell_type": "code",
   "execution_count": 300,
   "metadata": {},
   "outputs": [
    {
     "data": {
      "text/plain": [
       "178"
      ]
     },
     "execution_count": 300,
     "metadata": {},
     "output_type": "execute_result"
    }
   ],
   "source": [
    "len(all_covered_nodes)"
   ]
  },
  {
   "cell_type": "code",
   "execution_count": 301,
   "metadata": {},
   "outputs": [
    {
     "data": {
      "text/plain": [
       "573"
      ]
     },
     "execution_count": 301,
     "metadata": {},
     "output_type": "execute_result"
    }
   ],
   "source": [
    "len(all_covered_pairs)"
   ]
  },
  {
   "cell_type": "code",
   "execution_count": 302,
   "metadata": {},
   "outputs": [],
   "source": [
    "overall_terminal_coverage_score = len(all_covered_nodes)/len(all_nodes) * 100"
   ]
  },
  {
   "cell_type": "code",
   "execution_count": 303,
   "metadata": {},
   "outputs": [
    {
     "name": "stdout",
     "output_type": "stream",
     "text": [
      "Overall Terminal Node Coverage: 78.41%\n"
     ]
    }
   ],
   "source": [
    "print(\"Overall Terminal Node Coverage: {:.2f}%\".format(overall_terminal_coverage_score))"
   ]
  },
  {
   "cell_type": "code",
   "execution_count": 304,
   "metadata": {},
   "outputs": [],
   "source": [
    "overall_pairwise_score = len(all_covered_pairs)/len(all_pairs) * 100"
   ]
  },
  {
   "cell_type": "code",
   "execution_count": 305,
   "metadata": {},
   "outputs": [
    {
     "name": "stdout",
     "output_type": "stream",
     "text": [
      "Overall Pairwise Coverage: 7.07%\n"
     ]
    }
   ],
   "source": [
    "print(\"Overall Pairwise Coverage: {:.2f}%\".format(overall_pairwise_score))"
   ]
  }
 ],
 "metadata": {
  "kernelspec": {
   "display_name": "Python 3",
   "language": "python",
   "name": "python3"
  },
  "language_info": {
   "codemirror_mode": {
    "name": "ipython",
    "version": 3
   },
   "file_extension": ".py",
   "mimetype": "text/x-python",
   "name": "python",
   "nbconvert_exporter": "python",
   "pygments_lexer": "ipython3",
   "version": "3.7.7"
  }
 },
 "nbformat": 4,
 "nbformat_minor": 4
}
