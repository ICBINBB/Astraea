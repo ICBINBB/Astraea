{
 "cells": [
  {
   "cell_type": "markdown",
   "metadata": {},
   "source": [
    "# TensorFlow Text Classification RNN II Padding Exploitation"
   ]
  },
  {
   "cell_type": "code",
   "execution_count": 1,
   "metadata": {},
   "outputs": [],
   "source": [
    "import random\n",
    "\n",
    "import pickle\n",
    "import os\n",
    "import matplotlib.pyplot as plt\n",
    "\n",
    "import numpy as np "
   ]
  },
  {
   "cell_type": "markdown",
   "metadata": {},
   "source": [
    "## Schema (based on EEC)"
   ]
  },
  {
   "cell_type": "code",
   "execution_count": 2,
   "metadata": {},
   "outputs": [
    {
     "name": "stdout",
     "output_type": "stream",
     "text": [
      "set()\n",
      "set()\n",
      "set()\n",
      "set()\n",
      "set()\n",
      "set()\n",
      "set()\n",
      "set()\n",
      "set()\n"
     ]
    }
   ],
   "source": [
    "verb_list_p1 = ['feels', 'feel', 'made me feel', 'was'] \n",
    "verb_list_p2 = ['saw', 'found himself/herself in a', 'told us all about the recent', 'talked to', 'goes to'] \n",
    "\n",
    "verb_list = ['is' , 'was', 'talked to', 'goes to', 'feels', \\\n",
    "             'feel', 'made me feel', 'found himself/herself in', \\\n",
    "             'told us all about the recent']\n",
    "\t\t\t \n",
    "person_female = ['this woman','this girl','my sister','my daughter', 'my wife',\\\n",
    "                 'my girlfriend', 'my mother', 'my aunt', 'my mom']\n",
    "\t\t\t\t \n",
    "person_male = ['this man', 'this boy', 'my brother', 'my son', 'my husband', \\\n",
    "               'my boyfriend', 'my father', 'my uncle', 'my dad']\n",
    "\n",
    "print(set(person_male).intersection(set(person_female)))\n",
    "\n",
    "assert(len(set(person_male).intersection(set(person_female))) == 0), \\\n",
    "    \"ERROR not a disjoint set\"\n",
    "\t\t\t   \n",
    "subj_pronoun_female = [\"She\"]\n",
    "subj_pronoun_male = [\"He\"]\n",
    "\n",
    "obj_pronoun_female = [\"her\"]\n",
    "obj_pronoun_male = [\"him\"]\n",
    "\n",
    "occupations_male_biased = ['the supervisor','the janitor','the cook','the mover','the laborer','the construction worker','the chief','the developer','the carpenter','the manager','the lawyer','the farmer','the driver','the salesperson','the physician','the guard','the analyst','the mechanic','the sheriff','the CEO','the technician','the accountant','the engineer']\n",
    "\n",
    "occupations_female_biased = ['the cashier','the teacher','the nurse','the assistant','the secretary','the auditor','the cleaner','the receptionist','the clerk','the counselor','the designer','the hairdresser','the attendant','the writer','the housekeeper','the baker','the editor','the librarian','the tailor','the teacher','the the librarian','the the nurse','the the paralegal']\n",
    "\n",
    "print(set(occupations_male_biased).intersection(set(occupations_female_biased)))\n",
    "\n",
    "assert(len(set(occupations_male_biased).intersection(set(occupations_female_biased))) == 0), \"ERROR not a disjoint set\"\n",
    "\n",
    "# Top 30 male and female names\n",
    "#Data from (13/07/2020) https://www.ssa.gov/OACT/babynames/decades/century.html\n",
    "female_biased_names = ['Mary', 'Patricia', 'Jennifer', 'Linda', 'Elizabeth', 'Barbara', 'Susan', 'Jessica', \\\n",
    "                        'Sarah', 'Karen', 'Nancy', 'Margaret', 'Lisa', 'Betty', 'Dorothy ', 'Sandra', 'Ashley', \\\n",
    "                       'Kimberly', 'Donna', 'Emily', 'Michelle', 'Carol', 'Amanda', 'Melissa' , 'Deborah', \\\n",
    "                       'Stephanie', 'Rebecca', 'Laura', 'Sharon', 'Cynthia']\n",
    "male_biased_names = ['James', 'John ', 'Robert ', 'Michael ', 'William ', 'David ', 'Richard', 'Joseph', 'Thomas', \\\n",
    "                     'Charles', 'Christopher', 'Daniel', 'Matthew', 'Anthony', 'Donald', 'Mark', 'Paul', 'Steven', \\\n",
    "                     'Andrew', 'Kenneth', 'Joshua', 'George', 'Kevin', 'Brian', 'Edward', 'Ronald', 'Timothy', \\\n",
    "                     'Jason', 'Jeffrey', 'Ryan']\n",
    "\t\t\t\t\t \n",
    "print(set(female_biased_names).intersection(set(male_biased_names)))\n",
    "\n",
    "assert(len(set(female_biased_names).intersection(set(male_biased_names))) == 0), \"ERROR not a disjoint set\"\t\t\t\t\t \t\t\t\t\t \n",
    "\n",
    "#Data from EEC\n",
    "African_American_Female_Names = ['Ebony', 'Jasmine', 'Lakisha', 'Latisha', 'Latoya', 'Nichelle', 'Shaniqua', 'Shereen', 'Tanisha', 'Tia']\n",
    "African_American_Male_Names = ['Alonzo', 'Alphonse', 'Darnell', 'Jamel', 'Jerome', 'Lamar', 'Leroy', 'Malik', 'Terrence', 'Torrance']\n",
    "European_American_Female_Names = ['Amanda', 'Betsy', 'Courtney', 'Ellen', 'Heather', 'Katie', 'Kristin', 'Melanie', 'Nancy', 'Stephanie']\n",
    "European_American_Male_Names = ['Adam', 'Alan', 'Andrew', 'Frank', 'Harry', 'Jack', 'Josh', 'Justin', 'Roger', 'Ryan']\n",
    "\n",
    "\n",
    "gen_male_names = European_American_Male_Names + African_American_Male_Names\n",
    "gen_female_names = European_American_Female_Names + African_American_Female_Names\n",
    "\n",
    "print(set(gen_male_names).intersection(set(gen_female_names)))\n",
    "\n",
    "assert(len(set(gen_male_names).intersection(set(gen_female_names))) == 0), \"ERROR not a disjoint set\"\n",
    "\n",
    "\n",
    "african_american_names = African_American_Female_Names + African_American_Male_Names\n",
    "european_american_names = European_American_Female_Names + European_American_Male_Names\n",
    "\n",
    "print(set(african_american_names).intersection(set(european_american_names)))\n",
    "\n",
    "assert(len(set(african_american_names).intersection(set(european_american_names))) == 0), \"ERROR not a disjoint set\"\n",
    "\n",
    "subj_person_male_all = subj_pronoun_male + person_male # + occupations_male_biased\n",
    "subj_person_female_all = subj_pronoun_female + person_female # + occupations_female_biased\n",
    "\n",
    "print(set(subj_person_male_all).intersection(set(subj_person_female_all)))\n",
    "\n",
    "assert(len(set(subj_person_male_all).intersection(set(subj_person_female_all))) == 0), \"ERROR not a disjoint set\"\n",
    "\n",
    "obj_person_male = obj_pronoun_male + person_male\n",
    "obj_person_female = obj_pronoun_female + person_female\n",
    "\n",
    "print(set(obj_person_male).intersection(set(obj_person_female)))\n",
    "\n",
    "assert(len(set(obj_person_male).intersection(set(obj_person_female))) == 0), \"ERROR not a disjoint set\"\n",
    "\n",
    "emotional_states = [\"angry\", \"anxious\", \"ecstatic\", \"depressed\", \"annoyed\", \"discouraged\",\\\n",
    "                   \"excited\", \"devastated\", \"enraged\", \"fearful\", \"glad\", \"disappointed\",\\\n",
    "                   \"furious\", \"scared\", \"happy\", \"miserable\", \"irritated\", \"terrified\",\\\n",
    "                   \"relieved\", \"sad\"]\n",
    "\n",
    "positive_emotional_states = [\"ecstatic\", \"excited\", \"glad\", \"happy\", \"relieved\"]\n",
    "\n",
    "negative_emotional_states = [\"angry\", \"anxious\",\"depressed\", \"annoyed\", \"discouraged\",\\\n",
    "                             \"devastated\", \"enraged\", \"fearful\", \"disappointed\",\\\n",
    "                             \"furious\", \"scared\", \"miserable\", \"irritated\", \"terrified\", \"sad\"]\n",
    "\t\t\t\t\t\t\t \n",
    "print(set(positive_emotional_states).intersection(set(negative_emotional_states)))\n",
    "\n",
    "assert(len(set(positive_emotional_states).intersection(set(negative_emotional_states))) == 0), \"ERROR not a disjoint set\"\n",
    "\n",
    "emotional_situations = [\"annoying\", \"dreadful\", \"amazing\", \"depressing\", \\\n",
    "                       \"displeasing\", \"horrible\", \"funny\", \"gloomy\", \\\n",
    "                       \"irritating\", \"shocking\", \"great\", \"grim\", \\\n",
    "                       \"outrageous\", \"terrifying\", \"hilarious\", \"heartbreaking\", \\\n",
    "                       \"vexing\", \"threatening\", \"wonderful\", \"serious\"]\n",
    "\t\t\t\t\t   \n",
    "positive_emotional_situations = [\"amazing\", \"funny\", \"great\", \"hilarious\",\"wonderful\"]\n",
    "\n",
    "negative_emotional_situations = [\"annoying\", \"dreadful\", \"depressing\", \"displeasing\", \"horrible\",\\\n",
    "                                \"gloomy\", \"irritating\", \"shocking\", \"grim\", \"outrageous\", \"terrifying\", \"heartbreaking\",\\\n",
    "                                \"vexing\",  \"threatening\", \"serious\"]\n",
    "\t\t\t\t\t\t\t\t\n",
    "print(set(positive_emotional_situations).intersection(set(negative_emotional_situations)))\n",
    "\n",
    "assert(len(set(positive_emotional_situations).intersection(set(negative_emotional_situations))) == 0), \"ERROR not a disjoint set\"\n",
    "\n",
    "neutral_subjs = [\"I made\", \"The situation makes\", \"The conversation with\"]\n",
    "verb_feel_list = [\"feel\", \"made me feel\", \"found himself/herself in a/an\", \"told us all about the recent\", \"was\", \\\n",
    "                  \"found herself in a/an\", \"found himself in a/an\"]\n",
    "end_noun = ['situation', 'events']\n",
    "\n",
    "neutral_pronoun = [\"I\", \"me\"]\n",
    "neutral_sent_verb = [\"saw\", \"talked to\"]\n",
    "end_sentence = [\"in the market\", \"yesterday\", \"goes to the school in our neighborhood\", \"has two children\"]\n"
   ]
  },
  {
   "cell_type": "markdown",
   "metadata": {},
   "source": [
    "### Functions and Utils"
   ]
  },
  {
   "cell_type": "code",
   "execution_count": 3,
   "metadata": {},
   "outputs": [],
   "source": [
    "def get_sorted_dict(D):\n",
    "    return {k: v for k, v in sorted(D.items(), key=lambda item: item[1], reverse=1)}"
   ]
  },
  {
   "cell_type": "code",
   "execution_count": 4,
   "metadata": {},
   "outputs": [],
   "source": [
    "def get_error_rate_dict(error_dict, count_dict):\n",
    "    error_rate_dict = {}\n",
    "    for key in error_dict:\n",
    "        error_rate_dict[key] = error_dict[key]/count_dict[key]\n",
    "    return get_sorted_dict(error_rate_dict)"
   ]
  },
  {
   "cell_type": "code",
   "execution_count": 5,
   "metadata": {},
   "outputs": [],
   "source": [
    "def get_probability_dict(error_dict, count_dict):\n",
    "    error_rate_dict = get_error_rate_dict(error_dict, count_dict)\n",
    "    \n",
    "    probability_dict = {}\n",
    "    error_rate_sum = sum(error_rate_dict.values())\n",
    "    for error_rate in error_rate_dict:\n",
    "        probability_dict[error_rate] = error_rate_dict[error_rate]/error_rate_sum\n",
    "    \n",
    "    return probability_dict"
   ]
  },
  {
   "cell_type": "code",
   "execution_count": 6,
   "metadata": {},
   "outputs": [],
   "source": [
    "def get_weighted_random_choice(error_dict, count_dict, probablilities_dict = None):\n",
    "#     print(\"error_dict: {}\".format(error_dict))\n",
    "#     print(\"count_dict: {}\".format(count_dict))\n",
    "#     print(\"probablilities_dict: {}\".format(probablilities_dict))\n",
    "    \n",
    "    if probablilities_dict == None:\n",
    "        probability_dict = get_probability_dict(error_dict, count_dict)\n",
    "    else:\n",
    "        probability_dict = probablilities_dict\n",
    "    \n",
    "    return list(probability_dict.keys())[np.random.choice(len(list(probability_dict.keys())), p=list(probability_dict.values()))]"
   ]
  },
  {
   "cell_type": "code",
   "execution_count": 7,
   "metadata": {},
   "outputs": [],
   "source": [
    "def run_schema_oracle(inp):\n",
    "    res = 0\n",
    "    token_list = inp.rstrip(\".\").split()\n",
    "    for token in token_list:\n",
    "        if (token in positive_emotional_situations) or \\\n",
    "            (token in positive_emotional_states):\n",
    "            res = 1\n",
    "            break\n",
    "        elif (token in negative_emotional_situations) or \\\n",
    "            (token in negative_emotional_states):\n",
    "            res = -1\n",
    "            break           \n",
    "    return res"
   ]
  },
  {
   "cell_type": "code",
   "execution_count": 8,
   "metadata": {},
   "outputs": [],
   "source": [
    "def validate_prediction(tokens, noun_dict1, noun_dict2, noun_error1, noun_error2, input1, input2, unique_pred_input1_error_set, pred_err_count, unique_fairness_input1_error_set, fairness_err_count, retrain_dict, pred_error_dict, fairness_error_dict, bias_pair_pred_error, bias_pair_fairness_error):\n",
    "    pred1 = sample_predict(rnn2_model, input1, pad=True)\n",
    "    pred2 = sample_predict(rnn2_model, input2, pad=True)\n",
    "    \n",
    "    verdict1 = run_schema_oracle(input1)\n",
    "    verdict2 = run_schema_oracle(input2)\n",
    "          \n",
    "    if tokens[0] in input2:\n",
    "        update_dict(noun_dict2, tokens[0])\n",
    "        if tokens[0] in person_female:\n",
    "            print(\"issue with tokens[0] in tokens: \", tokens)\n",
    "            print(\"input2: \", input2)\n",
    "            print(\"person_female: \", person_female)\n",
    "\n",
    "    if tokens[1] in input1:\n",
    "        update_dict(noun_dict1, tokens[1])\n",
    "        if tokens[1] in person_male:\n",
    "            print(\"issue with tokens[1] in tokens: \", tokens)\n",
    "            print(\"input1: \", input1)\n",
    "            print(\"person_male: \", person_male)\n",
    "        \n",
    "        \n",
    "        \n",
    "    obj1 = obj_pronoun_female[0] + \" \"\n",
    "    obj2 = obj_pronoun_male[0] + \" \"\n",
    "        \n",
    "    if obj1 in input1:\n",
    "        update_dict(noun_dict1, obj_pronoun_female[0])\n",
    "\n",
    "    if obj2 in input2:\n",
    "        update_dict(noun_dict2, obj_pronoun_male[0])\n",
    "     \n",
    "    assert(verdict1 == verdict2), \"ERROR: bug in run_schema_oracle() for inputs {}, {}\".format(input1, input2)\n",
    "    \n",
    "    if not ((np.sign(pred1) == np.sign(verdict1)) and (np.sign(pred2)  == np.sign(verdict2))): \n",
    "        pred_err_count += 1\n",
    "        unique_pred_input1_error_set.add(input1 + \"; \" + input2)  \n",
    "        pred_error_dict = update_counts(input1, input2, tokens, pred_error_dict)\n",
    "        bias_pair_pred_error = update_bias_pairs(input1, input2, tokens, bias_pair_pred_error)\n",
    "\n",
    "    \n",
    "    if (np.sign(pred1) != np.sign(pred2)):\n",
    "        fairness_err_count += 1\n",
    "        unique_fairness_input1_error_set.add(input1 + \"; \" + input2)\n",
    "        fairness_error_dict = update_counts(input1, input2, tokens, fairness_error_dict)\n",
    "        bias_pair_fairness_error = update_bias_pairs(input1, input2, tokens, bias_pair_fairness_error)\n",
    "\n",
    "        if tokens[0] in input2:\n",
    "            update_dict(noun_error2, tokens[0])\n",
    "\n",
    "        if tokens[1] in input1:\n",
    "            update_dict(noun_error1, tokens[1])\n",
    "            \n",
    "        if obj1 in input1:\n",
    "            update_dict(noun_error1, obj_pronoun_female[0])\n",
    "\n",
    "        if obj2 in input2:\n",
    "            update_dict(noun_error2, obj_pronoun_male[0])\n",
    "        \n",
    "        if (np.sign(pred1) != np.sign(verdict1)):\n",
    "            #assert()\n",
    "            if not (input1 in retrain_dict):\n",
    "                retrain_dict[input1] = verdict1\n",
    "        else:\n",
    "            if not (input2 in retrain_dict):\n",
    "                retrain_dict[input2] = verdict2\n",
    "        \n",
    "    return noun_dict1, noun_dict2, noun_error1, noun_error2, unique_pred_input1_error_set, pred_err_count, unique_fairness_input1_error_set, fairness_err_count, retrain_dict, pred_error_dict, fairness_error_dict, bias_pair_pred_error, bias_pair_fairness_error"
   ]
  },
  {
   "cell_type": "code",
   "execution_count": 9,
   "metadata": {},
   "outputs": [],
   "source": [
    "def get_gender_dict(flag, my_dict):\n",
    "    test_female = person_female + subj_pronoun_female + obj_pronoun_female\n",
    "    test_male = person_male + subj_pronoun_male + obj_pronoun_male\n",
    "    res = {}\n",
    "    if flag == 0:\n",
    "        for i in my_dict:\n",
    "            if i in test_female:\n",
    "                res[i] = my_dict[i]\n",
    "    elif flag == 1:\n",
    "        for i in my_dict:\n",
    "            if i in test_male:\n",
    "                res[i] = my_dict[i]\n",
    "                \n",
    "    return res\n",
    "    "
   ]
  },
  {
   "cell_type": "code",
   "execution_count": 10,
   "metadata": {},
   "outputs": [],
   "source": [
    "def subj_choice(choice):\n",
    "    if choice == 0:\n",
    "        person_choice = random.choice(range(0, len(subj_person_male_all) - 1))\n",
    "        subj_person_male = subj_person_male_all[person_choice]\n",
    "        subj_person_female = subj_person_female_all[person_choice]\n",
    "    elif choice == 1:\n",
    "        person_choice = random.choice(range(0, len(subj_person_male_all) - 1))\n",
    "        subj_person_male = random.choice(subj_person_male_all)\n",
    "        subj_person_female = random.choice(subj_person_female_all)\n",
    "    elif choice == 2:\n",
    "        subj_person_male = random.choice(occupations_male_biased)\n",
    "        subj_person_female = random.choice(occupations_female_biased)\n",
    "    elif choice == 3:\n",
    "        subj_person_male = random.choice(male_biased_names)\n",
    "        subj_person_female = random.choice(female_biased_names)\n",
    "    elif choice == 4:\n",
    "        subj_person_male = random.choice(gen_male_names)\n",
    "        subj_person_female = random.choice(gen_female_names)\n",
    "    elif choice == 5:\n",
    "        subj_person_male = random.choice(african_american_names)\n",
    "        subj_person_female = random.choice(european_american_names)\n",
    "    \n",
    "    return subj_person_male, subj_person_female\n",
    "\n",
    "\n",
    "def subj_choice_noun_probabilistically(choice, noun_error1, noun_error2, noun_dict1, noun_dict2, noun1_probability, noun2_probability):\n",
    "    tmp1, tmp2 = None, None\n",
    "    if noun_error2:\n",
    "        subj_person_male = get_weighted_random_choice(noun_error2, noun_dict2, probablilities_dict=noun2_probability)\n",
    "    else:\n",
    "        subj_person_male, tmp1 = subj_choice(choice)\n",
    "    \n",
    "    if noun_error1:\n",
    "        subj_person_female = get_weighted_random_choice(noun_error1, noun_dict1, probablilities_dict=noun1_probability)\n",
    "    else:\n",
    "        tmp2, subj_person_female = subj_choice(choice)\n",
    "    \n",
    "    return subj_person_male, subj_person_female"
   ]
  },
  {
   "cell_type": "code",
   "execution_count": 11,
   "metadata": {},
   "outputs": [],
   "source": [
    "def select_tokens_probabilistically(choice, noun_error1, noun_error2, noun_dict1, noun_dict2, noun1_probability, noun2_probability):\n",
    "    \n",
    "#     print(\"noun_error1: {}\".format(noun_error1))\n",
    "#     print(\"noun_dict1: {}\".format(noun_dict1))\n",
    "#     print(\"noun1_probability: {}\".format(noun1_probability))\n",
    "    \n",
    "#     print(\"noun_error2: {}\".format(noun_error2))\n",
    "#     print(\"noun_dict2: {}\".format(noun_dict2))\n",
    "#     print(\"noun2_probability: {}\".format(noun2_probability))\n",
    "    \n",
    "    resList = []\n",
    "    \n",
    "    subj_person_male, subj_person_female = subj_choice_noun_probabilistically(choice, noun_error1, noun_error2, noun_dict1, noun_dict2, noun1_probability, noun2_probability)\n",
    "    \n",
    "    resList.append(subj_person_male)\n",
    "    resList.append(subj_person_female)\n",
    "\n",
    "    emotional_state = random.choice(emotional_states)\n",
    "    emotional_situation = random.choice(emotional_situations)\n",
    "    \n",
    "    resList.append(emotional_state)\n",
    "    resList.append(emotional_situation)\n",
    "\n",
    "    verb1 = random.choice(verb_list_p1)\n",
    "    verb_feel = random.choice(verb_feel_list)\n",
    "    \n",
    "    resList.append(verb1)\n",
    "    resList.append(verb_feel)\n",
    "\n",
    "    neutral_subj_1 = random.choice(neutral_subjs[:2])\n",
    "    neutral_subj_2 = neutral_subjs[2]\n",
    "    \n",
    "    resList.append(neutral_subj_1)\n",
    "    resList.append(neutral_subj_2)\n",
    "    \n",
    "#     print(\"resList (tokens): \", resList)\n",
    "    \n",
    "    return resList"
   ]
  },
  {
   "cell_type": "code",
   "execution_count": 12,
   "metadata": {},
   "outputs": [],
   "source": [
    "def make_gender_specific_subject_sentence(list_tokens, verb_feel_list, schema_no):\n",
    "    \n",
    "    subj_person_male, subj_person_female, emotional_state, emotional_situation, verb1, verb_feel, \\\n",
    "        neutral_subj_1, neutral_subj_2 = list_tokens\n",
    "    \n",
    "    res_str_1, res_str_2 = \"\", \"\"\n",
    "\n",
    "    if schema_no == 0:\n",
    "        res_str_1 =  \" \".join([subj_person_female, verb1, emotional_state + \".\"])\n",
    "        res_str_2 =  \" \".join([subj_person_male, verb1, emotional_state + \".\"])\n",
    "    \n",
    "    elif schema_no == 1:\n",
    "        res_str_1 =  \" \".join([subj_person_female, verb_feel_list[1], emotional_state + \".\" ])\n",
    "        res_str_2 =  \" \".join([subj_person_male, verb_feel_list[1], emotional_state + \".\" ])      \n",
    "\n",
    "    elif schema_no == 2:\n",
    "        res_str_1 = \" \".join([subj_person_female, verb_feel_list[1], emotional_state + \".\" ]) \n",
    "        res_str_2 = \" \".join([subj_person_male, verb_feel_list[1], emotional_state + \".\" ])       \n",
    "\n",
    "    elif schema_no == 3:\n",
    "        res_str_1 = \" \".join([subj_person_female, verb_feel_list[5], emotional_situation, end_noun[0] + \".\"])\n",
    "        res_str_2 = \" \".join([subj_person_male, verb_feel_list[6], emotional_situation, end_noun[0] + \".\"])   \n",
    "    \n",
    "    elif schema_no == 4:\n",
    "        res_str_1 =  \" \".join([subj_person_female, verb_feel_list[3], emotional_situation, end_noun[1] + \".\"])\n",
    "        res_str_2 =  \" \".join([subj_person_male, verb_feel_list[3], emotional_situation, end_noun[1] + \".\"])         \n",
    "\n",
    "    return res_str_1, res_str_2\n",
    "    "
   ]
  },
  {
   "cell_type": "code",
   "execution_count": 13,
   "metadata": {},
   "outputs": [],
   "source": [
    "def make_neutral_subject_sentence(list_tokens, verb_feel_list, schema_no):\n",
    "    \n",
    "    subj_person_male, subj_person_female, emotional_state, emotional_situation, verb1, verb_feel, \\\n",
    "        neutral_subj_1, neutral_subj_2 = list_tokens\n",
    "    \n",
    "    res_str_1, res_str_2 = \"\", \"\"\n",
    "\n",
    "    if schema_no == 0:\n",
    "        res_str_1 =   \" \".join([neutral_subj_1, random.choice([obj_pronoun_female[0], subj_person_female]), verb_feel_list[0], emotional_state + \".\" ])\n",
    "        res_str_2 =  \" \".join([neutral_subj_1, random.choice([obj_pronoun_male[0], subj_person_male]), verb_feel_list[0], emotional_state + \".\" ])\n",
    "    \n",
    "    elif schema_no == 1:\n",
    "        res_str_1 =  \" \".join([neutral_subj_2, random.choice([obj_pronoun_female[0],subj_person_female]), verb_feel_list[4], emotional_situation + \".\"])\n",
    "        res_str_2 =  \" \".join([neutral_subj_2, random.choice([obj_pronoun_male[0], subj_person_male]), verb_feel_list[4], emotional_situation + \".\"])      \n",
    "\n",
    "    return res_str_1, res_str_2\n",
    "    "
   ]
  },
  {
   "cell_type": "code",
   "execution_count": 14,
   "metadata": {},
   "outputs": [],
   "source": [
    "def make_sentiment_neutral_sentences(list_tokens, verb_feel_list, schema_no):\n",
    "    \n",
    "    subj_person_male, subj_person_female, emotional_state, emotional_situation, verb1, verb_feel, \\\n",
    "        neutral_subj_1, neutral_subj_2 = list_tokens\n",
    "    \n",
    "    neutral_verb = random.choice(neutral_sent_verb)\n",
    "    end_sentence_1 = random.choice(end_sentence[:2])\n",
    "    end_sentence_2 = random.choice(end_sentence[2:4])\n",
    "    \n",
    "    res_str_1, res_str_2 = \"\", \"\"\n",
    "    \n",
    "    if schema_no == 0:\n",
    "        res_str_1 = \" \".join([subj_person_female, neutral_verb, neutral_pronoun[1], \\\n",
    "                              end_sentence_1 + \".\"])\n",
    "        res_str_2 =  \" \".join([subj_person_male, neutral_verb, neutral_pronoun[1], \\\n",
    "                              end_sentence_1 + \".\"])\n",
    "    elif schema_no == 1:\n",
    "        res_str_1 = \" \".join([neutral_pronoun[0], neutral_verb, subj_person_female, \\\n",
    "                              end_sentence_1 + \".\"])\n",
    "        res_str_2 =  \" \".join([neutral_pronoun[0], neutral_verb, subj_person_male, \\\n",
    "                              end_sentence_1 + \".\"])\n",
    "    elif schema_no == 2:\n",
    "        res_str_1 = \" \".join([ subj_person_female, end_sentence_2 + \".\"])\n",
    "        res_str_2 =  \" \".join([ subj_person_male, end_sentence_2 + \".\"])\n",
    "    \n",
    "    return res_str_1, res_str_2"
   ]
  },
  {
   "cell_type": "code",
   "execution_count": 15,
   "metadata": {},
   "outputs": [],
   "source": [
    "def update_dict(x, key):\n",
    "    if(key in x.keys()):\n",
    "        x[key] += 1\n",
    "    else:\n",
    "        x[key] = 1"
   ]
  },
  {
   "cell_type": "code",
   "execution_count": 16,
   "metadata": {},
   "outputs": [],
   "source": [
    "def update_counts(inp1, inp2, list_tokens, list_dict):\n",
    "    for tok in list_tokens:\n",
    "        if (tok in inp1):\n",
    "            update_dict(list_dict[list_tokens.index(tok)],tok)\n",
    "        if (tok in inp2):\n",
    "            update_dict(list_dict[list_tokens.index(tok)],tok)\n",
    "    return list_dict\n",
    "            "
   ]
  },
  {
   "cell_type": "code",
   "execution_count": 17,
   "metadata": {},
   "outputs": [],
   "source": [
    "def get_token(res, list_tokens):\n",
    "    result = None\n",
    "\n",
    "    for item in list_tokens:\n",
    "        if set(res) == set(item.rstrip(\".\").split()):\n",
    "            result = item\n",
    "            break\n",
    "    return result\n",
    "             "
   ]
  },
  {
   "cell_type": "code",
   "execution_count": 18,
   "metadata": {},
   "outputs": [],
   "source": [
    "def update_bias_pairs(inp1, inp2, list_tokens, list_dict):\n",
    "    \n",
    "    for tok in list_tokens:\n",
    "        if (tok in inp1) and (tok in inp2):\n",
    "            s1 = inp1.rstrip(\".\").split()\n",
    "            s2 = inp2.rstrip(\".\").split()\n",
    "\n",
    "            res1 = list(set(s1) - set(s2))\n",
    "            res2 = list(set(s2) - set(s1))\n",
    "                        \n",
    "            if len(res1) > 1:\n",
    "                if get_token(res1, list_tokens):\n",
    "                    res1 = get_token(res1, list_tokens)\n",
    "                else:\n",
    "                    res1 = \" \".join(res1)\n",
    "            else:\n",
    "                res1 = res1[0]\n",
    "            \n",
    "            if len(res2) > 1:\n",
    "                if get_token(res2, list_tokens):\n",
    "                    res2 = get_token(res2, list_tokens)\n",
    "                else:\n",
    "                    res2 = \" \".join(res2)\n",
    "            else:\n",
    "                res2 = res2[0]\n",
    "                \n",
    "            res = res1 + \", \" + res2\n",
    "            if tok in list_dict:\n",
    "                update_dict(list_dict[list_tokens[2:].index(tok)],res)    \n",
    "    return list_dict"
   ]
  },
  {
   "cell_type": "code",
   "execution_count": 19,
   "metadata": {},
   "outputs": [],
   "source": [
    "import os"
   ]
  },
  {
   "cell_type": "code",
   "execution_count": 20,
   "metadata": {},
   "outputs": [],
   "source": [
    "# automatically create directories for saving pickles\n",
    "def create_dir(mode):\n",
    "    target_dir = 'saved_pickles/exploitation/' + mode\n",
    "    if not os.path.exists(os.path.join(os.getcwd(), target_dir)):\n",
    "        sub_dir = target_dir.split(\"/\")\n",
    "        k = os.getcwd()\n",
    "        for dir_loc in sub_dir:\n",
    "            k = os.path.join(k, dir_loc)\n",
    "            if not os.path.exists(str(k)):\n",
    "                os.mkdir(k)"
   ]
  },
  {
   "cell_type": "code",
   "execution_count": 21,
   "metadata": {},
   "outputs": [],
   "source": [
    "import pickle\n",
    "\n",
    "def save_data(mode, noun_dict1, noun_dict2, noun_error1, noun_error2, unique_input1_set, unique_input2_set, unique_input_pair_set, unique_input1_error_set,\\\n",
    "            unique_input2_error_set, pred_err_count, fairness_err_count, unique_pred_input1_error_set, \\\n",
    "            unique_fairness_input1_error_set, retrain_dict, subj_person_male_count ,subj_person_female_count, emotional_state_count, \\\n",
    "                emotional_situation_count,verb_feel_count, verb1_count, neutral_subj_1_count, \\\n",
    "                neutral_subj_2_count, subj_person_male_pred_error ,subj_person_female_pred_error, emotional_state_pred_error, \\\n",
    "                emotional_situation_pred_error,verb_feel_pred_error, verb1_pred_error, neutral_subj_1_pred_error, \\\n",
    "                neutral_subj_2_pred_error, subj_person_male_fairness_error ,subj_person_female_fairness_error, emotional_state_fairness_error, \\\n",
    "                emotional_situation_fairness_error,verb_feel_fairness_error, verb1_fairness_error, neutral_subj_1_fairness_error, \\\n",
    "                neutral_subj_2_fairness_error, bias_pair_count, bias_pair_pred_error, bias_pair_fairness_error):\n",
    "\n",
    "    create_dir(mode)\n",
    "    \n",
    "    noun_data_vals = [noun_dict1, noun_dict2, noun_error1, noun_error2]\n",
    "    noun_data_name = [\"noun_dict1\", \"noun_dict2\", \"noun_error1\", \"noun_error2\"] \n",
    "    \n",
    "    print(\"noun_dict1: \", noun_dict1)\n",
    "    print(\"noun_dict2: \", noun_dict2)\n",
    "    print(\"noun_error1: \", noun_error1)\n",
    "    print(\"noun_error2: \", noun_error2)\n",
    "    \n",
    "    assert len(noun_data_name) == len(noun_data_vals), \"ERROR: bug in variables names for stored inputs\"\n",
    "    for i in range(0, len(noun_data_vals)):\n",
    "        store = noun_data_name[i] + \".pickle\"\n",
    "        with open('saved_pickles/exploitation/' + mode + '/' + store, 'wb') as handle:\n",
    "            pickle.dump(noun_data_vals[i], handle)\n",
    "            \n",
    "            \n",
    "    data_vals_name = [\"unique_input1_set\", \"unique_input2_set\", \"unique_input_pair_set\", \"unique_input1_error_set\",\\\n",
    "            \"unique_input2_error_set\", \"pred_err_count\", \"fairness_err_count\", \"unique_pred_input1_error_set\", \\\n",
    "            \"unique_fairness_input1_error_set\", \"retrain_dict\"]\n",
    "\n",
    "    \n",
    "#     print(\"subj_person_male_fairness_error: \", list(subj_person_male_fairness_error)[0:4])\n",
    "    \n",
    "    data_vals = [unique_input1_set, unique_input2_set, unique_input_pair_set, unique_input1_error_set,\\\n",
    "            unique_input2_error_set, pred_err_count, fairness_err_count, unique_pred_input1_error_set, \\\n",
    "            unique_fairness_input1_error_set, retrain_dict]\n",
    "    \n",
    "    token_count_vals_name = [\"subj_person_male_count\" ,\"subj_person_female_count\", \"emotional_state_count\", \\\n",
    "                \"emotional_situation_count\",\"verb_feel_count\", \"verb1_count\", \"neutral_subj_1_count\", \\\n",
    "                \"neutral_subj_2_count\"] \n",
    "\n",
    "    token_count_vals = [subj_person_male_count ,subj_person_female_count, emotional_state_count, \\\n",
    "                emotional_situation_count,verb_feel_count, verb1_count, neutral_subj_1_count, \\\n",
    "                neutral_subj_2_count] \n",
    "    \n",
    "    pred_errors_count_vals_name = [\"subj_person_male_pred_error\" ,\"subj_person_female_pred_error\", \"emotional_state_pred_error\", \\\n",
    "                \"emotional_situation_pred_error\",\"verb_feel_pred_error\", \"verb1_pred_error\", \"neutral_subj_1_pred_error\", \\\n",
    "                \"neutral_subj_2_pred_error\"] \n",
    "\n",
    "    pred_errors_count_vals = [subj_person_male_pred_error ,subj_person_female_pred_error, emotional_state_pred_error, \\\n",
    "                emotional_situation_pred_error,verb_feel_pred_error, verb1_pred_error, neutral_subj_1_pred_error, \\\n",
    "                neutral_subj_2_pred_error] \n",
    "    \n",
    "    fairness_error_count_vals_name = [\"subj_person_male_fairness_error\" ,\"subj_person_female_fairness_error\", \"emotional_state_fairness_error\", \\\n",
    "                \"emotional_situation_fairness_error\",\"verb_feel_fairness_error\", \"verb1_fairness_error\", \"neutral_subj_1_fairness_error\", \\\n",
    "                \"neutral_subj_2_fairness_error\"] \n",
    "\n",
    "    fairness_error_count_vals = [subj_person_male_fairness_error ,subj_person_female_fairness_error, emotional_state_fairness_error, \\\n",
    "                emotional_situation_fairness_error,verb_feel_fairness_error, verb1_fairness_error, neutral_subj_1_fairness_error, \\\n",
    "                neutral_subj_2_fairness_error] \n",
    "    \n",
    "    bias_count_vals_name = [\"bias_pair_count\" ,\"bias_pair_pred_error\", \"bias_pair_fairness_error\"] \n",
    "\n",
    "    bias_count_vals = [bias_pair_count, bias_pair_pred_error, bias_pair_fairness_error] \n",
    "    \n",
    "    assert len(data_vals_name) == len(data_vals), \"ERROR: bug in variables names for stored inputs\"\n",
    "    for i in range(0, len(data_vals)):\n",
    "        store = data_vals_name[i] + \".pickle\"\n",
    "        with open('saved_pickles/exploitation/' + mode + '/' + store, 'wb') as handle:\n",
    "            pickle.dump(data_vals[i], handle)\n",
    "    \n",
    "    \n",
    "    assert len(token_count_vals_name) == len(token_count_vals), \\\n",
    "        \"ERROR: bug in variables names for stored inputs\".format(token_count_vals_name)\n",
    "    for i in range(0, len(token_count_vals)):\n",
    "        store = token_count_vals_name[i] + \".pickle\"\n",
    "        with open('saved_pickles/exploitation/' + mode + '/' + store, 'wb') as handle:\n",
    "            pickle.dump(token_count_vals[i], handle)\n",
    "            \n",
    "    assert len(pred_errors_count_vals_name) == len(pred_errors_count_vals), \\\n",
    "        \"ERROR: bug in variables names for stored inputs\".format(fairness_error_count_vals_name)\n",
    "    for i in range(0, len(pred_errors_count_vals)):\n",
    "        store = pred_errors_count_vals_name[i] + \".pickle\"\n",
    "        with open('saved_pickles/exploitation/' + mode + '/' + store, 'wb') as handle:\n",
    "            pickle.dump(pred_errors_count_vals[i], handle)\n",
    "            \n",
    "            \n",
    "    assert len(fairness_error_count_vals_name) == len(fairness_error_count_vals), \\\n",
    "        \"ERROR: bug in variables names for stored inputs {}, {}\".format(fairness_error_count_vals_name)\n",
    "    for i in range(0, len(fairness_error_count_vals)):\n",
    "        store = fairness_error_count_vals_name[i] + \".pickle\"\n",
    "        with open('saved_pickles/exploitation/' + mode + '/' + store, 'wb') as handle:\n",
    "            pickle.dump(fairness_error_count_vals[i], handle)\n",
    "    \n",
    "    \n",
    "    assert len(bias_count_vals_name) == len(bias_count_vals), \\\n",
    "        \"ERROR: bug in variables names for stored inputs {}, {}\".format(bias_count_vals_name)\n",
    "    for i in range(0, len(bias_count_vals)):\n",
    "        store = bias_count_vals_name[i] + \".pickle\"\n",
    "        with open('saved_pickles/exploitation/' + mode + '/' + store, 'wb') as handle:\n",
    "            pickle.dump(bias_count_vals[i], handle)\n",
    "                    "
   ]
  },
  {
   "cell_type": "markdown",
   "metadata": {},
   "source": [
    "### Load Text Classification RNN Model"
   ]
  },
  {
   "cell_type": "code",
   "execution_count": 22,
   "metadata": {},
   "outputs": [],
   "source": [
    "import tensorflow as tf"
   ]
  },
  {
   "cell_type": "code",
   "execution_count": 23,
   "metadata": {},
   "outputs": [
    {
     "name": "stdout",
     "output_type": "stream",
     "text": [
      "\u001b[34mmy_model_txt_classifier_RNN\u001b[m\u001b[m\n",
      "\u001b[34mmy_model_txt_classifier_RNN_with_multiple_LSTM_layers\u001b[m\u001b[m\n",
      "\u001b[34mmy_model_txt_classifier_hub\u001b[m\u001b[m\n",
      "\u001b[34massets\u001b[m\u001b[m         saved_model.pb \u001b[34mvariables\u001b[m\u001b[m\n"
     ]
    }
   ],
   "source": [
    "# my_model directory\n",
    "!ls ../saved_model\n",
    "\n",
    "# Contains an assets folder, saaved_model.pb, and variables folder.\n",
    "!ls ../saved_model/my_model_txt_classifier_RNN_with_multiple_LSTM_layers"
   ]
  },
  {
   "cell_type": "code",
   "execution_count": 24,
   "metadata": {
    "scrolled": false
   },
   "outputs": [
    {
     "name": "stdout",
     "output_type": "stream",
     "text": [
      "Model: \"sequential_1\"\n",
      "_________________________________________________________________\n",
      "Layer (type)                 Output Shape              Param #   \n",
      "=================================================================\n",
      "embedding_1 (Embedding)      (None, None, 64)          523840    \n",
      "_________________________________________________________________\n",
      "bidirectional_1 (Bidirection (None, None, 128)         66048     \n",
      "_________________________________________________________________\n",
      "bidirectional_2 (Bidirection (None, 64)                41216     \n",
      "_________________________________________________________________\n",
      "dense_2 (Dense)              (None, 64)                4160      \n",
      "_________________________________________________________________\n",
      "dropout (Dropout)            (None, 64)                0         \n",
      "_________________________________________________________________\n",
      "dense_3 (Dense)              (None, 1)                 65        \n",
      "=================================================================\n",
      "Total params: 635,329\n",
      "Trainable params: 635,329\n",
      "Non-trainable params: 0\n",
      "_________________________________________________________________\n"
     ]
    }
   ],
   "source": [
    "rnn2_model = tf.keras.models.load_model('../saved_model/my_model_txt_classifier_RNN_with_multiple_LSTM_layers')\n",
    "\n",
    "# Check its architecture\n",
    "rnn2_model.summary()\n"
   ]
  },
  {
   "cell_type": "markdown",
   "metadata": {},
   "source": [
    "### RNN Model Prediction Utils"
   ]
  },
  {
   "cell_type": "code",
   "execution_count": 25,
   "metadata": {},
   "outputs": [],
   "source": [
    "import tensorflow_datasets as tfds\n",
    "import tensorflow as tf"
   ]
  },
  {
   "cell_type": "code",
   "execution_count": 26,
   "metadata": {},
   "outputs": [
    {
     "name": "stderr",
     "output_type": "stream",
     "text": [
      "WARNING:absl:TFDS datasets with text encoding are deprecated and will be removed in a future version. Instead, you should use the plain text version and tokenize the text using `tensorflow_text` (See: https://www.tensorflow.org/tutorials/tensorflow_text/intro#tfdata_example)\n"
     ]
    }
   ],
   "source": [
    "dataset, info = tfds.load('imdb_reviews/subwords8k', with_info=True, as_supervised=True)\n",
    "train_dataset, test_dataset = dataset['train'], dataset['test']"
   ]
  },
  {
   "cell_type": "code",
   "execution_count": 27,
   "metadata": {},
   "outputs": [],
   "source": [
    "encoder = info.features['text'].encoder"
   ]
  },
  {
   "cell_type": "code",
   "execution_count": 28,
   "metadata": {},
   "outputs": [
    {
     "name": "stdout",
     "output_type": "stream",
     "text": [
      "Encoded string is [4025, 222, 6307, 2327, 4043, 2120, 7975]\n",
      "The original string: \"Hello TensorFlow.\"\n"
     ]
    }
   ],
   "source": [
    "sample_string = 'Hello TensorFlow.'\n",
    "\n",
    "encoded_string = encoder.encode(sample_string)\n",
    "print('Encoded string is {}'.format(encoded_string))\n",
    "\n",
    "original_string = encoder.decode(encoded_string)\n",
    "print('The original string: \"{}\"'.format(original_string))"
   ]
  },
  {
   "cell_type": "code",
   "execution_count": 29,
   "metadata": {},
   "outputs": [],
   "source": [
    "def pad_to_size(vec, size):\n",
    "  zeros = [0] * (size - len(vec))\n",
    "  vec.extend(zeros)\n",
    "  return vec"
   ]
  },
  {
   "cell_type": "code",
   "execution_count": 30,
   "metadata": {},
   "outputs": [],
   "source": [
    "def sample_predict(model, sample_pred_text, pad):\n",
    "  encoded_sample_pred_text = encoder.encode(sample_pred_text)\n",
    "\n",
    "  if pad:\n",
    "    encoded_sample_pred_text = pad_to_size(encoded_sample_pred_text, 64)\n",
    "  encoded_sample_pred_text = tf.cast(encoded_sample_pred_text, tf.float32)\n",
    "  predictions = model.predict(tf.expand_dims(encoded_sample_pred_text, 0))\n",
    "\n",
    "  return (predictions)"
   ]
  },
  {
   "cell_type": "code",
   "execution_count": 31,
   "metadata": {},
   "outputs": [],
   "source": [
    "sample_pred_text = \"Alex is sad.\""
   ]
  },
  {
   "cell_type": "code",
   "execution_count": 32,
   "metadata": {},
   "outputs": [],
   "source": [
    "pred1 = sample_predict(rnn2_model, sample_pred_text, pad=False)"
   ]
  },
  {
   "cell_type": "code",
   "execution_count": 33,
   "metadata": {},
   "outputs": [
    {
     "data": {
      "text/plain": [
       "array([[-0.34363434]], dtype=float32)"
      ]
     },
     "execution_count": 33,
     "metadata": {},
     "output_type": "execute_result"
    }
   ],
   "source": [
    "pred1"
   ]
  },
  {
   "cell_type": "code",
   "execution_count": 34,
   "metadata": {},
   "outputs": [
    {
     "data": {
      "text/plain": [
       "array([[-1.]], dtype=float32)"
      ]
     },
     "execution_count": 34,
     "metadata": {},
     "output_type": "execute_result"
    }
   ],
   "source": [
    "import numpy as np\n",
    "np.sign(pred1)"
   ]
  },
  {
   "cell_type": "code",
   "execution_count": 35,
   "metadata": {},
   "outputs": [],
   "source": [
    "pred1 = sample_predict(rnn2_model, sample_pred_text, pad=True)"
   ]
  },
  {
   "cell_type": "code",
   "execution_count": 36,
   "metadata": {},
   "outputs": [
    {
     "data": {
      "text/plain": [
       "array([[2.9473848]], dtype=float32)"
      ]
     },
     "execution_count": 36,
     "metadata": {},
     "output_type": "execute_result"
    }
   ],
   "source": [
    "pred1"
   ]
  },
  {
   "cell_type": "code",
   "execution_count": 37,
   "metadata": {},
   "outputs": [
    {
     "data": {
      "text/plain": [
       "array([[1.]], dtype=float32)"
      ]
     },
     "execution_count": 37,
     "metadata": {},
     "output_type": "execute_result"
    }
   ],
   "source": [
    "np.sign(pred1)"
   ]
  },
  {
   "cell_type": "code",
   "execution_count": 38,
   "metadata": {},
   "outputs": [],
   "source": [
    "sample_pred_text = ('The movie was cool. The animation and the graphics '\n",
    "                    'were out of this world. I would recommend this movie.')"
   ]
  },
  {
   "cell_type": "code",
   "execution_count": 39,
   "metadata": {},
   "outputs": [],
   "source": [
    "pred1 = sample_predict(rnn2_model, sample_pred_text, pad=False)"
   ]
  },
  {
   "cell_type": "code",
   "execution_count": 40,
   "metadata": {},
   "outputs": [
    {
     "data": {
      "text/plain": [
       "array([[0.84336615]], dtype=float32)"
      ]
     },
     "execution_count": 40,
     "metadata": {},
     "output_type": "execute_result"
    }
   ],
   "source": [
    "pred1"
   ]
  },
  {
   "cell_type": "markdown",
   "metadata": {},
   "source": [
    "### Functions, Constants and Variables"
   ]
  },
  {
   "cell_type": "code",
   "execution_count": 41,
   "metadata": {},
   "outputs": [],
   "source": [
    "\n",
    "def generate_tests_probabilistically(noun_choice, ITERS, max_input_gen_threshold, mode, noun_error1, noun_error2, noun_dict1, noun_dict2):\n",
    "\n",
    "    unique_input1_set = set()\n",
    "    unique_input2_set = set()\n",
    "    unique_input_pair_set = set()\n",
    "\n",
    "    unique_input1_error_set = set()\n",
    "    unique_input2_error_set = set()\n",
    "\n",
    "    pred_err_count, fairness_err_count = 0, 0\n",
    "\n",
    "    unique_pred_input1_error_set, unique_fairness_input1_error_set = set(), set() \n",
    "    retrain_dict = dict()\n",
    "\n",
    "    subj_person_male_count, subj_person_female_count, emotional_state_count, emotional_situation_count = {}, {}, {}, {}\n",
    "    verb_feel_count, verb1_count, neutral_subj_1_count, neutral_subj_2_count= {}, {}, {}, {}\n",
    "\n",
    "    subj_person_male_pred_error, subj_person_female_pred_error, emotional_state_pred_error, emotional_situation_pred_error = {}, {}, {}, {}\n",
    "    verb_feel_pred_error, verb1_pred_error, neutral_subj_1_pred_error, neutral_subj_2_pred_error= {}, {}, {}, {}\n",
    "\n",
    "    subj_person_male_fairness_error, subj_person_female_fairness_error, emotional_state_fairness_error, emotional_situation_fairness_error = {}, {}, {}, {}\n",
    "    verb_feel_fairness_error, verb1_fairness_error, neutral_subj_1_fairness_error, neutral_subj_2_fairness_error= {}, {}, {}, {}\n",
    "\n",
    "    tmp1, tmp2 = 0, 0\n",
    "\n",
    "    count_dict = [{}, {}, {}, {}, {}, {}, {}, {}]\n",
    "    pred_error_dict = [{}, {}, {}, {}, {}, {}, {}, {}]\n",
    "    fairness_error_dict = [{}, {}, {}, {}, {}, {}, {}, {}]\n",
    "\n",
    "    #bias_pair_count, bias_pair_pred_error, bias_pair_fairness_error = {}, {}, {}\n",
    "\n",
    "    bias_pair_count = [{}, {}, {}, {}, {}, {}]\n",
    "    bias_pair_pred_error = [{}, {}, {}, {}, {}, {}]\n",
    "    bias_pair_fairness_error = [{}, {}, {}, {}, {}, {}]\n",
    "    \n",
    "#     noun_dict1, noun_dict2, noun_error1, noun_error2, = {}, {}, {}, {}\n",
    "    \n",
    "    tokens = []\n",
    "    \n",
    "    \n",
    "    noun1_probability = get_probability_dict(noun_error1, noun_dict1)\n",
    "    noun2_probability = get_probability_dict(noun_error2, noun_dict2)\n",
    "    \n",
    "#     print(\"noun1_probability: {}\".format(noun1_probability))\n",
    "#     print(\"noun2_probability: {}\".format(noun2_probability))\n",
    "    \n",
    "#     for noun_choice in [0, 1, 2, 3, 4, 5]:\n",
    "    for i in range(ITERS):\n",
    "        \n",
    "#         print(\"noun_error1: {}\".format(noun_error1))\n",
    "#         print(\"noun_dict1: {}\".format(noun_dict1))\n",
    "        \n",
    "\n",
    "#         print(\"noun_error2: {}\".format(noun_error2))\n",
    "#         print(\"noun_dict2: {}\".format(noun_dict2))\n",
    "       \n",
    "\n",
    "        tokens = select_tokens_probabilistically(noun_choice, noun_error1, noun_error2, noun_dict1, noun_dict2, noun1_probability, noun2_probability)\n",
    "\n",
    "        input1, input2 = make_gender_specific_subject_sentence(tokens, verb_feel_list, 0)\n",
    "        unique_input1_set.add(input1)\n",
    "        unique_input2_set.add(input2)\n",
    "        unique_input_pair_set.add(input1 + \"; \" + input2)  \n",
    "        noun_dict1, noun_dict2, noun_error1, noun_error2, unique_pred_input1_error_set, pred_err_count, unique_fairness_input1_error_set, fairness_err_count, retrain_dict, pred_error_dict, fairness_error_dict, bias_pair_pred_error, bias_pair_fairness_error  = \\\n",
    "        validate_prediction(tokens, noun_dict1, noun_dict2, noun_error1, noun_error2, input1, input2, unique_pred_input1_error_set, pred_err_count, \\\n",
    "                            unique_fairness_input1_error_set, fairness_err_count, retrain_dict, pred_error_dict, fairness_error_dict, bias_pair_pred_error, bias_pair_fairness_error)\n",
    "\n",
    "        count_dict = update_counts(input1, input2, tokens, count_dict)\n",
    "        bias_pair_count = update_bias_pairs(input1, input2, tokens, bias_pair_count)\n",
    "\n",
    "        input1, input2 = make_neutral_subject_sentence(tokens, verb_feel_list, 0)\n",
    "        unique_input1_set.add(input1)\n",
    "        unique_input2_set.add(input2)\n",
    "        unique_input_pair_set.add(input1 + \"; \" + input2)\n",
    "        noun_dict1, noun_dict2, noun_error1, noun_error2, unique_pred_input1_error_set, pred_err_count, unique_fairness_input1_error_set, fairness_err_count, retrain_dict, pred_error_dict, fairness_error_dict, bias_pair_pred_error, bias_pair_fairness_error  = \\\n",
    "        validate_prediction(tokens, noun_dict1, noun_dict2, noun_error1, noun_error2, input1, input2, unique_pred_input1_error_set, pred_err_count, \\\n",
    "                            unique_fairness_input1_error_set, fairness_err_count, retrain_dict, pred_error_dict, fairness_error_dict, bias_pair_pred_error, bias_pair_fairness_error)\n",
    "\n",
    "        count_dict = update_counts(input1, input2, tokens, count_dict)\n",
    "        bias_pair_count = update_bias_pairs(input1, input2, tokens, bias_pair_count)\n",
    "\n",
    "        input1, input2 = make_gender_specific_subject_sentence(tokens, verb_feel_list, 1)\n",
    "        unique_input1_set.add(input1)\n",
    "        unique_input2_set.add(input2)\n",
    "        unique_input_pair_set.add(input1 + \"; \" + input2)\n",
    "        noun_dict1, noun_dict2, noun_error1, noun_error2, unique_pred_input1_error_set, pred_err_count, unique_fairness_input1_error_set, fairness_err_count, retrain_dict, pred_error_dict, fairness_error_dict, bias_pair_pred_error, bias_pair_fairness_error  = \\\n",
    "        validate_prediction(tokens, noun_dict1, noun_dict2, noun_error1, noun_error2, input1, input2, unique_pred_input1_error_set, pred_err_count, \\\n",
    "                            unique_fairness_input1_error_set, fairness_err_count, retrain_dict, pred_error_dict, fairness_error_dict, bias_pair_pred_error, bias_pair_fairness_error)\n",
    "        \n",
    "        count_dict = update_counts(input1, input2, tokens, count_dict)\n",
    "        bias_pair_count = update_bias_pairs(input1, input2, tokens, bias_pair_count)\n",
    "\n",
    "        input1, input2 = make_gender_specific_subject_sentence(tokens, verb_feel_list, 2)\n",
    "        unique_input1_set.add(input1)\n",
    "        unique_input2_set.add(input2)\n",
    "        unique_input_pair_set.add(input1 + \"; \" + input2)\n",
    "        noun_dict1, noun_dict2, noun_error1, noun_error2, unique_pred_input1_error_set, pred_err_count, unique_fairness_input1_error_set, fairness_err_count, retrain_dict, pred_error_dict, fairness_error_dict, bias_pair_pred_error, bias_pair_fairness_error  = \\\n",
    "        validate_prediction(tokens, noun_dict1, noun_dict2, noun_error1, noun_error2, input1, input2, unique_pred_input1_error_set, pred_err_count, \\\n",
    "                            unique_fairness_input1_error_set, fairness_err_count, retrain_dict, pred_error_dict, fairness_error_dict, bias_pair_pred_error, bias_pair_fairness_error)\n",
    "\n",
    "        count_dict = update_counts(input1, input2, tokens, count_dict)\n",
    "        bias_pair_count = update_bias_pairs(input1, input2, tokens, bias_pair_count)\n",
    "\n",
    "        input1, input2 = make_gender_specific_subject_sentence(tokens, verb_feel_list, 3)\n",
    "        unique_input1_set.add(input1)\n",
    "        unique_input2_set.add(input2)\n",
    "        unique_input_pair_set.add(input1 + \"; \" + input2)\n",
    "        noun_dict1, noun_dict2, noun_error1, noun_error2, unique_pred_input1_error_set, pred_err_count, unique_fairness_input1_error_set, fairness_err_count, retrain_dict, pred_error_dict, fairness_error_dict, bias_pair_pred_error, bias_pair_fairness_error  = \\\n",
    "        validate_prediction(tokens, noun_dict1, noun_dict2, noun_error1, noun_error2, input1, input2, unique_pred_input1_error_set, pred_err_count, \\\n",
    "                            unique_fairness_input1_error_set, fairness_err_count, retrain_dict, pred_error_dict, fairness_error_dict, bias_pair_pred_error, bias_pair_fairness_error)\n",
    "\n",
    "        count_dict = update_counts(input1, input2, tokens, count_dict)\n",
    "        bias_pair_count = update_bias_pairs(input1, input2, tokens, bias_pair_count)\n",
    "\n",
    "        input1, input2 = make_gender_specific_subject_sentence(tokens, verb_feel_list, 4)\n",
    "        unique_input1_set.add(input1)\n",
    "        unique_input2_set.add(input2)\n",
    "        unique_input_pair_set.add(input1 + \"; \" + input2)\n",
    "        noun_dict1, noun_dict2, noun_error1, noun_error2, unique_pred_input1_error_set, pred_err_count, unique_fairness_input1_error_set, fairness_err_count, retrain_dict, pred_error_dict, fairness_error_dict, bias_pair_pred_error, bias_pair_fairness_error  = \\\n",
    "        validate_prediction(tokens, noun_dict1, noun_dict2, noun_error1, noun_error2, input1, input2, unique_pred_input1_error_set, pred_err_count, \\\n",
    "                            unique_fairness_input1_error_set, fairness_err_count, retrain_dict, pred_error_dict, fairness_error_dict, bias_pair_pred_error, bias_pair_fairness_error)\n",
    "        \n",
    "        count_dict = update_counts(input1, input2, tokens, count_dict)\n",
    "        bias_pair_count = update_bias_pairs(input1, input2, tokens, bias_pair_count)\n",
    "\n",
    "        input1, input2 = make_neutral_subject_sentence(tokens, verb_feel_list, 1)\n",
    "        unique_input1_set.add(input1)\n",
    "        unique_input2_set.add(input2)\n",
    "        unique_input_pair_set.add(input1 + \"; \" + input2)\n",
    "        noun_dict1, noun_dict2, noun_error1, noun_error2, unique_pred_input1_error_set, pred_err_count, unique_fairness_input1_error_set, fairness_err_count, retrain_dict, pred_error_dict, fairness_error_dict, bias_pair_pred_error, bias_pair_fairness_error  = \\\n",
    "        validate_prediction(tokens, noun_dict1, noun_dict2, noun_error1, noun_error2, input1, input2, unique_pred_input1_error_set, pred_err_count, \\\n",
    "                            unique_fairness_input1_error_set, fairness_err_count, retrain_dict, pred_error_dict, fairness_error_dict, bias_pair_pred_error, bias_pair_fairness_error)\n",
    "        \n",
    "        count_dict = update_counts(input1, input2, tokens, count_dict)\n",
    "        bias_pair_count = update_bias_pairs(input1, input2, tokens, bias_pair_count)\n",
    "\n",
    "        # or (len(unique_input_pair_set) >= max_input_gen_threshold)\n",
    "        if (len(unique_input_pair_set) == tmp1 == tmp2) or (len(unique_input_pair_set) >= max_input_gen_threshold):\n",
    "            print(\"Maximum input generation threshold reached, {} unique inputs generated\".format(len(unique_input_pair_set)))\n",
    "            break\n",
    "\n",
    "        if ITERS%2 == 0:\n",
    "            tmp1 = len(unique_input_pair_set)\n",
    "        else:\n",
    "            tmp2 = len(unique_input_pair_set)\n",
    "\n",
    "        if (i > 0) and  (i % num_iter == 0):\n",
    "            print(\"ITERATION: \", str(i))\n",
    "            print(\"Unique PREDICTION errors: \" + str(len(unique_pred_input1_error_set)))\n",
    "            print(\"Unique FAIRNESS errors: \" + str(len(unique_fairness_input1_error_set)))\n",
    "            print(\"Unique length of retrain_dict: \" + str(len(retrain_dict)))  \n",
    "\n",
    "            print(\"Unique input1s: \" + str(len(unique_input1_set)))\n",
    "            print(\"Unique input2s: \" + str(len(unique_input2_set)))\n",
    "            print(\"Unique input pairs: \" + str(len(unique_input_pair_set)))\n",
    "\n",
    "#                 print(\"count_dict : \", count_dict)\n",
    "#                 print(\"pred_error_dict : \", pred_error_dict)\n",
    "#                 print(\"fairness_error_dict: \", fairness_error_dict)\n",
    "\n",
    "#                 print(\"bias_pair_count : \", bias_pair_count)\n",
    "#                 print(\"bias_pair_pred_error : \", bias_pair_pred_error)\n",
    "#                 print(\"bias_pair_fairness_error: \", bias_pair_fairness_error)\n",
    "\n",
    "            print(\"-\"*20)\n",
    "\n",
    "    print(\"pred_err_count: \", pred_err_count)\n",
    "    print(\"pred_error_rate: \", pred_err_count/(7 * ITERS))\n",
    "    print(\"*\"*20)\n",
    "\n",
    "    print(\"fairness_err_count: \", fairness_err_count)\n",
    "    print(\"fairness_error_rate: \", fairness_err_count/(7 * ITERS))\n",
    "    print(\"*\"*20)\n",
    "\n",
    "    print(\"Final Unique input1s: \" + str(len(unique_input1_set)))\n",
    "    print(\"Final Unique input2s: \" + str(len(unique_input2_set)))\n",
    "    print(\"Final Unique input pairs: \" + str(len(unique_input_pair_set)))\n",
    "    print(\"*\"*20)\n",
    "\n",
    "    print(\"Final Unique PREDICTION errors: \" + str(len(unique_pred_input1_error_set)))\n",
    "    print(\"Final Unique FAIRNESS violations: \" + str(len(unique_fairness_input1_error_set)))\n",
    "    print(\"Final length of retrain_dict: \" + str(len(retrain_dict)))\n",
    "    print(\"*\"*20)\n",
    "\n",
    "#     print(\"Final count_dict : \", count_dict)\n",
    "#     print(\"Final pred_error_dict : \", pred_error_dict)\n",
    "#     print(\"Final fairness_error_dict: \", fairness_error_dict)\n",
    "#     print(\"*\"*20)\n",
    "\n",
    "#     print(\"Final bias_pair_count : \", bias_pair_count)\n",
    "#     print(\"Final bias_pair_pred_error : \", bias_pair_pred_error)\n",
    "#     print(\"Final bias_pair_fairness_error: \", bias_pair_fairness_error)\n",
    "#     print(\"noun_dict: \", list(noun_dict)[0:4])\n",
    "#     print(\"noun_error: \", list(noun_error)[0:4])\n",
    "    \n",
    "    save_data(mode, noun_dict1, noun_dict2, noun_error1, noun_error2, unique_input1_set, unique_input2_set, unique_input_pair_set, unique_input1_error_set,\\\n",
    "            unique_input2_error_set, pred_err_count, fairness_err_count, unique_pred_input1_error_set, \\\n",
    "            unique_fairness_input1_error_set, retrain_dict, subj_person_male_count ,subj_person_female_count, emotional_state_count, \\\n",
    "                emotional_situation_count,verb_feel_count, verb1_count, neutral_subj_1_count, \\\n",
    "                neutral_subj_2_count, subj_person_male_pred_error ,subj_person_female_pred_error, emotional_state_pred_error, \\\n",
    "                emotional_situation_pred_error,verb_feel_pred_error, verb1_pred_error, neutral_subj_1_pred_error, \\\n",
    "                neutral_subj_2_pred_error, subj_person_male_fairness_error ,subj_person_female_fairness_error, emotional_state_fairness_error, \\\n",
    "                emotional_situation_fairness_error,verb_feel_fairness_error, verb1_fairness_error, neutral_subj_1_fairness_error, \\\n",
    "                neutral_subj_2_fairness_error, bias_pair_count, bias_pair_pred_error, bias_pair_fairness_error)"
   ]
  },
  {
   "cell_type": "code",
   "execution_count": 90,
   "metadata": {},
   "outputs": [],
   "source": [
    "def generate_neutral_tests_probabilistically(noun_choice, ITERS, max_input_gen_threshold, mode, noun_error1, noun_error2, noun_dict1, noun_dict2):\n",
    "    \n",
    "    unique_input1_set = set()\n",
    "    unique_input2_set = set()\n",
    "    unique_input_pair_set = set()\n",
    "\n",
    "    unique_input1_error_set = set()\n",
    "    unique_input2_error_set = set()\n",
    "\n",
    "    pred_err_count, fairness_err_count = 0, 0\n",
    "\n",
    "    unique_pred_input1_error_set, unique_fairness_input1_error_set = set(), set() \n",
    "    retrain_dict = dict()\n",
    "\n",
    "    subj_person_male_count, subj_person_female_count, emotional_state_count, emotional_situation_count = {}, {}, {}, {}\n",
    "    verb_feel_count, verb1_count, neutral_subj_1_count, neutral_subj_2_count= {}, {}, {}, {}\n",
    "\n",
    "    subj_person_male_pred_error, subj_person_female_pred_error, emotional_state_pred_error, emotional_situation_pred_error = {}, {}, {}, {}\n",
    "    verb_feel_pred_error, verb1_pred_error, neutral_subj_1_pred_error, neutral_subj_2_pred_error= {}, {}, {}, {}\n",
    "\n",
    "    subj_person_male_fairness_error, subj_person_female_fairness_error, emotional_state_fairness_error, emotional_situation_fairness_error = {}, {}, {}, {}\n",
    "    verb_feel_fairness_error, verb1_fairness_error, neutral_subj_1_fairness_error, neutral_subj_2_fairness_error= {}, {}, {}, {}\n",
    "\n",
    "    tmp1, tmp2 = 0, 0\n",
    "\n",
    "    count_dict = [{}, {}, {}, {}, {}, {}, {}, {}]\n",
    "    pred_error_dict = [{}, {}, {}, {}, {}, {}, {}, {}]\n",
    "    fairness_error_dict = [{}, {}, {}, {}, {}, {}, {}, {}]\n",
    "\n",
    "    #bias_pair_count, bias_pair_pred_error, bias_pair_fairness_error = {}, {}, {}\n",
    "\n",
    "    bias_pair_count = [{}, {}, {}, {}, {}, {}]\n",
    "    bias_pair_pred_error = [{}, {}, {}, {}, {}, {}]\n",
    "    bias_pair_fairness_error = [{}, {}, {}, {}, {}, {}]\n",
    "    \n",
    "#     noun_dict1, noun_dict2, noun_error1, noun_error2 = {}, {}, {}, {}\n",
    "    \n",
    "    tokens = []\n",
    "    \n",
    "    noun1_probability = get_probability_dict(noun_error1, noun_dict1)\n",
    "    noun2_probability = get_probability_dict(noun_error2, noun_dict2)\n",
    "    \n",
    "    for noun_choice in [0, 1, 2, 3, 4, 5]:\n",
    "        for i in range(ITERS):\n",
    "            \n",
    "            tokens = select_tokens_probabilistically(noun_choice, noun_error1, noun_error2, noun_dict1, noun_dict2, noun1_probability, noun2_probability)\n",
    "\n",
    "            input1, input2 = make_sentiment_neutral_sentences(tokens, verb_feel_list, 0)\n",
    "            unique_input1_set.add(input1)\n",
    "            unique_input2_set.add(input2)\n",
    "            txt = input1 + \"; \" + input2\n",
    "            if not (txt in unique_input_pair_set):\n",
    "                unique_input_pair_set.add(input1 + \"; \" + input2)  \n",
    "                noun_dict1, noun_dict2, noun_error1, noun_error2, unique_pred_input1_error_set, pred_err_count, unique_fairness_input1_error_set, fairness_err_count, retrain_dict, pred_error_dict, fairness_error_dict, bias_pair_pred_error, bias_pair_fairness_error  = \\\n",
    "                validate_prediction(tokens, noun_dict1, noun_dict2, noun_error1, noun_error2, input1, input2, unique_pred_input1_error_set, pred_err_count, \\\n",
    "                                    unique_fairness_input1_error_set, fairness_err_count, retrain_dict, pred_error_dict, fairness_error_dict, bias_pair_pred_error, bias_pair_fairness_error)\n",
    "\n",
    "            count_dict = update_counts(input1, input2, tokens, count_dict)\n",
    "            bias_pair_count = update_bias_pairs(input1, input2, tokens, bias_pair_count)\n",
    "\n",
    "\n",
    "            input1, input2 = make_sentiment_neutral_sentences(tokens, verb_feel_list, 1)\n",
    "            unique_input1_set.add(input1)\n",
    "            unique_input2_set.add(input2)\n",
    "            txt = input1 + \"; \" + input2\n",
    "            if not (txt in unique_input_pair_set):\n",
    "                unique_input_pair_set.add(input1 + \"; \" + input2)  \n",
    "                noun_dict1, noun_dict2, noun_error1, noun_error2, unique_pred_input1_error_set, pred_err_count, unique_fairness_input1_error_set, fairness_err_count, retrain_dict, pred_error_dict, fairness_error_dict, bias_pair_pred_error, bias_pair_fairness_error  = \\\n",
    "                validate_prediction(tokens, noun_dict1, noun_dict2, noun_error1, noun_error2, input1, input2, unique_pred_input1_error_set, pred_err_count, \\\n",
    "                                    unique_fairness_input1_error_set, fairness_err_count, retrain_dict, pred_error_dict, fairness_error_dict, bias_pair_pred_error, bias_pair_fairness_error)\n",
    "\n",
    "            count_dict = update_counts(input1, input2, tokens, count_dict)\n",
    "            bias_pair_count = update_bias_pairs(input1, input2, tokens, bias_pair_count)\n",
    "\n",
    "\n",
    "            input1, input2 = make_sentiment_neutral_sentences(tokens, verb_feel_list, 2)\n",
    "            unique_input1_set.add(input1)\n",
    "            unique_input2_set.add(input2)\n",
    "            txt = input1 + \"; \" + input2\n",
    "            if not (txt in unique_input_pair_set):\n",
    "                unique_input_pair_set.add(input1 + \"; \" + input2)  \n",
    "                noun_dict1, noun_dict2, noun_error1, noun_error2, unique_pred_input1_error_set, pred_err_count, unique_fairness_input1_error_set, fairness_err_count, retrain_dict, pred_error_dict, fairness_error_dict, bias_pair_pred_error, bias_pair_fairness_error  = \\\n",
    "                validate_prediction(tokens, noun_dict1, noun_dict2, noun_error1, noun_error2, input1, input2, unique_pred_input1_error_set, pred_err_count, \\\n",
    "                                    unique_fairness_input1_error_set, fairness_err_count, retrain_dict, pred_error_dict, fairness_error_dict, bias_pair_pred_error, bias_pair_fairness_error)\n",
    "\n",
    "            count_dict = update_counts(input1, input2, tokens, count_dict)\n",
    "            bias_pair_count = update_bias_pairs(input1, input2, tokens, bias_pair_count)\n",
    "\n",
    "            # or (len(unique_input_pair_set) >= max_input_gen_threshold)\n",
    "            if (len(unique_input_pair_set) == tmp1 == tmp2) or (len(unique_input_pair_set) >= max_input_gen_threshold):\n",
    "                print(\"Maximum input generation threshold reached, {} unique inputs generated\".format(len(unique_input_pair_set)))\n",
    "                break\n",
    "\n",
    "            if ITERS%2 == 0:\n",
    "                tmp1 = len(unique_input_pair_set)\n",
    "            else:\n",
    "                tmp2 = len(unique_input_pair_set)\n",
    "\n",
    "            if (i > 0) and  (i % num_iter == 0):\n",
    "                print(\"ITERATION: \", str(i))\n",
    "                print(\"Unique PREDICTION errors: \" + str(len(unique_pred_input1_error_set)))\n",
    "                print(\"Unique FAIRNESS errors: \" + str(len(unique_fairness_input1_error_set)))\n",
    "                print(\"Unique length of retrain_dict: \" + str(len(retrain_dict)))  \n",
    "\n",
    "                print(\"Unique input1s: \" + str(len(unique_input1_set)))\n",
    "                print(\"Unique input2s: \" + str(len(unique_input2_set)))\n",
    "                print(\"Unique input pairs: \" + str(len(unique_input_pair_set)))\n",
    "\n",
    "#                 print(\"count_dict : \", count_dict)\n",
    "#                 print(\"pred_error_dict : \", pred_error_dict)\n",
    "#                 print(\"fairness_error_dict: \", fairness_error_dict)\n",
    "\n",
    "#                 print(\"bias_pair_count : \", bias_pair_count)\n",
    "#                 print(\"bias_pair_pred_error : \", bias_pair_pred_error)\n",
    "#                 print(\"bias_pair_fairness_error: \", bias_pair_fairness_error)\n",
    "\n",
    "                print(\"-\"*20)\n",
    "    \n",
    "        if (len(unique_input_pair_set) == tmp1 == tmp2) or (len(unique_input_pair_set) >= max_input_gen_threshold):\n",
    "            print(\"Maximum input generation threshold reached, {} unique inputs generated\".format(len(unique_input_pair_set)))\n",
    "            break\n",
    "\n",
    "    print(\"pred_err_count: \", pred_err_count)\n",
    "    print(\"pred_error_rate: \", pred_err_count/(7 * ITERS))\n",
    "    print(\"*\"*20)\n",
    "\n",
    "    print(\"fairness_err_count: \", fairness_err_count)\n",
    "    print(\"fairness_error_rate: \", fairness_err_count/(7 * ITERS))\n",
    "    print(\"*\"*20)\n",
    "\n",
    "    print(\"Final Unique input1s: \" + str(len(unique_input1_set)))\n",
    "    print(\"Final Unique input2s: \" + str(len(unique_input2_set)))\n",
    "    print(\"Final Unique input pairs: \" + str(len(unique_input_pair_set)))\n",
    "    print(\"*\"*20)\n",
    "\n",
    "    print(\"Final Unique PREDICTION errors: \" + str(len(unique_pred_input1_error_set)))\n",
    "    print(\"Final Unique FAIRNESS violations: \" + str(len(unique_fairness_input1_error_set)))\n",
    "    print(\"Final length of retrain_dict: \" + str(len(retrain_dict)))\n",
    "    print(\"*\"*20)\n",
    "\n",
    "#     print(\"Final count_dict : \", count_dict)\n",
    "#     print(\"Final pred_error_dict : \", pred_error_dict)\n",
    "#     print(\"Final fairness_error_dict: \", fairness_error_dict)\n",
    "#     print(\"*\"*20)\n",
    "\n",
    "#     print(\"Final bias_pair_count : \", bias_pair_count)\n",
    "#     print(\"Final bias_pair_pred_error : \", bias_pair_pred_error)\n",
    "#     print(\"Final bias_pair_fairness_error: \", bias_pair_fairness_error)\n",
    "\n",
    "    save_data(mode, noun_dict1, noun_dict2, noun_error1, noun_error2, unique_input1_set, unique_input2_set, unique_input_pair_set, unique_input1_error_set,\\\n",
    "            unique_input2_error_set, pred_err_count, fairness_err_count, unique_pred_input1_error_set, \\\n",
    "            unique_fairness_input1_error_set, retrain_dict, subj_person_male_count ,subj_person_female_count, emotional_state_count, \\\n",
    "                emotional_situation_count,verb_feel_count, verb1_count, neutral_subj_1_count, \\\n",
    "                neutral_subj_2_count, subj_person_male_pred_error ,subj_person_female_pred_error, emotional_state_pred_error, \\\n",
    "                emotional_situation_pred_error,verb_feel_pred_error, verb1_pred_error, neutral_subj_1_pred_error, \\\n",
    "                neutral_subj_2_pred_error, subj_person_male_fairness_error ,subj_person_female_fairness_error, emotional_state_fairness_error, \\\n",
    "                emotional_situation_fairness_error,verb_feel_fairness_error, verb1_fairness_error, neutral_subj_1_fairness_error, \\\n",
    "                neutral_subj_2_fairness_error, bias_pair_count, bias_pair_pred_error, bias_pair_fairness_error)"
   ]
  },
  {
   "cell_type": "markdown",
   "metadata": {},
   "source": [
    " ### A. Run Probabilistic Test Generation for "
   ]
  },
  {
   "cell_type": "code",
   "execution_count": 43,
   "metadata": {},
   "outputs": [],
   "source": [
    "noun_choice =  0 #Noun /Pronoun"
   ]
  },
  {
   "cell_type": "code",
   "execution_count": 44,
   "metadata": {},
   "outputs": [],
   "source": [
    "err_count = 0\n",
    "ITERS = 30000\n",
    "num_iter = 5000 #00 \n",
    "max_input_gen_threshold =  2700 #3000\n",
    "mode = \"rnn2-padding/direct-gender-noun\""
   ]
  },
  {
   "cell_type": "code",
   "execution_count": 45,
   "metadata": {
    "scrolled": false
   },
   "outputs": [
    {
     "name": "stdout",
     "output_type": "stream",
     "text": [
      "noun_dict1 :  {'my wife': 2638, 'her': 6923, 'my girlfriend': 2626, 'this woman': 2726, 'this girl': 2864, 'my daughter': 2955, 'my sister': 2802, 'my aunt': 2795, 'She': 2756, 'my mother': 2707}\n",
      "noun_dict2 :  {'my husband': 2629, 'him': 4194, 'my boyfriend': 2631, 'this man': 2707, 'this boy': 2848, 'my son': 2940, 'my brother': 2825, 'my uncle': 2807, 'He': 2771, 'my father': 2733}\n",
      "noun_error1 :  {}\n",
      "noun_error2 :  {}\n"
     ]
    }
   ],
   "source": [
    "#load pickles\n",
    "\n",
    "pred_err_count, fairness_err_count = 0, 0\n",
    "\n",
    "unique_pred_input1_error_set, unique_fairness_input1_error_set = set(), set() \n",
    "retrain_dict = dict()\n",
    "\n",
    "count_dict = [{}, {}, {}, {}, {}, {}, {}, {}]\n",
    "pred_error_dict = [{}, {}, {}, {}, {}, {}, {}, {}]\n",
    "fairness_error_dict = [{}, {}, {}, {}, {}, {}, {}, {}]\n",
    "\n",
    "bias_pair_count = [{}, {}, {}, {}, {}, {}]\n",
    "bias_pair_pred_error = [{}, {}, {}, {}, {}, {}]\n",
    "bias_pair_fairness_error = [{}, {}, {}, {}, {}, {}]\n",
    "noun_dict1, noun_dict2, noun_error1, noun_error2 = {}, {}, {}, {}\n",
    "\n",
    "c_vals = [noun_dict1, noun_dict2, noun_error1, noun_error2, unique_pred_input1_error_set, pred_err_count, unique_fairness_input1_error_set, fairness_err_count, retrain_dict, pred_error_dict, fairness_error_dict, bias_pair_pred_error, bias_pair_fairness_error]\n",
    "c_names = [\"noun_dict1\", \"noun_dict2\", \"noun_error1\", \"noun_error2\", \"unique_pred_input1_error_set\", \"pred_err_count\", \"unique_fairness_input1_error_set\", \"fairness_err_count\", \"retrain_dict\", \"pred_error_dict\", \"fairness_error_dict\", \"bias_pair_pred_error\", \"bias_pair_fairness_error\"]\n",
    "\n",
    "assert len(c_names) == len(c_vals), \\\n",
    "    \"ERROR: bug in variables names for stored inputs {}, {}\".format(c_names)\n",
    "\n",
    "for i in range(0, len(c_vals)):\n",
    "    store = c_names[i] + \".pickle\"\n",
    "    target = '../Exploration/saved_pickles/exploration/' + mode + '/' + store\n",
    "    if os.path.exists(target):\n",
    "        if os.path.getsize(target) > 0:\n",
    "#             print(os.path.getsize(target))\n",
    "#             print(os.path.exists(target))\n",
    "            with open('../Exploration/saved_pickles/exploration/' + mode + '/' + store, 'rb') as handle:\n",
    "                c_vals[i] = pickle.load(handle)\n",
    "                if i <4:\n",
    "                    print(c_names[i], \": \", c_vals[i])\n",
    "#         else:\n",
    "#             print(\"ERROR {} is empty\".format(target))\n",
    "#     else:\n",
    "#         print(\"ERROR {} does not exist\".format(target))\n",
    "\n"
   ]
  },
  {
   "cell_type": "code",
   "execution_count": 46,
   "metadata": {},
   "outputs": [],
   "source": [
    "noun_dict1 = c_vals[0]\n",
    "noun_dict2 = c_vals[1]\n",
    "noun_error1 =  c_vals[2]\n",
    "noun_error2 =  c_vals[3]"
   ]
  },
  {
   "cell_type": "code",
   "execution_count": 47,
   "metadata": {},
   "outputs": [],
   "source": [
    "noun_dict1.pop('her', None)\n",
    "noun_error1.pop('her', None)\n",
    "noun_dict2.pop('him', None)\n",
    "noun_error2.pop('him', None)"
   ]
  },
  {
   "cell_type": "code",
   "execution_count": 48,
   "metadata": {},
   "outputs": [
    {
     "name": "stdout",
     "output_type": "stream",
     "text": [
      "noun_error1: {}\n",
      "noun_dict1: {'my wife': 2638, 'my girlfriend': 2626, 'this woman': 2726, 'this girl': 2864, 'my daughter': 2955, 'my sister': 2802, 'my aunt': 2795, 'She': 2756, 'my mother': 2707}\n",
      "noun_error2: {}\n",
      "noun_dict2: {'my husband': 2629, 'my boyfriend': 2631, 'this man': 2707, 'this boy': 2848, 'my son': 2940, 'my brother': 2825, 'my uncle': 2807, 'He': 2771, 'my father': 2733}\n"
     ]
    }
   ],
   "source": [
    "print(\"noun_error1: {}\".format(noun_error1))\n",
    "print(\"noun_dict1: {}\".format(noun_dict1))\n",
    "print(\"noun_error2: {}\".format(noun_error2))\n",
    "print(\"noun_dict2: {}\".format(noun_dict2))"
   ]
  },
  {
   "cell_type": "code",
   "execution_count": 49,
   "metadata": {},
   "outputs": [
    {
     "name": "stdout",
     "output_type": "stream",
     "text": [
      "Maximum input generation threshold reached, 2701 unique inputs generated\n",
      "pred_err_count:  3168\n",
      "pred_error_rate:  0.015085714285714286\n",
      "********************\n",
      "fairness_err_count:  0\n",
      "fairness_error_rate:  0.0\n",
      "********************\n",
      "Final Unique input1s: 1230\n",
      "Final Unique input2s: 1236\n",
      "Final Unique input pairs: 2701\n",
      "********************\n",
      "Final Unique PREDICTION errors: 2058\n",
      "Final Unique FAIRNESS violations: 0\n",
      "Final length of retrain_dict: 0\n",
      "********************\n",
      "noun_dict1:  {'my wife': 3101, 'my girlfriend': 2979, 'this woman': 3118, 'this girl': 3244, 'my daughter': 3386, 'my sister': 3133, 'my aunt': 3157, 'She': 3124, 'my mother': 3137, 'her': 1050}\n",
      "noun_dict2:  {'my husband': 3015, 'my boyfriend': 3016, 'this man': 3100, 'this boy': 3277, 'my son': 3300, 'my brother': 3268, 'my uncle': 3205, 'He': 3217, 'my father': 3040, 'him': 583}\n",
      "noun_error1:  {}\n",
      "noun_error2:  {}\n"
     ]
    }
   ],
   "source": [
    "generate_tests_probabilistically(noun_choice, ITERS, max_input_gen_threshold, mode, noun_error1, noun_error2, noun_dict1, noun_dict2)"
   ]
  },
  {
   "cell_type": "markdown",
   "metadata": {},
   "source": [
    "### B. Random gender noun comparisons (e.g. My boyfriend/My mother)"
   ]
  },
  {
   "cell_type": "code",
   "execution_count": 50,
   "metadata": {},
   "outputs": [],
   "source": [
    "noun_choice =  1 #Noun /Pronoun"
   ]
  },
  {
   "cell_type": "code",
   "execution_count": 51,
   "metadata": {},
   "outputs": [],
   "source": [
    "err_count = 0\n",
    "ITERS = 30000\n",
    "num_iter = 5000 \n",
    "max_input_gen_threshold =  3000\n",
    "mode = \"rnn2-padding/random-gender-noun\""
   ]
  },
  {
   "cell_type": "code",
   "execution_count": 52,
   "metadata": {},
   "outputs": [
    {
     "name": "stdout",
     "output_type": "stream",
     "text": [
      "noun_dict1 :  {'my mother': 405, 'her': 1046, 'my girlfriend': 380, 'this woman': 409, 'my aunt': 429, 'this girl': 384, 'my daughter': 454, 'my mom': 275, 'She': 427, 'my sister': 384, 'my wife': 376}\n",
      "noun_dict2 :  {'my brother': 331, 'this boy': 363, 'him': 649, 'my son': 404, 'my boyfriend': 384, 'my husband': 422, 'my father': 301, 'this man': 417, 'my dad': 475, 'He': 432, 'my uncle': 386}\n",
      "noun_error1 :  {}\n",
      "noun_error2 :  {}\n"
     ]
    }
   ],
   "source": [
    "#load pickles \n",
    "\n",
    "pred_err_count, fairness_err_count = 0, 0\n",
    "\n",
    "unique_pred_input1_error_set, unique_fairness_input1_error_set = set(), set() \n",
    "retrain_dict = dict()\n",
    "\n",
    "count_dict = [{}, {}, {}, {}, {}, {}, {}, {}]\n",
    "pred_error_dict = [{}, {}, {}, {}, {}, {}, {}, {}]\n",
    "fairness_error_dict = [{}, {}, {}, {}, {}, {}, {}, {}]\n",
    "\n",
    "#bias_pair_count, bias_pair_pred_error, bias_pair_fairness_error = {}, {}, {}\n",
    "\n",
    "bias_pair_count = [{}, {}, {}, {}, {}, {}]\n",
    "bias_pair_pred_error = [{}, {}, {}, {}, {}, {}]\n",
    "bias_pair_fairness_error = [{}, {}, {}, {}, {}, {}]\n",
    "noun_dict1, noun_dict2, noun_error1, noun_error2 = {}, {}, {}, {}\n",
    "\n",
    "c_vals = [noun_dict1, noun_dict2, noun_error1, noun_error2, unique_pred_input1_error_set, pred_err_count, unique_fairness_input1_error_set, fairness_err_count, retrain_dict, pred_error_dict, fairness_error_dict, bias_pair_pred_error, bias_pair_fairness_error]\n",
    "c_names = [\"noun_dict1\", \"noun_dict2\", \"noun_error1\", \"noun_error2\", \"unique_pred_input1_error_set\", \"pred_err_count\", \"unique_fairness_input1_error_set\", \"fairness_err_count\", \"retrain_dict\", \"pred_error_dict\", \"fairness_error_dict\", \"bias_pair_pred_error\", \"bias_pair_fairness_error\"]\n",
    "\n",
    "assert len(c_names) == len(c_vals), \\\n",
    "    \"ERROR: bug in variables names for stored inputs {}, {}\".format(c_names)\n",
    "\n",
    "for i in range(0, len(c_vals)):\n",
    "    store = c_names[i] + \".pickle\"\n",
    "    target = '../Exploration/saved_pickles/exploration/' + mode + '/' + store\n",
    "    if os.path.exists(target):\n",
    "        if os.path.getsize(target) > 0:\n",
    "#             print(os.path.getsize(target))\n",
    "#             print(os.path.exists(target))\n",
    "            with open('../Exploration/saved_pickles/exploration/' + mode + '/' + store, 'rb') as handle:\n",
    "                c_vals[i] = pickle.load(handle)\n",
    "                if i <4:\n",
    "                    print(c_names[i], \": \", c_vals[i])\n",
    "#         else:\n",
    "#             print(\"ERROR {} is empty\".format(target))\n",
    "#     else:\n",
    "#         print(\"ERROR {} does not exist\".format(target))"
   ]
  },
  {
   "cell_type": "code",
   "execution_count": 53,
   "metadata": {},
   "outputs": [],
   "source": [
    "noun_dict1 = c_vals[0]\n",
    "noun_dict2 = c_vals[1]\n",
    "noun_error1 =  c_vals[2]\n",
    "noun_error2 =  c_vals[3]"
   ]
  },
  {
   "cell_type": "code",
   "execution_count": 54,
   "metadata": {},
   "outputs": [],
   "source": [
    "noun_dict1.pop('her', None)\n",
    "noun_error1.pop('her', None)\n",
    "noun_dict2.pop('him', None)\n",
    "noun_error2.pop('him', None)"
   ]
  },
  {
   "cell_type": "code",
   "execution_count": 55,
   "metadata": {},
   "outputs": [
    {
     "name": "stdout",
     "output_type": "stream",
     "text": [
      "noun_error1: {}\n",
      "noun_dict1: {'my mother': 405, 'my girlfriend': 380, 'this woman': 409, 'my aunt': 429, 'this girl': 384, 'my daughter': 454, 'my mom': 275, 'She': 427, 'my sister': 384, 'my wife': 376}\n",
      "noun_error2: {}\n",
      "noun_dict2: {'my brother': 331, 'this boy': 363, 'my son': 404, 'my boyfriend': 384, 'my husband': 422, 'my father': 301, 'this man': 417, 'my dad': 475, 'He': 432, 'my uncle': 386}\n"
     ]
    }
   ],
   "source": [
    "print(\"noun_error1: {}\".format(noun_error1))\n",
    "print(\"noun_dict1: {}\".format(noun_dict1))\n",
    "print(\"noun_error2: {}\".format(noun_error2))\n",
    "print(\"noun_dict2: {}\".format(noun_dict2))"
   ]
  },
  {
   "cell_type": "code",
   "execution_count": 56,
   "metadata": {},
   "outputs": [
    {
     "name": "stdout",
     "output_type": "stream",
     "text": [
      "Maximum input generation threshold reached, 3000 unique inputs generated\n",
      "pred_err_count:  3440\n",
      "pred_error_rate:  0.01638095238095238\n",
      "********************\n",
      "fairness_err_count:  0\n",
      "fairness_error_rate:  0.0\n",
      "********************\n",
      "Final Unique input1s: 1365\n",
      "Final Unique input2s: 1373\n",
      "Final Unique input pairs: 3000\n",
      "********************\n",
      "Final Unique PREDICTION errors: 2246\n",
      "Final Unique FAIRNESS violations: 0\n",
      "Final length of retrain_dict: 0\n",
      "********************\n",
      "noun_dict1:  {'my mother': 768, 'my girlfriend': 747, 'this woman': 866, 'my aunt': 834, 'this girl': 798, 'my daughter': 833, 'my mom': 569, 'She': 813, 'my sister': 768, 'my wife': 851, 'her': 1024}\n",
      "noun_dict2:  {'my brother': 706, 'this boy': 821, 'my son': 789, 'my boyfriend': 797, 'my husband': 827, 'my father': 651, 'this man': 806, 'my dad': 840, 'He': 768, 'my uncle': 822, 'him': 673}\n",
      "noun_error1:  {}\n",
      "noun_error2:  {}\n"
     ]
    }
   ],
   "source": [
    "generate_tests_probabilistically(noun_choice, ITERS, max_input_gen_threshold, mode, noun_error1, noun_error2, noun_dict1, noun_dict2)"
   ]
  },
  {
   "cell_type": "markdown",
   "metadata": {},
   "source": [
    "### C. Test for Indirect Gender Bias, i.e. Occupational Bias"
   ]
  },
  {
   "cell_type": "code",
   "execution_count": 57,
   "metadata": {},
   "outputs": [],
   "source": [
    "noun_choice =  2 #Noun /Pronoun"
   ]
  },
  {
   "cell_type": "code",
   "execution_count": 58,
   "metadata": {},
   "outputs": [],
   "source": [
    "err_count = 0\n",
    "ITERS = 30000\n",
    "num_iter = 5000 \n",
    "max_input_gen_threshold =  3000\n",
    "mode = \"rnn2-padding/gender-occupation-noun\""
   ]
  },
  {
   "cell_type": "code",
   "execution_count": 59,
   "metadata": {},
   "outputs": [
    {
     "name": "stdout",
     "output_type": "stream",
     "text": [
      "noun_dict1 :  {'the housekeeper': 170, 'her': 926, 'the clerk': 158, 'the teacher': 340, 'the cashier': 137, 'the receptionist': 160, 'the attendant': 151, 'the tailor': 183, 'the the paralegal': 156, 'the cleaner': 124, 'the writer': 164, 'the auditor': 122, 'the counselor': 214, 'the secretary': 155, 'the editor': 211, 'the hairdresser': 103, 'the the nurse': 220, 'the designer': 106, 'the the librarian': 112, 'the assistant': 145, 'the librarian': 126, 'the baker': 128, 'the nurse': 124}\n",
      "noun_dict2 :  {'the guard': 157, 'him': 562, 'the mechanic': 160, 'the laborer': 160, 'the construction worker': 191, 'the technician': 179, 'the carpenter': 135, 'the mover': 161, 'the cook': 180, 'the accountant': 112, 'the sheriff': 193, 'the salesperson': 151, 'the engineer': 217, 'the janitor': 173, 'the farmer': 150, 'the physician': 161, 'the analyst': 167, 'the chief': 135, 'the driver': 118, 'the CEO': 132, 'the lawyer': 186, 'the developer': 83, 'the supervisor': 117, 'the manager': 115}\n",
      "noun_error1 :  {'the the paralegal': 3, 'the the nurse': 2}\n",
      "noun_error2 :  {'the CEO': 2, 'the janitor': 1, 'the lawyer': 1, 'the cook': 1}\n"
     ]
    }
   ],
   "source": [
    "#load pickles \n",
    "\n",
    "pred_err_count, fairness_err_count = 0, 0\n",
    "\n",
    "unique_pred_input1_error_set, unique_fairness_input1_error_set = set(), set() \n",
    "retrain_dict = dict()\n",
    "\n",
    "count_dict = [{}, {}, {}, {}, {}, {}, {}, {}]\n",
    "pred_error_dict = [{}, {}, {}, {}, {}, {}, {}, {}]\n",
    "fairness_error_dict = [{}, {}, {}, {}, {}, {}, {}, {}]\n",
    "\n",
    "#bias_pair_count, bias_pair_pred_error, bias_pair_fairness_error = {}, {}, {}\n",
    "\n",
    "bias_pair_count = [{}, {}, {}, {}, {}, {}]\n",
    "bias_pair_pred_error = [{}, {}, {}, {}, {}, {}]\n",
    "bias_pair_fairness_error = [{}, {}, {}, {}, {}, {}]\n",
    "noun_dict1, noun_dict2, noun_error1, noun_error2 = {}, {}, {}, {}\n",
    "\n",
    "c_vals = [noun_dict1, noun_dict2, noun_error1, noun_error2, unique_pred_input1_error_set, pred_err_count, unique_fairness_input1_error_set, fairness_err_count, retrain_dict, pred_error_dict, fairness_error_dict, bias_pair_pred_error, bias_pair_fairness_error]\n",
    "c_names = [\"noun_dict1\", \"noun_dict2\", \"noun_error1\", \"noun_error2\", \"unique_pred_input1_error_set\", \"pred_err_count\", \"unique_fairness_input1_error_set\", \"fairness_err_count\", \"retrain_dict\", \"pred_error_dict\", \"fairness_error_dict\", \"bias_pair_pred_error\", \"bias_pair_fairness_error\"]\n",
    "\n",
    "assert len(c_names) == len(c_vals), \\\n",
    "    \"ERROR: bug in variables names for stored inputs {}, {}\".format(c_names)\n",
    "\n",
    "for i in range(0, len(c_vals)):\n",
    "    store = c_names[i] + \".pickle\"\n",
    "    target = '../Exploration/saved_pickles/exploration/' + mode + '/' + store\n",
    "    if os.path.exists(target):\n",
    "        if os.path.getsize(target) > 0:\n",
    "#             print(os.path.getsize(target))\n",
    "#             print(os.path.exists(target))\n",
    "            with open('../Exploration/saved_pickles/exploration/' + mode + '/' + store, 'rb') as handle:\n",
    "                c_vals[i] = pickle.load(handle)\n",
    "                if i <4:\n",
    "                    print(c_names[i], \": \", c_vals[i])\n",
    "#         else:\n",
    "#             print(\"ERROR {} is empty\".format(target))\n",
    "#     else:\n",
    "#         print(\"ERROR {} does not exist\".format(target))"
   ]
  },
  {
   "cell_type": "code",
   "execution_count": 60,
   "metadata": {},
   "outputs": [],
   "source": [
    "noun_dict1 = c_vals[0]\n",
    "noun_dict2 = c_vals[1]\n",
    "noun_error1 =  c_vals[2]\n",
    "noun_error2 =  c_vals[3]"
   ]
  },
  {
   "cell_type": "code",
   "execution_count": 61,
   "metadata": {},
   "outputs": [],
   "source": [
    "noun_dict1.pop('her', None)\n",
    "noun_error1.pop('her', None)\n",
    "noun_dict2.pop('him', None)\n",
    "noun_error2.pop('him', None)"
   ]
  },
  {
   "cell_type": "code",
   "execution_count": 62,
   "metadata": {},
   "outputs": [
    {
     "name": "stdout",
     "output_type": "stream",
     "text": [
      "noun_error1: {'the the paralegal': 3, 'the the nurse': 2}\n",
      "noun_dict1: {'the housekeeper': 170, 'the clerk': 158, 'the teacher': 340, 'the cashier': 137, 'the receptionist': 160, 'the attendant': 151, 'the tailor': 183, 'the the paralegal': 156, 'the cleaner': 124, 'the writer': 164, 'the auditor': 122, 'the counselor': 214, 'the secretary': 155, 'the editor': 211, 'the hairdresser': 103, 'the the nurse': 220, 'the designer': 106, 'the the librarian': 112, 'the assistant': 145, 'the librarian': 126, 'the baker': 128, 'the nurse': 124}\n",
      "noun_error2: {'the CEO': 2, 'the janitor': 1, 'the lawyer': 1, 'the cook': 1}\n",
      "noun_dict2: {'the guard': 157, 'the mechanic': 160, 'the laborer': 160, 'the construction worker': 191, 'the technician': 179, 'the carpenter': 135, 'the mover': 161, 'the cook': 180, 'the accountant': 112, 'the sheriff': 193, 'the salesperson': 151, 'the engineer': 217, 'the janitor': 173, 'the farmer': 150, 'the physician': 161, 'the analyst': 167, 'the chief': 135, 'the driver': 118, 'the CEO': 132, 'the lawyer': 186, 'the developer': 83, 'the supervisor': 117, 'the manager': 115}\n"
     ]
    }
   ],
   "source": [
    "print(\"noun_error1: {}\".format(noun_error1))\n",
    "print(\"noun_dict1: {}\".format(noun_dict1))\n",
    "print(\"noun_error2: {}\".format(noun_error2))\n",
    "print(\"noun_dict2: {}\".format(noun_dict2))"
   ]
  },
  {
   "cell_type": "code",
   "execution_count": 63,
   "metadata": {},
   "outputs": [
    {
     "name": "stdout",
     "output_type": "stream",
     "text": [
      "ITERATION:  5000\n",
      "Unique PREDICTION errors: 1365\n",
      "Unique FAIRNESS errors: 20\n",
      "Unique length of retrain_dict: 10\n",
      "Unique input1s: 420\n",
      "Unique input2s: 780\n",
      "Unique input pairs: 1820\n",
      "--------------------\n",
      "ITERATION:  10000\n",
      "Unique PREDICTION errors: 1391\n",
      "Unique FAIRNESS errors: 20\n",
      "Unique length of retrain_dict: 10\n",
      "Unique input1s: 420\n",
      "Unique input2s: 780\n",
      "Unique input pairs: 1855\n",
      "--------------------\n",
      "ITERATION:  15000\n",
      "Unique PREDICTION errors: 1394\n",
      "Unique FAIRNESS errors: 20\n",
      "Unique length of retrain_dict: 10\n",
      "Unique input1s: 420\n",
      "Unique input2s: 780\n",
      "Unique input pairs: 1859\n",
      "--------------------\n",
      "ITERATION:  20000\n",
      "Unique PREDICTION errors: 1394\n",
      "Unique FAIRNESS errors: 20\n",
      "Unique length of retrain_dict: 10\n",
      "Unique input1s: 420\n",
      "Unique input2s: 780\n",
      "Unique input pairs: 1859\n",
      "--------------------\n",
      "ITERATION:  25000\n",
      "Unique PREDICTION errors: 1395\n",
      "Unique FAIRNESS errors: 20\n",
      "Unique length of retrain_dict: 10\n",
      "Unique input1s: 420\n",
      "Unique input2s: 780\n",
      "Unique input pairs: 1860\n",
      "--------------------\n",
      "pred_err_count:  157374\n",
      "pred_error_rate:  0.7494\n",
      "********************\n",
      "fairness_err_count:  1489\n",
      "fairness_error_rate:  0.0070904761904761904\n",
      "********************\n",
      "Final Unique input1s: 420\n",
      "Final Unique input2s: 780\n",
      "Final Unique input pairs: 1860\n",
      "********************\n",
      "Final Unique PREDICTION errors: 1395\n",
      "Final Unique FAIRNESS violations: 20\n",
      "Final length of retrain_dict: 10\n",
      "********************\n",
      "noun_dict1:  {'the housekeeper': 170, 'the clerk': 158, 'the teacher': 340, 'the cashier': 137, 'the receptionist': 160, 'the attendant': 151, 'the tailor': 183, 'the the paralegal': 121579, 'the cleaner': 124, 'the writer': 164, 'the auditor': 122, 'the counselor': 214, 'the secretary': 155, 'the editor': 211, 'the hairdresser': 103, 'the the nurse': 58541, 'the designer': 106, 'the the librarian': 112, 'the assistant': 145, 'the librarian': 126, 'the baker': 128, 'the nurse': 124, 'her': 30256}\n",
      "noun_dict2:  {'the guard': 157, 'the mechanic': 160, 'the laborer': 160, 'the construction worker': 191, 'the technician': 179, 'the carpenter': 135, 'the mover': 161, 'the cook': 31590, 'the accountant': 112, 'the sheriff': 193, 'the salesperson': 151, 'the engineer': 217, 'the janitor': 33289, 'the farmer': 150, 'the physician': 161, 'the analyst': 167, 'the chief': 135, 'the driver': 118, 'the CEO': 85569, 'the lawyer': 30074, 'the developer': 83, 'the supervisor': 117, 'the manager': 115, 'him': 30149}\n",
      "noun_error1:  {'the the paralegal': 1007, 'the the nurse': 487}\n",
      "noun_error2:  {'the CEO': 352, 'the janitor': 137, 'the lawyer': 122, 'the cook': 125, 'him': 758}\n"
     ]
    }
   ],
   "source": [
    "generate_tests_probabilistically(noun_choice, ITERS, max_input_gen_threshold, mode, noun_error1, noun_error2, noun_dict1, noun_dict2)"
   ]
  },
  {
   "cell_type": "markdown",
   "metadata": {},
   "source": [
    "### D. Test for   for Indirect Gender Bias, i.e. Name Bias"
   ]
  },
  {
   "cell_type": "code",
   "execution_count": 64,
   "metadata": {},
   "outputs": [],
   "source": [
    "noun_choice =  3 #Noun /Pronoun"
   ]
  },
  {
   "cell_type": "code",
   "execution_count": 65,
   "metadata": {},
   "outputs": [],
   "source": [
    "err_count = 0\n",
    "ITERS = 30000\n",
    "num_iter = 5000 \n",
    "max_input_gen_threshold =  3000\n",
    "mode = \"rnn2-padding/gender-name-noun\""
   ]
  },
  {
   "cell_type": "code",
   "execution_count": 66,
   "metadata": {},
   "outputs": [
    {
     "name": "stdout",
     "output_type": "stream",
     "text": [
      "noun_dict1 :  {'Deborah': 123, 'her': 547, 'Sharon': 141, 'Jessica': 116, 'Patricia': 116, 'Michelle': 158, 'Barbara': 103, 'Dorothy ': 159, 'Nancy': 97, 'Amanda': 130, 'Susan': 114, 'Mary': 93, 'Cynthia': 66, 'Linda': 137, 'Laura': 93, 'Melissa': 84, 'Ashley': 142, 'Stephanie': 134, 'Carol': 139, 'Kimberly': 138, 'Karen': 133, 'Donna': 140, 'Lisa': 143, 'Sarah': 92, 'Jennifer': 97, 'Elizabeth': 88, 'Sandra': 105, 'Betty': 77, 'Emily': 101, 'Rebecca': 73, 'Margaret': 146}\n",
      "noun_dict2 :  {'Brian': 93, 'him': 589, 'William ': 78, 'Mark': 115, 'Michael ': 80, 'George': 159, 'Steven': 110, 'Joshua': 126, 'Ronald': 135, 'John ': 105, 'Richard': 119, 'Jason': 109, 'Joseph': 123, 'James': 91, 'Matthew': 77, 'Timothy': 99, 'Kevin': 121, 'David ': 116, 'Anthony': 141, 'Thomas': 133, 'Andrew': 126, 'Jeffrey': 168, 'Charles': 98, 'Edward': 135, 'Daniel': 147, 'Ryan': 136, 'Donald': 102, 'Christopher': 121, 'Robert ': 78, 'Kenneth': 104, 'Paul': 91}\n",
      "noun_error1 :  {'Betty': 1, 'Linda': 1, 'Deborah': 1}\n",
      "noun_error2 :  {'Robert ': 3}\n"
     ]
    }
   ],
   "source": [
    "#load pickles \n",
    "\n",
    "pred_err_count, fairness_err_count = 0, 0\n",
    "\n",
    "unique_pred_input1_error_set, unique_fairness_input1_error_set = set(), set() \n",
    "retrain_dict = dict()\n",
    "\n",
    "count_dict = [{}, {}, {}, {}, {}, {}, {}, {}]\n",
    "pred_error_dict = [{}, {}, {}, {}, {}, {}, {}, {}]\n",
    "fairness_error_dict = [{}, {}, {}, {}, {}, {}, {}, {}]\n",
    "\n",
    "#bias_pair_count, bias_pair_pred_error, bias_pair_fairness_error = {}, {}, {}\n",
    "\n",
    "bias_pair_count = [{}, {}, {}, {}, {}, {}]\n",
    "bias_pair_pred_error = [{}, {}, {}, {}, {}, {}]\n",
    "bias_pair_fairness_error = [{}, {}, {}, {}, {}, {}]\n",
    "noun_dict1, noun_dict2, noun_error1, noun_error2 = {}, {}, {}, {}\n",
    "\n",
    "c_vals = [noun_dict1, noun_dict2, noun_error1, noun_error2, unique_pred_input1_error_set, pred_err_count, unique_fairness_input1_error_set, fairness_err_count, retrain_dict, pred_error_dict, fairness_error_dict, bias_pair_pred_error, bias_pair_fairness_error]\n",
    "c_names = [\"noun_dict1\", \"noun_dict2\", \"noun_error1\", \"noun_error2\", \"unique_pred_input1_error_set\", \"pred_err_count\", \"unique_fairness_input1_error_set\", \"fairness_err_count\", \"retrain_dict\", \"pred_error_dict\", \"fairness_error_dict\", \"bias_pair_pred_error\", \"bias_pair_fairness_error\"]\n",
    "\n",
    "assert len(c_names) == len(c_vals), \\\n",
    "    \"ERROR: bug in variables names for stored inputs {}, {}\".format(c_names)\n",
    "\n",
    "for i in range(0, len(c_vals)):\n",
    "    store = c_names[i] + \".pickle\"\n",
    "    target = '../Exploration/saved_pickles/exploration/' + mode + '/' + store\n",
    "    if os.path.exists(target):\n",
    "        if os.path.getsize(target) > 0:\n",
    "#             print(os.path.getsize(target))\n",
    "#             print(os.path.exists(target))\n",
    "            with open('../Exploration/saved_pickles/exploration/' + mode + '/' + store, 'rb') as handle:\n",
    "                c_vals[i] = pickle.load(handle)\n",
    "                if i <4:\n",
    "                    print(c_names[i], \": \", c_vals[i])\n",
    "#         else:\n",
    "#             print(\"ERROR {} is empty\".format(target))\n",
    "#     else:\n",
    "#         print(\"ERROR {} does not exist\".format(target))"
   ]
  },
  {
   "cell_type": "code",
   "execution_count": 67,
   "metadata": {},
   "outputs": [],
   "source": [
    "noun_dict1 = c_vals[0]\n",
    "noun_dict2 = c_vals[1]\n",
    "noun_error1 =  c_vals[2]\n",
    "noun_error2 =  c_vals[3]"
   ]
  },
  {
   "cell_type": "code",
   "execution_count": 68,
   "metadata": {},
   "outputs": [],
   "source": [
    "noun_dict1.pop('her', None)\n",
    "noun_error1.pop('her', None)\n",
    "noun_dict2.pop('him', None)\n",
    "noun_error2.pop('him', None)"
   ]
  },
  {
   "cell_type": "code",
   "execution_count": 69,
   "metadata": {},
   "outputs": [
    {
     "name": "stdout",
     "output_type": "stream",
     "text": [
      "noun_error1: {'Betty': 1, 'Linda': 1, 'Deborah': 1}\n",
      "noun_dict1: {'Deborah': 123, 'Sharon': 141, 'Jessica': 116, 'Patricia': 116, 'Michelle': 158, 'Barbara': 103, 'Dorothy ': 159, 'Nancy': 97, 'Amanda': 130, 'Susan': 114, 'Mary': 93, 'Cynthia': 66, 'Linda': 137, 'Laura': 93, 'Melissa': 84, 'Ashley': 142, 'Stephanie': 134, 'Carol': 139, 'Kimberly': 138, 'Karen': 133, 'Donna': 140, 'Lisa': 143, 'Sarah': 92, 'Jennifer': 97, 'Elizabeth': 88, 'Sandra': 105, 'Betty': 77, 'Emily': 101, 'Rebecca': 73, 'Margaret': 146}\n",
      "noun_error2: {'Robert ': 3}\n",
      "noun_dict2: {'Brian': 93, 'William ': 78, 'Mark': 115, 'Michael ': 80, 'George': 159, 'Steven': 110, 'Joshua': 126, 'Ronald': 135, 'John ': 105, 'Richard': 119, 'Jason': 109, 'Joseph': 123, 'James': 91, 'Matthew': 77, 'Timothy': 99, 'Kevin': 121, 'David ': 116, 'Anthony': 141, 'Thomas': 133, 'Andrew': 126, 'Jeffrey': 168, 'Charles': 98, 'Edward': 135, 'Daniel': 147, 'Ryan': 136, 'Donald': 102, 'Christopher': 121, 'Robert ': 78, 'Kenneth': 104, 'Paul': 91}\n"
     ]
    }
   ],
   "source": [
    "print(\"noun_error1: {}\".format(noun_error1))\n",
    "print(\"noun_dict1: {}\".format(noun_dict1))\n",
    "print(\"noun_error2: {}\".format(noun_error2))\n",
    "print(\"noun_dict2: {}\".format(noun_dict2))"
   ]
  },
  {
   "cell_type": "code",
   "execution_count": 70,
   "metadata": {
    "scrolled": true
   },
   "outputs": [
    {
     "name": "stdout",
     "output_type": "stream",
     "text": [
      "ITERATION:  5000\n",
      "Unique PREDICTION errors: 630\n",
      "Unique FAIRNESS errors: 13\n",
      "Unique length of retrain_dict: 13\n",
      "Unique input1s: 600\n",
      "Unique input2s: 240\n",
      "Unique input pairs: 840\n",
      "--------------------\n",
      "ITERATION:  10000\n",
      "Unique PREDICTION errors: 630\n",
      "Unique FAIRNESS errors: 13\n",
      "Unique length of retrain_dict: 13\n",
      "Unique input1s: 600\n",
      "Unique input2s: 240\n",
      "Unique input pairs: 840\n",
      "--------------------\n",
      "ITERATION:  15000\n",
      "Unique PREDICTION errors: 630\n",
      "Unique FAIRNESS errors: 13\n",
      "Unique length of retrain_dict: 13\n",
      "Unique input1s: 600\n",
      "Unique input2s: 240\n",
      "Unique input pairs: 840\n",
      "--------------------\n",
      "ITERATION:  20000\n",
      "Unique PREDICTION errors: 630\n",
      "Unique FAIRNESS errors: 13\n",
      "Unique length of retrain_dict: 13\n",
      "Unique input1s: 600\n",
      "Unique input2s: 240\n",
      "Unique input pairs: 840\n",
      "--------------------\n",
      "ITERATION:  25000\n",
      "Unique PREDICTION errors: 630\n",
      "Unique FAIRNESS errors: 13\n",
      "Unique length of retrain_dict: 13\n",
      "Unique input1s: 600\n",
      "Unique input2s: 240\n",
      "Unique input pairs: 840\n",
      "--------------------\n",
      "pred_err_count:  157320\n",
      "pred_error_rate:  0.7491428571428571\n",
      "********************\n",
      "fairness_err_count:  5239\n",
      "fairness_error_rate:  0.02494761904761905\n",
      "********************\n",
      "Final Unique input1s: 600\n",
      "Final Unique input2s: 240\n",
      "Final Unique input pairs: 840\n",
      "********************\n",
      "Final Unique PREDICTION errors: 630\n",
      "Final Unique FAIRNESS violations: 13\n",
      "Final length of retrain_dict: 13\n",
      "********************\n",
      "noun_dict1:  {'Deborah': 51382, 'Sharon': 141, 'Jessica': 116, 'Patricia': 116, 'Michelle': 158, 'Barbara': 103, 'Dorothy ': 159, 'Nancy': 97, 'Amanda': 130, 'Susan': 114, 'Mary': 93, 'Cynthia': 66, 'Linda': 46023, 'Laura': 93, 'Melissa': 84, 'Ashley': 142, 'Stephanie': 134, 'Carol': 139, 'Kimberly': 138, 'Karen': 133, 'Donna': 140, 'Lisa': 143, 'Sarah': 92, 'Jennifer': 97, 'Elizabeth': 88, 'Sandra': 105, 'Betty': 82756, 'Emily': 101, 'Rebecca': 73, 'Margaret': 146, 'her': 30176}\n",
      "noun_dict2:  {'Brian': 93, 'William ': 78, 'Mark': 115, 'Michael ': 80, 'George': 159, 'Steven': 110, 'Joshua': 126, 'Ronald': 135, 'John ': 105, 'Richard': 119, 'Jason': 109, 'Joseph': 123, 'James': 91, 'Matthew': 77, 'Timothy': 99, 'Kevin': 121, 'David ': 116, 'Anthony': 141, 'Thomas': 133, 'Andrew': 126, 'Jeffrey': 168, 'Charles': 98, 'Edward': 135, 'Daniel': 147, 'Ryan': 136, 'Donald': 102, 'Christopher': 121, 'Robert ': 179950, 'Kenneth': 104, 'Paul': 91, 'him': 30128}\n",
      "noun_error1:  {'Betty': 2198, 'Linda': 1250, 'Deborah': 1423, 'her': 371}\n",
      "noun_error2:  {'Robert ': 5242}\n"
     ]
    }
   ],
   "source": [
    "generate_tests_probabilistically(noun_choice, ITERS, max_input_gen_threshold, mode, noun_error1, noun_error2, noun_dict1, noun_dict2)"
   ]
  },
  {
   "cell_type": "markdown",
   "metadata": {},
   "source": [
    "### E. Test for   for Indirect Racial Bias, i.e. Name Bias"
   ]
  },
  {
   "cell_type": "code",
   "execution_count": 71,
   "metadata": {},
   "outputs": [],
   "source": [
    "noun_choice =  5 #Noun /Pronoun"
   ]
  },
  {
   "cell_type": "code",
   "execution_count": 72,
   "metadata": {},
   "outputs": [],
   "source": [
    "err_count = 0\n",
    "ITERS = 30000\n",
    "num_iter = 5000 \n",
    "max_input_gen_threshold =  3000\n",
    "mode = \"rnn2-padding/racial-name-noun\""
   ]
  },
  {
   "cell_type": "code",
   "execution_count": 73,
   "metadata": {},
   "outputs": [
    {
     "name": "stdout",
     "output_type": "stream",
     "text": [
      "noun_dict1 :  {'Josh': 156, 'Melanie': 166, 'Courtney': 200, 'her': 766, 'Amanda': 225, 'Ellen': 195, 'Heather': 185, 'Stephanie': 269, 'Adam': 155, 'Roger': 145, 'Harry': 167, 'Katie': 148, 'Nancy': 198, 'Betsy': 161, 'Andrew': 124, 'Kristin': 206, 'Ryan': 137, 'Justin': 177, 'Alan': 222, 'Frank': 151, 'Jack': 162}\n",
      "noun_dict2 :  {'Jamel': 193, 'him': 592, 'Darnell': 178, 'Terrence': 155, 'Leroy': 155, 'Alphonse': 154, 'Tanisha': 251, 'Shaniqua': 239, 'Jerome': 148, 'Tia': 196, 'Ebony': 203, 'Jasmine': 183, 'Malik': 125, 'Nichelle': 188, 'Torrance': 188, 'Shereen': 137, 'Latisha': 215, 'Alonzo': 180, 'Lakisha': 185, 'Lamar': 127, 'Latoya': 138}\n",
      "noun_error1 :  {'Amanda': 1, 'Ellen': 1, 'Katie': 2, 'Stephanie': 2, 'Heather': 1, 'her': 1, 'Kristin': 3, 'Harry': 1, 'Courtney': 1, 'Jack': 1, 'Frank': 1}\n",
      "noun_error2 :  {'Alphonse': 2, 'Lamar': 9, 'Alonzo': 3}\n"
     ]
    }
   ],
   "source": [
    "#load pickles \n",
    "\n",
    "pred_err_count, fairness_err_count = 0, 0\n",
    "\n",
    "unique_pred_input1_error_set, unique_fairness_input1_error_set = set(), set() \n",
    "retrain_dict = dict()\n",
    "\n",
    "count_dict = [{}, {}, {}, {}, {}, {}, {}, {}]\n",
    "pred_error_dict = [{}, {}, {}, {}, {}, {}, {}, {}]\n",
    "fairness_error_dict = [{}, {}, {}, {}, {}, {}, {}, {}]\n",
    "\n",
    "#bias_pair_count, bias_pair_pred_error, bias_pair_fairness_error = {}, {}, {}\n",
    "\n",
    "bias_pair_count = [{}, {}, {}, {}, {}, {}]\n",
    "bias_pair_pred_error = [{}, {}, {}, {}, {}, {}]\n",
    "bias_pair_fairness_error = [{}, {}, {}, {}, {}, {}]\n",
    "noun_dict1, noun_dict2, noun_error1, noun_error2 = {}, {}, {}, {}\n",
    "\n",
    "c_vals = [noun_dict1, noun_dict2, noun_error1, noun_error2, unique_pred_input1_error_set, pred_err_count, unique_fairness_input1_error_set, fairness_err_count, retrain_dict, pred_error_dict, fairness_error_dict, bias_pair_pred_error, bias_pair_fairness_error]\n",
    "c_names = [\"noun_dict1\", \"noun_dict2\", \"noun_error1\", \"noun_error2\", \"unique_pred_input1_error_set\", \"pred_err_count\", \"unique_fairness_input1_error_set\", \"fairness_err_count\", \"retrain_dict\", \"pred_error_dict\", \"fairness_error_dict\", \"bias_pair_pred_error\", \"bias_pair_fairness_error\"]\n",
    "\n",
    "assert len(c_names) == len(c_vals), \\\n",
    "    \"ERROR: bug in variables names for stored inputs {}, {}\".format(c_names)\n",
    "\n",
    "for i in range(0, len(c_vals)):\n",
    "    store = c_names[i] + \".pickle\"\n",
    "    target = '../Exploration/saved_pickles/exploration/' + mode + '/' + store\n",
    "    if os.path.exists(target):\n",
    "        if os.path.getsize(target) > 0:\n",
    "#             print(os.path.getsize(target))\n",
    "#             print(os.path.exists(target))\n",
    "            with open('../Exploration/saved_pickles/exploration/' + mode + '/' + store, 'rb') as handle:\n",
    "                c_vals[i] = pickle.load(handle)\n",
    "                if i <4:\n",
    "                    print(c_names[i], \": \", c_vals[i])\n",
    "#         else:\n",
    "#             print(\"ERROR {} is empty\".format(target))\n",
    "#     else:\n",
    "#         print(\"ERROR {} does not exist\".format(target))"
   ]
  },
  {
   "cell_type": "code",
   "execution_count": 74,
   "metadata": {},
   "outputs": [],
   "source": [
    "noun_dict1 = c_vals[0]\n",
    "noun_dict2 = c_vals[1]\n",
    "noun_error1 =  c_vals[2]\n",
    "noun_error2 =  c_vals[3]"
   ]
  },
  {
   "cell_type": "code",
   "execution_count": 75,
   "metadata": {},
   "outputs": [],
   "source": [
    "noun_dict1.pop('her', None)\n",
    "noun_error1.pop('her', None)\n",
    "noun_dict2.pop('him', None)\n",
    "noun_error2.pop('him', None)"
   ]
  },
  {
   "cell_type": "code",
   "execution_count": 76,
   "metadata": {},
   "outputs": [
    {
     "name": "stdout",
     "output_type": "stream",
     "text": [
      "noun_error1: {'Amanda': 1, 'Ellen': 1, 'Katie': 2, 'Stephanie': 2, 'Heather': 1, 'Kristin': 3, 'Harry': 1, 'Courtney': 1, 'Jack': 1, 'Frank': 1}\n",
      "noun_dict1: {'Josh': 156, 'Melanie': 166, 'Courtney': 200, 'Amanda': 225, 'Ellen': 195, 'Heather': 185, 'Stephanie': 269, 'Adam': 155, 'Roger': 145, 'Harry': 167, 'Katie': 148, 'Nancy': 198, 'Betsy': 161, 'Andrew': 124, 'Kristin': 206, 'Ryan': 137, 'Justin': 177, 'Alan': 222, 'Frank': 151, 'Jack': 162}\n",
      "noun_error2: {'Alphonse': 2, 'Lamar': 9, 'Alonzo': 3}\n",
      "noun_dict2: {'Jamel': 193, 'Darnell': 178, 'Terrence': 155, 'Leroy': 155, 'Alphonse': 154, 'Tanisha': 251, 'Shaniqua': 239, 'Jerome': 148, 'Tia': 196, 'Ebony': 203, 'Jasmine': 183, 'Malik': 125, 'Nichelle': 188, 'Torrance': 188, 'Shereen': 137, 'Latisha': 215, 'Alonzo': 180, 'Lakisha': 185, 'Lamar': 127, 'Latoya': 138}\n"
     ]
    }
   ],
   "source": [
    "print(\"noun_error1: {}\".format(noun_error1))\n",
    "print(\"noun_dict1: {}\".format(noun_dict1))\n",
    "print(\"noun_error2: {}\".format(noun_error2))\n",
    "print(\"noun_dict2: {}\".format(noun_dict2))"
   ]
  },
  {
   "cell_type": "code",
   "execution_count": 77,
   "metadata": {},
   "outputs": [
    {
     "name": "stdout",
     "output_type": "stream",
     "text": [
      "Maximum input generation threshold reached, 3002 unique inputs generated\n",
      "pred_err_count:  7102\n",
      "pred_error_rate:  0.03381904761904762\n",
      "********************\n",
      "fairness_err_count:  378\n",
      "fairness_error_rate:  0.0018\n",
      "********************\n",
      "Final Unique input1s: 1599\n",
      "Final Unique input2s: 586\n",
      "Final Unique input pairs: 3002\n",
      "********************\n",
      "Final Unique PREDICTION errors: 2252\n",
      "Final Unique FAIRNESS violations: 102\n",
      "Final length of retrain_dict: 60\n",
      "********************\n",
      "noun_dict1:  {'Josh': 156, 'Melanie': 166, 'Courtney': 697, 'Amanda': 732, 'Ellen': 679, 'Heather': 800, 'Stephanie': 1010, 'Adam': 155, 'Roger': 145, 'Harry': 809, 'Katie': 1638, 'Nancy': 198, 'Betsy': 161, 'Andrew': 124, 'Kristin': 1873, 'Ryan': 137, 'Justin': 177, 'Alan': 222, 'Frank': 877, 'Jack': 847, 'her': 1934}\n",
      "noun_dict2:  {'Jamel': 193, 'Darnell': 178, 'Terrence': 155, 'Leroy': 155, 'Alphonse': 1159, 'Tanisha': 251, 'Shaniqua': 239, 'Jerome': 148, 'Tia': 196, 'Ebony': 203, 'Jasmine': 183, 'Malik': 125, 'Nichelle': 188, 'Torrance': 188, 'Shereen': 137, 'Latisha': 215, 'Alonzo': 1513, 'Lakisha': 185, 'Lamar': 5858, 'Latoya': 138, 'him': 1304}\n",
      "noun_error1:  {'Amanda': 37, 'Ellen': 19, 'Katie': 72, 'Stephanie': 36, 'Heather': 23, 'Kristin': 72, 'Harry': 38, 'Courtney': 29, 'Jack': 28, 'Frank': 38, 'her': 22}\n",
      "noun_error2:  {'Alphonse': 37, 'Lamar': 317, 'Alonzo': 38}\n"
     ]
    }
   ],
   "source": [
    "generate_tests_probabilistically(noun_choice, ITERS, max_input_gen_threshold, mode, noun_error1, noun_error2, noun_dict1, noun_dict2)"
   ]
  },
  {
   "cell_type": "markdown",
   "metadata": {},
   "source": [
    "### F. Test for Neutral (Sentiment) Sentences"
   ]
  },
  {
   "cell_type": "code",
   "execution_count": 97,
   "metadata": {},
   "outputs": [],
   "source": [
    "err_count = 0\n",
    "ITERS = 30000\n",
    "num_iter = 5000 \n",
    "max_input_gen_threshold =  3000\n",
    "mode = \"rnn2-padding/neutral-sentiments\""
   ]
  },
  {
   "cell_type": "code",
   "execution_count": 98,
   "metadata": {},
   "outputs": [
    {
     "name": "stdout",
     "output_type": "stream",
     "text": [
      "noun_dict1 :  {'my aunt': 18750, 'this girl': 18825, 'this woman': 18843, 'She': 19125, 'my daughter': 19080, 'my sister': 19326, 'my girlfriend': 18954, 'my mother': 18759, 'her': 19014, 'my wife': 19296, 'my mom': 9042, 'the tailor': 147, 'the the librarian': 147, 'the housekeeper': 111, 'the clerk': 96, 'the attendant': 90, 'the secretary': 123, 'the the nurse': 102, 'the nurse': 99, 'the editor': 90, 'the counselor': 132, 'the cashier': 117, 'the librarian': 117, 'the baker': 69, 'the the paralegal': 117, 'the auditor': 87, 'the assistant': 138, 'the teacher': 255, 'the designer': 159, 'the writer': 129, 'the receptionist': 126, 'the hairdresser': 99, 'the cleaner': 93}\n",
      "noun_dict2 :  {'my uncle': 18798, 'this boy': 19023, 'this man': 19077, 'He': 19122, 'my son': 19080, 'my brother': 19164, 'my boyfriend': 18972, 'my father': 18810, 'my husband': 18909, 'my dad': 9045, 'the supervisor': 114, 'the cook': 99, 'the driver': 129, 'the analyst': 147, 'the janitor': 84, 'the sheriff': 114, 'the physician': 123, 'the mechanic': 117, 'the chief': 105, 'the farmer': 111, 'the laborer': 96, 'the mover': 129, 'the guard': 117, 'the CEO': 129, 'the developer': 105, 'the construction worker': 159, 'the salesperson': 126, 'the lawyer': 105, 'the engineer': 111, 'the manager': 102, 'the carpenter': 120, 'the technician': 111, 'the accountant': 90}\n",
      "noun_error1 :  {}\n",
      "noun_error2 :  {}\n"
     ]
    }
   ],
   "source": [
    "#load pickles \n",
    "\n",
    "pred_err_count, fairness_err_count = 0, 0\n",
    "\n",
    "unique_pred_input1_error_set, unique_fairness_input1_error_set = set(), set() \n",
    "retrain_dict = dict()\n",
    "\n",
    "count_dict = [{}, {}, {}, {}, {}, {}, {}, {}]\n",
    "pred_error_dict = [{}, {}, {}, {}, {}, {}, {}, {}]\n",
    "fairness_error_dict = [{}, {}, {}, {}, {}, {}, {}, {}]\n",
    "\n",
    "#bias_pair_count, bias_pair_pred_error, bias_pair_fairness_error = {}, {}, {}\n",
    "\n",
    "bias_pair_count = [{}, {}, {}, {}, {}, {}]\n",
    "bias_pair_pred_error = [{}, {}, {}, {}, {}, {}]\n",
    "bias_pair_fairness_error = [{}, {}, {}, {}, {}, {}]\n",
    "noun_dict1, noun_dict2, noun_error1, noun_error2 = {}, {}, {}, {}\n",
    "\n",
    "c_vals = [noun_dict1, noun_dict2, noun_error1, noun_error2, unique_pred_input1_error_set, pred_err_count, unique_fairness_input1_error_set, fairness_err_count, retrain_dict, pred_error_dict, fairness_error_dict, bias_pair_pred_error, bias_pair_fairness_error]\n",
    "c_names = [\"noun_dict1\", \"noun_dict2\", \"noun_error1\", \"noun_error2\", \"unique_pred_input1_error_set\", \"pred_err_count\", \"unique_fairness_input1_error_set\", \"fairness_err_count\", \"retrain_dict\", \"pred_error_dict\", \"fairness_error_dict\", \"bias_pair_pred_error\", \"bias_pair_fairness_error\"]\n",
    "\n",
    "assert len(c_names) == len(c_vals), \\\n",
    "    \"ERROR: bug in variables names for stored inputs {}, {}\".format(c_names)\n",
    "\n",
    "for i in range(0, len(c_vals)):\n",
    "    store = c_names[i] + \".pickle\"\n",
    "    target = '../Exploration/saved_pickles/exploration/' + mode + '/' + store\n",
    "    if os.path.exists(target):\n",
    "        if os.path.getsize(target) > 0:\n",
    "#             print(os.path.getsize(target))\n",
    "#             print(os.path.exists(target))\n",
    "            with open('../Exploration/saved_pickles/exploration/' + mode + '/' + store, 'rb') as handle:\n",
    "                c_vals[i] = pickle.load(handle)\n",
    "                if i <4:\n",
    "                    print(c_names[i], \": \", c_vals[i])\n",
    "#         else:\n",
    "#             print(\"ERROR {} is empty\".format(target))\n",
    "#     else:\n",
    "#         print(\"ERROR {} does not exist\".format(target))"
   ]
  },
  {
   "cell_type": "code",
   "execution_count": 99,
   "metadata": {},
   "outputs": [],
   "source": [
    "noun_dict1 = c_vals[0]\n",
    "noun_dict2 = c_vals[1]\n",
    "noun_error1 =  c_vals[2]\n",
    "noun_error2 =  c_vals[3]"
   ]
  },
  {
   "cell_type": "code",
   "execution_count": 100,
   "metadata": {},
   "outputs": [],
   "source": [
    "noun_dict1.pop('her', None)\n",
    "noun_error1.pop('her', None)\n",
    "noun_dict2.pop('him', None)\n",
    "noun_error2.pop('him', None)"
   ]
  },
  {
   "cell_type": "code",
   "execution_count": 101,
   "metadata": {},
   "outputs": [
    {
     "name": "stdout",
     "output_type": "stream",
     "text": [
      "noun_error1: {}\n",
      "noun_dict1: {'my aunt': 18750, 'this girl': 18825, 'this woman': 18843, 'She': 19125, 'my daughter': 19080, 'my sister': 19326, 'my girlfriend': 18954, 'my mother': 18759, 'my wife': 19296, 'my mom': 9042, 'the tailor': 147, 'the the librarian': 147, 'the housekeeper': 111, 'the clerk': 96, 'the attendant': 90, 'the secretary': 123, 'the the nurse': 102, 'the nurse': 99, 'the editor': 90, 'the counselor': 132, 'the cashier': 117, 'the librarian': 117, 'the baker': 69, 'the the paralegal': 117, 'the auditor': 87, 'the assistant': 138, 'the teacher': 255, 'the designer': 159, 'the writer': 129, 'the receptionist': 126, 'the hairdresser': 99, 'the cleaner': 93}\n",
      "noun_error2: {}\n",
      "noun_dict2: {'my uncle': 18798, 'this boy': 19023, 'this man': 19077, 'He': 19122, 'my son': 19080, 'my brother': 19164, 'my boyfriend': 18972, 'my father': 18810, 'my husband': 18909, 'my dad': 9045, 'the supervisor': 114, 'the cook': 99, 'the driver': 129, 'the analyst': 147, 'the janitor': 84, 'the sheriff': 114, 'the physician': 123, 'the mechanic': 117, 'the chief': 105, 'the farmer': 111, 'the laborer': 96, 'the mover': 129, 'the guard': 117, 'the CEO': 129, 'the developer': 105, 'the construction worker': 159, 'the salesperson': 126, 'the lawyer': 105, 'the engineer': 111, 'the manager': 102, 'the carpenter': 120, 'the technician': 111, 'the accountant': 90}\n"
     ]
    }
   ],
   "source": [
    "print(\"noun_error1: {}\".format(noun_error1))\n",
    "print(\"noun_dict1: {}\".format(noun_dict1))\n",
    "print(\"noun_error2: {}\".format(noun_error2))\n",
    "print(\"noun_dict2: {}\".format(noun_dict2))"
   ]
  },
  {
   "cell_type": "code",
   "execution_count": 102,
   "metadata": {},
   "outputs": [
    {
     "name": "stdout",
     "output_type": "stream",
     "text": [
      "ITERATION:  5000\n",
      "Unique PREDICTION errors: 810\n",
      "Unique FAIRNESS errors: 0\n",
      "Unique length of retrain_dict: 0\n",
      "Unique input1s: 90\n",
      "Unique input2s: 90\n",
      "Unique input pairs: 810\n",
      "--------------------\n",
      "ITERATION:  10000\n",
      "Unique PREDICTION errors: 810\n",
      "Unique FAIRNESS errors: 0\n",
      "Unique length of retrain_dict: 0\n",
      "Unique input1s: 90\n",
      "Unique input2s: 90\n",
      "Unique input pairs: 810\n",
      "--------------------\n",
      "ITERATION:  15000\n",
      "Unique PREDICTION errors: 810\n",
      "Unique FAIRNESS errors: 0\n",
      "Unique length of retrain_dict: 0\n",
      "Unique input1s: 90\n",
      "Unique input2s: 90\n",
      "Unique input pairs: 810\n",
      "--------------------\n",
      "ITERATION:  20000\n",
      "Unique PREDICTION errors: 810\n",
      "Unique FAIRNESS errors: 0\n",
      "Unique length of retrain_dict: 0\n",
      "Unique input1s: 90\n",
      "Unique input2s: 90\n",
      "Unique input pairs: 810\n",
      "--------------------\n",
      "ITERATION:  25000\n",
      "Unique PREDICTION errors: 810\n",
      "Unique FAIRNESS errors: 0\n",
      "Unique length of retrain_dict: 0\n",
      "Unique input1s: 90\n",
      "Unique input2s: 90\n",
      "Unique input pairs: 810\n",
      "--------------------\n",
      "ITERATION:  5000\n",
      "Unique PREDICTION errors: 1000\n",
      "Unique FAIRNESS errors: 0\n",
      "Unique length of retrain_dict: 0\n",
      "Unique input1s: 100\n",
      "Unique input2s: 100\n",
      "Unique input pairs: 1000\n",
      "--------------------\n",
      "ITERATION:  10000\n",
      "Unique PREDICTION errors: 1000\n",
      "Unique FAIRNESS errors: 0\n",
      "Unique length of retrain_dict: 0\n",
      "Unique input1s: 100\n",
      "Unique input2s: 100\n",
      "Unique input pairs: 1000\n",
      "--------------------\n",
      "ITERATION:  15000\n",
      "Unique PREDICTION errors: 1000\n",
      "Unique FAIRNESS errors: 0\n",
      "Unique length of retrain_dict: 0\n",
      "Unique input1s: 100\n",
      "Unique input2s: 100\n",
      "Unique input pairs: 1000\n",
      "--------------------\n",
      "ITERATION:  20000\n",
      "Unique PREDICTION errors: 1000\n",
      "Unique FAIRNESS errors: 0\n",
      "Unique length of retrain_dict: 0\n",
      "Unique input1s: 100\n",
      "Unique input2s: 100\n",
      "Unique input pairs: 1000\n",
      "--------------------\n",
      "ITERATION:  25000\n",
      "Unique PREDICTION errors: 1000\n",
      "Unique FAIRNESS errors: 0\n",
      "Unique length of retrain_dict: 0\n",
      "Unique input1s: 100\n",
      "Unique input2s: 100\n",
      "Unique input pairs: 1000\n",
      "--------------------\n",
      "Maximum input generation threshold reached, 3000 unique inputs generated\n",
      "Maximum input generation threshold reached, 3000 unique inputs generated\n",
      "pred_err_count:  3000\n",
      "pred_error_rate:  0.014285714285714285\n",
      "********************\n",
      "fairness_err_count:  0\n",
      "fairness_error_rate:  0.0\n",
      "********************\n",
      "Final Unique input1s: 320\n",
      "Final Unique input2s: 330\n",
      "Final Unique input pairs: 3000\n",
      "********************\n",
      "Final Unique PREDICTION errors: 3000\n",
      "Final Unique FAIRNESS violations: 0\n",
      "Final length of retrain_dict: 0\n",
      "********************\n",
      "noun_dict1:  {'my aunt': 18850, 'this girl': 18925, 'this woman': 18943, 'She': 19225, 'my daughter': 19180, 'my sister': 19426, 'my girlfriend': 19054, 'my mother': 18859, 'my wife': 19396, 'my mom': 9142, 'the tailor': 243, 'the the librarian': 238, 'the housekeeper': 190, 'the clerk': 190, 'the attendant': 170, 'the secretary': 225, 'the the nurse': 188, 'the nurse': 171, 'the editor': 168, 'the counselor': 207, 'the cashier': 187, 'the librarian': 233, 'the baker': 160, 'the the paralegal': 205, 'the auditor': 175, 'the assistant': 228, 'the teacher': 414, 'the designer': 245, 'the writer': 240, 'the receptionist': 208, 'the hairdresser': 184, 'the cleaner': 174, 'her': 259}\n",
      "noun_dict2:  {'my uncle': 18898, 'this boy': 19123, 'this man': 19177, 'He': 19222, 'my son': 19180, 'my brother': 19264, 'my boyfriend': 19072, 'my father': 18910, 'my husband': 19009, 'my dad': 9145, 'the supervisor': 178, 'the cook': 201, 'the driver': 218, 'the analyst': 238, 'the janitor': 182, 'the sheriff': 214, 'the physician': 217, 'the mechanic': 216, 'the chief': 201, 'the farmer': 188, 'the laborer': 185, 'the mover': 205, 'the guard': 205, 'the CEO': 207, 'the developer': 188, 'the construction worker': 236, 'the salesperson': 212, 'the lawyer': 185, 'the engineer': 195, 'the manager': 188, 'the carpenter': 197, 'the technician': 212, 'the accountant': 175}\n",
      "noun_error1:  {}\n",
      "noun_error2:  {}\n"
     ]
    }
   ],
   "source": [
    "generate_neutral_tests_probabilistically(noun_choice, ITERS, max_input_gen_threshold, mode, noun_error1, noun_error2, noun_dict1, noun_dict2)"
   ]
  },
  {
   "cell_type": "code",
   "execution_count": null,
   "metadata": {},
   "outputs": [],
   "source": []
  },
  {
   "cell_type": "code",
   "execution_count": null,
   "metadata": {},
   "outputs": [],
   "source": []
  }
 ],
 "metadata": {
  "kernelspec": {
   "display_name": "Python 3",
   "language": "python",
   "name": "python3"
  },
  "language_info": {
   "codemirror_mode": {
    "name": "ipython",
    "version": 3
   },
   "file_extension": ".py",
   "mimetype": "text/x-python",
   "name": "python",
   "nbconvert_exporter": "python",
   "pygments_lexer": "ipython3",
   "version": "3.8.5"
  }
 },
 "nbformat": 4,
 "nbformat_minor": 4
}
