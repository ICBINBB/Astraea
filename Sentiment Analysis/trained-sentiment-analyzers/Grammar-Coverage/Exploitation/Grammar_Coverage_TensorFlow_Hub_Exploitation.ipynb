{
 "cells": [
  {
   "cell_type": "markdown",
   "metadata": {},
   "source": [
    "# Grammar Coverage for Tensor Flow Hub Text Classifier for Sentiment Analyzer Exploitation"
   ]
  },
  {
   "cell_type": "code",
   "execution_count": 1,
   "metadata": {},
   "outputs": [],
   "source": [
    "import random, pickle"
   ]
  },
  {
   "cell_type": "markdown",
   "metadata": {},
   "source": [
    "## Schema (based on EEC)"
   ]
  },
  {
   "cell_type": "code",
   "execution_count": 2,
   "metadata": {},
   "outputs": [],
   "source": [
    "verb_list_p1 = ['feels', 'feel', 'made me feel', 'was'] \n",
    "verb_list_p2 = ['saw', 'found himself/herself in a', 'told us all about the recent', 'talked to', 'goes to'] "
   ]
  },
  {
   "cell_type": "code",
   "execution_count": 3,
   "metadata": {},
   "outputs": [],
   "source": [
    "verb_list = ['is' , 'was', 'talked to', 'goes to', 'feels', \\\n",
    "             'feel', 'made me feel', 'found himself/herself in', \\\n",
    "             'told us all about the recent']"
   ]
  },
  {
   "cell_type": "code",
   "execution_count": 4,
   "metadata": {},
   "outputs": [],
   "source": [
    "person_female = ['this woman','this girl','my sister','my daughter', 'my wife',\\\n",
    "                 'my girlfriend', 'my mother', 'my aunt', 'my mom']"
   ]
  },
  {
   "cell_type": "code",
   "execution_count": 5,
   "metadata": {},
   "outputs": [],
   "source": [
    "person_male = ['this man', 'this boy', 'my brother', 'my son', 'my husband', \\\n",
    "               'my boyfriend', 'my father', 'my uncle', 'my dad']"
   ]
  },
  {
   "cell_type": "code",
   "execution_count": 6,
   "metadata": {},
   "outputs": [
    {
     "name": "stdout",
     "output_type": "stream",
     "text": [
      "set()\n"
     ]
    }
   ],
   "source": [
    "print(set(person_male).intersection(set(person_female)))"
   ]
  },
  {
   "cell_type": "code",
   "execution_count": 7,
   "metadata": {},
   "outputs": [],
   "source": [
    "assert(len(set(person_male).intersection(set(person_female))) == 0), \\\n",
    "    \"ERROR not a disjoint set\""
   ]
  },
  {
   "cell_type": "code",
   "execution_count": 8,
   "metadata": {},
   "outputs": [],
   "source": [
    "subj_pronoun_female = [\"She\"]\n",
    "subj_pronoun_male = [\"He\"]"
   ]
  },
  {
   "cell_type": "code",
   "execution_count": 9,
   "metadata": {},
   "outputs": [],
   "source": [
    "obj_pronoun_female = [\"her\"]\n",
    "obj_pronoun_male = [\"him\"]"
   ]
  },
  {
   "cell_type": "code",
   "execution_count": 10,
   "metadata": {},
   "outputs": [],
   "source": [
    "occupations_male_biased = ['the supervisor','the janitor','the cook','the mover','the laborer','the construction worker','the chief','the developer','the carpenter','the manager','the lawyer','the farmer','the driver','the salesperson','the physician','the guard','the analyst','the mechanic','the sheriff','the CEO','the technician','the accountant','the engineer']"
   ]
  },
  {
   "cell_type": "code",
   "execution_count": 11,
   "metadata": {},
   "outputs": [],
   "source": [
    "occupations_female_biased = ['the cashier','the teacher','the nurse','the assistant','the secretary','the auditor','the cleaner','the receptionist','the clerk','the counselor','the designer','the hairdresser','the attendant','the writer','the housekeeper','the baker','the editor','the librarian','the tailor','the teacher','the the librarian','the the nurse','the the paralegal']"
   ]
  },
  {
   "cell_type": "code",
   "execution_count": 12,
   "metadata": {},
   "outputs": [
    {
     "data": {
      "text/plain": [
       "23"
      ]
     },
     "execution_count": 12,
     "metadata": {},
     "output_type": "execute_result"
    }
   ],
   "source": [
    "len(occupations_male_biased)"
   ]
  },
  {
   "cell_type": "code",
   "execution_count": 13,
   "metadata": {},
   "outputs": [
    {
     "data": {
      "text/plain": [
       "23"
      ]
     },
     "execution_count": 13,
     "metadata": {},
     "output_type": "execute_result"
    }
   ],
   "source": [
    "len(occupations_female_biased)"
   ]
  },
  {
   "cell_type": "code",
   "execution_count": 14,
   "metadata": {},
   "outputs": [
    {
     "name": "stdout",
     "output_type": "stream",
     "text": [
      "set()\n"
     ]
    }
   ],
   "source": [
    "print(set(occupations_male_biased).intersection(set(occupations_female_biased)))"
   ]
  },
  {
   "cell_type": "code",
   "execution_count": 15,
   "metadata": {},
   "outputs": [],
   "source": [
    "assert(len(set(occupations_male_biased).intersection(set(occupations_female_biased))) == 0), \"ERROR not a disjoint set\""
   ]
  },
  {
   "cell_type": "code",
   "execution_count": 16,
   "metadata": {},
   "outputs": [],
   "source": [
    "# Top 30 male and female names\n",
    "#Data from (13/07/2020) https://www.ssa.gov/OACT/babynames/decades/century.html\n",
    "female_biased_names = ['Mary', 'Patricia', 'Jennifer', 'Linda', 'Elizabeth', 'Barbara', 'Susan', 'Jessica', \\\n",
    "                        'Sarah', 'Karen', 'Nancy', 'Margaret', 'Lisa', 'Betty', 'Dorothy ', 'Sandra', 'Ashley', \\\n",
    "                       'Kimberly', 'Donna', 'Emily', 'Michelle', 'Carol', 'Amanda', 'Melissa' , 'Deborah', \\\n",
    "                       'Stephanie', 'Rebecca', 'Laura', 'Sharon', 'Cynthia']\n",
    "male_biased_names = ['James', 'John ', 'Robert ', 'Michael ', 'William ', 'David ', 'Richard', 'Joseph', 'Thomas', \\\n",
    "                     'Charles', 'Christopher', 'Daniel', 'Matthew', 'Anthony', 'Donald', 'Mark', 'Paul', 'Steven', \\\n",
    "                     'Andrew', 'Kenneth', 'Joshua', 'George', 'Kevin', 'Brian', 'Edward', 'Ronald', 'Timothy', \\\n",
    "                     'Jason', 'Jeffrey', 'Ryan']"
   ]
  },
  {
   "cell_type": "code",
   "execution_count": 17,
   "metadata": {},
   "outputs": [
    {
     "name": "stdout",
     "output_type": "stream",
     "text": [
      "set()\n"
     ]
    }
   ],
   "source": [
    "print(set(female_biased_names).intersection(set(male_biased_names)))"
   ]
  },
  {
   "cell_type": "code",
   "execution_count": 18,
   "metadata": {},
   "outputs": [],
   "source": [
    "assert(len(set(female_biased_names).intersection(set(male_biased_names))) == 0), \"ERROR not a disjoint set\""
   ]
  },
  {
   "cell_type": "code",
   "execution_count": 19,
   "metadata": {},
   "outputs": [],
   "source": [
    "#Data from EEC\n",
    "African_American_Female_Names = ['Ebony', 'Jasmine', 'Lakisha', 'Latisha', 'Latoya', 'Nichelle', 'Shaniqua', 'Shereen', 'Tanisha', 'Tia']\n",
    "African_American_Male_Names = ['Alonzo', 'Alphonse', 'Darnell', 'Jamel', 'Jerome', 'Lamar', 'Leroy', 'Malik', 'Terrence', 'Torrance']\n",
    "European_American_Female_Names = ['Amanda', 'Betsy', 'Courtney', 'Ellen', 'Heather', 'Katie', 'Kristin', 'Melanie', 'Nancy', 'Stephanie']\n",
    "European_American_Male_Names = ['Adam', 'Alan', 'Andrew', 'Frank', 'Harry', 'Jack', 'Josh', 'Justin', 'Roger', 'Ryan']\n"
   ]
  },
  {
   "cell_type": "code",
   "execution_count": 20,
   "metadata": {},
   "outputs": [],
   "source": [
    "gen_male_names = European_American_Male_Names + African_American_Male_Names\n",
    "gen_female_names = European_American_Female_Names + African_American_Female_Names"
   ]
  },
  {
   "cell_type": "code",
   "execution_count": 21,
   "metadata": {},
   "outputs": [
    {
     "name": "stdout",
     "output_type": "stream",
     "text": [
      "set()\n"
     ]
    }
   ],
   "source": [
    "print(set(gen_male_names).intersection(set(gen_female_names)))"
   ]
  },
  {
   "cell_type": "code",
   "execution_count": 22,
   "metadata": {},
   "outputs": [],
   "source": [
    "assert(len(set(gen_male_names).intersection(set(gen_female_names))) == 0), \"ERROR not a disjoint set\""
   ]
  },
  {
   "cell_type": "code",
   "execution_count": 23,
   "metadata": {},
   "outputs": [],
   "source": [
    "african_american_names = African_American_Female_Names + African_American_Male_Names\n",
    "european_american_names = European_American_Female_Names + European_American_Male_Names"
   ]
  },
  {
   "cell_type": "code",
   "execution_count": 24,
   "metadata": {},
   "outputs": [
    {
     "name": "stdout",
     "output_type": "stream",
     "text": [
      "set()\n"
     ]
    }
   ],
   "source": [
    "print(set(african_american_names).intersection(set(european_american_names)))"
   ]
  },
  {
   "cell_type": "code",
   "execution_count": 25,
   "metadata": {},
   "outputs": [],
   "source": [
    "assert(len(set(african_american_names).intersection(set(european_american_names))) == 0), \"ERROR not a disjoint set\""
   ]
  },
  {
   "cell_type": "code",
   "execution_count": 26,
   "metadata": {},
   "outputs": [],
   "source": [
    "subj_person_male_all = subj_pronoun_male + person_male # + occupations_male_biased\n",
    "subj_person_female_all = subj_pronoun_female + person_female # + occupations_female_biased"
   ]
  },
  {
   "cell_type": "code",
   "execution_count": 27,
   "metadata": {},
   "outputs": [
    {
     "name": "stdout",
     "output_type": "stream",
     "text": [
      "set()\n"
     ]
    }
   ],
   "source": [
    "print(set(subj_person_male_all).intersection(set(subj_person_female_all)))"
   ]
  },
  {
   "cell_type": "code",
   "execution_count": 28,
   "metadata": {},
   "outputs": [],
   "source": [
    "assert(len(set(subj_person_male_all).intersection(set(subj_person_female_all))) == 0), \"ERROR not a disjoint set\""
   ]
  },
  {
   "cell_type": "code",
   "execution_count": 29,
   "metadata": {},
   "outputs": [],
   "source": [
    "obj_person_male = obj_pronoun_male + person_male\n",
    "obj_person_female = obj_pronoun_female + person_female"
   ]
  },
  {
   "cell_type": "code",
   "execution_count": 30,
   "metadata": {
    "scrolled": true
   },
   "outputs": [
    {
     "name": "stdout",
     "output_type": "stream",
     "text": [
      "set()\n"
     ]
    }
   ],
   "source": [
    "print(set(obj_person_male).intersection(set(obj_person_female)))"
   ]
  },
  {
   "cell_type": "code",
   "execution_count": 31,
   "metadata": {},
   "outputs": [],
   "source": [
    "assert(len(set(obj_person_male).intersection(set(obj_person_female))) == 0), \"ERROR not a disjoint set\""
   ]
  },
  {
   "cell_type": "code",
   "execution_count": 32,
   "metadata": {},
   "outputs": [],
   "source": [
    "emotional_states = [\"angry\", \"anxious\", \"ecstatic\", \"depressed\", \"annoyed\", \"discouraged\",\\\n",
    "                   \"excited\", \"devastated\", \"enraged\", \"fearful\", \"glad\", \"disappointed\",\\\n",
    "                   \"furious\", \"scared\", \"happy\", \"miserable\", \"irritated\", \"terrified\",\\\n",
    "                   \"relieved\", \"sad\"]"
   ]
  },
  {
   "cell_type": "code",
   "execution_count": 33,
   "metadata": {},
   "outputs": [],
   "source": [
    "positive_emotional_states = [\"ecstatic\", \"excited\", \"glad\", \"happy\", \"relieved\"]\n",
    "\n",
    "negative_emotional_states = [\"angry\", \"anxious\",\"depressed\", \"annoyed\", \"discouraged\",\\\n",
    "                             \"devastated\", \"enraged\", \"fearful\", \"disappointed\",\\\n",
    "                             \"furious\", \"scared\", \"miserable\", \"irritated\", \"terrified\", \"sad\"]"
   ]
  },
  {
   "cell_type": "code",
   "execution_count": 34,
   "metadata": {},
   "outputs": [
    {
     "name": "stdout",
     "output_type": "stream",
     "text": [
      "set()\n"
     ]
    }
   ],
   "source": [
    "print(set(positive_emotional_states).intersection(set(negative_emotional_states)))"
   ]
  },
  {
   "cell_type": "code",
   "execution_count": 35,
   "metadata": {},
   "outputs": [],
   "source": [
    "assert(len(set(positive_emotional_states).intersection(set(negative_emotional_states))) == 0), \"ERROR not a disjoint set\""
   ]
  },
  {
   "cell_type": "code",
   "execution_count": 36,
   "metadata": {},
   "outputs": [],
   "source": [
    "emotional_situations = [\"annoying\", \"dreadful\", \"amazing\", \"depressing\", \\\n",
    "                       \"displeasing\", \"horrible\", \"funny\", \"gloomy\", \\\n",
    "                       \"irritating\", \"shocking\", \"great\", \"grim\", \\\n",
    "                       \"outrageous\", \"terrifying\", \"hilarious\", \"heartbreaking\", \\\n",
    "                       \"vexing\", \"threatening\", \"wonderful\", \"serious\"]"
   ]
  },
  {
   "cell_type": "code",
   "execution_count": 37,
   "metadata": {},
   "outputs": [],
   "source": [
    "positive_emotional_situations = [\"amazing\", \"funny\", \"great\", \"hilarious\",\"wonderful\"]\n",
    "\n",
    "negative_emotional_situations = [\"annoying\", \"dreadful\", \"depressing\", \"displeasing\", \"horrible\",\\\n",
    "                                \"gloomy\", \"irritating\", \"shocking\", \"grim\", \"outrageous\", \"terrifying\", \"heartbreaking\",\\\n",
    "                                \"vexing\",  \"threatening\", \"serious\"]"
   ]
  },
  {
   "cell_type": "code",
   "execution_count": 38,
   "metadata": {},
   "outputs": [
    {
     "name": "stdout",
     "output_type": "stream",
     "text": [
      "set()\n"
     ]
    }
   ],
   "source": [
    "print(set(positive_emotional_situations).intersection(set(negative_emotional_situations)))"
   ]
  },
  {
   "cell_type": "code",
   "execution_count": 39,
   "metadata": {},
   "outputs": [],
   "source": [
    "assert(len(set(positive_emotional_situations).intersection(set(negative_emotional_situations))) == 0), \"ERROR not a disjoint set\""
   ]
  },
  {
   "cell_type": "code",
   "execution_count": 40,
   "metadata": {},
   "outputs": [],
   "source": [
    "neutral_subjs = [\"I made\", \"The situation makes\", \"The conversation with\"]\n",
    "verb_feel_list = [\"feel\", \"made me feel\", \"found himself/herself in a/an\", \"told us all about the recent\", \"was\", \\\n",
    "                  \"found herself in a/an\", \"found himself in a/an\"]\n",
    "end_noun = ['situation', 'events']"
   ]
  },
  {
   "cell_type": "code",
   "execution_count": 41,
   "metadata": {},
   "outputs": [],
   "source": [
    "neutral_pronoun = [\"I\", \"me\"]\n",
    "neutral_sent_verb = [\"saw\", \"talked to\"]\n",
    "end_sentence = [\"in the market\", \"yesterday\", \"goes to the school in our neighborhood\", \"has two children\"]"
   ]
  },
  {
   "cell_type": "markdown",
   "metadata": {},
   "source": [
    "### Constants, Functions and Utils"
   ]
  },
  {
   "cell_type": "code",
   "execution_count": 42,
   "metadata": {},
   "outputs": [],
   "source": [
    "tokens = verb_list_p1 + verb_list_p2 + verb_list + person_female + person_male + subj_pronoun_female + subj_pronoun_male + obj_pronoun_female + obj_pronoun_male + occupations_male_biased + occupations_female_biased + female_biased_names + male_biased_names + African_American_Female_Names + African_American_Male_Names + European_American_Female_Names + European_American_Male_Names + gen_male_names + gen_female_names + african_american_names + european_american_names + subj_person_male_all + subj_person_female_all + obj_person_male +  obj_person_female + emotional_states + positive_emotional_states + negative_emotional_states + emotional_situations + positive_emotional_situations + negative_emotional_situations + neutral_subjs + verb_feel_list + end_noun + neutral_pronoun + neutral_sent_verb + end_sentence "
   ]
  },
  {
   "cell_type": "code",
   "execution_count": 43,
   "metadata": {},
   "outputs": [],
   "source": [
    "all_nodes = set(tokens)"
   ]
  },
  {
   "cell_type": "code",
   "execution_count": 44,
   "metadata": {},
   "outputs": [
    {
     "data": {
      "text/plain": [
       "227"
      ]
     },
     "execution_count": 44,
     "metadata": {},
     "output_type": "execute_result"
    }
   ],
   "source": [
    "len(set(all_nodes))"
   ]
  },
  {
   "cell_type": "code",
   "execution_count": 45,
   "metadata": {},
   "outputs": [],
   "source": [
    "def subj_choice(choice):\n",
    "    if choice == 0:\n",
    "        subj_person_male = subj_person_male_all\n",
    "        subj_person_female = subj_person_female_all\n",
    "    elif choice == 1:\n",
    "        subj_person_male = subj_person_male_all\n",
    "        subj_person_female = subj_person_female_all\n",
    "    elif choice == 2:\n",
    "        subj_person_male = occupations_male_biased\n",
    "        subj_person_female = occupations_female_biased\n",
    "    elif choice == 3:\n",
    "        subj_person_male = male_biased_names\n",
    "        subj_person_female = female_biased_names\n",
    "    elif choice == 4:\n",
    "        subj_person_male = gen_male_names\n",
    "        subj_person_female = gen_female_names\n",
    "    elif choice == 5:\n",
    "        subj_person_male = african_american_names\n",
    "        subj_person_female = european_american_names\n",
    "    \n",
    "    return subj_person_male, subj_person_female"
   ]
  },
  {
   "cell_type": "code",
   "execution_count": 46,
   "metadata": {},
   "outputs": [],
   "source": [
    "all_covered_pairs, all_covered_nodes = set(), set()"
   ]
  },
  {
   "cell_type": "code",
   "execution_count": 47,
   "metadata": {},
   "outputs": [],
   "source": [
    "all_pairs = set()"
   ]
  },
  {
   "cell_type": "markdown",
   "metadata": {},
   "source": [
    "### Compute Coverage for Inputs generated in each Test Configuration"
   ]
  },
  {
   "cell_type": "code",
   "execution_count": 48,
   "metadata": {},
   "outputs": [],
   "source": [
    "subject = \"hub\""
   ]
  },
  {
   "cell_type": "markdown",
   "metadata": {},
   "source": [
    "### A. Direct gender noun comparisons (e.g. My boyfriend/My girlfriend)"
   ]
  },
  {
   "cell_type": "code",
   "execution_count": 49,
   "metadata": {},
   "outputs": [],
   "source": [
    "noun_choice =  0 #Noun /Pronoun"
   ]
  },
  {
   "cell_type": "markdown",
   "metadata": {},
   "source": [
    "#### Compute Terminal Node (or input tokens) Coverage"
   ]
  },
  {
   "cell_type": "code",
   "execution_count": 50,
   "metadata": {},
   "outputs": [],
   "source": [
    "test_strategy = \"exploitation\"\n",
    "mode = \"direct-gender-noun\"\n",
    "start_dir = \"/Users/ezekiel.soremekun/Documents/Coref-Fairness-Test-Generation/Ezekiel-Testbed/trained-sentiment-analyzers/Exploitation/saved_pickles/\" +  test_strategy + \"/\" + subject + \"/\" + mode + \"/\""
   ]
  },
  {
   "cell_type": "code",
   "execution_count": 51,
   "metadata": {},
   "outputs": [],
   "source": [
    "generated_input1_path = start_dir + \"unique_input1_set.pickle\"\n",
    "generated_input2_path = start_dir + \"unique_input2_set.pickle\"\n",
    "generated_input_pairs_path = start_dir + \"unique_input_pair_set.pickle\""
   ]
  },
  {
   "cell_type": "code",
   "execution_count": 52,
   "metadata": {},
   "outputs": [],
   "source": [
    "generated_input1, generated_input2, generated_input_pairs = None, None, None"
   ]
  },
  {
   "cell_type": "code",
   "execution_count": 53,
   "metadata": {},
   "outputs": [],
   "source": [
    "with open(generated_input1_path, 'rb') as handle:\n",
    "    generated_input1 = pickle.load(handle)"
   ]
  },
  {
   "cell_type": "code",
   "execution_count": 54,
   "metadata": {},
   "outputs": [],
   "source": [
    "with open(generated_input2_path, 'rb') as handle:\n",
    "    generated_input2 = pickle.load(handle)"
   ]
  },
  {
   "cell_type": "code",
   "execution_count": 55,
   "metadata": {},
   "outputs": [],
   "source": [
    "with open(generated_input_pairs_path, 'rb') as handle:\n",
    "    generated_input_pairs = pickle.load(handle)"
   ]
  },
  {
   "cell_type": "code",
   "execution_count": 56,
   "metadata": {},
   "outputs": [
    {
     "data": {
      "text/plain": [
       "1165"
      ]
     },
     "execution_count": 56,
     "metadata": {},
     "output_type": "execute_result"
    }
   ],
   "source": [
    "len(generated_input1)"
   ]
  },
  {
   "cell_type": "code",
   "execution_count": 57,
   "metadata": {},
   "outputs": [
    {
     "name": "stdout",
     "output_type": "stream",
     "text": [
      "The conversation with this woman was gloomy.\n"
     ]
    }
   ],
   "source": [
    "for i in generated_input1:\n",
    "    print(i)\n",
    "    break"
   ]
  },
  {
   "cell_type": "code",
   "execution_count": 58,
   "metadata": {},
   "outputs": [],
   "source": [
    "gen_nodes_1 = set()"
   ]
  },
  {
   "cell_type": "code",
   "execution_count": 59,
   "metadata": {},
   "outputs": [],
   "source": [
    "#check coverage in input1\n",
    "for sentence in generated_input1:\n",
    "    for node in all_nodes:\n",
    "        if node in sentence:\n",
    "            gen_nodes_1.add(node)"
   ]
  },
  {
   "cell_type": "code",
   "execution_count": 60,
   "metadata": {},
   "outputs": [
    {
     "name": "stdout",
     "output_type": "stream",
     "text": [
      "64\n"
     ]
    }
   ],
   "source": [
    "print(len(gen_nodes_1))"
   ]
  },
  {
   "cell_type": "code",
   "execution_count": 61,
   "metadata": {},
   "outputs": [],
   "source": [
    "# gen_nodes_1"
   ]
  },
  {
   "cell_type": "code",
   "execution_count": 62,
   "metadata": {},
   "outputs": [],
   "source": [
    "gen_nodes_2 = set()"
   ]
  },
  {
   "cell_type": "code",
   "execution_count": 63,
   "metadata": {},
   "outputs": [],
   "source": [
    "#check coverage in input2\n",
    "for sentence in generated_input2:\n",
    "    for node in all_nodes:\n",
    "        if node in sentence:\n",
    "            gen_nodes_2.add(node)"
   ]
  },
  {
   "cell_type": "code",
   "execution_count": 64,
   "metadata": {},
   "outputs": [
    {
     "name": "stdout",
     "output_type": "stream",
     "text": [
      "65\n"
     ]
    }
   ],
   "source": [
    "print(len(gen_nodes_2))"
   ]
  },
  {
   "cell_type": "code",
   "execution_count": 65,
   "metadata": {},
   "outputs": [],
   "source": [
    "all_gen_terminals = gen_nodes_1.union(gen_nodes_2)"
   ]
  },
  {
   "cell_type": "code",
   "execution_count": 66,
   "metadata": {},
   "outputs": [
    {
     "name": "stdout",
     "output_type": "stream",
     "text": [
      "75\n"
     ]
    }
   ],
   "source": [
    "print(len(all_gen_terminals))"
   ]
  },
  {
   "cell_type": "code",
   "execution_count": 67,
   "metadata": {},
   "outputs": [],
   "source": [
    "all_gen_terminals = set(gen_nodes_1.union(gen_nodes_2))"
   ]
  },
  {
   "cell_type": "code",
   "execution_count": 68,
   "metadata": {},
   "outputs": [
    {
     "data": {
      "text/plain": [
       "75"
      ]
     },
     "execution_count": 68,
     "metadata": {},
     "output_type": "execute_result"
    }
   ],
   "source": [
    "len(all_gen_terminals)"
   ]
  },
  {
   "cell_type": "code",
   "execution_count": 69,
   "metadata": {},
   "outputs": [
    {
     "name": "stdout",
     "output_type": "stream",
     "text": [
      "65\n"
     ]
    }
   ],
   "source": [
    "print(len(gen_nodes_2))"
   ]
  },
  {
   "cell_type": "code",
   "execution_count": 70,
   "metadata": {},
   "outputs": [],
   "source": [
    "score = len(all_gen_terminals)/len(all_nodes) * 100"
   ]
  },
  {
   "cell_type": "code",
   "execution_count": 71,
   "metadata": {},
   "outputs": [
    {
     "name": "stdout",
     "output_type": "stream",
     "text": [
      "Terminal Coverage: 33.04%\n"
     ]
    }
   ],
   "source": [
    "print(\"Terminal Coverage: {:.2f}%\".format(score))"
   ]
  },
  {
   "cell_type": "code",
   "execution_count": 72,
   "metadata": {},
   "outputs": [],
   "source": [
    "all_covered_nodes = all_covered_nodes.union(all_gen_terminals)"
   ]
  },
  {
   "cell_type": "markdown",
   "metadata": {},
   "source": [
    "#### Compute Pairwise Sensitive Attribute Coverage"
   ]
  },
  {
   "cell_type": "code",
   "execution_count": 73,
   "metadata": {},
   "outputs": [],
   "source": [
    "subj_person_male, subj_person_female = [], []"
   ]
  },
  {
   "cell_type": "code",
   "execution_count": 74,
   "metadata": {},
   "outputs": [],
   "source": [
    "subj_person_male, subj_person_female = subj_choice(noun_choice)"
   ]
  },
  {
   "cell_type": "code",
   "execution_count": 75,
   "metadata": {},
   "outputs": [
    {
     "data": {
      "text/plain": [
       "['She',\n",
       " 'this woman',\n",
       " 'this girl',\n",
       " 'my sister',\n",
       " 'my daughter',\n",
       " 'my wife',\n",
       " 'my girlfriend',\n",
       " 'my mother',\n",
       " 'my aunt',\n",
       " 'my mom']"
      ]
     },
     "execution_count": 75,
     "metadata": {},
     "output_type": "execute_result"
    }
   ],
   "source": [
    "subj_person_female"
   ]
  },
  {
   "cell_type": "code",
   "execution_count": 76,
   "metadata": {},
   "outputs": [
    {
     "data": {
      "text/plain": [
       "['He',\n",
       " 'this man',\n",
       " 'this boy',\n",
       " 'my brother',\n",
       " 'my son',\n",
       " 'my husband',\n",
       " 'my boyfriend',\n",
       " 'my father',\n",
       " 'my uncle',\n",
       " 'my dad']"
      ]
     },
     "execution_count": 76,
     "metadata": {},
     "output_type": "execute_result"
    }
   ],
   "source": [
    "subj_person_male"
   ]
  },
  {
   "cell_type": "code",
   "execution_count": 77,
   "metadata": {},
   "outputs": [],
   "source": [
    "pairs = []"
   ]
  },
  {
   "cell_type": "code",
   "execution_count": 78,
   "metadata": {},
   "outputs": [],
   "source": [
    "assert(len(subj_person_male) == len(subj_person_female)), \"ERROR length mismatch\"\n",
    "for i in range(max(len(subj_person_male), len(subj_person_female))):\n",
    "    pairs.append((subj_person_male[i],subj_person_female[i]))"
   ]
  },
  {
   "cell_type": "code",
   "execution_count": 79,
   "metadata": {},
   "outputs": [
    {
     "data": {
      "text/plain": [
       "10"
      ]
     },
     "execution_count": 79,
     "metadata": {},
     "output_type": "execute_result"
    }
   ],
   "source": [
    "len(pairs)"
   ]
  },
  {
   "cell_type": "code",
   "execution_count": 80,
   "metadata": {},
   "outputs": [],
   "source": [
    "pairs = set(pairs)"
   ]
  },
  {
   "cell_type": "code",
   "execution_count": 81,
   "metadata": {},
   "outputs": [
    {
     "data": {
      "text/plain": [
       "10"
      ]
     },
     "execution_count": 81,
     "metadata": {},
     "output_type": "execute_result"
    }
   ],
   "source": [
    "len(set(pairs))"
   ]
  },
  {
   "cell_type": "code",
   "execution_count": 82,
   "metadata": {},
   "outputs": [],
   "source": [
    "covered_pairs = set()"
   ]
  },
  {
   "cell_type": "code",
   "execution_count": 83,
   "metadata": {},
   "outputs": [],
   "source": [
    "for sentence_pair in generated_input_pairs:\n",
    "    for combination in pairs:\n",
    "        if ((combination[0] in sentence_pair.split(\";\")[1]) and (combination[1] in sentence_pair.split(\";\")[0])) \\\n",
    "            or ((combination[0] in sentence_pair.split(\";\")[0]) and (combination[1] in sentence_pair.split(\";\")[1])):\n",
    "            covered_pairs.add(combination)"
   ]
  },
  {
   "cell_type": "code",
   "execution_count": 84,
   "metadata": {},
   "outputs": [
    {
     "data": {
      "text/plain": [
       "{('He', 'She'),\n",
       " ('my boyfriend', 'my girlfriend'),\n",
       " ('my brother', 'my sister'),\n",
       " ('my father', 'my mother'),\n",
       " ('my husband', 'my wife'),\n",
       " ('my son', 'my daughter'),\n",
       " ('my uncle', 'my aunt'),\n",
       " ('this boy', 'this girl'),\n",
       " ('this man', 'this woman')}"
      ]
     },
     "execution_count": 84,
     "metadata": {},
     "output_type": "execute_result"
    }
   ],
   "source": [
    "covered_pairs"
   ]
  },
  {
   "cell_type": "code",
   "execution_count": 85,
   "metadata": {},
   "outputs": [
    {
     "data": {
      "text/plain": [
       "9"
      ]
     },
     "execution_count": 85,
     "metadata": {},
     "output_type": "execute_result"
    }
   ],
   "source": [
    "len(covered_pairs)"
   ]
  },
  {
   "cell_type": "code",
   "execution_count": 86,
   "metadata": {},
   "outputs": [],
   "source": [
    "score = len(covered_pairs)/len(pairs) * 100"
   ]
  },
  {
   "cell_type": "code",
   "execution_count": 87,
   "metadata": {},
   "outputs": [
    {
     "name": "stdout",
     "output_type": "stream",
     "text": [
      "Pairwise Coverage: 90.00%\n"
     ]
    }
   ],
   "source": [
    "print(\"Pairwise Coverage: {:.2f}%\".format(score))"
   ]
  },
  {
   "cell_type": "code",
   "execution_count": 88,
   "metadata": {},
   "outputs": [],
   "source": [
    "all_covered_pairs = all_covered_pairs.union(covered_pairs)"
   ]
  },
  {
   "cell_type": "code",
   "execution_count": 89,
   "metadata": {},
   "outputs": [],
   "source": [
    "all_pairs = all_pairs.union(pairs)"
   ]
  },
  {
   "cell_type": "markdown",
   "metadata": {},
   "source": [
    "### B. Random gender noun comparisons (e.g. My boyfriend/My mother)"
   ]
  },
  {
   "cell_type": "markdown",
   "metadata": {},
   "source": [
    "#### Compute Terminal Node (or input tokens) Coverage"
   ]
  },
  {
   "cell_type": "code",
   "execution_count": 90,
   "metadata": {},
   "outputs": [],
   "source": [
    "noun_choice =  1 #Noun /Pronoun"
   ]
  },
  {
   "cell_type": "code",
   "execution_count": 91,
   "metadata": {},
   "outputs": [],
   "source": [
    "test_strategy = \"exploitation\"\n",
    "mode = \"random-gender-noun\"\n",
    "start_dir = \"/Users/ezekiel.soremekun/Documents/Coref-Fairness-Test-Generation/Ezekiel-Testbed/trained-sentiment-analyzers/Exploitation/saved_pickles/\" +  test_strategy + \"/\" + subject + \"/\" + mode + \"/\""
   ]
  },
  {
   "cell_type": "code",
   "execution_count": 92,
   "metadata": {},
   "outputs": [],
   "source": [
    "generated_input1_path = start_dir + \"unique_input1_set.pickle\"\n",
    "generated_input2_path = start_dir + \"unique_input2_set.pickle\"\n",
    "generated_input_pairs_path = start_dir + \"unique_input_pair_set.pickle\""
   ]
  },
  {
   "cell_type": "code",
   "execution_count": 93,
   "metadata": {},
   "outputs": [],
   "source": [
    "generated_input1, generated_input2, generated_input_pairs = None, None, None"
   ]
  },
  {
   "cell_type": "code",
   "execution_count": 94,
   "metadata": {},
   "outputs": [],
   "source": [
    "with open(generated_input1_path, 'rb') as handle:\n",
    "    generated_input1 = pickle.load(handle)"
   ]
  },
  {
   "cell_type": "code",
   "execution_count": 95,
   "metadata": {},
   "outputs": [],
   "source": [
    "with open(generated_input2_path, 'rb') as handle:\n",
    "    generated_input2 = pickle.load(handle)"
   ]
  },
  {
   "cell_type": "code",
   "execution_count": 96,
   "metadata": {},
   "outputs": [],
   "source": [
    "with open(generated_input_pairs_path, 'rb') as handle:\n",
    "    generated_input_pairs = pickle.load(handle)"
   ]
  },
  {
   "cell_type": "code",
   "execution_count": 97,
   "metadata": {},
   "outputs": [
    {
     "data": {
      "text/plain": [
       "1291"
      ]
     },
     "execution_count": 97,
     "metadata": {},
     "output_type": "execute_result"
    }
   ],
   "source": [
    "len(generated_input1)"
   ]
  },
  {
   "cell_type": "code",
   "execution_count": 98,
   "metadata": {},
   "outputs": [
    {
     "name": "stdout",
     "output_type": "stream",
     "text": [
      "The conversation with this woman was amazing.\n"
     ]
    }
   ],
   "source": [
    "for i in generated_input1:\n",
    "    print(i)\n",
    "    break"
   ]
  },
  {
   "cell_type": "code",
   "execution_count": 99,
   "metadata": {},
   "outputs": [],
   "source": [
    "gen_nodes_1 = set()"
   ]
  },
  {
   "cell_type": "code",
   "execution_count": 100,
   "metadata": {},
   "outputs": [],
   "source": [
    "#check coverage in input1\n",
    "for sentence in generated_input1:\n",
    "    for node in all_nodes:\n",
    "        if node in sentence:\n",
    "            gen_nodes_1.add(node)"
   ]
  },
  {
   "cell_type": "code",
   "execution_count": 101,
   "metadata": {},
   "outputs": [
    {
     "name": "stdout",
     "output_type": "stream",
     "text": [
      "65\n"
     ]
    }
   ],
   "source": [
    "print(len(gen_nodes_1))"
   ]
  },
  {
   "cell_type": "code",
   "execution_count": 102,
   "metadata": {},
   "outputs": [],
   "source": [
    "# gen_nodes_1"
   ]
  },
  {
   "cell_type": "code",
   "execution_count": 103,
   "metadata": {},
   "outputs": [],
   "source": [
    "gen_nodes_2 = set()"
   ]
  },
  {
   "cell_type": "code",
   "execution_count": 104,
   "metadata": {},
   "outputs": [],
   "source": [
    "#check coverage in input2\n",
    "for sentence in generated_input2:\n",
    "    for node in all_nodes:\n",
    "        if node in sentence:\n",
    "            gen_nodes_2.add(node)"
   ]
  },
  {
   "cell_type": "code",
   "execution_count": 105,
   "metadata": {},
   "outputs": [
    {
     "name": "stdout",
     "output_type": "stream",
     "text": [
      "66\n"
     ]
    }
   ],
   "source": [
    "print(len(gen_nodes_2))"
   ]
  },
  {
   "cell_type": "code",
   "execution_count": 106,
   "metadata": {},
   "outputs": [],
   "source": [
    "all_gen_terminals = gen_nodes_1.union(gen_nodes_2)"
   ]
  },
  {
   "cell_type": "code",
   "execution_count": 107,
   "metadata": {},
   "outputs": [
    {
     "name": "stdout",
     "output_type": "stream",
     "text": [
      "77\n"
     ]
    }
   ],
   "source": [
    "print(len(all_gen_terminals))"
   ]
  },
  {
   "cell_type": "code",
   "execution_count": 108,
   "metadata": {},
   "outputs": [],
   "source": [
    "all_gen_terminals = set(gen_nodes_1.union(gen_nodes_2))"
   ]
  },
  {
   "cell_type": "code",
   "execution_count": 109,
   "metadata": {},
   "outputs": [
    {
     "data": {
      "text/plain": [
       "77"
      ]
     },
     "execution_count": 109,
     "metadata": {},
     "output_type": "execute_result"
    }
   ],
   "source": [
    "len(all_gen_terminals)"
   ]
  },
  {
   "cell_type": "code",
   "execution_count": 110,
   "metadata": {},
   "outputs": [
    {
     "name": "stdout",
     "output_type": "stream",
     "text": [
      "66\n"
     ]
    }
   ],
   "source": [
    "print(len(gen_nodes_2))"
   ]
  },
  {
   "cell_type": "code",
   "execution_count": 111,
   "metadata": {},
   "outputs": [],
   "source": [
    "score = len(all_gen_terminals)/len(all_nodes) * 100"
   ]
  },
  {
   "cell_type": "code",
   "execution_count": 112,
   "metadata": {},
   "outputs": [
    {
     "name": "stdout",
     "output_type": "stream",
     "text": [
      "Terminal Coverage: 33.92%\n"
     ]
    }
   ],
   "source": [
    "print(\"Terminal Coverage: {:.2f}%\".format(score))"
   ]
  },
  {
   "cell_type": "code",
   "execution_count": 113,
   "metadata": {},
   "outputs": [],
   "source": [
    "all_covered_nodes = all_covered_nodes.union(all_gen_terminals)"
   ]
  },
  {
   "cell_type": "markdown",
   "metadata": {},
   "source": [
    "#### Compute Pairwise Sensitive Attribute Coverage"
   ]
  },
  {
   "cell_type": "code",
   "execution_count": 114,
   "metadata": {},
   "outputs": [],
   "source": [
    "subj_person_male, subj_person_female = [], []"
   ]
  },
  {
   "cell_type": "code",
   "execution_count": 115,
   "metadata": {},
   "outputs": [],
   "source": [
    "subj_person_male, subj_person_female = subj_choice(noun_choice)"
   ]
  },
  {
   "cell_type": "code",
   "execution_count": 116,
   "metadata": {},
   "outputs": [
    {
     "data": {
      "text/plain": [
       "['She',\n",
       " 'this woman',\n",
       " 'this girl',\n",
       " 'my sister',\n",
       " 'my daughter',\n",
       " 'my wife',\n",
       " 'my girlfriend',\n",
       " 'my mother',\n",
       " 'my aunt',\n",
       " 'my mom']"
      ]
     },
     "execution_count": 116,
     "metadata": {},
     "output_type": "execute_result"
    }
   ],
   "source": [
    "subj_person_female"
   ]
  },
  {
   "cell_type": "code",
   "execution_count": 117,
   "metadata": {},
   "outputs": [
    {
     "data": {
      "text/plain": [
       "['He',\n",
       " 'this man',\n",
       " 'this boy',\n",
       " 'my brother',\n",
       " 'my son',\n",
       " 'my husband',\n",
       " 'my boyfriend',\n",
       " 'my father',\n",
       " 'my uncle',\n",
       " 'my dad']"
      ]
     },
     "execution_count": 117,
     "metadata": {},
     "output_type": "execute_result"
    }
   ],
   "source": [
    "subj_person_male"
   ]
  },
  {
   "cell_type": "code",
   "execution_count": 118,
   "metadata": {},
   "outputs": [],
   "source": [
    "pairs = []"
   ]
  },
  {
   "cell_type": "code",
   "execution_count": 119,
   "metadata": {},
   "outputs": [],
   "source": [
    "# assert(len(subj_person_male) == len(subj_person_female)), \"ERROR length mismatch\"\n",
    "# for i in range(max(len(subj_person_male), len(subj_person_female))):\n",
    "#     pairs.append((subj_person_male[i],subj_person_female[i]))"
   ]
  },
  {
   "cell_type": "code",
   "execution_count": 120,
   "metadata": {},
   "outputs": [],
   "source": [
    "assert(len(subj_person_male) == len(subj_person_female)), \"ERROR length mismatch\"\n",
    "for i in subj_person_male:\n",
    "    for j in subj_person_female:\n",
    "        pairs.append((i,j))"
   ]
  },
  {
   "cell_type": "code",
   "execution_count": 121,
   "metadata": {},
   "outputs": [
    {
     "data": {
      "text/plain": [
       "100"
      ]
     },
     "execution_count": 121,
     "metadata": {},
     "output_type": "execute_result"
    }
   ],
   "source": [
    "len(pairs)"
   ]
  },
  {
   "cell_type": "code",
   "execution_count": 122,
   "metadata": {},
   "outputs": [],
   "source": [
    "pairs = set(pairs)"
   ]
  },
  {
   "cell_type": "code",
   "execution_count": 123,
   "metadata": {},
   "outputs": [
    {
     "data": {
      "text/plain": [
       "100"
      ]
     },
     "execution_count": 123,
     "metadata": {},
     "output_type": "execute_result"
    }
   ],
   "source": [
    "len(set(pairs))"
   ]
  },
  {
   "cell_type": "code",
   "execution_count": 124,
   "metadata": {},
   "outputs": [],
   "source": [
    "covered_pairs = set()"
   ]
  },
  {
   "cell_type": "code",
   "execution_count": 125,
   "metadata": {},
   "outputs": [],
   "source": [
    "for sentence_pair in generated_input_pairs:\n",
    "    for combination in pairs:\n",
    "        if ((combination[0] in sentence_pair.split(\";\")[1]) and (combination[1] in sentence_pair.split(\";\")[0])) \\\n",
    "            or ((combination[0] in sentence_pair.split(\";\")[0]) and (combination[1] in sentence_pair.split(\";\")[1])):\n",
    "            covered_pairs.add(combination)"
   ]
  },
  {
   "cell_type": "code",
   "execution_count": 126,
   "metadata": {},
   "outputs": [
    {
     "data": {
      "text/plain": [
       "{('He', 'She'),\n",
       " ('He', 'my aunt'),\n",
       " ('He', 'my daughter'),\n",
       " ('He', 'my girlfriend'),\n",
       " ('He', 'my mom'),\n",
       " ('He', 'my mother'),\n",
       " ('He', 'my sister'),\n",
       " ('He', 'my wife'),\n",
       " ('He', 'this girl'),\n",
       " ('He', 'this woman'),\n",
       " ('my boyfriend', 'She'),\n",
       " ('my boyfriend', 'my aunt'),\n",
       " ('my boyfriend', 'my daughter'),\n",
       " ('my boyfriend', 'my girlfriend'),\n",
       " ('my boyfriend', 'my mom'),\n",
       " ('my boyfriend', 'my mother'),\n",
       " ('my boyfriend', 'my sister'),\n",
       " ('my boyfriend', 'my wife'),\n",
       " ('my boyfriend', 'this girl'),\n",
       " ('my boyfriend', 'this woman'),\n",
       " ('my brother', 'She'),\n",
       " ('my brother', 'my aunt'),\n",
       " ('my brother', 'my daughter'),\n",
       " ('my brother', 'my girlfriend'),\n",
       " ('my brother', 'my mom'),\n",
       " ('my brother', 'my mother'),\n",
       " ('my brother', 'my sister'),\n",
       " ('my brother', 'my wife'),\n",
       " ('my brother', 'this girl'),\n",
       " ('my brother', 'this woman'),\n",
       " ('my dad', 'She'),\n",
       " ('my dad', 'my aunt'),\n",
       " ('my dad', 'my daughter'),\n",
       " ('my dad', 'my girlfriend'),\n",
       " ('my dad', 'my mom'),\n",
       " ('my dad', 'my mother'),\n",
       " ('my dad', 'my sister'),\n",
       " ('my dad', 'my wife'),\n",
       " ('my dad', 'this girl'),\n",
       " ('my dad', 'this woman'),\n",
       " ('my father', 'She'),\n",
       " ('my father', 'my aunt'),\n",
       " ('my father', 'my daughter'),\n",
       " ('my father', 'my girlfriend'),\n",
       " ('my father', 'my mom'),\n",
       " ('my father', 'my mother'),\n",
       " ('my father', 'my sister'),\n",
       " ('my father', 'my wife'),\n",
       " ('my father', 'this girl'),\n",
       " ('my father', 'this woman'),\n",
       " ('my husband', 'She'),\n",
       " ('my husband', 'my aunt'),\n",
       " ('my husband', 'my daughter'),\n",
       " ('my husband', 'my girlfriend'),\n",
       " ('my husband', 'my mom'),\n",
       " ('my husband', 'my mother'),\n",
       " ('my husband', 'my sister'),\n",
       " ('my husband', 'my wife'),\n",
       " ('my husband', 'this girl'),\n",
       " ('my husband', 'this woman'),\n",
       " ('my son', 'She'),\n",
       " ('my son', 'my aunt'),\n",
       " ('my son', 'my daughter'),\n",
       " ('my son', 'my girlfriend'),\n",
       " ('my son', 'my mom'),\n",
       " ('my son', 'my mother'),\n",
       " ('my son', 'my sister'),\n",
       " ('my son', 'my wife'),\n",
       " ('my son', 'this girl'),\n",
       " ('my son', 'this woman'),\n",
       " ('my uncle', 'She'),\n",
       " ('my uncle', 'my aunt'),\n",
       " ('my uncle', 'my daughter'),\n",
       " ('my uncle', 'my girlfriend'),\n",
       " ('my uncle', 'my mom'),\n",
       " ('my uncle', 'my mother'),\n",
       " ('my uncle', 'my sister'),\n",
       " ('my uncle', 'my wife'),\n",
       " ('my uncle', 'this woman'),\n",
       " ('this boy', 'She'),\n",
       " ('this boy', 'my aunt'),\n",
       " ('this boy', 'my daughter'),\n",
       " ('this boy', 'my girlfriend'),\n",
       " ('this boy', 'my mom'),\n",
       " ('this boy', 'my mother'),\n",
       " ('this boy', 'my sister'),\n",
       " ('this boy', 'my wife'),\n",
       " ('this boy', 'this girl'),\n",
       " ('this boy', 'this woman'),\n",
       " ('this man', 'She'),\n",
       " ('this man', 'my aunt'),\n",
       " ('this man', 'my daughter'),\n",
       " ('this man', 'my girlfriend'),\n",
       " ('this man', 'my mom'),\n",
       " ('this man', 'my mother'),\n",
       " ('this man', 'my sister'),\n",
       " ('this man', 'my wife'),\n",
       " ('this man', 'this girl'),\n",
       " ('this man', 'this woman')}"
      ]
     },
     "execution_count": 126,
     "metadata": {},
     "output_type": "execute_result"
    }
   ],
   "source": [
    "covered_pairs"
   ]
  },
  {
   "cell_type": "code",
   "execution_count": 127,
   "metadata": {},
   "outputs": [
    {
     "data": {
      "text/plain": [
       "99"
      ]
     },
     "execution_count": 127,
     "metadata": {},
     "output_type": "execute_result"
    }
   ],
   "source": [
    "len(covered_pairs)"
   ]
  },
  {
   "cell_type": "code",
   "execution_count": 128,
   "metadata": {},
   "outputs": [],
   "source": [
    "score = len(covered_pairs)/len(pairs) * 100"
   ]
  },
  {
   "cell_type": "code",
   "execution_count": 129,
   "metadata": {},
   "outputs": [
    {
     "name": "stdout",
     "output_type": "stream",
     "text": [
      "Pairwise Coverage: 99.00%\n"
     ]
    }
   ],
   "source": [
    "print(\"Pairwise Coverage: {:.2f}%\".format(score))"
   ]
  },
  {
   "cell_type": "code",
   "execution_count": 130,
   "metadata": {},
   "outputs": [],
   "source": [
    "all_covered_pairs =  all_covered_pairs.union(covered_pairs)"
   ]
  },
  {
   "cell_type": "code",
   "execution_count": 131,
   "metadata": {},
   "outputs": [],
   "source": [
    "all_pairs = all_pairs.union(pairs)"
   ]
  },
  {
   "cell_type": "markdown",
   "metadata": {},
   "source": [
    "### C. Test for Indirect Gender Bias, i.e. Occupational Bias"
   ]
  },
  {
   "cell_type": "code",
   "execution_count": 132,
   "metadata": {},
   "outputs": [],
   "source": [
    "noun_choice =  2 #Noun /Pronoun"
   ]
  },
  {
   "cell_type": "code",
   "execution_count": 133,
   "metadata": {},
   "outputs": [],
   "source": [
    "test_strategy = \"exploitation\"\n",
    "mode = \"gender-occupation-noun\"\n",
    "start_dir = \"/Users/ezekiel.soremekun/Documents/Coref-Fairness-Test-Generation/Ezekiel-Testbed/trained-sentiment-analyzers/Exploitation/saved_pickles/\" +  test_strategy + \"/\" + subject + \"/\" + mode + \"/\""
   ]
  },
  {
   "cell_type": "code",
   "execution_count": 134,
   "metadata": {},
   "outputs": [],
   "source": [
    "generated_input1_path = start_dir + \"unique_input1_set.pickle\"\n",
    "generated_input2_path = start_dir + \"unique_input2_set.pickle\"\n",
    "generated_input_pairs_path = start_dir + \"unique_input_pair_set.pickle\""
   ]
  },
  {
   "cell_type": "code",
   "execution_count": 135,
   "metadata": {},
   "outputs": [],
   "source": [
    "generated_input1, generated_input2, generated_input_pairs = None, None, None"
   ]
  },
  {
   "cell_type": "code",
   "execution_count": 136,
   "metadata": {},
   "outputs": [],
   "source": [
    "with open(generated_input1_path, 'rb') as handle:\n",
    "    generated_input1 = pickle.load(handle)"
   ]
  },
  {
   "cell_type": "code",
   "execution_count": 137,
   "metadata": {},
   "outputs": [],
   "source": [
    "with open(generated_input2_path, 'rb') as handle:\n",
    "    generated_input2 = pickle.load(handle)"
   ]
  },
  {
   "cell_type": "code",
   "execution_count": 138,
   "metadata": {},
   "outputs": [],
   "source": [
    "with open(generated_input_pairs_path, 'rb') as handle:\n",
    "    generated_input_pairs = pickle.load(handle)"
   ]
  },
  {
   "cell_type": "code",
   "execution_count": 139,
   "metadata": {},
   "outputs": [
    {
     "data": {
      "text/plain": [
       "1816"
      ]
     },
     "execution_count": 139,
     "metadata": {},
     "output_type": "execute_result"
    }
   ],
   "source": [
    "len(generated_input1)"
   ]
  },
  {
   "cell_type": "code",
   "execution_count": 140,
   "metadata": {},
   "outputs": [
    {
     "name": "stdout",
     "output_type": "stream",
     "text": [
      "the librarian made me feel happy.\n"
     ]
    }
   ],
   "source": [
    "for i in generated_input1:\n",
    "    print(i)\n",
    "    break"
   ]
  },
  {
   "cell_type": "code",
   "execution_count": 141,
   "metadata": {},
   "outputs": [],
   "source": [
    "gen_nodes_1 = set()"
   ]
  },
  {
   "cell_type": "code",
   "execution_count": 142,
   "metadata": {},
   "outputs": [],
   "source": [
    "#check coverage in input1\n",
    "for sentence in generated_input1:\n",
    "    for node in all_nodes:\n",
    "        if node in sentence:\n",
    "            gen_nodes_1.add(node)"
   ]
  },
  {
   "cell_type": "code",
   "execution_count": 143,
   "metadata": {},
   "outputs": [
    {
     "name": "stdout",
     "output_type": "stream",
     "text": [
      "77\n"
     ]
    }
   ],
   "source": [
    "print(len(gen_nodes_1))"
   ]
  },
  {
   "cell_type": "code",
   "execution_count": 144,
   "metadata": {},
   "outputs": [],
   "source": [
    "# gen_nodes_1"
   ]
  },
  {
   "cell_type": "code",
   "execution_count": 145,
   "metadata": {},
   "outputs": [],
   "source": [
    "gen_nodes_2 = set()"
   ]
  },
  {
   "cell_type": "code",
   "execution_count": 146,
   "metadata": {},
   "outputs": [],
   "source": [
    "#check coverage in input2\n",
    "for sentence in generated_input2:\n",
    "    for node in all_nodes:\n",
    "        if node in sentence:\n",
    "            gen_nodes_2.add(node)"
   ]
  },
  {
   "cell_type": "code",
   "execution_count": 147,
   "metadata": {},
   "outputs": [
    {
     "name": "stdout",
     "output_type": "stream",
     "text": [
      "79\n"
     ]
    }
   ],
   "source": [
    "print(len(gen_nodes_2))"
   ]
  },
  {
   "cell_type": "code",
   "execution_count": 148,
   "metadata": {},
   "outputs": [],
   "source": [
    "all_gen_terminals = gen_nodes_1.union(gen_nodes_2)"
   ]
  },
  {
   "cell_type": "code",
   "execution_count": 149,
   "metadata": {},
   "outputs": [
    {
     "name": "stdout",
     "output_type": "stream",
     "text": [
      "102\n"
     ]
    }
   ],
   "source": [
    "print(len(all_gen_terminals))"
   ]
  },
  {
   "cell_type": "code",
   "execution_count": 150,
   "metadata": {},
   "outputs": [],
   "source": [
    "all_gen_terminals = set(gen_nodes_1.union(gen_nodes_2))"
   ]
  },
  {
   "cell_type": "code",
   "execution_count": 151,
   "metadata": {},
   "outputs": [
    {
     "data": {
      "text/plain": [
       "102"
      ]
     },
     "execution_count": 151,
     "metadata": {},
     "output_type": "execute_result"
    }
   ],
   "source": [
    "len(all_gen_terminals)"
   ]
  },
  {
   "cell_type": "code",
   "execution_count": 152,
   "metadata": {},
   "outputs": [
    {
     "name": "stdout",
     "output_type": "stream",
     "text": [
      "79\n"
     ]
    }
   ],
   "source": [
    "print(len(gen_nodes_2))"
   ]
  },
  {
   "cell_type": "code",
   "execution_count": 153,
   "metadata": {},
   "outputs": [],
   "source": [
    "score = len(all_gen_terminals)/len(all_nodes) * 100"
   ]
  },
  {
   "cell_type": "code",
   "execution_count": 154,
   "metadata": {},
   "outputs": [
    {
     "name": "stdout",
     "output_type": "stream",
     "text": [
      "Terminal Coverage: 44.93%\n"
     ]
    }
   ],
   "source": [
    "print(\"Terminal Coverage: {:.2f}%\".format(score))"
   ]
  },
  {
   "cell_type": "code",
   "execution_count": 155,
   "metadata": {},
   "outputs": [],
   "source": [
    "all_covered_nodes = all_covered_nodes.union(all_gen_terminals)"
   ]
  },
  {
   "cell_type": "markdown",
   "metadata": {},
   "source": [
    "#### Compute Pairwise Sensitive Attribute Coverage"
   ]
  },
  {
   "cell_type": "code",
   "execution_count": 156,
   "metadata": {},
   "outputs": [],
   "source": [
    "subj_person_male, subj_person_female = [], []"
   ]
  },
  {
   "cell_type": "code",
   "execution_count": 157,
   "metadata": {},
   "outputs": [],
   "source": [
    "subj_person_male, subj_person_female = subj_choice(noun_choice)"
   ]
  },
  {
   "cell_type": "code",
   "execution_count": 158,
   "metadata": {},
   "outputs": [
    {
     "data": {
      "text/plain": [
       "['the cashier',\n",
       " 'the teacher',\n",
       " 'the nurse',\n",
       " 'the assistant',\n",
       " 'the secretary',\n",
       " 'the auditor',\n",
       " 'the cleaner',\n",
       " 'the receptionist',\n",
       " 'the clerk',\n",
       " 'the counselor',\n",
       " 'the designer',\n",
       " 'the hairdresser',\n",
       " 'the attendant',\n",
       " 'the writer',\n",
       " 'the housekeeper',\n",
       " 'the baker',\n",
       " 'the editor',\n",
       " 'the librarian',\n",
       " 'the tailor',\n",
       " 'the teacher',\n",
       " 'the the librarian',\n",
       " 'the the nurse',\n",
       " 'the the paralegal']"
      ]
     },
     "execution_count": 158,
     "metadata": {},
     "output_type": "execute_result"
    }
   ],
   "source": [
    "subj_person_female"
   ]
  },
  {
   "cell_type": "code",
   "execution_count": 159,
   "metadata": {},
   "outputs": [
    {
     "data": {
      "text/plain": [
       "['the supervisor',\n",
       " 'the janitor',\n",
       " 'the cook',\n",
       " 'the mover',\n",
       " 'the laborer',\n",
       " 'the construction worker',\n",
       " 'the chief',\n",
       " 'the developer',\n",
       " 'the carpenter',\n",
       " 'the manager',\n",
       " 'the lawyer',\n",
       " 'the farmer',\n",
       " 'the driver',\n",
       " 'the salesperson',\n",
       " 'the physician',\n",
       " 'the guard',\n",
       " 'the analyst',\n",
       " 'the mechanic',\n",
       " 'the sheriff',\n",
       " 'the CEO',\n",
       " 'the technician',\n",
       " 'the accountant',\n",
       " 'the engineer']"
      ]
     },
     "execution_count": 159,
     "metadata": {},
     "output_type": "execute_result"
    }
   ],
   "source": [
    "subj_person_male"
   ]
  },
  {
   "cell_type": "code",
   "execution_count": 160,
   "metadata": {},
   "outputs": [],
   "source": [
    "pairs = []"
   ]
  },
  {
   "cell_type": "code",
   "execution_count": 161,
   "metadata": {},
   "outputs": [],
   "source": [
    "# assert(len(subj_person_male) == len(subj_person_female)), \"ERROR length mismatch\"\n",
    "# for i in range(max(len(subj_person_male), len(subj_person_female))):\n",
    "#     pairs.append((subj_person_male[i],subj_person_female[i]))"
   ]
  },
  {
   "cell_type": "code",
   "execution_count": 162,
   "metadata": {},
   "outputs": [],
   "source": [
    "assert(len(subj_person_male) == len(subj_person_female)), \"ERROR length mismatch\"\n",
    "for i in subj_person_male:\n",
    "    for j in subj_person_female:\n",
    "        pairs.append((i,j))"
   ]
  },
  {
   "cell_type": "code",
   "execution_count": 163,
   "metadata": {},
   "outputs": [
    {
     "data": {
      "text/plain": [
       "529"
      ]
     },
     "execution_count": 163,
     "metadata": {},
     "output_type": "execute_result"
    }
   ],
   "source": [
    "len(pairs)"
   ]
  },
  {
   "cell_type": "code",
   "execution_count": 164,
   "metadata": {},
   "outputs": [],
   "source": [
    "pairs = set(pairs)"
   ]
  },
  {
   "cell_type": "code",
   "execution_count": 165,
   "metadata": {},
   "outputs": [
    {
     "data": {
      "text/plain": [
       "506"
      ]
     },
     "execution_count": 165,
     "metadata": {},
     "output_type": "execute_result"
    }
   ],
   "source": [
    "len(set(pairs))"
   ]
  },
  {
   "cell_type": "code",
   "execution_count": 166,
   "metadata": {},
   "outputs": [],
   "source": [
    "covered_pairs = set()"
   ]
  },
  {
   "cell_type": "code",
   "execution_count": 167,
   "metadata": {},
   "outputs": [],
   "source": [
    "for sentence_pair in generated_input_pairs:\n",
    "    for combination in pairs:\n",
    "        if ((combination[0] in sentence_pair.split(\";\")[1]) and (combination[1] in sentence_pair.split(\";\")[0])) \\\n",
    "            or ((combination[0] in sentence_pair.split(\";\")[0]) and (combination[1] in sentence_pair.split(\";\")[1])):\n",
    "            covered_pairs.add(combination)"
   ]
  },
  {
   "cell_type": "code",
   "execution_count": 168,
   "metadata": {},
   "outputs": [
    {
     "data": {
      "text/plain": [
       "{('the CEO', 'the assistant'),\n",
       " ('the CEO', 'the auditor'),\n",
       " ('the CEO', 'the baker'),\n",
       " ('the CEO', 'the cashier'),\n",
       " ('the CEO', 'the cleaner'),\n",
       " ('the CEO', 'the clerk'),\n",
       " ('the CEO', 'the counselor'),\n",
       " ('the CEO', 'the designer'),\n",
       " ('the CEO', 'the housekeeper'),\n",
       " ('the CEO', 'the librarian'),\n",
       " ('the CEO', 'the nurse'),\n",
       " ('the CEO', 'the receptionist'),\n",
       " ('the CEO', 'the secretary'),\n",
       " ('the CEO', 'the tailor'),\n",
       " ('the CEO', 'the teacher'),\n",
       " ('the CEO', 'the the librarian'),\n",
       " ('the CEO', 'the writer'),\n",
       " ('the accountant', 'the attendant'),\n",
       " ('the accountant', 'the auditor'),\n",
       " ('the accountant', 'the cashier'),\n",
       " ('the accountant', 'the cleaner'),\n",
       " ('the accountant', 'the counselor'),\n",
       " ('the accountant', 'the designer'),\n",
       " ('the accountant', 'the editor'),\n",
       " ('the accountant', 'the hairdresser'),\n",
       " ('the accountant', 'the housekeeper'),\n",
       " ('the accountant', 'the librarian'),\n",
       " ('the accountant', 'the nurse'),\n",
       " ('the accountant', 'the receptionist'),\n",
       " ('the accountant', 'the tailor'),\n",
       " ('the accountant', 'the teacher'),\n",
       " ('the accountant', 'the the librarian'),\n",
       " ('the accountant', 'the the nurse'),\n",
       " ('the accountant', 'the writer'),\n",
       " ('the analyst', 'the assistant'),\n",
       " ('the analyst', 'the attendant'),\n",
       " ('the analyst', 'the auditor'),\n",
       " ('the analyst', 'the cashier'),\n",
       " ('the analyst', 'the cleaner'),\n",
       " ('the analyst', 'the clerk'),\n",
       " ('the analyst', 'the counselor'),\n",
       " ('the analyst', 'the editor'),\n",
       " ('the analyst', 'the hairdresser'),\n",
       " ('the analyst', 'the housekeeper'),\n",
       " ('the analyst', 'the librarian'),\n",
       " ('the analyst', 'the nurse'),\n",
       " ('the analyst', 'the tailor'),\n",
       " ('the analyst', 'the teacher'),\n",
       " ('the analyst', 'the the librarian'),\n",
       " ('the analyst', 'the the paralegal'),\n",
       " ('the analyst', 'the writer'),\n",
       " ('the carpenter', 'the assistant'),\n",
       " ('the carpenter', 'the auditor'),\n",
       " ('the carpenter', 'the baker'),\n",
       " ('the carpenter', 'the cleaner'),\n",
       " ('the carpenter', 'the counselor'),\n",
       " ('the carpenter', 'the editor'),\n",
       " ('the carpenter', 'the housekeeper'),\n",
       " ('the carpenter', 'the librarian'),\n",
       " ('the carpenter', 'the nurse'),\n",
       " ('the carpenter', 'the the paralegal'),\n",
       " ('the carpenter', 'the writer'),\n",
       " ('the chief', 'the assistant'),\n",
       " ('the chief', 'the cashier'),\n",
       " ('the chief', 'the cleaner'),\n",
       " ('the chief', 'the clerk'),\n",
       " ('the chief', 'the counselor'),\n",
       " ('the chief', 'the editor'),\n",
       " ('the chief', 'the hairdresser'),\n",
       " ('the chief', 'the librarian'),\n",
       " ('the chief', 'the receptionist'),\n",
       " ('the chief', 'the secretary'),\n",
       " ('the chief', 'the tailor'),\n",
       " ('the chief', 'the teacher'),\n",
       " ('the chief', 'the writer'),\n",
       " ('the construction worker', 'the attendant'),\n",
       " ('the construction worker', 'the baker'),\n",
       " ('the construction worker', 'the cashier'),\n",
       " ('the construction worker', 'the cleaner'),\n",
       " ('the construction worker', 'the counselor'),\n",
       " ('the construction worker', 'the editor'),\n",
       " ('the construction worker', 'the housekeeper'),\n",
       " ('the construction worker', 'the librarian'),\n",
       " ('the construction worker', 'the nurse'),\n",
       " ('the construction worker', 'the tailor'),\n",
       " ('the construction worker', 'the teacher'),\n",
       " ('the construction worker', 'the the librarian'),\n",
       " ('the construction worker', 'the the nurse'),\n",
       " ('the construction worker', 'the writer'),\n",
       " ('the cook', 'the assistant'),\n",
       " ('the cook', 'the attendant'),\n",
       " ('the cook', 'the auditor'),\n",
       " ('the cook', 'the baker'),\n",
       " ('the cook', 'the cashier'),\n",
       " ('the cook', 'the cleaner'),\n",
       " ('the cook', 'the clerk'),\n",
       " ('the cook', 'the counselor'),\n",
       " ('the cook', 'the editor'),\n",
       " ('the cook', 'the housekeeper'),\n",
       " ('the cook', 'the librarian'),\n",
       " ('the cook', 'the nurse'),\n",
       " ('the cook', 'the teacher'),\n",
       " ('the cook', 'the the paralegal'),\n",
       " ('the cook', 'the writer'),\n",
       " ('the developer', 'the auditor'),\n",
       " ('the developer', 'the baker'),\n",
       " ('the developer', 'the cleaner'),\n",
       " ('the developer', 'the clerk'),\n",
       " ('the developer', 'the counselor'),\n",
       " ('the developer', 'the hairdresser'),\n",
       " ('the developer', 'the nurse'),\n",
       " ('the developer', 'the secretary'),\n",
       " ('the developer', 'the tailor'),\n",
       " ('the developer', 'the teacher'),\n",
       " ('the developer', 'the the nurse'),\n",
       " ('the developer', 'the writer'),\n",
       " ('the driver', 'the assistant'),\n",
       " ('the driver', 'the cashier'),\n",
       " ('the driver', 'the cleaner'),\n",
       " ('the driver', 'the counselor'),\n",
       " ('the driver', 'the designer'),\n",
       " ('the driver', 'the editor'),\n",
       " ('the driver', 'the housekeeper'),\n",
       " ('the driver', 'the librarian'),\n",
       " ('the driver', 'the nurse'),\n",
       " ('the driver', 'the the paralegal'),\n",
       " ('the driver', 'the writer'),\n",
       " ('the engineer', 'the attendant'),\n",
       " ('the engineer', 'the auditor'),\n",
       " ('the engineer', 'the baker'),\n",
       " ('the engineer', 'the cashier'),\n",
       " ('the engineer', 'the cleaner'),\n",
       " ('the engineer', 'the counselor'),\n",
       " ('the engineer', 'the designer'),\n",
       " ('the engineer', 'the editor'),\n",
       " ('the engineer', 'the hairdresser'),\n",
       " ('the engineer', 'the housekeeper'),\n",
       " ('the engineer', 'the librarian'),\n",
       " ('the engineer', 'the nurse'),\n",
       " ('the engineer', 'the receptionist'),\n",
       " ('the engineer', 'the secretary'),\n",
       " ('the engineer', 'the teacher'),\n",
       " ('the engineer', 'the the librarian'),\n",
       " ('the engineer', 'the the nurse'),\n",
       " ('the engineer', 'the the paralegal'),\n",
       " ('the engineer', 'the writer'),\n",
       " ('the farmer', 'the assistant'),\n",
       " ('the farmer', 'the attendant'),\n",
       " ('the farmer', 'the auditor'),\n",
       " ('the farmer', 'the cashier'),\n",
       " ('the farmer', 'the cleaner'),\n",
       " ('the farmer', 'the clerk'),\n",
       " ('the farmer', 'the counselor'),\n",
       " ('the farmer', 'the designer'),\n",
       " ('the farmer', 'the hairdresser'),\n",
       " ('the farmer', 'the housekeeper'),\n",
       " ('the farmer', 'the nurse'),\n",
       " ('the farmer', 'the receptionist'),\n",
       " ('the farmer', 'the secretary'),\n",
       " ('the farmer', 'the tailor'),\n",
       " ('the farmer', 'the teacher'),\n",
       " ('the farmer', 'the the paralegal'),\n",
       " ('the farmer', 'the writer'),\n",
       " ('the guard', 'the assistant'),\n",
       " ('the guard', 'the auditor'),\n",
       " ('the guard', 'the cashier'),\n",
       " ('the guard', 'the cleaner'),\n",
       " ('the guard', 'the clerk'),\n",
       " ('the guard', 'the counselor'),\n",
       " ('the guard', 'the editor'),\n",
       " ('the guard', 'the hairdresser'),\n",
       " ('the guard', 'the librarian'),\n",
       " ('the guard', 'the nurse'),\n",
       " ('the guard', 'the tailor'),\n",
       " ('the guard', 'the teacher'),\n",
       " ('the guard', 'the the librarian'),\n",
       " ('the guard', 'the the nurse'),\n",
       " ('the guard', 'the the paralegal'),\n",
       " ('the guard', 'the writer'),\n",
       " ('the janitor', 'the assistant'),\n",
       " ('the janitor', 'the baker'),\n",
       " ('the janitor', 'the cashier'),\n",
       " ('the janitor', 'the cleaner'),\n",
       " ('the janitor', 'the counselor'),\n",
       " ('the janitor', 'the housekeeper'),\n",
       " ('the janitor', 'the nurse'),\n",
       " ('the janitor', 'the tailor'),\n",
       " ('the janitor', 'the the nurse'),\n",
       " ('the janitor', 'the the paralegal'),\n",
       " ('the janitor', 'the writer'),\n",
       " ('the laborer', 'the assistant'),\n",
       " ('the laborer', 'the auditor'),\n",
       " ('the laborer', 'the clerk'),\n",
       " ('the laborer', 'the counselor'),\n",
       " ('the laborer', 'the designer'),\n",
       " ('the laborer', 'the editor'),\n",
       " ('the laborer', 'the librarian'),\n",
       " ('the laborer', 'the nurse'),\n",
       " ('the laborer', 'the receptionist'),\n",
       " ('the laborer', 'the secretary'),\n",
       " ('the laborer', 'the tailor'),\n",
       " ('the laborer', 'the teacher'),\n",
       " ('the laborer', 'the the librarian'),\n",
       " ('the laborer', 'the the paralegal'),\n",
       " ('the laborer', 'the writer'),\n",
       " ('the lawyer', 'the assistant'),\n",
       " ('the lawyer', 'the attendant'),\n",
       " ('the lawyer', 'the auditor'),\n",
       " ('the lawyer', 'the cleaner'),\n",
       " ('the lawyer', 'the clerk'),\n",
       " ('the lawyer', 'the counselor'),\n",
       " ('the lawyer', 'the designer'),\n",
       " ('the lawyer', 'the editor'),\n",
       " ('the lawyer', 'the hairdresser'),\n",
       " ('the lawyer', 'the librarian'),\n",
       " ('the lawyer', 'the teacher'),\n",
       " ('the lawyer', 'the the paralegal'),\n",
       " ('the lawyer', 'the writer'),\n",
       " ('the manager', 'the attendant'),\n",
       " ('the manager', 'the baker'),\n",
       " ('the manager', 'the cleaner'),\n",
       " ('the manager', 'the designer'),\n",
       " ('the manager', 'the editor'),\n",
       " ('the manager', 'the hairdresser'),\n",
       " ('the manager', 'the librarian'),\n",
       " ('the manager', 'the nurse'),\n",
       " ('the manager', 'the receptionist'),\n",
       " ('the manager', 'the secretary'),\n",
       " ('the manager', 'the tailor'),\n",
       " ('the manager', 'the the librarian'),\n",
       " ('the manager', 'the writer'),\n",
       " ('the mechanic', 'the assistant'),\n",
       " ('the mechanic', 'the attendant'),\n",
       " ('the mechanic', 'the auditor'),\n",
       " ('the mechanic', 'the baker'),\n",
       " ('the mechanic', 'the cashier'),\n",
       " ('the mechanic', 'the cleaner'),\n",
       " ('the mechanic', 'the clerk'),\n",
       " ('the mechanic', 'the counselor'),\n",
       " ('the mechanic', 'the designer'),\n",
       " ('the mechanic', 'the editor'),\n",
       " ('the mechanic', 'the hairdresser'),\n",
       " ('the mechanic', 'the housekeeper'),\n",
       " ('the mechanic', 'the librarian'),\n",
       " ('the mechanic', 'the nurse'),\n",
       " ('the mechanic', 'the secretary'),\n",
       " ('the mechanic', 'the tailor'),\n",
       " ('the mechanic', 'the teacher'),\n",
       " ('the mechanic', 'the the librarian'),\n",
       " ('the mechanic', 'the the nurse'),\n",
       " ('the mechanic', 'the the paralegal'),\n",
       " ('the mechanic', 'the writer'),\n",
       " ('the mover', 'the auditor'),\n",
       " ('the mover', 'the cleaner'),\n",
       " ('the mover', 'the nurse'),\n",
       " ('the mover', 'the secretary'),\n",
       " ('the mover', 'the teacher'),\n",
       " ('the mover', 'the the nurse'),\n",
       " ('the mover', 'the writer'),\n",
       " ('the physician', 'the attendant'),\n",
       " ('the physician', 'the auditor'),\n",
       " ('the physician', 'the cashier'),\n",
       " ('the physician', 'the cleaner'),\n",
       " ('the physician', 'the housekeeper'),\n",
       " ('the physician', 'the nurse'),\n",
       " ('the physician', 'the receptionist'),\n",
       " ('the physician', 'the the nurse'),\n",
       " ('the physician', 'the writer'),\n",
       " ('the salesperson', 'the attendant'),\n",
       " ('the salesperson', 'the auditor'),\n",
       " ('the salesperson', 'the baker'),\n",
       " ('the salesperson', 'the cashier'),\n",
       " ('the salesperson', 'the cleaner'),\n",
       " ('the salesperson', 'the clerk'),\n",
       " ('the salesperson', 'the counselor'),\n",
       " ('the salesperson', 'the designer'),\n",
       " ('the salesperson', 'the editor'),\n",
       " ('the salesperson', 'the hairdresser'),\n",
       " ('the salesperson', 'the housekeeper'),\n",
       " ('the salesperson', 'the librarian'),\n",
       " ('the salesperson', 'the nurse'),\n",
       " ('the salesperson', 'the secretary'),\n",
       " ('the salesperson', 'the tailor'),\n",
       " ('the salesperson', 'the teacher'),\n",
       " ('the salesperson', 'the the nurse'),\n",
       " ('the salesperson', 'the the paralegal'),\n",
       " ('the salesperson', 'the writer'),\n",
       " ('the sheriff', 'the auditor'),\n",
       " ('the sheriff', 'the cleaner'),\n",
       " ('the sheriff', 'the clerk'),\n",
       " ('the sheriff', 'the counselor'),\n",
       " ('the sheriff', 'the editor'),\n",
       " ('the sheriff', 'the housekeeper'),\n",
       " ('the sheriff', 'the nurse'),\n",
       " ('the sheriff', 'the the nurse'),\n",
       " ('the supervisor', 'the attendant'),\n",
       " ('the supervisor', 'the auditor'),\n",
       " ('the supervisor', 'the baker'),\n",
       " ('the supervisor', 'the cleaner'),\n",
       " ('the supervisor', 'the counselor'),\n",
       " ('the supervisor', 'the editor'),\n",
       " ('the supervisor', 'the hairdresser'),\n",
       " ('the supervisor', 'the nurse'),\n",
       " ('the supervisor', 'the secretary'),\n",
       " ('the supervisor', 'the teacher'),\n",
       " ('the supervisor', 'the the nurse'),\n",
       " ('the supervisor', 'the the paralegal'),\n",
       " ('the supervisor', 'the writer'),\n",
       " ('the technician', 'the assistant'),\n",
       " ('the technician', 'the auditor'),\n",
       " ('the technician', 'the baker'),\n",
       " ('the technician', 'the cleaner'),\n",
       " ('the technician', 'the clerk'),\n",
       " ('the technician', 'the counselor'),\n",
       " ('the technician', 'the designer'),\n",
       " ('the technician', 'the editor'),\n",
       " ('the technician', 'the librarian'),\n",
       " ('the technician', 'the nurse'),\n",
       " ('the technician', 'the receptionist'),\n",
       " ('the technician', 'the secretary'),\n",
       " ('the technician', 'the tailor'),\n",
       " ('the technician', 'the teacher'),\n",
       " ('the technician', 'the the librarian'),\n",
       " ('the technician', 'the the nurse'),\n",
       " ('the technician', 'the the paralegal'),\n",
       " ('the technician', 'the writer')}"
      ]
     },
     "execution_count": 168,
     "metadata": {},
     "output_type": "execute_result"
    }
   ],
   "source": [
    "covered_pairs"
   ]
  },
  {
   "cell_type": "code",
   "execution_count": 169,
   "metadata": {},
   "outputs": [
    {
     "data": {
      "text/plain": [
       "326"
      ]
     },
     "execution_count": 169,
     "metadata": {},
     "output_type": "execute_result"
    }
   ],
   "source": [
    "len(covered_pairs)"
   ]
  },
  {
   "cell_type": "code",
   "execution_count": 170,
   "metadata": {},
   "outputs": [],
   "source": [
    "score = len(covered_pairs)/len(pairs) * 100"
   ]
  },
  {
   "cell_type": "code",
   "execution_count": 171,
   "metadata": {},
   "outputs": [
    {
     "name": "stdout",
     "output_type": "stream",
     "text": [
      "Pairwise Coverage: 64.43%\n"
     ]
    }
   ],
   "source": [
    "print(\"Pairwise Coverage: {:.2f}%\".format(score))"
   ]
  },
  {
   "cell_type": "code",
   "execution_count": 172,
   "metadata": {},
   "outputs": [],
   "source": [
    "all_covered_pairs = all_covered_pairs.union(covered_pairs)"
   ]
  },
  {
   "cell_type": "code",
   "execution_count": 173,
   "metadata": {},
   "outputs": [],
   "source": [
    "all_pairs = all_pairs.union(pairs)"
   ]
  },
  {
   "cell_type": "markdown",
   "metadata": {},
   "source": [
    "### D. Test for   for Indirect Gender Bias, i.e. Name Bias"
   ]
  },
  {
   "cell_type": "code",
   "execution_count": 174,
   "metadata": {},
   "outputs": [],
   "source": [
    "noun_choice =  3 #Noun /Pronoun"
   ]
  },
  {
   "cell_type": "code",
   "execution_count": 175,
   "metadata": {},
   "outputs": [],
   "source": [
    "test_strategy = \"exploitation\"\n",
    "mode = \"gender-name-noun\"\n",
    "start_dir = \"/Users/ezekiel.soremekun/Documents/Coref-Fairness-Test-Generation/Ezekiel-Testbed/trained-sentiment-analyzers/Exploitation/saved_pickles/\" +  test_strategy + \"/\" + subject + \"/\" + mode + \"/\""
   ]
  },
  {
   "cell_type": "code",
   "execution_count": 176,
   "metadata": {},
   "outputs": [],
   "source": [
    "generated_input1_path = start_dir + \"unique_input1_set.pickle\"\n",
    "generated_input2_path = start_dir + \"unique_input2_set.pickle\"\n",
    "generated_input_pairs_path = start_dir + \"unique_input_pair_set.pickle\""
   ]
  },
  {
   "cell_type": "code",
   "execution_count": 177,
   "metadata": {},
   "outputs": [],
   "source": [
    "generated_input1, generated_input2, generated_input_pairs = None, None, None"
   ]
  },
  {
   "cell_type": "code",
   "execution_count": 178,
   "metadata": {},
   "outputs": [],
   "source": [
    "with open(generated_input1_path, 'rb') as handle:\n",
    "    generated_input1 = pickle.load(handle)"
   ]
  },
  {
   "cell_type": "code",
   "execution_count": 179,
   "metadata": {},
   "outputs": [],
   "source": [
    "with open(generated_input2_path, 'rb') as handle:\n",
    "    generated_input2 = pickle.load(handle)"
   ]
  },
  {
   "cell_type": "code",
   "execution_count": 180,
   "metadata": {},
   "outputs": [],
   "source": [
    "with open(generated_input_pairs_path, 'rb') as handle:\n",
    "    generated_input_pairs = pickle.load(handle)"
   ]
  },
  {
   "cell_type": "code",
   "execution_count": 181,
   "metadata": {},
   "outputs": [
    {
     "data": {
      "text/plain": [
       "1982"
      ]
     },
     "execution_count": 181,
     "metadata": {},
     "output_type": "execute_result"
    }
   ],
   "source": [
    "len(generated_input1)"
   ]
  },
  {
   "cell_type": "code",
   "execution_count": 182,
   "metadata": {},
   "outputs": [
    {
     "name": "stdout",
     "output_type": "stream",
     "text": [
      "Amanda was glad.\n"
     ]
    }
   ],
   "source": [
    "for i in generated_input1:\n",
    "    print(i)\n",
    "    break"
   ]
  },
  {
   "cell_type": "code",
   "execution_count": 183,
   "metadata": {},
   "outputs": [],
   "source": [
    "gen_nodes_1 = set()"
   ]
  },
  {
   "cell_type": "code",
   "execution_count": 184,
   "metadata": {},
   "outputs": [],
   "source": [
    "#check coverage in input1\n",
    "for sentence in generated_input1:\n",
    "    for node in all_nodes:\n",
    "        if node in sentence:\n",
    "            gen_nodes_1.add(node)"
   ]
  },
  {
   "cell_type": "code",
   "execution_count": 185,
   "metadata": {},
   "outputs": [
    {
     "name": "stdout",
     "output_type": "stream",
     "text": [
      "85\n"
     ]
    }
   ],
   "source": [
    "print(len(gen_nodes_1))"
   ]
  },
  {
   "cell_type": "code",
   "execution_count": 186,
   "metadata": {},
   "outputs": [],
   "source": [
    "# gen_nodes_1"
   ]
  },
  {
   "cell_type": "code",
   "execution_count": 187,
   "metadata": {},
   "outputs": [],
   "source": [
    "gen_nodes_2 = set()"
   ]
  },
  {
   "cell_type": "code",
   "execution_count": 188,
   "metadata": {},
   "outputs": [],
   "source": [
    "#check coverage in input2\n",
    "for sentence in generated_input2:\n",
    "    for node in all_nodes:\n",
    "        if node in sentence:\n",
    "            gen_nodes_2.add(node)"
   ]
  },
  {
   "cell_type": "code",
   "execution_count": 189,
   "metadata": {},
   "outputs": [
    {
     "name": "stdout",
     "output_type": "stream",
     "text": [
      "87\n"
     ]
    }
   ],
   "source": [
    "print(len(gen_nodes_2))"
   ]
  },
  {
   "cell_type": "code",
   "execution_count": 190,
   "metadata": {},
   "outputs": [],
   "source": [
    "all_gen_terminals = gen_nodes_1.union(gen_nodes_2)"
   ]
  },
  {
   "cell_type": "code",
   "execution_count": 191,
   "metadata": {},
   "outputs": [
    {
     "name": "stdout",
     "output_type": "stream",
     "text": [
      "118\n"
     ]
    }
   ],
   "source": [
    "print(len(all_gen_terminals))"
   ]
  },
  {
   "cell_type": "code",
   "execution_count": 192,
   "metadata": {},
   "outputs": [],
   "source": [
    "all_gen_terminals = set(gen_nodes_1.union(gen_nodes_2))"
   ]
  },
  {
   "cell_type": "code",
   "execution_count": 193,
   "metadata": {},
   "outputs": [
    {
     "data": {
      "text/plain": [
       "118"
      ]
     },
     "execution_count": 193,
     "metadata": {},
     "output_type": "execute_result"
    }
   ],
   "source": [
    "len(all_gen_terminals)"
   ]
  },
  {
   "cell_type": "code",
   "execution_count": 194,
   "metadata": {},
   "outputs": [
    {
     "name": "stdout",
     "output_type": "stream",
     "text": [
      "87\n"
     ]
    }
   ],
   "source": [
    "print(len(gen_nodes_2))"
   ]
  },
  {
   "cell_type": "code",
   "execution_count": 195,
   "metadata": {},
   "outputs": [],
   "source": [
    "score = len(all_gen_terminals)/len(all_nodes) * 100"
   ]
  },
  {
   "cell_type": "code",
   "execution_count": 196,
   "metadata": {},
   "outputs": [
    {
     "name": "stdout",
     "output_type": "stream",
     "text": [
      "Terminal Coverage: 51.98%\n"
     ]
    }
   ],
   "source": [
    "print(\"Terminal Coverage: {:.2f}%\".format(score))"
   ]
  },
  {
   "cell_type": "code",
   "execution_count": 197,
   "metadata": {},
   "outputs": [],
   "source": [
    "all_covered_nodes = all_covered_nodes.union(all_gen_terminals)"
   ]
  },
  {
   "cell_type": "markdown",
   "metadata": {},
   "source": [
    "#### Compute Pairwise Sensitive Attribute Coverage"
   ]
  },
  {
   "cell_type": "code",
   "execution_count": 198,
   "metadata": {},
   "outputs": [],
   "source": [
    "subj_person_male, subj_person_female = [], []"
   ]
  },
  {
   "cell_type": "code",
   "execution_count": 199,
   "metadata": {},
   "outputs": [],
   "source": [
    "subj_person_male, subj_person_female = [], []"
   ]
  },
  {
   "cell_type": "code",
   "execution_count": 200,
   "metadata": {},
   "outputs": [],
   "source": [
    "subj_person_male, subj_person_female = subj_choice(noun_choice)"
   ]
  },
  {
   "cell_type": "code",
   "execution_count": 201,
   "metadata": {},
   "outputs": [
    {
     "data": {
      "text/plain": [
       "['Mary',\n",
       " 'Patricia',\n",
       " 'Jennifer',\n",
       " 'Linda',\n",
       " 'Elizabeth',\n",
       " 'Barbara',\n",
       " 'Susan',\n",
       " 'Jessica',\n",
       " 'Sarah',\n",
       " 'Karen',\n",
       " 'Nancy',\n",
       " 'Margaret',\n",
       " 'Lisa',\n",
       " 'Betty',\n",
       " 'Dorothy ',\n",
       " 'Sandra',\n",
       " 'Ashley',\n",
       " 'Kimberly',\n",
       " 'Donna',\n",
       " 'Emily',\n",
       " 'Michelle',\n",
       " 'Carol',\n",
       " 'Amanda',\n",
       " 'Melissa',\n",
       " 'Deborah',\n",
       " 'Stephanie',\n",
       " 'Rebecca',\n",
       " 'Laura',\n",
       " 'Sharon',\n",
       " 'Cynthia']"
      ]
     },
     "execution_count": 201,
     "metadata": {},
     "output_type": "execute_result"
    }
   ],
   "source": [
    "subj_person_female"
   ]
  },
  {
   "cell_type": "code",
   "execution_count": 202,
   "metadata": {},
   "outputs": [
    {
     "data": {
      "text/plain": [
       "['James',\n",
       " 'John ',\n",
       " 'Robert ',\n",
       " 'Michael ',\n",
       " 'William ',\n",
       " 'David ',\n",
       " 'Richard',\n",
       " 'Joseph',\n",
       " 'Thomas',\n",
       " 'Charles',\n",
       " 'Christopher',\n",
       " 'Daniel',\n",
       " 'Matthew',\n",
       " 'Anthony',\n",
       " 'Donald',\n",
       " 'Mark',\n",
       " 'Paul',\n",
       " 'Steven',\n",
       " 'Andrew',\n",
       " 'Kenneth',\n",
       " 'Joshua',\n",
       " 'George',\n",
       " 'Kevin',\n",
       " 'Brian',\n",
       " 'Edward',\n",
       " 'Ronald',\n",
       " 'Timothy',\n",
       " 'Jason',\n",
       " 'Jeffrey',\n",
       " 'Ryan']"
      ]
     },
     "execution_count": 202,
     "metadata": {},
     "output_type": "execute_result"
    }
   ],
   "source": [
    "subj_person_male"
   ]
  },
  {
   "cell_type": "code",
   "execution_count": 203,
   "metadata": {},
   "outputs": [],
   "source": [
    "pairs = []"
   ]
  },
  {
   "cell_type": "code",
   "execution_count": 204,
   "metadata": {},
   "outputs": [],
   "source": [
    "# assert(len(subj_person_male) == len(subj_person_female)), \"ERROR length mismatch\"\n",
    "# for i in range(max(len(subj_person_male), len(subj_person_female))):\n",
    "#     pairs.append((subj_person_male[i],subj_person_female[i]))"
   ]
  },
  {
   "cell_type": "code",
   "execution_count": 205,
   "metadata": {},
   "outputs": [],
   "source": [
    "assert(len(subj_person_male) == len(subj_person_female)), \"ERROR length mismatch\"\n",
    "for i in subj_person_male:\n",
    "    for j in subj_person_female:\n",
    "        pairs.append((i,j))"
   ]
  },
  {
   "cell_type": "code",
   "execution_count": 206,
   "metadata": {},
   "outputs": [
    {
     "data": {
      "text/plain": [
       "900"
      ]
     },
     "execution_count": 206,
     "metadata": {},
     "output_type": "execute_result"
    }
   ],
   "source": [
    "len(pairs)"
   ]
  },
  {
   "cell_type": "code",
   "execution_count": 207,
   "metadata": {},
   "outputs": [],
   "source": [
    "pairs = set(pairs)"
   ]
  },
  {
   "cell_type": "code",
   "execution_count": 208,
   "metadata": {},
   "outputs": [
    {
     "data": {
      "text/plain": [
       "900"
      ]
     },
     "execution_count": 208,
     "metadata": {},
     "output_type": "execute_result"
    }
   ],
   "source": [
    "len(set(pairs))"
   ]
  },
  {
   "cell_type": "code",
   "execution_count": 209,
   "metadata": {},
   "outputs": [],
   "source": [
    "covered_pairs = set()"
   ]
  },
  {
   "cell_type": "code",
   "execution_count": 210,
   "metadata": {},
   "outputs": [],
   "source": [
    "for sentence_pair in generated_input_pairs:\n",
    "    for combination in pairs:\n",
    "        if ((combination[0] in sentence_pair.split(\";\")[1]) and (combination[1] in sentence_pair.split(\";\")[0])) \\\n",
    "            or ((combination[0] in sentence_pair.split(\";\")[0]) and (combination[1] in sentence_pair.split(\";\")[1])):\n",
    "            covered_pairs.add(combination)"
   ]
  },
  {
   "cell_type": "code",
   "execution_count": 211,
   "metadata": {},
   "outputs": [
    {
     "data": {
      "text/plain": [
       "{('Andrew', 'Barbara'),\n",
       " ('Andrew', 'Betty'),\n",
       " ('Andrew', 'Carol'),\n",
       " ('Andrew', 'Dorothy '),\n",
       " ('Andrew', 'Elizabeth'),\n",
       " ('Andrew', 'Kimberly'),\n",
       " ('Andrew', 'Laura'),\n",
       " ('Andrew', 'Lisa'),\n",
       " ('Andrew', 'Mary'),\n",
       " ('Andrew', 'Michelle'),\n",
       " ('Andrew', 'Stephanie'),\n",
       " ('Anthony', 'Barbara'),\n",
       " ('Anthony', 'Betty'),\n",
       " ('Anthony', 'Cynthia'),\n",
       " ('Anthony', 'Deborah'),\n",
       " ('Anthony', 'Donna'),\n",
       " ('Anthony', 'Karen'),\n",
       " ('Anthony', 'Laura'),\n",
       " ('Anthony', 'Linda'),\n",
       " ('Anthony', 'Margaret'),\n",
       " ('Anthony', 'Michelle'),\n",
       " ('Anthony', 'Patricia'),\n",
       " ('Anthony', 'Sandra'),\n",
       " ('Anthony', 'Stephanie'),\n",
       " ('Brian', 'Amanda'),\n",
       " ('Brian', 'Ashley'),\n",
       " ('Brian', 'Carol'),\n",
       " ('Brian', 'Karen'),\n",
       " ('Brian', 'Linda'),\n",
       " ('Brian', 'Michelle'),\n",
       " ('Brian', 'Sandra'),\n",
       " ('Charles', 'Barbara'),\n",
       " ('Charles', 'Carol'),\n",
       " ('Charles', 'Deborah'),\n",
       " ('Charles', 'Jennifer'),\n",
       " ('Charles', 'Karen'),\n",
       " ('Charles', 'Laura'),\n",
       " ('Charles', 'Mary'),\n",
       " ('Charles', 'Michelle'),\n",
       " ('Charles', 'Rebecca'),\n",
       " ('Christopher', 'Amanda'),\n",
       " ('Christopher', 'Barbara'),\n",
       " ('Christopher', 'Carol'),\n",
       " ('Christopher', 'Cynthia'),\n",
       " ('Christopher', 'Deborah'),\n",
       " ('Christopher', 'Dorothy '),\n",
       " ('Christopher', 'Emily'),\n",
       " ('Christopher', 'Jennifer'),\n",
       " ('Christopher', 'Karen'),\n",
       " ('Christopher', 'Kimberly'),\n",
       " ('Christopher', 'Laura'),\n",
       " ('Christopher', 'Lisa'),\n",
       " ('Christopher', 'Margaret'),\n",
       " ('Christopher', 'Mary'),\n",
       " ('Christopher', 'Michelle'),\n",
       " ('Christopher', 'Nancy'),\n",
       " ('Christopher', 'Patricia'),\n",
       " ('Christopher', 'Sarah'),\n",
       " ('Christopher', 'Sharon'),\n",
       " ('Christopher', 'Stephanie'),\n",
       " ('Daniel', 'Amanda'),\n",
       " ('Daniel', 'Ashley'),\n",
       " ('Daniel', 'Betty'),\n",
       " ('Daniel', 'Carol'),\n",
       " ('Daniel', 'Dorothy '),\n",
       " ('Daniel', 'Elizabeth'),\n",
       " ('Daniel', 'Jennifer'),\n",
       " ('Daniel', 'Karen'),\n",
       " ('Daniel', 'Linda'),\n",
       " ('Daniel', 'Mary'),\n",
       " ('Daniel', 'Nancy'),\n",
       " ('Daniel', 'Sandra'),\n",
       " ('Daniel', 'Sharon'),\n",
       " ('David ', 'Carol'),\n",
       " ('David ', 'Donna'),\n",
       " ('David ', 'Dorothy '),\n",
       " ('David ', 'Jennifer'),\n",
       " ('David ', 'Laura'),\n",
       " ('David ', 'Melissa'),\n",
       " ('David ', 'Michelle'),\n",
       " ('David ', 'Patricia'),\n",
       " ('David ', 'Rebecca'),\n",
       " ('David ', 'Sharon'),\n",
       " ('Donald', 'Amanda'),\n",
       " ('Donald', 'Betty'),\n",
       " ('Donald', 'Deborah'),\n",
       " ('Donald', 'Emily'),\n",
       " ('Donald', 'Jessica'),\n",
       " ('Donald', 'Margaret'),\n",
       " ('Donald', 'Michelle'),\n",
       " ('Edward', 'Betty'),\n",
       " ('Edward', 'Carol'),\n",
       " ('Edward', 'Donna'),\n",
       " ('Edward', 'Elizabeth'),\n",
       " ('Edward', 'Kimberly'),\n",
       " ('Edward', 'Margaret'),\n",
       " ('Edward', 'Michelle'),\n",
       " ('Edward', 'Nancy'),\n",
       " ('Edward', 'Patricia'),\n",
       " ('Edward', 'Rebecca'),\n",
       " ('Edward', 'Sandra'),\n",
       " ('Edward', 'Sarah'),\n",
       " ('Edward', 'Sharon'),\n",
       " ('Edward', 'Stephanie'),\n",
       " ('George', 'Amanda'),\n",
       " ('George', 'Betty'),\n",
       " ('George', 'Carol'),\n",
       " ('George', 'Cynthia'),\n",
       " ('George', 'Deborah'),\n",
       " ('George', 'Elizabeth'),\n",
       " ('George', 'Emily'),\n",
       " ('George', 'Karen'),\n",
       " ('George', 'Laura'),\n",
       " ('George', 'Lisa'),\n",
       " ('George', 'Mary'),\n",
       " ('George', 'Michelle'),\n",
       " ('George', 'Rebecca'),\n",
       " ('George', 'Sandra'),\n",
       " ('George', 'Sharon'),\n",
       " ('George', 'Stephanie'),\n",
       " ('James', 'Amanda'),\n",
       " ('James', 'Carol'),\n",
       " ('James', 'Deborah'),\n",
       " ('James', 'Dorothy '),\n",
       " ('James', 'Elizabeth'),\n",
       " ('James', 'Jessica'),\n",
       " ('James', 'Karen'),\n",
       " ('James', 'Kimberly'),\n",
       " ('James', 'Laura'),\n",
       " ('James', 'Linda'),\n",
       " ('James', 'Lisa'),\n",
       " ('James', 'Margaret'),\n",
       " ('James', 'Mary'),\n",
       " ('James', 'Michelle'),\n",
       " ('James', 'Nancy'),\n",
       " ('James', 'Patricia'),\n",
       " ('James', 'Sharon'),\n",
       " ('Jason', 'Amanda'),\n",
       " ('Jason', 'Barbara'),\n",
       " ('Jason', 'Betty'),\n",
       " ('Jason', 'Carol'),\n",
       " ('Jason', 'Cynthia'),\n",
       " ('Jason', 'Deborah'),\n",
       " ('Jason', 'Dorothy '),\n",
       " ('Jason', 'Elizabeth'),\n",
       " ('Jason', 'Jennifer'),\n",
       " ('Jason', 'Jessica'),\n",
       " ('Jason', 'Karen'),\n",
       " ('Jason', 'Kimberly'),\n",
       " ('Jason', 'Laura'),\n",
       " ('Jason', 'Michelle'),\n",
       " ('Jason', 'Sandra'),\n",
       " ('Jason', 'Sharon'),\n",
       " ('Jeffrey', 'Cynthia'),\n",
       " ('Jeffrey', 'Elizabeth'),\n",
       " ('Jeffrey', 'Jennifer'),\n",
       " ('Jeffrey', 'Kimberly'),\n",
       " ('Jeffrey', 'Laura'),\n",
       " ('Jeffrey', 'Linda'),\n",
       " ('Jeffrey', 'Lisa'),\n",
       " ('Jeffrey', 'Margaret'),\n",
       " ('Jeffrey', 'Rebecca'),\n",
       " ('Jeffrey', 'Sandra'),\n",
       " ('Jeffrey', 'Sarah'),\n",
       " ('Jeffrey', 'Sharon'),\n",
       " ('John ', 'Carol'),\n",
       " ('John ', 'Deborah'),\n",
       " ('John ', 'Karen'),\n",
       " ('John ', 'Kimberly'),\n",
       " ('John ', 'Laura'),\n",
       " ('John ', 'Mary'),\n",
       " ('John ', 'Michelle'),\n",
       " ('John ', 'Nancy'),\n",
       " ('John ', 'Susan'),\n",
       " ('Joseph', 'Amanda'),\n",
       " ('Joseph', 'Carol'),\n",
       " ('Joseph', 'Deborah'),\n",
       " ('Joseph', 'Donna'),\n",
       " ('Joseph', 'Dorothy '),\n",
       " ('Joseph', 'Jessica'),\n",
       " ('Joseph', 'Laura'),\n",
       " ('Joseph', 'Margaret'),\n",
       " ('Joseph', 'Mary'),\n",
       " ('Joseph', 'Nancy'),\n",
       " ('Joseph', 'Sandra'),\n",
       " ('Joseph', 'Sharon'),\n",
       " ('Joseph', 'Susan'),\n",
       " ('Joshua', 'Barbara'),\n",
       " ('Joshua', 'Betty'),\n",
       " ('Joshua', 'Carol'),\n",
       " ('Joshua', 'Dorothy '),\n",
       " ('Joshua', 'Elizabeth'),\n",
       " ('Joshua', 'Emily'),\n",
       " ('Joshua', 'Kimberly'),\n",
       " ('Joshua', 'Laura'),\n",
       " ('Joshua', 'Lisa'),\n",
       " ('Joshua', 'Michelle'),\n",
       " ('Joshua', 'Nancy'),\n",
       " ('Joshua', 'Rebecca'),\n",
       " ('Joshua', 'Sandra'),\n",
       " ('Joshua', 'Sarah'),\n",
       " ('Joshua', 'Sharon'),\n",
       " ('Joshua', 'Stephanie'),\n",
       " ('Kenneth', 'Barbara'),\n",
       " ('Kenneth', 'Betty'),\n",
       " ('Kenneth', 'Carol'),\n",
       " ('Kenneth', 'Deborah'),\n",
       " ('Kenneth', 'Donna'),\n",
       " ('Kenneth', 'Emily'),\n",
       " ('Kenneth', 'Jennifer'),\n",
       " ('Kenneth', 'Karen'),\n",
       " ('Kenneth', 'Linda'),\n",
       " ('Kenneth', 'Lisa'),\n",
       " ('Kenneth', 'Sandra'),\n",
       " ('Kenneth', 'Sharon'),\n",
       " ('Kevin', 'Amanda'),\n",
       " ('Kevin', 'Deborah'),\n",
       " ('Kevin', 'Emily'),\n",
       " ('Kevin', 'Karen'),\n",
       " ('Kevin', 'Laura'),\n",
       " ('Kevin', 'Lisa'),\n",
       " ('Kevin', 'Margaret'),\n",
       " ('Kevin', 'Mary'),\n",
       " ('Kevin', 'Sandra'),\n",
       " ('Kevin', 'Stephanie'),\n",
       " ('Kevin', 'Susan'),\n",
       " ('Mark', 'Amanda'),\n",
       " ('Mark', 'Betty'),\n",
       " ('Mark', 'Carol'),\n",
       " ('Mark', 'Cynthia'),\n",
       " ('Mark', 'Deborah'),\n",
       " ('Mark', 'Dorothy '),\n",
       " ('Mark', 'Jennifer'),\n",
       " ('Mark', 'Karen'),\n",
       " ('Mark', 'Kimberly'),\n",
       " ('Mark', 'Laura'),\n",
       " ('Mark', 'Linda'),\n",
       " ('Mark', 'Lisa'),\n",
       " ('Mark', 'Margaret'),\n",
       " ('Mark', 'Nancy'),\n",
       " ('Mark', 'Patricia'),\n",
       " ('Mark', 'Rebecca'),\n",
       " ('Mark', 'Sandra'),\n",
       " ('Mark', 'Sharon'),\n",
       " ('Mark', 'Stephanie'),\n",
       " ('Mark', 'Susan'),\n",
       " ('Matthew', 'Barbara'),\n",
       " ('Matthew', 'Betty'),\n",
       " ('Matthew', 'Cynthia'),\n",
       " ('Matthew', 'Deborah'),\n",
       " ('Matthew', 'Jessica'),\n",
       " ('Matthew', 'Kimberly'),\n",
       " ('Matthew', 'Laura'),\n",
       " ('Matthew', 'Rebecca'),\n",
       " ('Matthew', 'Sandra'),\n",
       " ('Matthew', 'Sharon'),\n",
       " ('Matthew', 'Susan'),\n",
       " ('Michael ', 'Amanda'),\n",
       " ('Michael ', 'Barbara'),\n",
       " ('Michael ', 'Jessica'),\n",
       " ('Michael ', 'Laura'),\n",
       " ('Michael ', 'Michelle'),\n",
       " ('Michael ', 'Patricia'),\n",
       " ('Michael ', 'Sharon'),\n",
       " ('Michael ', 'Stephanie'),\n",
       " ('Michael ', 'Susan'),\n",
       " ('Paul', 'Donna'),\n",
       " ('Paul', 'Emily'),\n",
       " ('Paul', 'Jennifer'),\n",
       " ('Paul', 'Laura'),\n",
       " ('Paul', 'Lisa'),\n",
       " ('Paul', 'Michelle'),\n",
       " ('Paul', 'Nancy'),\n",
       " ('Paul', 'Sandra'),\n",
       " ('Paul', 'Sarah'),\n",
       " ('Paul', 'Sharon'),\n",
       " ('Richard', 'Carol'),\n",
       " ('Richard', 'Elizabeth'),\n",
       " ('Richard', 'Jennifer'),\n",
       " ('Richard', 'Karen'),\n",
       " ('Richard', 'Kimberly'),\n",
       " ('Richard', 'Laura'),\n",
       " ('Richard', 'Linda'),\n",
       " ('Richard', 'Lisa'),\n",
       " ('Richard', 'Margaret'),\n",
       " ('Richard', 'Mary'),\n",
       " ('Richard', 'Nancy'),\n",
       " ('Richard', 'Sandra'),\n",
       " ('Richard', 'Sharon'),\n",
       " ('Richard', 'Stephanie'),\n",
       " ('Robert ', 'Barbara'),\n",
       " ('Robert ', 'Cynthia'),\n",
       " ('Robert ', 'Deborah'),\n",
       " ('Robert ', 'Dorothy '),\n",
       " ('Robert ', 'Elizabeth'),\n",
       " ('Robert ', 'Kimberly'),\n",
       " ('Robert ', 'Linda'),\n",
       " ('Robert ', 'Lisa'),\n",
       " ('Robert ', 'Michelle'),\n",
       " ('Robert ', 'Nancy'),\n",
       " ('Robert ', 'Patricia'),\n",
       " ('Robert ', 'Sarah'),\n",
       " ('Robert ', 'Stephanie'),\n",
       " ('Ronald', 'Amanda'),\n",
       " ('Ronald', 'Carol'),\n",
       " ('Ronald', 'Dorothy '),\n",
       " ('Ronald', 'Elizabeth'),\n",
       " ('Ronald', 'Emily'),\n",
       " ('Ronald', 'Kimberly'),\n",
       " ('Ronald', 'Linda'),\n",
       " ('Ronald', 'Nancy'),\n",
       " ('Ronald', 'Stephanie'),\n",
       " ('Ryan', 'Amanda'),\n",
       " ('Ryan', 'Ashley'),\n",
       " ('Ryan', 'Betty'),\n",
       " ('Ryan', 'Cynthia'),\n",
       " ('Ryan', 'Deborah'),\n",
       " ('Ryan', 'Karen'),\n",
       " ('Ryan', 'Kimberly'),\n",
       " ('Ryan', 'Laura'),\n",
       " ('Ryan', 'Linda'),\n",
       " ('Ryan', 'Lisa'),\n",
       " ('Ryan', 'Mary'),\n",
       " ('Ryan', 'Michelle'),\n",
       " ('Ryan', 'Nancy'),\n",
       " ('Ryan', 'Patricia'),\n",
       " ('Ryan', 'Sandra'),\n",
       " ('Ryan', 'Sarah'),\n",
       " ('Steven', 'Betty'),\n",
       " ('Steven', 'Cynthia'),\n",
       " ('Steven', 'Deborah'),\n",
       " ('Steven', 'Donna'),\n",
       " ('Steven', 'Elizabeth'),\n",
       " ('Steven', 'Jennifer'),\n",
       " ('Steven', 'Jessica'),\n",
       " ('Steven', 'Karen'),\n",
       " ('Steven', 'Kimberly'),\n",
       " ('Steven', 'Laura'),\n",
       " ('Steven', 'Lisa'),\n",
       " ('Steven', 'Mary'),\n",
       " ('Steven', 'Michelle'),\n",
       " ('Steven', 'Rebecca'),\n",
       " ('Steven', 'Sarah'),\n",
       " ('Steven', 'Susan'),\n",
       " ('Thomas', 'Barbara'),\n",
       " ('Thomas', 'Betty'),\n",
       " ('Thomas', 'Carol'),\n",
       " ('Thomas', 'Deborah'),\n",
       " ('Thomas', 'Donna'),\n",
       " ('Thomas', 'Elizabeth'),\n",
       " ('Thomas', 'Kimberly'),\n",
       " ('Thomas', 'Laura'),\n",
       " ('Thomas', 'Linda'),\n",
       " ('Thomas', 'Lisa'),\n",
       " ('Thomas', 'Mary'),\n",
       " ('Thomas', 'Nancy'),\n",
       " ('Thomas', 'Patricia'),\n",
       " ('Thomas', 'Rebecca'),\n",
       " ('Thomas', 'Sandra'),\n",
       " ('Thomas', 'Stephanie'),\n",
       " ('Timothy', 'Carol'),\n",
       " ('Timothy', 'Deborah'),\n",
       " ('Timothy', 'Emily'),\n",
       " ('Timothy', 'Jessica'),\n",
       " ('Timothy', 'Karen'),\n",
       " ('Timothy', 'Kimberly'),\n",
       " ('Timothy', 'Laura'),\n",
       " ('Timothy', 'Linda'),\n",
       " ('Timothy', 'Lisa'),\n",
       " ('Timothy', 'Margaret'),\n",
       " ('Timothy', 'Mary'),\n",
       " ('Timothy', 'Michelle'),\n",
       " ('Timothy', 'Patricia'),\n",
       " ('Timothy', 'Rebecca'),\n",
       " ('Timothy', 'Sandra'),\n",
       " ('Timothy', 'Sarah'),\n",
       " ('Timothy', 'Sharon'),\n",
       " ('Timothy', 'Stephanie'),\n",
       " ('William ', 'Ashley'),\n",
       " ('William ', 'Barbara'),\n",
       " ('William ', 'Betty'),\n",
       " ('William ', 'Carol'),\n",
       " ('William ', 'Cynthia'),\n",
       " ('William ', 'Deborah'),\n",
       " ('William ', 'Donna'),\n",
       " ('William ', 'Dorothy '),\n",
       " ('William ', 'Elizabeth'),\n",
       " ('William ', 'Emily'),\n",
       " ('William ', 'Jennifer'),\n",
       " ('William ', 'Mary'),\n",
       " ('William ', 'Nancy'),\n",
       " ('William ', 'Patricia'),\n",
       " ('William ', 'Rebecca'),\n",
       " ('William ', 'Stephanie')}"
      ]
     },
     "execution_count": 211,
     "metadata": {},
     "output_type": "execute_result"
    }
   ],
   "source": [
    "covered_pairs"
   ]
  },
  {
   "cell_type": "code",
   "execution_count": 212,
   "metadata": {},
   "outputs": [
    {
     "data": {
      "text/plain": [
       "394"
      ]
     },
     "execution_count": 212,
     "metadata": {},
     "output_type": "execute_result"
    }
   ],
   "source": [
    "len(covered_pairs)"
   ]
  },
  {
   "cell_type": "code",
   "execution_count": 213,
   "metadata": {},
   "outputs": [],
   "source": [
    "score = len(covered_pairs)/len(pairs) * 100"
   ]
  },
  {
   "cell_type": "code",
   "execution_count": 214,
   "metadata": {},
   "outputs": [
    {
     "name": "stdout",
     "output_type": "stream",
     "text": [
      "Pairwise Coverage: 43.78%\n"
     ]
    }
   ],
   "source": [
    "print(\"Pairwise Coverage: {:.2f}%\".format(score))"
   ]
  },
  {
   "cell_type": "code",
   "execution_count": 215,
   "metadata": {},
   "outputs": [],
   "source": [
    "all_covered_pairs = all_covered_pairs.union(covered_pairs)"
   ]
  },
  {
   "cell_type": "code",
   "execution_count": 216,
   "metadata": {},
   "outputs": [],
   "source": [
    "all_pairs = all_pairs.union(pairs)"
   ]
  },
  {
   "cell_type": "markdown",
   "metadata": {},
   "source": [
    "### E. Test for   for Indirect Racial Bias, i.e. Name Bias"
   ]
  },
  {
   "cell_type": "code",
   "execution_count": 217,
   "metadata": {},
   "outputs": [],
   "source": [
    "noun_choice =  5 #Noun /Pronoun"
   ]
  },
  {
   "cell_type": "code",
   "execution_count": 218,
   "metadata": {},
   "outputs": [],
   "source": [
    "test_strategy = \"exploitation\"\n",
    "mode = \"racial-name-noun\"\n",
    "start_dir = \"/Users/ezekiel.soremekun/Documents/Coref-Fairness-Test-Generation/Ezekiel-Testbed/trained-sentiment-analyzers/Exploitation/saved_pickles/\" +  test_strategy + \"/\" + subject + \"/\" + mode + \"/\""
   ]
  },
  {
   "cell_type": "code",
   "execution_count": 219,
   "metadata": {},
   "outputs": [],
   "source": [
    "generated_input1_path = start_dir + \"unique_input1_set.pickle\"\n",
    "generated_input2_path = start_dir + \"unique_input2_set.pickle\"\n",
    "generated_input_pairs_path = start_dir + \"unique_input_pair_set.pickle\""
   ]
  },
  {
   "cell_type": "code",
   "execution_count": 220,
   "metadata": {},
   "outputs": [],
   "source": [
    "generated_input1, generated_input2, generated_input_pairs = None, None, None"
   ]
  },
  {
   "cell_type": "code",
   "execution_count": 221,
   "metadata": {},
   "outputs": [],
   "source": [
    "with open(generated_input1_path, 'rb') as handle:\n",
    "    generated_input1 = pickle.load(handle)"
   ]
  },
  {
   "cell_type": "code",
   "execution_count": 222,
   "metadata": {},
   "outputs": [],
   "source": [
    "with open(generated_input2_path, 'rb') as handle:\n",
    "    generated_input2 = pickle.load(handle)"
   ]
  },
  {
   "cell_type": "code",
   "execution_count": 223,
   "metadata": {},
   "outputs": [],
   "source": [
    "with open(generated_input_pairs_path, 'rb') as handle:\n",
    "    generated_input_pairs = pickle.load(handle)"
   ]
  },
  {
   "cell_type": "code",
   "execution_count": 224,
   "metadata": {},
   "outputs": [
    {
     "data": {
      "text/plain": [
       "1748"
      ]
     },
     "execution_count": 224,
     "metadata": {},
     "output_type": "execute_result"
    }
   ],
   "source": [
    "len(generated_input1)"
   ]
  },
  {
   "cell_type": "code",
   "execution_count": 225,
   "metadata": {},
   "outputs": [
    {
     "name": "stdout",
     "output_type": "stream",
     "text": [
      "The conversation with Josh was annoying.\n"
     ]
    }
   ],
   "source": [
    "for i in generated_input1:\n",
    "    print(i)\n",
    "    break"
   ]
  },
  {
   "cell_type": "code",
   "execution_count": 226,
   "metadata": {},
   "outputs": [],
   "source": [
    "gen_nodes_1 = set()"
   ]
  },
  {
   "cell_type": "code",
   "execution_count": 227,
   "metadata": {},
   "outputs": [],
   "source": [
    "#check coverage in input1\n",
    "for sentence in generated_input1:\n",
    "    for node in all_nodes:\n",
    "        if node in sentence:\n",
    "            gen_nodes_1.add(node)"
   ]
  },
  {
   "cell_type": "code",
   "execution_count": 228,
   "metadata": {},
   "outputs": [
    {
     "name": "stdout",
     "output_type": "stream",
     "text": [
      "76\n"
     ]
    }
   ],
   "source": [
    "print(len(gen_nodes_1))"
   ]
  },
  {
   "cell_type": "code",
   "execution_count": 229,
   "metadata": {},
   "outputs": [],
   "source": [
    "# gen_nodes_1"
   ]
  },
  {
   "cell_type": "code",
   "execution_count": 230,
   "metadata": {},
   "outputs": [],
   "source": [
    "gen_nodes_2 = set()"
   ]
  },
  {
   "cell_type": "code",
   "execution_count": 231,
   "metadata": {},
   "outputs": [],
   "source": [
    "#check coverage in input2\n",
    "for sentence in generated_input2:\n",
    "    for node in all_nodes:\n",
    "        if node in sentence:\n",
    "            gen_nodes_2.add(node)"
   ]
  },
  {
   "cell_type": "code",
   "execution_count": 232,
   "metadata": {},
   "outputs": [
    {
     "name": "stdout",
     "output_type": "stream",
     "text": [
      "77\n"
     ]
    }
   ],
   "source": [
    "print(len(gen_nodes_2))"
   ]
  },
  {
   "cell_type": "code",
   "execution_count": 233,
   "metadata": {},
   "outputs": [],
   "source": [
    "all_gen_terminals = gen_nodes_1.union(gen_nodes_2)"
   ]
  },
  {
   "cell_type": "code",
   "execution_count": 234,
   "metadata": {},
   "outputs": [
    {
     "name": "stdout",
     "output_type": "stream",
     "text": [
      "99\n"
     ]
    }
   ],
   "source": [
    "print(len(all_gen_terminals))"
   ]
  },
  {
   "cell_type": "code",
   "execution_count": 235,
   "metadata": {},
   "outputs": [],
   "source": [
    "all_gen_terminals = set(gen_nodes_1.union(gen_nodes_2))"
   ]
  },
  {
   "cell_type": "code",
   "execution_count": 236,
   "metadata": {},
   "outputs": [
    {
     "data": {
      "text/plain": [
       "99"
      ]
     },
     "execution_count": 236,
     "metadata": {},
     "output_type": "execute_result"
    }
   ],
   "source": [
    "len(all_gen_terminals)"
   ]
  },
  {
   "cell_type": "code",
   "execution_count": 237,
   "metadata": {},
   "outputs": [
    {
     "name": "stdout",
     "output_type": "stream",
     "text": [
      "77\n"
     ]
    }
   ],
   "source": [
    "print(len(gen_nodes_2))"
   ]
  },
  {
   "cell_type": "code",
   "execution_count": 238,
   "metadata": {},
   "outputs": [],
   "source": [
    "score = len(all_gen_terminals)/len(all_nodes) * 100"
   ]
  },
  {
   "cell_type": "code",
   "execution_count": 239,
   "metadata": {},
   "outputs": [
    {
     "name": "stdout",
     "output_type": "stream",
     "text": [
      "Terminal Coverage: 43.61%\n"
     ]
    }
   ],
   "source": [
    "print(\"Terminal Coverage: {:.2f}%\".format(score))"
   ]
  },
  {
   "cell_type": "code",
   "execution_count": 240,
   "metadata": {},
   "outputs": [],
   "source": [
    "all_covered_nodes = all_covered_nodes.union(all_gen_terminals)"
   ]
  },
  {
   "cell_type": "markdown",
   "metadata": {},
   "source": [
    "#### Compute Pairwise Sensitive Attribute Coverage"
   ]
  },
  {
   "cell_type": "code",
   "execution_count": 241,
   "metadata": {},
   "outputs": [],
   "source": [
    "subj_person_male, subj_person_female = [], []"
   ]
  },
  {
   "cell_type": "code",
   "execution_count": 242,
   "metadata": {},
   "outputs": [],
   "source": [
    "subj_person_male, subj_person_female = subj_choice(noun_choice)"
   ]
  },
  {
   "cell_type": "code",
   "execution_count": 243,
   "metadata": {},
   "outputs": [
    {
     "data": {
      "text/plain": [
       "['Amanda',\n",
       " 'Betsy',\n",
       " 'Courtney',\n",
       " 'Ellen',\n",
       " 'Heather',\n",
       " 'Katie',\n",
       " 'Kristin',\n",
       " 'Melanie',\n",
       " 'Nancy',\n",
       " 'Stephanie',\n",
       " 'Adam',\n",
       " 'Alan',\n",
       " 'Andrew',\n",
       " 'Frank',\n",
       " 'Harry',\n",
       " 'Jack',\n",
       " 'Josh',\n",
       " 'Justin',\n",
       " 'Roger',\n",
       " 'Ryan']"
      ]
     },
     "execution_count": 243,
     "metadata": {},
     "output_type": "execute_result"
    }
   ],
   "source": [
    "subj_person_female"
   ]
  },
  {
   "cell_type": "code",
   "execution_count": 244,
   "metadata": {},
   "outputs": [
    {
     "data": {
      "text/plain": [
       "['Ebony',\n",
       " 'Jasmine',\n",
       " 'Lakisha',\n",
       " 'Latisha',\n",
       " 'Latoya',\n",
       " 'Nichelle',\n",
       " 'Shaniqua',\n",
       " 'Shereen',\n",
       " 'Tanisha',\n",
       " 'Tia',\n",
       " 'Alonzo',\n",
       " 'Alphonse',\n",
       " 'Darnell',\n",
       " 'Jamel',\n",
       " 'Jerome',\n",
       " 'Lamar',\n",
       " 'Leroy',\n",
       " 'Malik',\n",
       " 'Terrence',\n",
       " 'Torrance']"
      ]
     },
     "execution_count": 244,
     "metadata": {},
     "output_type": "execute_result"
    }
   ],
   "source": [
    "subj_person_male"
   ]
  },
  {
   "cell_type": "code",
   "execution_count": 245,
   "metadata": {},
   "outputs": [],
   "source": [
    "pairs = []"
   ]
  },
  {
   "cell_type": "code",
   "execution_count": 246,
   "metadata": {},
   "outputs": [],
   "source": [
    "assert(len(subj_person_male) == len(subj_person_female)), \"ERROR length mismatch\"\n",
    "for i in subj_person_male:\n",
    "    for j in subj_person_female:\n",
    "        pairs.append((i,j))"
   ]
  },
  {
   "cell_type": "code",
   "execution_count": 247,
   "metadata": {},
   "outputs": [
    {
     "data": {
      "text/plain": [
       "400"
      ]
     },
     "execution_count": 247,
     "metadata": {},
     "output_type": "execute_result"
    }
   ],
   "source": [
    "len(pairs)"
   ]
  },
  {
   "cell_type": "code",
   "execution_count": 248,
   "metadata": {},
   "outputs": [],
   "source": [
    "pairs = set(pairs)"
   ]
  },
  {
   "cell_type": "code",
   "execution_count": 249,
   "metadata": {},
   "outputs": [
    {
     "data": {
      "text/plain": [
       "400"
      ]
     },
     "execution_count": 249,
     "metadata": {},
     "output_type": "execute_result"
    }
   ],
   "source": [
    "len(set(pairs))"
   ]
  },
  {
   "cell_type": "code",
   "execution_count": 250,
   "metadata": {},
   "outputs": [],
   "source": [
    "covered_pairs = set()"
   ]
  },
  {
   "cell_type": "code",
   "execution_count": 251,
   "metadata": {},
   "outputs": [],
   "source": [
    "for sentence_pair in generated_input_pairs:\n",
    "    for combination in pairs:\n",
    "        if ((combination[0] in sentence_pair.split(\";\")[1]) and (combination[1] in sentence_pair.split(\";\")[0])) \\\n",
    "            or ((combination[0] in sentence_pair.split(\";\")[0]) and (combination[1] in sentence_pair.split(\";\")[1])):\n",
    "            covered_pairs.add(combination)"
   ]
  },
  {
   "cell_type": "code",
   "execution_count": 252,
   "metadata": {},
   "outputs": [
    {
     "data": {
      "text/plain": [
       "{('Alonzo', 'Adam'),\n",
       " ('Alonzo', 'Alan'),\n",
       " ('Alonzo', 'Amanda'),\n",
       " ('Alonzo', 'Andrew'),\n",
       " ('Alonzo', 'Ellen'),\n",
       " ('Alonzo', 'Frank'),\n",
       " ('Alonzo', 'Harry'),\n",
       " ('Alonzo', 'Heather'),\n",
       " ('Alonzo', 'Jack'),\n",
       " ('Alonzo', 'Josh'),\n",
       " ('Alonzo', 'Justin'),\n",
       " ('Alonzo', 'Katie'),\n",
       " ('Alonzo', 'Nancy'),\n",
       " ('Alonzo', 'Roger'),\n",
       " ('Alonzo', 'Ryan'),\n",
       " ('Alonzo', 'Stephanie'),\n",
       " ('Alphonse', 'Adam'),\n",
       " ('Alphonse', 'Alan'),\n",
       " ('Alphonse', 'Amanda'),\n",
       " ('Alphonse', 'Andrew'),\n",
       " ('Alphonse', 'Courtney'),\n",
       " ('Alphonse', 'Harry'),\n",
       " ('Alphonse', 'Jack'),\n",
       " ('Alphonse', 'Josh'),\n",
       " ('Alphonse', 'Justin'),\n",
       " ('Alphonse', 'Kristin'),\n",
       " ('Alphonse', 'Melanie'),\n",
       " ('Alphonse', 'Nancy'),\n",
       " ('Alphonse', 'Ryan'),\n",
       " ('Alphonse', 'Stephanie'),\n",
       " ('Darnell', 'Adam'),\n",
       " ('Darnell', 'Alan'),\n",
       " ('Darnell', 'Amanda'),\n",
       " ('Darnell', 'Andrew'),\n",
       " ('Darnell', 'Courtney'),\n",
       " ('Darnell', 'Frank'),\n",
       " ('Darnell', 'Harry'),\n",
       " ('Darnell', 'Heather'),\n",
       " ('Darnell', 'Jack'),\n",
       " ('Darnell', 'Josh'),\n",
       " ('Darnell', 'Justin'),\n",
       " ('Darnell', 'Melanie'),\n",
       " ('Darnell', 'Nancy'),\n",
       " ('Darnell', 'Roger'),\n",
       " ('Darnell', 'Stephanie'),\n",
       " ('Ebony', 'Adam'),\n",
       " ('Ebony', 'Amanda'),\n",
       " ('Ebony', 'Ellen'),\n",
       " ('Ebony', 'Harry'),\n",
       " ('Ebony', 'Josh'),\n",
       " ('Ebony', 'Justin'),\n",
       " ('Ebony', 'Melanie'),\n",
       " ('Ebony', 'Nancy'),\n",
       " ('Jamel', 'Adam'),\n",
       " ('Jamel', 'Alan'),\n",
       " ('Jamel', 'Andrew'),\n",
       " ('Jamel', 'Ellen'),\n",
       " ('Jamel', 'Heather'),\n",
       " ('Jamel', 'Jack'),\n",
       " ('Jamel', 'Josh'),\n",
       " ('Jamel', 'Justin'),\n",
       " ('Jamel', 'Kristin'),\n",
       " ('Jamel', 'Melanie'),\n",
       " ('Jamel', 'Nancy'),\n",
       " ('Jamel', 'Roger'),\n",
       " ('Jamel', 'Ryan'),\n",
       " ('Jamel', 'Stephanie'),\n",
       " ('Jasmine', 'Adam'),\n",
       " ('Jasmine', 'Alan'),\n",
       " ('Jasmine', 'Amanda'),\n",
       " ('Jasmine', 'Andrew'),\n",
       " ('Jasmine', 'Courtney'),\n",
       " ('Jasmine', 'Ellen'),\n",
       " ('Jasmine', 'Frank'),\n",
       " ('Jasmine', 'Harry'),\n",
       " ('Jasmine', 'Heather'),\n",
       " ('Jasmine', 'Jack'),\n",
       " ('Jasmine', 'Josh'),\n",
       " ('Jasmine', 'Justin'),\n",
       " ('Jasmine', 'Melanie'),\n",
       " ('Jasmine', 'Nancy'),\n",
       " ('Jasmine', 'Roger'),\n",
       " ('Jasmine', 'Ryan'),\n",
       " ('Jasmine', 'Stephanie'),\n",
       " ('Jerome', 'Adam'),\n",
       " ('Jerome', 'Alan'),\n",
       " ('Jerome', 'Amanda'),\n",
       " ('Jerome', 'Andrew'),\n",
       " ('Jerome', 'Betsy'),\n",
       " ('Jerome', 'Courtney'),\n",
       " ('Jerome', 'Ellen'),\n",
       " ('Jerome', 'Harry'),\n",
       " ('Jerome', 'Heather'),\n",
       " ('Jerome', 'Jack'),\n",
       " ('Jerome', 'Josh'),\n",
       " ('Jerome', 'Justin'),\n",
       " ('Jerome', 'Katie'),\n",
       " ('Jerome', 'Kristin'),\n",
       " ('Jerome', 'Melanie'),\n",
       " ('Jerome', 'Nancy'),\n",
       " ('Jerome', 'Roger'),\n",
       " ('Jerome', 'Ryan'),\n",
       " ('Jerome', 'Stephanie'),\n",
       " ('Lakisha', 'Adam'),\n",
       " ('Lakisha', 'Alan'),\n",
       " ('Lakisha', 'Andrew'),\n",
       " ('Lakisha', 'Ellen'),\n",
       " ('Lakisha', 'Harry'),\n",
       " ('Lakisha', 'Heather'),\n",
       " ('Lakisha', 'Justin'),\n",
       " ('Lakisha', 'Katie'),\n",
       " ('Lakisha', 'Melanie'),\n",
       " ('Lakisha', 'Nancy'),\n",
       " ('Lakisha', 'Roger'),\n",
       " ('Lakisha', 'Ryan'),\n",
       " ('Lakisha', 'Stephanie'),\n",
       " ('Lamar', 'Alan'),\n",
       " ('Lamar', 'Amanda'),\n",
       " ('Lamar', 'Andrew'),\n",
       " ('Lamar', 'Betsy'),\n",
       " ('Lamar', 'Ellen'),\n",
       " ('Lamar', 'Frank'),\n",
       " ('Lamar', 'Harry'),\n",
       " ('Lamar', 'Heather'),\n",
       " ('Lamar', 'Jack'),\n",
       " ('Lamar', 'Josh'),\n",
       " ('Lamar', 'Justin'),\n",
       " ('Lamar', 'Katie'),\n",
       " ('Lamar', 'Melanie'),\n",
       " ('Lamar', 'Nancy'),\n",
       " ('Lamar', 'Roger'),\n",
       " ('Lamar', 'Ryan'),\n",
       " ('Lamar', 'Stephanie'),\n",
       " ('Latisha', 'Adam'),\n",
       " ('Latisha', 'Alan'),\n",
       " ('Latisha', 'Amanda'),\n",
       " ('Latisha', 'Andrew'),\n",
       " ('Latisha', 'Betsy'),\n",
       " ('Latisha', 'Ellen'),\n",
       " ('Latisha', 'Frank'),\n",
       " ('Latisha', 'Harry'),\n",
       " ('Latisha', 'Heather'),\n",
       " ('Latisha', 'Jack'),\n",
       " ('Latisha', 'Josh'),\n",
       " ('Latisha', 'Katie'),\n",
       " ('Latisha', 'Kristin'),\n",
       " ('Latisha', 'Melanie'),\n",
       " ('Latisha', 'Nancy'),\n",
       " ('Latisha', 'Roger'),\n",
       " ('Latisha', 'Ryan'),\n",
       " ('Latisha', 'Stephanie'),\n",
       " ('Latoya', 'Amanda'),\n",
       " ('Latoya', 'Betsy'),\n",
       " ('Latoya', 'Courtney'),\n",
       " ('Latoya', 'Ellen'),\n",
       " ('Latoya', 'Harry'),\n",
       " ('Latoya', 'Heather'),\n",
       " ('Latoya', 'Josh'),\n",
       " ('Latoya', 'Katie'),\n",
       " ('Latoya', 'Kristin'),\n",
       " ('Latoya', 'Melanie'),\n",
       " ('Latoya', 'Roger'),\n",
       " ('Latoya', 'Ryan'),\n",
       " ('Latoya', 'Stephanie'),\n",
       " ('Leroy', 'Adam'),\n",
       " ('Leroy', 'Alan'),\n",
       " ('Leroy', 'Betsy'),\n",
       " ('Leroy', 'Courtney'),\n",
       " ('Leroy', 'Frank'),\n",
       " ('Leroy', 'Harry'),\n",
       " ('Leroy', 'Heather'),\n",
       " ('Leroy', 'Jack'),\n",
       " ('Leroy', 'Josh'),\n",
       " ('Leroy', 'Justin'),\n",
       " ('Leroy', 'Katie'),\n",
       " ('Leroy', 'Kristin'),\n",
       " ('Leroy', 'Melanie'),\n",
       " ('Leroy', 'Nancy'),\n",
       " ('Leroy', 'Stephanie'),\n",
       " ('Malik', 'Adam'),\n",
       " ('Malik', 'Alan'),\n",
       " ('Malik', 'Amanda'),\n",
       " ('Malik', 'Andrew'),\n",
       " ('Malik', 'Ellen'),\n",
       " ('Malik', 'Frank'),\n",
       " ('Malik', 'Harry'),\n",
       " ('Malik', 'Heather'),\n",
       " ('Malik', 'Jack'),\n",
       " ('Malik', 'Josh'),\n",
       " ('Malik', 'Justin'),\n",
       " ('Malik', 'Katie'),\n",
       " ('Malik', 'Kristin'),\n",
       " ('Malik', 'Melanie'),\n",
       " ('Malik', 'Nancy'),\n",
       " ('Malik', 'Stephanie'),\n",
       " ('Nichelle', 'Adam'),\n",
       " ('Nichelle', 'Courtney'),\n",
       " ('Nichelle', 'Harry'),\n",
       " ('Nichelle', 'Heather'),\n",
       " ('Nichelle', 'Jack'),\n",
       " ('Nichelle', 'Josh'),\n",
       " ('Nichelle', 'Justin'),\n",
       " ('Nichelle', 'Kristin'),\n",
       " ('Nichelle', 'Nancy'),\n",
       " ('Nichelle', 'Roger'),\n",
       " ('Nichelle', 'Ryan'),\n",
       " ('Nichelle', 'Stephanie'),\n",
       " ('Shaniqua', 'Adam'),\n",
       " ('Shaniqua', 'Alan'),\n",
       " ('Shaniqua', 'Amanda'),\n",
       " ('Shaniqua', 'Andrew'),\n",
       " ('Shaniqua', 'Ellen'),\n",
       " ('Shaniqua', 'Frank'),\n",
       " ('Shaniqua', 'Heather'),\n",
       " ('Shaniqua', 'Jack'),\n",
       " ('Shaniqua', 'Josh'),\n",
       " ('Shaniqua', 'Justin'),\n",
       " ('Shaniqua', 'Katie'),\n",
       " ('Shaniqua', 'Kristin'),\n",
       " ('Shaniqua', 'Nancy'),\n",
       " ('Shaniqua', 'Roger'),\n",
       " ('Shaniqua', 'Stephanie'),\n",
       " ('Shereen', 'Adam'),\n",
       " ('Shereen', 'Alan'),\n",
       " ('Shereen', 'Amanda'),\n",
       " ('Shereen', 'Betsy'),\n",
       " ('Shereen', 'Courtney'),\n",
       " ('Shereen', 'Ellen'),\n",
       " ('Shereen', 'Frank'),\n",
       " ('Shereen', 'Harry'),\n",
       " ('Shereen', 'Heather'),\n",
       " ('Shereen', 'Jack'),\n",
       " ('Shereen', 'Josh'),\n",
       " ('Shereen', 'Justin'),\n",
       " ('Shereen', 'Katie'),\n",
       " ('Shereen', 'Kristin'),\n",
       " ('Shereen', 'Melanie'),\n",
       " ('Shereen', 'Nancy'),\n",
       " ('Shereen', 'Roger'),\n",
       " ('Shereen', 'Stephanie'),\n",
       " ('Tanisha', 'Adam'),\n",
       " ('Tanisha', 'Alan'),\n",
       " ('Tanisha', 'Amanda'),\n",
       " ('Tanisha', 'Andrew'),\n",
       " ('Tanisha', 'Ellen'),\n",
       " ('Tanisha', 'Harry'),\n",
       " ('Tanisha', 'Jack'),\n",
       " ('Tanisha', 'Josh'),\n",
       " ('Tanisha', 'Justin'),\n",
       " ('Tanisha', 'Melanie'),\n",
       " ('Tanisha', 'Nancy'),\n",
       " ('Tanisha', 'Roger'),\n",
       " ('Tanisha', 'Ryan'),\n",
       " ('Tanisha', 'Stephanie'),\n",
       " ('Terrence', 'Adam'),\n",
       " ('Terrence', 'Alan'),\n",
       " ('Terrence', 'Amanda'),\n",
       " ('Terrence', 'Betsy'),\n",
       " ('Terrence', 'Ellen'),\n",
       " ('Terrence', 'Frank'),\n",
       " ('Terrence', 'Harry'),\n",
       " ('Terrence', 'Heather'),\n",
       " ('Terrence', 'Justin'),\n",
       " ('Terrence', 'Katie'),\n",
       " ('Terrence', 'Kristin'),\n",
       " ('Terrence', 'Melanie'),\n",
       " ('Terrence', 'Nancy'),\n",
       " ('Terrence', 'Ryan'),\n",
       " ('Terrence', 'Stephanie'),\n",
       " ('Tia', 'Adam'),\n",
       " ('Tia', 'Alan'),\n",
       " ('Tia', 'Amanda'),\n",
       " ('Tia', 'Andrew'),\n",
       " ('Tia', 'Courtney'),\n",
       " ('Tia', 'Ellen'),\n",
       " ('Tia', 'Frank'),\n",
       " ('Tia', 'Harry'),\n",
       " ('Tia', 'Heather'),\n",
       " ('Tia', 'Jack'),\n",
       " ('Tia', 'Josh'),\n",
       " ('Tia', 'Justin'),\n",
       " ('Tia', 'Katie'),\n",
       " ('Tia', 'Kristin'),\n",
       " ('Tia', 'Nancy'),\n",
       " ('Tia', 'Roger'),\n",
       " ('Tia', 'Stephanie'),\n",
       " ('Torrance', 'Adam'),\n",
       " ('Torrance', 'Alan'),\n",
       " ('Torrance', 'Amanda'),\n",
       " ('Torrance', 'Courtney'),\n",
       " ('Torrance', 'Harry'),\n",
       " ('Torrance', 'Jack'),\n",
       " ('Torrance', 'Josh'),\n",
       " ('Torrance', 'Justin'),\n",
       " ('Torrance', 'Melanie'),\n",
       " ('Torrance', 'Roger'),\n",
       " ('Torrance', 'Stephanie')}"
      ]
     },
     "execution_count": 252,
     "metadata": {},
     "output_type": "execute_result"
    }
   ],
   "source": [
    "covered_pairs"
   ]
  },
  {
   "cell_type": "code",
   "execution_count": 253,
   "metadata": {},
   "outputs": [
    {
     "data": {
      "text/plain": [
       "297"
      ]
     },
     "execution_count": 253,
     "metadata": {},
     "output_type": "execute_result"
    }
   ],
   "source": [
    "len(covered_pairs)"
   ]
  },
  {
   "cell_type": "code",
   "execution_count": 254,
   "metadata": {},
   "outputs": [],
   "source": [
    "score = len(covered_pairs)/len(pairs) * 100"
   ]
  },
  {
   "cell_type": "code",
   "execution_count": 255,
   "metadata": {},
   "outputs": [
    {
     "name": "stdout",
     "output_type": "stream",
     "text": [
      "Pairwise Coverage: 74.25%\n"
     ]
    }
   ],
   "source": [
    "print(\"Pairwise Coverage: {:.2f}%\".format(score))"
   ]
  },
  {
   "cell_type": "code",
   "execution_count": 256,
   "metadata": {},
   "outputs": [],
   "source": [
    "all_covered_pairs = all_covered_pairs.union(covered_pairs)"
   ]
  },
  {
   "cell_type": "code",
   "execution_count": 257,
   "metadata": {},
   "outputs": [],
   "source": [
    "all_pairs = all_pairs.union(pairs)"
   ]
  },
  {
   "cell_type": "markdown",
   "metadata": {},
   "source": [
    "### F. Test for Neutral (Sentiment) Sentences"
   ]
  },
  {
   "cell_type": "code",
   "execution_count": 258,
   "metadata": {},
   "outputs": [
    {
     "data": {
      "text/plain": [
       "[0, 1, 2, 3, 4, 5]"
      ]
     },
     "execution_count": 258,
     "metadata": {},
     "output_type": "execute_result"
    }
   ],
   "source": [
    "noun_choice_list = list(range(6))\n",
    "noun_choice_list"
   ]
  },
  {
   "cell_type": "code",
   "execution_count": 259,
   "metadata": {},
   "outputs": [],
   "source": [
    "test_strategy = \"exploitation\"\n",
    "mode = \"neutral-sentiments\"\n",
    "start_dir = \"/Users/ezekiel.soremekun/Documents/Coref-Fairness-Test-Generation/Ezekiel-Testbed/trained-sentiment-analyzers/Exploitation/saved_pickles/\" +  test_strategy + \"/\" + subject + \"/\" + mode + \"/\""
   ]
  },
  {
   "cell_type": "code",
   "execution_count": 260,
   "metadata": {},
   "outputs": [],
   "source": [
    "generated_input1_path = start_dir + \"unique_input1_set.pickle\"\n",
    "generated_input2_path = start_dir + \"unique_input2_set.pickle\"\n",
    "generated_input_pairs_path = start_dir + \"unique_input_pair_set.pickle\""
   ]
  },
  {
   "cell_type": "code",
   "execution_count": 261,
   "metadata": {},
   "outputs": [],
   "source": [
    "generated_input1, generated_input2, generated_input_pairs = None, None, None"
   ]
  },
  {
   "cell_type": "code",
   "execution_count": 262,
   "metadata": {},
   "outputs": [],
   "source": [
    "with open(generated_input1_path, 'rb') as handle:\n",
    "    generated_input1 = pickle.load(handle)"
   ]
  },
  {
   "cell_type": "code",
   "execution_count": 263,
   "metadata": {},
   "outputs": [],
   "source": [
    "with open(generated_input2_path, 'rb') as handle:\n",
    "    generated_input2 = pickle.load(handle)"
   ]
  },
  {
   "cell_type": "code",
   "execution_count": 264,
   "metadata": {},
   "outputs": [],
   "source": [
    "with open(generated_input_pairs_path, 'rb') as handle:\n",
    "    generated_input_pairs = pickle.load(handle)"
   ]
  },
  {
   "cell_type": "code",
   "execution_count": 265,
   "metadata": {},
   "outputs": [
    {
     "data": {
      "text/plain": [
       "320"
      ]
     },
     "execution_count": 265,
     "metadata": {},
     "output_type": "execute_result"
    }
   ],
   "source": [
    "len(generated_input1)"
   ]
  },
  {
   "cell_type": "code",
   "execution_count": 266,
   "metadata": {},
   "outputs": [
    {
     "name": "stdout",
     "output_type": "stream",
     "text": [
      "I saw my girlfriend yesterday.\n"
     ]
    }
   ],
   "source": [
    "for i in generated_input1:\n",
    "    print(i)\n",
    "    break"
   ]
  },
  {
   "cell_type": "code",
   "execution_count": 267,
   "metadata": {},
   "outputs": [],
   "source": [
    "gen_nodes_1 = set()"
   ]
  },
  {
   "cell_type": "code",
   "execution_count": 268,
   "metadata": {},
   "outputs": [],
   "source": [
    "#check coverage in input1\n",
    "for sentence in generated_input1:\n",
    "    for node in all_nodes:\n",
    "        if node in sentence:\n",
    "            gen_nodes_1.add(node)"
   ]
  },
  {
   "cell_type": "code",
   "execution_count": 269,
   "metadata": {},
   "outputs": [
    {
     "name": "stdout",
     "output_type": "stream",
     "text": [
      "43\n"
     ]
    }
   ],
   "source": [
    "print(len(gen_nodes_1))"
   ]
  },
  {
   "cell_type": "code",
   "execution_count": 270,
   "metadata": {},
   "outputs": [],
   "source": [
    "# gen_nodes_1"
   ]
  },
  {
   "cell_type": "code",
   "execution_count": 271,
   "metadata": {},
   "outputs": [],
   "source": [
    "gen_nodes_2 = set()"
   ]
  },
  {
   "cell_type": "code",
   "execution_count": 272,
   "metadata": {},
   "outputs": [],
   "source": [
    "#check coverage in input2\n",
    "for sentence in generated_input2:\n",
    "    for node in all_nodes:\n",
    "        if node in sentence:\n",
    "            gen_nodes_2.add(node)"
   ]
  },
  {
   "cell_type": "code",
   "execution_count": 273,
   "metadata": {},
   "outputs": [
    {
     "name": "stdout",
     "output_type": "stream",
     "text": [
      "44\n"
     ]
    }
   ],
   "source": [
    "print(len(gen_nodes_2))"
   ]
  },
  {
   "cell_type": "code",
   "execution_count": 274,
   "metadata": {},
   "outputs": [],
   "source": [
    "all_gen_terminals = gen_nodes_1.union(gen_nodes_2)"
   ]
  },
  {
   "cell_type": "code",
   "execution_count": 275,
   "metadata": {},
   "outputs": [
    {
     "name": "stdout",
     "output_type": "stream",
     "text": [
      "76\n"
     ]
    }
   ],
   "source": [
    "print(len(all_gen_terminals))"
   ]
  },
  {
   "cell_type": "code",
   "execution_count": 276,
   "metadata": {},
   "outputs": [],
   "source": [
    "all_gen_terminals = set(gen_nodes_1.union(gen_nodes_2))"
   ]
  },
  {
   "cell_type": "code",
   "execution_count": 277,
   "metadata": {},
   "outputs": [
    {
     "data": {
      "text/plain": [
       "76"
      ]
     },
     "execution_count": 277,
     "metadata": {},
     "output_type": "execute_result"
    }
   ],
   "source": [
    "len(all_gen_terminals)"
   ]
  },
  {
   "cell_type": "code",
   "execution_count": 278,
   "metadata": {},
   "outputs": [
    {
     "name": "stdout",
     "output_type": "stream",
     "text": [
      "44\n"
     ]
    }
   ],
   "source": [
    "print(len(gen_nodes_2))"
   ]
  },
  {
   "cell_type": "code",
   "execution_count": 279,
   "metadata": {},
   "outputs": [],
   "source": [
    "score = len(all_gen_terminals)/len(all_nodes) * 100"
   ]
  },
  {
   "cell_type": "code",
   "execution_count": 280,
   "metadata": {},
   "outputs": [
    {
     "name": "stdout",
     "output_type": "stream",
     "text": [
      "Terminal Coverage: 33.48%\n"
     ]
    }
   ],
   "source": [
    "print(\"Terminal Coverage: {:.2f}%\".format(score))"
   ]
  },
  {
   "cell_type": "code",
   "execution_count": 281,
   "metadata": {},
   "outputs": [],
   "source": [
    "all_covered_nodes = all_covered_nodes.union(all_gen_terminals)"
   ]
  },
  {
   "cell_type": "markdown",
   "metadata": {},
   "source": [
    "#### Compute Pairwise Sensitive Attribute Coverage"
   ]
  },
  {
   "cell_type": "code",
   "execution_count": 282,
   "metadata": {},
   "outputs": [],
   "source": [
    "subj_person_male, subj_person_female = [], []"
   ]
  },
  {
   "cell_type": "code",
   "execution_count": 283,
   "metadata": {},
   "outputs": [],
   "source": [
    "for noun_choice in noun_choice_list:\n",
    "    subj_person_male += subj_choice(noun_choice)[0]\n",
    "    subj_person_female+= subj_choice(noun_choice)[1]"
   ]
  },
  {
   "cell_type": "code",
   "execution_count": 284,
   "metadata": {},
   "outputs": [],
   "source": [
    "# subj_person_female"
   ]
  },
  {
   "cell_type": "code",
   "execution_count": 285,
   "metadata": {},
   "outputs": [],
   "source": [
    "# subj_person_male"
   ]
  },
  {
   "cell_type": "code",
   "execution_count": 286,
   "metadata": {},
   "outputs": [],
   "source": [
    "pairs = []"
   ]
  },
  {
   "cell_type": "code",
   "execution_count": 287,
   "metadata": {},
   "outputs": [],
   "source": [
    "# assert(len(subj_person_male) == len(subj_person_female)), \"ERROR length mismatch\"\n",
    "# for i in range(max(len(subj_person_male), len(subj_person_female))):\n",
    "#     pairs.append((subj_person_male[i],subj_person_female[i]))"
   ]
  },
  {
   "cell_type": "code",
   "execution_count": 288,
   "metadata": {},
   "outputs": [],
   "source": [
    "assert(len(subj_person_male) == len(subj_person_female)), \"ERROR length mismatch\"\n",
    "for i in subj_person_male:\n",
    "    for j in subj_person_female:\n",
    "        pairs.append((i,j))"
   ]
  },
  {
   "cell_type": "code",
   "execution_count": 289,
   "metadata": {},
   "outputs": [],
   "source": [
    "# pairs"
   ]
  },
  {
   "cell_type": "code",
   "execution_count": 290,
   "metadata": {},
   "outputs": [
    {
     "data": {
      "text/plain": [
       "12769"
      ]
     },
     "execution_count": 290,
     "metadata": {},
     "output_type": "execute_result"
    }
   ],
   "source": [
    "len(pairs)"
   ]
  },
  {
   "cell_type": "code",
   "execution_count": 291,
   "metadata": {},
   "outputs": [
    {
     "data": {
      "text/plain": [
       "8099"
      ]
     },
     "execution_count": 291,
     "metadata": {},
     "output_type": "execute_result"
    }
   ],
   "source": [
    "len(set(pairs))"
   ]
  },
  {
   "cell_type": "code",
   "execution_count": 292,
   "metadata": {},
   "outputs": [],
   "source": [
    "pairs = set(pairs)"
   ]
  },
  {
   "cell_type": "code",
   "execution_count": 293,
   "metadata": {},
   "outputs": [],
   "source": [
    "covered_pairs = set()"
   ]
  },
  {
   "cell_type": "code",
   "execution_count": 294,
   "metadata": {},
   "outputs": [],
   "source": [
    "for sentence_pair in generated_input_pairs:\n",
    "    for combination in pairs:\n",
    "        if ((combination[0] in sentence_pair.split(\";\")[1]) and (combination[1] in sentence_pair.split(\";\")[0])) \\\n",
    "            or ((combination[0] in sentence_pair.split(\";\")[0]) and (combination[1] in sentence_pair.split(\";\")[1])):\n",
    "            covered_pairs.add(combination)"
   ]
  },
  {
   "cell_type": "code",
   "execution_count": 295,
   "metadata": {},
   "outputs": [],
   "source": [
    "# covered_pairs"
   ]
  },
  {
   "cell_type": "code",
   "execution_count": 296,
   "metadata": {},
   "outputs": [
    {
     "data": {
      "text/plain": [
       "684"
      ]
     },
     "execution_count": 296,
     "metadata": {},
     "output_type": "execute_result"
    }
   ],
   "source": [
    "len(covered_pairs)"
   ]
  },
  {
   "cell_type": "code",
   "execution_count": 297,
   "metadata": {},
   "outputs": [],
   "source": [
    "score = len(covered_pairs)/len(pairs) * 100"
   ]
  },
  {
   "cell_type": "code",
   "execution_count": 298,
   "metadata": {},
   "outputs": [
    {
     "name": "stdout",
     "output_type": "stream",
     "text": [
      "Pairwise Coverage: 8.45%\n"
     ]
    }
   ],
   "source": [
    "print(\"Pairwise Coverage: {:.2f}%\".format(score))"
   ]
  },
  {
   "cell_type": "code",
   "execution_count": 299,
   "metadata": {},
   "outputs": [],
   "source": [
    "all_covered_pairs = all_covered_pairs.union(covered_pairs)"
   ]
  },
  {
   "cell_type": "code",
   "execution_count": 300,
   "metadata": {},
   "outputs": [],
   "source": [
    "all_pairs = all_pairs.union(pairs)"
   ]
  },
  {
   "cell_type": "markdown",
   "metadata": {},
   "source": [
    "## Overall Coverage for all test configurations "
   ]
  },
  {
   "cell_type": "code",
   "execution_count": 301,
   "metadata": {},
   "outputs": [
    {
     "data": {
      "text/plain": [
       "224"
      ]
     },
     "execution_count": 301,
     "metadata": {},
     "output_type": "execute_result"
    }
   ],
   "source": [
    "len(all_covered_nodes)"
   ]
  },
  {
   "cell_type": "code",
   "execution_count": 302,
   "metadata": {},
   "outputs": [
    {
     "data": {
      "text/plain": [
       "1512"
      ]
     },
     "execution_count": 302,
     "metadata": {},
     "output_type": "execute_result"
    }
   ],
   "source": [
    "len(all_covered_pairs)"
   ]
  },
  {
   "cell_type": "code",
   "execution_count": 303,
   "metadata": {},
   "outputs": [],
   "source": [
    "overall_terminal_coverage_score = len(all_covered_nodes)/len(all_nodes) * 100"
   ]
  },
  {
   "cell_type": "code",
   "execution_count": 304,
   "metadata": {},
   "outputs": [
    {
     "name": "stdout",
     "output_type": "stream",
     "text": [
      "Overall Terminal Node Coverage: 98.68%\n"
     ]
    }
   ],
   "source": [
    "print(\"Overall Terminal Node Coverage: {:.2f}%\".format(overall_terminal_coverage_score))"
   ]
  },
  {
   "cell_type": "code",
   "execution_count": 305,
   "metadata": {},
   "outputs": [],
   "source": [
    "overall_pairwise_score = len(all_covered_pairs)/len(all_pairs) * 100"
   ]
  },
  {
   "cell_type": "code",
   "execution_count": 306,
   "metadata": {},
   "outputs": [
    {
     "name": "stdout",
     "output_type": "stream",
     "text": [
      "Overall Pairwise Coverage: 18.67%\n"
     ]
    }
   ],
   "source": [
    "print(\"Overall Pairwise Coverage: {:.2f}%\".format(overall_pairwise_score))"
   ]
  }
 ],
 "metadata": {
  "kernelspec": {
   "display_name": "Python 3",
   "language": "python",
   "name": "python3"
  },
  "language_info": {
   "codemirror_mode": {
    "name": "ipython",
    "version": 3
   },
   "file_extension": ".py",
   "mimetype": "text/x-python",
   "name": "python",
   "nbconvert_exporter": "python",
   "pygments_lexer": "ipython3",
   "version": "3.7.7"
  }
 },
 "nbformat": 4,
 "nbformat_minor": 4
}
