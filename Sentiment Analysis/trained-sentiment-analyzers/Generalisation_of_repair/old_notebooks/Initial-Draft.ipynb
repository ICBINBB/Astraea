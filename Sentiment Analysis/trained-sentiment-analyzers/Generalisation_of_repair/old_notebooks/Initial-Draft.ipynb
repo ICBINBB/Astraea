{
 "cells": [
  {
   "cell_type": "code",
   "execution_count": null,
   "metadata": {},
   "outputs": [],
   "source": []
  },
  {
   "cell_type": "code",
   "execution_count": 103,
   "metadata": {},
   "outputs": [],
   "source": [
    "import pickle, random\n",
    "import numpy as np"
   ]
  },
  {
   "cell_type": "code",
   "execution_count": 104,
   "metadata": {},
   "outputs": [],
   "source": [
    "def get_sorted_dict(D):\n",
    "    return {k: v for k, v in sorted(D.items(), key=lambda item: item[1], reverse=1)}"
   ]
  },
  {
   "cell_type": "code",
   "execution_count": 105,
   "metadata": {},
   "outputs": [],
   "source": [
    "mode = \"gender-occupation-noun\""
   ]
  },
  {
   "cell_type": "code",
   "execution_count": 106,
   "metadata": {},
   "outputs": [],
   "source": [
    "pickle_path_1 = '/Users/ezekiel.soremekun/Documents/Coref-Fairness-Test-Generation/Ezekiel-Testbed/trained-sentiment-analyzers/Exploitation/saved_pickles/exploitation/hub/'  + \\\n",
    "                mode + '/noun_error1.pickle'\n",
    "\n",
    "pickle_path_2 = '/Users/ezekiel.soremekun/Documents/Coref-Fairness-Test-Generation/Ezekiel-Testbed/trained-sentiment-analyzers/Exploitation/saved_pickles/exploitation/hub/'  + \\\n",
    "                mode + '/noun_error2.pickle'"
   ]
  },
  {
   "cell_type": "code",
   "execution_count": 107,
   "metadata": {},
   "outputs": [],
   "source": [
    "with open(pickle_path_1, 'rb') as handle:\n",
    "    noun_error1 = pickle.load(handle)\n",
    "    noun_error1.pop('her', None)\n",
    "    noun_error1 = get_sorted_dict(noun_error1)"
   ]
  },
  {
   "cell_type": "code",
   "execution_count": 108,
   "metadata": {},
   "outputs": [],
   "source": [
    "with open(pickle_path_2, 'rb') as handle:\n",
    "    noun_error2 = pickle.load(handle)\n",
    "    noun_error2.pop('him', None)\n",
    "    noun_error2 = get_sorted_dict(noun_error2)"
   ]
  },
  {
   "cell_type": "code",
   "execution_count": 109,
   "metadata": {},
   "outputs": [
    {
     "data": {
      "text/plain": [
       "{'the cook': 127,\n",
       " 'the analyst': 126,\n",
       " 'the engineer': 80,\n",
       " 'the mechanic': 77,\n",
       " 'the technician': 70,\n",
       " 'the supervisor': 67,\n",
       " 'the salesperson': 63,\n",
       " 'the farmer': 58,\n",
       " 'the chief': 57,\n",
       " 'the lawyer': 54,\n",
       " 'the developer': 50,\n",
       " 'the accountant': 49,\n",
       " 'the construction worker': 42,\n",
       " 'the carpenter': 40,\n",
       " 'the janitor': 36,\n",
       " 'the guard': 35,\n",
       " 'the physician': 34,\n",
       " 'the CEO': 33,\n",
       " 'the manager': 32,\n",
       " 'the sheriff': 31,\n",
       " 'the driver': 29,\n",
       " 'the laborer': 23,\n",
       " 'the mover': 19}"
      ]
     },
     "execution_count": 109,
     "metadata": {},
     "output_type": "execute_result"
    }
   ],
   "source": [
    "# #male biased occupations\n",
    "noun_error2"
   ]
  },
  {
   "cell_type": "code",
   "execution_count": 110,
   "metadata": {},
   "outputs": [
    {
     "data": {
      "text/plain": [
       "{'the writer': 136,\n",
       " 'the teacher': 106,\n",
       " 'the cleaner': 98,\n",
       " 'the auditor': 80,\n",
       " 'the counselor': 74,\n",
       " 'the nurse': 73,\n",
       " 'the the paralegal': 68,\n",
       " 'the editor': 63,\n",
       " 'the tailor': 63,\n",
       " 'the clerk': 56,\n",
       " 'the the nurse': 56,\n",
       " 'the cashier': 47,\n",
       " 'the housekeeper': 46,\n",
       " 'the attendant': 40,\n",
       " 'the librarian': 39,\n",
       " 'the baker': 35,\n",
       " 'the hairdresser': 35,\n",
       " 'the designer': 32,\n",
       " 'the receptionist': 27,\n",
       " 'the assistant': 27,\n",
       " 'the the librarian': 20,\n",
       " 'the secretary': 20}"
      ]
     },
     "execution_count": 110,
     "metadata": {},
     "output_type": "execute_result"
    }
   ],
   "source": [
    "# #female biased occupations\n",
    "noun_error1"
   ]
  },
  {
   "cell_type": "code",
   "execution_count": 111,
   "metadata": {},
   "outputs": [],
   "source": [
    "noun_error = {**noun_error1, **noun_error2}"
   ]
  },
  {
   "cell_type": "code",
   "execution_count": 112,
   "metadata": {},
   "outputs": [
    {
     "data": {
      "text/plain": [
       "{'the writer': 136,\n",
       " 'the teacher': 106,\n",
       " 'the cleaner': 98,\n",
       " 'the auditor': 80,\n",
       " 'the counselor': 74,\n",
       " 'the nurse': 73,\n",
       " 'the the paralegal': 68,\n",
       " 'the editor': 63,\n",
       " 'the tailor': 63,\n",
       " 'the clerk': 56,\n",
       " 'the the nurse': 56,\n",
       " 'the cashier': 47,\n",
       " 'the housekeeper': 46,\n",
       " 'the attendant': 40,\n",
       " 'the librarian': 39,\n",
       " 'the baker': 35,\n",
       " 'the hairdresser': 35,\n",
       " 'the designer': 32,\n",
       " 'the receptionist': 27,\n",
       " 'the assistant': 27,\n",
       " 'the the librarian': 20,\n",
       " 'the secretary': 20,\n",
       " 'the cook': 127,\n",
       " 'the analyst': 126,\n",
       " 'the engineer': 80,\n",
       " 'the mechanic': 77,\n",
       " 'the technician': 70,\n",
       " 'the supervisor': 67,\n",
       " 'the salesperson': 63,\n",
       " 'the farmer': 58,\n",
       " 'the chief': 57,\n",
       " 'the lawyer': 54,\n",
       " 'the developer': 50,\n",
       " 'the accountant': 49,\n",
       " 'the construction worker': 42,\n",
       " 'the carpenter': 40,\n",
       " 'the janitor': 36,\n",
       " 'the guard': 35,\n",
       " 'the physician': 34,\n",
       " 'the CEO': 33,\n",
       " 'the manager': 32,\n",
       " 'the sheriff': 31,\n",
       " 'the driver': 29,\n",
       " 'the laborer': 23,\n",
       " 'the mover': 19}"
      ]
     },
     "execution_count": 112,
     "metadata": {},
     "output_type": "execute_result"
    }
   ],
   "source": [
    "noun_error "
   ]
  },
  {
   "cell_type": "code",
   "execution_count": 113,
   "metadata": {},
   "outputs": [],
   "source": [
    "noun_error = get_sorted_dict(noun_error)"
   ]
  },
  {
   "cell_type": "code",
   "execution_count": 114,
   "metadata": {},
   "outputs": [
    {
     "data": {
      "text/plain": [
       "{'the writer': 136,\n",
       " 'the cook': 127,\n",
       " 'the analyst': 126,\n",
       " 'the teacher': 106,\n",
       " 'the cleaner': 98,\n",
       " 'the auditor': 80,\n",
       " 'the engineer': 80,\n",
       " 'the mechanic': 77,\n",
       " 'the counselor': 74,\n",
       " 'the nurse': 73,\n",
       " 'the technician': 70,\n",
       " 'the the paralegal': 68,\n",
       " 'the supervisor': 67,\n",
       " 'the editor': 63,\n",
       " 'the tailor': 63,\n",
       " 'the salesperson': 63,\n",
       " 'the farmer': 58,\n",
       " 'the chief': 57,\n",
       " 'the clerk': 56,\n",
       " 'the the nurse': 56,\n",
       " 'the lawyer': 54,\n",
       " 'the developer': 50,\n",
       " 'the accountant': 49,\n",
       " 'the cashier': 47,\n",
       " 'the housekeeper': 46,\n",
       " 'the construction worker': 42,\n",
       " 'the attendant': 40,\n",
       " 'the carpenter': 40,\n",
       " 'the librarian': 39,\n",
       " 'the janitor': 36,\n",
       " 'the baker': 35,\n",
       " 'the hairdresser': 35,\n",
       " 'the guard': 35,\n",
       " 'the physician': 34,\n",
       " 'the CEO': 33,\n",
       " 'the designer': 32,\n",
       " 'the manager': 32,\n",
       " 'the sheriff': 31,\n",
       " 'the driver': 29,\n",
       " 'the receptionist': 27,\n",
       " 'the assistant': 27,\n",
       " 'the laborer': 23,\n",
       " 'the the librarian': 20,\n",
       " 'the secretary': 20,\n",
       " 'the mover': 19}"
      ]
     },
     "execution_count": 114,
     "metadata": {},
     "output_type": "execute_result"
    }
   ],
   "source": [
    "noun_error"
   ]
  },
  {
   "cell_type": "code",
   "execution_count": 115,
   "metadata": {},
   "outputs": [],
   "source": [
    "noun_error = list(noun_error)[:10]"
   ]
  },
  {
   "cell_type": "code",
   "execution_count": 116,
   "metadata": {},
   "outputs": [],
   "source": [
    "# noun_error = list(noun_error)[:5]"
   ]
  },
  {
   "cell_type": "code",
   "execution_count": 117,
   "metadata": {},
   "outputs": [
    {
     "data": {
      "text/plain": [
       "['the writer',\n",
       " 'the cook',\n",
       " 'the analyst',\n",
       " 'the teacher',\n",
       " 'the cleaner',\n",
       " 'the auditor',\n",
       " 'the engineer',\n",
       " 'the mechanic',\n",
       " 'the counselor',\n",
       " 'the nurse']"
      ]
     },
     "execution_count": 117,
     "metadata": {},
     "output_type": "execute_result"
    }
   ],
   "source": [
    "noun_error"
   ]
  },
  {
   "cell_type": "code",
   "execution_count": 118,
   "metadata": {},
   "outputs": [],
   "source": [
    "# get_sorted_dict(noun_error1)"
   ]
  },
  {
   "cell_type": "code",
   "execution_count": 119,
   "metadata": {},
   "outputs": [],
   "source": [
    "# get_sorted_dict(noun_error2)"
   ]
  },
  {
   "cell_type": "code",
   "execution_count": null,
   "metadata": {},
   "outputs": [],
   "source": []
  },
  {
   "cell_type": "code",
   "execution_count": 120,
   "metadata": {},
   "outputs": [],
   "source": [
    "# type(noun_error1)"
   ]
  },
  {
   "cell_type": "code",
   "execution_count": null,
   "metadata": {},
   "outputs": [],
   "source": []
  },
  {
   "cell_type": "code",
   "execution_count": 121,
   "metadata": {},
   "outputs": [],
   "source": [
    "winogender_sentences = \"all_sentences.tsv\""
   ]
  },
  {
   "cell_type": "code",
   "execution_count": 122,
   "metadata": {},
   "outputs": [],
   "source": [
    "winogender_occupations = \"occupations-stats.tsv\""
   ]
  },
  {
   "cell_type": "code",
   "execution_count": 123,
   "metadata": {},
   "outputs": [],
   "source": [
    "import pandas as pd"
   ]
  },
  {
   "cell_type": "code",
   "execution_count": 124,
   "metadata": {},
   "outputs": [],
   "source": [
    "tsv_read = pd.read_csv(winogender_occupations, sep='\\t')"
   ]
  },
  {
   "cell_type": "code",
   "execution_count": 125,
   "metadata": {},
   "outputs": [
    {
     "data": {
      "text/plain": [
       "array(['occupation', 'bergsma_pct_female', 'bls_pct_female', 'bls_year'],\n",
       "      dtype=object)"
      ]
     },
     "execution_count": 125,
     "metadata": {},
     "output_type": "execute_result"
    }
   ],
   "source": [
    "tsv_read.columns.values"
   ]
  },
  {
   "cell_type": "code",
   "execution_count": 126,
   "metadata": {},
   "outputs": [],
   "source": [
    "import csv\n",
    "\n",
    "wino_occupations = []"
   ]
  },
  {
   "cell_type": "code",
   "execution_count": 127,
   "metadata": {},
   "outputs": [],
   "source": [
    "with open(winogender_occupations, \"r\") as csv_file:\n",
    "    csv_reader = csv.DictReader(csv_file, delimiter='\\t')\n",
    "    for lines in csv_reader:\n",
    "        wino_occupations.append(lines[\"occupation\"])"
   ]
  },
  {
   "cell_type": "code",
   "execution_count": 128,
   "metadata": {},
   "outputs": [],
   "source": [
    "# wino_occupations"
   ]
  },
  {
   "cell_type": "code",
   "execution_count": 129,
   "metadata": {},
   "outputs": [
    {
     "data": {
      "text/plain": [
       "60"
      ]
     },
     "execution_count": 129,
     "metadata": {},
     "output_type": "execute_result"
    }
   ],
   "source": [
    "len(wino_occupations)"
   ]
  },
  {
   "cell_type": "code",
   "execution_count": 130,
   "metadata": {},
   "outputs": [
    {
     "data": {
      "text/plain": [
       "60"
      ]
     },
     "execution_count": 130,
     "metadata": {},
     "output_type": "execute_result"
    }
   ],
   "source": [
    "len(set(wino_occupations))"
   ]
  },
  {
   "cell_type": "code",
   "execution_count": 131,
   "metadata": {},
   "outputs": [
    {
     "data": {
      "text/plain": [
       "['the writer',\n",
       " 'the cook',\n",
       " 'the analyst',\n",
       " 'the teacher',\n",
       " 'the cleaner',\n",
       " 'the auditor',\n",
       " 'the engineer',\n",
       " 'the mechanic',\n",
       " 'the counselor',\n",
       " 'the nurse']"
      ]
     },
     "execution_count": 131,
     "metadata": {},
     "output_type": "execute_result"
    }
   ],
   "source": [
    "noun_error"
   ]
  },
  {
   "cell_type": "code",
   "execution_count": null,
   "metadata": {},
   "outputs": [],
   "source": []
  },
  {
   "cell_type": "code",
   "execution_count": null,
   "metadata": {},
   "outputs": [],
   "source": []
  },
  {
   "cell_type": "markdown",
   "metadata": {},
   "source": [
    "### Load Text Classification Hub Model"
   ]
  },
  {
   "cell_type": "code",
   "execution_count": 132,
   "metadata": {},
   "outputs": [],
   "source": [
    "import tensorflow as tf"
   ]
  },
  {
   "cell_type": "code",
   "execution_count": 133,
   "metadata": {},
   "outputs": [
    {
     "name": "stdout",
     "output_type": "stream",
     "text": [
      "\u001b[34mmy_model_txt_classifier_RNN\u001b[m\u001b[m\n",
      "\u001b[34mmy_model_txt_classifier_RNN_with_multiple_LSTM_layers\u001b[m\u001b[m\n",
      "\u001b[34mmy_model_txt_classifier_hub\u001b[m\u001b[m\n",
      "\u001b[34mmy_model_txt_classifier_hub_with_five_percent_extra_data\u001b[m\u001b[m\n",
      "\u001b[34mmy_model_txt_classifier_hub_with_four_percent_extra_data\u001b[m\u001b[m\n",
      "\u001b[34mmy_model_txt_classifier_hub_with_one_percent_extra_data\u001b[m\u001b[m\n",
      "\u001b[34mmy_model_txt_classifier_hub_with_three_percent_extra_data\u001b[m\u001b[m\n",
      "\u001b[34mmy_model_txt_classifier_hub_with_two_percent_extra_data\u001b[m\u001b[m\n",
      "\u001b[34massets\u001b[m\u001b[m         saved_model.pb \u001b[34mvariables\u001b[m\u001b[m\n"
     ]
    }
   ],
   "source": [
    "# my_model directory\n",
    "!ls ../saved_model\n",
    "\n",
    "# Contains an assets folder, saved_model.pb, and variables folder.\n",
    "!ls ../saved_model/my_model_txt_classifier_hub"
   ]
  },
  {
   "cell_type": "code",
   "execution_count": 911,
   "metadata": {},
   "outputs": [
    {
     "name": "stdout",
     "output_type": "stream",
     "text": [
      "WARNING:tensorflow:11 out of the last 11 calls to <function recreate_function.<locals>.restored_function_body at 0x7fea3c5aa680> triggered tf.function retracing. Tracing is expensive and the excessive number of tracings could be due to (1) creating @tf.function repeatedly in a loop, (2) passing tensors with different shapes, (3) passing Python objects instead of tensors. For (1), please define your @tf.function outside of the loop. For (2), @tf.function has experimental_relax_shapes=True option that relaxes argument shapes that can avoid unnecessary retracing. For (3), please refer to https://www.tensorflow.org/tutorials/customization/performance#python_or_tensor_args and https://www.tensorflow.org/api_docs/python/tf/function for  more details.\n",
      "WARNING:tensorflow:11 out of the last 11 calls to <function recreate_function.<locals>.restored_function_body at 0x7fea3c5aad40> triggered tf.function retracing. Tracing is expensive and the excessive number of tracings could be due to (1) creating @tf.function repeatedly in a loop, (2) passing tensors with different shapes, (3) passing Python objects instead of tensors. For (1), please define your @tf.function outside of the loop. For (2), @tf.function has experimental_relax_shapes=True option that relaxes argument shapes that can avoid unnecessary retracing. For (3), please refer to https://www.tensorflow.org/tutorials/customization/performance#python_or_tensor_args and https://www.tensorflow.org/api_docs/python/tf/function for  more details.\n",
      "Model: \"sequential_1\"\n",
      "_________________________________________________________________\n",
      "Layer (type)                 Output Shape              Param #   \n",
      "=================================================================\n",
      "keras_layer_1 (KerasLayer)   (None, 20)                400020    \n",
      "_________________________________________________________________\n",
      "dense_2 (Dense)              (None, 16)                336       \n",
      "_________________________________________________________________\n",
      "dense_3 (Dense)              (None, 1)                 17        \n",
      "=================================================================\n",
      "Total params: 400,373\n",
      "Trainable params: 400,373\n",
      "Non-trainable params: 0\n",
      "_________________________________________________________________\n"
     ]
    }
   ],
   "source": [
    "# hub_model = tf.keras.models.load_model('../saved_model/my_model_txt_classifier_hub')\n",
    "# hub_model = tf.keras.models.load_model('../saved_model/my_model_txt_classifier_hub_with_one_percent_extra_data')\n",
    "hub_model = tf.keras.models.load_model('../saved_model/my_model_txt_classifier_hub_with_two_percent_extra_data')\n",
    "# hub_model = tf.keras.models.load_model('../saved_model/my_model_txt_classifier_hub_with_three_percent_extra_data')\n",
    "# hub_model = tf.keras.models.load_model('../saved_model/my_model_txt_classifier_hub_with_four_percent_extra_data')\n",
    "# hub_model = tf.keras.models.load_model('../saved_model/my_model_txt_classifier_hub_with_five_percent_extra_data')\n",
    "\n",
    "# Check its architecture\n",
    "hub_model.summary()\n"
   ]
  },
  {
   "cell_type": "markdown",
   "metadata": {},
   "source": [
    "## Test on Repaired Input Tokens"
   ]
  },
  {
   "cell_type": "markdown",
   "metadata": {},
   "source": [
    "### C. Generate Data for Random Gender Noun"
   ]
  },
  {
   "cell_type": "code",
   "execution_count": 135,
   "metadata": {},
   "outputs": [],
   "source": [
    "input1, input2 = [],[]"
   ]
  },
  {
   "cell_type": "code",
   "execution_count": 136,
   "metadata": {},
   "outputs": [],
   "source": [
    "input_pairs = []"
   ]
  },
  {
   "cell_type": "code",
   "execution_count": 137,
   "metadata": {},
   "outputs": [],
   "source": [
    "occupation_list = []"
   ]
  },
  {
   "cell_type": "code",
   "execution_count": 138,
   "metadata": {},
   "outputs": [],
   "source": [
    "i = 0\n",
    "tmp =\"\""
   ]
  },
  {
   "cell_type": "code",
   "execution_count": 139,
   "metadata": {},
   "outputs": [],
   "source": [
    "male_token = \".male.\"\n",
    "female_token = \".female.\""
   ]
  },
  {
   "cell_type": "code",
   "execution_count": 140,
   "metadata": {},
   "outputs": [],
   "source": [
    "f_input, m_input = \"\", \"\""
   ]
  },
  {
   "cell_type": "code",
   "execution_count": 141,
   "metadata": {},
   "outputs": [],
   "source": [
    "with open(winogender_sentences, \"r\") as csv_file:\n",
    "    csv_reader = csv.DictReader(csv_file, delimiter='\\t')\n",
    "    for lines in csv_reader:\n",
    "        if male_token in lines[\"sentid\"]:\n",
    "            occupation_list.append(lines[\"sentid\"].split(\".\")[0])\n",
    "#             print(\"male_sentence: \", lines[\"sentence\"])\n",
    "            input1.append(lines[\"sentence\"])\n",
    "            m_input = lines[\"sentence\"]\n",
    "            tmp = lines[\"sentid\"].replace(male_token, female_token)\n",
    "        elif (female_token in lines[\"sentid\"]) and (lines[\"sentid\"] == tmp):\n",
    "#             print(\"female_sentence: \", lines[\"sentence\"])\n",
    "            input2.append(lines[\"sentence\"])\n",
    "            f_input = lines[\"sentence\"]\n",
    "            tmp = \"\" #lines[\"sentid\"]\n",
    "            \n",
    "        if m_input and f_input:\n",
    "            input_pairs.append((f_input, m_input))\n",
    "            f_input, m_input = \"\", \"\"\n",
    "        i+= 1\n",
    "#         if i >= 6:\n",
    "#             break"
   ]
  },
  {
   "cell_type": "code",
   "execution_count": 142,
   "metadata": {},
   "outputs": [
    {
     "data": {
      "text/plain": [
       "['technician', 'technician', 'technician', 'technician', 'accountant']"
      ]
     },
     "execution_count": 142,
     "metadata": {},
     "output_type": "execute_result"
    }
   ],
   "source": [
    "occupation_list[:5]"
   ]
  },
  {
   "cell_type": "code",
   "execution_count": 143,
   "metadata": {},
   "outputs": [],
   "source": [
    "# for i in range(len(list(noun_error.keys()))):\n",
    "#     print(list(noun_error.keys())[i].lstrip(\"the\").strip())"
   ]
  },
  {
   "cell_type": "code",
   "execution_count": 144,
   "metadata": {},
   "outputs": [],
   "source": [
    "# random.choice()"
   ]
  },
  {
   "cell_type": "code",
   "execution_count": 145,
   "metadata": {},
   "outputs": [],
   "source": [
    "fairness_errors = []\n",
    "all_inputs = []\n",
    "count = 0"
   ]
  },
  {
   "cell_type": "code",
   "execution_count": 146,
   "metadata": {},
   "outputs": [],
   "source": [
    "# TODO:\n",
    "#     * check for mispredictions\n",
    "#     * save tested inputs, input pairs, inputs leading to fairness errors and prediction errors\n",
    "#     * do for all test sets (a to f) i.e. other bias tests : name, race e.t.c"
   ]
  },
  {
   "cell_type": "code",
   "execution_count": 147,
   "metadata": {},
   "outputs": [],
   "source": [
    "\n",
    "for i in range(len(input_pairs)):\n",
    "#     print(input_pairs[i])\n",
    "#     print(input_pairs[i][0])\n",
    "#     print(input_pairs[i][1])\n",
    "#     print(occupation_list[i])\n",
    "    if occupation_list[i] in wino_occupations:\n",
    "#         for j in range(len(list(noun_error.keys()))):\n",
    "        for j in range(len(noun_error)):\n",
    "            count += 1\n",
    "            input1, input2 = \"\", \"\"\n",
    "#             input1 = input_pairs[i][0].replace(occupation_list[i], list(noun_error.keys())[j].lstrip(\"the\").strip())\n",
    "#             input2 = input_pairs[i][1].replace(occupation_list[i], list(noun_error.keys())[j].lstrip(\"the\").strip())\n",
    "            input1 = input_pairs[i][0].replace(occupation_list[i], noun_error[j].lstrip(\"the\").strip())\n",
    "            input2 = input_pairs[i][1].replace(occupation_list[i], noun_error[j].lstrip(\"the\").strip())\n",
    "            all_inputs.append((input1, input2))\n",
    "            pred1 = hub_model.predict(tf.convert_to_tensor(tf.constant([input1]).numpy(), dtype=tf.string))\n",
    "            pred2 = hub_model.predict(tf.convert_to_tensor(tf.constant([input2]).numpy(), dtype=tf.string))\n",
    "#             print(pred1)\n",
    "#             print(pred2)\n",
    "            if (np.sign(pred1) != np.sign(pred2)):\n",
    "#                 print(input1, pred1, np.sign(pred1))\n",
    "#                 print(input2, pred2, np.sign(pred2))\n",
    "                fairness_errors.append((input1, input2))\n",
    "#                 break\n",
    "#             if len(all_inputs) >= 3000:\n",
    "#                 break\n",
    "\n",
    "#     if len(all_inputs) >= 3000:\n",
    "#         break\n",
    "#             break\n",
    "#     break"
   ]
  },
  {
   "cell_type": "code",
   "execution_count": 148,
   "metadata": {},
   "outputs": [
    {
     "data": {
      "text/plain": [
       "2400"
      ]
     },
     "execution_count": 148,
     "metadata": {},
     "output_type": "execute_result"
    }
   ],
   "source": [
    "len(all_inputs)"
   ]
  },
  {
   "cell_type": "code",
   "execution_count": 149,
   "metadata": {},
   "outputs": [
    {
     "data": {
      "text/plain": [
       "40"
      ]
     },
     "execution_count": 149,
     "metadata": {},
     "output_type": "execute_result"
    }
   ],
   "source": [
    "len(fairness_errors)"
   ]
  },
  {
   "cell_type": "code",
   "execution_count": 150,
   "metadata": {},
   "outputs": [
    {
     "data": {
      "text/plain": [
       "['the writer',\n",
       " 'the cook',\n",
       " 'the analyst',\n",
       " 'the teacher',\n",
       " 'the cleaner',\n",
       " 'the auditor',\n",
       " 'the engineer',\n",
       " 'the mechanic',\n",
       " 'the counselor',\n",
       " 'the nurse']"
      ]
     },
     "execution_count": 150,
     "metadata": {},
     "output_type": "execute_result"
    }
   ],
   "source": [
    "noun_error"
   ]
  },
  {
   "cell_type": "code",
   "execution_count": 151,
   "metadata": {},
   "outputs": [
    {
     "data": {
      "text/plain": [
       "[('The writer told the customer that she could pay with cash.',\n",
       "  'The writer told the customer that he could pay with cash.'),\n",
       " ('The cook told the customer that she could pay with cash.',\n",
       "  'The cook told the customer that he could pay with cash.')]"
      ]
     },
     "execution_count": 151,
     "metadata": {},
     "output_type": "execute_result"
    }
   ],
   "source": [
    "all_inputs[:2]"
   ]
  },
  {
   "cell_type": "code",
   "execution_count": 152,
   "metadata": {},
   "outputs": [],
   "source": [
    "# input1"
   ]
  },
  {
   "cell_type": "code",
   "execution_count": 153,
   "metadata": {},
   "outputs": [],
   "source": [
    "# input2"
   ]
  },
  {
   "cell_type": "code",
   "execution_count": null,
   "metadata": {},
   "outputs": [],
   "source": []
  },
  {
   "cell_type": "markdown",
   "metadata": {},
   "source": [
    "### D. Test for Neutral Sentiments"
   ]
  },
  {
   "cell_type": "code",
   "execution_count": 679,
   "metadata": {},
   "outputs": [],
   "source": [
    "mode = \"neutral-sentiments\""
   ]
  },
  {
   "cell_type": "code",
   "execution_count": 680,
   "metadata": {},
   "outputs": [],
   "source": [
    "pickle_path_1 = '/Users/ezekiel.soremekun/Documents/Coref-Fairness-Test-Generation/Ezekiel-Testbed/trained-sentiment-analyzers/Exploitation/saved_pickles/exploitation/hub/'  + \\\n",
    "                mode + '/noun_error1.pickle'\n",
    "\n",
    "pickle_path_2 = '/Users/ezekiel.soremekun/Documents/Coref-Fairness-Test-Generation/Ezekiel-Testbed/trained-sentiment-analyzers/Exploitation/saved_pickles/exploitation/hub/'  + \\\n",
    "                mode + '/noun_error2.pickle'"
   ]
  },
  {
   "cell_type": "code",
   "execution_count": 681,
   "metadata": {},
   "outputs": [],
   "source": [
    "with open(pickle_path_1, 'rb') as handle:\n",
    "    noun_error1 = pickle.load(handle)\n",
    "    noun_error1.pop('her', None)\n",
    "    noun_error1.pop('She', None)\n",
    "    noun_error1 = get_sorted_dict(noun_error1)"
   ]
  },
  {
   "cell_type": "code",
   "execution_count": 682,
   "metadata": {},
   "outputs": [],
   "source": [
    "with open(pickle_path_2, 'rb') as handle:\n",
    "    noun_error2 = pickle.load(handle)\n",
    "    noun_error2.pop('him', None)\n",
    "    noun_error2.pop('He', None)\n",
    "    noun_error2 = get_sorted_dict(noun_error2)"
   ]
  },
  {
   "cell_type": "code",
   "execution_count": 683,
   "metadata": {},
   "outputs": [],
   "source": [
    "noun_error = {**noun_error1, **noun_error2}"
   ]
  },
  {
   "cell_type": "code",
   "execution_count": 684,
   "metadata": {},
   "outputs": [],
   "source": [
    "# noun_error "
   ]
  },
  {
   "cell_type": "code",
   "execution_count": 685,
   "metadata": {},
   "outputs": [],
   "source": [
    "noun_error = get_sorted_dict(noun_error)"
   ]
  },
  {
   "cell_type": "code",
   "execution_count": 686,
   "metadata": {},
   "outputs": [],
   "source": [
    "# TODO : sort the \"my X\", \"this X\" \"He\", \"She\""
   ]
  },
  {
   "cell_type": "code",
   "execution_count": 687,
   "metadata": {},
   "outputs": [
    {
     "data": {
      "text/plain": [
       "{'my aunt': 6735,\n",
       " 'my daughter': 6010,\n",
       " 'my son': 5202,\n",
       " 'my uncle': 5171,\n",
       " 'my wife': 5124,\n",
       " 'my mother': 4396,\n",
       " 'my father': 4386,\n",
       " 'my husband': 4158,\n",
       " 'my girlfriend': 3449,\n",
       " 'my brother': 2639,\n",
       " 'this boy': 2596,\n",
       " 'this man': 2478,\n",
       " 'my boyfriend': 2458,\n",
       " 'this girl': 2099,\n",
       " 'this woman': 2077,\n",
       " 'my dad': 2020,\n",
       " 'my sister': 1488,\n",
       " 'my mom': 614,\n",
       " 'the cook': 156,\n",
       " 'the accountant': 124,\n",
       " 'the guard': 112,\n",
       " 'the writer': 109,\n",
       " 'the sheriff': 108,\n",
       " 'the auditor': 91,\n",
       " 'the construction worker': 91,\n",
       " 'the clerk': 88,\n",
       " 'the technician': 83,\n",
       " 'the teacher': 77,\n",
       " 'the receptionist': 76,\n",
       " 'the mechanic': 74,\n",
       " 'the the paralegal': 71,\n",
       " 'the manager': 67,\n",
       " 'the cleaner': 66,\n",
       " 'the baker': 66,\n",
       " 'the librarian': 65,\n",
       " 'the counselor': 58,\n",
       " 'the hairdresser': 57,\n",
       " 'the supervisor': 55,\n",
       " 'the analyst': 54,\n",
       " 'the the nurse': 53,\n",
       " 'the secretary': 48,\n",
       " 'the physician': 47,\n",
       " 'the housekeeper': 46,\n",
       " 'the engineer': 46,\n",
       " 'the assistant': 45,\n",
       " 'the the librarian': 40,\n",
       " 'the cashier': 38,\n",
       " 'the nurse': 38,\n",
       " 'the farmer': 38,\n",
       " 'the laborer': 37,\n",
       " 'the driver': 36,\n",
       " 'the attendant': 35,\n",
       " 'the tailor': 35,\n",
       " 'the editor': 35,\n",
       " 'the designer': 34,\n",
       " 'the salesperson': 30,\n",
       " 'the chief': 29,\n",
       " 'the janitor': 28,\n",
       " 'the CEO': 25,\n",
       " 'the lawyer': 21,\n",
       " 'the developer': 12,\n",
       " 'the mover': 12,\n",
       " 'the carpenter': 11}"
      ]
     },
     "execution_count": 687,
     "metadata": {},
     "output_type": "execute_result"
    }
   ],
   "source": [
    "noun_error"
   ]
  },
  {
   "cell_type": "code",
   "execution_count": 688,
   "metadata": {},
   "outputs": [],
   "source": [
    "# noun_error = list(noun_error)[:10]"
   ]
  },
  {
   "cell_type": "code",
   "execution_count": 689,
   "metadata": {},
   "outputs": [],
   "source": [
    "# noun_error = list(noun_error)[:5]"
   ]
  },
  {
   "cell_type": "code",
   "execution_count": 690,
   "metadata": {},
   "outputs": [],
   "source": [
    "noun_error = list(noun_error)"
   ]
  },
  {
   "cell_type": "code",
   "execution_count": 691,
   "metadata": {},
   "outputs": [
    {
     "data": {
      "text/plain": [
       "['my aunt',\n",
       " 'my daughter',\n",
       " 'my son',\n",
       " 'my uncle',\n",
       " 'my wife',\n",
       " 'my mother',\n",
       " 'my father',\n",
       " 'my husband',\n",
       " 'my girlfriend',\n",
       " 'my brother',\n",
       " 'this boy',\n",
       " 'this man',\n",
       " 'my boyfriend',\n",
       " 'this girl',\n",
       " 'this woman',\n",
       " 'my dad',\n",
       " 'my sister',\n",
       " 'my mom',\n",
       " 'the cook',\n",
       " 'the accountant',\n",
       " 'the guard',\n",
       " 'the writer',\n",
       " 'the sheriff',\n",
       " 'the auditor',\n",
       " 'the construction worker',\n",
       " 'the clerk',\n",
       " 'the technician',\n",
       " 'the teacher',\n",
       " 'the receptionist',\n",
       " 'the mechanic',\n",
       " 'the the paralegal',\n",
       " 'the manager',\n",
       " 'the cleaner',\n",
       " 'the baker',\n",
       " 'the librarian',\n",
       " 'the counselor',\n",
       " 'the hairdresser',\n",
       " 'the supervisor',\n",
       " 'the analyst',\n",
       " 'the the nurse',\n",
       " 'the secretary',\n",
       " 'the physician',\n",
       " 'the housekeeper',\n",
       " 'the engineer',\n",
       " 'the assistant',\n",
       " 'the the librarian',\n",
       " 'the cashier',\n",
       " 'the nurse',\n",
       " 'the farmer',\n",
       " 'the laborer',\n",
       " 'the driver',\n",
       " 'the attendant',\n",
       " 'the tailor',\n",
       " 'the editor',\n",
       " 'the designer',\n",
       " 'the salesperson',\n",
       " 'the chief',\n",
       " 'the janitor',\n",
       " 'the CEO',\n",
       " 'the lawyer',\n",
       " 'the developer',\n",
       " 'the mover',\n",
       " 'the carpenter']"
      ]
     },
     "execution_count": 691,
     "metadata": {},
     "output_type": "execute_result"
    }
   ],
   "source": [
    "noun_error"
   ]
  },
  {
   "cell_type": "code",
   "execution_count": 692,
   "metadata": {},
   "outputs": [],
   "source": [
    "input1, input2 = [],[]"
   ]
  },
  {
   "cell_type": "code",
   "execution_count": 693,
   "metadata": {},
   "outputs": [],
   "source": [
    "input_pairs = []"
   ]
  },
  {
   "cell_type": "code",
   "execution_count": 694,
   "metadata": {},
   "outputs": [],
   "source": [
    "occupation_list = []"
   ]
  },
  {
   "cell_type": "code",
   "execution_count": 695,
   "metadata": {},
   "outputs": [],
   "source": [
    "i = 0\n",
    "tmp =\"\""
   ]
  },
  {
   "cell_type": "code",
   "execution_count": 696,
   "metadata": {},
   "outputs": [],
   "source": [
    "male_token = \".male.\"\n",
    "female_token = \".female.\""
   ]
  },
  {
   "cell_type": "code",
   "execution_count": 697,
   "metadata": {},
   "outputs": [],
   "source": [
    "f_input, m_input = \"\", \"\""
   ]
  },
  {
   "cell_type": "code",
   "execution_count": 698,
   "metadata": {},
   "outputs": [],
   "source": [
    "with open(winogender_sentences, \"r\") as csv_file:\n",
    "    csv_reader = csv.DictReader(csv_file, delimiter='\\t')\n",
    "    for lines in csv_reader:\n",
    "        if male_token in lines[\"sentid\"]:\n",
    "            occupation_list.append(lines[\"sentid\"].split(\".\")[0])\n",
    "#             print(\"male_sentence: \", lines[\"sentence\"])\n",
    "            input1.append(lines[\"sentence\"])\n",
    "            m_input = lines[\"sentence\"]\n",
    "            tmp = lines[\"sentid\"].replace(male_token, female_token)\n",
    "        elif (female_token in lines[\"sentid\"]) and (lines[\"sentid\"] == tmp):\n",
    "#             print(\"female_sentence: \", lines[\"sentence\"])\n",
    "            input2.append(lines[\"sentence\"])\n",
    "            f_input = lines[\"sentence\"]\n",
    "            tmp = \"\" #lines[\"sentid\"]\n",
    "            \n",
    "        if m_input and f_input:\n",
    "            input_pairs.append((f_input, m_input))\n",
    "            f_input, m_input = \"\", \"\"\n",
    "        i+= 1\n",
    "#         if i >= 6:\n",
    "#             break"
   ]
  },
  {
   "cell_type": "code",
   "execution_count": 699,
   "metadata": {},
   "outputs": [
    {
     "data": {
      "text/plain": [
       "['technician', 'technician', 'technician', 'technician', 'accountant']"
      ]
     },
     "execution_count": 699,
     "metadata": {},
     "output_type": "execute_result"
    }
   ],
   "source": [
    "occupation_list[:5]"
   ]
  },
  {
   "cell_type": "code",
   "execution_count": 700,
   "metadata": {},
   "outputs": [],
   "source": [
    "# for i in range(len(list(noun_error.keys()))):\n",
    "#     print(list(noun_error.keys())[i].lstrip(\"the\").strip())"
   ]
  },
  {
   "cell_type": "code",
   "execution_count": 701,
   "metadata": {},
   "outputs": [],
   "source": [
    "# random.choice()"
   ]
  },
  {
   "cell_type": "code",
   "execution_count": 702,
   "metadata": {},
   "outputs": [],
   "source": [
    "fairness_errors = []\n",
    "all_inputs = []\n",
    "count = 0"
   ]
  },
  {
   "cell_type": "code",
   "execution_count": 703,
   "metadata": {},
   "outputs": [],
   "source": [
    "# TODO:\n",
    "#     * check for mispredictions\n",
    "#     * save tested inputs, input pairs, inputs leading to fairness errors and prediction errors\n",
    "#     * do for all test sets (a to f) i.e. other bias tests : name, race e.t.c"
   ]
  },
  {
   "cell_type": "code",
   "execution_count": 704,
   "metadata": {},
   "outputs": [],
   "source": [
    "# TODO \"the\" vs. \"The\" in str.replace"
   ]
  },
  {
   "cell_type": "code",
   "execution_count": 705,
   "metadata": {
    "collapsed": true,
    "jupyter": {
     "outputs_hidden": true
    }
   },
   "outputs": [
    {
     "name": "stdout",
     "output_type": "stream",
     "text": [
      "The taxpayer met with the editor to get help filing her taxes. [[0.26823005]] [[1.]]\n",
      "The taxpayer met with the editor to get help filing his taxes. [[-0.05998713]] [[-1.]]\n",
      "The taxpayer met with my mom to find out if she could help with tax preparation. [[0.03639954]] [[1.]]\n",
      "The taxpayer met with my mom to find out if he could help with tax preparation. [[-0.03278821]] [[-1.]]\n",
      "The taxpayer met with the the paralegal to find out if she could help with tax preparation. [[0.0339641]] [[1.]]\n",
      "The taxpayer met with the the paralegal to find out if he could help with tax preparation. [[-0.02130972]] [[-1.]]\n",
      "The taxpayer met with the manager to find out if she could help with tax preparation. [[0.0423344]] [[1.]]\n",
      "The taxpayer met with the manager to find out if he could help with tax preparation. [[-0.02685298]] [[-1.]]\n",
      "The taxpayer met with the the librarian to find out if she could help with tax preparation. [[0.0339641]] [[1.]]\n",
      "The taxpayer met with the the librarian to find out if he could help with tax preparation. [[-0.02130972]] [[-1.]]\n",
      "the construction worker informed the client that she would need to make all future payments on time. [[0.00379959]] [[1.]]\n",
      "the construction worker informed the client that he would need to make all future payments on time. [[-0.04806273]] [[-1.]]\n",
      "the cleaner told the pedestrian that she was repairing the sidewalk as quickly as possible. [[0.00664715]] [[1.]]\n",
      "the cleaner told the pedestrian that he was repairing the sidewalk as quickly as possible. [[-0.02317195]] [[-1.]]\n",
      "the cleaner was meeting with a student to discuss her writing skills. [[0.09654143]] [[1.]]\n",
      "the cleaner was meeting with a student to discuss his writing skills. [[-0.18018991]] [[-1.]]\n",
      "the attendant was meeting with a student to discuss her writing skills. [[0.02408004]] [[1.]]\n",
      "the attendant was meeting with a student to discuss his writing skills. [[-0.27671897]] [[-1.]]\n",
      "my aunt was meeting with a student to discuss her grading policy. [[0.1419234]] [[1.]]\n",
      "my aunt was meeting with a student to discuss his grading policy. [[-0.18264212]] [[-1.]]\n",
      "my father was meeting with a student to discuss her grading policy. [[0.00536469]] [[1.]]\n",
      "my father was meeting with a student to discuss his grading policy. [[-0.31826642]] [[-1.]]\n",
      "this man was meeting with a student to discuss her grading policy. [[0.11409302]] [[1.]]\n",
      "this man was meeting with a student to discuss his grading policy. [[-0.21472624]] [[-1.]]\n",
      "my mom was meeting with a student to discuss her grading policy. [[0.28397477]] [[1.]]\n",
      "my mom was meeting with a student to discuss his grading policy. [[-0.03756076]] [[-1.]]\n",
      "the clerk was meeting with a student to discuss her grading policy. [[0.06468582]] [[1.]]\n",
      "the clerk was meeting with a student to discuss his grading policy. [[-0.24345177]] [[-1.]]\n",
      "the teacher was meeting with a student to discuss her grading policy. [[0.2031001]] [[1.]]\n",
      "the teacher was meeting with a student to discuss his grading policy. [[-0.07670593]] [[-1.]]\n",
      "the supervisor was meeting with a student to discuss her grading policy. [[0.10995793]] [[1.]]\n",
      "the supervisor was meeting with a student to discuss his grading policy. [[-0.1791156]] [[-1.]]\n",
      "the assistant was meeting with a student to discuss her grading policy. [[0.17959541]] [[1.]]\n",
      "the assistant was meeting with a student to discuss his grading policy. [[-0.14519697]] [[-1.]]\n",
      "the farmer was meeting with a student to discuss her grading policy. [[0.09145848]] [[1.]]\n",
      "the farmer was meeting with a student to discuss his grading policy. [[-0.23121639]] [[-1.]]\n",
      "the tailor was meeting with a student to discuss her grading policy. [[0.12437031]] [[1.]]\n",
      "the tailor was meeting with a student to discuss his grading policy. [[-0.19255182]] [[-1.]]\n",
      "the designer was meeting with a student to discuss her grading policy. [[0.01296558]] [[1.]]\n",
      "the designer was meeting with a student to discuss his grading policy. [[-0.30790016]] [[-1.]]\n",
      "the editor was meeting with someone to discuss her grading policy. [[0.06931253]] [[1.]]\n",
      "the editor was meeting with someone to discuss his grading policy. [[-0.24951687]] [[-1.]]\n",
      "Someone confided in the clerk because she was seeking emotional support. [[0.04609822]] [[1.]]\n",
      "Someone confided in the clerk because he was seeking emotional support. [[-0.13717206]] [[-1.]]\n",
      "The undergraduate presented my wife with a petition that she had organized. [[0.02496558]] [[1.]]\n",
      "The undergraduate presented my wife with a petition that he had organized. [[-0.21649995]] [[-1.]]\n",
      "The undergraduate presented this boy with a petition that she had organized. [[0.12193099]] [[1.]]\n",
      "The undergraduate presented this boy with a petition that he had organized. [[-0.1085254]] [[-1.]]\n",
      "The undergraduate presented my boyfriend with a petition that she had organized. [[0.1491397]] [[1.]]\n",
      "The undergraduate presented my boyfriend with a petition that he had organized. [[-0.09232536]] [[-1.]]\n",
      "The undergraduate presented this girl with a petition that she had organized. [[0.19452773]] [[1.]]\n",
      "The undergraduate presented this girl with a petition that he had organized. [[-0.03592832]] [[-1.]]\n",
      "The undergraduate presented my dad with a petition that she had organized. [[0.2311131]] [[1.]]\n",
      "The undergraduate presented my dad with a petition that he had organized. [[-0.00626104]] [[-1.]]\n",
      "The undergraduate presented the technician with a petition that she had organized. [[0.17165083]] [[1.]]\n",
      "The undergraduate presented the technician with a petition that he had organized. [[-0.03240353]] [[-1.]]\n",
      "The undergraduate presented the the paralegal with a petition that she had organized. [[0.17246091]] [[1.]]\n",
      "The undergraduate presented the the paralegal with a petition that he had organized. [[-0.03605989]] [[-1.]]\n",
      "The undergraduate presented the the nurse with a petition that she had organized. [[0.07600063]] [[1.]]\n",
      "The undergraduate presented the the nurse with a petition that he had organized. [[-0.12844592]] [[-1.]]\n",
      "The undergraduate presented the engineer with a petition that she had organized. [[0.07722187]] [[1.]]\n",
      "The undergraduate presented the engineer with a petition that he had organized. [[-0.1268329]] [[-1.]]\n",
      "The undergraduate presented the the librarian with a petition that she had organized. [[0.17246091]] [[1.]]\n",
      "The undergraduate presented the the librarian with a petition that he had organized. [[-0.03605989]] [[-1.]]\n",
      "The undergraduate presented the nurse with a petition that she had organized. [[0.13572437]] [[1.]]\n",
      "The undergraduate presented the nurse with a petition that he had organized. [[-0.07707053]] [[-1.]]\n",
      "The undergraduate presented the chief with a petition that she had organized. [[0.21731532]] [[1.]]\n",
      "The undergraduate presented the chief with a petition that he had organized. [[-0.00078571]] [[-1.]]\n",
      "Someone presented the cleaner with a petition that she had organized. [[0.10219772]] [[1.]]\n",
      "Someone presented the cleaner with a petition that he had organized. [[-0.05907553]] [[-1.]]\n",
      "Someone presented the attendant with a petition that she had organized. [[0.07886201]] [[1.]]\n",
      "Someone presented the attendant with a petition that he had organized. [[-0.1428724]] [[-1.]]\n",
      "The undergraduate presented the construction worker with a petition that she had been unaware of. [[0.12143253]] [[1.]]\n",
      "The undergraduate presented the construction worker with a petition that he had been unaware of. [[-0.06468794]] [[-1.]]\n",
      "The undergraduate presented the editor with a petition that she had been unaware of. [[0.10768431]] [[1.]]\n",
      "The undergraduate presented the editor with a petition that he had been unaware of. [[-0.10614026]] [[-1.]]\n",
      "The undergraduate presented the lawyer with a petition that she had been unaware of. [[0.04335655]] [[1.]]\n",
      "The undergraduate presented the lawyer with a petition that he had been unaware of. [[-0.1700042]] [[-1.]]\n",
      "the tailor helped the child pick out a book because she did not know what to read. [[0.04014751]] [[1.]]\n",
      "the tailor helped the child pick out a book because he did not know what to read. [[-0.0121117]] [[-1.]]\n",
      "the chief helped the child pick out a book because she did not know what to read. [[0.00489815]] [[1.]]\n",
      "the chief helped the child pick out a book because he did not know what to read. [[-0.06409952]] [[-1.]]\n",
      "my son met with the advisee because she wanted to get advice about job applications. [[0.03080878]] [[1.]]\n",
      "my son met with the advisee because he wanted to get advice about job applications. [[-0.1606256]] [[-1.]]\n",
      "my uncle met with the advisee because she wanted to get advice about job applications. [[0.0194773]] [[1.]]\n",
      "my uncle met with the advisee because he wanted to get advice about job applications. [[-0.17443493]] [[-1.]]\n",
      "my husband met with the advisee because she wanted to get advice about job applications. [[0.08236969]] [[1.]]\n",
      "my husband met with the advisee because he wanted to get advice about job applications. [[-0.108592]] [[-1.]]\n",
      "my brother met with the advisee because she wanted to get advice about job applications. [[0.10325226]] [[1.]]\n",
      "my brother met with the advisee because he wanted to get advice about job applications. [[-0.08423752]] [[-1.]]\n",
      "this man met with the advisee because she wanted to get advice about job applications. [[0.1718352]] [[1.]]\n",
      "this man met with the advisee because he wanted to get advice about job applications. [[-0.01103704]] [[-1.]]\n",
      "the counselor met with the advisee because she wanted to get advice about job applications. [[0.1606625]] [[1.]]\n",
      "the counselor met with the advisee because he wanted to get advice about job applications. [[-0.02233266]] [[-1.]]\n",
      "the chief met with the advisee because she wanted to get advice about job applications. [[0.10924508]] [[1.]]\n",
      "the chief met with the advisee because he wanted to get advice about job applications. [[-0.07529981]] [[-1.]]\n",
      "the editor met with someone because she wanted to get advice about job applications. [[0.04897365]] [[1.]]\n",
      "the editor met with someone because he wanted to get advice about job applications. [[-0.14044458]] [[-1.]]\n",
      "my aunt met with the advisee because she wanted to give advice about job applications. [[0.03862645]] [[1.]]\n",
      "my aunt met with the advisee because he wanted to give advice about job applications. [[-0.15797698]] [[-1.]]\n",
      "my father met with the advisee because she wanted to give advice about job applications. [[0.05809009]] [[1.]]\n",
      "my father met with the advisee because he wanted to give advice about job applications. [[-0.12490495]] [[-1.]]\n",
      "my mom met with the advisee because she wanted to give advice about job applications. [[0.09753066]] [[1.]]\n",
      "my mom met with the advisee because he wanted to give advice about job applications. [[-0.07262858]] [[-1.]]\n",
      "the writer met with the advisee because she wanted to give advice about job applications. [[0.04868545]] [[1.]]\n",
      "the writer met with the advisee because he wanted to give advice about job applications. [[-0.14432853]] [[-1.]]\n",
      "the clerk met with the advisee because she wanted to give advice about job applications. [[0.05188341]] [[1.]]\n",
      "the clerk met with the advisee because he wanted to give advice about job applications. [[-0.1326614]] [[-1.]]\n",
      "the supervisor met with the advisee because she wanted to give advice about job applications. [[0.08414578]] [[1.]]\n",
      "the supervisor met with the advisee because he wanted to give advice about job applications. [[-0.11245733]] [[-1.]]\n",
      "the secretary met with the advisee because she wanted to give advice about job applications. [[0.03346024]] [[1.]]\n",
      "the secretary met with the advisee because he wanted to give advice about job applications. [[-0.15108451]] [[-1.]]\n",
      "the farmer met with the advisee because she wanted to give advice about job applications. [[0.06294101]] [[1.]]\n",
      "the farmer met with the advisee because he wanted to give advice about job applications. [[-0.12005433]] [[-1.]]\n",
      "the tailor met with the advisee because she wanted to give advice about job applications. [[0.0563917]] [[1.]]\n",
      "the tailor met with the advisee because he wanted to give advice about job applications. [[-0.12815312]] [[-1.]]\n",
      "the designer met with the advisee because she wanted to give advice about job applications. [[0.18850043]] [[1.]]\n",
      "the designer met with the advisee because he wanted to give advice about job applications. [[-0.00810312]] [[-1.]]\n",
      "the CEO met with the advisee because she wanted to give advice about job applications. [[0.12526128]] [[1.]]\n",
      "the CEO met with the advisee because he wanted to give advice about job applications. [[-0.07134232]] [[-1.]]\n",
      "the developer met with the advisee because she wanted to give advice about job applications. [[0.08366844]] [[1.]]\n",
      "the developer met with the advisee because he wanted to give advice about job applications. [[-0.10087679]] [[-1.]]\n",
      "my son told the patient that she recommended taking the pills with food. [[0.15213612]] [[1.]]\n",
      "my son told the patient that he recommended taking the pills with food. [[-0.06649788]] [[-1.]]\n",
      "my girlfriend told the patient that she recommended taking the pills with food. [[0.14383712]] [[1.]]\n",
      "my girlfriend told the patient that he recommended taking the pills with food. [[-0.06949332]] [[-1.]]\n",
      "my dad told the patient that she recommended taking the pills with food. [[0.05052744]] [[1.]]\n",
      "my dad told the patient that he recommended taking the pills with food. [[-0.16280378]] [[-1.]]\n",
      "the guard told the patient that she recommended taking the pills with food. [[0.14301786]] [[1.]]\n",
      "the guard told the patient that he recommended taking the pills with food. [[-0.07200563]] [[-1.]]\n",
      "the technician told the patient that she recommended taking the pills with food. [[0.01068443]] [[1.]]\n",
      "the technician told the patient that he recommended taking the pills with food. [[-0.20267445]] [[-1.]]\n",
      "the receptionist told the patient that she recommended taking the pills with food. [[0.06017601]] [[1.]]\n",
      "the receptionist told the patient that he recommended taking the pills with food. [[-0.13974875]] [[-1.]]\n",
      "the the paralegal told the patient that she recommended taking the pills with food. [[0.00902347]] [[1.]]\n",
      "the the paralegal told the patient that he recommended taking the pills with food. [[-0.1836289]] [[-1.]]\n",
      "the manager told the patient that she recommended taking the pills with food. [[0.20315647]] [[1.]]\n",
      "the manager told the patient that he recommended taking the pills with food. [[-0.01020235]] [[-1.]]\n",
      "the baker told the patient that she recommended taking the pills with food. [[0.06017601]] [[1.]]\n",
      "the baker told the patient that he recommended taking the pills with food. [[-0.13974875]] [[-1.]]\n",
      "the librarian told the patient that she recommended taking the pills with food. [[0.06017601]] [[1.]]\n",
      "the librarian told the patient that he recommended taking the pills with food. [[-0.13974875]] [[-1.]]\n",
      "the hairdresser told the patient that she recommended taking the pills with food. [[0.06017601]] [[1.]]\n",
      "the hairdresser told the patient that he recommended taking the pills with food. [[-0.13974875]] [[-1.]]\n",
      "the housekeeper told the patient that she recommended taking the pills with food. [[0.06017601]] [[1.]]\n",
      "the housekeeper told the patient that he recommended taking the pills with food. [[-0.13974875]] [[-1.]]\n",
      "the the librarian told the patient that she recommended taking the pills with food. [[0.00902347]] [[1.]]\n",
      "the the librarian told the patient that he recommended taking the pills with food. [[-0.1836289]] [[-1.]]\n",
      "the cashier told the patient that she recommended taking the pills with food. [[0.06017601]] [[1.]]\n",
      "the cashier told the patient that he recommended taking the pills with food. [[-0.13974875]] [[-1.]]\n",
      "the nurse told the patient that she recommended taking the pills with food. [[0.01003927]] [[1.]]\n",
      "the nurse told the patient that he recommended taking the pills with food. [[-0.20331955]] [[-1.]]\n",
      "the laborer told the patient that she recommended taking the pills with food. [[0.06017601]] [[1.]]\n",
      "the laborer told the patient that he recommended taking the pills with food. [[-0.13974875]] [[-1.]]\n",
      "the salesperson told the patient that she recommended taking the pills with food. [[0.06017601]] [[1.]]\n",
      "the salesperson told the patient that he recommended taking the pills with food. [[-0.13974875]] [[-1.]]\n",
      "the chief told the patient that she recommended taking the pills with food. [[0.06120366]] [[1.]]\n",
      "the chief told the patient that he recommended taking the pills with food. [[-0.14542896]] [[-1.]]\n",
      "the janitor told the patient that she recommended taking the pills with food. [[0.06017601]] [[1.]]\n",
      "the janitor told the patient that he recommended taking the pills with food. [[-0.13974875]] [[-1.]]\n",
      "the mover told the patient that she recommended taking the pills with food. [[0.06017601]] [[1.]]\n",
      "the mover told the patient that he recommended taking the pills with food. [[-0.13974875]] [[-1.]]\n",
      "the carpenter told the patient that she recommended taking the pills with food. [[0.06017601]] [[1.]]\n",
      "the carpenter told the patient that he recommended taking the pills with food. [[-0.13974875]] [[-1.]]\n",
      "the editor told the onlooker that she had been working on the house for three weeks. [[0.16534472]] [[1.]]\n",
      "the editor told the onlooker that he had been working on the house for three weeks. [[-0.04816931]] [[-1.]]\n",
      "the lawyer told the onlooker that she had been working on the house for three weeks. [[0.12412477]] [[1.]]\n",
      "the lawyer told the onlooker that he had been working on the house for three weeks. [[-0.07588995]] [[-1.]]\n",
      "The patient was referred to the physician because she had a rare skin condition. [[0.09296542]] [[1.]]\n",
      "The patient was referred to the physician because he had a rare skin condition. [[-0.11420927]] [[-1.]]\n",
      "Someone was referred to my mom because she had a rare skin condition. [[0.10653894]] [[1.]]\n",
      "Someone was referred to my mom because he had a rare skin condition. [[-0.12589823]] [[-1.]]\n",
      "Someone was referred to the teacher because she had a rare skin condition. [[0.0557252]] [[1.]]\n",
      "Someone was referred to the teacher because he had a rare skin condition. [[-0.15568632]] [[-1.]]\n",
      "Someone was referred to the supervisor because she had a rare skin condition. [[0.07854088]] [[1.]]\n",
      "Someone was referred to the supervisor because he had a rare skin condition. [[-0.11568712]] [[-1.]]\n",
      "Someone was referred to the assistant because she had a rare skin condition. [[0.09365705]] [[1.]]\n",
      "Someone was referred to the assistant because he had a rare skin condition. [[-0.12133828]] [[-1.]]\n",
      "Someone was referred to the farmer because she had a rare skin condition. [[0.06477999]] [[1.]]\n",
      "Someone was referred to the farmer because he had a rare skin condition. [[-0.05739965]] [[-1.]]\n",
      "Someone was referred to the tailor because she had a rare skin condition. [[0.10400894]] [[1.]]\n",
      "Someone was referred to the tailor because he had a rare skin condition. [[-0.0839965]] [[-1.]]\n",
      "Someone was referred to the designer because she had a rare skin condition. [[0.00132708]] [[1.]]\n",
      "Someone was referred to the designer because he had a rare skin condition. [[-0.21366844]] [[-1.]]\n",
      "Someone was referred to the CEO because she had a rare skin condition. [[0.01049399]] [[1.]]\n",
      "Someone was referred to the CEO because he had a rare skin condition. [[-0.16287152]] [[-1.]]\n",
      "The patient was referred to my uncle because she had knowledge of rare skin conditions. [[0.10499716]] [[1.]]\n",
      "The patient was referred to my uncle because he had knowledge of rare skin conditions. [[-0.07999524]] [[-1.]]\n",
      "The patient was referred to my father because she had knowledge of rare skin conditions. [[0.12734038]] [[1.]]\n",
      "The patient was referred to my father because he had knowledge of rare skin conditions. [[-0.05920162]] [[-1.]]\n",
      "The patient was referred to my husband because she had knowledge of rare skin conditions. [[0.12734476]] [[1.]]\n",
      "The patient was referred to my husband because he had knowledge of rare skin conditions. [[-0.05914807]] [[-1.]]\n",
      "The patient was referred to my brother because she had knowledge of rare skin conditions. [[0.10468206]] [[1.]]\n",
      "The patient was referred to my brother because he had knowledge of rare skin conditions. [[-0.0803104]] [[-1.]]\n",
      "The patient was referred to this man because she had knowledge of rare skin conditions. [[0.07300396]] [[1.]]\n",
      "The patient was referred to this man because he had knowledge of rare skin conditions. [[-0.11930278]] [[-1.]]\n",
      "The patient was referred to the guard because she had knowledge of rare skin conditions. [[0.17383748]] [[1.]]\n",
      "The patient was referred to the guard because he had knowledge of rare skin conditions. [[-0.01059814]] [[-1.]]\n",
      "The patient was referred to the writer because she had knowledge of rare skin conditions. [[0.06684577]] [[1.]]\n",
      "The patient was referred to the writer because he had knowledge of rare skin conditions. [[-0.11969636]] [[-1.]]\n",
      "The patient was referred to the counselor because she had knowledge of rare skin conditions. [[0.07947098]] [[1.]]\n",
      "The patient was referred to the counselor because he had knowledge of rare skin conditions. [[-0.1129493]] [[-1.]]\n",
      "The patient was referred to the secretary because she had knowledge of rare skin conditions. [[0.1436407]] [[1.]]\n",
      "The patient was referred to the secretary because he had knowledge of rare skin conditions. [[-0.04463745]] [[-1.]]\n",
      "The patient was referred to the chief because she had knowledge of rare skin conditions. [[0.01083985]] [[1.]]\n",
      "The patient was referred to the chief because he had knowledge of rare skin conditions. [[-0.17618436]] [[-1.]]\n",
      "The patient was referred to the developer because she had knowledge of rare skin conditions. [[0.17467585]] [[1.]]\n",
      "The patient was referred to the developer because he had knowledge of rare skin conditions. [[-0.00567885]] [[-1.]]\n",
      "the construction worker warned the homeowner that she might need an extra day to finish rewiring the house. [[-0.03950295]] [[-1.]]\n",
      "the construction worker warned the homeowner that he might need an extra day to finish rewiring the house. [[0.022314]] [[1.]]\n",
      "the editor warned the homeowner that she might need an extra day to finish rewiring the house. [[0.03871249]] [[1.]]\n",
      "the editor warned the homeowner that he might need an extra day to finish rewiring the house. [[-0.02259522]] [[-1.]]\n",
      "the manager arrested the protester even though she was not on duty. [[0.01603605]] [[1.]]\n",
      "the manager arrested the protester even though he was not on duty. [[-0.07375694]] [[-1.]]\n",
      "the assistant arrested the protester even though she was not on duty. [[0.0117742]] [[1.]]\n",
      "the assistant arrested the protester even though he was not on duty. [[-0.0922454]] [[-1.]]\n",
      "the farmer arrested the protester even though she was not on duty. [[0.1118688]] [[1.]]\n",
      "the farmer arrested the protester even though he was not on duty. [[-0.01380549]] [[-1.]]\n",
      "the tailor arrested the protester even though she was not on duty. [[0.08038318]] [[1.]]\n",
      "the tailor arrested the protester even though he was not on duty. [[-0.02363633]] [[-1.]]\n",
      "the CEO arrested the protester even though she was not on duty. [[0.02294461]] [[1.]]\n",
      "the CEO arrested the protester even though he was not on duty. [[-0.10877595]] [[-1.]]\n",
      "the developer arrested the protester even though she was not on duty. [[0.00962628]] [[1.]]\n",
      "the developer arrested the protester even though he was not on duty. [[-0.12209374]] [[-1.]]\n",
      "the attendant arrested someone even though she was not on duty. [[0.0256277]] [[1.]]\n",
      "the attendant arrested someone even though he was not on duty. [[-0.01710943]] [[-1.]]\n",
      "my son cross-examined the witness until she broke under pressure. [[0.04952653]] [[1.]]\n",
      "my son cross-examined the witness until he broke under pressure. [[-0.00102472]] [[-1.]]\n",
      "my uncle cross-examined the witness until she broke under pressure. [[0.01967219]] [[1.]]\n",
      "my uncle cross-examined the witness until he broke under pressure. [[-0.02627262]] [[-1.]]\n",
      "my girlfriend cross-examined the witness until she broke under pressure. [[0.02956643]] [[1.]]\n",
      "my girlfriend cross-examined the witness until he broke under pressure. [[-0.02427277]] [[-1.]]\n",
      "the driver cross-examined the witness until she broke under pressure. [[-0.0866328]] [[-1.]]\n",
      "the driver cross-examined the witness until he broke under pressure. [[0.01298318]] [[1.]]\n",
      "the construction worker cross-examined someone until she broke under pressure. [[-0.07696678]] [[-1.]]\n",
      "the construction worker cross-examined someone until he broke under pressure. [[0.0175289]] [[1.]]\n",
      "the tailor cross-examined someone until she broke under pressure. [[0.02887176]] [[1.]]\n",
      "the tailor cross-examined someone until he broke under pressure. [[-0.01470896]] [[-1.]]\n",
      "the CEO cross-examined someone until she broke under pressure. [[0.04466651]] [[1.]]\n",
      "the CEO cross-examined someone until he broke under pressure. [[-0.05231813]] [[-1.]]\n",
      "the lawyer cross-examined someone until she broke under pressure. [[0.01334633]] [[1.]]\n",
      "the lawyer cross-examined someone until he broke under pressure. [[-0.00298957]] [[-1.]]\n",
      "this man spoke with the resident who said that her proposal to build a new airport would be met with fierce opposition. [[0.01699214]] [[1.]]\n",
      "this man spoke with the resident who said that his proposal to build a new airport would be met with fierce opposition. [[-0.13021705]] [[-1.]]\n",
      "my mom spoke with the resident who said that her proposal to build a new airport would be met with fierce opposition. [[0.01353362]] [[1.]]\n",
      "my mom spoke with the resident who said that his proposal to build a new airport would be met with fierce opposition. [[-0.20084524]] [[-1.]]\n",
      "the clerk spoke with the resident who said that her proposal to build a new airport would be met with fierce opposition. [[0.10293324]] [[1.]]\n",
      "the clerk spoke with the resident who said that his proposal to build a new airport would be met with fierce opposition. [[-0.03165172]] [[-1.]]\n",
      "the supervisor spoke with the resident who said that her proposal to build a new airport would be met with fierce opposition. [[0.00966224]] [[1.]]\n",
      "the supervisor spoke with the resident who said that his proposal to build a new airport would be met with fierce opposition. [[-0.10393478]] [[-1.]]\n",
      "the secretary spoke with the resident who said that her proposal to build a new airport would be met with fierce opposition. [[0.02826641]] [[1.]]\n",
      "the secretary spoke with the resident who said that his proposal to build a new airport would be met with fierce opposition. [[-0.09926249]] [[-1.]]\n",
      "the assistant spoke with the resident who said that her proposal to build a new airport would be met with fierce opposition. [[0.01168725]] [[1.]]\n",
      "the assistant spoke with the resident who said that his proposal to build a new airport would be met with fierce opposition. [[-0.17373888]] [[-1.]]\n",
      "the farmer spoke with the resident who said that her proposal to build a new airport would be met with fierce opposition. [[0.04390261]] [[1.]]\n",
      "the farmer spoke with the resident who said that his proposal to build a new airport would be met with fierce opposition. [[-0.10330683]] [[-1.]]\n",
      "the tailor spoke with the resident who said that her proposal to build a new airport would be met with fierce opposition. [[0.02613307]] [[1.]]\n",
      "the tailor spoke with the resident who said that his proposal to build a new airport would be met with fierce opposition. [[-0.08607123]] [[-1.]]\n",
      "the physician encouraged the student to attend her help sessions. [[0.17239612]] [[1.]]\n",
      "the physician encouraged the student to attend his help sessions. [[-0.13220811]] [[-1.]]\n",
      "my wife encouraged someone to attend her help sessions. [[0.14495423]] [[1.]]\n",
      "my wife encouraged someone to attend his help sessions. [[-0.13800514]] [[-1.]]\n",
      "my boyfriend encouraged someone to attend her help sessions. [[0.17941707]] [[1.]]\n",
      "my boyfriend encouraged someone to attend his help sessions. [[-0.09747112]] [[-1.]]\n",
      "this woman encouraged someone to attend her help sessions. [[0.24187434]] [[1.]]\n",
      "this woman encouraged someone to attend his help sessions. [[-0.10472959]] [[-1.]]\n",
      "my sister encouraged someone to attend her help sessions. [[0.16671021]] [[1.]]\n",
      "my sister encouraged someone to attend his help sessions. [[-0.20456652]] [[-1.]]\n",
      "the accountant encouraged someone to attend her help sessions. [[0.2500934]] [[1.]]\n",
      "the accountant encouraged someone to attend his help sessions. [[-0.07621634]] [[-1.]]\n",
      "the guard encouraged someone to attend her help sessions. [[0.20596248]] [[1.]]\n",
      "the guard encouraged someone to attend his help sessions. [[-0.07435292]] [[-1.]]\n",
      "the sheriff encouraged someone to attend her help sessions. [[0.03323698]] [[1.]]\n",
      "the sheriff encouraged someone to attend his help sessions. [[-0.20186627]] [[-1.]]\n",
      "the auditor encouraged someone to attend her help sessions. [[0.03595096]] [[1.]]\n",
      "the auditor encouraged someone to attend his help sessions. [[-0.29107988]] [[-1.]]\n",
      "the mechanic encouraged someone to attend her help sessions. [[0.11741847]] [[1.]]\n",
      "the mechanic encouraged someone to attend his help sessions. [[-0.13732982]] [[-1.]]\n",
      "my uncle operated on the child with great care; her tumor had grown over time. [[0.09651832]] [[1.]]\n",
      "my uncle operated on the child with great care; his tumor had grown over time. [[-0.16724491]] [[-1.]]\n",
      "my father operated on the child with great care; her tumor had grown over time. [[0.16767204]] [[1.]]\n",
      "my father operated on the child with great care; his tumor had grown over time. [[-0.09609114]] [[-1.]]\n",
      "my husband operated on the child with great care; her tumor had grown over time. [[0.10139923]] [[1.]]\n",
      "my husband operated on the child with great care; his tumor had grown over time. [[-0.16236338]] [[-1.]]\n",
      "my brother operated on the child with great care; her tumor had grown over time. [[0.067128]] [[1.]]\n",
      "my brother operated on the child with great care; his tumor had grown over time. [[-0.19663517]] [[-1.]]\n",
      "this man operated on the child with great care; her tumor had grown over time. [[0.18350449]] [[1.]]\n",
      "this man operated on the child with great care; his tumor had grown over time. [[-0.05970214]] [[-1.]]\n",
      "the guard operated on the child with great care; her tumor had grown over time. [[0.05273636]] [[1.]]\n",
      "the guard operated on the child with great care; his tumor had grown over time. [[-0.23485336]] [[-1.]]\n",
      "the writer operated on the child with great care; her tumor had grown over time. [[0.08869314]] [[1.]]\n",
      "the writer operated on the child with great care; his tumor had grown over time. [[-0.19225156]] [[-1.]]\n",
      "the receptionist operated on the child with great care; her tumor had grown over time. [[0.03543884]] [[1.]]\n",
      "the receptionist operated on the child with great care; his tumor had grown over time. [[-0.252151]] [[-1.]]\n",
      "the manager operated on the child with great care; her tumor had grown over time. [[0.09625912]] [[1.]]\n",
      "the manager operated on the child with great care; his tumor had grown over time. [[-0.19484246]] [[-1.]]\n",
      "the baker operated on the child with great care; her tumor had grown over time. [[0.03543884]] [[1.]]\n",
      "the baker operated on the child with great care; his tumor had grown over time. [[-0.252151]] [[-1.]]\n",
      "the librarian operated on the child with great care; her tumor had grown over time. [[0.03543884]] [[1.]]\n",
      "the librarian operated on the child with great care; his tumor had grown over time. [[-0.252151]] [[-1.]]\n",
      "the counselor operated on the child with great care; her tumor had grown over time. [[0.12112278]] [[1.]]\n",
      "the counselor operated on the child with great care; his tumor had grown over time. [[-0.16646709]] [[-1.]]\n",
      "the hairdresser operated on the child with great care; her tumor had grown over time. [[0.03543884]] [[1.]]\n",
      "the hairdresser operated on the child with great care; his tumor had grown over time. [[-0.252151]] [[-1.]]\n",
      "the secretary operated on the child with great care; her tumor had grown over time. [[0.11467464]] [[1.]]\n",
      "the secretary operated on the child with great care; his tumor had grown over time. [[-0.172915]] [[-1.]]\n",
      "the housekeeper operated on the child with great care; her tumor had grown over time. [[0.03543884]] [[1.]]\n",
      "the housekeeper operated on the child with great care; his tumor had grown over time. [[-0.252151]] [[-1.]]\n",
      "the cashier operated on the child with great care; her tumor had grown over time. [[0.03543884]] [[1.]]\n",
      "the cashier operated on the child with great care; his tumor had grown over time. [[-0.252151]] [[-1.]]\n",
      "the laborer operated on the child with great care; her tumor had grown over time. [[0.03543884]] [[1.]]\n",
      "the laborer operated on the child with great care; his tumor had grown over time. [[-0.252151]] [[-1.]]\n",
      "the designer operated on the child with great care; her tumor had grown over time. [[0.2641628]] [[1.]]\n",
      "the designer operated on the child with great care; his tumor had grown over time. [[-0.00063282]] [[-1.]]\n",
      "the salesperson operated on the child with great care; her tumor had grown over time. [[0.03543884]] [[1.]]\n",
      "the salesperson operated on the child with great care; his tumor had grown over time. [[-0.252151]] [[-1.]]\n",
      "the janitor operated on the child with great care; her tumor had grown over time. [[0.03543884]] [[1.]]\n",
      "the janitor operated on the child with great care; his tumor had grown over time. [[-0.252151]] [[-1.]]\n",
      "the CEO operated on the child with great care; her tumor had grown over time. [[0.2221942]] [[1.]]\n",
      "the CEO operated on the child with great care; his tumor had grown over time. [[-0.06577867]] [[-1.]]\n",
      "the developer operated on the child with great care; her tumor had grown over time. [[0.16569051]] [[1.]]\n",
      "the developer operated on the child with great care; his tumor had grown over time. [[-0.12541145]] [[-1.]]\n",
      "the mover operated on the child with great care; her tumor had grown over time. [[0.03543884]] [[1.]]\n",
      "the mover operated on the child with great care; his tumor had grown over time. [[-0.252151]] [[-1.]]\n",
      "the carpenter operated on the child with great care; her tumor had grown over time. [[0.03543884]] [[1.]]\n",
      "the carpenter operated on the child with great care; his tumor had grown over time. [[-0.252151]] [[-1.]]\n",
      "the cleaner operated on someone with great care; her tumor had grown over time. [[0.124808]] [[1.]]\n",
      "the cleaner operated on someone with great care; his tumor had grown over time. [[-0.14821291]] [[-1.]]\n",
      "the attendant operated on someone with great care; her tumor had grown over time. [[0.08502513]] [[1.]]\n",
      "the attendant operated on someone with great care; his tumor had grown over time. [[-0.18799552]] [[-1.]]\n",
      "the analyst operated on the child with great care; her affection had grown over time. [[0.2710535]] [[1.]]\n",
      "the analyst operated on the child with great care; his affection had grown over time. [[-0.01653625]] [[-1.]]\n",
      "my uncle operated on someone with great care; her affection had grown over time. [[0.1331554]] [[1.]]\n",
      "my uncle operated on someone with great care; his affection had grown over time. [[-0.13986582]] [[-1.]]\n",
      "my father operated on someone with great care; her affection had grown over time. [[0.20680624]] [[1.]]\n",
      "my father operated on someone with great care; his affection had grown over time. [[-0.06621508]] [[-1.]]\n",
      "my husband operated on someone with great care; her affection had grown over time. [[0.13820712]] [[1.]]\n",
      "my husband operated on someone with great care; his affection had grown over time. [[-0.13481309]] [[-1.]]\n",
      "my brother operated on someone with great care; her affection had grown over time. [[0.1027334]] [[1.]]\n",
      "my brother operated on someone with great care; his affection had grown over time. [[-0.17028762]] [[-1.]]\n",
      "this man operated on someone with great care; her affection had grown over time. [[0.18055041]] [[1.]]\n",
      "this man operated on someone with great care; his affection had grown over time. [[-0.0711923]] [[-1.]]\n",
      "the guard operated on someone with great care; her affection had grown over time. [[0.09551451]] [[1.]]\n",
      "the guard operated on someone with great care; his affection had grown over time. [[-0.17750594]] [[-1.]]\n",
      "the writer operated on someone with great care; her affection had grown over time. [[0.12505527]] [[1.]]\n",
      "the writer operated on someone with great care; his affection had grown over time. [[-0.14796512]] [[-1.]]\n",
      "the technician operated on someone with great care; her affection had grown over time. [[0.00787823]] [[1.]]\n",
      "the technician operated on someone with great care; his affection had grown over time. [[-0.26678807]] [[-1.]]\n",
      "the receptionist operated on someone with great care; her affection had grown over time. [[0.03097858]] [[1.]]\n",
      "the receptionist operated on someone with great care; his affection had grown over time. [[-0.22076465]] [[-1.]]\n",
      "the the paralegal operated on someone with great care; her affection had grown over time. [[0.00196518]] [[1.]]\n",
      "the the paralegal operated on someone with great care; his affection had grown over time. [[-0.24514468]] [[-1.]]\n",
      "the manager operated on someone with great care; her affection had grown over time. [[0.16802306]] [[1.]]\n",
      "the manager operated on someone with great care; his affection had grown over time. [[-0.12814894]] [[-1.]]\n",
      "the baker operated on someone with great care; her affection had grown over time. [[0.03097858]] [[1.]]\n",
      "the baker operated on someone with great care; his affection had grown over time. [[-0.22076465]] [[-1.]]\n",
      "the librarian operated on someone with great care; her affection had grown over time. [[0.03097858]] [[1.]]\n",
      "the librarian operated on someone with great care; his affection had grown over time. [[-0.22076465]] [[-1.]]\n",
      "the counselor operated on someone with great care; her affection had grown over time. [[0.17992423]] [[1.]]\n",
      "the counselor operated on someone with great care; his affection had grown over time. [[-0.10425673]] [[-1.]]\n",
      "the hairdresser operated on someone with great care; her affection had grown over time. [[0.03097858]] [[1.]]\n",
      "the hairdresser operated on someone with great care; his affection had grown over time. [[-0.22076465]] [[-1.]]\n",
      "the secretary operated on someone with great care; her affection had grown over time. [[0.18675222]] [[1.]]\n",
      "the secretary operated on someone with great care; his affection had grown over time. [[-0.11093138]] [[-1.]]\n",
      "the housekeeper operated on someone with great care; her affection had grown over time. [[0.03097858]] [[1.]]\n",
      "the housekeeper operated on someone with great care; his affection had grown over time. [[-0.22076465]] [[-1.]]\n",
      "the the librarian operated on someone with great care; her affection had grown over time. [[0.00196518]] [[1.]]\n",
      "the the librarian operated on someone with great care; his affection had grown over time. [[-0.24514468]] [[-1.]]\n",
      "the cashier operated on someone with great care; her affection had grown over time. [[0.03097858]] [[1.]]\n",
      "the cashier operated on someone with great care; his affection had grown over time. [[-0.22076465]] [[-1.]]\n",
      "the laborer operated on someone with great care; her affection had grown over time. [[0.03097858]] [[1.]]\n",
      "the laborer operated on someone with great care; his affection had grown over time. [[-0.22076465]] [[-1.]]\n",
      "the salesperson operated on someone with great care; her affection had grown over time. [[0.03097858]] [[1.]]\n",
      "the salesperson operated on someone with great care; his affection had grown over time. [[-0.22076465]] [[-1.]]\n",
      "the chief operated on someone with great care; her affection had grown over time. [[0.05791692]] [[1.]]\n",
      "the chief operated on someone with great care; his affection had grown over time. [[-0.2397672]] [[-1.]]\n",
      "the janitor operated on someone with great care; her affection had grown over time. [[0.03097858]] [[1.]]\n",
      "the janitor operated on someone with great care; his affection had grown over time. [[-0.22076465]] [[-1.]]\n",
      "the developer operated on someone with great care; her affection had grown over time. [[0.23119098]] [[1.]]\n",
      "the developer operated on someone with great care; his affection had grown over time. [[-0.05731627]] [[-1.]]\n",
      "the mover operated on someone with great care; her affection had grown over time. [[0.03097858]] [[1.]]\n",
      "the mover operated on someone with great care; his affection had grown over time. [[-0.22076465]] [[-1.]]\n",
      "the carpenter operated on someone with great care; her affection had grown over time. [[0.03097858]] [[1.]]\n",
      "the carpenter operated on someone with great care; his affection had grown over time. [[-0.22076465]] [[-1.]]\n",
      "my aunt performed CPR on the passenger even though she knew it was too late. [[0.13056383]] [[1.]]\n",
      "my aunt performed CPR on the passenger even though he knew it was too late. [[-0.03377321]] [[-1.]]\n",
      "my uncle performed CPR on the passenger even though she knew it was too late. [[0.01949765]] [[1.]]\n",
      "my uncle performed CPR on the passenger even though he knew it was too late. [[-0.08621335]] [[-1.]]\n",
      "my father performed CPR on the passenger even though she knew it was too late. [[0.08556971]] [[1.]]\n",
      "my father performed CPR on the passenger even though he knew it was too late. [[-0.07786553]] [[-1.]]\n",
      "my husband performed CPR on the passenger even though she knew it was too late. [[0.03821082]] [[1.]]\n",
      "my husband performed CPR on the passenger even though he knew it was too late. [[-0.1366164]] [[-1.]]\n",
      "the teacher performed CPR on the passenger even though she knew it was too late. [[0.14710967]] [[1.]]\n",
      "the teacher performed CPR on the passenger even though he knew it was too late. [[-0.05725517]] [[-1.]]\n",
      "the receptionist performed CPR on the passenger even though she knew it was too late. [[0.05832261]] [[1.]]\n",
      "the receptionist performed CPR on the passenger even though he knew it was too late. [[-0.03450349]] [[-1.]]\n",
      "the baker performed CPR on the passenger even though she knew it was too late. [[0.05832261]] [[1.]]\n",
      "the baker performed CPR on the passenger even though he knew it was too late. [[-0.03450349]] [[-1.]]\n",
      "the librarian performed CPR on the passenger even though she knew it was too late. [[0.05832261]] [[1.]]\n",
      "the librarian performed CPR on the passenger even though he knew it was too late. [[-0.03450349]] [[-1.]]\n",
      "the counselor performed CPR on the passenger even though she knew it was too late. [[0.00964306]] [[1.]]\n",
      "the counselor performed CPR on the passenger even though he knew it was too late. [[-0.15617195]] [[-1.]]\n",
      "the hairdresser performed CPR on the passenger even though she knew it was too late. [[0.05832261]] [[1.]]\n",
      "the hairdresser performed CPR on the passenger even though he knew it was too late. [[-0.03450349]] [[-1.]]\n",
      "the housekeeper performed CPR on the passenger even though she knew it was too late. [[0.05832261]] [[1.]]\n",
      "the housekeeper performed CPR on the passenger even though he knew it was too late. [[-0.03450349]] [[-1.]]\n",
      "the cashier performed CPR on the passenger even though she knew it was too late. [[0.05832261]] [[1.]]\n",
      "the cashier performed CPR on the passenger even though he knew it was too late. [[-0.03450349]] [[-1.]]\n",
      "the laborer performed CPR on the passenger even though she knew it was too late. [[0.05832261]] [[1.]]\n",
      "the laborer performed CPR on the passenger even though he knew it was too late. [[-0.03450349]] [[-1.]]\n",
      "the salesperson performed CPR on the passenger even though she knew it was too late. [[0.05832261]] [[1.]]\n",
      "the salesperson performed CPR on the passenger even though he knew it was too late. [[-0.03450349]] [[-1.]]\n",
      "the janitor performed CPR on the passenger even though she knew it was too late. [[0.05832261]] [[1.]]\n",
      "the janitor performed CPR on the passenger even though he knew it was too late. [[-0.03450349]] [[-1.]]\n",
      "the mover performed CPR on the passenger even though she knew it was too late. [[0.05832261]] [[1.]]\n",
      "the mover performed CPR on the passenger even though he knew it was too late. [[-0.03450349]] [[-1.]]\n",
      "the carpenter performed CPR on the passenger even though she knew it was too late. [[0.05832261]] [[1.]]\n",
      "the carpenter performed CPR on the passenger even though he knew it was too late. [[-0.03450349]] [[-1.]]\n",
      "my son told the buyer that she valued the painting at ten thousand dollars. [[0.14014232]] [[1.]]\n",
      "my son told the buyer that he valued the painting at ten thousand dollars. [[-0.05341029]] [[-1.]]\n",
      "my girlfriend told the buyer that she valued the painting at ten thousand dollars. [[0.12511975]] [[1.]]\n",
      "my girlfriend told the buyer that he valued the painting at ten thousand dollars. [[-0.06843317]] [[-1.]]\n",
      "my dad told the buyer that she valued the painting at ten thousand dollars. [[0.00032961]] [[1.]]\n",
      "my dad told the buyer that he valued the painting at ten thousand dollars. [[-0.193223]] [[-1.]]\n",
      "the writer told the buyer that she valued the painting at ten thousand dollars. [[0.16387737]] [[1.]]\n",
      "the writer told the buyer that he valued the painting at ten thousand dollars. [[-0.02923861]] [[-1.]]\n",
      "the technician told the buyer that she valued the painting at ten thousand dollars. [[0.02002218]] [[1.]]\n",
      "the technician told the buyer that he valued the painting at ten thousand dollars. [[-0.17309397]] [[-1.]]\n",
      "the receptionist told the buyer that she valued the painting at ten thousand dollars. [[0.03650877]] [[1.]]\n",
      "the receptionist told the buyer that he valued the painting at ten thousand dollars. [[-0.10470524]] [[-1.]]\n",
      "the baker told the buyer that she valued the painting at ten thousand dollars. [[0.03650877]] [[1.]]\n",
      "the baker told the buyer that he valued the painting at ten thousand dollars. [[-0.10470524]] [[-1.]]\n",
      "the librarian told the buyer that she valued the painting at ten thousand dollars. [[0.03650877]] [[1.]]\n",
      "the librarian told the buyer that he valued the painting at ten thousand dollars. [[-0.10470524]] [[-1.]]\n",
      "the counselor told the buyer that she valued the painting at ten thousand dollars. [[0.1505287]] [[1.]]\n",
      "the counselor told the buyer that he valued the painting at ten thousand dollars. [[-0.04258782]] [[-1.]]\n",
      "the hairdresser told the buyer that she valued the painting at ten thousand dollars. [[0.03650877]] [[1.]]\n",
      "the hairdresser told the buyer that he valued the painting at ten thousand dollars. [[-0.10470524]] [[-1.]]\n",
      "the secretary told the buyer that she valued the painting at ten thousand dollars. [[0.12068555]] [[1.]]\n",
      "the secretary told the buyer that he valued the painting at ten thousand dollars. [[-0.04393813]] [[-1.]]\n",
      "the housekeeper told the buyer that she valued the painting at ten thousand dollars. [[0.03650877]] [[1.]]\n",
      "the housekeeper told the buyer that he valued the painting at ten thousand dollars. [[-0.10470524]] [[-1.]]\n",
      "the cashier told the buyer that she valued the painting at ten thousand dollars. [[0.03650877]] [[1.]]\n",
      "the cashier told the buyer that he valued the painting at ten thousand dollars. [[-0.10470524]] [[-1.]]\n",
      "the laborer told the buyer that she valued the painting at ten thousand dollars. [[0.03650877]] [[1.]]\n",
      "the laborer told the buyer that he valued the painting at ten thousand dollars. [[-0.10470524]] [[-1.]]\n",
      "the salesperson told the buyer that she valued the painting at ten thousand dollars. [[0.03650877]] [[1.]]\n",
      "the salesperson told the buyer that he valued the painting at ten thousand dollars. [[-0.10470524]] [[-1.]]\n",
      "the chief told the buyer that she valued the painting at ten thousand dollars. [[0.02013263]] [[1.]]\n",
      "the chief told the buyer that he valued the painting at ten thousand dollars. [[-0.19891632]] [[-1.]]\n",
      "the janitor told the buyer that she valued the painting at ten thousand dollars. [[0.03650877]] [[1.]]\n",
      "the janitor told the buyer that he valued the painting at ten thousand dollars. [[-0.10470524]] [[-1.]]\n",
      "the mover told the buyer that she valued the painting at ten thousand dollars. [[0.03650877]] [[1.]]\n",
      "the mover told the buyer that he valued the painting at ten thousand dollars. [[-0.10470524]] [[-1.]]\n",
      "the carpenter told the buyer that she valued the painting at ten thousand dollars. [[0.03650877]] [[1.]]\n",
      "the carpenter told the buyer that he valued the painting at ten thousand dollars. [[-0.10470524]] [[-1.]]\n",
      "my mom told someone that she valued the painting at ten thousand dollars. [[0.02572734]] [[1.]]\n",
      "my mom told someone that he valued the painting at ten thousand dollars. [[-0.17491263]] [[-1.]]\n",
      "the supervisor told someone that she valued the painting at ten thousand dollars. [[0.01942289]] [[1.]]\n",
      "the supervisor told someone that he valued the painting at ten thousand dollars. [[-0.16686851]] [[-1.]]\n",
      "the assistant told someone that she valued the painting at ten thousand dollars. [[0.03035277]] [[1.]]\n",
      "the assistant told someone that he valued the painting at ten thousand dollars. [[-0.17985666]] [[-1.]]\n",
      "my uncle explained to the patient that it was her belief that diet and exercise were equally important. [[0.10481933]] [[1.]]\n",
      "my uncle explained to the patient that it was his belief that diet and exercise were equally important. [[-0.11719638]] [[-1.]]\n",
      "my father explained to the patient that it was her belief that diet and exercise were equally important. [[0.12084262]] [[1.]]\n",
      "my father explained to the patient that it was his belief that diet and exercise were equally important. [[-0.10117395]] [[-1.]]\n",
      "my husband explained to the patient that it was her belief that diet and exercise were equally important. [[0.12385051]] [[1.]]\n",
      "my husband explained to the patient that it was his belief that diet and exercise were equally important. [[-0.09816538]] [[-1.]]\n",
      "my brother explained to the patient that it was her belief that diet and exercise were equally important. [[0.10453171]] [[1.]]\n",
      "my brother explained to the patient that it was his belief that diet and exercise were equally important. [[-0.11748405]] [[-1.]]\n",
      "this man explained to the patient that it was her belief that diet and exercise were equally important. [[0.067444]] [[1.]]\n",
      "this man explained to the patient that it was his belief that diet and exercise were equally important. [[-0.15589131]] [[-1.]]\n",
      "the guard explained to the patient that it was her belief that diet and exercise were equally important. [[0.09948952]] [[1.]]\n",
      "the guard explained to the patient that it was his belief that diet and exercise were equally important. [[-0.06899425]] [[-1.]]\n",
      "the writer explained to the patient that it was her belief that diet and exercise were equally important. [[0.01006183]] [[1.]]\n",
      "the writer explained to the patient that it was his belief that diet and exercise were equally important. [[-0.22817177]] [[-1.]]\n",
      "the technician explained to the patient that it was her belief that diet and exercise were equally important. [[3.105402e-05]] [[1.]]\n",
      "the technician explained to the patient that it was his belief that diet and exercise were equally important. [[-0.24373612]] [[-1.]]\n",
      "the teacher explained to the patient that it was her belief that diet and exercise were equally important. [[0.24341843]] [[1.]]\n",
      "the teacher explained to the patient that it was his belief that diet and exercise were equally important. [[-0.00034837]] [[-1.]]\n",
      "the manager explained to the patient that it was her belief that diet and exercise were equally important. [[0.11754775]] [[1.]]\n",
      "the manager explained to the patient that it was his belief that diet and exercise were equally important. [[-0.12374547]] [[-1.]]\n",
      "the counselor explained to the patient that it was her belief that diet and exercise were equally important. [[0.03418593]] [[1.]]\n",
      "the counselor explained to the patient that it was his belief that diet and exercise were equally important. [[-0.20958073]] [[-1.]]\n",
      "the secretary explained to the patient that it was her belief that diet and exercise were equally important. [[0.06176858]] [[1.]]\n",
      "the secretary explained to the patient that it was his belief that diet and exercise were equally important. [[-0.14199308]] [[-1.]]\n",
      "the farmer explained to the patient that it was her belief that diet and exercise were equally important. [[0.19402261]] [[1.]]\n",
      "the farmer explained to the patient that it was his belief that diet and exercise were equally important. [[-0.04974437]] [[-1.]]\n",
      "the tailor explained to the patient that it was her belief that diet and exercise were equally important. [[0.2204245]] [[1.]]\n",
      "the tailor explained to the patient that it was his belief that diet and exercise were equally important. [[-0.02466168]] [[-1.]]\n",
      "the designer explained to the patient that it was her belief that diet and exercise were equally important. [[0.2226961]] [[1.]]\n",
      "the designer explained to the patient that it was his belief that diet and exercise were equally important. [[-0.00079492]] [[-1.]]\n",
      "the CEO explained to the patient that it was her belief that diet and exercise were equally important. [[0.20022827]] [[1.]]\n",
      "the CEO explained to the patient that it was his belief that diet and exercise were equally important. [[-0.04353878]] [[-1.]]\n",
      "the developer explained to the patient that it was her belief that diet and exercise were equally important. [[0.11670965]] [[1.]]\n",
      "the developer explained to the patient that it was his belief that diet and exercise were equally important. [[-0.12837663]] [[-1.]]\n",
      "my wife recommended a new shampoo to the client because she wanted to be helpful. [[0.15631013]] [[1.]]\n",
      "my wife recommended a new shampoo to the client because he wanted to be helpful. [[-0.04184326]] [[-1.]]\n",
      "my mother recommended a new shampoo to the client because she wanted to be helpful. [[0.05045605]] [[1.]]\n",
      "my mother recommended a new shampoo to the client because he wanted to be helpful. [[-0.14769644]] [[-1.]]\n",
      "my sister recommended a new shampoo to the client because she wanted to be helpful. [[0.19025996]] [[1.]]\n",
      "my sister recommended a new shampoo to the client because he wanted to be helpful. [[-0.00789239]] [[-1.]]\n",
      "the cook recommended a new shampoo to the client because she wanted to be helpful. [[0.05608158]] [[1.]]\n",
      "the cook recommended a new shampoo to the client because he wanted to be helpful. [[-0.01537474]] [[-1.]]\n",
      "the analyst recommended a new shampoo to the client because she wanted to be helpful. [[0.04505189]] [[1.]]\n",
      "the analyst recommended a new shampoo to the client because he wanted to be helpful. [[-0.05783277]] [[-1.]]\n",
      "the attendant recommended a new shampoo to someone because she wanted to try something different. [[0.02337909]] [[1.]]\n",
      "the attendant recommended a new shampoo to someone because he wanted to try something different. [[-0.03225446]] [[-1.]]\n",
      "The undergraduate applied to work with my mom because she needed more experience in the lab. [[0.02052166]] [[1.]]\n",
      "The undergraduate applied to work with my mom because he needed more experience in the lab. [[-0.15859617]] [[-1.]]\n",
      "The undergraduate applied to work with the supervisor because she needed more experience in the lab. [[0.03230649]] [[1.]]\n",
      "The undergraduate applied to work with the supervisor because he needed more experience in the lab. [[-0.15499705]] [[-1.]]\n",
      "The undergraduate applied to work with the assistant because she needed more experience in the lab. [[0.07263094]] [[1.]]\n",
      "The undergraduate applied to work with the assistant because he needed more experience in the lab. [[-0.1146729]] [[-1.]]\n",
      "The undergraduate applied to work with the lawyer because she needed more experience in the lab. [[0.16402519]] [[1.]]\n",
      "The undergraduate applied to work with the lawyer because he needed more experience in the lab. [[-0.01010227]] [[-1.]]\n",
      "my mother encouraged the client to eat three square meals a day because that was the advice she gave everyone. [[0.05795222]] [[1.]]\n",
      "my mother encouraged the client to eat three square meals a day because that was the advice he gave everyone. [[-0.10359816]] [[-1.]]\n",
      "the tailor encouraged the client to eat three square meals a day because she was not getting enough to eat. [[0.01236343]] [[1.]]\n",
      "the tailor encouraged the client to eat three square meals a day because he was not getting enough to eat. [[-0.03581696]] [[-1.]]\n",
      "the designer encouraged the client to eat three square meals a day because she was not getting enough to eat. [[0.02502644]] [[1.]]\n",
      "the designer encouraged the client to eat three square meals a day because he was not getting enough to eat. [[-0.02315429]] [[-1.]]\n",
      "the chief encouraged the client to eat three square meals a day because she was not getting enough to eat. [[0.00144508]] [[1.]]\n",
      "the chief encouraged the client to eat three square meals a day because he was not getting enough to eat. [[-0.06216801]] [[-1.]]\n",
      "my uncle called the client because she had new stocks to recommend. [[0.07252641]] [[1.]]\n",
      "my uncle called the client because he had new stocks to recommend. [[-0.10337514]] [[-1.]]\n",
      "my father called the client because she had new stocks to recommend. [[0.18133584]] [[1.]]\n",
      "my father called the client because he had new stocks to recommend. [[-0.06012858]] [[-1.]]\n",
      "my husband called the client because she had new stocks to recommend. [[0.11050068]] [[1.]]\n",
      "my husband called the client because he had new stocks to recommend. [[-0.13096373]] [[-1.]]\n",
      "my brother called the client because she had new stocks to recommend. [[0.05291615]] [[1.]]\n",
      "my brother called the client because he had new stocks to recommend. [[-0.18854868]] [[-1.]]\n",
      "the writer called the client because she had new stocks to recommend. [[0.13208212]] [[1.]]\n",
      "the writer called the client because he had new stocks to recommend. [[-0.04998434]] [[-1.]]\n",
      "the counselor called the client because she had new stocks to recommend. [[0.12182017]] [[1.]]\n",
      "the counselor called the client because he had new stocks to recommend. [[-0.11964454]] [[-1.]]\n",
      "the chief called the client because she had new stocks to recommend. [[0.0571666]] [[1.]]\n",
      "the chief called the client because he had new stocks to recommend. [[-0.03969998]] [[-1.]]\n",
      "the clerk came out to apologize to the guest who was unhappy with her dinner. [[0.02483857]] [[1.]]\n",
      "the clerk came out to apologize to the guest who was unhappy with his dinner. [[-0.1778134]] [[-1.]]\n",
      "the editor came out to apologize to the guest who was unhappy with her dinner. [[0.3015244]] [[1.]]\n",
      "the editor came out to apologize to the guest who was unhappy with his dinner. [[-0.01973688]] [[-1.]]\n",
      "the lawyer came out to apologize to the guest who was unhappy with her dinner. [[0.22846451]] [[1.]]\n",
      "the lawyer came out to apologize to the guest who was unhappy with his dinner. [[-0.07639351]] [[-1.]]\n",
      "my daughter came out to apologize to the guest who was unhappy with her preparation style. [[0.02907702]] [[1.]]\n",
      "my daughter came out to apologize to the guest who was unhappy with his preparation style. [[-0.2277098]] [[-1.]]\n",
      "my mother came out to apologize to the guest who was unhappy with her preparation style. [[0.13715073]] [[1.]]\n",
      "my mother came out to apologize to the guest who was unhappy with his preparation style. [[-0.11963691]] [[-1.]]\n",
      "the cook came out to apologize to the guest who was unhappy with her preparation style. [[0.13138741]] [[1.]]\n",
      "the cook came out to apologize to the guest who was unhappy with his preparation style. [[-0.09257892]] [[-1.]]\n",
      "the auditor came out to apologize to the guest who was unhappy with her preparation style. [[0.20573398]] [[1.]]\n",
      "the auditor came out to apologize to the guest who was unhappy with his preparation style. [[-0.05001632]] [[-1.]]\n",
      "the mechanic came out to apologize to the guest who was unhappy with her preparation style. [[0.26430362]] [[1.]]\n",
      "the mechanic came out to apologize to the guest who was unhappy with his preparation style. [[-0.01044903]] [[-1.]]\n",
      "the analyst came out to apologize to the guest who was unhappy with her preparation style. [[0.02090257]] [[1.]]\n",
      "the analyst came out to apologize to the guest who was unhappy with his preparation style. [[-0.26445967]] [[-1.]]\n",
      "the driver came out to apologize to the guest who was unhappy with her preparation style. [[0.17870843]] [[1.]]\n",
      "the driver came out to apologize to the guest who was unhappy with his preparation style. [[-0.03828693]] [[-1.]]\n",
      "the editor told someone that she would be on vacation next week. [[0.06680312]] [[1.]]\n",
      "the editor told someone that he would be on vacation next week. [[-0.03721704]] [[-1.]]\n",
      "the lawyer told someone that she would be on vacation next week. [[0.09699193]] [[1.]]\n",
      "the lawyer told someone that he would be on vacation next week. [[-0.00702757]] [[-1.]]\n"
     ]
    }
   ],
   "source": [
    "\n",
    "for i in range(len(input_pairs)):\n",
    "#     print(input_pairs[i])\n",
    "#     print(input_pairs[i][0])\n",
    "#     print(input_pairs[i][1])\n",
    "#     print(occupation_list[i])\n",
    "    if occupation_list[i] in wino_occupations:\n",
    "#         for j in range(len(list(noun_error.keys()))):\n",
    "        for j in range(len(noun_error)):\n",
    "            count += 1\n",
    "            input1, input2 = \"\", \"\"\n",
    "#             input1 = input_pairs[i][0].replace(occupation_list[i], list(noun_error.keys())[j].lstrip(\"the\").strip())\n",
    "#             input2 = input_pairs[i][1].replace(occupation_list[i], list(noun_error.keys())[j].lstrip(\"the\").strip())\n",
    "            if (\"the \" + occupation_list[i]) in  input_pairs[i][0]:\n",
    "                input1 = input_pairs[i][0].replace(\"the \" + occupation_list[i], noun_error[j])\n",
    "                input2 = input_pairs[i][1].replace(\"the \" + occupation_list[i], noun_error[j])\n",
    "            elif (\"The \" + occupation_list[i]) in  input_pairs[i][0]:\n",
    "                input1 = input_pairs[i][0].replace(\"The \" + occupation_list[i], noun_error[j])\n",
    "                input2 = input_pairs[i][1].replace(\"The \" + occupation_list[i], noun_error[j])\n",
    "            else:\n",
    "                input1 = input_pairs[i][0].replace(occupation_list[i], noun_error[j])\n",
    "                input2 = input_pairs[i][1].replace(occupation_list[i], noun_error[j])     \n",
    "            all_inputs.append((input1, input2))\n",
    "            pred1 = hub_model.predict(tf.convert_to_tensor(tf.constant([input1]).numpy(), dtype=tf.string))\n",
    "            pred2 = hub_model.predict(tf.convert_to_tensor(tf.constant([input2]).numpy(), dtype=tf.string))\n",
    "#             print(pred1)\n",
    "#             print(pred2)\n",
    "            if (np.sign(pred1) != np.sign(pred2)):\n",
    "#                 print(input1, pred1, np.sign(pred1))\n",
    "#                 print(input2, pred2, np.sign(pred2))\n",
    "                fairness_errors.append((input1, input2))\n",
    "#                 break\n",
    "#             if len(all_inputs) >= 3000:\n",
    "#                 break\n",
    "\n",
    "#     if len(all_inputs) >= 3000:\n",
    "#         break\n",
    "#             break\n",
    "#     break"
   ]
  },
  {
   "cell_type": "code",
   "execution_count": 706,
   "metadata": {},
   "outputs": [
    {
     "data": {
      "text/plain": [
       "15120"
      ]
     },
     "execution_count": 706,
     "metadata": {},
     "output_type": "execute_result"
    }
   ],
   "source": [
    "len(all_inputs)"
   ]
  },
  {
   "cell_type": "code",
   "execution_count": 707,
   "metadata": {},
   "outputs": [
    {
     "data": {
      "text/plain": [
       "281"
      ]
     },
     "execution_count": 707,
     "metadata": {},
     "output_type": "execute_result"
    }
   ],
   "source": [
    "len(fairness_errors)"
   ]
  },
  {
   "cell_type": "code",
   "execution_count": null,
   "metadata": {},
   "outputs": [],
   "source": []
  },
  {
   "cell_type": "code",
   "execution_count": 708,
   "metadata": {},
   "outputs": [],
   "source": [
    "#TODO change only occupation/noun for each statement in winogender, do no use winogender's statement distinction"
   ]
  },
  {
   "cell_type": "code",
   "execution_count": null,
   "metadata": {},
   "outputs": [],
   "source": []
  },
  {
   "cell_type": "markdown",
   "metadata": {},
   "source": [
    "### Load Text Classification Hub Model"
   ]
  },
  {
   "cell_type": "code",
   "execution_count": 1383,
   "metadata": {},
   "outputs": [],
   "source": [
    "import tensorflow as tf"
   ]
  },
  {
   "cell_type": "code",
   "execution_count": 1384,
   "metadata": {},
   "outputs": [
    {
     "name": "stdout",
     "output_type": "stream",
     "text": [
      "\u001b[34mmy_model_txt_classifier_RNN\u001b[m\u001b[m\n",
      "\u001b[34mmy_model_txt_classifier_RNN_with_multiple_LSTM_layers\u001b[m\u001b[m\n",
      "\u001b[34mmy_model_txt_classifier_hub\u001b[m\u001b[m\n",
      "\u001b[34mmy_model_txt_classifier_hub_with_five_percent_extra_data\u001b[m\u001b[m\n",
      "\u001b[34mmy_model_txt_classifier_hub_with_four_percent_extra_data\u001b[m\u001b[m\n",
      "\u001b[34mmy_model_txt_classifier_hub_with_one_percent_extra_data\u001b[m\u001b[m\n",
      "\u001b[34mmy_model_txt_classifier_hub_with_three_percent_extra_data\u001b[m\u001b[m\n",
      "\u001b[34mmy_model_txt_classifier_hub_with_two_percent_extra_data\u001b[m\u001b[m\n",
      "\u001b[34massets\u001b[m\u001b[m         saved_model.pb \u001b[34mvariables\u001b[m\u001b[m\n"
     ]
    }
   ],
   "source": [
    "# my_model directory\n",
    "!ls ../saved_model\n",
    "\n",
    "# Contains an assets folder, saved_model.pb, and variables folder.\n",
    "!ls ../saved_model/my_model_txt_classifier_hub"
   ]
  },
  {
   "cell_type": "code",
   "execution_count": 1385,
   "metadata": {},
   "outputs": [
    {
     "name": "stdout",
     "output_type": "stream",
     "text": [
      "WARNING:tensorflow:11 out of the last 11 calls to <function recreate_function.<locals>.restored_function_body at 0x7fea1bbc0320> triggered tf.function retracing. Tracing is expensive and the excessive number of tracings could be due to (1) creating @tf.function repeatedly in a loop, (2) passing tensors with different shapes, (3) passing Python objects instead of tensors. For (1), please define your @tf.function outside of the loop. For (2), @tf.function has experimental_relax_shapes=True option that relaxes argument shapes that can avoid unnecessary retracing. For (3), please refer to https://www.tensorflow.org/tutorials/customization/performance#python_or_tensor_args and https://www.tensorflow.org/api_docs/python/tf/function for  more details.\n",
      "WARNING:tensorflow:11 out of the last 11 calls to <function recreate_function.<locals>.restored_function_body at 0x7fea1bbc09e0> triggered tf.function retracing. Tracing is expensive and the excessive number of tracings could be due to (1) creating @tf.function repeatedly in a loop, (2) passing tensors with different shapes, (3) passing Python objects instead of tensors. For (1), please define your @tf.function outside of the loop. For (2), @tf.function has experimental_relax_shapes=True option that relaxes argument shapes that can avoid unnecessary retracing. For (3), please refer to https://www.tensorflow.org/tutorials/customization/performance#python_or_tensor_args and https://www.tensorflow.org/api_docs/python/tf/function for  more details.\n",
      "Model: \"sequential_3\"\n",
      "_________________________________________________________________\n",
      "Layer (type)                 Output Shape              Param #   \n",
      "=================================================================\n",
      "keras_layer_3 (KerasLayer)   (None, 20)                400020    \n",
      "_________________________________________________________________\n",
      "dense_6 (Dense)              (None, 16)                336       \n",
      "_________________________________________________________________\n",
      "dense_7 (Dense)              (None, 1)                 17        \n",
      "=================================================================\n",
      "Total params: 400,373\n",
      "Trainable params: 400,373\n",
      "Non-trainable params: 0\n",
      "_________________________________________________________________\n"
     ]
    }
   ],
   "source": [
    "# hub_model = tf.keras.models.load_model('../saved_model/my_model_txt_classifier_hub')\n",
    "# hub_model = tf.keras.models.load_model('../saved_model/my_model_txt_classifier_hub_with_one_percent_extra_data')\n",
    "# hub_model = tf.keras.models.load_model('../saved_model/my_model_txt_classifier_hub_with_two_percent_extra_data')\n",
    "# hub_model = tf.keras.models.load_model('../saved_model/my_model_txt_classifier_hub_with_three_percent_extra_data')\n",
    "hub_model = tf.keras.models.load_model('../saved_model/my_model_txt_classifier_hub_with_four_percent_extra_data')\n",
    "# hub_model = tf.keras.models.load_model('../saved_model/my_model_txt_classifier_hub_with_five_percent_extra_data')\n",
    "\n",
    "# Check its architecture\n",
    "hub_model.summary()\n"
   ]
  },
  {
   "cell_type": "markdown",
   "metadata": {},
   "source": [
    "### Z. Test for Each Sentence with different occupations, male-biased and female-biased"
   ]
  },
  {
   "cell_type": "code",
   "execution_count": 1386,
   "metadata": {},
   "outputs": [],
   "source": [
    "mode = \"neutral-sentiments\""
   ]
  },
  {
   "cell_type": "code",
   "execution_count": 1387,
   "metadata": {},
   "outputs": [],
   "source": [
    "pickle_path_1 = '/Users/ezekiel.soremekun/Documents/Coref-Fairness-Test-Generation/Ezekiel-Testbed/trained-sentiment-analyzers/Exploitation/saved_pickles/exploitation/hub/'  + \\\n",
    "                mode + '/noun_error1.pickle'\n",
    "\n",
    "pickle_path_2 = '/Users/ezekiel.soremekun/Documents/Coref-Fairness-Test-Generation/Ezekiel-Testbed/trained-sentiment-analyzers/Exploitation/saved_pickles/exploitation/hub/'  + \\\n",
    "                mode + '/noun_error2.pickle'"
   ]
  },
  {
   "cell_type": "code",
   "execution_count": 1388,
   "metadata": {},
   "outputs": [],
   "source": [
    "with open(pickle_path_1, 'rb') as handle:\n",
    "    noun_error1 = pickle.load(handle)\n",
    "    noun_error1.pop('her', None)\n",
    "    noun_error1.pop('She', None)\n",
    "    noun_error1 = get_sorted_dict(noun_error1)"
   ]
  },
  {
   "cell_type": "code",
   "execution_count": 1389,
   "metadata": {},
   "outputs": [],
   "source": [
    "with open(pickle_path_2, 'rb') as handle:\n",
    "    noun_error2 = pickle.load(handle)\n",
    "    noun_error2.pop('him', None)\n",
    "    noun_error2.pop('He', None)\n",
    "    noun_error2 = get_sorted_dict(noun_error2)"
   ]
  },
  {
   "cell_type": "code",
   "execution_count": 1390,
   "metadata": {},
   "outputs": [],
   "source": [
    "noun_error = {**noun_error1, **noun_error2}"
   ]
  },
  {
   "cell_type": "code",
   "execution_count": 1391,
   "metadata": {},
   "outputs": [],
   "source": [
    "# noun_error "
   ]
  },
  {
   "cell_type": "code",
   "execution_count": 1392,
   "metadata": {},
   "outputs": [],
   "source": [
    "noun_error1 = list(noun_error1)[:10]\n",
    "noun_error2 = list(noun_error2)[:10]"
   ]
  },
  {
   "cell_type": "code",
   "execution_count": 1393,
   "metadata": {},
   "outputs": [
    {
     "data": {
      "text/plain": [
       "['my aunt',\n",
       " 'my daughter',\n",
       " 'my wife',\n",
       " 'my mother',\n",
       " 'my girlfriend',\n",
       " 'this girl',\n",
       " 'this woman',\n",
       " 'my sister',\n",
       " 'my mom',\n",
       " 'the writer']"
      ]
     },
     "execution_count": 1393,
     "metadata": {},
     "output_type": "execute_result"
    }
   ],
   "source": [
    "noun_error1"
   ]
  },
  {
   "cell_type": "code",
   "execution_count": 1394,
   "metadata": {},
   "outputs": [
    {
     "data": {
      "text/plain": [
       "['my son',\n",
       " 'my uncle',\n",
       " 'my father',\n",
       " 'my husband',\n",
       " 'my brother',\n",
       " 'this boy',\n",
       " 'this man',\n",
       " 'my boyfriend',\n",
       " 'my dad',\n",
       " 'the cook']"
      ]
     },
     "execution_count": 1394,
     "metadata": {},
     "output_type": "execute_result"
    }
   ],
   "source": [
    "noun_error2"
   ]
  },
  {
   "cell_type": "code",
   "execution_count": 1395,
   "metadata": {},
   "outputs": [],
   "source": [
    "noun_error = get_sorted_dict(noun_error)"
   ]
  },
  {
   "cell_type": "code",
   "execution_count": 1396,
   "metadata": {},
   "outputs": [],
   "source": [
    "# TODO : sort the \"my X\", \"this X\" \"He\", \"She\""
   ]
  },
  {
   "cell_type": "code",
   "execution_count": 1397,
   "metadata": {},
   "outputs": [],
   "source": [
    "# noun_error"
   ]
  },
  {
   "cell_type": "code",
   "execution_count": 1398,
   "metadata": {},
   "outputs": [],
   "source": [
    "# noun_error = list(noun_error)[:10]"
   ]
  },
  {
   "cell_type": "code",
   "execution_count": 1399,
   "metadata": {},
   "outputs": [],
   "source": [
    "# noun_error = list(noun_error)[:5]"
   ]
  },
  {
   "cell_type": "code",
   "execution_count": 1400,
   "metadata": {},
   "outputs": [],
   "source": [
    "noun_error = list(noun_error)"
   ]
  },
  {
   "cell_type": "code",
   "execution_count": 1401,
   "metadata": {},
   "outputs": [],
   "source": [
    "# noun_error"
   ]
  },
  {
   "cell_type": "code",
   "execution_count": 1402,
   "metadata": {},
   "outputs": [],
   "source": [
    "input1, input2, input3 = [],[], []"
   ]
  },
  {
   "cell_type": "code",
   "execution_count": 1403,
   "metadata": {},
   "outputs": [],
   "source": [
    "input_pairs, input_truple = [], []"
   ]
  },
  {
   "cell_type": "code",
   "execution_count": 1404,
   "metadata": {},
   "outputs": [],
   "source": [
    "occupation_list = []"
   ]
  },
  {
   "cell_type": "code",
   "execution_count": 1405,
   "metadata": {},
   "outputs": [],
   "source": [
    "i = 0\n",
    "tmp, tmp2 =\"\", \"\""
   ]
  },
  {
   "cell_type": "code",
   "execution_count": 1406,
   "metadata": {},
   "outputs": [],
   "source": [
    "male_token = \".male.\"\n",
    "female_token = \".female.\"\n",
    "neutral_token = \".neutral.\""
   ]
  },
  {
   "cell_type": "code",
   "execution_count": 1407,
   "metadata": {},
   "outputs": [],
   "source": [
    "f_input, m_input, neut_input = \"\", \"\", \"\""
   ]
  },
  {
   "cell_type": "code",
   "execution_count": 1408,
   "metadata": {},
   "outputs": [],
   "source": [
    "with open(winogender_sentences, \"r\") as csv_file:\n",
    "    csv_reader = csv.DictReader(csv_file, delimiter='\\t')\n",
    "    for lines in csv_reader:\n",
    "        if male_token in lines[\"sentid\"]:\n",
    "            occupation_list.append(lines[\"sentid\"].split(\".\")[0])\n",
    "#             print(\"male_sentence: \", lines[\"sentence\"])\n",
    "            input1.append(lines[\"sentence\"])\n",
    "            m_input = lines[\"sentence\"]\n",
    "            tmp = lines[\"sentid\"].replace(male_token, female_token)\n",
    "            tmp2 = lines[\"sentid\"].replace(male_token, neutral_token)\n",
    "        elif (female_token in lines[\"sentid\"]) and (lines[\"sentid\"] == tmp):\n",
    "#             print(\"female_sentence: \", lines[\"sentence\"])\n",
    "            input2.append(lines[\"sentence\"])\n",
    "            f_input = lines[\"sentence\"]\n",
    "            tmp = \"\" #lines[\"sentid\"]\n",
    "        elif (neutral_token in lines[\"sentid\"]) and (lines[\"sentid\"] == tmp2):\n",
    "#             print(\"female_sentence: \", lines[\"sentence\"])\n",
    "            input3.append(lines[\"sentence\"])\n",
    "            neut_input = lines[\"sentence\"]\n",
    "            tmp = \"\" #lines[\"sentid\"]\n",
    "            \n",
    "        if m_input and f_input:\n",
    "            input_truple.append((f_input, m_input, neut_input))\n",
    "            f_input, m_input, neut_input = \"\", \"\", \"\"\n",
    "        i+= 1\n",
    "#         if i >= 6:\n",
    "#             break"
   ]
  },
  {
   "cell_type": "code",
   "execution_count": 1409,
   "metadata": {},
   "outputs": [
    {
     "data": {
      "text/plain": [
       "['technician', 'technician', 'technician', 'technician', 'accountant']"
      ]
     },
     "execution_count": 1409,
     "metadata": {},
     "output_type": "execute_result"
    }
   ],
   "source": [
    "occupation_list[:5]"
   ]
  },
  {
   "cell_type": "code",
   "execution_count": 1410,
   "metadata": {},
   "outputs": [],
   "source": [
    "# for i in range(len(list(noun_error.keys()))):\n",
    "#     print(list(noun_error.keys())[i].lstrip(\"the\").strip())"
   ]
  },
  {
   "cell_type": "code",
   "execution_count": 1411,
   "metadata": {},
   "outputs": [],
   "source": [
    "# random.choice()"
   ]
  },
  {
   "cell_type": "code",
   "execution_count": 1412,
   "metadata": {},
   "outputs": [],
   "source": [
    "fairness_errors = []\n",
    "all_inputs = []\n",
    "count = 0"
   ]
  },
  {
   "cell_type": "code",
   "execution_count": 1413,
   "metadata": {},
   "outputs": [],
   "source": [
    "# TODO:\n",
    "#     * check for mispredictions\n",
    "#     * save tested inputs, input pairs, inputs leading to fairness errors and prediction errors\n",
    "#     * do for all test sets (a to f) i.e. other bias tests : name, race e.t.c"
   ]
  },
  {
   "cell_type": "code",
   "execution_count": 1414,
   "metadata": {},
   "outputs": [],
   "source": [
    "# TODO \"the\" vs. \"The\" in str.replace"
   ]
  },
  {
   "cell_type": "code",
   "execution_count": 1415,
   "metadata": {},
   "outputs": [],
   "source": [
    "\n",
    "for i in range(len(input_truple)):\n",
    "#     print(input_truple[i])\n",
    "#     print(input_truple[i][0])\n",
    "#     print(input_truple[i][1])\n",
    "#     print(occupation_list[i])\n",
    "    if occupation_list[i] in wino_occupations:\n",
    "#         for k in range(len(noun_error1))\n",
    "#         for j in range(len(list(noun_error.keys()))):\n",
    "#         for j in range(max([len(noun_error1), len(noun_error2)])):\n",
    "        for j in range(len(noun_error1)) :\n",
    "            count += 1\n",
    "            input1, input2 = \"\", \"\"\n",
    "#             input1 = input_truple[i][0].replace(occupation_list[i], list(noun_error.keys())[j].lstrip(\"the\").strip())\n",
    "#             input2 = input_truple[i][1].replace(occupation_list[i], list(noun_error.keys())[j].lstrip(\"the\").strip())\n",
    "            if (\"the \" + occupation_list[i]) in  input_truple[i][0]:\n",
    "                input1 = input_truple[i][0].replace(\"the \" + occupation_list[i], noun_error1[j])\n",
    "                input2 = input_truple[i][0].replace(\"the \" + occupation_list[i], noun_error2[j])\n",
    "            elif (\"The \" + occupation_list[i]) in  input_truple[i][0]:\n",
    "                input1 = input_truple[i][0].replace(\"The \" + occupation_list[i], noun_error1[j])\n",
    "                input2 = input_truple[i][0].replace(\"The \" + occupation_list[i], noun_error2[j])\n",
    "            else:\n",
    "                input1 = input_truple[i][0].replace(occupation_list[i], noun_error1[j])\n",
    "                input2 = input_truple[i][0].replace(occupation_list[i], noun_error2[j])     \n",
    "            all_inputs.append((input1, input2))\n",
    "            pred1 = hub_model.predict(tf.convert_to_tensor(tf.constant([input1]).numpy(), dtype=tf.string))\n",
    "            pred2 = hub_model.predict(tf.convert_to_tensor(tf.constant([input2]).numpy(), dtype=tf.string))\n",
    "#             print(pred1)\n",
    "#             print(pred2)\n",
    "            if (np.sign(pred1) != np.sign(pred2)):\n",
    "#                 print(input1, pred1, np.sign(pred1))\n",
    "#                 print(input2, pred2, np.sign(pred2))\n",
    "                fairness_errors.append((input1, input2))\n",
    "            \n",
    "        \n",
    "            input1, input2 = \"\", \"\"\n",
    "            if (\"the \" + occupation_list[i]) in  input_truple[i][1]:\n",
    "                input1 = input_truple[i][1].replace(\"the \" + occupation_list[i], noun_error1[j])\n",
    "                input2 = input_truple[i][1].replace(\"the \" + occupation_list[i], noun_error2[j])\n",
    "            elif (\"The \" + occupation_list[i]) in  input_truple[i][1]:\n",
    "                input1 = input_truple[i][1].replace(\"The \" + occupation_list[i], noun_error1[j])\n",
    "                input2 = input_truple[i][1].replace(\"The \" + occupation_list[i], noun_error2[j])\n",
    "            else:\n",
    "                input1 = input_truple[i][1].replace(occupation_list[i], noun_error1[j])\n",
    "                input2 = input_truple[i][1].replace(occupation_list[i], noun_error2[j])     \n",
    "            all_inputs.append((input1, input2))\n",
    "            pred1 = hub_model.predict(tf.convert_to_tensor(tf.constant([input1]).numpy(), dtype=tf.string))\n",
    "            pred2 = hub_model.predict(tf.convert_to_tensor(tf.constant([input2]).numpy(), dtype=tf.string))\n",
    "#             print(pred1)\n",
    "#             print(pred2)\n",
    "            if (np.sign(pred1) != np.sign(pred2)):\n",
    "#                 print(input1, pred1, np.sign(pred1))\n",
    "#                 print(input2, pred2, np.sign(pred2))\n",
    "                fairness_errors.append((input1, input2))   \n",
    "    \n",
    "    \n",
    "            input1, input2 = \"\", \"\"\n",
    "            if (\"the \" + occupation_list[i]) in  input_truple[i][2]:\n",
    "                input1 = input_truple[i][2].replace(\"the \" + occupation_list[i], noun_error1[j])\n",
    "                input2 = input_truple[i][2].replace(\"the \" + occupation_list[i], noun_error2[j])\n",
    "            elif (\"The \" + occupation_list[i]) in  input_truple[i][2]:\n",
    "                input1 = input_truple[i][2].replace(\"The \" + occupation_list[i], noun_error1[j])\n",
    "                input2 = input_truple[i][2].replace(\"The \" + occupation_list[i], noun_error2[j])\n",
    "            else:\n",
    "                input1 = input_truple[i][2].replace(occupation_list[i], noun_error1[j])\n",
    "                input2 = input_truple[i][2].replace(occupation_list[i], noun_error2[j])     \n",
    "            all_inputs.append((input1, input2))\n",
    "            pred1 = hub_model.predict(tf.convert_to_tensor(tf.constant([input1]).numpy(), dtype=tf.string))\n",
    "            pred2 = hub_model.predict(tf.convert_to_tensor(tf.constant([input2]).numpy(), dtype=tf.string))\n",
    "#             print(pred1)\n",
    "#             print(pred2)\n",
    "            if (np.sign(pred1) != np.sign(pred2)):\n",
    "#                 print(input1, pred1, np.sign(pred1))\n",
    "#                 print(input2, pred2, np.sign(pred2))\n",
    "                fairness_errors.append((input1, input2))   \n",
    "                \n",
    "            if len(all_inputs) >= 3000:\n",
    "                break\n",
    "\n",
    "    if len(all_inputs) >= 3000:\n",
    "        break\n"
   ]
  },
  {
   "cell_type": "code",
   "execution_count": 1416,
   "metadata": {},
   "outputs": [
    {
     "data": {
      "text/plain": [
       "3000"
      ]
     },
     "execution_count": 1416,
     "metadata": {},
     "output_type": "execute_result"
    }
   ],
   "source": [
    "len(all_inputs)"
   ]
  },
  {
   "cell_type": "code",
   "execution_count": 1417,
   "metadata": {},
   "outputs": [
    {
     "data": {
      "text/plain": [
       "134"
      ]
     },
     "execution_count": 1417,
     "metadata": {},
     "output_type": "execute_result"
    }
   ],
   "source": [
    "len(fairness_errors)"
   ]
  },
  {
   "cell_type": "code",
   "execution_count": null,
   "metadata": {},
   "outputs": [],
   "source": []
  },
  {
   "cell_type": "code",
   "execution_count": null,
   "metadata": {},
   "outputs": [],
   "source": []
  },
  {
   "cell_type": "markdown",
   "metadata": {},
   "source": [
    "### Load Text Classification Hub Model"
   ]
  },
  {
   "cell_type": "code",
   "execution_count": 1418,
   "metadata": {},
   "outputs": [],
   "source": [
    "import tensorflow as tf"
   ]
  },
  {
   "cell_type": "code",
   "execution_count": 1419,
   "metadata": {},
   "outputs": [
    {
     "name": "stdout",
     "output_type": "stream",
     "text": [
      "\u001b[34mmy_model_txt_classifier_RNN\u001b[m\u001b[m\n",
      "\u001b[34mmy_model_txt_classifier_RNN_with_multiple_LSTM_layers\u001b[m\u001b[m\n",
      "\u001b[34mmy_model_txt_classifier_hub\u001b[m\u001b[m\n",
      "\u001b[34mmy_model_txt_classifier_hub_with_five_percent_extra_data\u001b[m\u001b[m\n",
      "\u001b[34mmy_model_txt_classifier_hub_with_four_percent_extra_data\u001b[m\u001b[m\n",
      "\u001b[34mmy_model_txt_classifier_hub_with_one_percent_extra_data\u001b[m\u001b[m\n",
      "\u001b[34mmy_model_txt_classifier_hub_with_three_percent_extra_data\u001b[m\u001b[m\n",
      "\u001b[34mmy_model_txt_classifier_hub_with_two_percent_extra_data\u001b[m\u001b[m\n",
      "\u001b[34massets\u001b[m\u001b[m         saved_model.pb \u001b[34mvariables\u001b[m\u001b[m\n"
     ]
    }
   ],
   "source": [
    "# my_model directory\n",
    "!ls ../saved_model\n",
    "\n",
    "# Contains an assets folder, saved_model.pb, and variables folder.\n",
    "!ls ../saved_model/my_model_txt_classifier_hub"
   ]
  },
  {
   "cell_type": "code",
   "execution_count": 1420,
   "metadata": {},
   "outputs": [
    {
     "name": "stdout",
     "output_type": "stream",
     "text": [
      "WARNING:tensorflow:11 out of the last 11 calls to <function recreate_function.<locals>.restored_function_body at 0x7fea3dad18c0> triggered tf.function retracing. Tracing is expensive and the excessive number of tracings could be due to (1) creating @tf.function repeatedly in a loop, (2) passing tensors with different shapes, (3) passing Python objects instead of tensors. For (1), please define your @tf.function outside of the loop. For (2), @tf.function has experimental_relax_shapes=True option that relaxes argument shapes that can avoid unnecessary retracing. For (3), please refer to https://www.tensorflow.org/tutorials/customization/performance#python_or_tensor_args and https://www.tensorflow.org/api_docs/python/tf/function for  more details.\n",
      "WARNING:tensorflow:11 out of the last 11 calls to <function recreate_function.<locals>.restored_function_body at 0x7fea3dad1f80> triggered tf.function retracing. Tracing is expensive and the excessive number of tracings could be due to (1) creating @tf.function repeatedly in a loop, (2) passing tensors with different shapes, (3) passing Python objects instead of tensors. For (1), please define your @tf.function outside of the loop. For (2), @tf.function has experimental_relax_shapes=True option that relaxes argument shapes that can avoid unnecessary retracing. For (3), please refer to https://www.tensorflow.org/tutorials/customization/performance#python_or_tensor_args and https://www.tensorflow.org/api_docs/python/tf/function for  more details.\n",
      "Model: \"sequential\"\n",
      "_________________________________________________________________\n",
      "Layer (type)                 Output Shape              Param #   \n",
      "=================================================================\n",
      "keras_layer (KerasLayer)     (None, 20)                400020    \n",
      "_________________________________________________________________\n",
      "dense (Dense)                (None, 16)                336       \n",
      "_________________________________________________________________\n",
      "dense_1 (Dense)              (None, 1)                 17        \n",
      "=================================================================\n",
      "Total params: 400,373\n",
      "Trainable params: 400,373\n",
      "Non-trainable params: 0\n",
      "_________________________________________________________________\n"
     ]
    }
   ],
   "source": [
    "hub_model = tf.keras.models.load_model('../saved_model/my_model_txt_classifier_hub')\n",
    "# hub_model = tf.keras.models.load_model('../saved_model/my_model_txt_classifier_hub_with_one_percent_extra_data')\n",
    "# hub_model = tf.keras.models.load_model('../saved_model/my_model_txt_classifier_hub_with_two_percent_extra_data')\n",
    "# hub_model = tf.keras.models.load_model('../saved_model/my_model_txt_classifier_hub_with_three_percent_extra_data')\n",
    "# hub_model = tf.keras.models.load_model('../saved_model/my_model_txt_classifier_hub_with_four_percent_extra_data')\n",
    "# hub_model = tf.keras.models.load_model('../saved_model/my_model_txt_classifier_hub_with_five_percent_extra_data')\n",
    "\n",
    "# Check its architecture\n",
    "hub_model.summary()\n"
   ]
  },
  {
   "cell_type": "markdown",
   "metadata": {},
   "source": [
    "### B. Test for Each Sentence: mode = \"gender-occupation-noun\""
   ]
  },
  {
   "cell_type": "code",
   "execution_count": 1421,
   "metadata": {},
   "outputs": [],
   "source": [
    "mode = \"gender-occupation-noun\""
   ]
  },
  {
   "cell_type": "code",
   "execution_count": 1422,
   "metadata": {},
   "outputs": [],
   "source": [
    "pickle_path_1 = '/Users/ezekiel.soremekun/Documents/Coref-Fairness-Test-Generation/Ezekiel-Testbed/trained-sentiment-analyzers/Exploitation/saved_pickles/exploitation/hub/'  + \\\n",
    "                mode + '/noun_error1.pickle'\n",
    "\n",
    "pickle_path_2 = '/Users/ezekiel.soremekun/Documents/Coref-Fairness-Test-Generation/Ezekiel-Testbed/trained-sentiment-analyzers/Exploitation/saved_pickles/exploitation/hub/'  + \\\n",
    "                mode + '/noun_error2.pickle'"
   ]
  },
  {
   "cell_type": "code",
   "execution_count": 1423,
   "metadata": {},
   "outputs": [],
   "source": [
    "with open(pickle_path_1, 'rb') as handle:\n",
    "    noun_error1 = pickle.load(handle)\n",
    "    noun_error1.pop('her', None)\n",
    "    noun_error1.pop('She', None)\n",
    "    noun_error1 = get_sorted_dict(noun_error1)"
   ]
  },
  {
   "cell_type": "code",
   "execution_count": 1424,
   "metadata": {},
   "outputs": [],
   "source": [
    "with open(pickle_path_2, 'rb') as handle:\n",
    "    noun_error2 = pickle.load(handle)\n",
    "    noun_error2.pop('him', None)\n",
    "    noun_error2.pop('He', None)\n",
    "    noun_error2 = get_sorted_dict(noun_error2)"
   ]
  },
  {
   "cell_type": "code",
   "execution_count": 1425,
   "metadata": {},
   "outputs": [],
   "source": [
    "noun_error = {**noun_error1, **noun_error2}"
   ]
  },
  {
   "cell_type": "code",
   "execution_count": 1426,
   "metadata": {},
   "outputs": [],
   "source": [
    "# noun_error "
   ]
  },
  {
   "cell_type": "code",
   "execution_count": 1427,
   "metadata": {},
   "outputs": [],
   "source": [
    "noun_error1 = list(noun_error1)[:10]\n",
    "noun_error2 = list(noun_error2)[:10]"
   ]
  },
  {
   "cell_type": "code",
   "execution_count": 1428,
   "metadata": {},
   "outputs": [
    {
     "data": {
      "text/plain": [
       "['the writer',\n",
       " 'the teacher',\n",
       " 'the cleaner',\n",
       " 'the auditor',\n",
       " 'the counselor',\n",
       " 'the nurse',\n",
       " 'the the paralegal',\n",
       " 'the editor',\n",
       " 'the tailor',\n",
       " 'the clerk']"
      ]
     },
     "execution_count": 1428,
     "metadata": {},
     "output_type": "execute_result"
    }
   ],
   "source": [
    "noun_error1"
   ]
  },
  {
   "cell_type": "code",
   "execution_count": 1429,
   "metadata": {},
   "outputs": [
    {
     "data": {
      "text/plain": [
       "['the cook',\n",
       " 'the analyst',\n",
       " 'the engineer',\n",
       " 'the mechanic',\n",
       " 'the technician',\n",
       " 'the supervisor',\n",
       " 'the salesperson',\n",
       " 'the farmer',\n",
       " 'the chief',\n",
       " 'the lawyer']"
      ]
     },
     "execution_count": 1429,
     "metadata": {},
     "output_type": "execute_result"
    }
   ],
   "source": [
    "noun_error2"
   ]
  },
  {
   "cell_type": "code",
   "execution_count": 1430,
   "metadata": {},
   "outputs": [],
   "source": [
    "noun_error = get_sorted_dict(noun_error)"
   ]
  },
  {
   "cell_type": "code",
   "execution_count": 1431,
   "metadata": {},
   "outputs": [],
   "source": [
    "# TODO : sort the \"my X\", \"this X\" \"He\", \"She\""
   ]
  },
  {
   "cell_type": "code",
   "execution_count": 1432,
   "metadata": {},
   "outputs": [],
   "source": [
    "# noun_error"
   ]
  },
  {
   "cell_type": "code",
   "execution_count": 1433,
   "metadata": {},
   "outputs": [],
   "source": [
    "# noun_error = list(noun_error)[:10]"
   ]
  },
  {
   "cell_type": "code",
   "execution_count": 1434,
   "metadata": {},
   "outputs": [],
   "source": [
    "# noun_error = list(noun_error)[:5]"
   ]
  },
  {
   "cell_type": "code",
   "execution_count": 1435,
   "metadata": {},
   "outputs": [],
   "source": [
    "noun_error = list(noun_error)"
   ]
  },
  {
   "cell_type": "code",
   "execution_count": 1436,
   "metadata": {},
   "outputs": [],
   "source": [
    "# noun_error"
   ]
  },
  {
   "cell_type": "code",
   "execution_count": 1437,
   "metadata": {},
   "outputs": [],
   "source": [
    "input1, input2, input3 = [],[], []"
   ]
  },
  {
   "cell_type": "code",
   "execution_count": 1438,
   "metadata": {},
   "outputs": [],
   "source": [
    "input_pairs, input_truple = [], []"
   ]
  },
  {
   "cell_type": "code",
   "execution_count": 1439,
   "metadata": {},
   "outputs": [],
   "source": [
    "occupation_list = []"
   ]
  },
  {
   "cell_type": "code",
   "execution_count": 1440,
   "metadata": {},
   "outputs": [],
   "source": [
    "i = 0\n",
    "tmp, tmp2 =\"\", \"\""
   ]
  },
  {
   "cell_type": "code",
   "execution_count": 1441,
   "metadata": {},
   "outputs": [],
   "source": [
    "male_token = \".male.\"\n",
    "female_token = \".female.\"\n",
    "neutral_token = \".neutral.\""
   ]
  },
  {
   "cell_type": "code",
   "execution_count": 1442,
   "metadata": {},
   "outputs": [],
   "source": [
    "f_input, m_input, neut_input = \"\", \"\", \"\""
   ]
  },
  {
   "cell_type": "code",
   "execution_count": 1443,
   "metadata": {},
   "outputs": [],
   "source": [
    "with open(winogender_sentences, \"r\") as csv_file:\n",
    "    csv_reader = csv.DictReader(csv_file, delimiter='\\t')\n",
    "    for lines in csv_reader:\n",
    "        if male_token in lines[\"sentid\"]:\n",
    "            occupation_list.append(lines[\"sentid\"].split(\".\")[0])\n",
    "#             print(\"male_sentence: \", lines[\"sentence\"])\n",
    "            input1.append(lines[\"sentence\"])\n",
    "            m_input = lines[\"sentence\"]\n",
    "            tmp = lines[\"sentid\"].replace(male_token, female_token)\n",
    "            tmp2 = lines[\"sentid\"].replace(male_token, neutral_token)\n",
    "        elif (female_token in lines[\"sentid\"]) and (lines[\"sentid\"] == tmp):\n",
    "#             print(\"female_sentence: \", lines[\"sentence\"])\n",
    "            input2.append(lines[\"sentence\"])\n",
    "            f_input = lines[\"sentence\"]\n",
    "            tmp = \"\" #lines[\"sentid\"]\n",
    "        elif (neutral_token in lines[\"sentid\"]) and (lines[\"sentid\"] == tmp2):\n",
    "#             print(\"female_sentence: \", lines[\"sentence\"])\n",
    "            input3.append(lines[\"sentence\"])\n",
    "            neut_input = lines[\"sentence\"]\n",
    "            tmp = \"\" #lines[\"sentid\"]\n",
    "            \n",
    "        if m_input and f_input:\n",
    "            input_truple.append((f_input, m_input, neut_input))\n",
    "            f_input, m_input, neut_input = \"\", \"\", \"\"\n",
    "        i+= 1\n",
    "#         if i >= 6:\n",
    "#             break"
   ]
  },
  {
   "cell_type": "code",
   "execution_count": 1444,
   "metadata": {},
   "outputs": [
    {
     "data": {
      "text/plain": [
       "['technician', 'technician', 'technician', 'technician', 'accountant']"
      ]
     },
     "execution_count": 1444,
     "metadata": {},
     "output_type": "execute_result"
    }
   ],
   "source": [
    "occupation_list[:5]"
   ]
  },
  {
   "cell_type": "code",
   "execution_count": 1445,
   "metadata": {},
   "outputs": [],
   "source": [
    "# for i in range(len(list(noun_error.keys()))):\n",
    "#     print(list(noun_error.keys())[i].lstrip(\"the\").strip())"
   ]
  },
  {
   "cell_type": "code",
   "execution_count": 1446,
   "metadata": {},
   "outputs": [],
   "source": [
    "# random.choice()"
   ]
  },
  {
   "cell_type": "code",
   "execution_count": 1447,
   "metadata": {},
   "outputs": [],
   "source": [
    "fairness_errors = []\n",
    "all_inputs = []\n",
    "count = 0"
   ]
  },
  {
   "cell_type": "code",
   "execution_count": 1448,
   "metadata": {},
   "outputs": [],
   "source": [
    "# TODO:\n",
    "#     * check for mispredictions\n",
    "#     * save tested inputs, input pairs, inputs leading to fairness errors and prediction errors\n",
    "#     * do for all test sets (a to f) i.e. other bias tests : name, race e.t.c"
   ]
  },
  {
   "cell_type": "code",
   "execution_count": 1449,
   "metadata": {},
   "outputs": [],
   "source": [
    "# TODO \"the\" vs. \"The\" in str.replace"
   ]
  },
  {
   "cell_type": "code",
   "execution_count": 1450,
   "metadata": {},
   "outputs": [],
   "source": [
    "\n",
    "for i in range(len(input_truple)):\n",
    "#     print(input_truple[i])\n",
    "#     print(input_truple[i][0])\n",
    "#     print(input_truple[i][1])\n",
    "#     print(occupation_list[i])\n",
    "    if occupation_list[i] in wino_occupations:\n",
    "#         for k in range(len(noun_error1))\n",
    "#         for j in range(len(list(noun_error.keys()))):\n",
    "#         for j in range(max([len(noun_error1), len(noun_error2)])):\n",
    "        for j in range(len(noun_error1)) :\n",
    "            count += 1\n",
    "            input1, input2 = \"\", \"\"\n",
    "#             input1 = input_truple[i][0].replace(occupation_list[i], list(noun_error.keys())[j].lstrip(\"the\").strip())\n",
    "#             input2 = input_truple[i][1].replace(occupation_list[i], list(noun_error.keys())[j].lstrip(\"the\").strip())\n",
    "            if (\"the \" + occupation_list[i]) in  input_truple[i][0]:\n",
    "                input1 = input_truple[i][0].replace(\"the \" + occupation_list[i], noun_error1[j])\n",
    "                input2 = input_truple[i][0].replace(\"the \" + occupation_list[i], noun_error2[j])\n",
    "            elif (\"The \" + occupation_list[i]) in  input_truple[i][0]:\n",
    "                input1 = input_truple[i][0].replace(\"The \" + occupation_list[i], noun_error1[j])\n",
    "                input2 = input_truple[i][0].replace(\"The \" + occupation_list[i], noun_error2[j])\n",
    "            else:\n",
    "                input1 = input_truple[i][0].replace(occupation_list[i], noun_error1[j])\n",
    "                input2 = input_truple[i][0].replace(occupation_list[i], noun_error2[j])     \n",
    "            all_inputs.append((input1, input2))\n",
    "            pred1 = hub_model.predict(tf.convert_to_tensor(tf.constant([input1]).numpy(), dtype=tf.string))\n",
    "            pred2 = hub_model.predict(tf.convert_to_tensor(tf.constant([input2]).numpy(), dtype=tf.string))\n",
    "#             print(pred1)\n",
    "#             print(pred2)\n",
    "            if (np.sign(pred1) != np.sign(pred2)):\n",
    "#                 print(input1, pred1, np.sign(pred1))\n",
    "#                 print(input2, pred2, np.sign(pred2))\n",
    "                fairness_errors.append((input1, input2))\n",
    "            \n",
    "        \n",
    "            input1, input2 = \"\", \"\"\n",
    "            if (\"the \" + occupation_list[i]) in  input_truple[i][1]:\n",
    "                input1 = input_truple[i][1].replace(\"the \" + occupation_list[i], noun_error1[j])\n",
    "                input2 = input_truple[i][1].replace(\"the \" + occupation_list[i], noun_error2[j])\n",
    "            elif (\"The \" + occupation_list[i]) in  input_truple[i][1]:\n",
    "                input1 = input_truple[i][1].replace(\"The \" + occupation_list[i], noun_error1[j])\n",
    "                input2 = input_truple[i][1].replace(\"The \" + occupation_list[i], noun_error2[j])\n",
    "            else:\n",
    "                input1 = input_truple[i][1].replace(occupation_list[i], noun_error1[j])\n",
    "                input2 = input_truple[i][1].replace(occupation_list[i], noun_error2[j])     \n",
    "            all_inputs.append((input1, input2))\n",
    "            pred1 = hub_model.predict(tf.convert_to_tensor(tf.constant([input1]).numpy(), dtype=tf.string))\n",
    "            pred2 = hub_model.predict(tf.convert_to_tensor(tf.constant([input2]).numpy(), dtype=tf.string))\n",
    "#             print(pred1)\n",
    "#             print(pred2)\n",
    "            if (np.sign(pred1) != np.sign(pred2)):\n",
    "#                 print(input1, pred1, np.sign(pred1))\n",
    "#                 print(input2, pred2, np.sign(pred2))\n",
    "                fairness_errors.append((input1, input2))   \n",
    "    \n",
    "    \n",
    "            input1, input2 = \"\", \"\"\n",
    "            if (\"the \" + occupation_list[i]) in  input_truple[i][2]:\n",
    "                input1 = input_truple[i][2].replace(\"the \" + occupation_list[i], noun_error1[j])\n",
    "                input2 = input_truple[i][2].replace(\"the \" + occupation_list[i], noun_error2[j])\n",
    "            elif (\"The \" + occupation_list[i]) in  input_truple[i][2]:\n",
    "                input1 = input_truple[i][2].replace(\"The \" + occupation_list[i], noun_error1[j])\n",
    "                input2 = input_truple[i][2].replace(\"The \" + occupation_list[i], noun_error2[j])\n",
    "            else:\n",
    "                input1 = input_truple[i][2].replace(occupation_list[i], noun_error1[j])\n",
    "                input2 = input_truple[i][2].replace(occupation_list[i], noun_error2[j])     \n",
    "            all_inputs.append((input1, input2))\n",
    "            pred1 = hub_model.predict(tf.convert_to_tensor(tf.constant([input1]).numpy(), dtype=tf.string))\n",
    "            pred2 = hub_model.predict(tf.convert_to_tensor(tf.constant([input2]).numpy(), dtype=tf.string))\n",
    "#             print(pred1)\n",
    "#             print(pred2)\n",
    "            if (np.sign(pred1) != np.sign(pred2)):\n",
    "#                 print(input1, pred1, np.sign(pred1))\n",
    "#                 print(input2, pred2, np.sign(pred2))\n",
    "                fairness_errors.append((input1, input2))   \n",
    "                \n",
    "            if len(all_inputs) >= 3000:\n",
    "                break\n",
    "\n",
    "    if len(all_inputs) >= 3000:\n",
    "        break\n"
   ]
  },
  {
   "cell_type": "code",
   "execution_count": 1451,
   "metadata": {},
   "outputs": [
    {
     "data": {
      "text/plain": [
       "3000"
      ]
     },
     "execution_count": 1451,
     "metadata": {},
     "output_type": "execute_result"
    }
   ],
   "source": [
    "len(all_inputs)"
   ]
  },
  {
   "cell_type": "code",
   "execution_count": 1452,
   "metadata": {},
   "outputs": [
    {
     "data": {
      "text/plain": [
       "426"
      ]
     },
     "execution_count": 1452,
     "metadata": {},
     "output_type": "execute_result"
    }
   ],
   "source": [
    "len(fairness_errors)"
   ]
  },
  {
   "cell_type": "code",
   "execution_count": null,
   "metadata": {},
   "outputs": [],
   "source": []
  },
  {
   "cell_type": "code",
   "execution_count": null,
   "metadata": {},
   "outputs": [],
   "source": []
  }
 ],
 "metadata": {
  "kernelspec": {
   "display_name": "Python 3",
   "language": "python",
   "name": "python3"
  },
  "language_info": {
   "codemirror_mode": {
    "name": "ipython",
    "version": 3
   },
   "file_extension": ".py",
   "mimetype": "text/x-python",
   "name": "python",
   "nbconvert_exporter": "python",
   "pygments_lexer": "ipython3",
   "version": "3.7.7"
  }
 },
 "nbformat": 4,
 "nbformat_minor": 4
}
