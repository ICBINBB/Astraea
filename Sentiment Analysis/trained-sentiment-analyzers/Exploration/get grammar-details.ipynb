{
 "cells": [
  {
   "cell_type": "markdown",
   "metadata": {},
   "source": [
    "# TensorFlow Text Classification Hub Exploration"
   ]
  },
  {
   "cell_type": "code",
   "execution_count": 1,
   "metadata": {},
   "outputs": [],
   "source": [
    "import random"
   ]
  },
  {
   "cell_type": "markdown",
   "metadata": {},
   "source": [
    "## Schema (based on EEC)"
   ]
  },
  {
   "cell_type": "code",
   "execution_count": 2,
   "metadata": {},
   "outputs": [],
   "source": [
    "verb_list_p1 = ['feels', 'feel', 'made me feel', 'was'] \n",
    "verb_list_p2 = ['saw', 'found himself/herself in a', 'told us all about the recent', 'talked to', 'goes to'] "
   ]
  },
  {
   "cell_type": "code",
   "execution_count": 3,
   "metadata": {},
   "outputs": [],
   "source": [
    "t_1 = len(verb_list_p1)"
   ]
  },
  {
   "cell_type": "code",
   "execution_count": 4,
   "metadata": {},
   "outputs": [],
   "source": [
    "t_2 = len(verb_list_p2)"
   ]
  },
  {
   "cell_type": "code",
   "execution_count": 5,
   "metadata": {},
   "outputs": [],
   "source": [
    "verb_list = ['is' , 'was', 'talked to', 'goes to', 'feels', \\\n",
    "             'feel', 'made me feel', 'found himself/herself in', \\\n",
    "             'told us all about the recent']"
   ]
  },
  {
   "cell_type": "code",
   "execution_count": 6,
   "metadata": {},
   "outputs": [],
   "source": [
    "t_3 = len(verb_list)"
   ]
  },
  {
   "cell_type": "code",
   "execution_count": 7,
   "metadata": {},
   "outputs": [
    {
     "data": {
      "text/plain": [
       "9"
      ]
     },
     "execution_count": 7,
     "metadata": {},
     "output_type": "execute_result"
    }
   ],
   "source": [
    "t_3"
   ]
  },
  {
   "cell_type": "code",
   "execution_count": 8,
   "metadata": {},
   "outputs": [
    {
     "data": {
      "text/plain": [
       "9"
      ]
     },
     "execution_count": 8,
     "metadata": {},
     "output_type": "execute_result"
    }
   ],
   "source": [
    "t_1 + t_2"
   ]
  },
  {
   "cell_type": "code",
   "execution_count": 53,
   "metadata": {},
   "outputs": [],
   "source": [
    "t_01 = t_3 "
   ]
  },
  {
   "cell_type": "code",
   "execution_count": 13,
   "metadata": {},
   "outputs": [],
   "source": [
    "person_female = ['this woman','this girl','my sister','my daughter', 'my wife',\\\n",
    "                 'my girlfriend', 'my mother', 'my aunt', 'my mom']"
   ]
  },
  {
   "cell_type": "code",
   "execution_count": 14,
   "metadata": {},
   "outputs": [],
   "source": [
    "person_male = ['this man', 'this boy', 'my brother', 'my son', 'my husband', \\\n",
    "               'my boyfriend', 'my father', 'my uncle', 'my dad']"
   ]
  },
  {
   "cell_type": "code",
   "execution_count": 18,
   "metadata": {},
   "outputs": [
    {
     "data": {
      "text/plain": [
       "9"
      ]
     },
     "execution_count": 18,
     "metadata": {},
     "output_type": "execute_result"
    }
   ],
   "source": [
    "t_4 = len(person_female)\n",
    "t_4"
   ]
  },
  {
   "cell_type": "code",
   "execution_count": 19,
   "metadata": {},
   "outputs": [
    {
     "data": {
      "text/plain": [
       "9"
      ]
     },
     "execution_count": 19,
     "metadata": {},
     "output_type": "execute_result"
    }
   ],
   "source": [
    "t_5 = len(person_male)\n",
    "t_5"
   ]
  },
  {
   "cell_type": "code",
   "execution_count": 21,
   "metadata": {},
   "outputs": [
    {
     "data": {
      "text/plain": [
       "18"
      ]
     },
     "execution_count": 21,
     "metadata": {},
     "output_type": "execute_result"
    }
   ],
   "source": [
    "t_02 = len(person_female + person_male)\n",
    "t_02"
   ]
  },
  {
   "cell_type": "code",
   "execution_count": 22,
   "metadata": {},
   "outputs": [
    {
     "name": "stdout",
     "output_type": "stream",
     "text": [
      "set()\n"
     ]
    }
   ],
   "source": [
    "print(set(person_male).intersection(set(person_female)))"
   ]
  },
  {
   "cell_type": "code",
   "execution_count": 23,
   "metadata": {},
   "outputs": [],
   "source": [
    "assert(len(set(person_male).intersection(set(person_female))) == 0), \\\n",
    "    \"ERROR not a disjoint set\""
   ]
  },
  {
   "cell_type": "code",
   "execution_count": 24,
   "metadata": {},
   "outputs": [],
   "source": [
    "subj_pronoun_female = [\"She\"]\n",
    "subj_pronoun_male = [\"He\"]"
   ]
  },
  {
   "cell_type": "code",
   "execution_count": 25,
   "metadata": {},
   "outputs": [],
   "source": [
    "obj_pronoun_female = [\"her\"]\n",
    "obj_pronoun_male = [\"him\"]"
   ]
  },
  {
   "cell_type": "code",
   "execution_count": 26,
   "metadata": {},
   "outputs": [
    {
     "data": {
      "text/plain": [
       "4"
      ]
     },
     "execution_count": 26,
     "metadata": {},
     "output_type": "execute_result"
    }
   ],
   "source": [
    "t_03 = len(subj_pronoun_female + subj_pronoun_male + obj_pronoun_female + obj_pronoun_male)\n",
    "t_03"
   ]
  },
  {
   "cell_type": "code",
   "execution_count": 28,
   "metadata": {},
   "outputs": [],
   "source": [
    "occupations_male_biased = ['the supervisor','the janitor','the cook','the mover','the laborer','the construction worker','the chief','the developer','the carpenter','the manager','the lawyer','the farmer','the driver','the salesperson','the physician','the guard','the analyst','the mechanic','the sheriff','the CEO','the technician','the accountant','the engineer']"
   ]
  },
  {
   "cell_type": "code",
   "execution_count": 29,
   "metadata": {},
   "outputs": [],
   "source": [
    "occupations_female_biased = ['the cashier','the teacher','the nurse','the assistant','the secretary','the auditor','the cleaner','the receptionist','the clerk','the counselor','the designer','the hairdresser','the attendant','the writer','the housekeeper','the baker','the editor','the librarian','the tailor','the teacher','the the librarian','the the nurse','the the paralegal']"
   ]
  },
  {
   "cell_type": "code",
   "execution_count": 30,
   "metadata": {},
   "outputs": [
    {
     "data": {
      "text/plain": [
       "46"
      ]
     },
     "execution_count": 30,
     "metadata": {},
     "output_type": "execute_result"
    }
   ],
   "source": [
    "t_05 = len(occupations_male_biased + occupations_female_biased)\n",
    "t_05"
   ]
  },
  {
   "cell_type": "code",
   "execution_count": 12,
   "metadata": {},
   "outputs": [
    {
     "data": {
      "text/plain": [
       "23"
      ]
     },
     "execution_count": 12,
     "metadata": {},
     "output_type": "execute_result"
    }
   ],
   "source": [
    "len(occupations_male_biased)"
   ]
  },
  {
   "cell_type": "code",
   "execution_count": 13,
   "metadata": {},
   "outputs": [
    {
     "data": {
      "text/plain": [
       "23"
      ]
     },
     "execution_count": 13,
     "metadata": {},
     "output_type": "execute_result"
    }
   ],
   "source": [
    "len(occupations_female_biased)"
   ]
  },
  {
   "cell_type": "code",
   "execution_count": 14,
   "metadata": {},
   "outputs": [
    {
     "name": "stdout",
     "output_type": "stream",
     "text": [
      "set()\n"
     ]
    }
   ],
   "source": [
    "print(set(occupations_male_biased).intersection(set(occupations_female_biased)))"
   ]
  },
  {
   "cell_type": "code",
   "execution_count": 15,
   "metadata": {},
   "outputs": [],
   "source": [
    "assert(len(set(occupations_male_biased).intersection(set(occupations_female_biased))) == 0), \"ERROR not a disjoint set\""
   ]
  },
  {
   "cell_type": "code",
   "execution_count": 39,
   "metadata": {},
   "outputs": [],
   "source": [
    "# Top 30 male and female names\n",
    "#Data from (13/07/2020) https://www.ssa.gov/OACT/babynames/decades/century.html\n",
    "female_biased_names = ['Mary', 'Patricia', 'Jennifer', 'Linda', 'Elizabeth', 'Barbara', 'Susan', 'Jessica', \\\n",
    "                        'Sarah', 'Karen', 'Nancy', 'Margaret', 'Lisa', 'Betty', 'Dorothy ', 'Sandra', 'Ashley', \\\n",
    "                       'Kimberly', 'Donna', 'Emily', 'Michelle', 'Carol', 'Amanda', 'Melissa' , 'Deborah', \\\n",
    "                       'Stephanie', 'Rebecca', 'Laura', 'Sharon', 'Cynthia']\n",
    "male_biased_names = ['James', 'John ', 'Robert ', 'Michael ', 'William ', 'David ', 'Richard', 'Joseph', 'Thomas', \\\n",
    "                     'Charles', 'Christopher', 'Daniel', 'Matthew', 'Anthony', 'Donald', 'Mark', 'Paul', 'Steven', \\\n",
    "                     'Andrew', 'Kenneth', 'Joshua', 'George', 'Kevin', 'Brian', 'Edward', 'Ronald', 'Timothy', \\\n",
    "                     'Jason', 'Jeffrey', 'Ryan']"
   ]
  },
  {
   "cell_type": "code",
   "execution_count": 40,
   "metadata": {},
   "outputs": [
    {
     "data": {
      "text/plain": [
       "60"
      ]
     },
     "execution_count": 40,
     "metadata": {},
     "output_type": "execute_result"
    }
   ],
   "source": [
    "t_06 = len(female_biased_names + male_biased_names)\n",
    "t_06"
   ]
  },
  {
   "cell_type": "code",
   "execution_count": null,
   "metadata": {},
   "outputs": [],
   "source": []
  },
  {
   "cell_type": "code",
   "execution_count": 33,
   "metadata": {},
   "outputs": [
    {
     "name": "stdout",
     "output_type": "stream",
     "text": [
      "set()\n"
     ]
    }
   ],
   "source": [
    "print(set(female_biased_names).intersection(set(male_biased_names)))"
   ]
  },
  {
   "cell_type": "code",
   "execution_count": 34,
   "metadata": {},
   "outputs": [],
   "source": [
    "assert(len(set(female_biased_names).intersection(set(male_biased_names))) == 0), \"ERROR not a disjoint set\""
   ]
  },
  {
   "cell_type": "code",
   "execution_count": 35,
   "metadata": {},
   "outputs": [],
   "source": [
    "#Data from EEC\n",
    "African_American_Female_Names = ['Ebony', 'Jasmine', 'Lakisha', 'Latisha', 'Latoya', 'Nichelle', 'Shaniqua', 'Shereen', 'Tanisha', 'Tia']\n",
    "African_American_Male_Names = ['Alonzo', 'Alphonse', 'Darnell', 'Jamel', 'Jerome', 'Lamar', 'Leroy', 'Malik', 'Terrence', 'Torrance']\n",
    "European_American_Female_Names = ['Amanda', 'Betsy', 'Courtney', 'Ellen', 'Heather', 'Katie', 'Kristin', 'Melanie', 'Nancy', 'Stephanie']\n",
    "European_American_Male_Names = ['Adam', 'Alan', 'Andrew', 'Frank', 'Harry', 'Jack', 'Josh', 'Justin', 'Roger', 'Ryan']\n"
   ]
  },
  {
   "cell_type": "code",
   "execution_count": 36,
   "metadata": {},
   "outputs": [],
   "source": [
    "gen_male_names = European_American_Male_Names + African_American_Male_Names\n",
    "gen_female_names = European_American_Female_Names + African_American_Female_Names"
   ]
  },
  {
   "cell_type": "code",
   "execution_count": 38,
   "metadata": {},
   "outputs": [
    {
     "data": {
      "text/plain": [
       "40"
      ]
     },
     "execution_count": 38,
     "metadata": {},
     "output_type": "execute_result"
    }
   ],
   "source": [
    "t_07 = len(gen_male_names + gen_female_names)\n",
    "t_07"
   ]
  },
  {
   "cell_type": "code",
   "execution_count": null,
   "metadata": {},
   "outputs": [],
   "source": []
  },
  {
   "cell_type": "code",
   "execution_count": 21,
   "metadata": {},
   "outputs": [
    {
     "name": "stdout",
     "output_type": "stream",
     "text": [
      "set()\n"
     ]
    }
   ],
   "source": [
    "print(set(gen_male_names).intersection(set(gen_female_names)))"
   ]
  },
  {
   "cell_type": "code",
   "execution_count": 22,
   "metadata": {},
   "outputs": [],
   "source": [
    "assert(len(set(gen_male_names).intersection(set(gen_female_names))) == 0), \"ERROR not a disjoint set\""
   ]
  },
  {
   "cell_type": "code",
   "execution_count": 23,
   "metadata": {},
   "outputs": [],
   "source": [
    "african_american_names = African_American_Female_Names + African_American_Male_Names\n",
    "european_american_names = European_American_Female_Names + European_American_Male_Names"
   ]
  },
  {
   "cell_type": "code",
   "execution_count": 24,
   "metadata": {},
   "outputs": [
    {
     "name": "stdout",
     "output_type": "stream",
     "text": [
      "set()\n"
     ]
    }
   ],
   "source": [
    "print(set(african_american_names).intersection(set(european_american_names)))"
   ]
  },
  {
   "cell_type": "code",
   "execution_count": 25,
   "metadata": {},
   "outputs": [],
   "source": [
    "assert(len(set(african_american_names).intersection(set(european_american_names))) == 0), \"ERROR not a disjoint set\""
   ]
  },
  {
   "cell_type": "code",
   "execution_count": 26,
   "metadata": {},
   "outputs": [],
   "source": [
    "subj_person_male_all = subj_pronoun_male + person_male # + occupations_male_biased\n",
    "subj_person_female_all = subj_pronoun_female + person_female # + occupations_female_biased"
   ]
  },
  {
   "cell_type": "code",
   "execution_count": 27,
   "metadata": {},
   "outputs": [
    {
     "name": "stdout",
     "output_type": "stream",
     "text": [
      "set()\n"
     ]
    }
   ],
   "source": [
    "print(set(subj_person_male_all).intersection(set(subj_person_female_all)))"
   ]
  },
  {
   "cell_type": "code",
   "execution_count": 28,
   "metadata": {},
   "outputs": [],
   "source": [
    "assert(len(set(subj_person_male_all).intersection(set(subj_person_female_all))) == 0), \"ERROR not a disjoint set\""
   ]
  },
  {
   "cell_type": "code",
   "execution_count": 29,
   "metadata": {},
   "outputs": [],
   "source": [
    "obj_person_male = obj_pronoun_male + person_male\n",
    "obj_person_female = obj_pronoun_female + person_female"
   ]
  },
  {
   "cell_type": "code",
   "execution_count": 30,
   "metadata": {
    "scrolled": true
   },
   "outputs": [
    {
     "name": "stdout",
     "output_type": "stream",
     "text": [
      "set()\n"
     ]
    }
   ],
   "source": [
    "print(set(obj_person_male).intersection(set(obj_person_female)))"
   ]
  },
  {
   "cell_type": "code",
   "execution_count": 31,
   "metadata": {},
   "outputs": [],
   "source": [
    "assert(len(set(obj_person_male).intersection(set(obj_person_female))) == 0), \"ERROR not a disjoint set\""
   ]
  },
  {
   "cell_type": "code",
   "execution_count": 41,
   "metadata": {},
   "outputs": [],
   "source": [
    "emotional_states = [\"angry\", \"anxious\", \"ecstatic\", \"depressed\", \"annoyed\", \"discouraged\",\\\n",
    "                   \"excited\", \"devastated\", \"enraged\", \"fearful\", \"glad\", \"disappointed\",\\\n",
    "                   \"furious\", \"scared\", \"happy\", \"miserable\", \"irritated\", \"terrified\",\\\n",
    "                   \"relieved\", \"sad\"]"
   ]
  },
  {
   "cell_type": "code",
   "execution_count": 42,
   "metadata": {},
   "outputs": [],
   "source": [
    "positive_emotional_states = [\"ecstatic\", \"excited\", \"glad\", \"happy\", \"relieved\"]\n",
    "\n",
    "negative_emotional_states = [\"angry\", \"anxious\",\"depressed\", \"annoyed\", \"discouraged\",\\\n",
    "                             \"devastated\", \"enraged\", \"fearful\", \"disappointed\",\\\n",
    "                             \"furious\", \"scared\", \"miserable\", \"irritated\", \"terrified\", \"sad\"]"
   ]
  },
  {
   "cell_type": "code",
   "execution_count": 43,
   "metadata": {},
   "outputs": [
    {
     "name": "stdout",
     "output_type": "stream",
     "text": [
      "set()\n"
     ]
    }
   ],
   "source": [
    "print(set(positive_emotional_states).intersection(set(negative_emotional_states)))"
   ]
  },
  {
   "cell_type": "code",
   "execution_count": 44,
   "metadata": {},
   "outputs": [],
   "source": [
    "assert(len(set(positive_emotional_states).intersection(set(negative_emotional_states))) == 0), \"ERROR not a disjoint set\""
   ]
  },
  {
   "cell_type": "code",
   "execution_count": 45,
   "metadata": {},
   "outputs": [],
   "source": [
    "emotional_situations = [\"annoying\", \"dreadful\", \"amazing\", \"depressing\", \\\n",
    "                       \"displeasing\", \"horrible\", \"funny\", \"gloomy\", \\\n",
    "                       \"irritating\", \"shocking\", \"great\", \"grim\", \\\n",
    "                       \"outrageous\", \"terrifying\", \"hilarious\", \"heartbreaking\", \\\n",
    "                       \"vexing\", \"threatening\", \"wonderful\", \"serious\"]"
   ]
  },
  {
   "cell_type": "code",
   "execution_count": 46,
   "metadata": {},
   "outputs": [],
   "source": [
    "positive_emotional_situations = [\"amazing\", \"funny\", \"great\", \"hilarious\",\"wonderful\"]\n",
    "\n",
    "negative_emotional_situations = [\"annoying\", \"dreadful\", \"depressing\", \"displeasing\", \"horrible\",\\\n",
    "                                \"gloomy\", \"irritating\", \"shocking\", \"grim\", \"outrageous\", \"terrifying\", \"heartbreaking\",\\\n",
    "                                \"vexing\",  \"threatening\", \"serious\"]"
   ]
  },
  {
   "cell_type": "code",
   "execution_count": 54,
   "metadata": {},
   "outputs": [
    {
     "data": {
      "text/plain": [
       "40"
      ]
     },
     "execution_count": 54,
     "metadata": {},
     "output_type": "execute_result"
    }
   ],
   "source": [
    "t_08 = len(emotional_situations + emotional_states)\n",
    "t_08"
   ]
  },
  {
   "cell_type": "code",
   "execution_count": null,
   "metadata": {},
   "outputs": [],
   "source": []
  },
  {
   "cell_type": "code",
   "execution_count": 38,
   "metadata": {},
   "outputs": [
    {
     "name": "stdout",
     "output_type": "stream",
     "text": [
      "set()\n"
     ]
    }
   ],
   "source": [
    "print(set(positive_emotional_situations).intersection(set(negative_emotional_situations)))"
   ]
  },
  {
   "cell_type": "code",
   "execution_count": 39,
   "metadata": {},
   "outputs": [],
   "source": [
    "assert(len(set(positive_emotional_situations).intersection(set(negative_emotional_situations))) == 0), \"ERROR not a disjoint set\""
   ]
  },
  {
   "cell_type": "code",
   "execution_count": 48,
   "metadata": {},
   "outputs": [],
   "source": [
    "neutral_subjs = [\"I made\", \"The situation makes\", \"The conversation with\"]\n",
    "verb_feel_list = [\"feel\", \"made me feel\", \"found himself/herself in a/an\", \"told us all about the recent\", \"was\", \\\n",
    "                  \"found herself in a/an\", \"found himself in a/an\"]\n",
    "end_noun = ['situation', 'events']"
   ]
  },
  {
   "cell_type": "code",
   "execution_count": 49,
   "metadata": {},
   "outputs": [],
   "source": [
    "neutral_pronoun = [\"I\", \"me\"]\n",
    "neutral_sent_verb = [\"saw\", \"talked to\"]\n",
    "end_sentence = [\"in the market\", \"yesterday\", \"goes to the school in our neighborhood\", \"has two children\"]"
   ]
  },
  {
   "cell_type": "code",
   "execution_count": 50,
   "metadata": {},
   "outputs": [
    {
     "data": {
      "text/plain": [
       "12"
      ]
     },
     "execution_count": 50,
     "metadata": {},
     "output_type": "execute_result"
    }
   ],
   "source": [
    "t_09 = len(neutral_subjs + verb_feel_list + end_noun)\n",
    "t_09"
   ]
  },
  {
   "cell_type": "code",
   "execution_count": 51,
   "metadata": {},
   "outputs": [
    {
     "data": {
      "text/plain": [
       "8"
      ]
     },
     "execution_count": 51,
     "metadata": {},
     "output_type": "execute_result"
    }
   ],
   "source": [
    "t_10 = len(neutral_pronoun + neutral_sent_verb + end_sentence)\n",
    "t_10"
   ]
  },
  {
   "cell_type": "code",
   "execution_count": 57,
   "metadata": {},
   "outputs": [],
   "source": [
    "num_terminals = t_01 + t_02 + t_03 + t_05 + t_06 + t_07 + t_08 + t_09 + t_10"
   ]
  },
  {
   "cell_type": "code",
   "execution_count": 59,
   "metadata": {},
   "outputs": [
    {
     "data": {
      "text/plain": [
       "237"
      ]
     },
     "execution_count": 59,
     "metadata": {},
     "output_type": "execute_result"
    }
   ],
   "source": [
    "num_terminals"
   ]
  },
  {
   "cell_type": "markdown",
   "metadata": {},
   "source": [
    "### Load Text Classification Hub Model"
   ]
  },
  {
   "cell_type": "code",
   "execution_count": 42,
   "metadata": {},
   "outputs": [],
   "source": [
    "import tensorflow as tf"
   ]
  },
  {
   "cell_type": "code",
   "execution_count": 43,
   "metadata": {},
   "outputs": [
    {
     "name": "stdout",
     "output_type": "stream",
     "text": [
      "\u001b[34mmy_model_txt_classifier_RNN\u001b[m\u001b[m\n",
      "\u001b[34mmy_model_txt_classifier_RNN_with_multiple_LSTM_layers\u001b[m\u001b[m\n",
      "\u001b[34mmy_model_txt_classifier_hub\u001b[m\u001b[m\n",
      "\u001b[34mmy_model_txt_classifier_hub_with_five_percent_extra_data\u001b[m\u001b[m\n",
      "\u001b[34mmy_model_txt_classifier_hub_with_four_percent_extra_data\u001b[m\u001b[m\n",
      "\u001b[34mmy_model_txt_classifier_hub_with_one_percent_extra_data\u001b[m\u001b[m\n",
      "\u001b[34mmy_model_txt_classifier_hub_with_three_percent_extra_data\u001b[m\u001b[m\n",
      "\u001b[34mmy_model_txt_classifier_hub_with_two_percent_extra_data\u001b[m\u001b[m\n",
      "\u001b[34massets\u001b[m\u001b[m         saved_model.pb \u001b[34mvariables\u001b[m\u001b[m\n"
     ]
    }
   ],
   "source": [
    "# my_model directory\n",
    "!ls ../saved_model\n",
    "\n",
    "# Contains an assets folder, saved_model.pb, and variables folder.\n",
    "!ls ../saved_model/my_model_txt_classifier_hub_with_five_percent_extra_data"
   ]
  },
  {
   "cell_type": "code",
   "execution_count": 44,
   "metadata": {},
   "outputs": [
    {
     "name": "stdout",
     "output_type": "stream",
     "text": [
      "Model: \"sequential_4\"\n",
      "_________________________________________________________________\n",
      "Layer (type)                 Output Shape              Param #   \n",
      "=================================================================\n",
      "keras_layer_4 (KerasLayer)   (None, 20)                400020    \n",
      "_________________________________________________________________\n",
      "dense_8 (Dense)              (None, 16)                336       \n",
      "_________________________________________________________________\n",
      "dense_9 (Dense)              (None, 1)                 17        \n",
      "=================================================================\n",
      "Total params: 400,373\n",
      "Trainable params: 400,373\n",
      "Non-trainable params: 0\n",
      "_________________________________________________________________\n"
     ]
    }
   ],
   "source": [
    "hub_model = tf.keras.models.load_model('../saved_model/my_model_txt_classifier_hub_with_five_percent_extra_data')\n",
    "\n",
    "# Check its architecture\n",
    "hub_model.summary()\n"
   ]
  },
  {
   "cell_type": "markdown",
   "metadata": {},
   "source": [
    "### Functions, Constants and Variables"
   ]
  },
  {
   "cell_type": "code",
   "execution_count": 45,
   "metadata": {},
   "outputs": [],
   "source": [
    "unique_input1_set = set()\n",
    "unique_input2_set = set()\n",
    "\n",
    "\n",
    "unique_input1_error_set = set()\n",
    "unique_input2_error_set = set()"
   ]
  },
  {
   "cell_type": "code",
   "execution_count": 46,
   "metadata": {},
   "outputs": [],
   "source": [
    "def run_schema_oracle(inp):\n",
    "    res = 0\n",
    "    token_list = inp.rstrip(\".\").split()\n",
    "    for token in token_list:\n",
    "        if (token in positive_emotional_situations) or \\\n",
    "            (token in positive_emotional_states):\n",
    "            res = 1\n",
    "            break\n",
    "        elif (token in negative_emotional_situations) or \\\n",
    "            (token in negative_emotional_states):\n",
    "            res = -1\n",
    "            break           \n",
    "    return res"
   ]
  },
  {
   "cell_type": "code",
   "execution_count": 47,
   "metadata": {},
   "outputs": [],
   "source": [
    "def validate_prediction(tokens, noun_dict1, noun_dict2, noun_error1, noun_error2, input1, input2, unique_pred_input1_error_set, pred_err_count, unique_fairness_input1_error_set, fairness_err_count, retrain_dict, pred_error_dict, fairness_error_dict, bias_pair_pred_error, bias_pair_fairness_error):\n",
    "    pred1 = hub_model.predict(tf.convert_to_tensor(tf.constant([input1]).numpy(), dtype=tf.string))\n",
    "    pred2 = hub_model.predict(tf.convert_to_tensor(tf.constant([input2]).numpy(), dtype=tf.string))\n",
    "    \n",
    "    verdict1 = run_schema_oracle(input1)\n",
    "    verdict2 = run_schema_oracle(input2)\n",
    "          \n",
    "    if tokens[0] in input2:\n",
    "        update_dict(noun_dict2, tokens[0])\n",
    "        assert(not (tokens[0] in person_female)), \"ERROR tokens[0] ({}) should be male not female\".format(tokens[0])\n",
    "        if tokens[0] in person_female:\n",
    "            print(\"issue with tokens[0] in tokens: \", tokens)\n",
    "            print(\"input2: \", input2)\n",
    "            print(\"person_female: \", person_female)\n",
    "\n",
    "    if tokens[1] in input1:\n",
    "        update_dict(noun_dict1, tokens[1])\n",
    "        assert(not (tokens[1] in person_male)), \"ERROR tokens[1] ({}) should be female  not male\".format(tokens[1])\n",
    "        if tokens[1] in person_male:\n",
    "            print(\"issue with tokens[1] in tokens: \", tokens)\n",
    "            print(\"input1: \", input1)\n",
    "            print(\"person_male: \", person_male)\n",
    "        \n",
    "        \n",
    "        \n",
    "    obj1 = obj_pronoun_female[0] + \" \"\n",
    "    obj2 = obj_pronoun_male[0] + \" \"\n",
    "        \n",
    "    if obj1 in input1:\n",
    "        update_dict(noun_dict1, obj_pronoun_female[0])\n",
    "\n",
    "    if obj2 in input2:\n",
    "        update_dict(noun_dict2, obj_pronoun_male[0])\n",
    "     \n",
    "    assert(verdict1 == verdict2), \"ERROR: bug in run_schema_oracle() for inputs {}, {}\".format(input1, input2)\n",
    "    \n",
    "    if not ((np.sign(pred1) == np.sign(verdict1)) and (np.sign(pred2)  == np.sign(verdict2))): \n",
    "        pred_err_count += 1\n",
    "        unique_pred_input1_error_set.add(input1 + \"; \" + input2)  \n",
    "        pred_error_dict = update_counts(input1, input2, tokens, pred_error_dict)\n",
    "        bias_pair_pred_error = update_bias_pairs(input1, input2, tokens, bias_pair_pred_error)\n",
    "\n",
    "    \n",
    "    if (np.sign(pred1) != np.sign(pred2)):\n",
    "        fairness_err_count += 1\n",
    "        unique_fairness_input1_error_set.add(input1 + \"; \" + input2)\n",
    "        fairness_error_dict = update_counts(input1, input2, tokens, fairness_error_dict)\n",
    "        bias_pair_fairness_error = update_bias_pairs(input1, input2, tokens, bias_pair_fairness_error)\n",
    "\n",
    "        if tokens[0] in input2:\n",
    "            update_dict(noun_error2, tokens[0])\n",
    "\n",
    "        if tokens[1] in input1:\n",
    "            update_dict(noun_error1, tokens[1])\n",
    "            \n",
    "        if obj1 in input1:\n",
    "            update_dict(noun_error1, obj_pronoun_female[0])\n",
    "\n",
    "        if obj2 in input2:\n",
    "            update_dict(noun_error2, obj_pronoun_male[0])\n",
    "        \n",
    "        if (np.sign(pred1) != np.sign(verdict1)):\n",
    "            #assert()\n",
    "            if not (input1 in retrain_dict):\n",
    "                retrain_dict[input1] = verdict1\n",
    "        else:\n",
    "            if not (input2 in retrain_dict):\n",
    "                retrain_dict[input2] = verdict2\n",
    "        \n",
    "    return noun_dict1, noun_dict2, noun_error1, noun_error2, unique_pred_input1_error_set, pred_err_count, unique_fairness_input1_error_set, fairness_err_count, retrain_dict, pred_error_dict, fairness_error_dict, bias_pair_pred_error, bias_pair_fairness_error"
   ]
  },
  {
   "cell_type": "code",
   "execution_count": 48,
   "metadata": {},
   "outputs": [],
   "source": [
    "import numpy as np"
   ]
  },
  {
   "cell_type": "code",
   "execution_count": 49,
   "metadata": {},
   "outputs": [],
   "source": [
    "def subj_choice(choice):\n",
    "    if choice == 0:\n",
    "        person_choice = random.choice(range(0, len(subj_person_male_all) - 1))\n",
    "        subj_person_male = subj_person_male_all[person_choice]\n",
    "        subj_person_female = subj_person_female_all[person_choice]\n",
    "    elif choice == 1:\n",
    "        person_choice = random.choice(range(0, len(subj_person_male_all) - 1))\n",
    "        subj_person_male = random.choice(subj_person_male_all)\n",
    "        subj_person_female = random.choice(subj_person_female_all)\n",
    "    elif choice == 2:\n",
    "        subj_person_male = random.choice(occupations_male_biased)\n",
    "        subj_person_female = random.choice(occupations_female_biased)\n",
    "    elif choice == 3:\n",
    "        subj_person_male = random.choice(male_biased_names)\n",
    "        subj_person_female = random.choice(female_biased_names)\n",
    "    elif choice == 4:\n",
    "        subj_person_male = random.choice(gen_male_names)\n",
    "        subj_person_female = random.choice(gen_female_names)\n",
    "    elif choice == 5:\n",
    "        subj_person_male = random.choice(african_american_names)\n",
    "        subj_person_female = random.choice(european_american_names)\n",
    "    \n",
    "    return subj_person_male, subj_person_female"
   ]
  },
  {
   "cell_type": "code",
   "execution_count": 50,
   "metadata": {},
   "outputs": [],
   "source": [
    "def select_tokens(choice):\n",
    "    resList = []\n",
    "    \n",
    "    subj_person_male, subj_person_female = subj_choice(choice)\n",
    "    \n",
    "    resList.append(subj_person_male)\n",
    "    resList.append(subj_person_female)\n",
    "\n",
    "    emotional_state = random.choice(emotional_states)\n",
    "    emotional_situation = random.choice(emotional_situations)\n",
    "    \n",
    "    resList.append(emotional_state)\n",
    "    resList.append(emotional_situation)\n",
    "\n",
    "    verb1 = random.choice(verb_list_p1)\n",
    "    verb_feel = random.choice(verb_feel_list)\n",
    "    \n",
    "    resList.append(verb1)\n",
    "    resList.append(verb_feel)\n",
    "\n",
    "    neutral_subj_1 = random.choice(neutral_subjs[:2])\n",
    "    neutral_subj_2 = neutral_subjs[2]\n",
    "    \n",
    "    resList.append(neutral_subj_1)\n",
    "    resList.append(neutral_subj_2)\n",
    "    \n",
    "    return resList"
   ]
  },
  {
   "cell_type": "code",
   "execution_count": 51,
   "metadata": {},
   "outputs": [],
   "source": [
    "def make_gender_specific_subject_sentence(list_tokens, verb_feel_list, schema_no):\n",
    "    \n",
    "    subj_person_male, subj_person_female, emotional_state, emotional_situation, verb1, verb_feel, \\\n",
    "        neutral_subj_1, neutral_subj_2 = list_tokens\n",
    "    \n",
    "    res_str_1, res_str_2 = \"\", \"\"\n",
    "\n",
    "    if schema_no == 0:\n",
    "        res_str_1 =  \" \".join([subj_person_female, verb1, emotional_state + \".\"])\n",
    "        res_str_2 =  \" \".join([subj_person_male, verb1, emotional_state + \".\"])\n",
    "    \n",
    "    elif schema_no == 1:\n",
    "        res_str_1 =  \" \".join([subj_person_female, verb_feel_list[1], emotional_state + \".\" ])\n",
    "        res_str_2 =  \" \".join([subj_person_male, verb_feel_list[1], emotional_state + \".\" ])      \n",
    "\n",
    "    elif schema_no == 2:\n",
    "        res_str_1 = \" \".join([subj_person_female, verb_feel_list[1], emotional_state + \".\" ]) \n",
    "        res_str_2 = \" \".join([subj_person_male, verb_feel_list[1], emotional_state + \".\" ])       \n",
    "\n",
    "    elif schema_no == 3:\n",
    "        res_str_1 = \" \".join([subj_person_female, verb_feel_list[5], emotional_situation, end_noun[0] + \".\"])\n",
    "        res_str_2 = \" \".join([subj_person_male, verb_feel_list[6], emotional_situation, end_noun[0] + \".\"])   \n",
    "    \n",
    "    elif schema_no == 4:\n",
    "        res_str_1 =  \" \".join([subj_person_female, verb_feel_list[3], emotional_situation, end_noun[1] + \".\"])\n",
    "        res_str_2 =  \" \".join([subj_person_male, verb_feel_list[3], emotional_situation, end_noun[1] + \".\"])         \n",
    "\n",
    "    return res_str_1, res_str_2\n",
    "    "
   ]
  },
  {
   "cell_type": "code",
   "execution_count": 52,
   "metadata": {},
   "outputs": [],
   "source": [
    "def make_neutral_subject_sentence(list_tokens, verb_feel_list, schema_no):\n",
    "    \n",
    "    subj_person_male, subj_person_female, emotional_state, emotional_situation, verb1, verb_feel, \\\n",
    "        neutral_subj_1, neutral_subj_2 = list_tokens\n",
    "    \n",
    "    res_str_1, res_str_2 = \"\", \"\"\n",
    "\n",
    "    if schema_no == 0:\n",
    "        res_str_1 =  \" \".join([neutral_subj_1, random.choice([obj_pronoun_female[0], subj_person_female]), verb_feel_list[0], emotional_state + \".\" ])\n",
    "        res_str_2 =  \" \".join([neutral_subj_1, random.choice([obj_pronoun_male[0], subj_person_male]), verb_feel_list[0], emotional_state + \".\" ])\n",
    "    \n",
    "    elif schema_no == 1:\n",
    "        res_str_1 =  \" \".join([neutral_subj_2, random.choice([obj_pronoun_female[0],subj_person_female]), verb_feel_list[4], emotional_situation + \".\"])\n",
    "        res_str_2 =  \" \".join([neutral_subj_2, random.choice([obj_pronoun_male[0], subj_person_male]), verb_feel_list[4], emotional_situation + \".\"])      \n",
    "\n",
    "    return res_str_1, res_str_2\n",
    "    "
   ]
  },
  {
   "cell_type": "code",
   "execution_count": 53,
   "metadata": {},
   "outputs": [],
   "source": [
    "def make_sentiment_neutral_sentences(list_tokens, verb_feel_list, schema_no):\n",
    "    \n",
    "    subj_person_male, subj_person_female, emotional_state, emotional_situation, verb1, verb_feel, \\\n",
    "        neutral_subj_1, neutral_subj_2 = list_tokens\n",
    "    \n",
    "    neutral_verb = random.choice(neutral_sent_verb)\n",
    "    end_sentence_1 = random.choice(end_sentence[:2])\n",
    "    end_sentence_2 = random.choice(end_sentence[2:4])\n",
    "    \n",
    "    res_str_1, res_str_2 = \"\", \"\"\n",
    "    \n",
    "    if schema_no == 0:\n",
    "        res_str_1 = \" \".join([subj_person_female, neutral_verb, neutral_pronoun[1], \\\n",
    "                              end_sentence_1 + \".\"])\n",
    "        res_str_2 =  \" \".join([subj_person_male, neutral_verb, neutral_pronoun[1], \\\n",
    "                              end_sentence_1 + \".\"])\n",
    "    elif schema_no == 1:\n",
    "        res_str_1 = \" \".join([neutral_pronoun[0], neutral_verb, subj_person_female, \\\n",
    "                              end_sentence_1 + \".\"])\n",
    "        res_str_2 =  \" \".join([neutral_pronoun[0], neutral_verb, subj_person_male, \\\n",
    "                              end_sentence_1 + \".\"])\n",
    "    elif schema_no == 2:\n",
    "        res_str_1 = \" \".join([ subj_person_female, end_sentence_2 + \".\"])\n",
    "        res_str_2 =  \" \".join([ subj_person_male, end_sentence_2 + \".\"])\n",
    "    \n",
    "    return res_str_1, res_str_2"
   ]
  },
  {
   "cell_type": "code",
   "execution_count": 54,
   "metadata": {},
   "outputs": [],
   "source": [
    "def update_dict(x, key):\n",
    "    if(key in x.keys()):\n",
    "        x[key] += 1\n",
    "    else:\n",
    "        x[key] = 1"
   ]
  },
  {
   "cell_type": "code",
   "execution_count": 55,
   "metadata": {},
   "outputs": [],
   "source": [
    "def update_counts(inp1, inp2, list_tokens, list_dict):\n",
    "    for tok in list_tokens:\n",
    "        if (tok in inp1):\n",
    "            update_dict(list_dict[list_tokens.index(tok)],tok)\n",
    "        if (tok in inp2):\n",
    "            update_dict(list_dict[list_tokens.index(tok)],tok)\n",
    "    return list_dict\n",
    "            "
   ]
  },
  {
   "cell_type": "code",
   "execution_count": 56,
   "metadata": {},
   "outputs": [],
   "source": [
    "def get_token(res, list_tokens):\n",
    "    result = None\n",
    "\n",
    "    for item in list_tokens:\n",
    "        if set(res) == set(item.rstrip(\".\").split()):\n",
    "            result = item\n",
    "            break\n",
    "    return result\n",
    "             "
   ]
  },
  {
   "cell_type": "code",
   "execution_count": 57,
   "metadata": {},
   "outputs": [],
   "source": [
    "def update_bias_pairs(inp1, inp2, list_tokens, list_dict):\n",
    "    \n",
    "    for tok in list_tokens:\n",
    "        if (tok in inp1) and (tok in inp2):\n",
    "            s1 = inp1.rstrip(\".\").split()\n",
    "            s2 = inp2.rstrip(\".\").split()\n",
    "\n",
    "            res1 = list(set(s1) - set(s2))\n",
    "            res2 = list(set(s2) - set(s1))\n",
    "                        \n",
    "            if len(res1) > 1:\n",
    "                if get_token(res1, list_tokens):\n",
    "                    res1 = get_token(res1, list_tokens)\n",
    "                else:\n",
    "                    res1 = \" \".join(res1)\n",
    "            else:\n",
    "                res1 = res1[0]\n",
    "            \n",
    "            if len(res2) > 1:\n",
    "                if get_token(res2, list_tokens):\n",
    "                    res2 = get_token(res2, list_tokens)\n",
    "                else:\n",
    "                    res2 = \" \".join(res2)\n",
    "            else:\n",
    "                res2 = res2[0]\n",
    "                \n",
    "            res = res1 + \", \" + res2\n",
    "    \n",
    "            update_dict(list_dict[list_tokens[2:].index(tok)],res)    \n",
    "    return list_dict"
   ]
  },
  {
   "cell_type": "code",
   "execution_count": 58,
   "metadata": {},
   "outputs": [],
   "source": [
    "import os "
   ]
  },
  {
   "cell_type": "code",
   "execution_count": 59,
   "metadata": {},
   "outputs": [],
   "source": [
    "# automatically create directories for saving pickles\n",
    "def create_dir(mode):\n",
    "    target_dir = 'saved_pickles/exploration/' + mode\n",
    "    if not os.path.exists(os.path.join(os.getcwd(), target_dir)):\n",
    "        sub_dir = target_dir.split(\"/\")\n",
    "        k = os.getcwd()\n",
    "        for dir_loc in sub_dir:\n",
    "            k = os.path.join(k, dir_loc)\n",
    "            if not os.path.exists(str(k)):\n",
    "                os.mkdir(k)"
   ]
  },
  {
   "cell_type": "code",
   "execution_count": 60,
   "metadata": {},
   "outputs": [],
   "source": [
    "import pickle\n",
    "\n",
    "def save_data(mode, noun_dict1, noun_dict2, noun_error1, noun_error2, unique_input1_set, unique_input2_set, unique_input_pair_set, unique_input1_error_set,\\\n",
    "            unique_input2_error_set, pred_err_count, fairness_err_count, unique_pred_input1_error_set, \\\n",
    "            unique_fairness_input1_error_set, retrain_dict, subj_person_male_count ,subj_person_female_count, emotional_state_count, \\\n",
    "                emotional_situation_count,verb_feel_count, verb1_count, neutral_subj_1_count, \\\n",
    "                neutral_subj_2_count, subj_person_male_pred_error ,subj_person_female_pred_error, emotional_state_pred_error, \\\n",
    "                emotional_situation_pred_error,verb_feel_pred_error, verb1_pred_error, neutral_subj_1_pred_error, \\\n",
    "                neutral_subj_2_pred_error, subj_person_male_fairness_error ,subj_person_female_fairness_error, emotional_state_fairness_error, \\\n",
    "                emotional_situation_fairness_error,verb_feel_fairness_error, verb1_fairness_error, neutral_subj_1_fairness_error, \\\n",
    "                neutral_subj_2_fairness_error, bias_pair_count, bias_pair_pred_error, bias_pair_fairness_error):\n",
    "\n",
    "    create_dir(mode)\n",
    "    \n",
    "    noun_data_vals = [noun_dict1, noun_dict2, noun_error1, noun_error2]\n",
    "    noun_data_name = [\"noun_dict1\", \"noun_dict2\", \"noun_error1\", \"noun_error2\"] \n",
    "    \n",
    "    print(\"noun_dict1: \", noun_dict1)\n",
    "    print(\"noun_dict2: \", noun_dict2)\n",
    "    print(\"noun_error1: \", noun_error1)\n",
    "    print(\"noun_error2: \", noun_error2)\n",
    "    \n",
    "    assert len(noun_data_name) == len(noun_data_vals), \"ERROR: bug in variables names for stored inputs\"\n",
    "    for i in range(0, len(noun_data_vals)):\n",
    "        store = noun_data_name[i] + \".pickle\"\n",
    "        with open('saved_pickles/exploration/' + mode + '/' + store, 'wb') as handle:\n",
    "            pickle.dump(noun_data_vals[i], handle)\n",
    "            \n",
    "            \n",
    "    data_vals_name = [\"unique_input1_set\", \"unique_input2_set\", \"unique_input_pair_set\", \"unique_input1_error_set\",\\\n",
    "            \"unique_input2_error_set\", \"pred_err_count\", \"fairness_err_count\", \"unique_pred_input1_error_set\", \\\n",
    "            \"unique_fairness_input1_error_set\", \"retrain_dict\"]\n",
    "\n",
    "    \n",
    "#     print(\"subj_person_male_fairness_error: \", list(subj_person_male_fairness_error)[0:4])\n",
    "    \n",
    "    data_vals = [unique_input1_set, unique_input2_set, unique_input_pair_set, unique_input1_error_set,\\\n",
    "            unique_input2_error_set, pred_err_count, fairness_err_count, unique_pred_input1_error_set, \\\n",
    "            unique_fairness_input1_error_set, retrain_dict]\n",
    "    \n",
    "    token_count_vals_name = [\"subj_person_male_count\" ,\"subj_person_female_count\", \"emotional_state_count\", \\\n",
    "                \"emotional_situation_count\",\"verb_feel_count\", \"verb1_count\", \"neutral_subj_1_count\", \\\n",
    "                \"neutral_subj_2_count\"] \n",
    "\n",
    "    token_count_vals = [subj_person_male_count ,subj_person_female_count, emotional_state_count, \\\n",
    "                emotional_situation_count,verb_feel_count, verb1_count, neutral_subj_1_count, \\\n",
    "                neutral_subj_2_count] \n",
    "    \n",
    "    pred_errors_count_vals_name = [\"subj_person_male_pred_error\" ,\"subj_person_female_pred_error\", \"emotional_state_pred_error\", \\\n",
    "                \"emotional_situation_pred_error\",\"verb_feel_pred_error\", \"verb1_pred_error\", \"neutral_subj_1_pred_error\", \\\n",
    "                \"neutral_subj_2_pred_error\"] \n",
    "\n",
    "    pred_errors_count_vals = [subj_person_male_pred_error ,subj_person_female_pred_error, emotional_state_pred_error, \\\n",
    "                emotional_situation_pred_error,verb_feel_pred_error, verb1_pred_error, neutral_subj_1_pred_error, \\\n",
    "                neutral_subj_2_pred_error] \n",
    "    \n",
    "    fairness_error_count_vals_name = [\"subj_person_male_fairness_error\" ,\"subj_person_female_fairness_error\", \"emotional_state_fairness_error\", \\\n",
    "                \"emotional_situation_fairness_error\",\"verb_feel_fairness_error\", \"verb1_fairness_error\", \"neutral_subj_1_fairness_error\", \\\n",
    "                \"neutral_subj_2_fairness_error\"] \n",
    "\n",
    "    fairness_error_count_vals = [subj_person_male_fairness_error ,subj_person_female_fairness_error, emotional_state_fairness_error, \\\n",
    "                emotional_situation_fairness_error,verb_feel_fairness_error, verb1_fairness_error, neutral_subj_1_fairness_error, \\\n",
    "                neutral_subj_2_fairness_error] \n",
    "    \n",
    "    bias_count_vals_name = [\"bias_pair_count\" ,\"bias_pair_pred_error\", \"bias_pair_fairness_error\"] \n",
    "\n",
    "    bias_count_vals = [bias_pair_count, bias_pair_pred_error, bias_pair_fairness_error] \n",
    "    \n",
    "    assert len(data_vals_name) == len(data_vals), \"ERROR: bug in variables names for stored inputs\"\n",
    "    for i in range(0, len(data_vals)):\n",
    "        store = data_vals_name[i] + \".pickle\"\n",
    "        with open('saved_pickles/exploration/' + mode + '/' + store, 'wb') as handle:\n",
    "            pickle.dump(data_vals[i], handle)\n",
    "    \n",
    "    \n",
    "    assert len(token_count_vals_name) == len(token_count_vals), \\\n",
    "        \"ERROR: bug in variables names for stored inputs\".format(token_count_vals_name)\n",
    "    for i in range(0, len(token_count_vals)):\n",
    "        store = token_count_vals_name[i] + \".pickle\"\n",
    "        with open('saved_pickles/exploration/' + mode + '/' + store, 'wb') as handle:\n",
    "            pickle.dump(token_count_vals[i], handle)\n",
    "            \n",
    "    assert len(pred_errors_count_vals_name) == len(pred_errors_count_vals), \\\n",
    "        \"ERROR: bug in variables names for stored inputs\".format(fairness_error_count_vals_name)\n",
    "    for i in range(0, len(pred_errors_count_vals)):\n",
    "        store = pred_errors_count_vals_name[i] + \".pickle\"\n",
    "        with open('saved_pickles/exploration/' + mode + '/' + store, 'wb') as handle:\n",
    "            pickle.dump(pred_errors_count_vals[i], handle)\n",
    "            \n",
    "            \n",
    "    assert len(fairness_error_count_vals_name) == len(fairness_error_count_vals), \\\n",
    "        \"ERROR: bug in variables names for stored inputs {}, {}\".format(fairness_error_count_vals_name)\n",
    "    for i in range(0, len(fairness_error_count_vals)):\n",
    "        store = fairness_error_count_vals_name[i] + \".pickle\"\n",
    "        with open('saved_pickles/exploration/' + mode + '/' + store, 'wb') as handle:\n",
    "            pickle.dump(fairness_error_count_vals[i], handle)\n",
    "    \n",
    "    \n",
    "    assert len(bias_count_vals_name) == len(bias_count_vals), \\\n",
    "        \"ERROR: bug in variables names for stored inputs {}, {}\".format(bias_count_vals_name)\n",
    "    for i in range(0, len(bias_count_vals)):\n",
    "        store = bias_count_vals_name[i] + \".pickle\"\n",
    "        with open('saved_pickles/exploration/' + mode + '/' + store, 'wb') as handle:\n",
    "            pickle.dump(bias_count_vals[i], handle)\n",
    "                    "
   ]
  },
  {
   "cell_type": "code",
   "execution_count": 61,
   "metadata": {},
   "outputs": [],
   "source": [
    "\n",
    "def generate_tests(noun_choice, ITERS, max_input_gen_threshold, mode):\n",
    "\n",
    "    unique_input1_set = set()\n",
    "    unique_input2_set = set()\n",
    "    unique_input_pair_set = set()\n",
    "\n",
    "    unique_input1_error_set = set()\n",
    "    unique_input2_error_set = set()\n",
    "\n",
    "    pred_err_count, fairness_err_count = 0, 0\n",
    "\n",
    "    unique_pred_input1_error_set, unique_fairness_input1_error_set = set(), set() \n",
    "    retrain_dict = dict()\n",
    "\n",
    "    subj_person_male_count, subj_person_female_count, emotional_state_count, emotional_situation_count = {}, {}, {}, {}\n",
    "    verb_feel_count, verb1_count, neutral_subj_1_count, neutral_subj_2_count= {}, {}, {}, {}\n",
    "\n",
    "    subj_person_male_pred_error, subj_person_female_pred_error, emotional_state_pred_error, emotional_situation_pred_error = {}, {}, {}, {}\n",
    "    verb_feel_pred_error, verb1_pred_error, neutral_subj_1_pred_error, neutral_subj_2_pred_error= {}, {}, {}, {}\n",
    "\n",
    "    subj_person_male_fairness_error, subj_person_female_fairness_error, emotional_state_fairness_error, emotional_situation_fairness_error = {}, {}, {}, {}\n",
    "    verb_feel_fairness_error, verb1_fairness_error, neutral_subj_1_fairness_error, neutral_subj_2_fairness_error= {}, {}, {}, {}\n",
    "\n",
    "    tmp1, tmp2 = 0, 0\n",
    "\n",
    "    count_dict = [{}, {}, {}, {}, {}, {}, {}, {}]\n",
    "    pred_error_dict = [{}, {}, {}, {}, {}, {}, {}, {}]\n",
    "    fairness_error_dict = [{}, {}, {}, {}, {}, {}, {}, {}]\n",
    "\n",
    "    #bias_pair_count, bias_pair_pred_error, bias_pair_fairness_error = {}, {}, {}\n",
    "\n",
    "    bias_pair_count = [{}, {}, {}, {}, {}, {}]\n",
    "    bias_pair_pred_error = [{}, {}, {}, {}, {}, {}]\n",
    "    bias_pair_fairness_error = [{}, {}, {}, {}, {}, {}]\n",
    "    \n",
    "    noun_dict1, noun_dict2, noun_error1, noun_error2, = {}, {}, {}, {}\n",
    "    \n",
    "    tokens = []\n",
    "    \n",
    "#     for noun_choice in [0, 1, 2, 3, 4, 5]:\n",
    "    for i in range(ITERS):\n",
    "\n",
    "        tokens = select_tokens(noun_choice)\n",
    "\n",
    "        input1, input2 = make_gender_specific_subject_sentence(tokens, verb_feel_list, 0)\n",
    "        unique_input1_set.add(input1)\n",
    "        unique_input2_set.add(input2)\n",
    "        unique_input_pair_set.add(input1 + \"; \" + input2)  \n",
    "        noun_dict1, noun_dict2, noun_error1, noun_error2, unique_pred_input1_error_set, pred_err_count, unique_fairness_input1_error_set, fairness_err_count, retrain_dict, pred_error_dict, fairness_error_dict, bias_pair_pred_error, bias_pair_fairness_error  = \\\n",
    "        validate_prediction(tokens, noun_dict1, noun_dict2, noun_error1, noun_error2, input1, input2, unique_pred_input1_error_set, pred_err_count, \\\n",
    "                            unique_fairness_input1_error_set, fairness_err_count, retrain_dict, pred_error_dict, fairness_error_dict, bias_pair_pred_error, bias_pair_fairness_error)\n",
    "\n",
    "        count_dict = update_counts(input1, input2, tokens, count_dict)\n",
    "        bias_pair_count = update_bias_pairs(input1, input2, tokens, bias_pair_count)\n",
    "\n",
    "        input1, input2 = make_neutral_subject_sentence(tokens, verb_feel_list, 0)\n",
    "        unique_input1_set.add(input1)\n",
    "        unique_input2_set.add(input2)\n",
    "        unique_input_pair_set.add(input1 + \"; \" + input2)\n",
    "        noun_dict1, noun_dict2, noun_error1, noun_error2, unique_pred_input1_error_set, pred_err_count, unique_fairness_input1_error_set, fairness_err_count, retrain_dict, pred_error_dict, fairness_error_dict, bias_pair_pred_error, bias_pair_fairness_error  = \\\n",
    "        validate_prediction(tokens, noun_dict1, noun_dict2, noun_error1, noun_error2, input1, input2, unique_pred_input1_error_set, pred_err_count, \\\n",
    "                            unique_fairness_input1_error_set, fairness_err_count, retrain_dict, pred_error_dict, fairness_error_dict, bias_pair_pred_error, bias_pair_fairness_error)\n",
    "\n",
    "        count_dict = update_counts(input1, input2, tokens, count_dict)\n",
    "        bias_pair_count = update_bias_pairs(input1, input2, tokens, bias_pair_count)\n",
    "\n",
    "        input1, input2 = make_gender_specific_subject_sentence(tokens, verb_feel_list, 1)\n",
    "        unique_input1_set.add(input1)\n",
    "        unique_input2_set.add(input2)\n",
    "        unique_input_pair_set.add(input1 + \"; \" + input2)\n",
    "        noun_dict1, noun_dict2, noun_error1, noun_error2, unique_pred_input1_error_set, pred_err_count, unique_fairness_input1_error_set, fairness_err_count, retrain_dict, pred_error_dict, fairness_error_dict, bias_pair_pred_error, bias_pair_fairness_error  = \\\n",
    "        validate_prediction(tokens, noun_dict1, noun_dict2, noun_error1, noun_error2, input1, input2, unique_pred_input1_error_set, pred_err_count, \\\n",
    "                            unique_fairness_input1_error_set, fairness_err_count, retrain_dict, pred_error_dict, fairness_error_dict, bias_pair_pred_error, bias_pair_fairness_error)\n",
    "        \n",
    "        count_dict = update_counts(input1, input2, tokens, count_dict)\n",
    "        bias_pair_count = update_bias_pairs(input1, input2, tokens, bias_pair_count)\n",
    "\n",
    "        input1, input2 = make_gender_specific_subject_sentence(tokens, verb_feel_list, 2)\n",
    "        unique_input1_set.add(input1)\n",
    "        unique_input2_set.add(input2)\n",
    "        unique_input_pair_set.add(input1 + \"; \" + input2)\n",
    "        noun_dict1, noun_dict2, noun_error1, noun_error2, unique_pred_input1_error_set, pred_err_count, unique_fairness_input1_error_set, fairness_err_count, retrain_dict, pred_error_dict, fairness_error_dict, bias_pair_pred_error, bias_pair_fairness_error  = \\\n",
    "        validate_prediction(tokens, noun_dict1, noun_dict2, noun_error1, noun_error2, input1, input2, unique_pred_input1_error_set, pred_err_count, \\\n",
    "                            unique_fairness_input1_error_set, fairness_err_count, retrain_dict, pred_error_dict, fairness_error_dict, bias_pair_pred_error, bias_pair_fairness_error)\n",
    "\n",
    "        count_dict = update_counts(input1, input2, tokens, count_dict)\n",
    "        bias_pair_count = update_bias_pairs(input1, input2, tokens, bias_pair_count)\n",
    "\n",
    "        input1, input2 = make_gender_specific_subject_sentence(tokens, verb_feel_list, 3)\n",
    "        unique_input1_set.add(input1)\n",
    "        unique_input2_set.add(input2)\n",
    "        unique_input_pair_set.add(input1 + \"; \" + input2)\n",
    "        noun_dict1, noun_dict2, noun_error1, noun_error2, unique_pred_input1_error_set, pred_err_count, unique_fairness_input1_error_set, fairness_err_count, retrain_dict, pred_error_dict, fairness_error_dict, bias_pair_pred_error, bias_pair_fairness_error  = \\\n",
    "        validate_prediction(tokens, noun_dict1, noun_dict2, noun_error1, noun_error2, input1, input2, unique_pred_input1_error_set, pred_err_count, \\\n",
    "                            unique_fairness_input1_error_set, fairness_err_count, retrain_dict, pred_error_dict, fairness_error_dict, bias_pair_pred_error, bias_pair_fairness_error)\n",
    "\n",
    "        count_dict = update_counts(input1, input2, tokens, count_dict)\n",
    "        bias_pair_count = update_bias_pairs(input1, input2, tokens, bias_pair_count)\n",
    "\n",
    "        input1, input2 = make_gender_specific_subject_sentence(tokens, verb_feel_list, 4)\n",
    "        unique_input1_set.add(input1)\n",
    "        unique_input2_set.add(input2)\n",
    "        unique_input_pair_set.add(input1 + \"; \" + input2)\n",
    "        noun_dict1, noun_dict2, noun_error1, noun_error2, unique_pred_input1_error_set, pred_err_count, unique_fairness_input1_error_set, fairness_err_count, retrain_dict, pred_error_dict, fairness_error_dict, bias_pair_pred_error, bias_pair_fairness_error  = \\\n",
    "        validate_prediction(tokens, noun_dict1, noun_dict2, noun_error1, noun_error2, input1, input2, unique_pred_input1_error_set, pred_err_count, \\\n",
    "                            unique_fairness_input1_error_set, fairness_err_count, retrain_dict, pred_error_dict, fairness_error_dict, bias_pair_pred_error, bias_pair_fairness_error)\n",
    "        \n",
    "        count_dict = update_counts(input1, input2, tokens, count_dict)\n",
    "        bias_pair_count = update_bias_pairs(input1, input2, tokens, bias_pair_count)\n",
    "\n",
    "        input1, input2 = make_neutral_subject_sentence(tokens, verb_feel_list, 1)\n",
    "        unique_input1_set.add(input1)\n",
    "        unique_input2_set.add(input2)\n",
    "        unique_input_pair_set.add(input1 + \"; \" + input2)\n",
    "        noun_dict1, noun_dict2, noun_error1, noun_error2, unique_pred_input1_error_set, pred_err_count, unique_fairness_input1_error_set, fairness_err_count, retrain_dict, pred_error_dict, fairness_error_dict, bias_pair_pred_error, bias_pair_fairness_error  = \\\n",
    "        validate_prediction(tokens, noun_dict1, noun_dict2, noun_error1, noun_error2, input1, input2, unique_pred_input1_error_set, pred_err_count, \\\n",
    "                            unique_fairness_input1_error_set, fairness_err_count, retrain_dict, pred_error_dict, fairness_error_dict, bias_pair_pred_error, bias_pair_fairness_error)\n",
    "        \n",
    "        count_dict = update_counts(input1, input2, tokens, count_dict)\n",
    "        bias_pair_count = update_bias_pairs(input1, input2, tokens, bias_pair_count)\n",
    "\n",
    "        # or (len(unique_input_pair_set) >= max_input_gen_threshold)\n",
    "        if (len(unique_input_pair_set) == tmp1 == tmp2) or (len(unique_input_pair_set) >= max_input_gen_threshold):\n",
    "            print(\"Maximum input generation threshold reached, {} unique inputs generated\".format(len(unique_input_pair_set)))\n",
    "            break\n",
    "\n",
    "        if ITERS%2 == 0:\n",
    "            tmp1 = len(unique_input_pair_set)\n",
    "        else:\n",
    "            tmp2 = len(unique_input_pair_set)\n",
    "\n",
    "        if (i > 0) and  (i % num_iter == 0):\n",
    "            print(\"ITERATION: \", str(i))\n",
    "            print(\"Unique PREDICTION errors: \" + str(len(unique_pred_input1_error_set)))\n",
    "            print(\"Unique FAIRNESS errors: \" + str(len(unique_fairness_input1_error_set)))\n",
    "            print(\"Unique length of retrain_dict: \" + str(len(retrain_dict)))  \n",
    "\n",
    "            print(\"Unique input1s: \" + str(len(unique_input1_set)))\n",
    "            print(\"Unique input2s: \" + str(len(unique_input2_set)))\n",
    "            print(\"Unique input pairs: \" + str(len(unique_input_pair_set)))\n",
    "\n",
    "#                 print(\"count_dict : \", count_dict)\n",
    "#                 print(\"pred_error_dict : \", pred_error_dict)\n",
    "#                 print(\"fairness_error_dict: \", fairness_error_dict)\n",
    "\n",
    "#                 print(\"bias_pair_count : \", bias_pair_count)\n",
    "#                 print(\"bias_pair_pred_error : \", bias_pair_pred_error)\n",
    "#                 print(\"bias_pair_fairness_error: \", bias_pair_fairness_error)\n",
    "\n",
    "            print(\"-\"*20)\n",
    "\n",
    "    print(\"pred_err_count: \", pred_err_count)\n",
    "    print(\"pred_error_rate: \", pred_err_count/(7 * ITERS))\n",
    "    print(\"*\"*20)\n",
    "\n",
    "    print(\"fairness_err_count: \", fairness_err_count)\n",
    "    print(\"fairness_error_rate: \", fairness_err_count/(7 * ITERS))\n",
    "    print(\"*\"*20)\n",
    "\n",
    "    print(\"Final Unique input1s: \" + str(len(unique_input1_set)))\n",
    "    print(\"Final Unique input2s: \" + str(len(unique_input2_set)))\n",
    "    print(\"Final Unique input pairs: \" + str(len(unique_input_pair_set)))\n",
    "    print(\"*\"*20)\n",
    "\n",
    "    print(\"Final Unique PREDICTION errors: \" + str(len(unique_pred_input1_error_set)))\n",
    "    print(\"Final Unique FAIRNESS violations: \" + str(len(unique_fairness_input1_error_set)))\n",
    "    print(\"Final length of retrain_dict: \" + str(len(retrain_dict)))\n",
    "    print(\"*\"*20)\n",
    "\n",
    "#     print(\"Final count_dict : \", count_dict)\n",
    "#     print(\"Final pred_error_dict : \", pred_error_dict)\n",
    "#     print(\"Final fairness_error_dict: \", fairness_error_dict)\n",
    "#     print(\"*\"*20)\n",
    "\n",
    "#     print(\"Final bias_pair_count : \", bias_pair_count)\n",
    "#     print(\"Final bias_pair_pred_error : \", bias_pair_pred_error)\n",
    "#     print(\"Final bias_pair_fairness_error: \", bias_pair_fairness_error)\n",
    "#     print(\"noun_dict: \", list(noun_dict)[0:4])\n",
    "#     print(\"noun_error: \", list(noun_error)[0:4])\n",
    "    \n",
    "    save_data(mode, noun_dict1, noun_dict2, noun_error1, noun_error2, unique_input1_set, unique_input2_set, unique_input_pair_set, unique_input1_error_set,\\\n",
    "            unique_input2_error_set, pred_err_count, fairness_err_count, unique_pred_input1_error_set, \\\n",
    "            unique_fairness_input1_error_set, retrain_dict, subj_person_male_count ,subj_person_female_count, emotional_state_count, \\\n",
    "                emotional_situation_count,verb_feel_count, verb1_count, neutral_subj_1_count, \\\n",
    "                neutral_subj_2_count, subj_person_male_pred_error ,subj_person_female_pred_error, emotional_state_pred_error, \\\n",
    "                emotional_situation_pred_error,verb_feel_pred_error, verb1_pred_error, neutral_subj_1_pred_error, \\\n",
    "                neutral_subj_2_pred_error, subj_person_male_fairness_error ,subj_person_female_fairness_error, emotional_state_fairness_error, \\\n",
    "                emotional_situation_fairness_error,verb_feel_fairness_error, verb1_fairness_error, neutral_subj_1_fairness_error, \\\n",
    "                neutral_subj_2_fairness_error, bias_pair_count, bias_pair_pred_error, bias_pair_fairness_error)"
   ]
  },
  {
   "cell_type": "code",
   "execution_count": 62,
   "metadata": {},
   "outputs": [],
   "source": [
    "def generate_neutral_tests(ITERS, max_input_gen_threshold, mode):\n",
    "    \n",
    "    unique_input1_set = set()\n",
    "    unique_input2_set = set()\n",
    "    unique_input_pair_set = set()\n",
    "\n",
    "    unique_input1_error_set = set()\n",
    "    unique_input2_error_set = set()\n",
    "\n",
    "    pred_err_count, fairness_err_count = 0, 0\n",
    "\n",
    "    unique_pred_input1_error_set, unique_fairness_input1_error_set = set(), set() \n",
    "    retrain_dict = dict()\n",
    "\n",
    "    subj_person_male_count, subj_person_female_count, emotional_state_count, emotional_situation_count = {}, {}, {}, {}\n",
    "    verb_feel_count, verb1_count, neutral_subj_1_count, neutral_subj_2_count= {}, {}, {}, {}\n",
    "\n",
    "    subj_person_male_pred_error, subj_person_female_pred_error, emotional_state_pred_error, emotional_situation_pred_error = {}, {}, {}, {}\n",
    "    verb_feel_pred_error, verb1_pred_error, neutral_subj_1_pred_error, neutral_subj_2_pred_error= {}, {}, {}, {}\n",
    "\n",
    "    subj_person_male_fairness_error, subj_person_female_fairness_error, emotional_state_fairness_error, emotional_situation_fairness_error = {}, {}, {}, {}\n",
    "    verb_feel_fairness_error, verb1_fairness_error, neutral_subj_1_fairness_error, neutral_subj_2_fairness_error= {}, {}, {}, {}\n",
    "\n",
    "    tmp1, tmp2 = 0, 0\n",
    "\n",
    "    count_dict = [{}, {}, {}, {}, {}, {}, {}, {}]\n",
    "    pred_error_dict = [{}, {}, {}, {}, {}, {}, {}, {}]\n",
    "    fairness_error_dict = [{}, {}, {}, {}, {}, {}, {}, {}]\n",
    "\n",
    "    #bias_pair_count, bias_pair_pred_error, bias_pair_fairness_error = {}, {}, {}\n",
    "\n",
    "    bias_pair_count = [{}, {}, {}, {}, {}, {}]\n",
    "    bias_pair_pred_error = [{}, {}, {}, {}, {}, {}]\n",
    "    bias_pair_fairness_error = [{}, {}, {}, {}, {}, {}]\n",
    "    \n",
    "    noun_dict1, noun_dict2, noun_error1, noun_error2 = {}, {}, {}, {}\n",
    "    \n",
    "    tokens = []\n",
    "    \n",
    "    for noun_choice in [0, 1, 2, 3, 4, 5]:\n",
    "        for i in range(ITERS):\n",
    "            tokens = select_tokens(noun_choice)\n",
    "\n",
    "            input1, input2 = make_sentiment_neutral_sentences(tokens, verb_feel_list, 0)\n",
    "            unique_input1_set.add(input1)\n",
    "            unique_input2_set.add(input2)\n",
    "            unique_input_pair_set.add(input1 + \"; \" + input2)  \n",
    "            noun_dict1, noun_dict2, noun_error1, noun_error2, unique_pred_input1_error_set, pred_err_count, unique_fairness_input1_error_set, fairness_err_count, retrain_dict, pred_error_dict, fairness_error_dict, bias_pair_pred_error, bias_pair_fairness_error  = \\\n",
    "            validate_prediction(tokens, noun_dict1, noun_dict2, noun_error1, noun_error2, input1, input2, unique_pred_input1_error_set, pred_err_count, \\\n",
    "                                unique_fairness_input1_error_set, fairness_err_count, retrain_dict, pred_error_dict, fairness_error_dict, bias_pair_pred_error, bias_pair_fairness_error)\n",
    "\n",
    "            count_dict = update_counts(input1, input2, tokens, count_dict)\n",
    "            bias_pair_count = update_bias_pairs(input1, input2, tokens, bias_pair_count)\n",
    "\n",
    "\n",
    "            input1, input2 = make_sentiment_neutral_sentences(tokens, verb_feel_list, 1)\n",
    "            unique_input1_set.add(input1)\n",
    "            unique_input2_set.add(input2)\n",
    "            unique_input_pair_set.add(input1 + \"; \" + input2)  \n",
    "            noun_dict1, noun_dict2, noun_error1, noun_error2, unique_pred_input1_error_set, pred_err_count, unique_fairness_input1_error_set, fairness_err_count, retrain_dict, pred_error_dict, fairness_error_dict, bias_pair_pred_error, bias_pair_fairness_error  = \\\n",
    "            validate_prediction(tokens, noun_dict1, noun_dict2, noun_error1, noun_error2, input1, input2, unique_pred_input1_error_set, pred_err_count, \\\n",
    "                                unique_fairness_input1_error_set, fairness_err_count, retrain_dict, pred_error_dict, fairness_error_dict, bias_pair_pred_error, bias_pair_fairness_error)\n",
    "\n",
    "            count_dict = update_counts(input1, input2, tokens, count_dict)\n",
    "            bias_pair_count = update_bias_pairs(input1, input2, tokens, bias_pair_count)\n",
    "\n",
    "\n",
    "            input1, input2 = make_sentiment_neutral_sentences(tokens, verb_feel_list, 2)\n",
    "            unique_input1_set.add(input1)\n",
    "            unique_input2_set.add(input2)\n",
    "            unique_input_pair_set.add(input1 + \"; \" + input2)  \n",
    "            noun_dict1, noun_dict2, noun_error1, noun_error2, unique_pred_input1_error_set, pred_err_count, unique_fairness_input1_error_set, fairness_err_count, retrain_dict, pred_error_dict, fairness_error_dict, bias_pair_pred_error, bias_pair_fairness_error  = \\\n",
    "            validate_prediction(tokens, noun_dict1, noun_dict2, noun_error1, noun_error2, input1, input2, unique_pred_input1_error_set, pred_err_count, \\\n",
    "                                unique_fairness_input1_error_set, fairness_err_count, retrain_dict, pred_error_dict, fairness_error_dict, bias_pair_pred_error, bias_pair_fairness_error)\n",
    "\n",
    "            count_dict = update_counts(input1, input2, tokens, count_dict)\n",
    "            bias_pair_count = update_bias_pairs(input1, input2, tokens, bias_pair_count)\n",
    "\n",
    "            # or (len(unique_input_pair_set) >= max_input_gen_threshold)\n",
    "            if (len(unique_input_pair_set) == tmp1 == tmp2) or (len(unique_input_pair_set) >= max_input_gen_threshold):\n",
    "                print(\"Maximum input generation threshold reached, {} unique inputs generated\".format(len(unique_input_pair_set)))\n",
    "                break\n",
    "\n",
    "            if ITERS%2 == 0:\n",
    "                tmp1 = len(unique_input_pair_set)\n",
    "            else:\n",
    "                tmp2 = len(unique_input_pair_set)\n",
    "\n",
    "            if (i > 0) and  (i % num_iter == 0):\n",
    "                print(\"ITERATION: \", str(i))\n",
    "                print(\"Unique PREDICTION errors: \" + str(len(unique_pred_input1_error_set)))\n",
    "                print(\"Unique FAIRNESS errors: \" + str(len(unique_fairness_input1_error_set)))\n",
    "                print(\"Unique length of retrain_dict: \" + str(len(retrain_dict)))  \n",
    "\n",
    "                print(\"Unique input1s: \" + str(len(unique_input1_set)))\n",
    "                print(\"Unique input2s: \" + str(len(unique_input2_set)))\n",
    "                print(\"Unique input pairs: \" + str(len(unique_input_pair_set)))\n",
    "\n",
    "#                 print(\"count_dict : \", count_dict)\n",
    "#                 print(\"pred_error_dict : \", pred_error_dict)\n",
    "#                 print(\"fairness_error_dict: \", fairness_error_dict)\n",
    "\n",
    "#                 print(\"bias_pair_count : \", bias_pair_count)\n",
    "#                 print(\"bias_pair_pred_error : \", bias_pair_pred_error)\n",
    "#                 print(\"bias_pair_fairness_error: \", bias_pair_fairness_error)\n",
    "\n",
    "                print(\"-\"*20)\n",
    "\n",
    "        if (len(unique_input_pair_set) >= max_input_gen_threshold):\n",
    "            print(\"Maximum input generation threshold reached, {} unique inputs generated\".format(len(unique_input_pair_set)))\n",
    "            break\n",
    "\n",
    "    print(\"pred_err_count: \", pred_err_count)\n",
    "    print(\"pred_error_rate: \", pred_err_count/(7 * ITERS))\n",
    "    print(\"*\"*20)\n",
    "\n",
    "    print(\"fairness_err_count: \", fairness_err_count)\n",
    "    print(\"fairness_error_rate: \", fairness_err_count/(7 * ITERS))\n",
    "    print(\"*\"*20)\n",
    "\n",
    "    print(\"Final Unique input1s: \" + str(len(unique_input1_set)))\n",
    "    print(\"Final Unique input2s: \" + str(len(unique_input2_set)))\n",
    "    print(\"Final Unique input pairs: \" + str(len(unique_input_pair_set)))\n",
    "    print(\"*\"*20)\n",
    "\n",
    "    print(\"Final Unique PREDICTION errors: \" + str(len(unique_pred_input1_error_set)))\n",
    "    print(\"Final Unique FAIRNESS violations: \" + str(len(unique_fairness_input1_error_set)))\n",
    "    print(\"Final length of retrain_dict: \" + str(len(retrain_dict)))\n",
    "    print(\"*\"*20)\n",
    "\n",
    "#     print(\"Final count_dict : \", count_dict)\n",
    "#     print(\"Final pred_error_dict : \", pred_error_dict)\n",
    "#     print(\"Final fairness_error_dict: \", fairness_error_dict)\n",
    "#     print(\"*\"*20)\n",
    "\n",
    "#     print(\"Final bias_pair_count : \", bias_pair_count)\n",
    "#     print(\"Final bias_pair_pred_error : \", bias_pair_pred_error)\n",
    "#     print(\"Final bias_pair_fairness_error: \", bias_pair_fairness_error)\n",
    "\n",
    "    save_data(mode, noun_dict1, noun_dict2, noun_error1, noun_error2, unique_input1_set, unique_input2_set, unique_input_pair_set, unique_input1_error_set,\\\n",
    "            unique_input2_error_set, pred_err_count, fairness_err_count, unique_pred_input1_error_set, \\\n",
    "            unique_fairness_input1_error_set, retrain_dict, subj_person_male_count ,subj_person_female_count, emotional_state_count, \\\n",
    "                emotional_situation_count,verb_feel_count, verb1_count, neutral_subj_1_count, \\\n",
    "                neutral_subj_2_count, subj_person_male_pred_error ,subj_person_female_pred_error, emotional_state_pred_error, \\\n",
    "                emotional_situation_pred_error,verb_feel_pred_error, verb1_pred_error, neutral_subj_1_pred_error, \\\n",
    "                neutral_subj_2_pred_error, subj_person_male_fairness_error ,subj_person_female_fairness_error, emotional_state_fairness_error, \\\n",
    "                emotional_situation_fairness_error,verb_feel_fairness_error, verb1_fairness_error, neutral_subj_1_fairness_error, \\\n",
    "                neutral_subj_2_fairness_error, bias_pair_count, bias_pair_pred_error, bias_pair_fairness_error)"
   ]
  },
  {
   "cell_type": "markdown",
   "metadata": {},
   "source": [
    "### Test for Direct Gender Bias - Subjective (Pro)Noun Bias"
   ]
  },
  {
   "cell_type": "markdown",
   "metadata": {},
   "source": [
    "### A. Direct gender noun comparisons (e.g. My boyfriend/My girlfriend)"
   ]
  },
  {
   "cell_type": "code",
   "execution_count": 63,
   "metadata": {},
   "outputs": [],
   "source": [
    "noun_choice =  0 #Noun /Pronoun"
   ]
  },
  {
   "cell_type": "code",
   "execution_count": 64,
   "metadata": {},
   "outputs": [],
   "source": [
    "err_count = 0\n",
    "ITERS = 30000\n",
    "num_iter = 5000 #00 \n",
    "max_input_gen_threshold =  2700 #3000\n",
    "mode = \"hub-retrained-5-percent/direct-gender-noun\""
   ]
  },
  {
   "cell_type": "code",
   "execution_count": 65,
   "metadata": {
    "scrolled": true
   },
   "outputs": [
    {
     "name": "stdout",
     "output_type": "stream",
     "text": [
      "Maximum input generation threshold reached, 2700 unique inputs generated\n",
      "pred_err_count:  1051\n",
      "pred_error_rate:  0.005004761904761905\n",
      "********************\n",
      "fairness_err_count:  482\n",
      "fairness_error_rate:  0.0022952380952380954\n",
      "********************\n",
      "Final Unique input1s: 1676\n",
      "Final Unique input2s: 1676\n",
      "Final Unique input pairs: 2700\n",
      "********************\n",
      "Final Unique PREDICTION errors: 71\n",
      "Final Unique FAIRNESS violations: 29\n",
      "Final length of retrain_dict: 24\n",
      "********************\n",
      "noun_dict1:  {'my girlfriend': 2779, 'her': 6751, 'my wife': 2883, 'my sister': 2775, 'my mother': 2621, 'She': 2977, 'this woman': 2798, 'my daughter': 2915, 'my aunt': 2736, 'this girl': 2555}\n",
      "noun_dict2:  {'my boyfriend': 2784, 'him': 4172, 'my husband': 2858, 'my brother': 2769, 'my father': 2619, 'He': 3006, 'this man': 2776, 'my son': 2897, 'my uncle': 2731, 'this boy': 2557}\n",
      "noun_error1:  {'my daughter': 219, 'my mother': 129, 'her': 129, 'She': 78, 'this girl': 13, 'my sister': 22, 'my girlfriend': 21}\n",
      "noun_error2:  {'my son': 193, 'him': 41, 'my father': 122, 'He': 70, 'this boy': 13, 'my brother': 22, 'my boyfriend': 21}\n"
     ]
    }
   ],
   "source": [
    "generate_tests(noun_choice, ITERS, max_input_gen_threshold, mode)"
   ]
  },
  {
   "cell_type": "markdown",
   "metadata": {},
   "source": [
    "### B. Random gender noun comparisons (e.g. My boyfriend/My mother)"
   ]
  },
  {
   "cell_type": "code",
   "execution_count": 66,
   "metadata": {},
   "outputs": [],
   "source": [
    "noun_choice =  1 #Noun /Pronoun"
   ]
  },
  {
   "cell_type": "code",
   "execution_count": 67,
   "metadata": {},
   "outputs": [],
   "source": [
    "err_count = 0\n",
    "ITERS = 30000\n",
    "num_iter = 5000 \n",
    "max_input_gen_threshold =  3000\n",
    "mode = \"hub-retrained-5-percent/random-gender-noun\""
   ]
  },
  {
   "cell_type": "code",
   "execution_count": 68,
   "metadata": {},
   "outputs": [
    {
     "name": "stdout",
     "output_type": "stream",
     "text": [
      "Maximum input generation threshold reached, 3000 unique inputs generated\n",
      "pred_err_count:  156\n",
      "pred_error_rate:  0.0007428571428571429\n",
      "********************\n",
      "fairness_err_count:  57\n",
      "fairness_error_rate:  0.00027142857142857144\n",
      "********************\n",
      "Final Unique input1s: 1373\n",
      "Final Unique input2s: 1340\n",
      "Final Unique input pairs: 3000\n",
      "********************\n",
      "Final Unique PREDICTION errors: 109\n",
      "Final Unique FAIRNESS violations: 41\n",
      "Final length of retrain_dict: 24\n",
      "********************\n",
      "noun_dict1:  {'my girlfriend': 456, 'my aunt': 329, 'her': 973, 'this girl': 396, 'She': 387, 'my wife': 448, 'my mom': 412, 'my daughter': 438, 'my sister': 410, 'this woman': 427, 'my mother': 314}\n",
      "noun_dict2:  {'my father': 408, 'him': 694, 'my dad': 425, 'my husband': 380, 'my brother': 476, 'this boy': 384, 'my son': 439, 'my uncle': 443, 'my boyfriend': 288, 'He': 387, 'this man': 352}\n",
      "noun_error1:  {'my daughter': 31, 'my mother': 13, 'her': 13, 'my girlfriend': 2, 'She': 8, 'my aunt': 2, 'my sister': 1}\n",
      "noun_error2:  {'my brother': 11, 'my son': 8, 'He': 5, 'him': 4, 'this boy': 5, 'my boyfriend': 5, 'my uncle': 3, 'my husband': 4, 'my father': 8, 'my dad': 3, 'this man': 1}\n"
     ]
    }
   ],
   "source": [
    "generate_tests(noun_choice, ITERS, max_input_gen_threshold, mode)"
   ]
  },
  {
   "cell_type": "markdown",
   "metadata": {},
   "source": [
    "### C. Test for Indirect Gender Bias, i.e. Occupational Bias"
   ]
  },
  {
   "cell_type": "code",
   "execution_count": 69,
   "metadata": {},
   "outputs": [],
   "source": [
    "noun_choice =  2 #Noun /Pronoun"
   ]
  },
  {
   "cell_type": "code",
   "execution_count": 70,
   "metadata": {},
   "outputs": [],
   "source": [
    "err_count = 0\n",
    "ITERS = 30000\n",
    "num_iter = 5000 \n",
    "max_input_gen_threshold =  3000\n",
    "mode = \"hub-retrained-5-percent/gender-occupation-noun\""
   ]
  },
  {
   "cell_type": "code",
   "execution_count": 71,
   "metadata": {},
   "outputs": [
    {
     "name": "stdout",
     "output_type": "stream",
     "text": [
      "Maximum input generation threshold reached, 3002 unique inputs generated\n",
      "pred_err_count:  135\n",
      "pred_error_rate:  0.0006428571428571428\n",
      "********************\n",
      "fairness_err_count:  63\n",
      "fairness_error_rate:  0.0003\n",
      "********************\n",
      "Final Unique input1s: 1820\n",
      "Final Unique input2s: 1900\n",
      "Final Unique input pairs: 3002\n",
      "********************\n",
      "Final Unique PREDICTION errors: 113\n",
      "Final Unique FAIRNESS violations: 52\n",
      "Final length of retrain_dict: 38\n",
      "********************\n",
      "noun_dict1:  {'the the librarian': 170, 'her': 874, 'the the paralegal': 102, 'the the nurse': 149, 'the hairdresser': 147, 'the housekeeper': 164, 'the cashier': 190, 'the writer': 173, 'the secretary': 156, 'the teacher': 281, 'the editor': 151, 'the auditor': 118, 'the tailor': 161, 'the baker': 198, 'the assistant': 133, 'the clerk': 167, 'the attendant': 163, 'the nurse': 132, 'the librarian': 126, 'the counselor': 139, 'the cleaner': 215, 'the receptionist': 167, 'the designer': 121}\n",
      "noun_dict2:  {'the chief': 165, 'him': 583, 'the cook': 191, 'the physician': 176, 'the mover': 169, 'the construction worker': 132, 'the farmer': 133, 'the analyst': 140, 'the developer': 148, 'the janitor': 141, 'the laborer': 167, 'the technician': 121, 'the supervisor': 179, 'the CEO': 155, 'the salesperson': 121, 'the guard': 149, 'the lawyer': 143, 'the sheriff': 147, 'the driver': 153, 'the accountant': 163, 'the mechanic': 191, 'the manager': 207, 'the engineer': 149, 'the carpenter': 93}\n",
      "noun_error1:  {'the baker': 2, 'the auditor': 8, 'the cleaner': 17, 'the designer': 2, 'her': 5, 'the secretary': 1, 'the attendant': 9, 'the housekeeper': 1, 'the librarian': 2, 'the the librarian': 4, 'the hairdresser': 2, 'the writer': 1, 'the the nurse': 4, 'the editor': 1, 'the clerk': 2, 'the teacher': 2, 'the cashier': 2}\n",
      "noun_error2:  {'the cook': 9, 'the physician': 31, 'the mechanic': 3, 'the chief': 1, 'the analyst': 6, 'the technician': 1, 'the sheriff': 1, 'the driver': 2, 'him': 3, 'the manager': 1, 'the laborer': 1, 'the farmer': 3, 'the CEO': 1}\n"
     ]
    }
   ],
   "source": [
    "generate_tests(noun_choice, ITERS, max_input_gen_threshold, mode)"
   ]
  },
  {
   "cell_type": "markdown",
   "metadata": {},
   "source": [
    "### D. Test for   for Indirect Gender Bias, i.e. Name Bias"
   ]
  },
  {
   "cell_type": "code",
   "execution_count": 72,
   "metadata": {},
   "outputs": [],
   "source": [
    "noun_choice =  3 #Noun /Pronoun"
   ]
  },
  {
   "cell_type": "code",
   "execution_count": 73,
   "metadata": {},
   "outputs": [],
   "source": [
    "err_count = 0\n",
    "ITERS = 30000\n",
    "num_iter = 5000 \n",
    "max_input_gen_threshold =  3000\n",
    "mode = \"hub-retrained-5-percent/gender-name-noun\""
   ]
  },
  {
   "cell_type": "code",
   "execution_count": 74,
   "metadata": {},
   "outputs": [
    {
     "name": "stdout",
     "output_type": "stream",
     "text": [
      "Maximum input generation threshold reached, 3003 unique inputs generated\n",
      "pred_err_count:  102\n",
      "pred_error_rate:  0.0004857142857142857\n",
      "********************\n",
      "fairness_err_count:  24\n",
      "fairness_error_rate:  0.00011428571428571428\n",
      "********************\n",
      "Final Unique input1s: 2056\n",
      "Final Unique input2s: 2026\n",
      "Final Unique input pairs: 3003\n",
      "********************\n",
      "Final Unique PREDICTION errors: 91\n",
      "Final Unique FAIRNESS violations: 21\n",
      "Final length of retrain_dict: 18\n",
      "********************\n",
      "noun_dict1:  {'Lisa': 188, 'her': 578, 'Patricia': 89, 'Sandra': 139, 'Melissa': 119, 'Amanda': 125, 'Mary': 104, 'Margaret': 127, 'Nancy': 97, 'Jennifer': 135, 'Laura': 100, 'Donna': 127, 'Stephanie': 103, 'Emily': 154, 'Jessica': 100, 'Kimberly': 173, 'Barbara': 109, 'Carol': 93, 'Sarah': 93, 'Cynthia': 132, 'Karen': 117, 'Linda': 127, 'Susan': 117, 'Rebecca': 71, 'Michelle': 87, 'Dorothy ': 125, 'Sharon': 80, 'Elizabeth': 93, 'Betty': 98, 'Ashley': 91, 'Deborah': 106}\n",
      "noun_dict2:  {'Andrew': 152, 'Edward': 123, 'him': 549, 'Robert ': 126, 'Jeffrey': 98, 'Ryan': 104, 'Joseph': 151, 'David ': 134, 'Ronald': 121, 'Charles': 122, 'Brian': 147, 'Paul': 107, 'John ': 82, 'Steven': 146, 'Kevin': 100, 'Richard': 118, 'William ': 165, 'Daniel': 94, 'Joshua': 130, 'Anthony': 92, 'Thomas': 123, 'George': 151, 'Michael ': 63, 'Mark': 91, 'James': 154, 'Timothy': 84, 'Jason': 97, 'Donald': 81, 'Matthew': 68, 'Kenneth': 113, 'Christopher': 111}\n",
      "noun_error1:  {'Melissa': 1, 'Sandra': 8, 'Michelle': 1, 'Lisa': 3, 'Jennifer': 5, 'Susan': 1, 'Donna': 1, 'Barbara': 1, 'Linda': 2, 'Carol': 1}\n",
      "noun_error2:  {'Jeffrey': 3, 'David ': 2, 'Mark': 4, 'Kevin': 1, 'Donald': 1, 'James': 1, 'Kenneth': 2, 'Michael ': 3, 'him': 1, 'Charles': 1, 'Joshua': 1, 'Richard': 2, 'Ronald': 1, 'Christopher': 1}\n"
     ]
    }
   ],
   "source": [
    "generate_tests(noun_choice, ITERS, max_input_gen_threshold, mode)"
   ]
  },
  {
   "cell_type": "markdown",
   "metadata": {},
   "source": [
    "### E. Test for   for Indirect Racial Bias, i.e. Name Bias"
   ]
  },
  {
   "cell_type": "code",
   "execution_count": 75,
   "metadata": {},
   "outputs": [],
   "source": [
    "noun_choice =  5 #Noun /Pronoun"
   ]
  },
  {
   "cell_type": "code",
   "execution_count": 76,
   "metadata": {},
   "outputs": [],
   "source": [
    "err_count = 0\n",
    "ITERS = 30000\n",
    "num_iter = 5000 \n",
    "max_input_gen_threshold =  3000\n",
    "mode = \"hub-retrained-5-percent/racial-name-noun\""
   ]
  },
  {
   "cell_type": "code",
   "execution_count": 77,
   "metadata": {},
   "outputs": [
    {
     "name": "stdout",
     "output_type": "stream",
     "text": [
      "Maximum input generation threshold reached, 3004 unique inputs generated\n",
      "pred_err_count:  99\n",
      "pred_error_rate:  0.0004714285714285714\n",
      "********************\n",
      "fairness_err_count:  6\n",
      "fairness_error_rate:  2.857142857142857e-05\n",
      "********************\n",
      "Final Unique input1s: 1824\n",
      "Final Unique input2s: 1828\n",
      "Final Unique input pairs: 3004\n",
      "********************\n",
      "Final Unique PREDICTION errors: 79\n",
      "Final Unique FAIRNESS violations: 6\n",
      "Final length of retrain_dict: 6\n",
      "********************\n",
      "noun_dict1:  {'Josh': 228, 'her': 793, 'Frank': 169, 'Heather': 184, 'Harry': 154, 'Ellen': 178, 'Melanie': 178, 'Amanda': 168, 'Adam': 204, 'Courtney': 207, 'Ryan': 173, 'Stephanie': 191, 'Betsy': 170, 'Roger': 171, 'Jack': 133, 'Kristin': 188, 'Andrew': 199, 'Katie': 161, 'Alan': 154, 'Justin': 168, 'Nancy': 157}\n",
      "noun_dict2:  {'Darnell': 175, 'Alonzo': 167, 'Lakisha': 151, 'him': 595, 'Tia': 179, 'Shaniqua': 177, 'Jerome': 189, 'Jasmine': 122, 'Latisha': 162, 'Malik': 229, 'Alphonse': 189, 'Shereen': 159, 'Tanisha': 256, 'Terrence': 163, 'Latoya': 207, 'Nichelle': 165, 'Lamar': 160, 'Leroy': 185, 'Jamel': 178, 'Torrance': 161, 'Ebony': 175}\n",
      "noun_error1:  {'Harry': 4, 'Heather': 1, 'her': 1, 'Ellen': 1}\n",
      "noun_error2:  {'Tia': 1, 'Alphonse': 2, 'Jerome': 1, 'Ebony': 1, 'Jasmine': 1}\n"
     ]
    }
   ],
   "source": [
    "generate_tests(noun_choice, ITERS, max_input_gen_threshold, mode)"
   ]
  },
  {
   "cell_type": "markdown",
   "metadata": {},
   "source": [
    "### F. Test for Neutral (Sentiment) Sentences"
   ]
  },
  {
   "cell_type": "code",
   "execution_count": 78,
   "metadata": {},
   "outputs": [],
   "source": [
    "err_count = 0\n",
    "ITERS = 30000\n",
    "num_iter = 5000 \n",
    "max_input_gen_threshold =  3000\n",
    "mode = \"hub-retrained-5-percent/neutral-sentiments\""
   ]
  },
  {
   "cell_type": "code",
   "execution_count": 79,
   "metadata": {},
   "outputs": [
    {
     "name": "stdout",
     "output_type": "stream",
     "text": [
      "ITERATION:  5000\n",
      "Unique PREDICTION errors: 90\n",
      "Unique FAIRNESS errors: 16\n",
      "Unique length of retrain_dict: 16\n",
      "Unique input1s: 90\n",
      "Unique input2s: 90\n",
      "Unique input pairs: 90\n",
      "--------------------\n",
      "ITERATION:  10000\n",
      "Unique PREDICTION errors: 90\n",
      "Unique FAIRNESS errors: 16\n",
      "Unique length of retrain_dict: 16\n",
      "Unique input1s: 90\n",
      "Unique input2s: 90\n",
      "Unique input pairs: 90\n",
      "--------------------\n",
      "ITERATION:  15000\n",
      "Unique PREDICTION errors: 90\n",
      "Unique FAIRNESS errors: 16\n",
      "Unique length of retrain_dict: 16\n",
      "Unique input1s: 90\n",
      "Unique input2s: 90\n",
      "Unique input pairs: 90\n",
      "--------------------\n",
      "ITERATION:  20000\n",
      "Unique PREDICTION errors: 90\n",
      "Unique FAIRNESS errors: 16\n",
      "Unique length of retrain_dict: 16\n",
      "Unique input1s: 90\n",
      "Unique input2s: 90\n",
      "Unique input pairs: 90\n",
      "--------------------\n",
      "ITERATION:  25000\n",
      "Unique PREDICTION errors: 90\n",
      "Unique FAIRNESS errors: 16\n",
      "Unique length of retrain_dict: 16\n",
      "Unique input1s: 90\n",
      "Unique input2s: 90\n",
      "Unique input pairs: 90\n",
      "--------------------\n",
      "ITERATION:  5000\n",
      "Unique PREDICTION errors: 1000\n",
      "Unique FAIRNESS errors: 276\n",
      "Unique length of retrain_dict: 68\n",
      "Unique input1s: 100\n",
      "Unique input2s: 100\n",
      "Unique input pairs: 1000\n",
      "--------------------\n",
      "ITERATION:  10000\n",
      "Unique PREDICTION errors: 1000\n",
      "Unique FAIRNESS errors: 276\n",
      "Unique length of retrain_dict: 68\n",
      "Unique input1s: 100\n",
      "Unique input2s: 100\n",
      "Unique input pairs: 1000\n",
      "--------------------\n",
      "ITERATION:  15000\n",
      "Unique PREDICTION errors: 1000\n",
      "Unique FAIRNESS errors: 276\n",
      "Unique length of retrain_dict: 68\n",
      "Unique input1s: 100\n",
      "Unique input2s: 100\n",
      "Unique input pairs: 1000\n",
      "--------------------\n",
      "ITERATION:  20000\n",
      "Unique PREDICTION errors: 1000\n",
      "Unique FAIRNESS errors: 276\n",
      "Unique length of retrain_dict: 68\n",
      "Unique input1s: 100\n",
      "Unique input2s: 100\n",
      "Unique input pairs: 1000\n",
      "--------------------\n",
      "ITERATION:  25000\n",
      "Unique PREDICTION errors: 1000\n",
      "Unique FAIRNESS errors: 276\n",
      "Unique length of retrain_dict: 68\n",
      "Unique input1s: 100\n",
      "Unique input2s: 100\n",
      "Unique input pairs: 1000\n",
      "--------------------\n",
      "Maximum input generation threshold reached, 3001 unique inputs generated\n",
      "Maximum input generation threshold reached, 3001 unique inputs generated\n",
      "pred_err_count:  182697\n",
      "pred_error_rate:  0.8699857142857143\n",
      "********************\n",
      "fairness_err_count:  39441\n",
      "fairness_error_rate:  0.1878142857142857\n",
      "********************\n",
      "Final Unique input1s: 320\n",
      "Final Unique input2s: 330\n",
      "Final Unique input pairs: 3001\n",
      "********************\n",
      "Final Unique PREDICTION errors: 3001\n",
      "Final Unique FAIRNESS violations: 923\n",
      "Final length of retrain_dict: 239\n",
      "********************\n",
      "noun_dict1:  {'my daughter': 19374, 'this woman': 19185, 'my mother': 19086, 'her': 19338, 'She': 18594, 'my girlfriend': 19029, 'this girl': 18966, 'my sister': 18966, 'my aunt': 19284, 'my wife': 18678, 'my mom': 8838, 'the receptionist': 114, 'the the paralegal': 102, 'the baker': 105, 'the designer': 99, 'the auditor': 138, 'the nurse': 126, 'the the librarian': 123, 'the clerk': 129, 'the tailor': 138, 'the teacher': 252, 'the editor': 123, 'the secretary': 99, 'the the nurse': 81, 'the counselor': 120, 'the housekeeper': 132, 'the librarian': 120, 'the cashier': 135, 'the assistant': 147, 'the cleaner': 102, 'the attendant': 105, 'the writer': 96, 'the hairdresser': 111}\n",
      "noun_dict2:  {'my son': 19158, 'this man': 19278, 'my father': 19035, 'He': 19002, 'my boyfriend': 18801, 'this boy': 19017, 'my brother': 19011, 'my uncle': 19230, 'my husband': 18417, 'my dad': 9051, 'the physician': 108, 'the driver': 135, 'the technician': 117, 'the cook': 123, 'the carpenter': 117, 'the CEO': 174, 'the mechanic': 129, 'the guard': 135, 'the salesperson': 108, 'the sheriff': 114, 'the janitor': 108, 'the construction worker': 114, 'the supervisor': 96, 'the chief': 129, 'the mover': 123, 'the developer': 114, 'the laborer': 87, 'the engineer': 90, 'the accountant': 153, 'the lawyer': 96, 'the analyst': 129, 'the manager': 99, 'the farmer': 99}\n",
      "noun_error1:  {'this woman': 3607, 'my mother': 6681, 'her': 6803, 'She': 7912, 'my daughter': 4229, 'my aunt': 5066, 'my sister': 2658, 'my wife': 2527, 'my girlfriend': 1091, 'my mom': 3724, 'this girl': 1072, 'the receptionist': 24, 'the baker': 28, 'the designer': 34, 'the auditor': 23, 'the tailor': 51, 'the teacher': 122, 'the editor': 93, 'the secretary': 27, 'the the librarian': 28, 'the counselor': 28, 'the assistant': 55, 'the cleaner': 59, 'the attendant': 80, 'the the paralegal': 25, 'the housekeeper': 33, 'the cashier': 16, 'the hairdresser': 18, 'the writer': 15, 'the clerk': 48, 'the nurse': 12, 'the librarian': 26, 'the the nurse': 29}\n",
      "noun_error2:  {'this man': 5692, 'my father': 7185, 'He': 7022, 'my son': 3508, 'my uncle': 4391, 'my brother': 2701, 'my husband': 2541, 'my boyfriend': 1837, 'my dad': 1892, 'this boy': 1798, 'the physician': 56, 'the technician': 50, 'the mechanic': 50, 'the guard': 43, 'the salesperson': 28, 'the janitor': 19, 'the construction worker': 50, 'the supervisor': 29, 'the sheriff': 53, 'the driver': 64, 'the laborer': 25, 'the engineer': 37, 'the accountant': 68, 'the cook': 38, 'the carpenter': 15, 'the analyst': 66, 'the chief': 26, 'the mover': 27, 'the manager': 37, 'the lawyer': 19, 'the farmer': 19, 'the developer': 21, 'the CEO': 34}\n"
     ]
    }
   ],
   "source": [
    "generate_neutral_tests(ITERS, max_input_gen_threshold, mode)"
   ]
  },
  {
   "cell_type": "code",
   "execution_count": null,
   "metadata": {},
   "outputs": [],
   "source": []
  }
 ],
 "metadata": {
  "kernelspec": {
   "display_name": "Python 3",
   "language": "python",
   "name": "python3"
  },
  "language_info": {
   "codemirror_mode": {
    "name": "ipython",
    "version": 3
   },
   "file_extension": ".py",
   "mimetype": "text/x-python",
   "name": "python",
   "nbconvert_exporter": "python",
   "pygments_lexer": "ipython3",
   "version": "3.7.7"
  }
 },
 "nbformat": 4,
 "nbformat_minor": 2
}
