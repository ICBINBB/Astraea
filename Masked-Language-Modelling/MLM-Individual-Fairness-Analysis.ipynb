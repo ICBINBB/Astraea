{
 "cells": [
  {
   "cell_type": "code",
   "execution_count": 81,
   "metadata": {},
   "outputs": [],
   "source": [
    "import pickle"
   ]
  },
  {
   "cell_type": "code",
   "execution_count": 82,
   "metadata": {},
   "outputs": [],
   "source": [
    "model_type = \"bert-base-cased\"\n",
    "# model_type = \"bert-base-uncased\"\n",
    "# model_type = \"distilbert-base-uncased\"\n",
    "# model_type = \"distilbert-base-cased\"\n",
    "# model_type = \"albert-base-v2\"\n",
    "# model_type = \"roberta-base\""
   ]
  },
  {
   "cell_type": "code",
   "execution_count": 83,
   "metadata": {},
   "outputs": [],
   "source": [
    "sub_folder = \"Exploration\"\n",
    "# sub_folder = \"Exploitation\"\n"
   ]
  },
  {
   "cell_type": "code",
   "execution_count": 84,
   "metadata": {},
   "outputs": [],
   "source": [
    "with open('saved_pickles/'+ sub_folder +'/unique_input1_set-'+ model_type + '-' + str(THRESHOLD) +'.pickle', 'rb') as handle:\n",
    "    unique_input1_set = pickle.load(handle)\n",
    "    \n",
    "with open('saved_pickles/'+ sub_folder +'/unique_input1_error_set-'+ model_type + '-' + str(THRESHOLD) +'.pickle', 'rb') as handle:\n",
    "    unique_input1_error_set = pickle.load(handle)\n",
    "\n",
    "with open('saved_pickles/'+ sub_folder +'/occupation_pair_error-'+ model_type + '-' + str(THRESHOLD) +'.pickle', 'rb') as handle:\n",
    "    occupation_pair_error = pickle.load(handle)\n",
    "    \n",
    "with open('saved_pickles/'+ sub_folder +'/occupation1_error-'+ model_type + '-' + str(THRESHOLD) +'.pickle', 'rb') as handle:\n",
    "    occupation1_error = pickle.load(handle)\n",
    "    \n",
    "with open('saved_pickles/'+ sub_folder +'/occupation2_error-'+ model_type + '-' + str(THRESHOLD) +'.pickle', 'rb') as handle:\n",
    "    occupation2_error = pickle.load(handle)  \n",
    "    \n",
    "with open('saved_pickles/'+ sub_folder +'/verb_error-'+ model_type + '-' + str(THRESHOLD) +'.pickle', 'rb') as handle:\n",
    "    verb_error = pickle.load(handle)    \n",
    "    \n",
    "with open('saved_pickles/'+ sub_folder +'/action_error-'+ model_type + '-' + str(THRESHOLD) +'.pickle', 'rb') as handle:\n",
    "    action_error = pickle.load(handle)\n",
    "    \n",
    "with open('saved_pickles/'+ sub_folder +'/occupation_pair_count-'+ model_type + '-' + str(THRESHOLD) +'.pickle', 'rb') as handle:\n",
    "    occupation_pair_count = pickle.load(handle)\n",
    "    \n",
    "with open('saved_pickles/'+ sub_folder +'/occupation1_count-'+ model_type + '-' + str(THRESHOLD) +'.pickle', 'rb') as handle:\n",
    "    occupation1_count = pickle.load(handle)\n",
    "    \n",
    "with open('saved_pickles/'+ sub_folder +'/occupation2_count-'+ model_type + '-' + str(THRESHOLD) +'.pickle', 'rb') as handle:\n",
    "    occupation2_count = pickle.load(handle)  \n",
    "    \n",
    "with open('saved_pickles/'+ sub_folder +'/verb_count-'+ model_type + '-' + str(THRESHOLD) +'.pickle', 'rb') as handle:\n",
    "    verb_count = pickle.load(handle)    \n",
    "    \n",
    "with open('saved_pickles/'+ sub_folder +'/action_count-'+ model_type + '-' + str(THRESHOLD) +'.pickle', 'rb') as handle:\n",
    "    action_count = pickle.load(handle)"
   ]
  },
  {
   "cell_type": "code",
   "execution_count": 85,
   "metadata": {},
   "outputs": [
    {
     "name": "stdout",
     "output_type": "stream",
     "text": [
      "22\n",
      "21\n",
      "16\n",
      "12\n",
      "\n",
      "Exploration bert-base-cased\n",
      "Terminal Symbol test adequacy 71\n",
      "Terminal Symbol cover adequacy 462\n"
     ]
    }
   ],
   "source": [
    "occupation1_count_len = (len(set(occupation1_count)))\n",
    "occupation2_count_len = (len(set(occupation2_count)))\n",
    "verb_count_len = (len(set(verb_count)))\n",
    "action_count_len = (len(set(action_count)))\n",
    "\n",
    "print(occupation1_count_len)\n",
    "print(occupation2_count_len)\n",
    "print(verb_count_len)\n",
    "print(action_count_len)\n",
    "print()\n",
    "print(sub_folder, model_type)\n",
    "print(f\"Terminal Symbol test adequacy {occupation1_count_len + occupation2_count_len + verb_count_len + action_count_len}\")\n",
    "print(f\"Terminal Symbol cover adequacy {len(set(occupation_pair_count))}\")\n",
    "\n",
    "# mod_occupation_pair_count = modify_equivalent_keys(occupation_pair_count)\n",
    "# print(len(set(mod_occupation_pair_count)))"
   ]
  },
  {
   "cell_type": "code",
   "execution_count": 86,
   "metadata": {},
   "outputs": [],
   "source": [
    "sub_folder = \"Exploitation\"\n",
    "with open('saved_pickles/'+ sub_folder +'/unique_input1_set-'+ model_type + '-' + str(THRESHOLD) +'.pickle', 'rb') as handle:\n",
    "    unique_input1_set = pickle.load(handle)\n",
    "    \n",
    "with open('saved_pickles/'+ sub_folder +'/unique_input1_error_set-'+ model_type + '-' + str(THRESHOLD) +'.pickle', 'rb') as handle:\n",
    "    unique_input1_error_set = pickle.load(handle)\n",
    "\n",
    "with open('saved_pickles/'+ sub_folder +'/occupation_pair_error-'+ model_type + '-' + str(THRESHOLD) +'.pickle', 'rb') as handle:\n",
    "    occupation_pair_error = pickle.load(handle)\n",
    "    \n",
    "with open('saved_pickles/'+ sub_folder +'/occupation1_error-'+ model_type + '-' + str(THRESHOLD) +'.pickle', 'rb') as handle:\n",
    "    occupation1_error = pickle.load(handle)\n",
    "    \n",
    "with open('saved_pickles/'+ sub_folder +'/occupation2_error-'+ model_type + '-' + str(THRESHOLD) +'.pickle', 'rb') as handle:\n",
    "    occupation2_error = pickle.load(handle)  \n",
    "    \n",
    "with open('saved_pickles/'+ sub_folder +'/verb_error-'+ model_type + '-' + str(THRESHOLD) +'.pickle', 'rb') as handle:\n",
    "    verb_error = pickle.load(handle)    \n",
    "    \n",
    "with open('saved_pickles/'+ sub_folder +'/action_error-'+ model_type + '-' + str(THRESHOLD) +'.pickle', 'rb') as handle:\n",
    "    action_error = pickle.load(handle)\n",
    "    \n",
    "with open('saved_pickles/'+ sub_folder +'/occupation_pair_count-'+ model_type + '-' + str(THRESHOLD) +'.pickle', 'rb') as handle:\n",
    "    occupation_pair_count = pickle.load(handle)\n",
    "    \n",
    "with open('saved_pickles/'+ sub_folder +'/occupation1_count-'+ model_type + '-' + str(THRESHOLD) +'.pickle', 'rb') as handle:\n",
    "    occupation1_count = pickle.load(handle)\n",
    "    \n",
    "with open('saved_pickles/'+ sub_folder +'/occupation2_count-'+ model_type + '-' + str(THRESHOLD) +'.pickle', 'rb') as handle:\n",
    "    occupation2_count = pickle.load(handle)  \n",
    "    \n",
    "with open('saved_pickles/'+ sub_folder +'/verb_count-'+ model_type + '-' + str(THRESHOLD) +'.pickle', 'rb') as handle:\n",
    "    verb_count = pickle.load(handle)    \n",
    "    \n",
    "with open('saved_pickles/'+ sub_folder +'/action_count-'+ model_type + '-' + str(THRESHOLD) +'.pickle', 'rb') as handle:\n",
    "    action_count = pickle.load(handle)"
   ]
  },
  {
   "cell_type": "code",
   "execution_count": 87,
   "metadata": {},
   "outputs": [
    {
     "name": "stdout",
     "output_type": "stream",
     "text": [
      "22\n",
      "21\n",
      "16\n",
      "12\n",
      "\n",
      "Exploitation bert-base-cased\n",
      "Terminal Symbol test adequacy 71\n",
      "Terminal Symbol cover adequacy 395\n"
     ]
    }
   ],
   "source": [
    "occupation1_count_len = (len(set(occupation1_count)))\n",
    "occupation2_count_len = (len(set(occupation2_count)))\n",
    "verb_count_len = (len(set(verb_count)))\n",
    "action_count_len = (len(set(action_count)))\n",
    "\n",
    "print(occupation1_count_len)\n",
    "print(occupation2_count_len)\n",
    "print(verb_count_len)\n",
    "print(action_count_len)\n",
    "print()\n",
    "print(sub_folder, model_type)\n",
    "print(f\"Terminal Symbol test adequacy {occupation1_count_len + occupation2_count_len + verb_count_len + action_count_len}\")\n",
    "print(f\"Terminal Symbol cover adequacy {len(set(occupation_pair_count))}\")\n",
    "\n",
    "# mod_occupation_pair_count = modify_equivalent_keys(occupation_pair_count)\n",
    "# print(len(set(mod_occupation_pair_count)))"
   ]
  },
  {
   "cell_type": "code",
   "execution_count": null,
   "metadata": {},
   "outputs": [],
   "source": []
  }
 ],
 "metadata": {
  "kernelspec": {
   "display_name": "Python 3",
   "language": "python",
   "name": "python3"
  },
  "language_info": {
   "codemirror_mode": {
    "name": "ipython",
    "version": 3
   },
   "file_extension": ".py",
   "mimetype": "text/x-python",
   "name": "python",
   "nbconvert_exporter": "python",
   "pygments_lexer": "ipython3",
   "version": "3.7.3"
  }
 },
 "nbformat": 4,
 "nbformat_minor": 4
}
