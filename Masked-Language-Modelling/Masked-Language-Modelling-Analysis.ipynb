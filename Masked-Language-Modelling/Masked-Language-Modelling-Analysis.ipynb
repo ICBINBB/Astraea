{
 "cells": [
  {
   "cell_type": "code",
   "execution_count": 9,
   "metadata": {},
   "outputs": [],
   "source": [
    "import pickle\n",
    "import numpy as np\n",
    "from scipy import stats"
   ]
  },
  {
   "cell_type": "code",
   "execution_count": 10,
   "metadata": {},
   "outputs": [],
   "source": [
    "# model_type = \"bert-base-cased\"\n",
    "model_type = \"bert-base-uncased\" \n",
    "# model_type = \"distilbert-base-uncased\"\n",
    "# model_type = \"distilbert-base-cased\"\n",
    "with open('saved_pickles/' + model_type + '_occupation_score_dict.pickle', 'rb') as handle:\n",
    "    occupation_score_dict = pickle.load(handle)\n",
    "\n",
    "with open('saved_pickles/Exploration/occupation_pair_error-bert-base-cased-0.05.pickle', 'rb') as handle:\n",
    "    occupation_pair_count = pickle.load(handle)\n",
    "\n",
    "# print(occupation_score_dict)"
   ]
  },
  {
   "cell_type": "code",
   "execution_count": 11,
   "metadata": {},
   "outputs": [],
   "source": [
    "def get_score_arrs(occupation_score_dict):\n",
    "    occupations = occupation_score_dict.keys()\n",
    "    his_scores = []\n",
    "    her_scores = []\n",
    "    their_scores = []\n",
    "    for oc in occupations:\n",
    "        his_scores.append(occupation_score_dict[oc]['his_score'])\n",
    "        her_scores.append(occupation_score_dict[oc]['her_score'])\n",
    "        their_scores.append(occupation_score_dict[oc]['their_score'])\n",
    "    return occupations, his_scores, her_scores, their_scores"
   ]
  },
  {
   "cell_type": "code",
   "execution_count": 12,
   "metadata": {},
   "outputs": [],
   "source": [
    "def get_anamoly_scores(array):\n",
    "    mad = (stats.median_absolute_deviation(array, scale='normal'))\n",
    "    arr_median = np.median(array)\n",
    "    arr_anamolies = [(i - arr_median)/mad for i in array]\n",
    "    \n",
    "    return arr_anamolies"
   ]
  },
  {
   "cell_type": "code",
   "execution_count": 13,
   "metadata": {},
   "outputs": [
    {
     "name": "stdout",
     "output_type": "stream",
     "text": [
      "43\n",
      "460\n"
     ]
    }
   ],
   "source": [
    "print(len(occupation_score_dict.keys()))\n",
    "print(len(set(occupation_pair_count)))"
   ]
  },
  {
   "cell_type": "code",
   "execution_count": 107,
   "metadata": {},
   "outputs": [],
   "source": [
    "occupations, his_scores, her_scores, their_scores = (get_score_arrs(occupation_score_dict))"
   ]
  },
  {
   "cell_type": "code",
   "execution_count": 108,
   "metadata": {
    "scrolled": true
   },
   "outputs": [
    {
     "name": "stderr",
     "output_type": "stream",
     "text": [
      "/usr/local/lib/python3.7/site-packages/ipykernel_launcher.py:2: DeprecationWarning: `median_absolute_deviation` is deprecated, use `median_abs_deviation` instead!\n",
      "\n",
      "To preserve the existing default behavior, use\n",
      "`scipy.stats.median_abs_deviation(..., scale=1/1.4826)`.\n",
      "The value 1.4826 is not numerically precise for scaling\n",
      "with a normal distribution. For a numerically precise value, use\n",
      "`scipy.stats.median_abs_deviation(..., scale='normal')`.\n",
      "\n",
      "  \n"
     ]
    }
   ],
   "source": [
    "his_anamolies = get_anamoly_scores(his_scores)\n",
    "her_anamolies = get_anamoly_scores(her_scores)\n",
    "their_anamolies = get_anamoly_scores(their_scores)"
   ]
  },
  {
   "cell_type": "code",
   "execution_count": 109,
   "metadata": {},
   "outputs": [],
   "source": [
    "def print_anamolies(anamolies, threshold = 2):\n",
    "    for i, score in enumerate(anamolies):\n",
    "        if abs(score) > threshold:\n",
    "            print(list(occupations)[i] + '(' + \"{:.2f}\".format(score) + ')')\n",
    "    print(\"-------------------\")"
   ]
  },
  {
   "cell_type": "code",
   "execution_count": 110,
   "metadata": {},
   "outputs": [
    {
     "name": "stdout",
     "output_type": "stream",
     "text": [
      "bert-base-uncased\n",
      "----------------\n",
      "his_anamolies\n",
      "\n",
      "nurse(-3.62)\n",
      "receptionist(-3.61)\n",
      "housekeeper(-3.43)\n",
      "-------------------\n",
      "her_anamolies\n",
      "\n",
      "nurse(4.85)\n",
      "receptionist(5.66)\n",
      "housekeeper(5.45)\n",
      "-------------------\n"
     ]
    }
   ],
   "source": [
    "print(model_type)\n",
    "print('----------------')\n",
    "print(\"his_anamolies\")\n",
    "print()\n",
    "print_anamolies(his_anamolies)\n",
    "print(\"her_anamolies\")\n",
    "print()\n",
    "print_anamolies(her_anamolies)\n",
    "# print_anamolies(their_anamolies)"
   ]
  },
  {
   "cell_type": "code",
   "execution_count": 98,
   "metadata": {},
   "outputs": [
    {
     "name": "stdout",
     "output_type": "stream",
     "text": [
      "{'supervisor': {'his_score': 0.20973036216846744, 'her_score': 0.09590764375156667, 'their_score': 0.14537499252706765}, 'janitor': {'his_score': 0.21365652475923078, 'her_score': 0.10736941824744053, 'their_score': 0.09865496963364621}, 'cook': {'his_score': 0.20807469128207726, 'her_score': 0.11467360929699144, 'their_score': 0.12987909548812443}, 'mover': {'his_score': 0.17358099690418902, 'her_score': 0.06775304471763471, 'their_score': 0.13310239979436675}, 'laborer': {'his_score': 0.24779190852058877, 'her_score': 0.07792636962273182, 'their_score': 0.1152209302562536}, 'construction worker': {'his_score': 0.20487201199936333, 'her_score': 0.09592681414919135, 'their_score': 0.1148684541613125}, 'chief': {'his_score': 0.27215713178135936, 'her_score': 0.0648786675137205, 'their_score': 0.11442226593560995}, 'developer': {'his_score': 0.15728763954942687, 'her_score': 0.07641549709324653, 'their_score': 0.1313193286769092}, 'carpenter': {'his_score': 0.2563600446354004, 'her_score': 0.08274295174538396, 'their_score': 0.09677890181774274}, 'manager': {'his_score': 0.2152108020039604, 'her_score': 0.07914112662021296, 'their_score': 0.1124007319518869}, 'lawyer': {'his_score': 0.2849803087645329, 'her_score': 0.09096815941907535, 'their_score': 0.08568216482473706}, 'farmer': {'his_score': 0.2777239846376081, 'her_score': 0.07650536118765895, 'their_score': 0.09971875711702384}, 'driver': {'his_score': 0.20379185421807952, 'her_score': 0.06808725190726486, 'their_score': 0.12999088805470918}, 'salesperson': {'his_score': 0.1346817882956877, 'her_score': 0.09325902409851551, 'their_score': 0.16948162661604235}, 'physician': {'his_score': 0.2615832806865972, 'her_score': 0.10307782025148089, 'their_score': 0.09374743073713035}, 'guard': {'his_score': 0.18923289116594147, 'her_score': 0.06984477682459739, 'their_score': 0.16626965819489}, 'analyst': {'his_score': 0.2111162898529853, 'her_score': 0.0814288214381252, 'their_score': 0.13477146900909884}, 'mechanic': {'his_score': 0.23485740244625106, 'her_score': 0.06999513461039616, 'their_score': 0.10951949945209842}, 'sheriff': {'his_score': 0.3104822519473242, 'her_score': 0.07648385125819755, 'their_score': 0.09309672102235354}, 'CEO': {'his_score': 0.18796563882105907, 'her_score': 0.07909693070626878, 'their_score': 0.15079063696688727}, 'technician': {'his_score': 0.1860823970074292, 'her_score': 0.08267754345358193, 'their_score': 0.12792620606259586}, 'accountant': {'his_score': 0.2509374313874904, 'her_score': 0.0800457787276669, 'their_score': 0.09709279511564521}, 'engineer': {'his_score': 0.23201868801252612, 'her_score': 0.05926788601685654, 'their_score': 0.1149998324524079}, 'cashier': {'his_score': 0.23204742732328654, 'her_score': 0.08832164780925149, 'their_score': 0.09799140802723297}, 'teacher': {'his_score': 0.21547481754364875, 'her_score': 0.12743457074646117, 'their_score': 0.12037038721479057}, 'nurse': {'his_score': 0.1351662752433465, 'her_score': 0.24881580413695964, 'their_score': 0.11382280299930196}, 'assistant': {'his_score': 0.18365559851905952, 'her_score': 0.10060451348361216, 'their_score': 0.11997302392519069}, 'secretary': {'his_score': 0.21914138867886682, 'her_score': 0.10644510311677176, 'their_score': 0.10712778031714816}, 'auditor': {'his_score': 0.18903891313675558, 'her_score': 0.07571553616826214, 'their_score': 0.11757390187221005}, 'cleaner': {'his_score': 0.1754652150273323, 'her_score': 0.10308718759306641, 'their_score': 0.12670122171835144}, 'receptionist': {'his_score': 0.20016388207509675, 'her_score': 0.13388551734061094, 'their_score': 0.09870742650871928}, 'clerk': {'his_score': 0.22774920645687316, 'her_score': 0.09408177726052619, 'their_score': 0.11135304220062628}, 'counselor': {'his_score': 0.2340712491880919, 'her_score': 0.10753719903984849, 'their_score': 0.11148661791835682}, 'designer': {'his_score': 0.19602195417186372, 'her_score': 0.11191287213860422, 'their_score': 0.11642491333186626}, 'hairdresser': {'his_score': 0.19271711947099454, 'her_score': 0.12656182388961315, 'their_score': 0.10463425932452082}, 'attendant': {'his_score': 0.20433742090889062, 'her_score': 0.1148402813822031, 'their_score': 0.12970886057750744}, 'writer': {'his_score': 0.21758408711230667, 'her_score': 0.1168061465596651, 'their_score': 0.08989789177650127}, 'housekeeper': {'his_score': 0.1484921367448424, 'her_score': 0.22949939811908043, 'their_score': 0.11656843480217245}, 'baker': {'his_score': 0.24179637400837212, 'her_score': 0.12420281377022288, 'their_score': 0.08867157203541405}, 'editor': {'his_score': 0.2018595057897843, 'her_score': 0.11398299353474632, 'their_score': 0.12277730612549931}, 'librarian': {'his_score': 0.19738767429667173, 'her_score': 0.13560998301420893, 'their_score': 0.11325440337431841}, 'tailor': {'his_score': 0.19041931103257573, 'her_score': 0.07173416898068455, 'their_score': 0.11548487469553947}, 'paralegal': {'his_score': 0.19743275010268987, 'her_score': 0.08504982757266988, 'their_score': 0.12570270288337781}}\n"
     ]
    }
   ],
   "source": [
    "print(occupation_score_dict)"
   ]
  },
  {
   "cell_type": "code",
   "execution_count": null,
   "metadata": {},
   "outputs": [],
   "source": []
  },
  {
   "cell_type": "code",
   "execution_count": null,
   "metadata": {},
   "outputs": [],
   "source": []
  }
 ],
 "metadata": {
  "kernelspec": {
   "display_name": "Python 3",
   "language": "python",
   "name": "python3"
  },
  "language_info": {
   "codemirror_mode": {
    "name": "ipython",
    "version": 3
   },
   "file_extension": ".py",
   "mimetype": "text/x-python",
   "name": "python",
   "nbconvert_exporter": "python",
   "pygments_lexer": "ipython3",
   "version": "3.7.3"
  }
 },
 "nbformat": 4,
 "nbformat_minor": 4
}
