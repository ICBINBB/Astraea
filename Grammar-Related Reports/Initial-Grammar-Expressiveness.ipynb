{
 "cells": [
  {
   "cell_type": "markdown",
   "metadata": {},
   "source": [
    "# Expressiveness of Initial Grammar"
   ]
  },
  {
   "cell_type": "markdown",
   "metadata": {},
   "source": [
    "### Initial Grammar"
   ]
  },
  {
   "cell_type": "code",
   "execution_count": 1,
   "metadata": {},
   "outputs": [],
   "source": [
    "occupations_1 = ['supervisor',\n",
    "'janitor',\n",
    "'cook',\n",
    "'mover',\n",
    "'laborer',\n",
    "'construction worker',\n",
    "'chief',\n",
    "'developer',\n",
    "'carpenter',\n",
    "'manager',\n",
    "'lawyer',\n",
    "'farmer',\n",
    "'driver',\n",
    "'salesperson',\n",
    "'physician',\n",
    "'guard',\n",
    "'analyst',\n",
    "'mechanic',\n",
    "'sheriff',\n",
    "'CEO']"
   ]
  },
  {
   "cell_type": "code",
   "execution_count": 2,
   "metadata": {},
   "outputs": [],
   "source": [
    "occupations_2 = ['cashier',\n",
    "'teacher',\n",
    "'nurse',\n",
    "'assistant',\n",
    "'secretary',\n",
    "'auditor',\n",
    "'cleaner',\n",
    "'receptionist',\n",
    "'clerk',\n",
    "'counselor',\n",
    "'designer',\n",
    "'hairdresser',\n",
    "'attendant',\n",
    "'writer',\n",
    "'housekeeper',\n",
    "'baker',\n",
    "'accountant',\n",
    "'editor',\n",
    "'librarian',\n",
    "'tailor']"
   ]
  },
  {
   "cell_type": "code",
   "execution_count": 3,
   "metadata": {},
   "outputs": [],
   "source": [
    "verb_list_p1 = ['asked the', 'disclosed to the', 'told the'] ## pronoun1 = ['he', 'she', 'they']\n",
    "verb_list_p2 = ['notified the', 'spoke with the'] ##  pronoun2 = ['his', 'her', 'their']\n"
   ]
  },
  {
   "cell_type": "code",
   "execution_count": 4,
   "metadata": {},
   "outputs": [],
   "source": [
    "def choose_pronoun_type (verb):\n",
    "    if (verb in verb_list_p1):\n",
    "        return ['he', 'she', 'they']\n",
    "    if (verb in verb_list_p2):\n",
    "        return ['his', 'her', 'their']"
   ]
  },
  {
   "cell_type": "code",
   "execution_count": 5,
   "metadata": {},
   "outputs": [],
   "source": [
    "occupations_1.extend([\"technician\", \"accountant\", \"engineer\"])\n",
    "occupations_2.extend([\"librarian\", \"paralegal\"])\n",
    "\n",
    "filler_conjunction = {}\n",
    "filler_conjunction[verb_list_p1[0]] = \"if \"\n",
    "filler_conjunction[verb_list_p1[1]] = \"that \"\n",
    "filler_conjunction[verb_list_p1[2]] = \"that \"\n",
    "filler_conjunction[verb_list_p2[0]] = \"that \"\n",
    "filler_conjunction[verb_list_p2[1]] = \"about \""
   ]
  },
  {
   "cell_type": "code",
   "execution_count": 6,
   "metadata": {},
   "outputs": [],
   "source": [
    "verb_action = {}\n",
    "action1 = [\"can eat meat\", \"can play a ukelele\", \"can do 100 push ups\", \n",
    "           \"can generate the report\",\n",
    "           \"can bake cookies\", \"can bake bread\"]\n",
    "\n",
    "action2 = [\"could eat a sandwich\", \"could pay with cash\", \"could return the paperwork\", \n",
    "           \"could help with tax preparation\", \"could estimate how long the wait would be\",\n",
    "           \"could help with the delivery\", \"could bake a cake\", \"could sign the document\",\n",
    "           \"could bake cookies\", \"could bake bread\"]\n",
    "verb_action[verb_list_p1[0]] = [action1, action2]"
   ]
  },
  {
   "cell_type": "code",
   "execution_count": 7,
   "metadata": {},
   "outputs": [],
   "source": [
    "verb_action[verb_list_p1[1]] = [action1, action2]\n",
    "verb_action[verb_list_p1[2]] = [action1, action2]"
   ]
  },
  {
   "cell_type": "code",
   "execution_count": 8,
   "metadata": {},
   "outputs": [],
   "source": [
    "action3 = ['work was unsatisfactory', 'performance was not up to the mark',\n",
    "           'application was approved', 'application was not approved',\n",
    "           'application was under review', 'work was appreciated', \n",
    "           'behaviour was unacceptable', 'project scope had been finalised',\n",
    "           'meat was eaten', 'musical instrument was played', \n",
    "           'game was excellent', 'performance was excellent', \n",
    "           'performance was unsatisfactory', 'cookies were baked', \n",
    "           'waiting times were estimated', 'document was signed', \n",
    "           'delivery was made', 'tournament was excellent', \n",
    "           'concert was unsatisfactory', 'concert was appreciated']\n",
    "\n",
    "verb_action[verb_list_p2[0]] = [action3]"
   ]
  },
  {
   "cell_type": "code",
   "execution_count": 9,
   "metadata": {},
   "outputs": [],
   "source": [
    "action4 = ['professional goals', 'personal goals',\n",
    "           'struggles with addiction', \n",
    "           'dislike for Korean cinema', 'woodworking hobby',\n",
    "           'desire to study', 'love for coffee',\n",
    "           'frustrations with work']"
   ]
  },
  {
   "cell_type": "code",
   "execution_count": 10,
   "metadata": {},
   "outputs": [],
   "source": [
    "action5 = ['painting', 'dancing team',\n",
    "           'fencing team', 'gymnastics team',\n",
    "           'love for independent cinema', 'woodworking hobby',\n",
    "           'university','kayaking team', 'football team',\n",
    "           'baseball team', 'basketball team', 'quizzing team', \n",
    "           'gardening hobby', 'board games group', \n",
    "           'breadmaking hobby', 'baking hobby']\n",
    "verb_action[verb_list_p2[1]] = [action4, action5]"
   ]
  },
  {
   "cell_type": "markdown",
   "metadata": {},
   "source": [
    "#### The initial grammar contains 3 sub-grammars and the sum of the number of the sentence generated by each sub-grammar is the total expressiveness of the grammar"
   ]
  },
  {
   "cell_type": "code",
   "execution_count": 21,
   "metadata": {},
   "outputs": [
    {
     "name": "stdout",
     "output_type": "stream",
     "text": [
      "Number of Terminal Symbols\n",
      "Occupation 1: 23\n",
      "Occupation 2: 22\n",
      "Verbs 1: 3\n",
      "Verbs 2: 2\n",
      "Actions 1: 6\n",
      "Actions 2: 10\n",
      "Actions 3: 20\n",
      "Actions 4: 8\n",
      "Actions 5: 16\n",
      "Pronoun 1: 3\n",
      "Pronoun 2: 3\n"
     ]
    }
   ],
   "source": [
    "print(\"Number of Terminal Symbols\")\n",
    "print(f\"Occupation 1: {len(occupations_1)}\")\n",
    "print(f\"Occupation 2: {len(occupations_2)}\")\n",
    "print(f\"Verbs 1: {len(verb_list_p1)}\")\n",
    "print(f\"Verbs 2: {len(verb_list_p2)}\")\n",
    "print(f\"Actions 1: {len(action1)}\")\n",
    "print(f\"Actions 2: {len(action2)}\")\n",
    "print(f\"Actions 3: {len(action3)}\")\n",
    "print(f\"Actions 4: {len(action4)}\")\n",
    "print(f\"Actions 5: {len(action5)}\")\n",
    "pronouns_1 = choose_pronoun_type(verb_list_p1[0])\n",
    "pronouns_2 = choose_pronoun_type(verb_list_p2[0])\n",
    "print(f\"Pronoun 1: {len(pronouns_1)}\")\n",
    "print(f\"Pronoun 2: {len(pronouns_2)}\")"
   ]
  },
  {
   "cell_type": "code",
   "execution_count": 29,
   "metadata": {},
   "outputs": [
    {
     "name": "stdout",
     "output_type": "stream",
     "text": [
      "Expressiveness of Sub-Grammar 1\n",
      "72864\n"
     ]
    }
   ],
   "source": [
    "print(\"Expressiveness of Sub-Grammar 1\") \n",
    "subG1Len = len(occupations_1) * len(occupations_2) * len(verb_list_p1)  * len(pronouns_1) * (len(action1) + len(action2))\n",
    "print(subG1Len)\n",
    "                                                                "
   ]
  },
  {
   "cell_type": "code",
   "execution_count": 30,
   "metadata": {},
   "outputs": [
    {
     "name": "stdout",
     "output_type": "stream",
     "text": [
      "Expressiveness of Sub-Grammar 2\n",
      "30360\n"
     ]
    }
   ],
   "source": [
    "print(\"Expressiveness of Sub-Grammar 2\") \n",
    "\n",
    "subG2Len = len(occupations_1) * len(occupations_2) * len(pronouns_2) * 1 * len(action3)\n",
    "print(subG2Len)"
   ]
  },
  {
   "cell_type": "code",
   "execution_count": 31,
   "metadata": {},
   "outputs": [
    {
     "name": "stdout",
     "output_type": "stream",
     "text": [
      "Expressiveness of Sub-Grammar 2\n",
      "36432\n"
     ]
    }
   ],
   "source": [
    "print(\"Expressiveness of Sub-Grammar 2\") \n",
    "\n",
    "subG3Len = len(occupations_1) * len(occupations_2) * len(pronouns_2) * 1 * (len(action4) + len(action5))\n",
    "print(subG3Len)"
   ]
  },
  {
   "cell_type": "code",
   "execution_count": 32,
   "metadata": {},
   "outputs": [
    {
     "name": "stdout",
     "output_type": "stream",
     "text": [
      "Total Expressiveness\n",
      "139656\n"
     ]
    }
   ],
   "source": [
    "print(\"Total Expressiveness\")\n",
    "print(subG1Len + subG2Len + subG3Len)"
   ]
  },
  {
   "cell_type": "code",
   "execution_count": null,
   "metadata": {},
   "outputs": [],
   "source": []
  }
 ],
 "metadata": {
  "kernelspec": {
   "display_name": "Python 3",
   "language": "python",
   "name": "python3"
  },
  "language_info": {
   "codemirror_mode": {
    "name": "ipython",
    "version": 3
   },
   "file_extension": ".py",
   "mimetype": "text/x-python",
   "name": "python",
   "nbconvert_exporter": "python",
   "pygments_lexer": "ipython3",
   "version": "3.7.3"
  }
 },
 "nbformat": 4,
 "nbformat_minor": 4
}
