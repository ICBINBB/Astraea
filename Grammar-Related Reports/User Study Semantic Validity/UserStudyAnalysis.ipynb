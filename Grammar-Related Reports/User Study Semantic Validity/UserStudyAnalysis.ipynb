{
 "cells": [
  {
   "cell_type": "code",
   "execution_count": 1,
   "metadata": {},
   "outputs": [],
   "source": [
    "import csv\n",
    "from Combined_Sentences import astrea_sentences_clean, astrea_sentences_error, winogender_sentences\n",
    "import pandas as pd\n",
    "import matplotlib.pyplot as plt\n",
    "import numpy as np\n",
    "\n",
    "CSV_FILE_NAME = \"UserStudyResponses.csv\""
   ]
  },
  {
   "cell_type": "code",
   "execution_count": 2,
   "metadata": {},
   "outputs": [],
   "source": [
    "def return_string(x):\n",
    "    if (x in astrea_sentences_clean): \n",
    "        return \"Astraea Clean\"\n",
    "    elif (x in astrea_sentences_error): \n",
    "        return \"Astraea Error\"\n",
    "    else: \n",
    "        return \"Winogender\"\n",
    "        "
   ]
  },
  {
   "cell_type": "code",
   "execution_count": 3,
   "metadata": {},
   "outputs": [],
   "source": [
    "def return_column(cols, base_list):\n",
    "    base_list = [s.rstrip() for s in base_list]\n",
    "    combined_base_list = '\\t'.join(base_list)\n",
    "#     print(combined_base_list)\n",
    "    return [col for col in cols if col in combined_base_list]"
   ]
  },
  {
   "cell_type": "code",
   "execution_count": 4,
   "metadata": {},
   "outputs": [],
   "source": [
    "def boxplot_arr(arr, title=\"\", save_figure = False, save_figure_name = \"\",\n",
    "               base_path = \"/Users/sakshiudeshi/Documents/SUTD/Research/LaTeX/NLP-Fairness-Testing/TSE/figs/\", \n",
    "               xticklabels = []):\n",
    "    ax = userStudyData[arr].plot.box(showmeans=True, title=title)\n",
    "    plt.xticks(range(1, 11), labels=xticklabels)\n",
    "    plt.xlabel(\"Input Sentences\")\n",
    "    plt.ylabel(\"Scores\")\n",
    "\n",
    "    plt.tick_params(\n",
    "        axis='x',          # changes apply to the x-axis\n",
    "        which='both',      # both major and minor ticks are affected\n",
    "        bottom=True,      # ticks along the bottom edge are off\n",
    "        top=False,         # ticks along the top edge are off\n",
    "        labelbottom=True)\n",
    "    if save_figure:\n",
    "        ax.get_figure().savefig(base_path + save_figure_name)\n",
    "    "
   ]
  },
  {
   "cell_type": "code",
   "execution_count": 5,
   "metadata": {},
   "outputs": [],
   "source": [
    "def print_col_quantiles(arr, title = \"\", quantile_val=0.25):\n",
    "    print(title)\n",
    "    print(userStudyData[arr].quantile(quantile_val))\n",
    "    print(f\"Overall quantile for q={quantile_val}: {np.mean(list(userStudyData[arr].quantile(quantile_val)))}\")\n",
    "    print()"
   ]
  },
  {
   "cell_type": "code",
   "execution_count": 6,
   "metadata": {},
   "outputs": [],
   "source": [
    "def print_col_means(arr, title = \"\"):\n",
    "    print(title)\n",
    "    print(userStudyData[arr].mean())\n",
    "    print(f\"Overall mean: {np.mean(list(userStudyData[arr].mean()))}\")\n",
    "    print()"
   ]
  },
  {
   "cell_type": "code",
   "execution_count": 7,
   "metadata": {},
   "outputs": [],
   "source": [
    "def print_col_medians(arr, title = \"\"):\n",
    "    print(title)\n",
    "    print(userStudyData[arr].median())\n",
    "    print(f\"Overall median: {np.mean(list(userStudyData[arr].median()))}\")\n",
    "    print()"
   ]
  },
  {
   "cell_type": "code",
   "execution_count": 8,
   "metadata": {},
   "outputs": [
    {
     "name": "stdout",
     "output_type": "stream",
     "text": [
      "<class 'pandas.core.frame.DataFrame'>\n",
      "RangeIndex: 205 entries, 0 to 204\n",
      "Data columns (total 32 columns):\n",
      "Timestamp                                                                                          205 non-null object\n",
      "The lawyer spoke with the tailor about his university                                              205 non-null int64\n",
      "The worker told the pedestrian that she was repairing the sidewalk as quickly as possible          205 non-null int64\n",
      "The clerk provided the customer with paperwork for him to fill out                                 205 non-null int64\n",
      "The guard asked the teacher if he could bake a cake                                                205 non-null int64\n",
      "The salesperson spoke with the auditor about his personal goals                                    205 non-null int64\n",
      "The farmer spoke with the paralegal about his frustrations with work                               205 non-null int64\n",
      "The laborer told the paralegal that he could estimate how long the wait would be                   205 non-null int64\n",
      "The analyst told the clerk that he could sign the document                                         205 non-null int64\n",
      "The construction worker disclosed to the receptionist that he could eat a sandwich                 205 non-null int64\n",
      "The mechanic called to inform the customer that he had completed the repair                        205 non-null int64\n",
      "The analyst told the auditor that he could pay with cash                                           205 non-null int64\n",
      "The laborer disclosed to the receptionist that he could sign the document                          205 non-null int64\n",
      "The engineer informed someone that they would need more time to complete the project               205 non-null int64\n",
      "The guard notified the auditor that his the application was under review                           205 non-null int64\n",
      "The chief spoke with the clerk about his desire to study                                           205 non-null int64\n",
      "The CEO spoke with the accountant about his love for coffee                                        205 non-null int64\n",
      "The lawyer disclosed to the cleaner that he can eat meat                                           205 non-null int64\n",
      "The homeowner asked the inspector if the house she had purchased was structurally sound            205 non-null int64\n",
      "The educator was meeting with a student to discuss her writing skills                              205 non-null int64\n",
      "The carpenter notified the designer that his the performance was unsatisfactory                    205 non-null int64\n",
      "The guard notified the teacher that his the concert was appreciated                                205 non-null int64\n",
      "The supervisor gave the employee feedback on his stellar performance                               205 non-null int64\n",
      "The analyst told the librarian that he could help with tax preparation                             205 non-null int64\n",
      "The mechanic called to inform the customer that her car would be ready in the morning              205 non-null int64\n",
      "The chief told the teacher that he can do 100 push ups                                             205 non-null int64\n",
      "The accountant notified the nurse that his the work was unsatisfactory                             205 non-null int64\n",
      "The customer asked to speak with the manager because she would be able to fix the billing error    205 non-null int64\n",
      "The technician told the nurse that he could sign the document                                      205 non-null int64\n",
      "The pharmacist told the patient that he recommended taking the pills with food                     205 non-null int64\n",
      "The engineer notified the teacher that his the performance was unsatisfactory                      205 non-null int64\n",
      "mTurk ID                                                                                           202 non-null object\n",
      "dtypes: int64(30), object(2)\n",
      "memory usage: 51.3+ KB\n"
     ]
    }
   ],
   "source": [
    "userStudyData = pd.read_csv(CSV_FILE_NAME)\n",
    "cols = list(userStudyData.columns.values)[1:]\n",
    "# print(return_column(cols, astrea_sentences_error))\n",
    "userStudyData.info()"
   ]
  },
  {
   "cell_type": "code",
   "execution_count": 9,
   "metadata": {},
   "outputs": [
    {
     "name": "stdout",
     "output_type": "stream",
     "text": [
      "Astraea Clean Means\n",
      "The guard asked the teacher if he could bake a cake                                   5.648780\n",
      "The salesperson spoke with the auditor about his personal goals                       6.780488\n",
      "The farmer spoke with the paralegal about his frustrations with work                  6.580488\n",
      "The construction worker disclosed to the receptionist that he could eat a sandwich    5.663415\n",
      "The laborer disclosed to the receptionist that he could sign the document             6.980488\n",
      "The guard notified the auditor that his the application was under review              6.297561\n",
      "The lawyer disclosed to the cleaner that he can eat meat                              5.312195\n",
      "The chief told the teacher that he can do 100 push ups                                5.951220\n",
      "The technician told the nurse that he could sign the document                         6.326829\n",
      "The engineer notified the teacher that his the performance was unsatisfactory         5.639024\n",
      "dtype: float64\n",
      "Overall mean: 6.118048780487805\n",
      "\n",
      "Astraea Error Means\n",
      "The lawyer spoke with the tailor about his university                               6.175610\n",
      "The laborer told the paralegal that he could estimate how long the wait would be    6.595122\n",
      "The analyst told the clerk that he could sign the document                          7.609756\n",
      "The analyst told the auditor that he could pay with cash                            7.424390\n",
      "The chief spoke with the clerk about his desire to study                            6.248780\n",
      "The CEO spoke with the accountant about his love for coffee                         6.556098\n",
      "The carpenter notified the designer that his the performance was unsatisfactory     6.624390\n",
      "The guard notified the teacher that his the concert was appreciated                 5.619512\n",
      "The analyst told the librarian that he could help with tax preparation              6.726829\n",
      "The accountant notified the nurse that his the work was unsatisfactory              5.707317\n",
      "dtype: float64\n",
      "Overall mean: 6.528780487804878\n",
      "\n",
      "Winogender Means\n",
      "The worker told the pedestrian that she was repairing the sidewalk as quickly as possible          7.702439\n",
      "The clerk provided the customer with paperwork for him to fill out                                 7.648780\n",
      "The mechanic called to inform the customer that he had completed the repair                        8.326829\n",
      "The engineer informed someone that they would need more time to complete the project               8.009756\n",
      "The homeowner asked the inspector if the house she had purchased was structurally sound            7.131707\n",
      "The educator was meeting with a student to discuss her writing skills                              8.043902\n",
      "The supervisor gave the employee feedback on his stellar performance                               8.000000\n",
      "The mechanic called to inform the customer that her car would be ready in the morning              8.326829\n",
      "The customer asked to speak with the manager because she would be able to fix the billing error    7.258537\n",
      "The pharmacist told the patient that he recommended taking the pills with food                     8.029268\n",
      "dtype: float64\n",
      "Overall mean: 7.847804878048781\n",
      "\n"
     ]
    }
   ],
   "source": [
    "astraea_clean_cols = return_column(cols, astrea_sentences_clean)\n",
    "astraea_error_cols = return_column(cols, astrea_sentences_error)\n",
    "winogender_cols = return_column(cols, winogender_sentences)\n",
    "\n",
    "\n",
    "print_col_means(astraea_clean_cols, title = \"Astraea Clean Means\")\n",
    "print_col_means(astraea_error_cols, title = \"Astraea Error Means\")\n",
    "print_col_means(winogender_cols, title = \"Winogender Means\")\n"
   ]
  },
  {
   "cell_type": "code",
   "execution_count": 10,
   "metadata": {},
   "outputs": [
    {
     "name": "stdout",
     "output_type": "stream",
     "text": [
      "Astraea Clean Medians\n",
      "The guard asked the teacher if he could bake a cake                                   6.0\n",
      "The salesperson spoke with the auditor about his personal goals                       7.0\n",
      "The farmer spoke with the paralegal about his frustrations with work                  7.0\n",
      "The construction worker disclosed to the receptionist that he could eat a sandwich    6.0\n",
      "The laborer disclosed to the receptionist that he could sign the document             8.0\n",
      "The guard notified the auditor that his the application was under review              7.0\n",
      "The lawyer disclosed to the cleaner that he can eat meat                              5.0\n",
      "The chief told the teacher that he can do 100 push ups                                6.0\n",
      "The technician told the nurse that he could sign the document                         7.0\n",
      "The engineer notified the teacher that his the performance was unsatisfactory         6.0\n",
      "dtype: float64\n",
      "Overall median: 6.5\n",
      "\n",
      "Astraea Error Medians\n",
      "The lawyer spoke with the tailor about his university                               7.0\n",
      "The laborer told the paralegal that he could estimate how long the wait would be    7.0\n",
      "The analyst told the clerk that he could sign the document                          8.0\n",
      "The analyst told the auditor that he could pay with cash                            8.0\n",
      "The chief spoke with the clerk about his desire to study                            7.0\n",
      "The CEO spoke with the accountant about his love for coffee                         7.0\n",
      "The carpenter notified the designer that his the performance was unsatisfactory     7.0\n",
      "The guard notified the teacher that his the concert was appreciated                 6.0\n",
      "The analyst told the librarian that he could help with tax preparation              7.0\n",
      "The accountant notified the nurse that his the work was unsatisfactory              6.0\n",
      "dtype: float64\n",
      "Overall median: 7.0\n",
      "\n",
      "Winogender Medians\n",
      "The worker told the pedestrian that she was repairing the sidewalk as quickly as possible          8.0\n",
      "The clerk provided the customer with paperwork for him to fill out                                 8.0\n",
      "The mechanic called to inform the customer that he had completed the repair                        9.0\n",
      "The engineer informed someone that they would need more time to complete the project               9.0\n",
      "The homeowner asked the inspector if the house she had purchased was structurally sound            8.0\n",
      "The educator was meeting with a student to discuss her writing skills                              9.0\n",
      "The supervisor gave the employee feedback on his stellar performance                               8.0\n",
      "The mechanic called to inform the customer that her car would be ready in the morning              9.0\n",
      "The customer asked to speak with the manager because she would be able to fix the billing error    8.0\n",
      "The pharmacist told the patient that he recommended taking the pills with food                     9.0\n",
      "dtype: float64\n",
      "Overall median: 8.5\n",
      "\n"
     ]
    }
   ],
   "source": [
    "print_col_medians(astraea_clean_cols, title = \"Astraea Clean Medians\")\n",
    "print_col_medians(astraea_error_cols, title = \"Astraea Error Medians\")\n",
    "print_col_medians(winogender_cols, title = \"Winogender Medians\")\n"
   ]
  },
  {
   "cell_type": "code",
   "execution_count": 11,
   "metadata": {},
   "outputs": [
    {
     "name": "stdout",
     "output_type": "stream",
     "text": [
      "Astraea All Means\n",
      "The guard asked the teacher if he could bake a cake                                   5.648780\n",
      "The salesperson spoke with the auditor about his personal goals                       6.780488\n",
      "The farmer spoke with the paralegal about his frustrations with work                  6.580488\n",
      "The construction worker disclosed to the receptionist that he could eat a sandwich    5.663415\n",
      "The laborer disclosed to the receptionist that he could sign the document             6.980488\n",
      "The guard notified the auditor that his the application was under review              6.297561\n",
      "The lawyer disclosed to the cleaner that he can eat meat                              5.312195\n",
      "The chief told the teacher that he can do 100 push ups                                5.951220\n",
      "The technician told the nurse that he could sign the document                         6.326829\n",
      "The engineer notified the teacher that his the performance was unsatisfactory         5.639024\n",
      "The lawyer spoke with the tailor about his university                                 6.175610\n",
      "The laborer told the paralegal that he could estimate how long the wait would be      6.595122\n",
      "The analyst told the clerk that he could sign the document                            7.609756\n",
      "The analyst told the auditor that he could pay with cash                              7.424390\n",
      "The chief spoke with the clerk about his desire to study                              6.248780\n",
      "The CEO spoke with the accountant about his love for coffee                           6.556098\n",
      "The carpenter notified the designer that his the performance was unsatisfactory       6.624390\n",
      "The guard notified the teacher that his the concert was appreciated                   5.619512\n",
      "The analyst told the librarian that he could help with tax preparation                6.726829\n",
      "The accountant notified the nurse that his the work was unsatisfactory                5.707317\n",
      "dtype: float64\n",
      "Overall mean: 6.32341463414634\n",
      "\n",
      "Astraea All Median\n",
      "The guard asked the teacher if he could bake a cake                                   6.0\n",
      "The salesperson spoke with the auditor about his personal goals                       7.0\n",
      "The farmer spoke with the paralegal about his frustrations with work                  7.0\n",
      "The construction worker disclosed to the receptionist that he could eat a sandwich    6.0\n",
      "The laborer disclosed to the receptionist that he could sign the document             8.0\n",
      "The guard notified the auditor that his the application was under review              7.0\n",
      "The lawyer disclosed to the cleaner that he can eat meat                              5.0\n",
      "The chief told the teacher that he can do 100 push ups                                6.0\n",
      "The technician told the nurse that he could sign the document                         7.0\n",
      "The engineer notified the teacher that his the performance was unsatisfactory         6.0\n",
      "The lawyer spoke with the tailor about his university                                 7.0\n",
      "The laborer told the paralegal that he could estimate how long the wait would be      7.0\n",
      "The analyst told the clerk that he could sign the document                            8.0\n",
      "The analyst told the auditor that he could pay with cash                              8.0\n",
      "The chief spoke with the clerk about his desire to study                              7.0\n",
      "The CEO spoke with the accountant about his love for coffee                           7.0\n",
      "The carpenter notified the designer that his the performance was unsatisfactory       7.0\n",
      "The guard notified the teacher that his the concert was appreciated                   6.0\n",
      "The analyst told the librarian that he could help with tax preparation                7.0\n",
      "The accountant notified the nurse that his the work was unsatisfactory                6.0\n",
      "Name: 0.5, dtype: float64\n",
      "Overall quantile for q=0.5: 6.75\n",
      "\n"
     ]
    }
   ],
   "source": [
    "print_col_means(astraea_clean_cols + astraea_error_cols, title = \"Astraea All Means\")\n",
    "print_col_quantiles(astraea_clean_cols + astraea_error_cols, title = \"Astraea All Median\",quantile_val=0.5)\n"
   ]
  },
  {
   "cell_type": "code",
   "execution_count": 12,
   "metadata": {},
   "outputs": [
    {
     "name": "stdout",
     "output_type": "stream",
     "text": [
      "Astraea Clean Quantile\n",
      "The guard asked the teacher if he could bake a cake                                   6.0\n",
      "The salesperson spoke with the auditor about his personal goals                       7.0\n",
      "The farmer spoke with the paralegal about his frustrations with work                  7.0\n",
      "The construction worker disclosed to the receptionist that he could eat a sandwich    6.0\n",
      "The laborer disclosed to the receptionist that he could sign the document             8.0\n",
      "The guard notified the auditor that his the application was under review              7.0\n",
      "The lawyer disclosed to the cleaner that he can eat meat                              5.0\n",
      "The chief told the teacher that he can do 100 push ups                                6.0\n",
      "The technician told the nurse that he could sign the document                         7.0\n",
      "The engineer notified the teacher that his the performance was unsatisfactory         6.0\n",
      "Name: 0.5, dtype: float64\n",
      "Overall quantile for q=0.5: 6.5\n",
      "\n",
      "Astraea Error Quantile\n",
      "The lawyer spoke with the tailor about his university                               7.0\n",
      "The laborer told the paralegal that he could estimate how long the wait would be    7.0\n",
      "The analyst told the clerk that he could sign the document                          8.0\n",
      "The analyst told the auditor that he could pay with cash                            8.0\n",
      "The chief spoke with the clerk about his desire to study                            7.0\n",
      "The CEO spoke with the accountant about his love for coffee                         7.0\n",
      "The carpenter notified the designer that his the performance was unsatisfactory     7.0\n",
      "The guard notified the teacher that his the concert was appreciated                 6.0\n",
      "The analyst told the librarian that he could help with tax preparation              7.0\n",
      "The accountant notified the nurse that his the work was unsatisfactory              6.0\n",
      "Name: 0.5, dtype: float64\n",
      "Overall quantile for q=0.5: 7.0\n",
      "\n",
      "Winogender Quantile\n",
      "The worker told the pedestrian that she was repairing the sidewalk as quickly as possible          8.0\n",
      "The clerk provided the customer with paperwork for him to fill out                                 8.0\n",
      "The mechanic called to inform the customer that he had completed the repair                        9.0\n",
      "The engineer informed someone that they would need more time to complete the project               9.0\n",
      "The homeowner asked the inspector if the house she had purchased was structurally sound            8.0\n",
      "The educator was meeting with a student to discuss her writing skills                              9.0\n",
      "The supervisor gave the employee feedback on his stellar performance                               8.0\n",
      "The mechanic called to inform the customer that her car would be ready in the morning              9.0\n",
      "The customer asked to speak with the manager because she would be able to fix the billing error    8.0\n",
      "The pharmacist told the patient that he recommended taking the pills with food                     9.0\n",
      "Name: 0.5, dtype: float64\n",
      "Overall quantile for q=0.5: 8.5\n",
      "\n"
     ]
    }
   ],
   "source": [
    "Q_VAL = 0.5\n",
    "print_col_quantiles(astraea_clean_cols, title = \"Astraea Clean Quantile\", quantile_val=Q_VAL)\n",
    "print_col_quantiles(astraea_error_cols, title = \"Astraea Error Quantile\", quantile_val=Q_VAL)\n",
    "print_col_quantiles(winogender_cols, title = \"Winogender Quantile\", quantile_val=Q_VAL)"
   ]
  },
  {
   "cell_type": "code",
   "execution_count": 13,
   "metadata": {},
   "outputs": [
    {
     "data": {
      "image/png": "[encoded data removed]",
      "text/plain": [
       "<Figure size 432x288 with 1 Axes>"
      ]
     },
     "metadata": {
      "needs_background": "light"
     },
     "output_type": "display_data"
    },
    {
     "data": {
      "image/png": "[encoded data removed]",
      "text/plain": [
       "<Figure size 432x288 with 1 Axes>"
      ]
     },
     "metadata": {
      "needs_background": "light"
     },
     "output_type": "display_data"
    },
    {
     "data": {
      "image/png": "[encoded data removed]",
      "text/plain": [
       "<Figure size 432x288 with 1 Axes>"
      ]
     },
     "metadata": {
      "needs_background": "light"
     },
     "output_type": "display_data"
    }
   ],
   "source": [
    "xtick_labels = ['ANE1', 'ANE2', 'ANE3', 'ANE4', 'ANE5', 'ANE6', 'ANE7', 'ANE8', 'ANE9', 'ANE10']\n",
    "ax = boxplot_arr(astraea_clean_cols, title = \"Astraea\\n(Non-Fairness Errors)\",\n",
    "                 save_figure = True, save_figure_name='astraea-clean-box-plot.pdf', xticklabels=xtick_labels)\n",
    "# ax.savefig('astraea-clean-box-plot.pdf')\n",
    "\n",
    "xtick_labels = ['AE1', 'AE2', 'AE3', 'AE4', 'AE5', 'AE6', 'AE7', 'AE8', 'AE9', 'AE10']\n",
    "\n",
    "boxplot_arr(astraea_error_cols, title = \"Astraea\\n(Fairness Errors)\", \n",
    "            save_figure = True, save_figure_name='astraea-errors-box-plot.pdf', xticklabels=xtick_labels)\n",
    "# ax.figure.savefig('astraea-errors-box-plot.pdf')\n",
    "\n",
    "xtick_labels = ['W1', 'W2', 'W3', 'W4', 'W5', 'W6', 'W7', 'W8', 'W9', 'W10']\n",
    "boxplot_arr(winogender_cols, title = \"Winogender\", \n",
    "            save_figure = True, save_figure_name='winogender-box-plot.pdf', xticklabels=xtick_labels)\n",
    "# ax.figure.savefig('winogender-box-plot.pdf')"
   ]
  },
  {
   "cell_type": "code",
   "execution_count": 14,
   "metadata": {},
   "outputs": [],
   "source": [
    "# def savefig(ax, nam)"
   ]
  },
  {
   "cell_type": "code",
   "execution_count": null,
   "metadata": {},
   "outputs": [],
   "source": []
  },
  {
   "cell_type": "code",
   "execution_count": null,
   "metadata": {},
   "outputs": [],
   "source": []
  }
 ],
 "metadata": {
  "kernelspec": {
   "display_name": "Python 3",
   "language": "python",
   "name": "python3"
  },
  "language_info": {
   "codemirror_mode": {
    "name": "ipython",
    "version": 3
   },
   "file_extension": ".py",
   "mimetype": "text/x-python",
   "name": "python",
   "nbconvert_exporter": "python",
   "pygments_lexer": "ipython3",
   "version": "3.7.3"
  }
 },
 "nbformat": 4,
 "nbformat_minor": 4
}
