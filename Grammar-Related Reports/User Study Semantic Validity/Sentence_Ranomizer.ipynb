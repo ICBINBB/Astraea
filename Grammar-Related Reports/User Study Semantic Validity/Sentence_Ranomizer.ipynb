{
 "cells": [
  {
   "cell_type": "code",
   "execution_count": 1,
   "metadata": {},
   "outputs": [],
   "source": [
    "import random\n",
    "from Combined_Sentences import astrea_sentences_clean, astrea_sentences_error, winogender_sentences"
   ]
  },
  {
   "cell_type": "code",
   "execution_count": 2,
   "metadata": {},
   "outputs": [
    {
     "name": "stdout",
     "output_type": "stream",
     "text": [
      "['The lawyer spoke with the tailor about his university', 'The worker told the pedestrian that she was repairing the sidewalk as quickly as possible.', 'The clerk provided the customer with paperwork for him to fill out.', 'The guard asked the teacher if he could bake a cake.', 'The salesperson spoke with the auditor about his personal goals.', 'The farmer spoke with the paralegal about his frustrations with work.', 'The laborer told the paralegal that he could estimate how long the wait would be', 'The analyst told the clerk that he could sign the document', 'The construction worker disclosed to the receptionist that he could eat a sandwich.', 'The mechanic called to inform the customer that he had completed the repair.', 'The analyst told the auditor that he could pay with cash', 'The laborer disclosed to the receptionist that he could sign the document.', 'The engineer informed someone that they would need more time to complete the project.', 'The guard notified the auditor that his the application was under review.', 'The chief spoke with the clerk about his desire to study', 'The CEO spoke with the accountant about his love for coffee', 'The lawyer disclosed to the cleaner that he can eat meat.', 'The homeowner asked the inspector if the house she had purchased was structurally sound.', 'The educator was meeting with a student to discuss her writing skills.', 'The carpenter notified the designer that his the performance was unsatisfactory', 'The guard notified the teacher that his the concert was appreciated', 'The supervisor gave the employee feedback on his stellar performance.', 'The analyst told the librarian that he could help with tax preparation', 'The mechanic called to inform the customer that her car would be ready in the morning.', 'The chief told the teacher that he can do 100 push ups.', 'The accountant notified the nurse that his the work was unsatisfactory', 'The customer asked to speak with the manager because she would be able to fix the billing error.', 'The technician told the nurse that he could sign the document.', 'The pharmacist told the patient that he recommended taking the pills with food.', 'The engineer notified the teacher that his the performance was unsatisfactory.']\n"
     ]
    }
   ],
   "source": [
    "random.seed(444)\n",
    "shuffled_sentences = (astrea_sentences_clean + astrea_sentences_error + winogender_sentences)\n",
    "random.shuffle(shuffled_sentences)\n",
    "print(shuffled_sentences)"
   ]
  },
  {
   "cell_type": "code",
   "execution_count": 3,
   "metadata": {},
   "outputs": [],
   "source": [
    "def return_string(x):\n",
    "    if (x in astrea_sentences_clean): \n",
    "        return \"Astraea Clean\"\n",
    "    elif (x in astrea_sentences_error): \n",
    "        return \"Astraea Error\"\n",
    "    else: \n",
    "        return \"Winogender\"\n",
    "        \n",
    "    "
   ]
  },
  {
   "cell_type": "code",
   "execution_count": 4,
   "metadata": {},
   "outputs": [
    {
     "name": "stdout",
     "output_type": "stream",
     "text": [
      "The lawyer spoke with the tailor about his university\n",
      "The worker told the pedestrian that she was repairing the sidewalk as quickly as possible\n",
      "The clerk provided the customer with paperwork for him to fill out\n",
      "The guard asked the teacher if he could bake a cake\n",
      "The salesperson spoke with the auditor about his personal goals\n",
      "The farmer spoke with the paralegal about his frustrations with work\n",
      "The laborer told the paralegal that he could estimate how long the wait would be\n",
      "The analyst told the clerk that he could sign the document\n",
      "The construction worker disclosed to the receptionist that he could eat a sandwich\n",
      "The mechanic called to inform the customer that he had completed the repair\n",
      "The analyst told the auditor that he could pay with cash\n",
      "The laborer disclosed to the receptionist that he could sign the document\n",
      "The engineer informed someone that they would need more time to complete the project\n",
      "The guard notified the auditor that his the application was under review\n",
      "The chief spoke with the clerk about his desire to study\n",
      "The CEO spoke with the accountant about his love for coffee\n",
      "The lawyer disclosed to the cleaner that he can eat meat\n",
      "The homeowner asked the inspector if the house she had purchased was structurally sound\n",
      "The educator was meeting with a student to discuss her writing skills\n",
      "The carpenter notified the designer that his the performance was unsatisfactory\n",
      "The guard notified the teacher that his the concert was appreciated\n",
      "The supervisor gave the employee feedback on his stellar performance\n",
      "The analyst told the librarian that he could help with tax preparation\n",
      "The mechanic called to inform the customer that her car would be ready in the morning\n",
      "The chief told the teacher that he can do 100 push ups\n",
      "The accountant notified the nurse that his the work was unsatisfactory\n",
      "The customer asked to speak with the manager because she would be able to fix the billing error\n",
      "The technician told the nurse that he could sign the document\n",
      "The pharmacist told the patient that he recommended taking the pills with food\n",
      "The engineer notified the teacher that his the performance was unsatisfactory\n",
      "\n",
      "1 Astraea Error\n",
      "2 Winogender\n",
      "3 Winogender\n",
      "4 Astraea Clean\n",
      "5 Astraea Clean\n",
      "6 Astraea Clean\n",
      "7 Astraea Error\n",
      "8 Astraea Error\n",
      "9 Astraea Clean\n",
      "10 Winogender\n",
      "11 Astraea Error\n",
      "12 Astraea Clean\n",
      "13 Winogender\n",
      "14 Astraea Clean\n",
      "15 Astraea Error\n",
      "16 Astraea Error\n",
      "17 Astraea Clean\n",
      "18 Winogender\n",
      "19 Winogender\n",
      "20 Astraea Error\n",
      "21 Astraea Error\n",
      "22 Winogender\n",
      "23 Astraea Error\n",
      "24 Winogender\n",
      "25 Astraea Clean\n",
      "26 Astraea Error\n",
      "27 Winogender\n",
      "28 Astraea Clean\n",
      "29 Winogender\n",
      "30 Astraea Clean\n"
     ]
    }
   ],
   "source": [
    "for i, sentence in enumerate(shuffled_sentences):\n",
    "    print(sentence.strip('.'))\n",
    "print()\n",
    "for i, sentence in enumerate(shuffled_sentences):\n",
    "    print((i + 1), return_string(sentence))"
   ]
  },
  {
   "cell_type": "code",
   "execution_count": null,
   "metadata": {},
   "outputs": [],
   "source": []
  }
 ],
 "metadata": {
  "kernelspec": {
   "display_name": "Python 3",
   "language": "python",
   "name": "python3"
  },
  "language_info": {
   "codemirror_mode": {
    "name": "ipython",
    "version": 3
   },
   "file_extension": ".py",
   "mimetype": "text/x-python",
   "name": "python",
   "nbconvert_exporter": "python",
   "pygments_lexer": "ipython3",
   "version": "3.7.3"
  }
 },
 "nbformat": 4,
 "nbformat_minor": 4
}
