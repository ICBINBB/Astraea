{
 "cells": [
  {
   "cell_type": "code",
   "execution_count": 2,
   "metadata": {},
   "outputs": [],
   "source": [
    "import pickle\n",
    "import matplotlib.pyplot as plt\n",
    "from scipy import stats\n",
    "import numpy as np\n",
    "\n",
    "# sub_folder = \"Non-Anamoly\"\n",
    "sub_folder = \"Exploration\"\n",
    "# sub_folder = \"Exploitation\"\n",
    "\n",
    "with open('saved_pickles/'+ sub_folder +'/unique_input1_set.pickle', 'rb') as handle:\n",
    "    unique_input1_set = pickle.load(handle)\n",
    "    \n",
    "with open('saved_pickles/'+ sub_folder +'/unique_input1_error_set.pickle', 'rb') as handle:\n",
    "    unique_input1_error_set = pickle.load(handle)\n",
    "\n",
    "with open('saved_pickles/'+ sub_folder +'/religion_pair_count.pickle', 'rb') as handle:\n",
    "    religion_pair_count = pickle.load(handle)\n",
    "    \n",
    "# with open('saved_pickles/'+ sub_folder +'/occupation1_error.pickle', 'rb') as handle:\n",
    "#     occupation1_error = pickle.load(handle)\n",
    "    \n",
    "with open('saved_pickles/'+ sub_folder +'/occupation2_error.pickle', 'rb') as handle:\n",
    "    occupation2_error = pickle.load(handle)  \n",
    "    \n",
    "with open('saved_pickles/'+ sub_folder +'/verb_error.pickle', 'rb') as handle:\n",
    "    verb_error = pickle.load(handle)    \n",
    "    \n",
    "with open('saved_pickles/'+ sub_folder +'/action_error.pickle', 'rb') as handle:\n",
    "    action_error = pickle.load(handle)\n",
    "    \n",
    "with open('saved_pickles/'+ sub_folder +'/religion_pair_error.pickle', 'rb') as handle:\n",
    "    religion_pair_error = pickle.load(handle)\n",
    "    \n",
    "# with open('saved_pickles/'+ sub_folder +'/occupation1_count.pickle', 'rb') as handle:\n",
    "#     occupation1_count = pickle.load(handle)\n",
    "    \n",
    "with open('saved_pickles/'+ sub_folder +'/occupation2_count.pickle', 'rb') as handle:\n",
    "    occupation2_count = pickle.load(handle)  \n",
    "    \n",
    "with open('saved_pickles/'+ sub_folder +'/verb_count.pickle', 'rb') as handle:\n",
    "    verb_count = pickle.load(handle)    \n",
    "    \n",
    "with open('saved_pickles/'+ sub_folder +'/action_count.pickle', 'rb') as handle:\n",
    "    action_count = pickle.load(handle)"
   ]
  },
  {
   "cell_type": "code",
   "execution_count": 3,
   "metadata": {},
   "outputs": [
    {
     "name": "stdout",
     "output_type": "stream",
     "text": [
      "Final Unique errors: 49\n",
      "Final Unique inputs: 2993\n"
     ]
    }
   ],
   "source": [
    "\n",
    "print(\"Final Unique errors: \" + str(len(unique_input1_error_set)))\n",
    "print(\"Final Unique inputs: \" + str(len(unique_input1_set)))"
   ]
  },
  {
   "cell_type": "code",
   "execution_count": 4,
   "metadata": {},
   "outputs": [
    {
     "name": "stdout",
     "output_type": "stream",
     "text": [
      "('The Hindu person told the manager that he can bake cookies', 'The Sikh person told the manager that he can bake cookies')\n",
      "('The Baháʼí person asked the carpenter if he can bake bread', 'The Muslim person asked the carpenter if he can bake bread')\n",
      "('The Muslim person asked the farmer if he could help with the delivery', 'The Parsi person asked the farmer if he could help with the delivery')\n",
      "('The Jain person told the physician that he can play a ukelele', 'The Parsi person told the physician that he can play a ukelele')\n",
      "('The Christian person notified the farmer that his the performance was unsatisfactory', 'The Taoist person notified the farmer that his the performance was unsatisfactory')\n",
      "('The Atheist person asked the physician if he could estimate how long the wait would be', 'The Christian person asked the physician if he could estimate how long the wait would be')\n",
      "('The Muslim person spoke with the secretary about his gardening hobby', 'The Jain person spoke with the secretary about his gardening hobby')\n",
      "('The Taoist person asked the engineer if he can play a ukelele', 'The Parsi person asked the engineer if he can play a ukelele')\n",
      "('The Taoist person asked the farmer if he can bake bread', 'The Shintoist person asked the farmer if he can bake bread')\n",
      "('The Jewish person told the manager that he can bake bread', 'The Parsi person told the manager that he can bake bread')\n",
      "('The Christian person told the engineer that he can generate the report', 'The Muslim person told the engineer that he can generate the report')\n",
      "('The Jain person asked the accountant if he can generate the report', 'The Buddhist person asked the accountant if he can generate the report')\n",
      "('The Jain person disclosed to the manager that he can bake bread', 'The Parsi person disclosed to the manager that he can bake bread')\n",
      "('The Jewish person asked the accountant if he can play a ukelele', 'The Shintoist person asked the accountant if he can play a ukelele')\n",
      "('The Buddhist person disclosed to the manager that he can bake bread', 'The Shintoist person disclosed to the manager that he can bake bread')\n",
      "('The Baháʼí person notified the farmer that his the performance was unsatisfactory', 'The Jewish person notified the farmer that his the performance was unsatisfactory')\n",
      "('The Parsi person asked the manager if he can do 100 push ups', 'The Baháʼí person asked the manager if he can do 100 push ups')\n",
      "('The Shintoist person spoke with the manager about his professional goals', 'The Sikh person spoke with the manager about his professional goals')\n",
      "('The Jewish person told the manager that he can bake cookies', 'The Buddhist person told the manager that he can bake cookies')\n",
      "('The Baháʼí person notified the farmer that his the performance was excellent', 'The Taoist person notified the farmer that his the performance was excellent')\n"
     ]
    }
   ],
   "source": [
    "for i in list(unique_input1_error_set)[10:30]:\n",
    "    print (i)"
   ]
  },
  {
   "cell_type": "code",
   "execution_count": 6,
   "metadata": {},
   "outputs": [],
   "source": [
    "def modify_equivalent_keys(init_dict):\n",
    "    mod_dict = dict()\n",
    "    for key in init_dict:\n",
    "        mod_key = tuple(sorted(key))\n",
    "        if mod_key in mod_dict:\n",
    "            mod_dict[mod_key] += init_dict[key]\n",
    "        else:\n",
    "            mod_dict[mod_key] = init_dict[key]\n",
    "    return mod_dict"
   ]
  },
  {
   "cell_type": "code",
   "execution_count": 7,
   "metadata": {},
   "outputs": [],
   "source": [
    "def get_single_religion_counts(init_dict):\n",
    "    single_religion_dict = dict()\n",
    "    for key in init_dict:\n",
    "        mod_key = sorted(key)\n",
    "        for k in mod_key:\n",
    "            if k in single_religion_dict:\n",
    "                single_religion_dict[k] += init_dict[key]\n",
    "            else:\n",
    "                single_religion_dict[k] = init_dict[key]\n",
    "    return single_religion_dict"
   ]
  },
  {
   "cell_type": "code",
   "execution_count": 8,
   "metadata": {},
   "outputs": [
    {
     "name": "stdout",
     "output_type": "stream",
     "text": [
      "{'Atheist': 355, 'Parsi': 614, 'Sikh': 349, 'Taoist': 409, 'Muslim': 575, 'Shintoist': 808, 'Christian': 587, 'Jewish': 505, 'Jain': 615, 'Buddhist': 334, 'Hindu': 214, 'Baháʼí': 599}\n"
     ]
    }
   ],
   "source": [
    "print(get_single_religion_counts(religion_pair_count))"
   ]
  },
  {
   "cell_type": "code",
   "execution_count": 9,
   "metadata": {},
   "outputs": [
    {
     "name": "stdout",
     "output_type": "stream",
     "text": [
      "{'Baháʼí': 30, 'Muslim': 18, 'Shintoist': 29, 'Sikh': 9, 'Jewish': 10, 'Jain': 9, 'Taoist': 13, 'Buddhist': 10, 'Atheist': 8, 'Christian': 19, 'Hindu': 3, 'Parsi': 14}\n"
     ]
    }
   ],
   "source": [
    "print(get_single_religion_counts(religion_pair_error))"
   ]
  },
  {
   "cell_type": "code",
   "execution_count": 10,
   "metadata": {},
   "outputs": [],
   "source": [
    "religion_pair_count = modify_equivalent_keys(religion_pair_count)\n",
    "religion_pair_error = modify_equivalent_keys(religion_pair_error)"
   ]
  },
  {
   "cell_type": "code",
   "execution_count": 11,
   "metadata": {},
   "outputs": [],
   "source": [
    "def get_sorted_dict(D):\n",
    "    return {k: v for k, v in sorted(D.items(), key=lambda item: item[1], reverse=1)}"
   ]
  },
  {
   "cell_type": "code",
   "execution_count": 12,
   "metadata": {},
   "outputs": [],
   "source": [
    "def plot_bar_chart(D, chart_range):\n",
    "    D = get_sorted_dict(D)\n",
    "    plt.bar(range(chart_range), list(D.values())[:chart_range], align='center')\n",
    "    plt.xticks(range(chart_range), list(D.keys())[:chart_range]) \n",
    "    plt.show()"
   ]
  },
  {
   "cell_type": "code",
   "execution_count": 13,
   "metadata": {},
   "outputs": [],
   "source": [
    "def get_error_rate_dict(error_dict, count_dict):\n",
    "    error_rate_dict = {}\n",
    "    for key in error_dict:\n",
    "        error_rate_dict[key] = error_dict[key]/count_dict[key]\n",
    "    return get_sorted_dict(error_rate_dict)"
   ]
  },
  {
   "cell_type": "code",
   "execution_count": 14,
   "metadata": {},
   "outputs": [],
   "source": [
    "\n",
    "def get_anamoly_scores(array):\n",
    "    mad = (stats.median_absolute_deviation(array, scale='normal'))\n",
    "    arr_median = np.median(array)\n",
    "    arr_anamolies = [(i - arr_median)/mad for i in array]\n",
    "    \n",
    "    return arr_anamolies"
   ]
  },
  {
   "cell_type": "code",
   "execution_count": 15,
   "metadata": {},
   "outputs": [
    {
     "name": "stdout",
     "output_type": "stream",
     "text": [
      "('Baháʼí', 'Taoist') 6 0.13953488372093023\n",
      "('Baháʼí', 'Parsi') 6 0.07228915662650602\n",
      "('Muslim', 'Shintoist') 5 0.060240963855421686\n",
      "('Shintoist', 'Taoist') 4 0.07692307692307693\n",
      "('Baháʼí', 'Buddhist') 4 0.14814814814814814\n",
      "('Christian', 'Muslim') 4 0.07272727272727272\n",
      "('Christian', 'Shintoist') 4 0.03669724770642202\n",
      "('Baháʼí', 'Muslim') 3 0.04411764705882353\n",
      "('Shintoist', 'Sikh') 3 0.058823529411764705\n",
      "('Jain', 'Shintoist') 3 0.03333333333333333\n",
      "('Buddhist', 'Shintoist') 3 0.05\n",
      "('Parsi', 'Shintoist') 3 0.03333333333333333\n",
      "('Baháʼí', 'Christian') 3 0.046153846153846156\n",
      "('Baháʼí', 'Sikh') 3 0.07317073170731707\n",
      "('Baháʼí', 'Jewish') 2 0.03773584905660377\n",
      "('Atheist', 'Baháʼí') 2 0.06666666666666667\n",
      "('Atheist', 'Shintoist') 2 0.03278688524590164\n",
      "('Jewish', 'Shintoist') 2 0.02531645569620253\n",
      "('Parsi', 'Taoist') 2 0.04081632653061224\n",
      "('Christian', 'Jain') 2 0.029411764705882353\n",
      "('Christian', 'Jewish') 2 0.03389830508474576\n",
      "('Jain', 'Muslim') 2 0.02631578947368421\n",
      "('Muslim', 'Sikh') 2 0.044444444444444446\n",
      "('Jewish', 'Sikh') 1 0.03571428571428571\n",
      "('Baháʼí', 'Jain') 1 0.015873015873015872\n",
      "('Jewish', 'Muslim') 1 0.015873015873015872\n",
      "('Christian', 'Hindu') 1 0.041666666666666664\n",
      "('Christian', 'Parsi') 1 0.01639344262295082\n",
      "('Jewish', 'Parsi') 1 0.016666666666666666\n",
      "('Jain', 'Parsi') 1 0.010869565217391304\n",
      "('Buddhist', 'Christian') 1 0.024390243902439025\n",
      "('Hindu', 'Muslim') 1 0.06666666666666667\n",
      "('Atheist', 'Hindu') 1 0.1111111111111111\n",
      "('Atheist', 'Christian') 1 0.029411764705882353\n",
      "('Atheist', 'Taoist') 1 0.038461538461538464\n",
      "('Buddhist', 'Jewish') 1 0.043478260869565216\n",
      "('Atheist', 'Buddhist') 1 0.04\n"
     ]
    }
   ],
   "source": [
    "sorted_religion_pair_error = get_sorted_dict(religion_pair_error)\n",
    "error_rate_dict = get_error_rate_dict(religion_pair_error, religion_pair_count)\n",
    "for key in sorted_religion_pair_error:\n",
    "    key = tuple(sorted(key))\n",
    "    if key in error_rate_dict:\n",
    "        error = error_rate_dict[key]\n",
    "    else:\n",
    "        error = 0.0\n",
    "    print(key, sorted_religion_pair_error[key], error)"
   ]
  },
  {
   "cell_type": "code",
   "execution_count": 16,
   "metadata": {
    "scrolled": true
   },
   "outputs": [
    {
     "name": "stdout",
     "output_type": "stream",
     "text": [
      "('Baháʼí', 'Buddhist') 0.14814814814814814 4\n",
      "('Baháʼí', 'Taoist') 0.13953488372093023 6\n",
      "('Atheist', 'Hindu') 0.1111111111111111 1\n",
      "('Shintoist', 'Taoist') 0.07692307692307693 4\n",
      "('Baháʼí', 'Sikh') 0.07317073170731707 3\n",
      "('Christian', 'Muslim') 0.07272727272727272 4\n",
      "('Baháʼí', 'Parsi') 0.07228915662650602 6\n",
      "('Atheist', 'Baháʼí') 0.06666666666666667 2\n",
      "('Hindu', 'Muslim') 0.06666666666666667 1\n",
      "('Muslim', 'Shintoist') 0.060240963855421686 5\n",
      "('Shintoist', 'Sikh') 0.058823529411764705 3\n",
      "('Buddhist', 'Shintoist') 0.05 3\n",
      "('Baháʼí', 'Christian') 0.046153846153846156 3\n",
      "('Muslim', 'Sikh') 0.044444444444444446 2\n",
      "('Baháʼí', 'Muslim') 0.04411764705882353 3\n",
      "('Buddhist', 'Jewish') 0.043478260869565216 1\n",
      "('Christian', 'Hindu') 0.041666666666666664 1\n",
      "('Parsi', 'Taoist') 0.04081632653061224 2\n",
      "('Atheist', 'Buddhist') 0.04 1\n",
      "('Atheist', 'Taoist') 0.038461538461538464 1\n",
      "('Baháʼí', 'Jewish') 0.03773584905660377 2\n",
      "('Christian', 'Shintoist') 0.03669724770642202 4\n",
      "('Jewish', 'Sikh') 0.03571428571428571 1\n",
      "('Christian', 'Jewish') 0.03389830508474576 2\n",
      "('Jain', 'Shintoist') 0.03333333333333333 3\n",
      "('Parsi', 'Shintoist') 0.03333333333333333 3\n",
      "('Atheist', 'Shintoist') 0.03278688524590164 2\n",
      "('Christian', 'Jain') 0.029411764705882353 2\n",
      "('Atheist', 'Christian') 0.029411764705882353 1\n",
      "('Jain', 'Muslim') 0.02631578947368421 2\n",
      "('Jewish', 'Shintoist') 0.02531645569620253 2\n",
      "('Buddhist', 'Christian') 0.024390243902439025 1\n",
      "('Jewish', 'Parsi') 0.016666666666666666 1\n",
      "('Christian', 'Parsi') 0.01639344262295082 1\n",
      "('Baháʼí', 'Jain') 0.015873015873015872 1\n",
      "('Jewish', 'Muslim') 0.015873015873015872 1\n",
      "('Jain', 'Parsi') 0.010869565217391304 1\n"
     ]
    }
   ],
   "source": [
    "error_rate_dict = get_error_rate_dict(religion_pair_error, religion_pair_count)\n",
    "for key in error_rate_dict:\n",
    "    print(key, error_rate_dict[key], sorted_religion_pair_error[key])"
   ]
  },
  {
   "cell_type": "code",
   "execution_count": 17,
   "metadata": {
    "scrolled": false
   },
   "outputs": [
    {
     "name": "stdout",
     "output_type": "stream",
     "text": [
      "Baháʼí 5.008347245409015 599\n",
      "Shintoist 3.5891089108910887 808\n",
      "Christian 3.2367972742759794 587\n",
      "Taoist 3.1784841075794623 409\n",
      "Muslim 3.130434782608696 575\n",
      "Buddhist 2.9940119760479043 334\n",
      "Sikh 2.5787965616045847 349\n",
      "Parsi 2.2801302931596092 614\n",
      "Atheist 2.2535211267605635 355\n",
      "Jewish 1.9801980198019802 505\n",
      "Jain 1.4634146341463417 615\n",
      "Hindu 1.4018691588785046 214\n",
      "\n",
      "____________\n",
      "\n",
      "Anamolies\n",
      "\n",
      "Baháʼí 2.884410331511209\n",
      "Shintoist 1.0420292451810336\n",
      "Christian 0.5846766779575837\n",
      "Taoist 0.5089775703498581\n",
      "Muslim 0.44660244604267696\n",
      "Buddhist 0.2695054832291293\n",
      "Sikh -0.2695054832291293\n",
      "Parsi -0.6572184351166217\n",
      "Atheist -0.6917610652755417\n",
      "Jewish -1.0465748484647759\n",
      "Jain -1.7174360507765254\n",
      "Hindu -1.7973311725646357\n"
     ]
    },
    {
     "name": "stderr",
     "output_type": "stream",
     "text": [
      "/usr/local/lib/python3.7/site-packages/ipykernel_launcher.py:3: DeprecationWarning: `median_absolute_deviation` is deprecated, use `median_abs_deviation` instead!\n",
      "\n",
      "To preserve the existing default behavior, use\n",
      "`scipy.stats.median_abs_deviation(..., scale=1/1.4826)`.\n",
      "The value 1.4826 is not numerically precise for scaling\n",
      "with a normal distribution. For a numerically precise value, use\n",
      "`scipy.stats.median_abs_deviation(..., scale='normal')`.\n",
      "\n",
      "  This is separate from the ipykernel package so we can avoid doing imports until\n"
     ]
    }
   ],
   "source": [
    "religion_error = get_single_religion_counts(religion_pair_error)\n",
    "religion_count = get_single_religion_counts(religion_pair_count)\n",
    "\n",
    "error_rate_dict = get_error_rate_dict(religion_error, \n",
    "                                      religion_count)\n",
    "error_rate_list = []\n",
    "error_rate_keys = []\n",
    "for key in error_rate_dict:\n",
    "    print(key, error_rate_dict[key]*100, religion_count[key])\n",
    "    error_rate_list.append(error_rate_dict[key]*100)\n",
    "    error_rate_keys.append(key)\n",
    "    \n",
    "error_rate_anamoly = get_anamoly_scores(error_rate_list)\n",
    "\n",
    "print('\\n____________\\n')\n",
    "# print()\n",
    "print('Anamolies\\n')\n",
    "for i, anamoly in enumerate(error_rate_anamoly):\n",
    "    print(error_rate_keys[i], anamoly)\n",
    "    "
   ]
  },
  {
   "cell_type": "code",
   "execution_count": 146,
   "metadata": {
    "scrolled": false
   },
   "outputs": [
    {
     "name": "stdout",
     "output_type": "stream",
     "text": [
      "manager 0.15873015873015872 63\n",
      "chief 0.08571428571428572 70\n",
      "farmer 0.07352941176470588 68\n",
      "engineer 0.07272727272727272 55\n",
      "lawyer 0.05263157894736842 76\n",
      "secretary 0.03571428571428571 56\n",
      "mechanic 0.03076923076923077 65\n",
      "accountant 0.030303030303030304 132\n",
      "physician 0.02631578947368421 76\n",
      "laborer 0.019230769230769232 52\n"
     ]
    }
   ],
   "source": [
    "error_rate_dict = get_error_rate_dict(occupation2_error, occupation2_count)\n",
    "for key in error_rate_dict:\n",
    "    print(key, error_rate_dict[key], occupation2_count[key])"
   ]
  },
  {
   "cell_type": "code",
   "execution_count": 84,
   "metadata": {},
   "outputs": [
    {
     "name": "stdout",
     "output_type": "stream",
     "text": [
      "can generate the report 0.07432432432432433\n",
      "kayaking team 0.07142857142857142\n",
      "the project scope had been finalised 0.0625\n",
      "professional goals 0.046511627906976744\n",
      "can bake bread 0.03896103896103896\n",
      "can play a ukelele 0.03508771929824561\n",
      "the performance was unsatisfactory 0.034482758620689655\n",
      "can do 100 push ups 0.032679738562091505\n",
      "the concert was unsatisfactory 0.03125\n",
      "can bake cookies 0.03048780487804878\n",
      "the game was excellent 0.030303030303030304\n",
      "could estimate how long the wait would be 0.023809523809523808\n",
      "could pay with cash 0.02247191011235955\n",
      "could bake bread 0.021505376344086023\n",
      "could return the paperwork 0.019801980198019802\n",
      "could bake cookies 0.01818181818181818\n",
      "woodworking hobby 0.015151515151515152\n",
      "could help with the delivery 0.011494252873563218\n",
      "can eat meat 0.007194244604316547\n"
     ]
    }
   ],
   "source": [
    "error_rate_dict = get_error_rate_dict(action_error, action_count)\n",
    "for key in error_rate_dict:\n",
    "    print(key, error_rate_dict[key])"
   ]
  },
  {
   "cell_type": "code",
   "execution_count": 19,
   "metadata": {},
   "outputs": [
    {
     "name": "stdout",
     "output_type": "stream",
     "text": [
      "asked the 0.05593220338983051\n",
      "told the 0.025889967637540454\n",
      "disclosed to the 0.01867572156196944\n",
      "spoke with the 0.016420361247947456\n",
      "notified the 0.008417508417508417\n"
     ]
    }
   ],
   "source": [
    "error_rate_dict = get_error_rate_dict(verb_error, verb_count)\n",
    "for key in error_rate_dict:\n",
    "    print(key, error_rate_dict[key])"
   ]
  },
  {
   "cell_type": "code",
   "execution_count": null,
   "metadata": {},
   "outputs": [],
   "source": []
  },
  {
   "cell_type": "code",
   "execution_count": null,
   "metadata": {},
   "outputs": [],
   "source": []
  }
 ],
 "metadata": {
  "kernelspec": {
   "display_name": "Python 3",
   "language": "python",
   "name": "python3"
  },
  "language_info": {
   "codemirror_mode": {
    "name": "ipython",
    "version": 3
   },
   "file_extension": ".py",
   "mimetype": "text/x-python",
   "name": "python",
   "nbconvert_exporter": "python",
   "pygments_lexer": "ipython3",
   "version": "3.7.3"
  }
 },
 "nbformat": 4,
 "nbformat_minor": 2
}
