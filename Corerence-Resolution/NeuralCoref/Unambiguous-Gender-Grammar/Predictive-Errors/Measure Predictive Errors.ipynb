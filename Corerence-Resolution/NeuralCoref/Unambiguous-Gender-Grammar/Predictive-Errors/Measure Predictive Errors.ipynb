{
 "cells": [
  {
   "cell_type": "code",
   "execution_count": 7,
   "metadata": {},
   "outputs": [],
   "source": [
    "import random\n",
    "import pickle\n",
    "\n",
    "import numpy as np\n",
    "\n",
    "import spacy\n",
    "nlp = spacy.load('en')\n",
    "\n",
    "# Add neural coref to SpaCy's pipe\n",
    "import neuralcoref\n",
    "neuralcoref.add_to_pipe(nlp)\n",
    "pass\n",
    "\n"
   ]
  },
  {
   "cell_type": "code",
   "execution_count": 8,
   "metadata": {},
   "outputs": [],
   "source": [
    "def predict_clusters(sentence):\n",
    "    doc = nlp(sentence)\n",
    "    if doc._.has_coref: \n",
    "        return (doc._.coref_resolved, doc._.coref_clusters)\n",
    "    else:\n",
    "        return ('', '')"
   ]
  },
  {
   "cell_type": "code",
   "execution_count": 9,
   "metadata": {},
   "outputs": [],
   "source": [
    "def extract_coref_ground_truth(test_case):\n",
    "    return ' '.join(test_case.split(' ')[0:2])"
   ]
  },
  {
   "cell_type": "code",
   "execution_count": 10,
   "metadata": {},
   "outputs": [],
   "source": [
    "def get_pred_error(test_case):\n",
    "    _, clusters = predict_clusters(test_case)\n",
    "    gt_oc = extract_coref_ground_truth(test_case)\n",
    "#     print(str(clusters))\n",
    "    return not gt_oc in str(clusters)"
   ]
  },
  {
   "cell_type": "code",
   "execution_count": 12,
   "metadata": {},
   "outputs": [],
   "source": [
    "with open('saved_pickles/Exploitation/unique_input1_set.pickle', 'rb') as handle:\n",
    "    unique_input1_set = pickle.load(handle)\n",
    "    "
   ]
  },
  {
   "cell_type": "code",
   "execution_count": 13,
   "metadata": {},
   "outputs": [
    {
     "name": "stdout",
     "output_type": "stream",
     "text": [
      "2175 5744\n"
     ]
    }
   ],
   "source": [
    "TEST_CASES = 0\n",
    "PRED_ERRORS = 0\n",
    "for test_input in list(unique_input1_set):\n",
    "    test_input1, test_input2 = test_input, test_input.replace('He', 'She')\n",
    "#     print()\n",
    "#     print()\n",
    "    TEST_CASES += 1\n",
    "    if get_pred_error(test_input1):\n",
    "        PRED_ERRORS += 1\n",
    "        \n",
    "    TEST_CASES += 1\n",
    "    if get_pred_error(test_input2):\n",
    "        PRED_ERRORS += 1\n",
    "\n",
    "print (PRED_ERRORS, TEST_CASES)"
   ]
  },
  {
   "cell_type": "code",
   "execution_count": 58,
   "metadata": {},
   "outputs": [],
   "source": [
    "def repeatedStringMatch(a: str, b: str) -> int:\n",
    "        rep_a = ''\n",
    "        for i in set(b):\n",
    "            if i not in a:\n",
    "                return -1\n",
    "        for i in range(10000):\n",
    "            if (b in rep_a):\n",
    "                return i\n",
    "            else:\n",
    "                rep_a += a\n",
    "        return -1"
   ]
  },
  {
   "cell_type": "code",
   "execution_count": 60,
   "metadata": {},
   "outputs": [
    {
     "name": "stdout",
     "output_type": "stream",
     "text": [
      "-1\n"
     ]
    }
   ],
   "source": [
    "print(repeatedStringMatch(\"babbaaaaaababbaaaaaababbaaaaaababbaaaaaababbaaaaaababbaaaaaababbaaaaaababbaaaaaababbaaaaaababbaaaaa\",\"babbaaabbbbabbaaabbbbabbaaabbbbabbaaabbbbabbaaabbbbabbaaabbbbabbaaabbbbabbaaabbbbabbaaabbbbabbaaabbb\"))"
   ]
  },
  {
   "cell_type": "code",
   "execution_count": null,
   "metadata": {},
   "outputs": [],
   "source": []
  },
  {
   "cell_type": "code",
   "execution_count": null,
   "metadata": {},
   "outputs": [],
   "source": []
  }
 ],
 "metadata": {
  "kernelspec": {
   "display_name": "Python 3",
   "language": "python",
   "name": "python3"
  },
  "language_info": {
   "codemirror_mode": {
    "name": "ipython",
    "version": 3
   },
   "file_extension": ".py",
   "mimetype": "text/x-python",
   "name": "python",
   "nbconvert_exporter": "python",
   "pygments_lexer": "ipython3",
   "version": "3.7.3"
  }
 },
 "nbformat": 4,
 "nbformat_minor": 2
}
