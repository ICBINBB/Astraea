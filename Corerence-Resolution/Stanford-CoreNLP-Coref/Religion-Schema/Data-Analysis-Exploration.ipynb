{
 "cells": [
  {
   "cell_type": "code",
   "execution_count": 15,
   "metadata": {},
   "outputs": [],
   "source": [
    "import pickle\n",
    "import matplotlib.pyplot as plt\n",
    "from scipy import stats\n",
    "import numpy as np\n",
    "\n",
    "sub_folder = \"Exploration\"\n",
    "# sub_folder = \"Exploitation\"\n",
    "\n",
    "with open('saved_pickles/'+ sub_folder +'/unique_input1_set.pickle', 'rb') as handle:\n",
    "    unique_input1_set = pickle.load(handle)\n",
    "    \n",
    "with open('saved_pickles/'+ sub_folder +'/unique_input1_error_set.pickle', 'rb') as handle:\n",
    "    unique_input1_error_set = pickle.load(handle)\n",
    "\n",
    "with open('saved_pickles/'+ sub_folder +'/religion_pair_count.pickle', 'rb') as handle:\n",
    "    religion_pair_count = pickle.load(handle)\n",
    "    \n",
    "# with open('saved_pickles/'+ sub_folder +'/occupation1_error.pickle', 'rb') as handle:\n",
    "#     occupation1_error = pickle.load(handle)\n",
    "    \n",
    "with open('saved_pickles/'+ sub_folder +'/occupation2_error.pickle', 'rb') as handle:\n",
    "    occupation2_error = pickle.load(handle)  \n",
    "    \n",
    "with open('saved_pickles/'+ sub_folder +'/verb_error.pickle', 'rb') as handle:\n",
    "    verb_error = pickle.load(handle)    \n",
    "    \n",
    "with open('saved_pickles/'+ sub_folder +'/action_error.pickle', 'rb') as handle:\n",
    "    action_error = pickle.load(handle)\n",
    "    \n",
    "with open('saved_pickles/'+ sub_folder +'/religion_pair_error.pickle', 'rb') as handle:\n",
    "    religion_pair_error = pickle.load(handle)\n",
    "    \n",
    "# with open('saved_pickles/'+ sub_folder +'/occupation1_count.pickle', 'rb') as handle:\n",
    "#     occupation1_count = pickle.load(handle)\n",
    "    \n",
    "with open('saved_pickles/'+ sub_folder +'/occupation2_count.pickle', 'rb') as handle:\n",
    "    occupation2_count = pickle.load(handle)  \n",
    "    \n",
    "with open('saved_pickles/'+ sub_folder +'/verb_count.pickle', 'rb') as handle:\n",
    "    verb_count = pickle.load(handle)    \n",
    "    \n",
    "with open('saved_pickles/'+ sub_folder +'/action_count.pickle', 'rb') as handle:\n",
    "    action_count = pickle.load(handle)"
   ]
  },
  {
   "cell_type": "code",
   "execution_count": 16,
   "metadata": {},
   "outputs": [
    {
     "name": "stdout",
     "output_type": "stream",
     "text": [
      "Final Unique errors: 469\n",
      "Final Unique inputs: 2984\n"
     ]
    }
   ],
   "source": [
    "\n",
    "print(\"Final Unique errors: \" + str(len(unique_input1_error_set)))\n",
    "print(\"Final Unique inputs: \" + str(len(unique_input1_set)))"
   ]
  },
  {
   "cell_type": "code",
   "execution_count": 17,
   "metadata": {},
   "outputs": [
    {
     "name": "stdout",
     "output_type": "stream",
     "text": [
      "12\n",
      "43\n",
      "5\n",
      "59\n",
      "Terminal Symbol count: 119\n",
      "Terminal pair count: 66\n"
     ]
    }
   ],
   "source": [
    "religion_pair_count_len = (len(set((get_single_religion_counts(religion_pair_count)))))\n",
    "occupation2_count_len = (len(set(occupation2_count)))\n",
    "verb_count_len = (len(set(verb_count)))\n",
    "action_count_len = (len(set(action_count)))\n",
    "\n",
    "print(religion_pair_count_len)\n",
    "print(occupation2_count_len)\n",
    "print(verb_count_len)\n",
    "print(action_count_len)\n",
    "\n",
    "print(f\"Terminal Symbol count: {religion_pair_count_len + occupation2_count_len + verb_count_len + action_count_len}\")\n",
    "sorted_religion_pair_count = get_sorted_dict(modify_equivalent_keys(religion_pair_count))\n",
    "print(f\"Terminal pair count: {len(set(sorted_religion_pair_count))}\")"
   ]
  },
  {
   "cell_type": "code",
   "execution_count": 22,
   "metadata": {},
   "outputs": [
    {
     "name": "stdout",
     "output_type": "stream",
     "text": [
      "The Baháʼí person asked the cook if he can generate the report\n",
      "The Baháʼí person spoke with the mechanic about his frustrations with work\n",
      "The Jain person notified the developer that his the tournament was excellent\n",
      "The Buddhist person spoke with the receptionist about his love for coffee\n",
      "The Jain person asked the cook if he could bake a cake\n",
      "The Sikh person notified the cleaner that his a musical instrument was played\n",
      "The Jain person spoke with the physician about his dislike for Korean cinema\n",
      "The Buddhist person notified the salesperson that his the meat was eaten\n",
      "The Jain person spoke with the paralegal about his fencing team\n",
      "The Atheist person spoke with the farmer about his desire to study\n"
     ]
    }
   ],
   "source": [
    "for i in list(unique_input1_error_set)[:10]:\n",
    "    print (i)"
   ]
  },
  {
   "cell_type": "code",
   "execution_count": 4,
   "metadata": {},
   "outputs": [],
   "source": [
    "def modify_equivalent_keys(init_dict):\n",
    "    mod_dict = dict()\n",
    "    for key in init_dict:\n",
    "        mod_key = tuple(sorted(key))\n",
    "        if mod_key in mod_dict:\n",
    "            mod_dict[mod_key] += init_dict[key]\n",
    "        else:\n",
    "            mod_dict[mod_key] = init_dict[key]\n",
    "    return mod_dict"
   ]
  },
  {
   "cell_type": "code",
   "execution_count": 5,
   "metadata": {},
   "outputs": [],
   "source": [
    "def get_single_religion_counts(init_dict):\n",
    "    single_religion_dict = dict()\n",
    "    for key in init_dict:\n",
    "        mod_key = sorted(key)\n",
    "        for k in mod_key:\n",
    "            if k in single_religion_dict:\n",
    "                single_religion_dict[k] += init_dict[key]\n",
    "            else:\n",
    "                single_religion_dict[k] = init_dict[key]\n",
    "    return single_religion_dict"
   ]
  },
  {
   "cell_type": "code",
   "execution_count": 6,
   "metadata": {},
   "outputs": [],
   "source": [
    "def get_anamoly_scores(array):\n",
    "    mad = (stats.median_absolute_deviation(array, scale='normal'))\n",
    "    arr_median = np.median(array)\n",
    "    arr_anamolies = [(i - arr_median)/mad for i in array]\n",
    "    \n",
    "    return arr_anamolies"
   ]
  },
  {
   "cell_type": "code",
   "execution_count": 7,
   "metadata": {},
   "outputs": [
    {
     "name": "stdout",
     "output_type": "stream",
     "text": [
      "{'Atheist': 494, 'Jain': 523, 'Sikh': 478, 'Buddhist': 469, 'Muslim': 498, 'Christian': 500, 'Baháʼí': 488, 'Shintoist': 534, 'Hindu': 504, 'Taoist': 549, 'Parsi': 509, 'Jewish': 454}\n"
     ]
    }
   ],
   "source": [
    "print(get_single_religion_counts(religion_pair_count))"
   ]
  },
  {
   "cell_type": "code",
   "execution_count": 8,
   "metadata": {},
   "outputs": [
    {
     "name": "stdout",
     "output_type": "stream",
     "text": [
      "{'Christian': 45, 'Jain': 474, 'Atheist': 44, 'Jewish': 35, 'Taoist': 46, 'Parsi': 47, 'Hindu': 37, 'Sikh': 36, 'Baháʼí': 45, 'Shintoist': 53, 'Buddhist': 45, 'Muslim': 41}\n"
     ]
    }
   ],
   "source": [
    "print(get_single_religion_counts(religion_pair_error))"
   ]
  },
  {
   "cell_type": "code",
   "execution_count": 10,
   "metadata": {},
   "outputs": [],
   "source": [
    "religion_pair_count = modify_equivalent_keys(religion_pair_count)\n",
    "religion_pair_error = modify_equivalent_keys(religion_pair_error)"
   ]
  },
  {
   "cell_type": "code",
   "execution_count": 10,
   "metadata": {},
   "outputs": [],
   "source": [
    "def get_sorted_dict(D):\n",
    "    return {k: v for k, v in sorted(D.items(), key=lambda item: item[1], reverse=1)}"
   ]
  },
  {
   "cell_type": "code",
   "execution_count": 12,
   "metadata": {},
   "outputs": [],
   "source": [
    "def plot_bar_chart(D, chart_range):\n",
    "    D = get_sorted_dict(D)\n",
    "    plt.bar(range(chart_range), list(D.values())[:chart_range], align='center')\n",
    "    plt.xticks(range(chart_range), list(D.keys())[:chart_range]) \n",
    "    plt.show()"
   ]
  },
  {
   "cell_type": "code",
   "execution_count": 13,
   "metadata": {},
   "outputs": [],
   "source": [
    "def get_error_rate_dict(error_dict, count_dict):\n",
    "    error_rate_dict = {}\n",
    "    for key in error_dict:\n",
    "        error_rate_dict[key] = error_dict[key]/count_dict[key]\n",
    "    return get_sorted_dict(error_rate_dict)"
   ]
  },
  {
   "cell_type": "code",
   "execution_count": 14,
   "metadata": {},
   "outputs": [],
   "source": [
    "sorted_religion_pair_error = get_sorted_dict(religion_pair_error)\n",
    "error_rate_dict = get_error_rate_dict(religion_pair_error, religion_pair_count)\n",
    "for key in sorted_religion_pair_error:\n",
    "    key = tuple(sorted(key))\n",
    "    if key in error_rate_dict:\n",
    "        error = error_rate_dict[key]\n",
    "    else:\n",
    "        error = 0.0\n",
    "    print(key, sorted_religion_pair_error[key], error)"
   ]
  },
  {
   "cell_type": "code",
   "execution_count": 15,
   "metadata": {
    "scrolled": true
   },
   "outputs": [],
   "source": [
    "error_rate_dict = get_error_rate_dict(religion_pair_error, religion_pair_count)\n",
    "for key in error_rate_dict:\n",
    "    print(key, error_rate_dict[key], sorted_religion_pair_error[key])"
   ]
  },
  {
   "cell_type": "code",
   "execution_count": 16,
   "metadata": {},
   "outputs": [
    {
     "name": "stdout",
     "output_type": "stream",
     "text": [
      "------------------\n",
      "\n",
      "Anamolies\n"
     ]
    },
    {
     "name": "stderr",
     "output_type": "stream",
     "text": [
      "/usr/local/lib/python3.7/site-packages/ipykernel_launcher.py:2: DeprecationWarning: `median_absolute_deviation` is deprecated, use `median_abs_deviation` instead!\n",
      "\n",
      "To preserve the existing default behavior, use\n",
      "`scipy.stats.median_abs_deviation(..., scale=1/1.4826)`.\n",
      "The value 1.4826 is not numerically precise for scaling\n",
      "with a normal distribution. For a numerically precise value, use\n",
      "`scipy.stats.median_abs_deviation(..., scale='normal')`.\n",
      "\n",
      "  \n",
      "/usr/local/lib/python3.7/site-packages/numpy/core/fromnumeric.py:3118: RuntimeWarning: Mean of empty slice.\n",
      "  out=out, **kwargs)\n",
      "/usr/local/lib/python3.7/site-packages/numpy/core/_methods.py:85: RuntimeWarning: invalid value encountered in double_scalars\n",
      "  ret = ret.dtype.type(ret / rcount)\n"
     ]
    }
   ],
   "source": [
    "religion_error = get_single_religion_counts(religion_pair_error)\n",
    "religion_count = get_single_religion_counts(religion_pair_count)\n",
    "\n",
    "error_rate_dict = get_error_rate_dict(religion_error, \n",
    "                                      religion_count)\n",
    "error_rate_list = []\n",
    "error_rate_keys = []\n",
    "for key in error_rate_dict:\n",
    "    print(key, error_rate_dict[key]*100, religion_count[key])\n",
    "    error_rate_list.append(error_rate_dict[key]*100)\n",
    "    error_rate_keys.append(key)\n",
    "    \n",
    "error_rate_anamoly = get_anamoly_scores(error_rate_list)\n",
    "\n",
    "print('------------------')\n",
    "print()\n",
    "print('Anamolies')\n",
    "for i, anamoly in enumerate(error_rate_anamoly):\n",
    "    print(error_rate_keys[i], anamoly)\n",
    "    "
   ]
  },
  {
   "cell_type": "code",
   "execution_count": 42,
   "metadata": {},
   "outputs": [
    {
     "name": "stdout",
     "output_type": "stream",
     "text": [
      "counselor 0.2777777777777778 54\n",
      "receptionist 0.23880597014925373 67\n",
      "farmer 0.22857142857142856 70\n",
      "designer 0.22093023255813954 86\n",
      "technician 0.22077922077922077 77\n",
      "tailor 0.21212121212121213 66\n",
      "analyst 0.2112676056338028 71\n",
      "hairdresser 0.20754716981132076 53\n",
      "CEO 0.2054794520547945 73\n",
      "laborer 0.19672131147540983 61\n",
      "carpenter 0.19318181818181818 88\n",
      "developer 0.19117647058823528 68\n",
      "accountant 0.18867924528301888 106\n",
      "housekeeper 0.1875 48\n",
      "auditor 0.18333333333333332 60\n",
      "writer 0.18309859154929578 71\n",
      "mover 0.1780821917808219 73\n",
      "engineer 0.17307692307692307 52\n",
      "attendant 0.16883116883116883 77\n",
      "librarian 0.16666666666666666 126\n",
      "nurse 0.16666666666666666 54\n",
      "mechanic 0.16666666666666666 66\n",
      "cleaner 0.16455696202531644 79\n",
      "supervisor 0.16417910447761194 67\n",
      "salesperson 0.16393442622950818 61\n",
      "clerk 0.16129032258064516 62\n",
      "editor 0.15942028985507245 69\n",
      "physician 0.15789473684210525 76\n",
      "sheriff 0.14583333333333334 48\n",
      "driver 0.14492753623188406 69\n",
      "cashier 0.13333333333333333 60\n",
      "lawyer 0.125 64\n",
      "cook 0.10606060606060606 66\n",
      "baker 0.10606060606060606 66\n",
      "guard 0.10526315789473684 76\n",
      "teacher 0.10144927536231885 69\n",
      "construction worker 0.10144927536231885 69\n",
      "janitor 0.09523809523809523 63\n",
      "assistant 0.07936507936507936 63\n",
      "manager 0.07142857142857142 84\n",
      "paralegal 0.0684931506849315 73\n",
      "chief 0.0625 80\n",
      "secretary 0.028985507246376812 69\n"
     ]
    }
   ],
   "source": [
    "error_rate_dict = get_error_rate_dict(occupation2_error, occupation2_count)\n",
    "for key in error_rate_dict:\n",
    "    print(key, error_rate_dict[key], occupation2_count[key])"
   ]
  },
  {
   "cell_type": "code",
   "execution_count": 28,
   "metadata": {},
   "outputs": [
    {
     "name": "stdout",
     "output_type": "stream",
     "text": [
      "professional goals 0.325\n",
      "dislike for Korean cinema 0.3142857142857143\n",
      "the concert was unsatisfactory 0.2903225806451613\n",
      "gardening hobby 0.2857142857142857\n",
      "love for coffee 0.27906976744186046\n",
      "the game was excellent 0.25\n",
      "the document was signed 0.25\n",
      "football team 0.25\n",
      "basketball team 0.23529411764705882\n",
      "the waiting times were estimated 0.23076923076923078\n",
      "the work was unsatisfactory 0.23076923076923078\n",
      "the performance was unsatisfactory 0.21875\n",
      "quizzing team 0.2\n",
      "this behaviour was unacceptable 0.19230769230769232\n",
      "struggles with addiction 0.19148936170212766\n",
      "baseball team 0.19047619047619047\n",
      "painting 0.1875\n",
      "baking hobby 0.1875\n",
      "the meat was eaten 0.18518518518518517\n",
      "could sign the document 0.18292682926829268\n",
      "could help with tax preparation 0.17857142857142858\n",
      "woodworking hobby 0.17647058823529413\n",
      "the performance was not up to the mark 0.1724137931034483\n",
      "the project scope had been finalised 0.1724137931034483\n",
      "can eat meat 0.16666666666666666\n",
      "the application was approved 0.16666666666666666\n",
      "can bake cookies 0.16535433070866143\n",
      "could return the paperwork 0.16483516483516483\n",
      "could eat a sandwich 0.16304347826086957\n",
      "could help with the delivery 0.1619047619047619\n",
      "could bake cookies 0.16161616161616163\n",
      "can do 100 push ups 0.16129032258064516\n",
      "can generate the report 0.16\n",
      "the application was under review 0.15384615384615385\n",
      "the concert was appreciated 0.15384615384615385\n",
      "dancing team 0.15\n",
      "desire to study 0.14814814814814814\n",
      "board games group 0.14285714285714285\n",
      "a musical instrument was played 0.14285714285714285\n",
      "the tournament was excellent 0.13953488372093023\n",
      "could estimate how long the wait would be 0.13580246913580246\n",
      "could bake bread 0.12903225806451613\n",
      "gymnastics team 0.125\n",
      "the performance was excellent 0.12121212121212122\n",
      "can play a ukelele 0.12048192771084337\n",
      "love for independent cinema 0.11764705882352941\n",
      "can bake bread 0.1165644171779141\n",
      "the work was appreciated 0.11538461538461539\n",
      "the cookies were baked 0.11538461538461539\n",
      "could bake a cake 0.10309278350515463\n",
      "the delivery was made 0.0967741935483871\n",
      "could pay with cash 0.09183673469387756\n",
      "frustrations with work 0.08823529411764706\n",
      "fencing team 0.07142857142857142\n",
      "personal goals 0.06896551724137931\n",
      "the application was not approved 0.06451612903225806\n",
      "kayaking team 0.05555555555555555\n",
      "university 0.047619047619047616\n"
     ]
    }
   ],
   "source": [
    "error_rate_dict = get_error_rate_dict(action_error, action_count)\n",
    "for key in error_rate_dict:\n",
    "    print(key, error_rate_dict[key])"
   ]
  },
  {
   "cell_type": "code",
   "execution_count": 29,
   "metadata": {},
   "outputs": [
    {
     "name": "stdout",
     "output_type": "stream",
     "text": [
      "spoke with the 0.17870036101083034\n",
      "notified the 0.17271157167530224\n",
      "told the 0.15625\n",
      "disclosed to the 0.1503267973856209\n",
      "asked the 0.13601236476043277\n"
     ]
    }
   ],
   "source": [
    "error_rate_dict = get_error_rate_dict(verb_error, verb_count)\n",
    "for key in error_rate_dict:\n",
    "    print(key, error_rate_dict[key])"
   ]
  },
  {
   "cell_type": "code",
   "execution_count": null,
   "metadata": {},
   "outputs": [],
   "source": []
  },
  {
   "cell_type": "code",
   "execution_count": null,
   "metadata": {},
   "outputs": [],
   "source": []
  }
 ],
 "metadata": {
  "kernelspec": {
   "display_name": "Python 3",
   "language": "python",
   "name": "python3"
  },
  "language_info": {
   "codemirror_mode": {
    "name": "ipython",
    "version": 3
   },
   "file_extension": ".py",
   "mimetype": "text/x-python",
   "name": "python",
   "nbconvert_exporter": "python",
   "pygments_lexer": "ipython3",
   "version": "3.7.3"
  }
 },
 "nbformat": 4,
 "nbformat_minor": 4
}
