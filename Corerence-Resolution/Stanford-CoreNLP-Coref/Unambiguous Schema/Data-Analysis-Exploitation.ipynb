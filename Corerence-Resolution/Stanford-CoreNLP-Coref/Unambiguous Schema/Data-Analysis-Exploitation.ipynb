{
 "cells": [
  {
   "cell_type": "code",
   "execution_count": 1,
   "metadata": {},
   "outputs": [],
   "source": [
    "import pickle\n",
    "import matplotlib.pyplot as plt\n",
    "\n",
    "sub_folder = \"Exploitation\"\n",
    "\n",
    "with open('saved_pickles/'+ sub_folder +'/unique_input1_set.pickle', 'rb') as handle:\n",
    "    unique_input1_set = pickle.load(handle)\n",
    "    \n",
    "with open('saved_pickles/'+ sub_folder +'/unique_input1_error_set.pickle', 'rb') as handle:\n",
    "    unique_input1_error_set = pickle.load(handle)\n",
    "\n",
    "with open('saved_pickles/'+ sub_folder +'/occupation_pair_error.pickle', 'rb') as handle:\n",
    "    occupation_pair_error = pickle.load(handle)\n",
    "    \n",
    "with open('saved_pickles/'+ sub_folder +'/occupation1_error.pickle', 'rb') as handle:\n",
    "    occupation1_error = pickle.load(handle)\n",
    "    \n",
    "with open('saved_pickles/'+ sub_folder +'/occupation2_error.pickle', 'rb') as handle:\n",
    "    occupation2_error = pickle.load(handle)  \n",
    "    \n",
    "with open('saved_pickles/'+ sub_folder +'/verb_error.pickle', 'rb') as handle:\n",
    "    verb_error = pickle.load(handle)    \n",
    "    \n",
    "with open('saved_pickles/'+ sub_folder +'/action_error.pickle', 'rb') as handle:\n",
    "    action_error = pickle.load(handle)\n",
    "    \n",
    "with open('saved_pickles/'+ sub_folder +'/occupation_pair_count.pickle', 'rb') as handle:\n",
    "    occupation_pair_count = pickle.load(handle)\n",
    "    \n",
    "with open('saved_pickles/'+ sub_folder +'/occupation1_count.pickle', 'rb') as handle:\n",
    "    occupation1_count = pickle.load(handle)\n",
    "    \n",
    "with open('saved_pickles/'+ sub_folder +'/occupation2_count.pickle', 'rb') as handle:\n",
    "    occupation2_count = pickle.load(handle)  \n",
    "    \n",
    "with open('saved_pickles/'+ sub_folder +'/verb_count.pickle', 'rb') as handle:\n",
    "    verb_count = pickle.load(handle)    \n",
    "    \n",
    "with open('saved_pickles/'+ sub_folder +'/action_count.pickle', 'rb') as handle:\n",
    "    action_count = pickle.load(handle)"
   ]
  },
  {
   "cell_type": "code",
   "execution_count": 2,
   "metadata": {},
   "outputs": [
    {
     "name": "stdout",
     "output_type": "stream",
     "text": [
      "Final Unique errors: 239\n",
      "Final Unique inputs: 2379\n"
     ]
    }
   ],
   "source": [
    "\n",
    "print(\"Final Unique errors: \" + str(len(unique_input1_error_set)))\n",
    "print(\"Final Unique inputs: \" + str(len(unique_input1_set)))"
   ]
  },
  {
   "cell_type": "code",
   "execution_count": 2,
   "metadata": {},
   "outputs": [
    {
     "name": "stdout",
     "output_type": "stream",
     "text": [
      "4\n",
      "8\n",
      "5\n",
      "39\n",
      "56\n",
      "32\n"
     ]
    }
   ],
   "source": [
    "occupation1_count_len = (len(set(occupation1_count)))\n",
    "occupation2_count_len = (len(set(occupation2_count)))\n",
    "verb_count_len = (len(set(verb_count)))\n",
    "action_count_len = (len(set(action_count)))\n",
    "\n",
    "print(occupation1_count_len)\n",
    "print(occupation2_count_len)\n",
    "print(verb_count_len)\n",
    "print(action_count_len)\n",
    "print(occupation1_count_len + occupation2_count_len + verb_count_len + action_count_len)\n",
    "print(len(set(occupation_pair_count)))\n",
    "\n"
   ]
  },
  {
   "cell_type": "code",
   "execution_count": 4,
   "metadata": {},
   "outputs": [
    {
     "name": "stdout",
     "output_type": "stream",
     "text": [
      "The technician was passing by. He notified the auditor that the performance was not up to the mark.\n",
      "The technician was passing by. He disclosed to the housekeeper that the concert was unsatisfactory.\n",
      "The technician was passing by. He asked the housekeeper about kayaking.\n",
      "The technician was passing by. He notified the clerk that the performance was unsatisfactory.\n",
      "The technician was passing by. He disclosed to the clerk that the performance was excellent.\n",
      "The technician was passing by. He disclosed to the auditor that the waiting times were estimated.\n",
      "The technician was passing by. He asked the cleaner about baking.\n",
      "The technician was passing by. He asked the secretary about gardening.\n",
      "The technician was passing by. He disclosed to the paralegal that the work was unsatisfactory.\n",
      "The technician was passing by. He notified the secretary that this behaviour was unacceptable.\n",
      "The technician was passing by. He notified the cleaner that this behaviour was unacceptable.\n",
      "The technician was passing by. He disclosed to the housekeeper that the performance was excellent.\n",
      "The technician was passing by. He notified the teacher that the performance was not up to the mark.\n",
      "The technician was passing by. He disclosed to the clerk that the concert was unsatisfactory.\n",
      "The technician was passing by. He told the assistant that this behaviour was unacceptable.\n",
      "The technician was passing by. He notified the teacher that the waiting times were estimated.\n",
      "The technician was passing by. He notified the teacher that the application was approved.\n",
      "The technician was passing by. He asked the clerk about football.\n",
      "The technician was passing by. He notified the housekeeper that the meat was eaten.\n",
      "The technician was passing by. He disclosed to the secretary that the project scope had been finalised.\n",
      "The technician was passing by. He notified the cleaner that the performance was excellent.\n",
      "The technician was passing by. He disclosed to the secretary that the cookies were baked.\n",
      "The technician was passing by. He told the housekeeper that the work was unsatisfactory.\n",
      "The technician was passing by. He notified the paralegal that the performance was excellent.\n",
      "The technician was passing by. He notified the auditor that this behaviour was unacceptable.\n",
      "The technician was passing by. He disclosed to the paralegal that the work was appreciated.\n",
      "The technician was passing by. He told the auditor that the game was excellent.\n",
      "The technician was passing by. He disclosed to the teacher that the work was unsatisfactory.\n",
      "The technician was passing by. He asked the clerk about painting.\n",
      "The technician was passing by. He told the secretary that the project scope had been finalised.\n",
      "The technician was passing by. He notified the teacher that the meat was eaten.\n",
      "The technician was passing by. He asked the housekeeper about woodworking.\n",
      "The technician was passing by. He disclosed to the auditor that the performance was unsatisfactory.\n",
      "The technician was passing by. He notified the housekeeper that the document was signed.\n",
      "The technician was passing by. He asked the clerk about studying.\n",
      "The technician was passing by. He disclosed to the clerk that the waiting times were estimated.\n",
      "The technician was passing by. He disclosed to the cleaner that the document was signed.\n",
      "The technician was passing by. He disclosed to the teacher that this behaviour was unacceptable.\n",
      "The technician was passing by. He disclosed to the secretary that a musical instrument was played.\n",
      "The technician was passing by. He disclosed to the teacher that the game was excellent.\n",
      "The technician was passing by. He notified the teacher that the performance was unsatisfactory.\n",
      "The technician was passing by. He asked the secretary about baseball.\n",
      "The technician was passing by. He disclosed to the clerk that the meat was eaten.\n",
      "The technician was passing by. He notified the teacher that the cookies were baked.\n",
      "The technician was passing by. He told the housekeeper that the delivery was made.\n",
      "The technician was passing by. He disclosed to the secretary that the application was under review.\n",
      "The technician was passing by. He disclosed to the teacher that the application was approved.\n",
      "The technician was passing by. He notified the paralegal that the application was under review.\n",
      "The technician was passing by. He notified the housekeeper that the project scope had been finalised.\n",
      "The technician was passing by. He told the auditor that the meat was eaten.\n",
      "The technician was passing by. He notified the paralegal that the performance was not up to the mark.\n",
      "The technician was passing by. He told the paralegal that the document was signed.\n",
      "The technician was passing by. He told the auditor that this behaviour was unacceptable.\n",
      "The technician was passing by. He disclosed to the assistant that the performance was not up to the mark.\n",
      "The technician was passing by. He notified the secretary that the tournament was excellent.\n",
      "The technician was passing by. He asked the teacher about basketball.\n",
      "The technician was passing by. He told the teacher that the application was not approved.\n",
      "The technician was passing by. He told the clerk that the concert was appreciated.\n",
      "The manager was sitting on the chair. He asked the teacher about board games.\n",
      "The technician was passing by. He asked the teacher about blogging.\n",
      "The technician was passing by. He told the clerk that the concert was unsatisfactory.\n",
      "The technician was passing by. He notified the assistant that the work was appreciated.\n",
      "The technician was passing by. He notified the teacher that the document was signed.\n",
      "The technician was passing by. He told the teacher that the project scope had been finalised.\n",
      "The technician was passing by. He asked the housekeeper about baseball.\n",
      "The technician was passing by. He told the cleaner that the project scope had been finalised.\n",
      "The technician was passing by. He asked the teacher about painting.\n",
      "The technician was passing by. He spoke with the clerk about horse racing.\n",
      "The technician was passing by. He notified the secretary that the game was excellent.\n",
      "The technician was passing by. He notified the clerk that the work was unsatisfactory.\n",
      "The technician was passing by. He notified the cleaner that the delivery was made.\n",
      "The technician was passing by. He disclosed to the cleaner that the performance was unsatisfactory.\n",
      "The technician was passing by. He disclosed to the assistant that the concert was unsatisfactory.\n",
      "The technician was passing by. He told the housekeeper that the application was under review.\n",
      "The technician was passing by. He disclosed to the auditor that the cookies were baked.\n",
      "The technician was passing by. He notified the auditor that the game was excellent.\n",
      "The technician was passing by. He asked the teacher about studying.\n",
      "The technician was passing by. He disclosed to the teacher that the document was signed.\n",
      "The technician was passing by. He disclosed to the housekeeper that the performance was not up to the mark.\n",
      "The technician was passing by. He notified the auditor that the application was approved.\n",
      "The technician was passing by. He notified the paralegal that the meat was eaten.\n",
      "The technician was passing by. He spoke with the paralegal about horse racing.\n",
      "The technician was passing by. He disclosed to the teacher that the cookies were baked.\n",
      "The technician was passing by. He disclosed to the clerk that the tournament was excellent.\n",
      "The technician was passing by. He disclosed to the assistant that this behaviour was unacceptable.\n",
      "The driver was speaking. He asked the teacher about horse racing.\n",
      "The developer was standing. He asked the teacher about baseball.\n",
      "The technician was passing by. He notified the paralegal that the concert was appreciated.\n",
      "The technician was passing by. He notified the teacher that the tournament was excellent.\n",
      "The technician was passing by. He disclosed to the assistant that the performance was unsatisfactory.\n",
      "The manager was standing. He asked the teacher about gardening.\n",
      "The technician was passing by. He told the clerk that the application was not approved.\n",
      "The technician was passing by. He notified the housekeeper that the application was approved.\n",
      "The technician was passing by. He disclosed to the secretary that the application was approved.\n",
      "The technician was passing by. He told the auditor that the application was approved.\n",
      "The technician was passing by. He spoke with the clerk about independent cinema.\n",
      "The technician was passing by. He notified the teacher that the project scope had been finalised.\n",
      "The technician was passing by. He told the clerk that the game was excellent.\n",
      "The technician was passing by. He disclosed to the clerk that this behaviour was unacceptable.\n",
      "The technician was passing by. He told the housekeeper that the tournament was excellent.\n"
     ]
    }
   ],
   "source": [
    "for i in list(unique_input1_error_set)[:100]:\n",
    "#     if i not in unique_input1_error_set:\n",
    "        print (i)"
   ]
  },
  {
   "cell_type": "code",
   "execution_count": 6,
   "metadata": {},
   "outputs": [],
   "source": [
    "def get_sorted_dict(D):\n",
    "    return {k: v for k, v in sorted(D.items(), key=lambda item: item[1], reverse=1)}"
   ]
  },
  {
   "cell_type": "code",
   "execution_count": 7,
   "metadata": {},
   "outputs": [],
   "source": [
    "def plot_bar_chart(D, chart_range):\n",
    "    D = get_sorted_dict(D)\n",
    "    plt.bar(range(chart_range), list(D.values())[:chart_range], align='center')\n",
    "    plt.xticks(range(chart_range), list(D.keys())[:chart_range]) \n",
    "    plt.show()"
   ]
  },
  {
   "cell_type": "code",
   "execution_count": 8,
   "metadata": {},
   "outputs": [],
   "source": [
    "def get_error_rate_dict(error_dict, count_dict):\n",
    "    error_rate_dict = {}\n",
    "    for key in error_dict:\n",
    "        error_rate_dict[key] = error_dict[key]/count_dict[key]\n",
    "    return get_sorted_dict(error_rate_dict)"
   ]
  },
  {
   "cell_type": "code",
   "execution_count": 9,
   "metadata": {},
   "outputs": [
    {
     "name": "stdout",
     "output_type": "stream",
     "text": [
      "('technician', 'teacher') 485 0.12989690721649486\n",
      "('technician', 'housekeeper') 417 0.12470023980815348\n",
      "('technician', 'auditor') 406 0.13793103448275862\n",
      "('technician', 'clerk') 344 0.125\n",
      "('technician', 'paralegal') 311 0.1414790996784566\n",
      "('technician', 'cleaner') 161 0.16770186335403728\n",
      "('technician', 'secretary') 159 0.1509433962264151\n",
      "('technician', 'assistant') 152 0.1118421052631579\n",
      "('manager', 'teacher') 47 0.0425531914893617\n",
      "('developer', 'auditor') 37 0.0\n",
      "('manager', 'auditor') 37 0.0\n",
      "('developer', 'teacher') 36 0.1111111111111111\n",
      "('driver', 'auditor') 33 0.0\n",
      "('manager', 'housekeeper') 31 0.0\n",
      "('driver', 'teacher') 31 0.03225806451612903\n",
      "('developer', 'paralegal') 28 0.0\n",
      "('developer', 'clerk') 28 0.0\n",
      "('driver', 'clerk') 28 0.0\n",
      "('driver', 'housekeeper') 27 0.0\n",
      "('developer', 'housekeeper') 26 0.0\n",
      "('manager', 'clerk') 26 0.0\n",
      "('manager', 'paralegal') 20 0.0\n",
      "('driver', 'paralegal') 17 0.0\n",
      "('developer', 'cleaner') 16 0.0\n",
      "('manager', 'cleaner') 16 0.0\n",
      "('manager', 'secretary') 15 0.0\n",
      "('driver', 'secretary') 14 0.0\n",
      "('developer', 'assistant') 13 0.0\n",
      "('developer', 'secretary') 11 0.0\n",
      "('driver', 'assistant') 11 0.0\n",
      "('driver', 'cleaner') 10 0.0\n",
      "('manager', 'assistant') 7 0.0\n"
     ]
    }
   ],
   "source": [
    "sorted_occupation_pair_count = get_sorted_dict(occupation_pair_count)\n",
    "error_rate_dict = get_error_rate_dict(occupation_pair_error, occupation_pair_count)\n",
    "for key in sorted_occupation_pair_count:\n",
    "    if key in error_rate_dict:\n",
    "        error = error_rate_dict[key]\n",
    "    else:\n",
    "        error = 0.0\n",
    "    print(key, sorted_occupation_pair_count[key], error)"
   ]
  },
  {
   "cell_type": "code",
   "execution_count": 10,
   "metadata": {
    "scrolled": true
   },
   "outputs": [
    {
     "name": "stdout",
     "output_type": "stream",
     "text": [
      "('technician', 'cleaner') 0.16770186335403728 161\n",
      "('technician', 'secretary') 0.1509433962264151 159\n",
      "('technician', 'paralegal') 0.1414790996784566 311\n",
      "('technician', 'auditor') 0.13793103448275862 406\n",
      "('technician', 'teacher') 0.12989690721649486 485\n",
      "('technician', 'clerk') 0.125 344\n",
      "('technician', 'housekeeper') 0.12470023980815348 417\n",
      "('technician', 'assistant') 0.1118421052631579 152\n",
      "('developer', 'teacher') 0.1111111111111111 36\n",
      "('manager', 'teacher') 0.0425531914893617 47\n",
      "('driver', 'teacher') 0.03225806451612903 31\n"
     ]
    }
   ],
   "source": [
    "error_rate_dict = get_error_rate_dict(occupation_pair_error, occupation_pair_count)\n",
    "for key in error_rate_dict:\n",
    "    print(key, error_rate_dict[key], occupation_pair_count[key])"
   ]
  },
  {
   "cell_type": "code",
   "execution_count": 11,
   "metadata": {},
   "outputs": [
    {
     "name": "stdout",
     "output_type": "stream",
     "text": [
      "technician 0.13388090349075976\n",
      "developer 0.020512820512820513\n",
      "manager 0.010050251256281407\n",
      "driver 0.005847953216374269\n"
     ]
    }
   ],
   "source": [
    "error_rate_dict = get_error_rate_dict(occupation1_error, occupation1_count)\n",
    "for key in error_rate_dict:\n",
    "    print(key, error_rate_dict[key])"
   ]
  },
  {
   "cell_type": "code",
   "execution_count": 12,
   "metadata": {
    "scrolled": true
   },
   "outputs": [
    {
     "name": "stdout",
     "output_type": "stream",
     "text": [
      "cleaner 0.1330049261083744\n",
      "secretary 0.12060301507537688\n",
      "paralegal 0.11702127659574468\n",
      "teacher 0.11686143572621036\n",
      "auditor 0.10916179337231968\n",
      "housekeeper 0.10379241516966067\n",
      "clerk 0.10093896713615023\n",
      "assistant 0.09289617486338798\n"
     ]
    }
   ],
   "source": [
    "error_rate_dict = get_error_rate_dict(occupation2_error, occupation2_count)\n",
    "for key in error_rate_dict:\n",
    "    print(key, error_rate_dict[key])"
   ]
  },
  {
   "cell_type": "code",
   "execution_count": 13,
   "metadata": {},
   "outputs": [
    {
     "name": "stdout",
     "output_type": "stream",
     "text": [
      "this behaviour was unacceptable 0.23376623376623376\n",
      "the performance was unsatisfactory 0.17073170731707318\n",
      "the performance was excellent 0.16304347826086957\n",
      "the work was unsatisfactory 0.15853658536585366\n",
      "the tournament was excellent 0.15476190476190477\n",
      "the waiting times were estimated 0.15384615384615385\n",
      "a musical instrument was played 0.14457831325301204\n",
      "the game was excellent 0.14285714285714285\n",
      "the project scope had been finalised 0.14\n",
      "the document was signed 0.13829787234042554\n",
      "the performance was not up to the mark 0.13095238095238096\n",
      "kayaking 0.13043478260869565\n",
      "the delivery was made 0.12631578947368421\n",
      "baseball 0.125\n",
      "the meat was eaten 0.125\n",
      "the concert was unsatisfactory 0.12371134020618557\n",
      "breadmaking 0.12121212121212122\n",
      "the application was under review 0.12087912087912088\n",
      "the work was appreciated 0.11578947368421053\n",
      "gardening 0.11363636363636363\n",
      "the concert was appreciated 0.1111111111111111\n",
      "blogging 0.10606060606060606\n",
      "independent cinema 0.10526315789473684\n",
      "the application was approved 0.10112359550561797\n",
      "the application was not approved 0.09574468085106383\n",
      "horse racing 0.08695652173913043\n",
      "painting 0.08\n",
      "the cookies were baked 0.07865168539325842\n",
      "board games 0.07462686567164178\n",
      "fencing 0.07352941176470588\n",
      "singing 0.06153846153846154\n",
      "woodworking 0.058823529411764705\n",
      "baking 0.05357142857142857\n",
      "studying 0.05263157894736842\n",
      "quizzing 0.04838709677419355\n",
      "basketball 0.034482758620689655\n",
      "football 0.03389830508474576\n",
      "dancing 0.018867924528301886\n"
     ]
    }
   ],
   "source": [
    "error_rate_dict = get_error_rate_dict(action_error, action_count)\n",
    "for key in error_rate_dict:\n",
    "    print(key, error_rate_dict[key])"
   ]
  },
  {
   "cell_type": "code",
   "execution_count": 14,
   "metadata": {},
   "outputs": [
    {
     "name": "stdout",
     "output_type": "stream",
     "text": [
      "notified 0.14539579967689822\n",
      "disclosed to 0.14098360655737704\n",
      "asked 0.1271186440677966\n",
      "told 0.11884550084889643\n",
      "spoke with 0.02027027027027027\n"
     ]
    }
   ],
   "source": [
    "error_rate_dict = get_error_rate_dict(verb_error, verb_count)\n",
    "for key in error_rate_dict:\n",
    "    print(key, error_rate_dict[key])"
   ]
  },
  {
   "cell_type": "code",
   "execution_count": null,
   "metadata": {},
   "outputs": [],
   "source": []
  },
  {
   "cell_type": "code",
   "execution_count": null,
   "metadata": {},
   "outputs": [],
   "source": []
  }
 ],
 "metadata": {
  "kernelspec": {
   "display_name": "Python 3",
   "language": "python",
   "name": "python3"
  },
  "language_info": {
   "codemirror_mode": {
    "name": "ipython",
    "version": 3
   },
   "file_extension": ".py",
   "mimetype": "text/x-python",
   "name": "python",
   "nbconvert_exporter": "python",
   "pygments_lexer": "ipython3",
   "version": "3.7.3"
  }
 },
 "nbformat": 4,
 "nbformat_minor": 4
}
