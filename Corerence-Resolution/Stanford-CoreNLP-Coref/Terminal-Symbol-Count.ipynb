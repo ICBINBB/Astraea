{
 "cells": [
  {
   "cell_type": "code",
   "execution_count": 28,
   "metadata": {},
   "outputs": [],
   "source": [
    "import pickle"
   ]
  },
  {
   "cell_type": "code",
   "execution_count": 29,
   "metadata": {},
   "outputs": [],
   "source": [
    "def extract_vals(sub_folder, grammar_sub_type, RELIGION_SCHEMA_TYPE):\n",
    "    \n",
    "    if not RELIGION_SCHEMA_TYPE:\n",
    "        with open(grammar_sub_type + '/saved_pickles/'+ sub_folder +'/occupation1_count.pickle', 'rb') as handle:\n",
    "            occupation1_count = pickle.load(handle)\n",
    "    \n",
    "    \n",
    "    with open(grammar_sub_type + '/saved_pickles/'+ sub_folder +'/occupation2_count.pickle', 'rb') as handle:\n",
    "        occupation2_count = pickle.load(handle) \n",
    "        \n",
    "    with open(grammar_sub_type + '/saved_pickles/'+ sub_folder +'/verb_count.pickle', 'rb') as handle:\n",
    "        verb_count = pickle.load(handle)    \n",
    "    \n",
    "    with open(grammar_sub_type + '/saved_pickles/'+ sub_folder +'/action_count.pickle', 'rb') as handle:\n",
    "        action_count = pickle.load(handle)\n",
    "        \n",
    "    if RELIGION_SCHEMA_TYPE:\n",
    "        with open(grammar_sub_type + '/saved_pickles/'+ sub_folder +'/religion_pair_count.pickle', 'rb') as handle:\n",
    "            religion_pair_count = pickle.load(handle)\n",
    "        \n",
    "        \n",
    "    if not RELIGION_SCHEMA_TYPE:\n",
    "        return occupation1_count, occupation2_count, verb_count, action_count\n",
    "    else:\n",
    "        return religion_pair_count, occupation2_count, verb_count, action_count\n",
    "    "
   ]
  },
  {
   "cell_type": "code",
   "execution_count": 30,
   "metadata": {},
   "outputs": [],
   "source": [
    "# sub_folder = \"Exploration\"\n",
    "sub_folder = \"Exploitation\"\n",
    "\n",
    "total_terminals = set()\n",
    "pronoun1 = ['his', 'her']\n",
    "pronoun2 = ['he', 'she']\n",
    "total_terminals.update(pronoun1)\n",
    "total_terminals.update(pronoun2)"
   ]
  },
  {
   "cell_type": "code",
   "execution_count": 31,
   "metadata": {},
   "outputs": [],
   "source": [
    "def get_single_religion_counts(init_dict):\n",
    "    single_religion_dict = dict()\n",
    "    for key in init_dict:\n",
    "        mod_key = sorted(key)\n",
    "        for k in mod_key:\n",
    "            if k in single_religion_dict:\n",
    "                single_religion_dict[k] += init_dict[key]\n",
    "            else:\n",
    "                single_religion_dict[k] = init_dict[key]\n",
    "    return single_religion_dict"
   ]
  },
  {
   "cell_type": "code",
   "execution_count": 32,
   "metadata": {},
   "outputs": [
    {
     "name": "stdout",
     "output_type": "stream",
     "text": [
      "39\n",
      "39\n",
      "4\n",
      "39\n",
      "Total Terminals: 86\n",
      "Terminal Symbol count Occupational Bias: 82\n"
     ]
    }
   ],
   "source": [
    "grammar_sub_type = \"Occupation-Schema\"\n",
    "RELIGION_SCHEMA_TYPE = False\n",
    "occupation1_count_oc_bias, occupation2_count_oc_bias, verb_count_oc_bias, action_count_oc_bias = extract_vals(sub_folder, grammar_sub_type, RELIGION_SCHEMA_TYPE)\n",
    "\n",
    "occupation1_count_len = (len(set(occupation1_count_oc_bias)))\n",
    "occupation2_count_len = (len(set(occupation2_count_oc_bias)))\n",
    "verb_count_len = (len(set(verb_count_oc_bias)))\n",
    "action_count_len = (len(set(action_count_oc_bias)))\n",
    "\n",
    "print(occupation1_count_len)\n",
    "print(occupation2_count_len)\n",
    "print(verb_count_len)\n",
    "print(action_count_len)\n",
    "\n",
    "total_terminals.update(occupation1_count_oc_bias.keys())\n",
    "total_terminals.update(occupation2_count_oc_bias.keys())\n",
    "total_terminals.update(verb_count_oc_bias.keys())\n",
    "total_terminals.update(action_count_oc_bias.keys())\n",
    "print(f\"Total Terminals: {len(total_terminals)}\")\n",
    "print(f\"Terminal Symbol count Occupational Bias: {occupation2_count_len + verb_count_len + action_count_len}\")"
   ]
  },
  {
   "cell_type": "code",
   "execution_count": 26,
   "metadata": {},
   "outputs": [
    {
     "name": "stdout",
     "output_type": "stream",
     "text": [
      "12\n",
      "43\n",
      "3\n",
      "59\n",
      "Total Terminals: 123\n",
      "Terminal Symbol count Religion: 117\n"
     ]
    }
   ],
   "source": [
    "grammar_sub_type = \"Religion-Schema\"\n",
    "RELIGION_SCHEMA_TYPE = True\n",
    "religion_pair_count, occupation2_count_religion, verb_count_religion, action_count_religion = extract_vals(sub_folder, grammar_sub_type, RELIGION_SCHEMA_TYPE)\n",
    "\n",
    "religion_single_count = get_single_religion_counts(religion_pair_count)\n",
    "\n",
    "religion_pair_count_len = (len(set(religion_single_count)))\n",
    "occupation2_count_len = (len(set(occupation2_count_religion)))\n",
    "verb_count_len = (len(set(verb_count_religion)))\n",
    "action_count_len = (len(set(action_count_religion)))\n",
    "\n",
    "print(religion_pair_count_len)\n",
    "print(occupation2_count_len)\n",
    "print(verb_count_len)\n",
    "print(action_count_len)\n",
    "\n",
    "total_terminals.update(religion_single_count.keys())\n",
    "total_terminals.update(occupation2_count_religion.keys())\n",
    "total_terminals.update(verb_count_religion.keys())\n",
    "total_terminals.update(action_count_religion.keys())\n",
    "# print(len(total_terminals))\n",
    "print(f\"Total Terminals: {len(total_terminals)}\")\n",
    "print(f\"Terminal Symbol count Religion: {religion_pair_count_len + occupation2_count_len + verb_count_len + action_count_len}\")"
   ]
  },
  {
   "cell_type": "code",
   "execution_count": 27,
   "metadata": {},
   "outputs": [
    {
     "name": "stdout",
     "output_type": "stream",
     "text": [
      "19\n",
      "21\n",
      "5\n",
      "59\n",
      "Total Terminals: 123\n",
      "Terminal Symbol count Ambiguous Gender: 104\n"
     ]
    }
   ],
   "source": [
    "grammar_sub_type = \"Ambiguous-Schema\"\n",
    "RELIGION_SCHEMA_TYPE = False\n",
    "occupation1_count_ambiguous_gender, occupation2_count_ambiguous_gender, verb_count_ambiguous_gender, action_count_ambiguous_gender = extract_vals(sub_folder, grammar_sub_type, RELIGION_SCHEMA_TYPE)\n",
    "\n",
    "occupation1_count_len = (len(set(occupation1_count_ambiguous_gender)))\n",
    "occupation2_count_len = (len(set(occupation2_count_ambiguous_gender)))\n",
    "verb_count_len = (len(set(verb_count_ambiguous_gender)))\n",
    "action_count_len = (len(set(action_count_ambiguous_gender)))\n",
    "\n",
    "print(occupation1_count_len)\n",
    "print(occupation2_count_len)\n",
    "print(verb_count_len)\n",
    "print(action_count_len)\n",
    "\n",
    "total_terminals.update(occupation1_count_ambiguous_gender.keys())\n",
    "total_terminals.update(occupation2_count_ambiguous_gender.keys())\n",
    "total_terminals.update(verb_count_ambiguous_gender.keys())\n",
    "total_terminals.update(action_count_ambiguous_gender.keys())\n",
    "print(f\"Total Terminals: {len(total_terminals)}\")\n",
    "print(f\"Terminal Symbol count Ambiguous Gender: {occupation1_count_len + occupation2_count_len + verb_count_len + action_count_len}\")"
   ]
  },
  {
   "cell_type": "code",
   "execution_count": null,
   "metadata": {},
   "outputs": [],
   "source": []
  }
 ],
 "metadata": {
  "kernelspec": {
   "display_name": "Python 3",
   "language": "python",
   "name": "python3"
  },
  "language_info": {
   "codemirror_mode": {
    "name": "ipython",
    "version": 3
   },
   "file_extension": ".py",
   "mimetype": "text/x-python",
   "name": "python",
   "nbconvert_exporter": "python",
   "pygments_lexer": "ipython3",
   "version": "3.7.3"
  }
 },
 "nbformat": 4,
 "nbformat_minor": 4
}
