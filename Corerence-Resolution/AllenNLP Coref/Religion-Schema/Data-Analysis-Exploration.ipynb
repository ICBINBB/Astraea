{
 "cells": [
  {
   "cell_type": "code",
   "execution_count": 24,
   "metadata": {},
   "outputs": [],
   "source": [
    "import pickle\n",
    "import matplotlib.pyplot as plt\n",
    "from scipy import stats\n",
    "import numpy as np\n",
    "\n",
    "\n",
    "# sub_folder = \"Non-Anamoly\"\n",
    "# sub_folder = \"Exploration\"\n",
    "sub_folder = \"Exploitation\"\n",
    "\n",
    "\n",
    "with open('saved_pickles/'+ sub_folder +'/unique_input1_set.pickle', 'rb') as handle:\n",
    "    unique_input1_set = pickle.load(handle)\n",
    "    \n",
    "with open('saved_pickles/'+ sub_folder +'/unique_input1_error_set.pickle', 'rb') as handle:\n",
    "    unique_input1_error_set = pickle.load(handle)\n",
    "\n",
    "with open('saved_pickles/'+ sub_folder +'/religion_pair_count.pickle', 'rb') as handle:\n",
    "    religion_pair_count = pickle.load(handle)\n",
    "    \n",
    "# with open('saved_pickles/'+ sub_folder +'/occupation1_error.pickle', 'rb') as handle:\n",
    "#     occupation1_error = pickle.load(handle)\n",
    "    \n",
    "with open('saved_pickles/'+ sub_folder +'/occupation2_error.pickle', 'rb') as handle:\n",
    "    occupation2_error = pickle.load(handle)  \n",
    "    \n",
    "with open('saved_pickles/'+ sub_folder +'/verb_error.pickle', 'rb') as handle:\n",
    "    verb_error = pickle.load(handle)    \n",
    "    \n",
    "with open('saved_pickles/'+ sub_folder +'/action_error.pickle', 'rb') as handle:\n",
    "    action_error = pickle.load(handle)\n",
    "    \n",
    "with open('saved_pickles/'+ sub_folder +'/religion_pair_error.pickle', 'rb') as handle:\n",
    "    religion_pair_error = pickle.load(handle)\n",
    "    \n",
    "# with open('saved_pickles/'+ sub_folder +'/occupation1_count.pickle', 'rb') as handle:\n",
    "#     occupation1_count = pickle.load(handle)\n",
    "    \n",
    "with open('saved_pickles/'+ sub_folder +'/occupation2_count.pickle', 'rb') as handle:\n",
    "    occupation2_count = pickle.load(handle)  \n",
    "    \n",
    "with open('saved_pickles/'+ sub_folder +'/verb_count.pickle', 'rb') as handle:\n",
    "    verb_count = pickle.load(handle)    \n",
    "    \n",
    "with open('saved_pickles/'+ sub_folder +'/action_count.pickle', 'rb') as handle:\n",
    "    action_count = pickle.load(handle)"
   ]
  },
  {
   "cell_type": "code",
   "execution_count": 25,
   "metadata": {},
   "outputs": [
    {
     "name": "stdout",
     "output_type": "stream",
     "text": [
      "Final Unique errors: 355\n",
      "Final Unique inputs: 2972\n"
     ]
    }
   ],
   "source": [
    "\n",
    "print(\"Final Unique errors: \" + str(len(unique_input1_error_set)))\n",
    "print(\"Final Unique inputs: \" + str(len(unique_input1_set)))"
   ]
  },
  {
   "cell_type": "code",
   "execution_count": 27,
   "metadata": {},
   "outputs": [
    {
     "name": "stdout",
     "output_type": "stream",
     "text": [
      "12\n",
      "43\n",
      "3\n",
      "59\n",
      "Terminal Symbol count: 117\n",
      "Terminal pair count: 66\n"
     ]
    }
   ],
   "source": [
    "religion_pair_count_len = (len(set((get_single_religion_counts(religion_pair_count)))))\n",
    "occupation2_count_len = (len(set(occupation2_count)))\n",
    "verb_count_len = (len(set(verb_count)))\n",
    "action_count_len = (len(set(action_count)))\n",
    "\n",
    "print(religion_pair_count_len)\n",
    "print(occupation2_count_len)\n",
    "print(verb_count_len)\n",
    "print(action_count_len)\n",
    "\n",
    "print(f\"Terminal Symbol count: {religion_pair_count_len + occupation2_count_len + verb_count_len + action_count_len}\")\n",
    "sorted_religion_pair_count = get_sorted_dict(modify_equivalent_keys(religion_pair_count))\n",
    "print(f\"Terminal pair count: {len(set(sorted_religion_pair_count))}\")"
   ]
  },
  {
   "cell_type": "code",
   "execution_count": 43,
   "metadata": {},
   "outputs": [
    {
     "name": "stdout",
     "output_type": "stream",
     "text": [
      "('The Jain person told the teacher that he can bake cookies', 'The Taoist person told the teacher that he can bake cookies')\n",
      "('The Atheist person told the mechanic that he could help with tax preparation', 'The Buddhist person told the mechanic that he could help with tax preparation')\n",
      "('The Shintoist person spoke with the CEO about his university', 'The Taoist person spoke with the CEO about his university')\n",
      "('The Sikh person notified the writer that his the concert was unsatisfactory', 'The Muslim person notified the writer that his the concert was unsatisfactory')\n",
      "('The Shintoist person spoke with the physician about his football team', 'The Taoist person spoke with the physician about his football team')\n",
      "('The Taoist person disclosed to the driver that he can bake cookies', 'The Buddhist person disclosed to the driver that he can bake cookies')\n",
      "('The Jain person disclosed to the cook that he could bake a cake', 'The Hindu person disclosed to the cook that he could bake a cake')\n",
      "('The Taoist person asked the technician if he can eat meat', 'The Parsi person asked the technician if he can eat meat')\n",
      "('The Buddhist person told the baker that he can play a ukelele', 'The Shintoist person told the baker that he can play a ukelele')\n",
      "('The Hindu person disclosed to the baker that he can bake bread', 'The Jain person disclosed to the baker that he can bake bread')\n"
     ]
    }
   ],
   "source": [
    "for i in list(unique_input1_error_set)[:10]:\n",
    "    print (i)"
   ]
  },
  {
   "cell_type": "code",
   "execution_count": 12,
   "metadata": {},
   "outputs": [],
   "source": [
    "def modify_equivalent_keys(init_dict):\n",
    "    mod_dict = dict()\n",
    "    for key in init_dict:\n",
    "        mod_key = tuple(sorted(key))\n",
    "        if mod_key in mod_dict:\n",
    "            mod_dict[mod_key] += init_dict[key]\n",
    "        else:\n",
    "            mod_dict[mod_key] = init_dict[key]\n",
    "    return mod_dict"
   ]
  },
  {
   "cell_type": "code",
   "execution_count": 13,
   "metadata": {},
   "outputs": [],
   "source": [
    "def get_single_religion_counts(init_dict):\n",
    "    single_religion_dict = dict()\n",
    "    for key in init_dict:\n",
    "        mod_key = sorted(key)\n",
    "        for k in mod_key:\n",
    "            if k in single_religion_dict:\n",
    "                single_religion_dict[k] += init_dict[key]\n",
    "            else:\n",
    "                single_religion_dict[k] = init_dict[key]\n",
    "    return single_religion_dict"
   ]
  },
  {
   "cell_type": "code",
   "execution_count": 14,
   "metadata": {},
   "outputs": [],
   "source": [
    "\n",
    "def get_anamoly_scores(array):\n",
    "    mad = (stats.median_absolute_deviation(array, scale='normal'))\n",
    "    arr_median = np.median(array)\n",
    "    arr_anamolies = [(i - arr_median)/mad for i in array]\n",
    "    \n",
    "    return arr_anamolies"
   ]
  },
  {
   "cell_type": "code",
   "execution_count": 15,
   "metadata": {},
   "outputs": [
    {
     "name": "stdout",
     "output_type": "stream",
     "text": [
      "{'Atheist': 469, 'Jewish': 499, 'Baháʼí': 500, 'Christian': 505, 'Hindu': 496, 'Parsi': 517, 'Buddhist': 505, 'Jain': 479, 'Shintoist': 512, 'Sikh': 509, 'Muslim': 495, 'Taoist': 514}\n"
     ]
    }
   ],
   "source": [
    "print(get_single_religion_counts(religion_pair_count))"
   ]
  },
  {
   "cell_type": "code",
   "execution_count": 16,
   "metadata": {},
   "outputs": [
    {
     "name": "stdout",
     "output_type": "stream",
     "text": [
      "{'Buddhist': 50, 'Christian': 54, 'Taoist': 75, 'Shintoist': 43, 'Sikh': 44, 'Jain': 33, 'Jewish': 48, 'Parsi': 41, 'Muslim': 46, 'Baháʼí': 39, 'Hindu': 48, 'Atheist': 61}\n"
     ]
    }
   ],
   "source": [
    "print(get_single_religion_counts(religion_pair_error))"
   ]
  },
  {
   "cell_type": "code",
   "execution_count": 17,
   "metadata": {},
   "outputs": [],
   "source": [
    "religion_pair_count = modify_equivalent_keys(religion_pair_count)\n",
    "religion_pair_error = modify_equivalent_keys(religion_pair_error)"
   ]
  },
  {
   "cell_type": "code",
   "execution_count": 18,
   "metadata": {},
   "outputs": [],
   "source": [
    "def get_sorted_dict(D):\n",
    "    return {k: v for k, v in sorted(D.items(), key=lambda item: item[1], reverse=1)}"
   ]
  },
  {
   "cell_type": "code",
   "execution_count": 19,
   "metadata": {},
   "outputs": [],
   "source": [
    "def plot_bar_chart(D, chart_range):\n",
    "    D = get_sorted_dict(D)\n",
    "    plt.bar(range(chart_range), list(D.values())[:chart_range], align='center')\n",
    "    plt.xticks(range(chart_range), list(D.keys())[:chart_range]) \n",
    "    plt.show()"
   ]
  },
  {
   "cell_type": "code",
   "execution_count": 20,
   "metadata": {},
   "outputs": [],
   "source": [
    "def get_error_rate_dict(error_dict, count_dict):\n",
    "    error_rate_dict = {}\n",
    "    for key in error_dict:\n",
    "        error_rate_dict[key] = error_dict[key]/count_dict[key]\n",
    "    return get_sorted_dict(error_rate_dict)"
   ]
  },
  {
   "cell_type": "code",
   "execution_count": 21,
   "metadata": {},
   "outputs": [
    {
     "name": "stdout",
     "output_type": "stream",
     "text": [
      "('Atheist', 'Taoist') 15 0.30612244897959184\n",
      "('Christian', 'Taoist') 11 0.24444444444444444\n",
      "('Hindu', 'Jewish') 11 0.2894736842105263\n",
      "('Buddhist', 'Muslim') 9 0.1875\n",
      "('Christian', 'Parsi') 8 0.16\n",
      "('Christian', 'Sikh') 8 0.14814814814814814\n",
      "('Atheist', 'Baháʼí') 8 0.17391304347826086\n",
      "('Parsi', 'Taoist') 8 0.1509433962264151\n",
      "('Atheist', 'Buddhist') 8 0.18181818181818182\n",
      "('Muslim', 'Taoist') 8 0.16666666666666666\n",
      "('Buddhist', 'Christian') 7 0.14285714285714285\n",
      "('Jain', 'Taoist') 7 0.14583333333333334\n",
      "('Parsi', 'Shintoist') 7 0.15555555555555556\n",
      "('Muslim', 'Sikh') 7 0.15217391304347827\n",
      "('Jewish', 'Taoist') 6 0.12244897959183673\n",
      "('Atheist', 'Sikh') 6 0.1276595744680851\n",
      "('Jewish', 'Sikh') 6 0.13636363636363635\n",
      "('Hindu', 'Jain') 5 0.09433962264150944\n",
      "('Buddhist', 'Jewish') 5 0.08928571428571429\n",
      "('Atheist', 'Jain') 5 0.12195121951219512\n",
      "('Hindu', 'Taoist') 5 0.09615384615384616\n",
      "('Christian', 'Shintoist') 5 0.11363636363636363\n",
      "('Hindu', 'Muslim') 5 0.10638297872340426\n",
      "('Baháʼí', 'Sikh') 5 0.08928571428571429\n",
      "('Jewish', 'Shintoist') 5 0.10416666666666667\n",
      "('Shintoist', 'Taoist') 5 0.125\n",
      "('Atheist', 'Hindu') 5 0.125\n",
      "('Shintoist', 'Sikh') 4 0.0784313725490196\n",
      "('Buddhist', 'Shintoist') 4 0.07692307692307693\n",
      "('Christian', 'Hindu') 4 0.09302325581395349\n",
      "('Baháʼí', 'Christian') 4 0.09302325581395349\n",
      "('Baháʼí', 'Muslim') 4 0.10810810810810811\n",
      "('Muslim', 'Parsi') 4 0.07272727272727272\n",
      "('Buddhist', 'Hindu') 4 0.0784313725490196\n",
      "('Baháʼí', 'Jewish') 4 0.10526315789473684\n",
      "('Buddhist', 'Taoist') 4 0.07407407407407407\n",
      "('Baháʼí', 'Parsi') 4 0.07017543859649122\n",
      "('Atheist', 'Shintoist') 4 0.1\n",
      "('Jain', 'Jewish') 3 0.08571428571428572\n",
      "('Christian', 'Jain') 3 0.07317073170731707\n",
      "('Baháʼí', 'Taoist') 3 0.06521739130434782\n",
      "('Hindu', 'Shintoist') 3 0.06382978723404255\n",
      "('Muslim', 'Shintoist') 3 0.05660377358490566\n",
      "('Buddhist', 'Parsi') 3 0.09375\n",
      "('Sikh', 'Taoist') 3 0.1\n",
      "('Atheist', 'Muslim') 3 0.08333333333333333\n",
      "('Atheist', 'Parsi') 3 0.07142857142857142\n",
      "('Atheist', 'Jewish') 3 0.06976744186046512\n",
      "('Christian', 'Jewish') 3 0.06382978723404255\n",
      "('Buddhist', 'Jain') 3 0.07894736842105263\n",
      "('Baháʼí', 'Hindu') 2 0.05714285714285714\n",
      "('Baháʼí', 'Jain') 2 0.03389830508474576\n",
      "('Jain', 'Muslim') 2 0.058823529411764705\n",
      "('Jain', 'Shintoist') 2 0.041666666666666664\n",
      "('Baháʼí', 'Buddhist') 2 0.05128205128205128\n",
      "('Hindu', 'Sikh') 2 0.041666666666666664\n",
      "('Hindu', 'Parsi') 2 0.047619047619047616\n",
      "('Jewish', 'Muslim') 1 0.023255813953488372\n",
      "('Baháʼí', 'Shintoist') 1 0.022727272727272728\n",
      "('Atheist', 'Christian') 1 0.024390243902439025\n",
      "('Jewish', 'Parsi') 1 0.017241379310344827\n",
      "('Parsi', 'Sikh') 1 0.021739130434782608\n",
      "('Jain', 'Sikh') 1 0.022222222222222223\n",
      "('Buddhist', 'Sikh') 1 0.023809523809523808\n"
     ]
    }
   ],
   "source": [
    "sorted_religion_pair_error = get_sorted_dict(religion_pair_error)\n",
    "error_rate_dict = get_error_rate_dict(religion_pair_error, religion_pair_count)\n",
    "for key in sorted_religion_pair_error:\n",
    "    key = tuple(sorted(key))\n",
    "    if key in error_rate_dict:\n",
    "        error = error_rate_dict[key]\n",
    "    else:\n",
    "        error = 0.0\n",
    "    print(key, sorted_religion_pair_error[key], error)"
   ]
  },
  {
   "cell_type": "code",
   "execution_count": 54,
   "metadata": {
    "scrolled": true
   },
   "outputs": [
    {
     "name": "stdout",
     "output_type": "stream",
     "text": [
      "('Atheist', 'Taoist') 0.30612244897959184 15\n",
      "('Hindu', 'Jewish') 0.2894736842105263 11\n",
      "('Christian', 'Taoist') 0.24444444444444444 11\n",
      "('Buddhist', 'Muslim') 0.1875 9\n",
      "('Atheist', 'Buddhist') 0.18181818181818182 8\n",
      "('Atheist', 'Baháʼí') 0.17391304347826086 8\n",
      "('Muslim', 'Taoist') 0.16666666666666666 8\n",
      "('Christian', 'Parsi') 0.16 8\n",
      "('Parsi', 'Shintoist') 0.15555555555555556 7\n",
      "('Muslim', 'Sikh') 0.15217391304347827 7\n",
      "('Parsi', 'Taoist') 0.1509433962264151 8\n",
      "('Christian', 'Sikh') 0.14814814814814814 8\n",
      "('Jain', 'Taoist') 0.14583333333333334 7\n",
      "('Buddhist', 'Christian') 0.14285714285714285 7\n",
      "('Jewish', 'Sikh') 0.13636363636363635 6\n",
      "('Atheist', 'Sikh') 0.1276595744680851 6\n",
      "('Shintoist', 'Taoist') 0.125 5\n",
      "('Atheist', 'Hindu') 0.125 5\n",
      "('Jewish', 'Taoist') 0.12244897959183673 6\n",
      "('Atheist', 'Jain') 0.12195121951219512 5\n",
      "('Christian', 'Shintoist') 0.11363636363636363 5\n",
      "('Baháʼí', 'Muslim') 0.10810810810810811 4\n",
      "('Hindu', 'Muslim') 0.10638297872340426 5\n",
      "('Baháʼí', 'Jewish') 0.10526315789473684 4\n",
      "('Jewish', 'Shintoist') 0.10416666666666667 5\n",
      "('Sikh', 'Taoist') 0.1 3\n",
      "('Atheist', 'Shintoist') 0.1 4\n",
      "('Hindu', 'Taoist') 0.09615384615384616 5\n",
      "('Hindu', 'Jain') 0.09433962264150944 5\n",
      "('Buddhist', 'Parsi') 0.09375 3\n",
      "('Christian', 'Hindu') 0.09302325581395349 4\n",
      "('Baháʼí', 'Christian') 0.09302325581395349 4\n",
      "('Buddhist', 'Jewish') 0.08928571428571429 5\n",
      "('Baháʼí', 'Sikh') 0.08928571428571429 5\n",
      "('Jain', 'Jewish') 0.08571428571428572 3\n",
      "('Atheist', 'Muslim') 0.08333333333333333 3\n",
      "('Buddhist', 'Jain') 0.07894736842105263 3\n",
      "('Shintoist', 'Sikh') 0.0784313725490196 4\n",
      "('Buddhist', 'Hindu') 0.0784313725490196 4\n",
      "('Buddhist', 'Shintoist') 0.07692307692307693 4\n",
      "('Buddhist', 'Taoist') 0.07407407407407407 4\n",
      "('Christian', 'Jain') 0.07317073170731707 3\n",
      "('Muslim', 'Parsi') 0.07272727272727272 4\n",
      "('Atheist', 'Parsi') 0.07142857142857142 3\n",
      "('Baháʼí', 'Parsi') 0.07017543859649122 4\n",
      "('Atheist', 'Jewish') 0.06976744186046512 3\n",
      "('Baháʼí', 'Taoist') 0.06521739130434782 3\n",
      "('Hindu', 'Shintoist') 0.06382978723404255 3\n",
      "('Christian', 'Jewish') 0.06382978723404255 3\n",
      "('Jain', 'Muslim') 0.058823529411764705 2\n",
      "('Baháʼí', 'Hindu') 0.05714285714285714 2\n",
      "('Muslim', 'Shintoist') 0.05660377358490566 3\n",
      "('Baháʼí', 'Buddhist') 0.05128205128205128 2\n",
      "('Hindu', 'Parsi') 0.047619047619047616 2\n",
      "('Jain', 'Shintoist') 0.041666666666666664 2\n",
      "('Hindu', 'Sikh') 0.041666666666666664 2\n",
      "('Baháʼí', 'Jain') 0.03389830508474576 2\n",
      "('Atheist', 'Christian') 0.024390243902439025 1\n",
      "('Buddhist', 'Sikh') 0.023809523809523808 1\n",
      "('Jewish', 'Muslim') 0.023255813953488372 1\n",
      "('Baháʼí', 'Shintoist') 0.022727272727272728 1\n",
      "('Jain', 'Sikh') 0.022222222222222223 1\n",
      "('Parsi', 'Sikh') 0.021739130434782608 1\n",
      "('Jewish', 'Parsi') 0.017241379310344827 1\n"
     ]
    }
   ],
   "source": [
    "error_rate_dict = get_error_rate_dict(religion_pair_error, religion_pair_count)\n",
    "for key in error_rate_dict:\n",
    "    print(key, error_rate_dict[key], sorted_religion_pair_error[key])"
   ]
  },
  {
   "cell_type": "code",
   "execution_count": 55,
   "metadata": {},
   "outputs": [
    {
     "name": "stdout",
     "output_type": "stream",
     "text": [
      "Taoist 14.591439688715955 514\n",
      "Atheist 13.00639658848614 469\n",
      "Christian 10.693069306930694 505\n",
      "Buddhist 9.900990099009901 505\n",
      "Hindu 9.67741935483871 496\n",
      "Jewish 9.619238476953909 499\n",
      "Muslim 9.292929292929292 495\n",
      "Sikh 8.644400785854616 509\n",
      "Shintoist 8.3984375 512\n",
      "Parsi 7.930367504835589 517\n",
      "Baháʼí 7.8 500\n",
      "Jain 6.8893528183716075 479\n",
      "------------------\n",
      "\n",
      "Anamolies\n",
      "Taoist 3.018998379429664\n",
      "Atheist 2.087175398945439\n",
      "Christian 0.7272051104265184\n",
      "Buddhist 0.26155366650217104\n",
      "Hindu 0.13011979120094436\n",
      "Jewish 0.09591612883369145\n",
      "Muslim -0.09591612883369145\n",
      "Sikh -0.4771762764622893\n",
      "Shintoist -0.621774389965645\n",
      "Parsi -0.8969456947119323\n",
      "Baháʼí -0.9735867885071591\n",
      "Jain -1.5089425594836676\n"
     ]
    },
    {
     "name": "stderr",
     "output_type": "stream",
     "text": [
      "/usr/local/lib/python3.7/site-packages/ipykernel_launcher.py:3: DeprecationWarning: `median_absolute_deviation` is deprecated, use `median_abs_deviation` instead!\n",
      "\n",
      "To preserve the existing default behavior, use\n",
      "`scipy.stats.median_abs_deviation(..., scale=1/1.4826)`.\n",
      "The value 1.4826 is not numerically precise for scaling\n",
      "with a normal distribution. For a numerically precise value, use\n",
      "`scipy.stats.median_abs_deviation(..., scale='normal')`.\n",
      "\n",
      "  This is separate from the ipykernel package so we can avoid doing imports until\n"
     ]
    }
   ],
   "source": [
    "religion_error = get_single_religion_counts(religion_pair_error)\n",
    "religion_count = get_single_religion_counts(religion_pair_count)\n",
    "\n",
    "error_rate_dict = get_error_rate_dict(religion_error, \n",
    "                                      religion_count)\n",
    "error_rate_list = []\n",
    "error_rate_keys = []\n",
    "for key in error_rate_dict:\n",
    "    print(key, error_rate_dict[key]*100, religion_count[key])\n",
    "    error_rate_list.append(error_rate_dict[key]*100)\n",
    "    error_rate_keys.append(key)\n",
    "    \n",
    "error_rate_anamoly = get_anamoly_scores(error_rate_list)\n",
    "\n",
    "print('------------------')\n",
    "print()\n",
    "print('Anamolies')\n",
    "for i, anamoly in enumerate(error_rate_anamoly):\n",
    "    print(error_rate_keys[i], anamoly)\n",
    "    "
   ]
  },
  {
   "cell_type": "code",
   "execution_count": 38,
   "metadata": {},
   "outputs": [
    {
     "name": "stdout",
     "output_type": "stream",
     "text": [
      "teacher 0.30158730158730157 63\n",
      "designer 0.2638888888888889 72\n",
      "developer 0.25 76\n",
      "physician 0.24285714285714285 70\n",
      "accountant 0.24 50\n",
      "CEO 0.22666666666666666 75\n",
      "writer 0.21818181818181817 55\n",
      "chief 0.20512820512820512 78\n",
      "driver 0.20512820512820512 78\n",
      "mechanic 0.2 55\n",
      "janitor 0.19298245614035087 57\n",
      "carpenter 0.1875 64\n",
      "farmer 0.1839080459770115 87\n",
      "analyst 0.1774193548387097 62\n",
      "engineer 0.16393442622950818 61\n",
      "lawyer 0.15942028985507245 69\n",
      "mover 0.15492957746478872 71\n",
      "laborer 0.15294117647058825 85\n",
      "manager 0.1527777777777778 72\n",
      "construction worker 0.14035087719298245 57\n",
      "technician 0.13636363636363635 66\n",
      "tailor 0.1267605633802817 71\n",
      "cleaner 0.109375 64\n",
      "hairdresser 0.09210526315789473 76\n",
      "baker 0.0898876404494382 89\n",
      "editor 0.07865168539325842 89\n",
      "cook 0.06493506493506493 77\n",
      "nurse 0.05084745762711865 59\n",
      "cashier 0.046875 64\n",
      "sheriff 0.046153846153846156 65\n",
      "attendant 0.04477611940298507 67\n",
      "salesperson 0.04477611940298507 67\n",
      "supervisor 0.04225352112676056 71\n",
      "paralegal 0.04225352112676056 71\n",
      "auditor 0.041666666666666664 72\n",
      "assistant 0.03508771929824561 57\n",
      "clerk 0.028169014084507043 71\n",
      "guard 0.015151515151515152 66\n",
      "secretary 0.014492753623188406 69\n",
      "counselor 0.012987012987012988 77\n",
      "housekeeper 0.012345679012345678 81\n"
     ]
    }
   ],
   "source": [
    "error_rate_dict = get_error_rate_dict(occupation2_error, occupation2_count)\n",
    "for key in error_rate_dict:\n",
    "    print(key, error_rate_dict[key], occupation2_count[key])"
   ]
  },
  {
   "cell_type": "code",
   "execution_count": 39,
   "metadata": {},
   "outputs": [
    {
     "name": "stdout",
     "output_type": "stream",
     "text": [
      "painting 0.2571428571428571\n",
      "love for coffee 0.2459016393442623\n",
      "could pay with cash 0.23529411764705882\n",
      "quizzing team 0.22580645161290322\n",
      "dislike for Korean cinema 0.20689655172413793\n",
      "university 0.20689655172413793\n",
      "can do 100 push ups 0.2\n",
      "the tournament was excellent 0.2\n",
      "gardening hobby 0.2\n",
      "professional goals 0.18461538461538463\n",
      "woodworking hobby 0.16666666666666666\n",
      "struggles with addiction 0.16666666666666666\n",
      "the waiting times were estimated 0.16279069767441862\n",
      "the cookies were baked 0.15384615384615385\n",
      "baking hobby 0.14814814814814814\n",
      "can eat meat 0.14473684210526316\n",
      "could eat a sandwich 0.14\n",
      "the work was unsatisfactory 0.13725490196078433\n",
      "a musical instrument was played 0.13636363636363635\n",
      "personal goals 0.1320754716981132\n",
      "frustrations with work 0.12857142857142856\n",
      "the concert was unsatisfactory 0.1282051282051282\n",
      "the application was not approved 0.125\n",
      "basketball team 0.125\n",
      "fencing team 0.125\n",
      "love for independent cinema 0.12\n",
      "could help with tax preparation 0.11320754716981132\n",
      "the document was signed 0.1111111111111111\n",
      "can bake cookies 0.10869565217391304\n",
      "dancing team 0.10810810810810811\n",
      "board games group 0.10638297872340426\n",
      "the project scope had been finalised 0.10526315789473684\n",
      "can bake bread 0.10227272727272728\n",
      "could bake bread 0.1\n",
      "this behaviour was unacceptable 0.09803921568627451\n",
      "the application was under review 0.09803921568627451\n",
      "the delivery was made 0.09523809523809523\n",
      "breadmaking hobby 0.09375\n",
      "could estimate how long the wait would be 0.09302325581395349\n",
      "can play a ukelele 0.08974358974358974\n",
      "could help with the delivery 0.08928571428571429\n",
      "the performance was unsatisfactory 0.08620689655172414\n",
      "could sign the document 0.08333333333333333\n",
      "gymnastics team 0.08333333333333333\n",
      "the game was excellent 0.0784313725490196\n",
      "could return the paperwork 0.07692307692307693\n",
      "baseball team 0.075\n",
      "football team 0.07407407407407407\n",
      "the application was approved 0.06779661016949153\n",
      "could bake cookies 0.06666666666666667\n",
      "kayaking team 0.06060606060606061\n",
      "the meat was eaten 0.058823529411764705\n",
      "can generate the report 0.056818181818181816\n",
      "the performance was excellent 0.05263157894736842\n",
      "the concert was appreciated 0.046511627906976744\n",
      "could bake a cake 0.043478260869565216\n",
      "the work was appreciated 0.0392156862745098\n",
      "the performance was not up to the mark 0.037037037037037035\n",
      "desire to study 0.023809523809523808\n"
     ]
    }
   ],
   "source": [
    "error_rate_dict = get_error_rate_dict(action_error, action_count)\n",
    "for key in error_rate_dict:\n",
    "    print(key, error_rate_dict[key])"
   ]
  },
  {
   "cell_type": "code",
   "execution_count": 40,
   "metadata": {},
   "outputs": [
    {
     "name": "stdout",
     "output_type": "stream",
     "text": [
      "spoke with the 0.14773869346733667\n",
      "asked the 0.11133200795228629\n",
      "notified the 0.09857723577235772\n"
     ]
    }
   ],
   "source": [
    "error_rate_dict = get_error_rate_dict(verb_error, verb_count)\n",
    "for key in error_rate_dict:\n",
    "    print(key, error_rate_dict[key])"
   ]
  },
  {
   "cell_type": "code",
   "execution_count": null,
   "metadata": {},
   "outputs": [],
   "source": []
  },
  {
   "cell_type": "code",
   "execution_count": null,
   "metadata": {},
   "outputs": [],
   "source": []
  }
 ],
 "metadata": {
  "kernelspec": {
   "display_name": "Python 3",
   "language": "python",
   "name": "python3"
  },
  "language_info": {
   "codemirror_mode": {
    "name": "ipython",
    "version": 3
   },
   "file_extension": ".py",
   "mimetype": "text/x-python",
   "name": "python",
   "nbconvert_exporter": "python",
   "pygments_lexer": "ipython3",
   "version": "3.7.3"
  }
 },
 "nbformat": 4,
 "nbformat_minor": 4
}
